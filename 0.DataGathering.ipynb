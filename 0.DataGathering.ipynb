{
 "cells": [
  {
   "cell_type": "markdown",
   "id": "valid-prevention",
   "metadata": {},
   "source": [
    "## Data gathering"
   ]
  },
  {
   "cell_type": "markdown",
   "id": "outdoor-charger",
   "metadata": {},
   "source": [
    "First step of this analysis will be stock prices data gathering from one or more sources."
   ]
  },
  {
   "cell_type": "raw",
   "id": "yellow-persian",
   "metadata": {},
   "source": [
    "First step of this analysis will be stock prices data gathering from one or more sources."
   ]
  },
  {
   "cell_type": "markdown",
   "id": "sitting-recall",
   "metadata": {},
   "source": [
    "By now, only one source will be used: Yahoo! Finance.\n",
    "More sources of data can be added later on, if additional data features from there would be considered to add useful information to the analysis."
   ]
  },
  {
   "cell_type": "markdown",
   "id": "minute-skiing",
   "metadata": {},
   "source": [
    "Gatering data from Yahoo Finance"
   ]
  },
  {
   "cell_type": "markdown",
   "id": "fatty-highway",
   "metadata": {},
   "source": [
    "Target symbols:"
   ]
  },
  {
   "cell_type": "code",
   "execution_count": 1,
   "id": "considered-sherman",
   "metadata": {},
   "outputs": [],
   "source": [
    "ibm = 'IBM' \n",
    "aapl = 'AAPL'\n",
    "amzn = 'AMZN'\n",
    "googl = 'GOOGL'"
   ]
  },
  {
   "cell_type": "code",
   "execution_count": 2,
   "id": "unique-precipitation",
   "metadata": {},
   "outputs": [],
   "source": [
    "mnemonics = [ibm, aapl, amzn, googl]"
   ]
  },
  {
   "cell_type": "code",
   "execution_count": 3,
   "id": "amber-world",
   "metadata": {},
   "outputs": [],
   "source": [
    "import pandas as pd\n",
    "import datetime"
   ]
  },
  {
   "cell_type": "markdown",
   "id": "addressed-receiver",
   "metadata": {},
   "source": [
    "Setting dataset record start date and end date:\n",
    "* start will be just set to 1st Genuary 1900, in order to retrieve the logest possible time series. A more proper time series data trimming would be conducted later in the analysis;\n",
    "* end time will be today date."
   ]
  },
  {
   "cell_type": "code",
   "execution_count": 3,
   "id": "indian-firewall",
   "metadata": {},
   "outputs": [],
   "source": [
    "import datetime"
   ]
  },
  {
   "cell_type": "code",
   "execution_count": 4,
   "id": "suspended-bread",
   "metadata": {},
   "outputs": [],
   "source": [
    "start = datetime.datetime(1900, 1, 1)\n",
    "end = datetime.date.today()"
   ]
  },
  {
   "cell_type": "markdown",
   "id": "surrounded-uruguay",
   "metadata": {},
   "source": [
    "## Gathering data from Yahoo! Finance"
   ]
  },
  {
   "cell_type": "markdown",
   "id": "consistent-hardwood",
   "metadata": {},
   "source": [
    "Downloading data from Yahoo! Finance."
   ]
  },
  {
   "cell_type": "code",
   "execution_count": 4,
   "id": "productive-consistency",
   "metadata": {},
   "outputs": [],
   "source": [
    "# yfinance is a Yahoo! Finance market data downloader,\n",
    "# that allows to access Yahoo finance data after Yahoo\n",
    "# has discontinued support for this API\n",
    "import yfinance as yf"
   ]
  },
  {
   "cell_type": "code",
   "execution_count": 5,
   "id": "polar-ceiling",
   "metadata": {},
   "outputs": [
    {
     "name": "stdout",
     "output_type": "stream",
     "text": [
      "[*********************100%***********************]  4 of 4 completed\n"
     ]
    }
   ],
   "source": [
    "df_stocks = yf.download(mnemonics)"
   ]
  },
  {
   "cell_type": "markdown",
   "id": "unlike-return",
   "metadata": {},
   "source": [
    "Iterating through the full dataframe"
   ]
  },
  {
   "cell_type": "code",
   "execution_count": 6,
   "id": "multiple-clone",
   "metadata": {},
   "outputs": [],
   "source": [
    "# iteration variable\n",
    "i=0"
   ]
  },
  {
   "cell_type": "markdown",
   "id": "mediterranean-quantum",
   "metadata": {},
   "source": [
    "#### ***IBM*** data:"
   ]
  },
  {
   "cell_type": "code",
   "execution_count": 7,
   "id": "exposed-insider",
   "metadata": {},
   "outputs": [],
   "source": [
    "df_ibm = df_stocks.iloc[:, df_stocks.columns.get_level_values(1)==mnemonics[i]]"
   ]
  },
  {
   "cell_type": "code",
   "execution_count": 8,
   "id": "outer-italian",
   "metadata": {},
   "outputs": [],
   "source": [
    "df_ibm = df_ibm.droplevel(axis=1, level=1)"
   ]
  },
  {
   "cell_type": "code",
   "execution_count": 9,
   "id": "illegal-creek",
   "metadata": {},
   "outputs": [],
   "source": [
    "IBM_ticker = yf.Ticker(mnemonics[i])"
   ]
  },
  {
   "cell_type": "code",
   "execution_count": 10,
   "id": "explicit-dragon",
   "metadata": {},
   "outputs": [],
   "source": [
    "ibm_actions = IBM_ticker.actions"
   ]
  },
  {
   "cell_type": "code",
   "execution_count": 11,
   "id": "circular-bachelor",
   "metadata": {},
   "outputs": [],
   "source": [
    "ibm_div = ibm_actions['Dividends']"
   ]
  },
  {
   "cell_type": "code",
   "execution_count": 12,
   "id": "exciting-restriction",
   "metadata": {},
   "outputs": [],
   "source": [
    "ibm_spl = ibm_actions['Stock Splits']"
   ]
  },
  {
   "cell_type": "code",
   "execution_count": 13,
   "id": "reflected-reward",
   "metadata": {},
   "outputs": [],
   "source": [
    "df_ibm = pd.concat([df_ibm, ibm_div, ibm_spl], axis=1)"
   ]
  },
  {
   "cell_type": "code",
   "execution_count": 14,
   "id": "fixed-wayne",
   "metadata": {},
   "outputs": [
    {
     "data": {
      "text/html": [
       "<div>\n",
       "<style scoped>\n",
       "    .dataframe tbody tr th:only-of-type {\n",
       "        vertical-align: middle;\n",
       "    }\n",
       "\n",
       "    .dataframe tbody tr th {\n",
       "        vertical-align: top;\n",
       "    }\n",
       "\n",
       "    .dataframe thead th {\n",
       "        text-align: right;\n",
       "    }\n",
       "</style>\n",
       "<table border=\"1\" class=\"dataframe\">\n",
       "  <thead>\n",
       "    <tr style=\"text-align: right;\">\n",
       "      <th></th>\n",
       "      <th>Adj Close</th>\n",
       "      <th>Close</th>\n",
       "      <th>High</th>\n",
       "      <th>Low</th>\n",
       "      <th>Open</th>\n",
       "      <th>Volume</th>\n",
       "      <th>Dividends</th>\n",
       "      <th>Stock Splits</th>\n",
       "    </tr>\n",
       "    <tr>\n",
       "      <th>Date</th>\n",
       "      <th></th>\n",
       "      <th></th>\n",
       "      <th></th>\n",
       "      <th></th>\n",
       "      <th></th>\n",
       "      <th></th>\n",
       "      <th></th>\n",
       "      <th></th>\n",
       "    </tr>\n",
       "  </thead>\n",
       "  <tbody>\n",
       "    <tr>\n",
       "      <th>1962-01-02</th>\n",
       "      <td>1.858243</td>\n",
       "      <td>7.626667</td>\n",
       "      <td>7.713333</td>\n",
       "      <td>7.626667</td>\n",
       "      <td>7.713333</td>\n",
       "      <td>390000</td>\n",
       "      <td>NaN</td>\n",
       "      <td>NaN</td>\n",
       "    </tr>\n",
       "    <tr>\n",
       "      <th>1962-01-03</th>\n",
       "      <td>1.874485</td>\n",
       "      <td>7.693333</td>\n",
       "      <td>7.693333</td>\n",
       "      <td>7.626667</td>\n",
       "      <td>7.626667</td>\n",
       "      <td>292500</td>\n",
       "      <td>NaN</td>\n",
       "      <td>NaN</td>\n",
       "    </tr>\n",
       "    <tr>\n",
       "      <th>1962-01-04</th>\n",
       "      <td>1.855805</td>\n",
       "      <td>7.616667</td>\n",
       "      <td>7.693333</td>\n",
       "      <td>7.613333</td>\n",
       "      <td>7.693333</td>\n",
       "      <td>262500</td>\n",
       "      <td>NaN</td>\n",
       "      <td>NaN</td>\n",
       "    </tr>\n",
       "    <tr>\n",
       "      <th>1962-01-05</th>\n",
       "      <td>1.819257</td>\n",
       "      <td>7.466667</td>\n",
       "      <td>7.606667</td>\n",
       "      <td>7.453333</td>\n",
       "      <td>7.606667</td>\n",
       "      <td>367500</td>\n",
       "      <td>NaN</td>\n",
       "      <td>NaN</td>\n",
       "    </tr>\n",
       "    <tr>\n",
       "      <th>1962-01-08</th>\n",
       "      <td>1.785148</td>\n",
       "      <td>7.326667</td>\n",
       "      <td>7.460000</td>\n",
       "      <td>7.266667</td>\n",
       "      <td>7.460000</td>\n",
       "      <td>547500</td>\n",
       "      <td>NaN</td>\n",
       "      <td>NaN</td>\n",
       "    </tr>\n",
       "  </tbody>\n",
       "</table>\n",
       "</div>"
      ],
      "text/plain": [
       "            Adj Close     Close      High       Low      Open  Volume  \\\n",
       "Date                                                                    \n",
       "1962-01-02   1.858243  7.626667  7.713333  7.626667  7.713333  390000   \n",
       "1962-01-03   1.874485  7.693333  7.693333  7.626667  7.626667  292500   \n",
       "1962-01-04   1.855805  7.616667  7.693333  7.613333  7.693333  262500   \n",
       "1962-01-05   1.819257  7.466667  7.606667  7.453333  7.606667  367500   \n",
       "1962-01-08   1.785148  7.326667  7.460000  7.266667  7.460000  547500   \n",
       "\n",
       "            Dividends  Stock Splits  \n",
       "Date                                 \n",
       "1962-01-02        NaN           NaN  \n",
       "1962-01-03        NaN           NaN  \n",
       "1962-01-04        NaN           NaN  \n",
       "1962-01-05        NaN           NaN  \n",
       "1962-01-08        NaN           NaN  "
      ]
     },
     "execution_count": 14,
     "metadata": {},
     "output_type": "execute_result"
    }
   ],
   "source": [
    "df_ibm.head()"
   ]
  },
  {
   "cell_type": "code",
   "execution_count": 15,
   "id": "sufficient-victoria",
   "metadata": {},
   "outputs": [
    {
     "data": {
      "text/plain": [
       "Adj Close            1.858243\n",
       "Close                7.626667\n",
       "High                 7.713333\n",
       "Low                  7.626667\n",
       "Open                 7.713333\n",
       "Volume          390000.000000\n",
       "Dividends                 NaN\n",
       "Stock Splits              NaN\n",
       "Name: 1962-01-02 00:00:00, dtype: float64"
      ]
     },
     "execution_count": 15,
     "metadata": {},
     "output_type": "execute_result"
    }
   ],
   "source": [
    "df_ibm.loc[df_ibm.first_valid_index()]"
   ]
  },
  {
   "cell_type": "code",
   "execution_count": 16,
   "id": "peripheral-norman",
   "metadata": {},
   "outputs": [],
   "source": [
    "df_ibm = df_ibm.loc[df_ibm.first_valid_index():]"
   ]
  },
  {
   "cell_type": "code",
   "execution_count": 17,
   "id": "automotive-banks",
   "metadata": {},
   "outputs": [],
   "source": [
    "i += 1"
   ]
  },
  {
   "cell_type": "code",
   "execution_count": 6,
   "id": "labeled-uniform",
   "metadata": {},
   "outputs": [
    {
     "name": "stdout",
     "output_type": "stream",
     "text": [
      "[*********************100%***********************]  1 of 1 completed\n"
     ]
    }
   ],
   "source": [
    "df_yf_ibm = yf.download(ibm, start=start, end=end)"
   ]
  },
  {
   "cell_type": "markdown",
   "id": "particular-gambling",
   "metadata": {},
   "source": [
    "#### ***Apple Inc.*** data:"
   ]
  },
  {
   "cell_type": "code",
   "execution_count": 18,
   "id": "alleged-button",
   "metadata": {},
   "outputs": [],
   "source": [
    "df_aapl = df_stocks.iloc[:, df_stocks.columns.get_level_values(1)==mnemonics[i]]"
   ]
  },
  {
   "cell_type": "code",
   "execution_count": 19,
   "id": "southwest-vault",
   "metadata": {},
   "outputs": [],
   "source": [
    "df_aapl = df_aapl.droplevel(axis=1, level=1)"
   ]
  },
  {
   "cell_type": "code",
   "execution_count": 20,
   "id": "supported-thesaurus",
   "metadata": {},
   "outputs": [],
   "source": [
    "AAPL_ticker = yf.Ticker(mnemonics[i])"
   ]
  },
  {
   "cell_type": "code",
   "execution_count": 21,
   "id": "successful-concern",
   "metadata": {},
   "outputs": [],
   "source": [
    "aapl_actions = AAPL_ticker.actions"
   ]
  },
  {
   "cell_type": "code",
   "execution_count": 22,
   "id": "working-cargo",
   "metadata": {},
   "outputs": [],
   "source": [
    "aapl_div = aapl_actions['Dividends']"
   ]
  },
  {
   "cell_type": "code",
   "execution_count": 23,
   "id": "searching-shaft",
   "metadata": {},
   "outputs": [],
   "source": [
    "aapl_spl = aapl_actions['Stock Splits']"
   ]
  },
  {
   "cell_type": "code",
   "execution_count": 24,
   "id": "multiple-wheat",
   "metadata": {},
   "outputs": [],
   "source": [
    "df_aapl = pd.concat([df_aapl, aapl_div, aapl_spl], axis=1)"
   ]
  },
  {
   "cell_type": "code",
   "execution_count": 25,
   "id": "incorrect-knight",
   "metadata": {},
   "outputs": [
    {
     "data": {
      "text/html": [
       "<div>\n",
       "<style scoped>\n",
       "    .dataframe tbody tr th:only-of-type {\n",
       "        vertical-align: middle;\n",
       "    }\n",
       "\n",
       "    .dataframe tbody tr th {\n",
       "        vertical-align: top;\n",
       "    }\n",
       "\n",
       "    .dataframe thead th {\n",
       "        text-align: right;\n",
       "    }\n",
       "</style>\n",
       "<table border=\"1\" class=\"dataframe\">\n",
       "  <thead>\n",
       "    <tr style=\"text-align: right;\">\n",
       "      <th></th>\n",
       "      <th>Adj Close</th>\n",
       "      <th>Close</th>\n",
       "      <th>High</th>\n",
       "      <th>Low</th>\n",
       "      <th>Open</th>\n",
       "      <th>Volume</th>\n",
       "      <th>Dividends</th>\n",
       "      <th>Stock Splits</th>\n",
       "    </tr>\n",
       "    <tr>\n",
       "      <th>Date</th>\n",
       "      <th></th>\n",
       "      <th></th>\n",
       "      <th></th>\n",
       "      <th></th>\n",
       "      <th></th>\n",
       "      <th></th>\n",
       "      <th></th>\n",
       "      <th></th>\n",
       "    </tr>\n",
       "  </thead>\n",
       "  <tbody>\n",
       "    <tr>\n",
       "      <th>1962-01-02</th>\n",
       "      <td>NaN</td>\n",
       "      <td>NaN</td>\n",
       "      <td>NaN</td>\n",
       "      <td>NaN</td>\n",
       "      <td>NaN</td>\n",
       "      <td>NaN</td>\n",
       "      <td>NaN</td>\n",
       "      <td>NaN</td>\n",
       "    </tr>\n",
       "    <tr>\n",
       "      <th>1962-01-03</th>\n",
       "      <td>NaN</td>\n",
       "      <td>NaN</td>\n",
       "      <td>NaN</td>\n",
       "      <td>NaN</td>\n",
       "      <td>NaN</td>\n",
       "      <td>NaN</td>\n",
       "      <td>NaN</td>\n",
       "      <td>NaN</td>\n",
       "    </tr>\n",
       "    <tr>\n",
       "      <th>1962-01-04</th>\n",
       "      <td>NaN</td>\n",
       "      <td>NaN</td>\n",
       "      <td>NaN</td>\n",
       "      <td>NaN</td>\n",
       "      <td>NaN</td>\n",
       "      <td>NaN</td>\n",
       "      <td>NaN</td>\n",
       "      <td>NaN</td>\n",
       "    </tr>\n",
       "    <tr>\n",
       "      <th>1962-01-05</th>\n",
       "      <td>NaN</td>\n",
       "      <td>NaN</td>\n",
       "      <td>NaN</td>\n",
       "      <td>NaN</td>\n",
       "      <td>NaN</td>\n",
       "      <td>NaN</td>\n",
       "      <td>NaN</td>\n",
       "      <td>NaN</td>\n",
       "    </tr>\n",
       "    <tr>\n",
       "      <th>1962-01-08</th>\n",
       "      <td>NaN</td>\n",
       "      <td>NaN</td>\n",
       "      <td>NaN</td>\n",
       "      <td>NaN</td>\n",
       "      <td>NaN</td>\n",
       "      <td>NaN</td>\n",
       "      <td>NaN</td>\n",
       "      <td>NaN</td>\n",
       "    </tr>\n",
       "  </tbody>\n",
       "</table>\n",
       "</div>"
      ],
      "text/plain": [
       "            Adj Close  Close  High  Low  Open  Volume  Dividends  Stock Splits\n",
       "Date                                                                          \n",
       "1962-01-02        NaN    NaN   NaN  NaN   NaN     NaN        NaN           NaN\n",
       "1962-01-03        NaN    NaN   NaN  NaN   NaN     NaN        NaN           NaN\n",
       "1962-01-04        NaN    NaN   NaN  NaN   NaN     NaN        NaN           NaN\n",
       "1962-01-05        NaN    NaN   NaN  NaN   NaN     NaN        NaN           NaN\n",
       "1962-01-08        NaN    NaN   NaN  NaN   NaN     NaN        NaN           NaN"
      ]
     },
     "execution_count": 25,
     "metadata": {},
     "output_type": "execute_result"
    }
   ],
   "source": [
    "df_aapl.head()"
   ]
  },
  {
   "cell_type": "code",
   "execution_count": 26,
   "id": "private-lebanon",
   "metadata": {},
   "outputs": [
    {
     "data": {
      "text/plain": [
       "Adj Close       1.009219e-01\n",
       "Close           1.283480e-01\n",
       "High            1.289060e-01\n",
       "Low             1.283480e-01\n",
       "Open            1.283480e-01\n",
       "Volume          4.690336e+08\n",
       "Dividends                NaN\n",
       "Stock Splits             NaN\n",
       "Name: 1980-12-12 00:00:00, dtype: float64"
      ]
     },
     "execution_count": 26,
     "metadata": {},
     "output_type": "execute_result"
    }
   ],
   "source": [
    "df_aapl.loc[df_aapl.first_valid_index()]"
   ]
  },
  {
   "cell_type": "code",
   "execution_count": 27,
   "id": "lonely-snake",
   "metadata": {},
   "outputs": [],
   "source": [
    "df_aapl = df_aapl.loc[df_aapl.first_valid_index():]"
   ]
  },
  {
   "cell_type": "code",
   "execution_count": 28,
   "id": "horizontal-reduction",
   "metadata": {},
   "outputs": [],
   "source": [
    "i += 1"
   ]
  },
  {
   "cell_type": "code",
   "execution_count": 7,
   "id": "constitutional-watts",
   "metadata": {},
   "outputs": [
    {
     "name": "stdout",
     "output_type": "stream",
     "text": [
      "[*********************100%***********************]  1 of 1 completed\n"
     ]
    }
   ],
   "source": [
    "df_yf_aapl = yf.download(aapl, start=start, end=end)"
   ]
  },
  {
   "cell_type": "markdown",
   "id": "split-policy",
   "metadata": {},
   "source": [
    "#### ***Amazon.com Inc.*** data:"
   ]
  },
  {
   "cell_type": "code",
   "execution_count": 29,
   "id": "going-marina",
   "metadata": {},
   "outputs": [],
   "source": [
    "df_amzn = df_stocks.iloc[:, df_stocks.columns.get_level_values(1)==mnemonics[i]]"
   ]
  },
  {
   "cell_type": "code",
   "execution_count": 30,
   "id": "split-swimming",
   "metadata": {},
   "outputs": [],
   "source": [
    "df_amzn = df_amzn.droplevel(axis=1, level=1)"
   ]
  },
  {
   "cell_type": "code",
   "execution_count": 31,
   "id": "falling-colorado",
   "metadata": {},
   "outputs": [],
   "source": [
    "AMZN_ticker = yf.Ticker(mnemonics[i])"
   ]
  },
  {
   "cell_type": "code",
   "execution_count": 32,
   "id": "large-indianapolis",
   "metadata": {},
   "outputs": [],
   "source": [
    "amzn_actions = AMZN_ticker.actions"
   ]
  },
  {
   "cell_type": "code",
   "execution_count": 33,
   "id": "settled-experience",
   "metadata": {},
   "outputs": [],
   "source": [
    "amzn_div = amzn_actions['Dividends']"
   ]
  },
  {
   "cell_type": "code",
   "execution_count": 34,
   "id": "typical-commercial",
   "metadata": {},
   "outputs": [],
   "source": [
    "amzn_spl = amzn_actions['Stock Splits']"
   ]
  },
  {
   "cell_type": "code",
   "execution_count": 35,
   "id": "preliminary-elder",
   "metadata": {},
   "outputs": [],
   "source": [
    "df_amzn = pd.concat([df_amzn, amzn_div, amzn_spl], axis=1)"
   ]
  },
  {
   "cell_type": "code",
   "execution_count": 36,
   "id": "entertaining-guide",
   "metadata": {},
   "outputs": [
    {
     "data": {
      "text/html": [
       "<div>\n",
       "<style scoped>\n",
       "    .dataframe tbody tr th:only-of-type {\n",
       "        vertical-align: middle;\n",
       "    }\n",
       "\n",
       "    .dataframe tbody tr th {\n",
       "        vertical-align: top;\n",
       "    }\n",
       "\n",
       "    .dataframe thead th {\n",
       "        text-align: right;\n",
       "    }\n",
       "</style>\n",
       "<table border=\"1\" class=\"dataframe\">\n",
       "  <thead>\n",
       "    <tr style=\"text-align: right;\">\n",
       "      <th></th>\n",
       "      <th>Adj Close</th>\n",
       "      <th>Close</th>\n",
       "      <th>High</th>\n",
       "      <th>Low</th>\n",
       "      <th>Open</th>\n",
       "      <th>Volume</th>\n",
       "      <th>Dividends</th>\n",
       "      <th>Stock Splits</th>\n",
       "    </tr>\n",
       "    <tr>\n",
       "      <th>Date</th>\n",
       "      <th></th>\n",
       "      <th></th>\n",
       "      <th></th>\n",
       "      <th></th>\n",
       "      <th></th>\n",
       "      <th></th>\n",
       "      <th></th>\n",
       "      <th></th>\n",
       "    </tr>\n",
       "  </thead>\n",
       "  <tbody>\n",
       "    <tr>\n",
       "      <th>1962-01-02</th>\n",
       "      <td>NaN</td>\n",
       "      <td>NaN</td>\n",
       "      <td>NaN</td>\n",
       "      <td>NaN</td>\n",
       "      <td>NaN</td>\n",
       "      <td>NaN</td>\n",
       "      <td>NaN</td>\n",
       "      <td>NaN</td>\n",
       "    </tr>\n",
       "    <tr>\n",
       "      <th>1962-01-03</th>\n",
       "      <td>NaN</td>\n",
       "      <td>NaN</td>\n",
       "      <td>NaN</td>\n",
       "      <td>NaN</td>\n",
       "      <td>NaN</td>\n",
       "      <td>NaN</td>\n",
       "      <td>NaN</td>\n",
       "      <td>NaN</td>\n",
       "    </tr>\n",
       "    <tr>\n",
       "      <th>1962-01-04</th>\n",
       "      <td>NaN</td>\n",
       "      <td>NaN</td>\n",
       "      <td>NaN</td>\n",
       "      <td>NaN</td>\n",
       "      <td>NaN</td>\n",
       "      <td>NaN</td>\n",
       "      <td>NaN</td>\n",
       "      <td>NaN</td>\n",
       "    </tr>\n",
       "    <tr>\n",
       "      <th>1962-01-05</th>\n",
       "      <td>NaN</td>\n",
       "      <td>NaN</td>\n",
       "      <td>NaN</td>\n",
       "      <td>NaN</td>\n",
       "      <td>NaN</td>\n",
       "      <td>NaN</td>\n",
       "      <td>NaN</td>\n",
       "      <td>NaN</td>\n",
       "    </tr>\n",
       "    <tr>\n",
       "      <th>1962-01-08</th>\n",
       "      <td>NaN</td>\n",
       "      <td>NaN</td>\n",
       "      <td>NaN</td>\n",
       "      <td>NaN</td>\n",
       "      <td>NaN</td>\n",
       "      <td>NaN</td>\n",
       "      <td>NaN</td>\n",
       "      <td>NaN</td>\n",
       "    </tr>\n",
       "  </tbody>\n",
       "</table>\n",
       "</div>"
      ],
      "text/plain": [
       "            Adj Close  Close  High  Low  Open  Volume  Dividends  Stock Splits\n",
       "Date                                                                          \n",
       "1962-01-02        NaN    NaN   NaN  NaN   NaN     NaN        NaN           NaN\n",
       "1962-01-03        NaN    NaN   NaN  NaN   NaN     NaN        NaN           NaN\n",
       "1962-01-04        NaN    NaN   NaN  NaN   NaN     NaN        NaN           NaN\n",
       "1962-01-05        NaN    NaN   NaN  NaN   NaN     NaN        NaN           NaN\n",
       "1962-01-08        NaN    NaN   NaN  NaN   NaN     NaN        NaN           NaN"
      ]
     },
     "execution_count": 36,
     "metadata": {},
     "output_type": "execute_result"
    }
   ],
   "source": [
    "df_amzn.head()"
   ]
  },
  {
   "cell_type": "code",
   "execution_count": 37,
   "id": "molecular-plastic",
   "metadata": {},
   "outputs": [
    {
     "data": {
      "text/plain": [
       "Adj Close       1.958333e+00\n",
       "Close           1.958333e+00\n",
       "High            2.500000e+00\n",
       "Low             1.927083e+00\n",
       "Open            2.437500e+00\n",
       "Volume          7.215600e+07\n",
       "Dividends                NaN\n",
       "Stock Splits             NaN\n",
       "Name: 1997-05-15 00:00:00, dtype: float64"
      ]
     },
     "execution_count": 37,
     "metadata": {},
     "output_type": "execute_result"
    }
   ],
   "source": [
    "df_amzn.loc[df_amzn.first_valid_index()]"
   ]
  },
  {
   "cell_type": "code",
   "execution_count": 38,
   "id": "intermediate-hudson",
   "metadata": {},
   "outputs": [],
   "source": [
    "df_amzn = df_amzn.loc[df_amzn.first_valid_index():]"
   ]
  },
  {
   "cell_type": "code",
   "execution_count": 39,
   "id": "associate-commitment",
   "metadata": {},
   "outputs": [],
   "source": [
    "i += 1"
   ]
  },
  {
   "cell_type": "code",
   "execution_count": 8,
   "id": "close-failing",
   "metadata": {},
   "outputs": [
    {
     "name": "stdout",
     "output_type": "stream",
     "text": [
      "[*********************100%***********************]  1 of 1 completed\n"
     ]
    }
   ],
   "source": [
    "df_yf_amzn = yf.download(amzn, start=start, end=end)"
   ]
  },
  {
   "cell_type": "markdown",
   "id": "optional-flooring",
   "metadata": {},
   "source": [
    "#### ***Alphabet Inc.*** data:"
   ]
  },
  {
   "cell_type": "code",
   "execution_count": 40,
   "id": "trying-replica",
   "metadata": {},
   "outputs": [],
   "source": [
    "df_googl = df_stocks.iloc[:, df_stocks.columns.get_level_values(1)==mnemonics[i]]"
   ]
  },
  {
   "cell_type": "code",
   "execution_count": 41,
   "id": "legitimate-butler",
   "metadata": {},
   "outputs": [],
   "source": [
    "df_googl = df_googl.droplevel(axis=1, level=1)"
   ]
  },
  {
   "cell_type": "code",
   "execution_count": 42,
   "id": "collect-jesus",
   "metadata": {},
   "outputs": [],
   "source": [
    "GOOGL_ticker = yf.Ticker(mnemonics[i])"
   ]
  },
  {
   "cell_type": "code",
   "execution_count": 43,
   "id": "empirical-period",
   "metadata": {},
   "outputs": [],
   "source": [
    "googl_actions = GOOGL_ticker.actions"
   ]
  },
  {
   "cell_type": "code",
   "execution_count": 44,
   "id": "noble-commonwealth",
   "metadata": {},
   "outputs": [],
   "source": [
    "googl_div = googl_actions['Dividends']"
   ]
  },
  {
   "cell_type": "code",
   "execution_count": 45,
   "id": "fresh-victim",
   "metadata": {},
   "outputs": [],
   "source": [
    "googl_spl = googl_actions['Stock Splits']"
   ]
  },
  {
   "cell_type": "code",
   "execution_count": 46,
   "id": "effective-break",
   "metadata": {},
   "outputs": [],
   "source": [
    "df_googl = pd.concat([df_googl, googl_div, googl_spl], axis=1)"
   ]
  },
  {
   "cell_type": "code",
   "execution_count": 47,
   "id": "dressed-activation",
   "metadata": {},
   "outputs": [
    {
     "data": {
      "text/html": [
       "<div>\n",
       "<style scoped>\n",
       "    .dataframe tbody tr th:only-of-type {\n",
       "        vertical-align: middle;\n",
       "    }\n",
       "\n",
       "    .dataframe tbody tr th {\n",
       "        vertical-align: top;\n",
       "    }\n",
       "\n",
       "    .dataframe thead th {\n",
       "        text-align: right;\n",
       "    }\n",
       "</style>\n",
       "<table border=\"1\" class=\"dataframe\">\n",
       "  <thead>\n",
       "    <tr style=\"text-align: right;\">\n",
       "      <th></th>\n",
       "      <th>Adj Close</th>\n",
       "      <th>Close</th>\n",
       "      <th>High</th>\n",
       "      <th>Low</th>\n",
       "      <th>Open</th>\n",
       "      <th>Volume</th>\n",
       "      <th>Dividends</th>\n",
       "      <th>Stock Splits</th>\n",
       "    </tr>\n",
       "    <tr>\n",
       "      <th>Date</th>\n",
       "      <th></th>\n",
       "      <th></th>\n",
       "      <th></th>\n",
       "      <th></th>\n",
       "      <th></th>\n",
       "      <th></th>\n",
       "      <th></th>\n",
       "      <th></th>\n",
       "    </tr>\n",
       "  </thead>\n",
       "  <tbody>\n",
       "    <tr>\n",
       "      <th>1962-01-02</th>\n",
       "      <td>NaN</td>\n",
       "      <td>NaN</td>\n",
       "      <td>NaN</td>\n",
       "      <td>NaN</td>\n",
       "      <td>NaN</td>\n",
       "      <td>NaN</td>\n",
       "      <td>NaN</td>\n",
       "      <td>NaN</td>\n",
       "    </tr>\n",
       "    <tr>\n",
       "      <th>1962-01-03</th>\n",
       "      <td>NaN</td>\n",
       "      <td>NaN</td>\n",
       "      <td>NaN</td>\n",
       "      <td>NaN</td>\n",
       "      <td>NaN</td>\n",
       "      <td>NaN</td>\n",
       "      <td>NaN</td>\n",
       "      <td>NaN</td>\n",
       "    </tr>\n",
       "    <tr>\n",
       "      <th>1962-01-04</th>\n",
       "      <td>NaN</td>\n",
       "      <td>NaN</td>\n",
       "      <td>NaN</td>\n",
       "      <td>NaN</td>\n",
       "      <td>NaN</td>\n",
       "      <td>NaN</td>\n",
       "      <td>NaN</td>\n",
       "      <td>NaN</td>\n",
       "    </tr>\n",
       "    <tr>\n",
       "      <th>1962-01-05</th>\n",
       "      <td>NaN</td>\n",
       "      <td>NaN</td>\n",
       "      <td>NaN</td>\n",
       "      <td>NaN</td>\n",
       "      <td>NaN</td>\n",
       "      <td>NaN</td>\n",
       "      <td>NaN</td>\n",
       "      <td>NaN</td>\n",
       "    </tr>\n",
       "    <tr>\n",
       "      <th>1962-01-08</th>\n",
       "      <td>NaN</td>\n",
       "      <td>NaN</td>\n",
       "      <td>NaN</td>\n",
       "      <td>NaN</td>\n",
       "      <td>NaN</td>\n",
       "      <td>NaN</td>\n",
       "      <td>NaN</td>\n",
       "      <td>NaN</td>\n",
       "    </tr>\n",
       "  </tbody>\n",
       "</table>\n",
       "</div>"
      ],
      "text/plain": [
       "            Adj Close  Close  High  Low  Open  Volume  Dividends  Stock Splits\n",
       "Date                                                                          \n",
       "1962-01-02        NaN    NaN   NaN  NaN   NaN     NaN        NaN           NaN\n",
       "1962-01-03        NaN    NaN   NaN  NaN   NaN     NaN        NaN           NaN\n",
       "1962-01-04        NaN    NaN   NaN  NaN   NaN     NaN        NaN           NaN\n",
       "1962-01-05        NaN    NaN   NaN  NaN   NaN     NaN        NaN           NaN\n",
       "1962-01-08        NaN    NaN   NaN  NaN   NaN     NaN        NaN           NaN"
      ]
     },
     "execution_count": 47,
     "metadata": {},
     "output_type": "execute_result"
    }
   ],
   "source": [
    "df_googl.head()"
   ]
  },
  {
   "cell_type": "code",
   "execution_count": 48,
   "id": "separate-industry",
   "metadata": {},
   "outputs": [
    {
     "data": {
      "text/plain": [
       "Adj Close       5.022022e+01\n",
       "Close           5.022022e+01\n",
       "High            5.208208e+01\n",
       "Low             4.802803e+01\n",
       "Open            5.005005e+01\n",
       "Volume          4.465910e+07\n",
       "Dividends                NaN\n",
       "Stock Splits             NaN\n",
       "Name: 2004-08-19 00:00:00, dtype: float64"
      ]
     },
     "execution_count": 48,
     "metadata": {},
     "output_type": "execute_result"
    }
   ],
   "source": [
    "df_googl.loc[df_googl.first_valid_index()]"
   ]
  },
  {
   "cell_type": "code",
   "execution_count": 49,
   "id": "utility-lebanon",
   "metadata": {},
   "outputs": [],
   "source": [
    "df_googl = df_googl.loc[df_googl.first_valid_index():]"
   ]
  },
  {
   "cell_type": "code",
   "execution_count": 9,
   "id": "surprising-meditation",
   "metadata": {},
   "outputs": [
    {
     "name": "stdout",
     "output_type": "stream",
     "text": [
      "[*********************100%***********************]  1 of 1 completed\n"
     ]
    }
   ],
   "source": [
    "df_yf_googl = yf.download(googl, start=start, end=end)"
   ]
  },
  {
   "cell_type": "markdown",
   "id": "absent-mining",
   "metadata": {},
   "source": [
    "# Renaming dataframes\n",
    "\n",
    "By now, as said before, I'll use Yahoo! Finance as the sole source of data, so, i will simply rename the dataframes."
   ]
  },
  {
   "cell_type": "code",
   "execution_count": 10,
   "id": "accredited-soldier",
   "metadata": {},
   "outputs": [],
   "source": [
    "df_ibm = df_yf_ibm"
   ]
  },
  {
   "cell_type": "code",
   "execution_count": 11,
   "id": "ultimate-afghanistan",
   "metadata": {},
   "outputs": [],
   "source": [
    "df_aapl = df_yf_aapl"
   ]
  },
  {
   "cell_type": "code",
   "execution_count": 12,
   "id": "addressed-mattress",
   "metadata": {},
   "outputs": [],
   "source": [
    "df_amzn = df_yf_amzn"
   ]
  },
  {
   "cell_type": "code",
   "execution_count": 13,
   "id": "together-cloud",
   "metadata": {},
   "outputs": [],
   "source": [
    "df_googl = df_yf_googl"
   ]
  },
  {
   "cell_type": "code",
   "execution_count": null,
   "id": "velvet-gates",
   "metadata": {},
   "outputs": [],
   "source": []
  }
 ],
 "metadata": {
  "kernelspec": {
   "display_name": "Python 3",
   "language": "python",
   "name": "python3"
  },
  "language_info": {
   "codemirror_mode": {
    "name": "ipython",
    "version": 3
   },
   "file_extension": ".py",
   "mimetype": "text/x-python",
   "name": "python",
   "nbconvert_exporter": "python",
   "pygments_lexer": "ipython3",
   "version": "3.6.10"
  }
 },
 "nbformat": 4,
 "nbformat_minor": 5
}
