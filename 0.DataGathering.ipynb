{
 "cells": [
  {
   "cell_type": "markdown",
   "id": "tested-lesson",
   "metadata": {},
   "source": [
    "## Data gathering"
   ]
  },
  {
   "cell_type": "raw",
   "id": "accessible-force",
   "metadata": {},
   "source": [
    "First step of this analysis will be stock prices data gathering from one or more sources."
   ]
  },
  {
   "cell_type": "markdown",
   "id": "latter-figure",
   "metadata": {},
   "source": [
    "By now, only one source will be used: Yahoo! Finance.\n",
    "More sources of data can be added later on, if additional data features from there would be considered to add useful information to the analysis."
   ]
  },
  {
   "cell_type": "markdown",
   "id": "protected-percentage",
   "metadata": {},
   "source": [
    "Gatering data from Yahoo Finance"
   ]
  },
  {
   "cell_type": "markdown",
   "id": "according-experience",
   "metadata": {},
   "source": [
    "Target symbols:"
   ]
  },
  {
   "cell_type": "code",
   "execution_count": 1,
   "id": "modular-virginia",
   "metadata": {},
   "outputs": [],
   "source": [
    "ibm = 'IBM' \n",
    "aapl = 'AAPL'\n",
    "amzn = 'AMZN'\n",
    "googl = 'GOOGL'"
   ]
  },
  {
   "cell_type": "code",
   "execution_count": 2,
   "id": "flying-parallel",
   "metadata": {},
   "outputs": [],
   "source": [
    "mnemonics = [ibm, aapl, amzn, googl]"
   ]
  },
  {
   "cell_type": "markdown",
   "id": "terminal-experience",
   "metadata": {},
   "source": [
    "Setting dataset record start date and end date:\n",
    "* start will be just set to 1st Genuary 1900, in order to retrieve the logest possible time series, further data segmentation would be conducted later in the analysis;\n",
    "* end time will be today date."
   ]
  },
  {
   "cell_type": "code",
   "execution_count": 3,
   "id": "alone-pledge",
   "metadata": {},
   "outputs": [],
   "source": [
    "import datetime"
   ]
  },
  {
   "cell_type": "code",
   "execution_count": 4,
   "id": "retired-bridal",
   "metadata": {},
   "outputs": [],
   "source": [
    "start = datetime.datetime(1900, 1, 1)\n",
    "end = datetime.date.today()"
   ]
  },
  {
   "cell_type": "markdown",
   "id": "numerous-shepherd",
   "metadata": {},
   "source": [
    "## Gathering data from Yahoo! Finance"
   ]
  },
  {
   "cell_type": "markdown",
   "id": "tested-worthy",
   "metadata": {},
   "source": [
    "Data from Yahoo! Finance."
   ]
  },
  {
   "cell_type": "code",
   "execution_count": 5,
   "id": "satisfactory-cooling",
   "metadata": {},
   "outputs": [],
   "source": [
    "# yfinance is a Yahoo! Finance market data downloader,\n",
    "# that allows to access Yahoo finance data after Yahoo\n",
    "# has discontinued support for this API\n",
    "import yfinance as yf"
   ]
  },
  {
   "cell_type": "markdown",
   "id": "imported-yield",
   "metadata": {},
   "source": [
    "#### ***IBM*** data:"
   ]
  },
  {
   "cell_type": "code",
   "execution_count": 6,
   "id": "higher-production",
   "metadata": {},
   "outputs": [
    {
     "name": "stdout",
     "output_type": "stream",
     "text": [
      "[*********************100%***********************]  1 of 1 completed\n"
     ]
    }
   ],
   "source": [
    "df_yf_ibm = yf.download(ibm, start=start, end=end)"
   ]
  },
  {
   "cell_type": "markdown",
   "id": "fantastic-allen",
   "metadata": {},
   "source": [
    "#### ***Apple Inc.*** data:"
   ]
  },
  {
   "cell_type": "code",
   "execution_count": 7,
   "id": "resident-boundary",
   "metadata": {},
   "outputs": [
    {
     "name": "stdout",
     "output_type": "stream",
     "text": [
      "[*********************100%***********************]  1 of 1 completed\n"
     ]
    }
   ],
   "source": [
    "df_yf_aapl = yf.download(aapl, start=start, end=end)"
   ]
  },
  {
   "cell_type": "markdown",
   "id": "unlimited-athletics",
   "metadata": {},
   "source": [
    "#### ***Amazon.com Inc.*** data:"
   ]
  },
  {
   "cell_type": "code",
   "execution_count": 8,
   "id": "forward-honduras",
   "metadata": {},
   "outputs": [
    {
     "name": "stdout",
     "output_type": "stream",
     "text": [
      "[*********************100%***********************]  1 of 1 completed\n"
     ]
    }
   ],
   "source": [
    "df_yf_amzn = yf.download(amzn, start=start, end=end)"
   ]
  },
  {
   "cell_type": "markdown",
   "id": "planned-suspension",
   "metadata": {},
   "source": [
    "#### ***Alphabet Inc.*** data:"
   ]
  },
  {
   "cell_type": "code",
   "execution_count": 9,
   "id": "major-communist",
   "metadata": {},
   "outputs": [
    {
     "name": "stdout",
     "output_type": "stream",
     "text": [
      "[*********************100%***********************]  1 of 1 completed\n"
     ]
    }
   ],
   "source": [
    "df_yf_googl = yf.download(googl, start=start, end=end)"
   ]
  },
  {
   "cell_type": "markdown",
   "id": "elegant-playlist",
   "metadata": {},
   "source": [
    "# Renaming dataframes\n",
    "\n",
    "By now, as said before, I'll use Yahoo! Finance as the sole source of data, so, i will simply rename the dataframes."
   ]
  },
  {
   "cell_type": "code",
   "execution_count": 10,
   "id": "twelve-violin",
   "metadata": {},
   "outputs": [],
   "source": [
    "df_ibm = df_yf_ibm"
   ]
  },
  {
   "cell_type": "code",
   "execution_count": 11,
   "id": "executed-envelope",
   "metadata": {},
   "outputs": [],
   "source": [
    "df_aapl = df_yf_aapl"
   ]
  },
  {
   "cell_type": "code",
   "execution_count": 12,
   "id": "continent-fruit",
   "metadata": {},
   "outputs": [],
   "source": [
    "df_amzn = df_yf_amzn"
   ]
  },
  {
   "cell_type": "code",
   "execution_count": 13,
   "id": "nutritional-innocent",
   "metadata": {},
   "outputs": [],
   "source": [
    "df_googl = df_yf_googl"
   ]
  },
  {
   "cell_type": "code",
   "execution_count": null,
   "id": "outdoor-norway",
   "metadata": {},
   "outputs": [],
   "source": []
  }
 ],
 "metadata": {
  "kernelspec": {
   "display_name": "conda_pytorch_p36",
   "language": "python",
   "name": "conda_pytorch_p36"
  },
  "language_info": {
   "codemirror_mode": {
    "name": "ipython",
    "version": 3
   },
   "file_extension": ".py",
   "mimetype": "text/x-python",
   "name": "python",
   "nbconvert_exporter": "python",
   "pygments_lexer": "ipython3",
   "version": "3.6.10"
  }
 },
 "nbformat": 4,
 "nbformat_minor": 5
}
