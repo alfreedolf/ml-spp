{
 "cells": [
  {
   "cell_type": "markdown",
   "id": "entire-aircraft",
   "metadata": {},
   "source": [
    "## Data gathering"
   ]
  },
  {
   "cell_type": "markdown",
   "id": "changed-moral",
   "metadata": {},
   "source": [
    "First step of this analysis will be stock prices data gathering from one or more sources."
   ]
  },
  {
   "cell_type": "raw",
   "id": "parallel-safety",
   "metadata": {},
   "source": [
    "First step of this analysis will be stock prices data gathering from one or more sources."
   ]
  },
  {
   "cell_type": "markdown",
   "id": "unnecessary-climate",
   "metadata": {},
   "source": [
    "By now, only one source will be used: Yahoo! Finance.\n",
    "More sources of data can be added later on, if additional data features from there would be considered to add useful information to the analysis."
   ]
  },
  {
   "cell_type": "markdown",
   "id": "communist-desire",
   "metadata": {},
   "source": [
    "Gatering data from Yahoo Finance"
   ]
  },
  {
   "cell_type": "markdown",
   "id": "sealed-sodium",
   "metadata": {},
   "source": [
    "Target symbols:"
   ]
  },
  {
   "cell_type": "code",
   "execution_count": 1,
   "id": "accepted-bradley",
   "metadata": {},
   "outputs": [],
   "source": [
    "ibm = 'IBM' \n",
    "aapl = 'AAPL'\n",
    "amzn = 'AMZN'\n",
    "googl = 'GOOGL'"
   ]
  },
  {
   "cell_type": "code",
   "execution_count": 2,
   "id": "female-ethics",
   "metadata": {},
   "outputs": [],
   "source": [
    "mnemonics = [ibm, aapl, amzn, googl]"
   ]
  },
  {
   "cell_type": "code",
   "execution_count": 3,
   "id": "first-watch",
   "metadata": {},
   "outputs": [],
   "source": [
    "import pandas as pd\n",
    "import datetime"
   ]
  },
  {
   "cell_type": "code",
   "execution_count": 4,
   "id": "stable-grove",
   "metadata": {},
   "outputs": [],
   "source": [
    "import datetime"
   ]
  },
  {
   "cell_type": "markdown",
   "id": "cultural-regression",
   "metadata": {},
   "source": [
    "## Gathering data from Yahoo! Finance"
   ]
  },
  {
   "cell_type": "markdown",
   "id": "blond-significance",
   "metadata": {},
   "source": [
    "Downloading data from Yahoo! Finance."
   ]
  },
  {
   "cell_type": "code",
   "execution_count": 5,
   "id": "equal-scheme",
   "metadata": {},
   "outputs": [],
   "source": [
    "# yfinance is a Yahoo! Finance market data downloader,\n",
    "# that allows to access Yahoo finance data after Yahoo\n",
    "# has discontinued support for this API\n",
    "import yfinance as yf"
   ]
  },
  {
   "cell_type": "code",
   "execution_count": 6,
   "id": "respective-bridal",
   "metadata": {},
   "outputs": [
    {
     "name": "stdout",
     "output_type": "stream",
     "text": [
      "[*********************100%***********************]  4 of 4 completed\n"
     ]
    }
   ],
   "source": [
    "df_stocks = yf.download(mnemonics)"
   ]
  },
  {
   "cell_type": "markdown",
   "id": "recreational-disney",
   "metadata": {},
   "source": [
    "Iterating through the full dataframe"
   ]
  },
  {
   "cell_type": "code",
   "execution_count": 7,
   "id": "geographic-ecuador",
   "metadata": {},
   "outputs": [],
   "source": [
    "# iteration variable\n",
    "i=0"
   ]
  },
  {
   "cell_type": "markdown",
   "id": "rational-catalyst",
   "metadata": {},
   "source": [
    "#### ***IBM*** data:"
   ]
  },
  {
   "cell_type": "code",
   "execution_count": 8,
   "id": "surface-floating",
   "metadata": {},
   "outputs": [],
   "source": [
    "df_ibm = df_stocks.iloc[:, df_stocks.columns.get_level_values(1)==mnemonics[i]]"
   ]
  },
  {
   "cell_type": "code",
   "execution_count": 9,
   "id": "false-magazine",
   "metadata": {},
   "outputs": [],
   "source": [
    "df_ibm = df_ibm.droplevel(axis=1, level=1)"
   ]
  },
  {
   "cell_type": "code",
   "execution_count": 10,
   "id": "nominated-explosion",
   "metadata": {},
   "outputs": [],
   "source": [
    "IBM_ticker = yf.Ticker(mnemonics[i])"
   ]
  },
  {
   "cell_type": "code",
   "execution_count": 11,
   "id": "green-tragedy",
   "metadata": {},
   "outputs": [],
   "source": [
    "ibm_actions = IBM_ticker.actions"
   ]
  },
  {
   "cell_type": "code",
   "execution_count": 12,
   "id": "unlike-victorian",
   "metadata": {},
   "outputs": [],
   "source": [
    "ibm_div = ibm_actions['Dividends']"
   ]
  },
  {
   "cell_type": "code",
   "execution_count": 13,
   "id": "trained-associate",
   "metadata": {},
   "outputs": [],
   "source": [
    "ibm_spl = ibm_actions['Stock Splits']"
   ]
  },
  {
   "cell_type": "code",
   "execution_count": 14,
   "id": "manufactured-motorcycle",
   "metadata": {},
   "outputs": [],
   "source": [
    "df_ibm = pd.concat([df_ibm, ibm_div, ibm_spl], axis=1)"
   ]
  },
  {
   "cell_type": "code",
   "execution_count": 15,
   "id": "lasting-cologne",
   "metadata": {},
   "outputs": [
    {
     "data": {
      "text/html": [
       "<div>\n",
       "<style scoped>\n",
       "    .dataframe tbody tr th:only-of-type {\n",
       "        vertical-align: middle;\n",
       "    }\n",
       "\n",
       "    .dataframe tbody tr th {\n",
       "        vertical-align: top;\n",
       "    }\n",
       "\n",
       "    .dataframe thead th {\n",
       "        text-align: right;\n",
       "    }\n",
       "</style>\n",
       "<table border=\"1\" class=\"dataframe\">\n",
       "  <thead>\n",
       "    <tr style=\"text-align: right;\">\n",
       "      <th></th>\n",
       "      <th>Adj Close</th>\n",
       "      <th>Close</th>\n",
       "      <th>High</th>\n",
       "      <th>Low</th>\n",
       "      <th>Open</th>\n",
       "      <th>Volume</th>\n",
       "      <th>Dividends</th>\n",
       "      <th>Stock Splits</th>\n",
       "    </tr>\n",
       "    <tr>\n",
       "      <th>Date</th>\n",
       "      <th></th>\n",
       "      <th></th>\n",
       "      <th></th>\n",
       "      <th></th>\n",
       "      <th></th>\n",
       "      <th></th>\n",
       "      <th></th>\n",
       "      <th></th>\n",
       "    </tr>\n",
       "  </thead>\n",
       "  <tbody>\n",
       "    <tr>\n",
       "      <th>1962-01-02</th>\n",
       "      <td>1.858243</td>\n",
       "      <td>7.626667</td>\n",
       "      <td>7.713333</td>\n",
       "      <td>7.626667</td>\n",
       "      <td>7.713333</td>\n",
       "      <td>390000</td>\n",
       "      <td>NaN</td>\n",
       "      <td>NaN</td>\n",
       "    </tr>\n",
       "    <tr>\n",
       "      <th>1962-01-03</th>\n",
       "      <td>1.874485</td>\n",
       "      <td>7.693333</td>\n",
       "      <td>7.693333</td>\n",
       "      <td>7.626667</td>\n",
       "      <td>7.626667</td>\n",
       "      <td>292500</td>\n",
       "      <td>NaN</td>\n",
       "      <td>NaN</td>\n",
       "    </tr>\n",
       "    <tr>\n",
       "      <th>1962-01-04</th>\n",
       "      <td>1.855805</td>\n",
       "      <td>7.616667</td>\n",
       "      <td>7.693333</td>\n",
       "      <td>7.613333</td>\n",
       "      <td>7.693333</td>\n",
       "      <td>262500</td>\n",
       "      <td>NaN</td>\n",
       "      <td>NaN</td>\n",
       "    </tr>\n",
       "    <tr>\n",
       "      <th>1962-01-05</th>\n",
       "      <td>1.819257</td>\n",
       "      <td>7.466667</td>\n",
       "      <td>7.606667</td>\n",
       "      <td>7.453333</td>\n",
       "      <td>7.606667</td>\n",
       "      <td>367500</td>\n",
       "      <td>NaN</td>\n",
       "      <td>NaN</td>\n",
       "    </tr>\n",
       "    <tr>\n",
       "      <th>1962-01-08</th>\n",
       "      <td>1.785148</td>\n",
       "      <td>7.326667</td>\n",
       "      <td>7.460000</td>\n",
       "      <td>7.266667</td>\n",
       "      <td>7.460000</td>\n",
       "      <td>547500</td>\n",
       "      <td>NaN</td>\n",
       "      <td>NaN</td>\n",
       "    </tr>\n",
       "  </tbody>\n",
       "</table>\n",
       "</div>"
      ],
      "text/plain": [
       "            Adj Close     Close      High       Low      Open  Volume  \\\n",
       "Date                                                                    \n",
       "1962-01-02   1.858243  7.626667  7.713333  7.626667  7.713333  390000   \n",
       "1962-01-03   1.874485  7.693333  7.693333  7.626667  7.626667  292500   \n",
       "1962-01-04   1.855805  7.616667  7.693333  7.613333  7.693333  262500   \n",
       "1962-01-05   1.819257  7.466667  7.606667  7.453333  7.606667  367500   \n",
       "1962-01-08   1.785148  7.326667  7.460000  7.266667  7.460000  547500   \n",
       "\n",
       "            Dividends  Stock Splits  \n",
       "Date                                 \n",
       "1962-01-02        NaN           NaN  \n",
       "1962-01-03        NaN           NaN  \n",
       "1962-01-04        NaN           NaN  \n",
       "1962-01-05        NaN           NaN  \n",
       "1962-01-08        NaN           NaN  "
      ]
     },
     "execution_count": 15,
     "metadata": {},
     "output_type": "execute_result"
    }
   ],
   "source": [
    "df_ibm.head()"
   ]
  },
  {
   "cell_type": "code",
   "execution_count": 16,
   "id": "treated-muslim",
   "metadata": {},
   "outputs": [
    {
     "data": {
      "text/plain": [
       "Adj Close            1.858243\n",
       "Close                7.626667\n",
       "High                 7.713333\n",
       "Low                  7.626667\n",
       "Open                 7.713333\n",
       "Volume          390000.000000\n",
       "Dividends                 NaN\n",
       "Stock Splits              NaN\n",
       "Name: 1962-01-02 00:00:00, dtype: float64"
      ]
     },
     "execution_count": 16,
     "metadata": {},
     "output_type": "execute_result"
    }
   ],
   "source": [
    "df_ibm.loc[df_ibm.first_valid_index()]"
   ]
  },
  {
   "cell_type": "code",
   "execution_count": 17,
   "id": "paperback-belle",
   "metadata": {},
   "outputs": [],
   "source": [
    "df_ibm = df_ibm.loc[df_ibm.first_valid_index():]"
   ]
  },
  {
   "cell_type": "code",
   "execution_count": 18,
   "id": "particular-modern",
   "metadata": {},
   "outputs": [
    {
     "data": {
      "text/html": [
       "<div>\n",
       "<style scoped>\n",
       "    .dataframe tbody tr th:only-of-type {\n",
       "        vertical-align: middle;\n",
       "    }\n",
       "\n",
       "    .dataframe tbody tr th {\n",
       "        vertical-align: top;\n",
       "    }\n",
       "\n",
       "    .dataframe thead th {\n",
       "        text-align: right;\n",
       "    }\n",
       "</style>\n",
       "<table border=\"1\" class=\"dataframe\">\n",
       "  <thead>\n",
       "    <tr style=\"text-align: right;\">\n",
       "      <th></th>\n",
       "      <th>Adj Close</th>\n",
       "      <th>Close</th>\n",
       "      <th>High</th>\n",
       "      <th>Low</th>\n",
       "      <th>Open</th>\n",
       "      <th>Volume</th>\n",
       "      <th>Dividends</th>\n",
       "      <th>Stock Splits</th>\n",
       "    </tr>\n",
       "    <tr>\n",
       "      <th>Date</th>\n",
       "      <th></th>\n",
       "      <th></th>\n",
       "      <th></th>\n",
       "      <th></th>\n",
       "      <th></th>\n",
       "      <th></th>\n",
       "      <th></th>\n",
       "      <th></th>\n",
       "    </tr>\n",
       "  </thead>\n",
       "  <tbody>\n",
       "    <tr>\n",
       "      <th>1962-01-02</th>\n",
       "      <td>1.858243</td>\n",
       "      <td>7.626667</td>\n",
       "      <td>7.713333</td>\n",
       "      <td>7.626667</td>\n",
       "      <td>7.713333</td>\n",
       "      <td>390000</td>\n",
       "      <td>NaN</td>\n",
       "      <td>NaN</td>\n",
       "    </tr>\n",
       "    <tr>\n",
       "      <th>1962-01-03</th>\n",
       "      <td>1.874485</td>\n",
       "      <td>7.693333</td>\n",
       "      <td>7.693333</td>\n",
       "      <td>7.626667</td>\n",
       "      <td>7.626667</td>\n",
       "      <td>292500</td>\n",
       "      <td>NaN</td>\n",
       "      <td>NaN</td>\n",
       "    </tr>\n",
       "    <tr>\n",
       "      <th>1962-01-04</th>\n",
       "      <td>1.855805</td>\n",
       "      <td>7.616667</td>\n",
       "      <td>7.693333</td>\n",
       "      <td>7.613333</td>\n",
       "      <td>7.693333</td>\n",
       "      <td>262500</td>\n",
       "      <td>NaN</td>\n",
       "      <td>NaN</td>\n",
       "    </tr>\n",
       "    <tr>\n",
       "      <th>1962-01-05</th>\n",
       "      <td>1.819257</td>\n",
       "      <td>7.466667</td>\n",
       "      <td>7.606667</td>\n",
       "      <td>7.453333</td>\n",
       "      <td>7.606667</td>\n",
       "      <td>367500</td>\n",
       "      <td>NaN</td>\n",
       "      <td>NaN</td>\n",
       "    </tr>\n",
       "    <tr>\n",
       "      <th>1962-01-08</th>\n",
       "      <td>1.785148</td>\n",
       "      <td>7.326667</td>\n",
       "      <td>7.460000</td>\n",
       "      <td>7.266667</td>\n",
       "      <td>7.460000</td>\n",
       "      <td>547500</td>\n",
       "      <td>NaN</td>\n",
       "      <td>NaN</td>\n",
       "    </tr>\n",
       "  </tbody>\n",
       "</table>\n",
       "</div>"
      ],
      "text/plain": [
       "            Adj Close     Close      High       Low      Open  Volume  \\\n",
       "Date                                                                    \n",
       "1962-01-02   1.858243  7.626667  7.713333  7.626667  7.713333  390000   \n",
       "1962-01-03   1.874485  7.693333  7.693333  7.626667  7.626667  292500   \n",
       "1962-01-04   1.855805  7.616667  7.693333  7.613333  7.693333  262500   \n",
       "1962-01-05   1.819257  7.466667  7.606667  7.453333  7.606667  367500   \n",
       "1962-01-08   1.785148  7.326667  7.460000  7.266667  7.460000  547500   \n",
       "\n",
       "            Dividends  Stock Splits  \n",
       "Date                                 \n",
       "1962-01-02        NaN           NaN  \n",
       "1962-01-03        NaN           NaN  \n",
       "1962-01-04        NaN           NaN  \n",
       "1962-01-05        NaN           NaN  \n",
       "1962-01-08        NaN           NaN  "
      ]
     },
     "execution_count": 18,
     "metadata": {},
     "output_type": "execute_result"
    }
   ],
   "source": [
    "df_ibm.head()"
   ]
  },
  {
   "cell_type": "code",
   "execution_count": 19,
   "id": "british-thriller",
   "metadata": {},
   "outputs": [],
   "source": [
    "i += 1"
   ]
  },
  {
   "cell_type": "markdown",
   "id": "failing-designation",
   "metadata": {},
   "source": [
    "#### ***Apple Inc.*** data:"
   ]
  },
  {
   "cell_type": "code",
   "execution_count": 20,
   "id": "preceding-beauty",
   "metadata": {},
   "outputs": [],
   "source": [
    "df_aapl = df_stocks.iloc[:, df_stocks.columns.get_level_values(1)==mnemonics[i]]"
   ]
  },
  {
   "cell_type": "code",
   "execution_count": 21,
   "id": "maritime-wales",
   "metadata": {},
   "outputs": [],
   "source": [
    "df_aapl = df_aapl.droplevel(axis=1, level=1)"
   ]
  },
  {
   "cell_type": "code",
   "execution_count": 22,
   "id": "pretty-isaac",
   "metadata": {},
   "outputs": [],
   "source": [
    "AAPL_ticker = yf.Ticker(mnemonics[i])"
   ]
  },
  {
   "cell_type": "code",
   "execution_count": 23,
   "id": "infinite-acrobat",
   "metadata": {},
   "outputs": [],
   "source": [
    "aapl_actions = AAPL_ticker.actions"
   ]
  },
  {
   "cell_type": "code",
   "execution_count": 24,
   "id": "clear-charm",
   "metadata": {},
   "outputs": [],
   "source": [
    "aapl_div = aapl_actions['Dividends']"
   ]
  },
  {
   "cell_type": "code",
   "execution_count": 25,
   "id": "inclusive-norway",
   "metadata": {},
   "outputs": [],
   "source": [
    "aapl_spl = aapl_actions['Stock Splits']"
   ]
  },
  {
   "cell_type": "code",
   "execution_count": 26,
   "id": "exterior-browse",
   "metadata": {},
   "outputs": [],
   "source": [
    "df_aapl = pd.concat([df_aapl, aapl_div, aapl_spl], axis=1)"
   ]
  },
  {
   "cell_type": "code",
   "execution_count": 27,
   "id": "reasonable-arena",
   "metadata": {},
   "outputs": [
    {
     "data": {
      "text/html": [
       "<div>\n",
       "<style scoped>\n",
       "    .dataframe tbody tr th:only-of-type {\n",
       "        vertical-align: middle;\n",
       "    }\n",
       "\n",
       "    .dataframe tbody tr th {\n",
       "        vertical-align: top;\n",
       "    }\n",
       "\n",
       "    .dataframe thead th {\n",
       "        text-align: right;\n",
       "    }\n",
       "</style>\n",
       "<table border=\"1\" class=\"dataframe\">\n",
       "  <thead>\n",
       "    <tr style=\"text-align: right;\">\n",
       "      <th></th>\n",
       "      <th>Adj Close</th>\n",
       "      <th>Close</th>\n",
       "      <th>High</th>\n",
       "      <th>Low</th>\n",
       "      <th>Open</th>\n",
       "      <th>Volume</th>\n",
       "      <th>Dividends</th>\n",
       "      <th>Stock Splits</th>\n",
       "    </tr>\n",
       "    <tr>\n",
       "      <th>Date</th>\n",
       "      <th></th>\n",
       "      <th></th>\n",
       "      <th></th>\n",
       "      <th></th>\n",
       "      <th></th>\n",
       "      <th></th>\n",
       "      <th></th>\n",
       "      <th></th>\n",
       "    </tr>\n",
       "  </thead>\n",
       "  <tbody>\n",
       "    <tr>\n",
       "      <th>1962-01-02</th>\n",
       "      <td>NaN</td>\n",
       "      <td>NaN</td>\n",
       "      <td>NaN</td>\n",
       "      <td>NaN</td>\n",
       "      <td>NaN</td>\n",
       "      <td>NaN</td>\n",
       "      <td>NaN</td>\n",
       "      <td>NaN</td>\n",
       "    </tr>\n",
       "    <tr>\n",
       "      <th>1962-01-03</th>\n",
       "      <td>NaN</td>\n",
       "      <td>NaN</td>\n",
       "      <td>NaN</td>\n",
       "      <td>NaN</td>\n",
       "      <td>NaN</td>\n",
       "      <td>NaN</td>\n",
       "      <td>NaN</td>\n",
       "      <td>NaN</td>\n",
       "    </tr>\n",
       "    <tr>\n",
       "      <th>1962-01-04</th>\n",
       "      <td>NaN</td>\n",
       "      <td>NaN</td>\n",
       "      <td>NaN</td>\n",
       "      <td>NaN</td>\n",
       "      <td>NaN</td>\n",
       "      <td>NaN</td>\n",
       "      <td>NaN</td>\n",
       "      <td>NaN</td>\n",
       "    </tr>\n",
       "    <tr>\n",
       "      <th>1962-01-05</th>\n",
       "      <td>NaN</td>\n",
       "      <td>NaN</td>\n",
       "      <td>NaN</td>\n",
       "      <td>NaN</td>\n",
       "      <td>NaN</td>\n",
       "      <td>NaN</td>\n",
       "      <td>NaN</td>\n",
       "      <td>NaN</td>\n",
       "    </tr>\n",
       "    <tr>\n",
       "      <th>1962-01-08</th>\n",
       "      <td>NaN</td>\n",
       "      <td>NaN</td>\n",
       "      <td>NaN</td>\n",
       "      <td>NaN</td>\n",
       "      <td>NaN</td>\n",
       "      <td>NaN</td>\n",
       "      <td>NaN</td>\n",
       "      <td>NaN</td>\n",
       "    </tr>\n",
       "  </tbody>\n",
       "</table>\n",
       "</div>"
      ],
      "text/plain": [
       "            Adj Close  Close  High  Low  Open  Volume  Dividends  Stock Splits\n",
       "Date                                                                          \n",
       "1962-01-02        NaN    NaN   NaN  NaN   NaN     NaN        NaN           NaN\n",
       "1962-01-03        NaN    NaN   NaN  NaN   NaN     NaN        NaN           NaN\n",
       "1962-01-04        NaN    NaN   NaN  NaN   NaN     NaN        NaN           NaN\n",
       "1962-01-05        NaN    NaN   NaN  NaN   NaN     NaN        NaN           NaN\n",
       "1962-01-08        NaN    NaN   NaN  NaN   NaN     NaN        NaN           NaN"
      ]
     },
     "execution_count": 27,
     "metadata": {},
     "output_type": "execute_result"
    }
   ],
   "source": [
    "df_aapl.head()"
   ]
  },
  {
   "cell_type": "code",
   "execution_count": 28,
   "id": "flying-irish",
   "metadata": {},
   "outputs": [
    {
     "data": {
      "text/plain": [
       "Adj Close       1.009219e-01\n",
       "Close           1.283480e-01\n",
       "High            1.289060e-01\n",
       "Low             1.283480e-01\n",
       "Open            1.283480e-01\n",
       "Volume          4.690336e+08\n",
       "Dividends                NaN\n",
       "Stock Splits             NaN\n",
       "Name: 1980-12-12 00:00:00, dtype: float64"
      ]
     },
     "execution_count": 28,
     "metadata": {},
     "output_type": "execute_result"
    }
   ],
   "source": [
    "df_aapl.loc[df_aapl.first_valid_index()]"
   ]
  },
  {
   "cell_type": "code",
   "execution_count": 29,
   "id": "collaborative-washington",
   "metadata": {},
   "outputs": [],
   "source": [
    "df_aapl = df_aapl.loc[df_aapl.first_valid_index():]"
   ]
  },
  {
   "cell_type": "code",
   "execution_count": 30,
   "id": "signal-default",
   "metadata": {},
   "outputs": [
    {
     "data": {
      "text/html": [
       "<div>\n",
       "<style scoped>\n",
       "    .dataframe tbody tr th:only-of-type {\n",
       "        vertical-align: middle;\n",
       "    }\n",
       "\n",
       "    .dataframe tbody tr th {\n",
       "        vertical-align: top;\n",
       "    }\n",
       "\n",
       "    .dataframe thead th {\n",
       "        text-align: right;\n",
       "    }\n",
       "</style>\n",
       "<table border=\"1\" class=\"dataframe\">\n",
       "  <thead>\n",
       "    <tr style=\"text-align: right;\">\n",
       "      <th></th>\n",
       "      <th>Adj Close</th>\n",
       "      <th>Close</th>\n",
       "      <th>High</th>\n",
       "      <th>Low</th>\n",
       "      <th>Open</th>\n",
       "      <th>Volume</th>\n",
       "      <th>Dividends</th>\n",
       "      <th>Stock Splits</th>\n",
       "    </tr>\n",
       "    <tr>\n",
       "      <th>Date</th>\n",
       "      <th></th>\n",
       "      <th></th>\n",
       "      <th></th>\n",
       "      <th></th>\n",
       "      <th></th>\n",
       "      <th></th>\n",
       "      <th></th>\n",
       "      <th></th>\n",
       "    </tr>\n",
       "  </thead>\n",
       "  <tbody>\n",
       "    <tr>\n",
       "      <th>1980-12-12</th>\n",
       "      <td>0.100922</td>\n",
       "      <td>0.128348</td>\n",
       "      <td>0.128906</td>\n",
       "      <td>0.128348</td>\n",
       "      <td>0.128348</td>\n",
       "      <td>469033600.0</td>\n",
       "      <td>NaN</td>\n",
       "      <td>NaN</td>\n",
       "    </tr>\n",
       "    <tr>\n",
       "      <th>1980-12-15</th>\n",
       "      <td>0.095657</td>\n",
       "      <td>0.121652</td>\n",
       "      <td>0.122210</td>\n",
       "      <td>0.121652</td>\n",
       "      <td>0.122210</td>\n",
       "      <td>175884800.0</td>\n",
       "      <td>NaN</td>\n",
       "      <td>NaN</td>\n",
       "    </tr>\n",
       "    <tr>\n",
       "      <th>1980-12-16</th>\n",
       "      <td>0.088636</td>\n",
       "      <td>0.112723</td>\n",
       "      <td>0.113281</td>\n",
       "      <td>0.112723</td>\n",
       "      <td>0.113281</td>\n",
       "      <td>105728000.0</td>\n",
       "      <td>NaN</td>\n",
       "      <td>NaN</td>\n",
       "    </tr>\n",
       "    <tr>\n",
       "      <th>1980-12-17</th>\n",
       "      <td>0.090830</td>\n",
       "      <td>0.115513</td>\n",
       "      <td>0.116071</td>\n",
       "      <td>0.115513</td>\n",
       "      <td>0.115513</td>\n",
       "      <td>86441600.0</td>\n",
       "      <td>NaN</td>\n",
       "      <td>NaN</td>\n",
       "    </tr>\n",
       "    <tr>\n",
       "      <th>1980-12-18</th>\n",
       "      <td>0.093463</td>\n",
       "      <td>0.118862</td>\n",
       "      <td>0.119420</td>\n",
       "      <td>0.118862</td>\n",
       "      <td>0.118862</td>\n",
       "      <td>73449600.0</td>\n",
       "      <td>NaN</td>\n",
       "      <td>NaN</td>\n",
       "    </tr>\n",
       "  </tbody>\n",
       "</table>\n",
       "</div>"
      ],
      "text/plain": [
       "            Adj Close     Close      High       Low      Open       Volume  \\\n",
       "Date                                                                         \n",
       "1980-12-12   0.100922  0.128348  0.128906  0.128348  0.128348  469033600.0   \n",
       "1980-12-15   0.095657  0.121652  0.122210  0.121652  0.122210  175884800.0   \n",
       "1980-12-16   0.088636  0.112723  0.113281  0.112723  0.113281  105728000.0   \n",
       "1980-12-17   0.090830  0.115513  0.116071  0.115513  0.115513   86441600.0   \n",
       "1980-12-18   0.093463  0.118862  0.119420  0.118862  0.118862   73449600.0   \n",
       "\n",
       "            Dividends  Stock Splits  \n",
       "Date                                 \n",
       "1980-12-12        NaN           NaN  \n",
       "1980-12-15        NaN           NaN  \n",
       "1980-12-16        NaN           NaN  \n",
       "1980-12-17        NaN           NaN  \n",
       "1980-12-18        NaN           NaN  "
      ]
     },
     "execution_count": 30,
     "metadata": {},
     "output_type": "execute_result"
    }
   ],
   "source": [
    "df_aapl.head()"
   ]
  },
  {
   "cell_type": "code",
   "execution_count": 31,
   "id": "adjusted-original",
   "metadata": {},
   "outputs": [],
   "source": [
    "i += 1"
   ]
  },
  {
   "cell_type": "markdown",
   "id": "rotary-background",
   "metadata": {},
   "source": [
    "#### ***Amazon.com Inc.*** data:"
   ]
  },
  {
   "cell_type": "code",
   "execution_count": 32,
   "id": "rental-kinase",
   "metadata": {},
   "outputs": [],
   "source": [
    "df_amzn = df_stocks.iloc[:, df_stocks.columns.get_level_values(1)==mnemonics[i]]"
   ]
  },
  {
   "cell_type": "code",
   "execution_count": 33,
   "id": "selective-trailer",
   "metadata": {},
   "outputs": [],
   "source": [
    "df_amzn = df_amzn.droplevel(axis=1, level=1)"
   ]
  },
  {
   "cell_type": "code",
   "execution_count": 34,
   "id": "critical-philippines",
   "metadata": {},
   "outputs": [],
   "source": [
    "AMZN_ticker = yf.Ticker(mnemonics[i])"
   ]
  },
  {
   "cell_type": "code",
   "execution_count": 35,
   "id": "compressed-printer",
   "metadata": {},
   "outputs": [],
   "source": [
    "amzn_actions = AMZN_ticker.actions"
   ]
  },
  {
   "cell_type": "code",
   "execution_count": 36,
   "id": "stopped-strap",
   "metadata": {},
   "outputs": [],
   "source": [
    "amzn_div = amzn_actions['Dividends']"
   ]
  },
  {
   "cell_type": "code",
   "execution_count": 37,
   "id": "intimate-tours",
   "metadata": {},
   "outputs": [],
   "source": [
    "amzn_spl = amzn_actions['Stock Splits']"
   ]
  },
  {
   "cell_type": "code",
   "execution_count": 38,
   "id": "continent-spotlight",
   "metadata": {},
   "outputs": [],
   "source": [
    "df_amzn = pd.concat([df_amzn, amzn_div, amzn_spl], axis=1)"
   ]
  },
  {
   "cell_type": "code",
   "execution_count": 39,
   "id": "determined-passage",
   "metadata": {},
   "outputs": [
    {
     "data": {
      "text/html": [
       "<div>\n",
       "<style scoped>\n",
       "    .dataframe tbody tr th:only-of-type {\n",
       "        vertical-align: middle;\n",
       "    }\n",
       "\n",
       "    .dataframe tbody tr th {\n",
       "        vertical-align: top;\n",
       "    }\n",
       "\n",
       "    .dataframe thead th {\n",
       "        text-align: right;\n",
       "    }\n",
       "</style>\n",
       "<table border=\"1\" class=\"dataframe\">\n",
       "  <thead>\n",
       "    <tr style=\"text-align: right;\">\n",
       "      <th></th>\n",
       "      <th>Adj Close</th>\n",
       "      <th>Close</th>\n",
       "      <th>High</th>\n",
       "      <th>Low</th>\n",
       "      <th>Open</th>\n",
       "      <th>Volume</th>\n",
       "      <th>Dividends</th>\n",
       "      <th>Stock Splits</th>\n",
       "    </tr>\n",
       "    <tr>\n",
       "      <th>Date</th>\n",
       "      <th></th>\n",
       "      <th></th>\n",
       "      <th></th>\n",
       "      <th></th>\n",
       "      <th></th>\n",
       "      <th></th>\n",
       "      <th></th>\n",
       "      <th></th>\n",
       "    </tr>\n",
       "  </thead>\n",
       "  <tbody>\n",
       "    <tr>\n",
       "      <th>1962-01-02</th>\n",
       "      <td>NaN</td>\n",
       "      <td>NaN</td>\n",
       "      <td>NaN</td>\n",
       "      <td>NaN</td>\n",
       "      <td>NaN</td>\n",
       "      <td>NaN</td>\n",
       "      <td>NaN</td>\n",
       "      <td>NaN</td>\n",
       "    </tr>\n",
       "    <tr>\n",
       "      <th>1962-01-03</th>\n",
       "      <td>NaN</td>\n",
       "      <td>NaN</td>\n",
       "      <td>NaN</td>\n",
       "      <td>NaN</td>\n",
       "      <td>NaN</td>\n",
       "      <td>NaN</td>\n",
       "      <td>NaN</td>\n",
       "      <td>NaN</td>\n",
       "    </tr>\n",
       "    <tr>\n",
       "      <th>1962-01-04</th>\n",
       "      <td>NaN</td>\n",
       "      <td>NaN</td>\n",
       "      <td>NaN</td>\n",
       "      <td>NaN</td>\n",
       "      <td>NaN</td>\n",
       "      <td>NaN</td>\n",
       "      <td>NaN</td>\n",
       "      <td>NaN</td>\n",
       "    </tr>\n",
       "    <tr>\n",
       "      <th>1962-01-05</th>\n",
       "      <td>NaN</td>\n",
       "      <td>NaN</td>\n",
       "      <td>NaN</td>\n",
       "      <td>NaN</td>\n",
       "      <td>NaN</td>\n",
       "      <td>NaN</td>\n",
       "      <td>NaN</td>\n",
       "      <td>NaN</td>\n",
       "    </tr>\n",
       "    <tr>\n",
       "      <th>1962-01-08</th>\n",
       "      <td>NaN</td>\n",
       "      <td>NaN</td>\n",
       "      <td>NaN</td>\n",
       "      <td>NaN</td>\n",
       "      <td>NaN</td>\n",
       "      <td>NaN</td>\n",
       "      <td>NaN</td>\n",
       "      <td>NaN</td>\n",
       "    </tr>\n",
       "  </tbody>\n",
       "</table>\n",
       "</div>"
      ],
      "text/plain": [
       "            Adj Close  Close  High  Low  Open  Volume  Dividends  Stock Splits\n",
       "Date                                                                          \n",
       "1962-01-02        NaN    NaN   NaN  NaN   NaN     NaN        NaN           NaN\n",
       "1962-01-03        NaN    NaN   NaN  NaN   NaN     NaN        NaN           NaN\n",
       "1962-01-04        NaN    NaN   NaN  NaN   NaN     NaN        NaN           NaN\n",
       "1962-01-05        NaN    NaN   NaN  NaN   NaN     NaN        NaN           NaN\n",
       "1962-01-08        NaN    NaN   NaN  NaN   NaN     NaN        NaN           NaN"
      ]
     },
     "execution_count": 39,
     "metadata": {},
     "output_type": "execute_result"
    }
   ],
   "source": [
    "df_amzn.head()"
   ]
  },
  {
   "cell_type": "code",
   "execution_count": 40,
   "id": "progressive-brazilian",
   "metadata": {},
   "outputs": [
    {
     "data": {
      "text/plain": [
       "Adj Close       1.958333e+00\n",
       "Close           1.958333e+00\n",
       "High            2.500000e+00\n",
       "Low             1.927083e+00\n",
       "Open            2.437500e+00\n",
       "Volume          7.215600e+07\n",
       "Dividends                NaN\n",
       "Stock Splits             NaN\n",
       "Name: 1997-05-15 00:00:00, dtype: float64"
      ]
     },
     "execution_count": 40,
     "metadata": {},
     "output_type": "execute_result"
    }
   ],
   "source": [
    "df_amzn.loc[df_amzn.first_valid_index()]"
   ]
  },
  {
   "cell_type": "code",
   "execution_count": 41,
   "id": "compound-brighton",
   "metadata": {},
   "outputs": [],
   "source": [
    "df_amzn = df_amzn.loc[df_amzn.first_valid_index():]"
   ]
  },
  {
   "cell_type": "code",
   "execution_count": 42,
   "id": "narrative-layer",
   "metadata": {},
   "outputs": [
    {
     "data": {
      "text/html": [
       "<div>\n",
       "<style scoped>\n",
       "    .dataframe tbody tr th:only-of-type {\n",
       "        vertical-align: middle;\n",
       "    }\n",
       "\n",
       "    .dataframe tbody tr th {\n",
       "        vertical-align: top;\n",
       "    }\n",
       "\n",
       "    .dataframe thead th {\n",
       "        text-align: right;\n",
       "    }\n",
       "</style>\n",
       "<table border=\"1\" class=\"dataframe\">\n",
       "  <thead>\n",
       "    <tr style=\"text-align: right;\">\n",
       "      <th></th>\n",
       "      <th>Adj Close</th>\n",
       "      <th>Close</th>\n",
       "      <th>High</th>\n",
       "      <th>Low</th>\n",
       "      <th>Open</th>\n",
       "      <th>Volume</th>\n",
       "      <th>Dividends</th>\n",
       "      <th>Stock Splits</th>\n",
       "    </tr>\n",
       "    <tr>\n",
       "      <th>Date</th>\n",
       "      <th></th>\n",
       "      <th></th>\n",
       "      <th></th>\n",
       "      <th></th>\n",
       "      <th></th>\n",
       "      <th></th>\n",
       "      <th></th>\n",
       "      <th></th>\n",
       "    </tr>\n",
       "  </thead>\n",
       "  <tbody>\n",
       "    <tr>\n",
       "      <th>1997-05-15</th>\n",
       "      <td>1.958333</td>\n",
       "      <td>1.958333</td>\n",
       "      <td>2.500000</td>\n",
       "      <td>1.927083</td>\n",
       "      <td>2.437500</td>\n",
       "      <td>72156000.0</td>\n",
       "      <td>NaN</td>\n",
       "      <td>NaN</td>\n",
       "    </tr>\n",
       "    <tr>\n",
       "      <th>1997-05-16</th>\n",
       "      <td>1.729167</td>\n",
       "      <td>1.729167</td>\n",
       "      <td>1.979167</td>\n",
       "      <td>1.708333</td>\n",
       "      <td>1.968750</td>\n",
       "      <td>14700000.0</td>\n",
       "      <td>NaN</td>\n",
       "      <td>NaN</td>\n",
       "    </tr>\n",
       "    <tr>\n",
       "      <th>1997-05-19</th>\n",
       "      <td>1.708333</td>\n",
       "      <td>1.708333</td>\n",
       "      <td>1.770833</td>\n",
       "      <td>1.625000</td>\n",
       "      <td>1.760417</td>\n",
       "      <td>6106800.0</td>\n",
       "      <td>NaN</td>\n",
       "      <td>NaN</td>\n",
       "    </tr>\n",
       "    <tr>\n",
       "      <th>1997-05-20</th>\n",
       "      <td>1.635417</td>\n",
       "      <td>1.635417</td>\n",
       "      <td>1.750000</td>\n",
       "      <td>1.635417</td>\n",
       "      <td>1.729167</td>\n",
       "      <td>5467200.0</td>\n",
       "      <td>NaN</td>\n",
       "      <td>NaN</td>\n",
       "    </tr>\n",
       "    <tr>\n",
       "      <th>1997-05-21</th>\n",
       "      <td>1.427083</td>\n",
       "      <td>1.427083</td>\n",
       "      <td>1.645833</td>\n",
       "      <td>1.375000</td>\n",
       "      <td>1.635417</td>\n",
       "      <td>18853200.0</td>\n",
       "      <td>NaN</td>\n",
       "      <td>NaN</td>\n",
       "    </tr>\n",
       "  </tbody>\n",
       "</table>\n",
       "</div>"
      ],
      "text/plain": [
       "            Adj Close     Close      High       Low      Open      Volume  \\\n",
       "Date                                                                        \n",
       "1997-05-15   1.958333  1.958333  2.500000  1.927083  2.437500  72156000.0   \n",
       "1997-05-16   1.729167  1.729167  1.979167  1.708333  1.968750  14700000.0   \n",
       "1997-05-19   1.708333  1.708333  1.770833  1.625000  1.760417   6106800.0   \n",
       "1997-05-20   1.635417  1.635417  1.750000  1.635417  1.729167   5467200.0   \n",
       "1997-05-21   1.427083  1.427083  1.645833  1.375000  1.635417  18853200.0   \n",
       "\n",
       "            Dividends  Stock Splits  \n",
       "Date                                 \n",
       "1997-05-15        NaN           NaN  \n",
       "1997-05-16        NaN           NaN  \n",
       "1997-05-19        NaN           NaN  \n",
       "1997-05-20        NaN           NaN  \n",
       "1997-05-21        NaN           NaN  "
      ]
     },
     "execution_count": 42,
     "metadata": {},
     "output_type": "execute_result"
    }
   ],
   "source": [
    "df_amzn.head()"
   ]
  },
  {
   "cell_type": "code",
   "execution_count": 43,
   "id": "seasonal-athletics",
   "metadata": {},
   "outputs": [],
   "source": [
    "i += 1"
   ]
  },
  {
   "cell_type": "markdown",
   "id": "greatest-scholarship",
   "metadata": {},
   "source": [
    "#### ***Alphabet Inc.*** data:"
   ]
  },
  {
   "cell_type": "code",
   "execution_count": 44,
   "id": "municipal-elimination",
   "metadata": {},
   "outputs": [],
   "source": [
    "df_googl = df_stocks.iloc[:, df_stocks.columns.get_level_values(1)==mnemonics[i]]"
   ]
  },
  {
   "cell_type": "code",
   "execution_count": 45,
   "id": "chicken-ecuador",
   "metadata": {},
   "outputs": [],
   "source": [
    "df_googl = df_googl.droplevel(axis=1, level=1)"
   ]
  },
  {
   "cell_type": "code",
   "execution_count": 46,
   "id": "grateful-chair",
   "metadata": {},
   "outputs": [],
   "source": [
    "GOOGL_ticker = yf.Ticker(mnemonics[i])"
   ]
  },
  {
   "cell_type": "code",
   "execution_count": 47,
   "id": "surgical-editor",
   "metadata": {},
   "outputs": [],
   "source": [
    "googl_actions = GOOGL_ticker.actions"
   ]
  },
  {
   "cell_type": "code",
   "execution_count": 48,
   "id": "completed-pattern",
   "metadata": {},
   "outputs": [],
   "source": [
    "googl_div = googl_actions['Dividends']"
   ]
  },
  {
   "cell_type": "code",
   "execution_count": 49,
   "id": "spoken-ireland",
   "metadata": {},
   "outputs": [],
   "source": [
    "googl_spl = googl_actions['Stock Splits']"
   ]
  },
  {
   "cell_type": "code",
   "execution_count": 50,
   "id": "dominant-bradley",
   "metadata": {},
   "outputs": [],
   "source": [
    "df_googl = pd.concat([df_googl, googl_div, googl_spl], axis=1)"
   ]
  },
  {
   "cell_type": "code",
   "execution_count": 51,
   "id": "protecting-importance",
   "metadata": {},
   "outputs": [
    {
     "data": {
      "text/html": [
       "<div>\n",
       "<style scoped>\n",
       "    .dataframe tbody tr th:only-of-type {\n",
       "        vertical-align: middle;\n",
       "    }\n",
       "\n",
       "    .dataframe tbody tr th {\n",
       "        vertical-align: top;\n",
       "    }\n",
       "\n",
       "    .dataframe thead th {\n",
       "        text-align: right;\n",
       "    }\n",
       "</style>\n",
       "<table border=\"1\" class=\"dataframe\">\n",
       "  <thead>\n",
       "    <tr style=\"text-align: right;\">\n",
       "      <th></th>\n",
       "      <th>Adj Close</th>\n",
       "      <th>Close</th>\n",
       "      <th>High</th>\n",
       "      <th>Low</th>\n",
       "      <th>Open</th>\n",
       "      <th>Volume</th>\n",
       "      <th>Dividends</th>\n",
       "      <th>Stock Splits</th>\n",
       "    </tr>\n",
       "    <tr>\n",
       "      <th>Date</th>\n",
       "      <th></th>\n",
       "      <th></th>\n",
       "      <th></th>\n",
       "      <th></th>\n",
       "      <th></th>\n",
       "      <th></th>\n",
       "      <th></th>\n",
       "      <th></th>\n",
       "    </tr>\n",
       "  </thead>\n",
       "  <tbody>\n",
       "    <tr>\n",
       "      <th>1962-01-02</th>\n",
       "      <td>NaN</td>\n",
       "      <td>NaN</td>\n",
       "      <td>NaN</td>\n",
       "      <td>NaN</td>\n",
       "      <td>NaN</td>\n",
       "      <td>NaN</td>\n",
       "      <td>NaN</td>\n",
       "      <td>NaN</td>\n",
       "    </tr>\n",
       "    <tr>\n",
       "      <th>1962-01-03</th>\n",
       "      <td>NaN</td>\n",
       "      <td>NaN</td>\n",
       "      <td>NaN</td>\n",
       "      <td>NaN</td>\n",
       "      <td>NaN</td>\n",
       "      <td>NaN</td>\n",
       "      <td>NaN</td>\n",
       "      <td>NaN</td>\n",
       "    </tr>\n",
       "    <tr>\n",
       "      <th>1962-01-04</th>\n",
       "      <td>NaN</td>\n",
       "      <td>NaN</td>\n",
       "      <td>NaN</td>\n",
       "      <td>NaN</td>\n",
       "      <td>NaN</td>\n",
       "      <td>NaN</td>\n",
       "      <td>NaN</td>\n",
       "      <td>NaN</td>\n",
       "    </tr>\n",
       "    <tr>\n",
       "      <th>1962-01-05</th>\n",
       "      <td>NaN</td>\n",
       "      <td>NaN</td>\n",
       "      <td>NaN</td>\n",
       "      <td>NaN</td>\n",
       "      <td>NaN</td>\n",
       "      <td>NaN</td>\n",
       "      <td>NaN</td>\n",
       "      <td>NaN</td>\n",
       "    </tr>\n",
       "    <tr>\n",
       "      <th>1962-01-08</th>\n",
       "      <td>NaN</td>\n",
       "      <td>NaN</td>\n",
       "      <td>NaN</td>\n",
       "      <td>NaN</td>\n",
       "      <td>NaN</td>\n",
       "      <td>NaN</td>\n",
       "      <td>NaN</td>\n",
       "      <td>NaN</td>\n",
       "    </tr>\n",
       "  </tbody>\n",
       "</table>\n",
       "</div>"
      ],
      "text/plain": [
       "            Adj Close  Close  High  Low  Open  Volume  Dividends  Stock Splits\n",
       "Date                                                                          \n",
       "1962-01-02        NaN    NaN   NaN  NaN   NaN     NaN        NaN           NaN\n",
       "1962-01-03        NaN    NaN   NaN  NaN   NaN     NaN        NaN           NaN\n",
       "1962-01-04        NaN    NaN   NaN  NaN   NaN     NaN        NaN           NaN\n",
       "1962-01-05        NaN    NaN   NaN  NaN   NaN     NaN        NaN           NaN\n",
       "1962-01-08        NaN    NaN   NaN  NaN   NaN     NaN        NaN           NaN"
      ]
     },
     "execution_count": 51,
     "metadata": {},
     "output_type": "execute_result"
    }
   ],
   "source": [
    "df_googl.head()"
   ]
  },
  {
   "cell_type": "code",
   "execution_count": 52,
   "id": "normal-growth",
   "metadata": {},
   "outputs": [
    {
     "data": {
      "text/plain": [
       "Adj Close       5.022022e+01\n",
       "Close           5.022022e+01\n",
       "High            5.208208e+01\n",
       "Low             4.802803e+01\n",
       "Open            5.005005e+01\n",
       "Volume          4.465910e+07\n",
       "Dividends                NaN\n",
       "Stock Splits             NaN\n",
       "Name: 2004-08-19 00:00:00, dtype: float64"
      ]
     },
     "execution_count": 52,
     "metadata": {},
     "output_type": "execute_result"
    }
   ],
   "source": [
    "df_googl.loc[df_googl.first_valid_index()]"
   ]
  },
  {
   "cell_type": "code",
   "execution_count": 53,
   "id": "charming-brooks",
   "metadata": {},
   "outputs": [],
   "source": [
    "df_googl = df_googl.loc[df_googl.first_valid_index():]"
   ]
  },
  {
   "cell_type": "code",
   "execution_count": 54,
   "id": "rough-motivation",
   "metadata": {},
   "outputs": [
    {
     "data": {
      "text/html": [
       "<div>\n",
       "<style scoped>\n",
       "    .dataframe tbody tr th:only-of-type {\n",
       "        vertical-align: middle;\n",
       "    }\n",
       "\n",
       "    .dataframe tbody tr th {\n",
       "        vertical-align: top;\n",
       "    }\n",
       "\n",
       "    .dataframe thead th {\n",
       "        text-align: right;\n",
       "    }\n",
       "</style>\n",
       "<table border=\"1\" class=\"dataframe\">\n",
       "  <thead>\n",
       "    <tr style=\"text-align: right;\">\n",
       "      <th></th>\n",
       "      <th>Adj Close</th>\n",
       "      <th>Close</th>\n",
       "      <th>High</th>\n",
       "      <th>Low</th>\n",
       "      <th>Open</th>\n",
       "      <th>Volume</th>\n",
       "      <th>Dividends</th>\n",
       "      <th>Stock Splits</th>\n",
       "    </tr>\n",
       "    <tr>\n",
       "      <th>Date</th>\n",
       "      <th></th>\n",
       "      <th></th>\n",
       "      <th></th>\n",
       "      <th></th>\n",
       "      <th></th>\n",
       "      <th></th>\n",
       "      <th></th>\n",
       "      <th></th>\n",
       "    </tr>\n",
       "  </thead>\n",
       "  <tbody>\n",
       "    <tr>\n",
       "      <th>2004-08-19</th>\n",
       "      <td>50.220219</td>\n",
       "      <td>50.220219</td>\n",
       "      <td>52.082081</td>\n",
       "      <td>48.028027</td>\n",
       "      <td>50.050049</td>\n",
       "      <td>44659096.0</td>\n",
       "      <td>NaN</td>\n",
       "      <td>NaN</td>\n",
       "    </tr>\n",
       "    <tr>\n",
       "      <th>2004-08-20</th>\n",
       "      <td>54.209209</td>\n",
       "      <td>54.209209</td>\n",
       "      <td>54.594597</td>\n",
       "      <td>50.300301</td>\n",
       "      <td>50.555557</td>\n",
       "      <td>22834343.0</td>\n",
       "      <td>NaN</td>\n",
       "      <td>NaN</td>\n",
       "    </tr>\n",
       "    <tr>\n",
       "      <th>2004-08-23</th>\n",
       "      <td>54.754753</td>\n",
       "      <td>54.754753</td>\n",
       "      <td>56.796799</td>\n",
       "      <td>54.579578</td>\n",
       "      <td>55.430431</td>\n",
       "      <td>18256126.0</td>\n",
       "      <td>NaN</td>\n",
       "      <td>NaN</td>\n",
       "    </tr>\n",
       "    <tr>\n",
       "      <th>2004-08-24</th>\n",
       "      <td>52.487488</td>\n",
       "      <td>52.487488</td>\n",
       "      <td>55.855858</td>\n",
       "      <td>51.836838</td>\n",
       "      <td>55.675674</td>\n",
       "      <td>15247337.0</td>\n",
       "      <td>NaN</td>\n",
       "      <td>NaN</td>\n",
       "    </tr>\n",
       "    <tr>\n",
       "      <th>2004-08-25</th>\n",
       "      <td>53.053055</td>\n",
       "      <td>53.053055</td>\n",
       "      <td>54.054054</td>\n",
       "      <td>51.991993</td>\n",
       "      <td>52.532532</td>\n",
       "      <td>9188602.0</td>\n",
       "      <td>NaN</td>\n",
       "      <td>NaN</td>\n",
       "    </tr>\n",
       "  </tbody>\n",
       "</table>\n",
       "</div>"
      ],
      "text/plain": [
       "            Adj Close      Close       High        Low       Open      Volume  \\\n",
       "Date                                                                            \n",
       "2004-08-19  50.220219  50.220219  52.082081  48.028027  50.050049  44659096.0   \n",
       "2004-08-20  54.209209  54.209209  54.594597  50.300301  50.555557  22834343.0   \n",
       "2004-08-23  54.754753  54.754753  56.796799  54.579578  55.430431  18256126.0   \n",
       "2004-08-24  52.487488  52.487488  55.855858  51.836838  55.675674  15247337.0   \n",
       "2004-08-25  53.053055  53.053055  54.054054  51.991993  52.532532   9188602.0   \n",
       "\n",
       "            Dividends  Stock Splits  \n",
       "Date                                 \n",
       "2004-08-19        NaN           NaN  \n",
       "2004-08-20        NaN           NaN  \n",
       "2004-08-23        NaN           NaN  \n",
       "2004-08-24        NaN           NaN  \n",
       "2004-08-25        NaN           NaN  "
      ]
     },
     "execution_count": 54,
     "metadata": {},
     "output_type": "execute_result"
    }
   ],
   "source": [
    "df_googl.head()"
   ]
  },
  {
   "cell_type": "markdown",
   "id": "fresh-adjustment",
   "metadata": {},
   "source": [
    "Now we'll procede with exploratory data analysis and feature engineering"
   ]
  }
 ],
 "metadata": {
  "kernelspec": {
   "display_name": "conda_pytorch_p36",
   "language": "python",
   "name": "conda_pytorch_p36"
  },
  "language_info": {
   "codemirror_mode": {
    "name": "ipython",
    "version": 3
   },
   "file_extension": ".py",
   "mimetype": "text/x-python",
   "name": "python",
   "nbconvert_exporter": "python",
   "pygments_lexer": "ipython3",
   "version": "3.6.13"
  }
 },
 "nbformat": 4,
 "nbformat_minor": 5
}
