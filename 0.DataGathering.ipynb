{
 "cells": [
  {
   "cell_type": "markdown",
   "id": "indie-listening",
   "metadata": {},
   "source": [
    "## Data gathering"
   ]
  },
  {
   "cell_type": "raw",
   "id": "eleven-emergency",
   "metadata": {},
   "source": [
    "First step of this analysis will be stock prices data gathering from one or more sources."
   ]
  },
  {
   "cell_type": "markdown",
   "id": "proud-attention",
   "metadata": {},
   "source": [
    "By now, only one source will be used: Yahoo! Finance.\n",
    "More sources of data can be added later on, if additional data features from there would be considered to add useful information to the analysis."
   ]
  },
  {
   "cell_type": "markdown",
   "id": "thirty-press",
   "metadata": {},
   "source": [
    "Gatering data from Yahoo Finance"
   ]
  },
  {
   "cell_type": "markdown",
   "id": "electoral-tablet",
   "metadata": {},
   "source": [
    "Target symbols:"
   ]
  },
  {
   "cell_type": "code",
   "execution_count": 1,
   "id": "caring-corner",
   "metadata": {},
   "outputs": [],
   "source": [
    "ibm = 'IBM' \n",
    "aapl = 'AAPL'\n",
    "amzn = 'AMZN'\n",
    "googl = 'GOOGL'"
   ]
  },
  {
   "cell_type": "code",
   "execution_count": 2,
   "id": "mathematical-height",
   "metadata": {},
   "outputs": [],
   "source": [
    "mnemonics = [ibm, aapl, amzn, googl]"
   ]
  },
  {
   "cell_type": "markdown",
   "id": "million-pencil",
   "metadata": {},
   "source": [
    "Setting dataset record start date and end date:\n",
    "* start will be just set to 1st Genuary 1900, in order to retrieve the logest possible time series. A more proper time series data trimming would be conducted later in the analysis;\n",
    "* end time will be today date."
   ]
  },
  {
   "cell_type": "code",
   "execution_count": 3,
   "id": "rental-legislature",
   "metadata": {},
   "outputs": [],
   "source": [
    "import datetime"
   ]
  },
  {
   "cell_type": "code",
   "execution_count": 4,
   "id": "thermal-phase",
   "metadata": {},
   "outputs": [],
   "source": [
    "start = datetime.datetime(1900, 1, 1)\n",
    "end = datetime.date.today()"
   ]
  },
  {
   "cell_type": "markdown",
   "id": "public-consistency",
   "metadata": {},
   "source": [
    "## Gathering data from Yahoo! Finance"
   ]
  },
  {
   "cell_type": "markdown",
   "id": "hispanic-fundamentals",
   "metadata": {},
   "source": [
    "Data from Yahoo! Finance."
   ]
  },
  {
   "cell_type": "code",
   "execution_count": 5,
   "id": "aggregate-needle",
   "metadata": {},
   "outputs": [],
   "source": [
    "# yfinance is a Yahoo! Finance market data downloader,\n",
    "# that allows to access Yahoo finance data after Yahoo\n",
    "# has discontinued support for this API\n",
    "import yfinance as yf"
   ]
  },
  {
   "cell_type": "markdown",
   "id": "single-hungary",
   "metadata": {},
   "source": [
    "#### ***IBM*** data:"
   ]
  },
  {
   "cell_type": "code",
   "execution_count": 6,
   "id": "biological-demographic",
   "metadata": {},
   "outputs": [
    {
     "name": "stdout",
     "output_type": "stream",
     "text": [
      "[*********************100%***********************]  1 of 1 completed\n"
     ]
    }
   ],
   "source": [
    "df_yf_ibm = yf.download(ibm, start=start, end=end)"
   ]
  },
  {
   "cell_type": "markdown",
   "id": "third-gazette",
   "metadata": {},
   "source": [
    "#### ***Apple Inc.*** data:"
   ]
  },
  {
   "cell_type": "code",
   "execution_count": 7,
   "id": "simplified-syndication",
   "metadata": {},
   "outputs": [
    {
     "name": "stdout",
     "output_type": "stream",
     "text": [
      "[*********************100%***********************]  1 of 1 completed\n"
     ]
    }
   ],
   "source": [
    "df_yf_aapl = yf.download(aapl, start=start, end=end)"
   ]
  },
  {
   "cell_type": "markdown",
   "id": "practical-mexican",
   "metadata": {},
   "source": [
    "#### ***Amazon.com Inc.*** data:"
   ]
  },
  {
   "cell_type": "code",
   "execution_count": 8,
   "id": "occupied-rotation",
   "metadata": {},
   "outputs": [
    {
     "name": "stdout",
     "output_type": "stream",
     "text": [
      "[*********************100%***********************]  1 of 1 completed\n"
     ]
    }
   ],
   "source": [
    "df_yf_amzn = yf.download(amzn, start=start, end=end)"
   ]
  },
  {
   "cell_type": "markdown",
   "id": "first-trinity",
   "metadata": {},
   "source": [
    "#### ***Alphabet Inc.*** data:"
   ]
  },
  {
   "cell_type": "code",
   "execution_count": 9,
   "id": "experienced-serial",
   "metadata": {},
   "outputs": [
    {
     "name": "stdout",
     "output_type": "stream",
     "text": [
      "[*********************100%***********************]  1 of 1 completed\n"
     ]
    }
   ],
   "source": [
    "df_yf_googl = yf.download(googl, start=start, end=end)"
   ]
  },
  {
   "cell_type": "markdown",
   "id": "vocational-witness",
   "metadata": {},
   "source": [
    "# Renaming dataframes\n",
    "\n",
    "By now, as said before, I'll use Yahoo! Finance as the sole source of data, so, i will simply rename the dataframes."
   ]
  },
  {
   "cell_type": "code",
   "execution_count": 10,
   "id": "gorgeous-backing",
   "metadata": {},
   "outputs": [],
   "source": [
    "df_ibm = df_yf_ibm"
   ]
  },
  {
   "cell_type": "code",
   "execution_count": 11,
   "id": "cloudy-green",
   "metadata": {},
   "outputs": [],
   "source": [
    "df_aapl = df_yf_aapl"
   ]
  },
  {
   "cell_type": "code",
   "execution_count": 12,
   "id": "minus-jersey",
   "metadata": {},
   "outputs": [],
   "source": [
    "df_amzn = df_yf_amzn"
   ]
  },
  {
   "cell_type": "code",
   "execution_count": 13,
   "id": "median-virginia",
   "metadata": {},
   "outputs": [],
   "source": [
    "df_googl = df_yf_googl"
   ]
  },
  {
   "cell_type": "code",
   "execution_count": null,
   "id": "ruled-prince",
   "metadata": {},
   "outputs": [],
   "source": []
  }
 ],
 "metadata": {
  "kernelspec": {
   "display_name": "Python 3",
   "language": "python",
   "name": "python3"
  },
  "language_info": {
   "codemirror_mode": {
    "name": "ipython",
    "version": 3
   },
   "file_extension": ".py",
   "mimetype": "text/x-python",
   "name": "python",
   "nbconvert_exporter": "python",
   "pygments_lexer": "ipython3",
   "version": "3.6.10"
  }
 },
 "nbformat": 4,
 "nbformat_minor": 5
}
