{
 "cells": [
  {
   "cell_type": "markdown",
   "metadata": {},
   "source": [
    "# **Stock Prices Predictions with Machine Learning**"
   ]
  },
  {
   "cell_type": "markdown",
   "metadata": {},
   "source": [
    "This Notebook will contain the modeling phases needed to predict stock prices using a deep learning model.\n",
    "The stocks analyzed will be the following:\n",
    "* IBM\n",
    "* AAPL (Apple Inc.)\n",
    "* AMZN (Amazon Inc.)\n",
    "* GOOGL (Alphabet Inc.)\n"
   ]
  },
  {
   "cell_type": "code",
   "execution_count": 184,
   "metadata": {},
   "outputs": [],
   "source": [
    "import sagemaker"
   ]
  },
  {
   "cell_type": "markdown",
   "metadata": {},
   "source": [
    "# Data preparation"
   ]
  },
  {
   "cell_type": "markdown",
   "metadata": {},
   "source": [
    "Data must be prepared in order to be processed by DeepAR model:\n",
    "* Train/test set split\n",
    "* Save Data locally\n",
    "* Upload to S3"
   ]
  },
  {
   "cell_type": "code",
   "execution_count": 185,
   "metadata": {},
   "outputs": [],
   "source": [
    "data_dir = 'stock_deepar'"
   ]
  },
  {
   "cell_type": "markdown",
   "metadata": {},
   "source": [
    "## Save Data Locally"
   ]
  },
  {
   "cell_type": "code",
   "execution_count": 186,
   "metadata": {},
   "outputs": [],
   "source": [
    "import os"
   ]
  },
  {
   "cell_type": "code",
   "execution_count": 187,
   "metadata": {},
   "outputs": [],
   "source": [
    "data_dir_csv = os.path.join(data_dir, 'csv') # The folder we will use for storing data\n",
    "if not os.path.exists(data_dir_csv): # Make sure that the folder exists\n",
    "    os.makedirs(data_dir_csv)"
   ]
  },
  {
   "cell_type": "code",
   "execution_count": 189,
   "metadata": {},
   "outputs": [],
   "source": [
    "# IBM\n",
    "df_ibm_train.to_csv(os.path.join(data_dir_csv, 'ibm_train.csv'), header=True, index=True)\n",
    "df_ibm_test.to_csv(os.path.join(data_dir_csv, 'ibm_test.csv'), header=True, index=True)\n",
    "df_ibm_valid.to_csv(os.path.join(data_dir_csv, 'ibm_valid.csv'), header=True, index=True)"
   ]
  },
  {
   "cell_type": "code",
   "execution_count": 215,
   "metadata": {},
   "outputs": [],
   "source": [
    "# Apple Inc.\n",
    "df_aapl_train.to_csv(os.path.join(data_dir_csv, 'aapl_train.csv'), header=True, index=True)\n",
    "df_aapl_test.to_csv(os.path.join(data_dir_csv, 'aapl_test.csv'), header=True, index=True)\n",
    "df_aapl_valid.to_csv(os.path.join(data_dir_csv, 'aapl_valid.csv'), header=True, index=True)"
   ]
  },
  {
   "cell_type": "code",
   "execution_count": 216,
   "metadata": {},
   "outputs": [],
   "source": [
    "# Amazon.com\n",
    "df_amzn_train.to_csv(os.path.join(data_dir_csv, 'amzn_train.csv'), header=True, index=True)\n",
    "df_amzn_test.to_csv(os.path.join(data_dir_csv, 'amzn_test.csv'), header=True, index=True)\n",
    "df_amzn_valid.to_csv(os.path.join(data_dir_csv, 'amzn_valid.csv'), header=True, index=True)"
   ]
  },
  {
   "cell_type": "code",
   "execution_count": null,
   "metadata": {},
   "outputs": [],
   "source": [
    "# Alphabet Inc.\n",
    "df_googl_train.to_csv(os.path.join(data_dir_csv, 'googl_train.csv'), header=True, index=True)\n",
    "df_googl_test.to_csv(os.path.join(data_dir_csv, 'googl_test.csv'), header=True, index=True)\n",
    "df_googl_valid.to_csv(os.path.join(data_dir_csv, 'googl_valid.csv'), header=True, index=True)"
   ]
  },
  {
   "cell_type": "markdown",
   "metadata": {},
   "source": [
    "### JSON serialization"
   ]
  },
  {
   "cell_type": "markdown",
   "metadata": {},
   "source": [
    "In order to feed DeepAR model, JSON files must be prepared from data.\n",
    "I'll dispose two kind of JSON inputs:\n",
    "* one with \"dynamic features\", to use a DeepAR API terminology: all dataset features except for target column and related one ('Adj Close', 'Close');\n",
    "* one without \"dynamic features: only 'Adj Close' column will be fed to DeepAR model."
   ]
  },
  {
   "cell_type": "markdown",
   "metadata": {},
   "source": [
    "#### DataFrame to JSON conversion"
   ]
  },
  {
   "cell_type": "markdown",
   "metadata": {},
   "source": [
    "Now I'm going to convert data to JSON file format, in order to feed the DeepAR model correctly"
   ]
  },
  {
   "cell_type": "markdown",
   "metadata": {},
   "source": [
    "As already announced, I will create two kind of time series, one with a list of dynamic features `dyn_feat`and the other one with only the target column (`Adj Close`) time series. "
   ]
  },
  {
   "cell_type": "code",
   "execution_count": 218,
   "metadata": {},
   "outputs": [],
   "source": [
    "# initializing train/test dataframe lists to iterate on them\n",
    "dfs_train = [df_ibm_train, df_aapl_train, df_amzn_train, df_googl_train]\n",
    "dfs_test = [df_ibm_test, df_aapl_test, df_amzn_test, df_googl_test]\n",
    "dfs_valid = [df_ibm_valid, df_aapl_valid, df_amzn_valid, df_googl_valid]"
   ]
  },
  {
   "cell_type": "markdown",
   "metadata": {},
   "source": [
    "Creating local storage path:"
   ]
  },
  {
   "cell_type": "code",
   "execution_count": 219,
   "metadata": {},
   "outputs": [],
   "source": [
    "data_dir_json = os.path.join(data_dir, 'json')\n",
    "if not os.path.exists(data_dir_json): # Make sure that the folder exists\n",
    "    os.makedirs(data_dir_json)"
   ]
  },
  {
   "cell_type": "markdown",
   "metadata": {},
   "source": [
    "Serializing data to json files"
   ]
  },
  {
   "cell_type": "code",
   "execution_count": 220,
   "metadata": {},
   "outputs": [],
   "source": [
    "from source_deepar.deepar_utils import ts2DeepARjson_serialize"
   ]
  },
  {
   "cell_type": "markdown",
   "metadata": {},
   "source": [
    "Dataset with the `Adj Close` time series alone:"
   ]
  },
  {
   "cell_type": "markdown",
   "metadata": {},
   "source": [
    "Training data:"
   ]
  },
  {
   "cell_type": "code",
   "execution_count": 221,
   "metadata": {},
   "outputs": [],
   "source": [
    "data_dir_json_train = os.path.join(data_dir_json, 'train') # The folder we will use for storing data\n",
    "if not os.path.exists(data_dir_json_train): # Make sure that the folder exists\n",
    "    os.makedirs(data_dir_json_train)"
   ]
  },
  {
   "cell_type": "code",
   "execution_count": 222,
   "metadata": {},
   "outputs": [],
   "source": [
    "for df, m in zip(dfs_train, mnemonics):\n",
    "    ts2DeepARjson_serialize(df, data_dir_json_train, m+'.json')"
   ]
  },
  {
   "cell_type": "markdown",
   "metadata": {},
   "source": [
    "Test data:"
   ]
  },
  {
   "cell_type": "code",
   "execution_count": 223,
   "metadata": {},
   "outputs": [],
   "source": [
    "data_dir_json_test = os.path.join(data_dir_json, 'test') # The folder we will use for storing data\n",
    "if not os.path.exists(data_dir_json_test): # Make sure that the folder exists\n",
    "    os.makedirs(data_dir_json_test)"
   ]
  },
  {
   "cell_type": "code",
   "execution_count": 224,
   "metadata": {},
   "outputs": [],
   "source": [
    "for df, m in zip(dfs_test, mnemonics):\n",
    "    ts2DeepARjson_serialize(df, data_dir_json_test, m+'.json')"
   ]
  },
  {
   "cell_type": "markdown",
   "metadata": {},
   "source": [
    "Validation data:"
   ]
  },
  {
   "cell_type": "code",
   "execution_count": 232,
   "metadata": {},
   "outputs": [],
   "source": [
    "data_dir_json_valid = os.path.join(data_dir_json, 'validation') # The folder we will use for storing data\n",
    "if not os.path.exists(data_dir_json_valid): # Make sure that the folder exists\n",
    "    os.makedirs(data_dir_json_valid)"
   ]
  },
  {
   "cell_type": "code",
   "execution_count": 234,
   "metadata": {},
   "outputs": [],
   "source": [
    "for df, m in zip(dfs_valid, mnemonics):\n",
    "    ts2DeepARjson_serialize(df, data_dir_json_valid, m+'.json')"
   ]
  },
  {
   "cell_type": "markdown",
   "metadata": {},
   "source": [
    "Dataset containing dynamic features:"
   ]
  },
  {
   "cell_type": "markdown",
   "metadata": {},
   "source": [
    "Training data:"
   ]
  },
  {
   "cell_type": "code",
   "execution_count": 235,
   "metadata": {},
   "outputs": [],
   "source": [
    "data_dir_json_dyn_feat = os.path.join(data_dir_json, 'w_dyn_feat')"
   ]
  },
  {
   "cell_type": "code",
   "execution_count": 236,
   "metadata": {},
   "outputs": [],
   "source": [
    "data_dir_json_train_dyn_feat = os.path.join(data_dir_json_dyn_feat, 'train') # The folder we will use for storing data\n",
    "if not os.path.exists(data_dir_json_train_dyn_feat): # Make sure that the folder exists\n",
    "    os.makedirs(data_dir_json_train_dyn_feat)"
   ]
  },
  {
   "cell_type": "code",
   "execution_count": 237,
   "metadata": {},
   "outputs": [],
   "source": [
    "for df, m in zip(dfs_train, mnemonics):\n",
    "    ts2DeepARjson_serialize(df, data_dir_json_train_dyn_feat, m+'.json', dyn_feat=['Open', '20_ac_bb_l', '20_ac_ma', '20_ac_bb_u'])"
   ]
  },
  {
   "cell_type": "markdown",
   "metadata": {},
   "source": [
    "Test data:"
   ]
  },
  {
   "cell_type": "code",
   "execution_count": 238,
   "metadata": {},
   "outputs": [],
   "source": [
    "data_dir_json_test_dyn_feat = os.path.join(data_dir_json_dyn_feat, 'test') # The folder we will use for storing data\n",
    "if not os.path.exists(data_dir_json_test_dyn_feat): # Make sure that the folder exists\n",
    "    os.makedirs(data_dir_json_test_dyn_feat)"
   ]
  },
  {
   "cell_type": "code",
   "execution_count": 239,
   "metadata": {},
   "outputs": [],
   "source": [
    "for df, m in zip(dfs_test, mnemonics):\n",
    "    ts2DeepARjson_serialize(df, data_dir_json_test_dyn_feat, m+'.json', dyn_feat=['Open',  '20_ac_bb_l', '20_ac_ma', '20_ac_bb_u'])"
   ]
  },
  {
   "cell_type": "markdown",
   "metadata": {},
   "source": [
    "Validation data:"
   ]
  },
  {
   "cell_type": "code",
   "execution_count": 240,
   "metadata": {},
   "outputs": [],
   "source": [
    "data_dir_json_valid_dyn_feat = os.path.join(data_dir_json_dyn_feat, 'validation') # The folder we will use for storing data\n",
    "if not os.path.exists(data_dir_json_valid_dyn_feat): # Make sure that the folder exists\n",
    "    os.makedirs(data_dir_json_valid_dyn_feat)"
   ]
  },
  {
   "cell_type": "code",
   "execution_count": 241,
   "metadata": {},
   "outputs": [],
   "source": [
    "for df, m in zip(dfs_valid, mnemonics):\n",
    "    ts2DeepARjson_serialize(df, data_dir_json_valid_dyn_feat, m+'.json', dyn_feat=['Open', '20_ac_bb_l', '20_ac_ma', '20_ac_bb_u'])"
   ]
  },
  {
   "cell_type": "markdown",
   "metadata": {},
   "source": [
    "## AWS declarations"
   ]
  },
  {
   "cell_type": "markdown",
   "metadata": {},
   "source": [
    "Defining training data Location"
   ]
  },
  {
   "cell_type": "code",
   "execution_count": 244,
   "metadata": {},
   "outputs": [],
   "source": [
    "# Define IAM role and session\n",
    "role = sagemaker.get_execution_role()\n",
    "sagemaker_session = sagemaker.Session()"
   ]
  },
  {
   "cell_type": "code",
   "execution_count": 245,
   "metadata": {},
   "outputs": [],
   "source": [
    "interval ='D'"
   ]
  },
  {
   "cell_type": "code",
   "execution_count": 246,
   "metadata": {},
   "outputs": [],
   "source": [
    "#Define training data location\n",
    "s3_data_key = 'stock_deepar/train_artifacts'\n",
    "s3_bucket = sagemaker_session.default_bucket()\n",
    "s3_output_path = \"s3://{}/{}/{}/output\".format(s3_bucket, s3_data_key, interval)"
   ]
  },
  {
   "cell_type": "code",
   "execution_count": 247,
   "metadata": {},
   "outputs": [
    {
     "name": "stdout",
     "output_type": "stream",
     "text": [
      "Model image : 495149712605.dkr.ecr.eu-central-1.amazonaws.com/forecasting-deepar:1\n"
     ]
    }
   ],
   "source": [
    "#Obtain container image URI for SageMaker-DeepAR algorithm, based on region\n",
    "region = sagemaker_session.boto_region_name\n",
    "image_name = sagemaker.image_uris.retrieve(\"forecasting-deepar\", region)\n",
    "print(\"Model image : {}\".format(image_name))"
   ]
  },
  {
   "cell_type": "markdown",
   "metadata": {},
   "source": [
    "## Upload data to S3"
   ]
  },
  {
   "cell_type": "markdown",
   "metadata": {},
   "source": [
    "Training input preparation"
   ]
  },
  {
   "cell_type": "code",
   "execution_count": 248,
   "metadata": {},
   "outputs": [],
   "source": [
    "# *unique* train/test prefixes\n",
    "train_prefix   = '{}/{}'.format(data_dir_json, 'train')\n",
    "test_prefix    = '{}/{}'.format(data_dir_json, 'test')\n",
    "train_prefix_dyn_feat   = '{}/{}'.format(data_dir_json_dyn_feat, 'train')\n",
    "test_prefix_dyn_feat    = '{}/{}'.format(data_dir_json_dyn_feat, 'test')"
   ]
  },
  {
   "cell_type": "code",
   "execution_count": 249,
   "metadata": {},
   "outputs": [],
   "source": [
    "input_data_train = sagemaker_session.upload_data(path=data_dir_json_train, bucket=s3_bucket, key_prefix=train_prefix)"
   ]
  },
  {
   "cell_type": "code",
   "execution_count": 250,
   "metadata": {},
   "outputs": [],
   "source": [
    "input_data_test = sagemaker_session.upload_data(path=data_dir_json_test, bucket=s3_bucket, key_prefix=test_prefix)"
   ]
  },
  {
   "cell_type": "code",
   "execution_count": 251,
   "metadata": {},
   "outputs": [],
   "source": [
    "input_data_train_dyn_feat = sagemaker_session.upload_data(path=data_dir_json_train, bucket=s3_bucket, key_prefix=train_prefix_dyn_feat)"
   ]
  },
  {
   "cell_type": "code",
   "execution_count": 252,
   "metadata": {},
   "outputs": [],
   "source": [
    "input_data_test_dyn_feat = sagemaker_session.upload_data(path=data_dir_json_test, bucket=s3_bucket, key_prefix=test_prefix_dyn_feat)"
   ]
  },
  {
   "cell_type": "markdown",
   "metadata": {},
   "source": [
    "### Set DeepAR specific hyperparameters"
   ]
  },
  {
   "cell_type": "code",
   "execution_count": 253,
   "metadata": {},
   "outputs": [],
   "source": [
    "from source_deepar import deepar_utils"
   ]
  },
  {
   "cell_type": "code",
   "execution_count": 254,
   "metadata": {},
   "outputs": [],
   "source": [
    "# setting target columns\n",
    "target_column = 'Adj Close'"
   ]
  },
  {
   "cell_type": "code",
   "execution_count": 256,
   "metadata": {},
   "outputs": [],
   "source": [
    "# DeepAR estimator parameters    \n",
    "hyperparameters = {\n",
    "    \"prediction_length\": str(prediction_length[1]), #number of time-steps model is trained to predict, always generates forecasts with this length\n",
    "    \"context_length\": str(context_length[1]), #number of time-points that the model gets to see before making the prediction, should be about same as the prediction_length\n",
    "    \"time_freq\": interval, #granularity of the time series in the dataset\n",
    "    \"epochs\": \"200\", #maximum number of passes over the training data\n",
    "    \"early_stopping_patience\": \"40\", #training stops when no progress is made within the specified number of epochs\n",
    "    \"num_layers\": \"2\", #number of hidden layers in the RNN, typically range from 1 to 4    \n",
    "    \"num_cells\": \"40\", #number of cells to use in each hidden layer of the RNN, typically range from 30 to 100\n",
    "    \"mini_batch_size\": \"128\", #size of mini-batches used during training, typically values range from 32 to 512\n",
    "    \"learning_rate\": \"1e-3\", #learning rate used in training. Typical values range from 1e-4 to 1e-1\n",
    "    \"dropout_rate\": \"0.1\", # dropout rate to use for regularization, typically less than 0.2. \n",
    "    \"likelihood\": \"gaussian\" #noise model used for uncertainty estimates - gaussian/beta/negative-binomial/student-T/deterministic-L1\n",
    "}"
   ]
  },
  {
   "cell_type": "markdown",
   "metadata": {},
   "source": [
    "## Estimator Instantiation"
   ]
  },
  {
   "cell_type": "code",
   "execution_count": 200,
   "metadata": {},
   "outputs": [],
   "source": [
    "from sagemaker.estimator import Estimator\n",
    "\n",
    "# instantiate a DeepAR estimator\n",
    "estimator = Estimator(image_uri=image_name,\n",
    "                      sagemaker_session=sagemaker_session,\n",
    "                      #image_name=image_name,\n",
    "                      role=role,\n",
    "                      instance_count=1,\n",
    "                      instance_type='ml.c4.xlarge',\n",
    "                      output_path=s3_output_path,\n",
    "                      hyperparameters=hyperparameters\n",
    "                      )"
   ]
  },
  {
   "cell_type": "markdown",
   "metadata": {},
   "source": [
    "## Training Job Creation"
   ]
  },
  {
   "cell_type": "markdown",
   "metadata": {},
   "source": [
    "Creation of a training job with stand alone time series (no dynamic features provided). Run only if no model has already been trained before."
   ]
  },
  {
   "cell_type": "code",
   "execution_count": null,
   "metadata": {},
   "outputs": [],
   "source": [
    "%%time\n",
    "# train and test channels\n",
    "data_channels = {\n",
    "    \"train\": input_data_train,\n",
    "    \"test\": input_data_test\n",
    "}\n",
    "\n",
    "# fit the estimator\n",
    "estimator.fit(inputs=data_channels)"
   ]
  },
  {
   "cell_type": "markdown",
   "metadata": {},
   "source": [
    "## Existing Model Instantiation"
   ]
  },
  {
   "cell_type": "markdown",
   "metadata": {},
   "source": [
    "Instatiation of a model from existing training artifacts (run only if a model has already been trained before)."
   ]
  },
  {
   "cell_type": "code",
   "execution_count": 257,
   "metadata": {},
   "outputs": [],
   "source": [
    "model = sagemaker.model.Model(\n",
    "    model_data='{}/{}/model.tar.gz'.format(s3_output_path, 'forecasting-deepar-2021-03-07-20-20-06-397/output'),\n",
    "    image_uri= image_name,\n",
    "    #image=image_name,  # example path for the semantic segmentation in eu-west-1\n",
    "    role=role)  # your role here; could be different name\n",
    "\n",
    "#trainedmodel.deploy(initial_instance_count=1, instance_type='ml.c4.xlarge')"
   ]
  },
  {
   "cell_type": "markdown",
   "metadata": {},
   "source": [
    "## Deploy and Create a Predictor\n",
    "\n",
    "Now that we have trained a model, we can use it to perform predictions by deploying it to a predictor endpoint.\n",
    "\n",
    "Remember to **delete the endpoint** at the end of this notebook. A cell at the very bottom of this notebook will be provided, but it is always good to keep, front-of-mind."
   ]
  },
  {
   "cell_type": "code",
   "execution_count": 258,
   "metadata": {},
   "outputs": [],
   "source": [
    "endpoint_name = 'DeepAR-ml-spp'"
   ]
  },
  {
   "cell_type": "code",
   "execution_count": 259,
   "metadata": {},
   "outputs": [],
   "source": [
    "# create a predictor\n",
    "\n",
    "from sagemaker.predictor import json_serializer, json_deserializer"
   ]
  },
  {
   "cell_type": "code",
   "execution_count": null,
   "metadata": {},
   "outputs": [
    {
     "name": "stdout",
     "output_type": "stream",
     "text": [
      "CPU times: user 4 µs, sys: 0 ns, total: 4 µs\n",
      "Wall time: 7.63 µs\n",
      "-----------------"
     ]
    }
   ],
   "source": [
    "# run it once, then update the endpoint if needed\n",
    "%time\n",
    "\n",
    "endpoint = model.deploy(\n",
    "    initial_instance_count=1,\n",
    "    instance_type='ml.t2.medium',\n",
    "    endpoint_name=endpoint_name,\n",
    "    serializer=json_serializer,\n",
    "    deserializer=json_deserializer\n",
    ")"
   ]
  },
  {
   "cell_type": "markdown",
   "metadata": {},
   "source": [
    "update endpoint if needed:"
   ]
  },
  {
   "cell_type": "code",
   "execution_count": null,
   "metadata": {
    "jupyter": {
     "source_hidden": true
    }
   },
   "outputs": [],
   "source": [
    "%time\n",
    "\n",
    "# update an endpoint\n",
    "\n",
    "predictor = estimator.update_endpoint(\n",
    "    initial_instance_count=1,\n",
    "    instance_type='ml.t2.medium',\n",
    ")"
   ]
  },
  {
   "cell_type": "code",
   "execution_count": null,
   "metadata": {},
   "outputs": [],
   "source": [
    "from source_deepar.deepar_utils import DeepARPredictor"
   ]
  },
  {
   "cell_type": "code",
   "execution_count": null,
   "metadata": {},
   "outputs": [],
   "source": [
    "json_predictor = DeepARPredictor(endpoint_name=endpoint_name, sagemaker_session=sagemaker_session)\n",
    "json_predictor.set_prediction_parameters(interval, prediction_length[1])"
   ]
  },
  {
   "cell_type": "markdown",
   "metadata": {},
   "source": [
    "# Generating Predictions\n",
    "\n",
    "According to the [inference format](https://docs.aws.amazon.com/sagemaker/latest/dg/deepar-in-formats.html) for DeepAR, the `predictor` expects to see input data in a JSON format, with the following keys:\n",
    "* **instances**: A list of JSON-formatted time series that should be forecast by the model.\n",
    "* **configuration** (optional): A dictionary of configuration information for the type of response desired by the request.\n",
    "\n",
    "Within configuration the following keys can be configured:\n",
    "* **num_samples**: An integer specifying the number of samples that the model generates when making a probabilistic prediction.\n",
    "* **output_types**: A list specifying the type of response. We'll ask for **quantiles**, which look at the list of num_samples generated by the model, and generate [quantile estimates](https://en.wikipedia.org/wiki/Quantile) for each time point based on these values.\n",
    "* **quantiles**: A list that specified which quantiles estimates are generated and returned in the response.\n",
    "\n",
    "\n",
    "Below is an example of what a JSON query to a DeepAR model endpoint might look like.\n",
    "\n",
    "```\n",
    "{\n",
    " \"instances\": [\n",
    "  { \"start\": \"2009-11-01 00:00:00\", \"target\": [4.0, 10.0, 50.0, 100.0, 113.0] },\n",
    "  { \"start\": \"1999-01-30\", \"target\": [2.0, 1.0] }\n",
    " ],\n",
    " \"configuration\": {\n",
    "  \"num_samples\": 50,\n",
    "  \"output_types\": [\"quantiles\"],\n",
    "  \"quantiles\": [\"0.5\", \"0.9\"]\n",
    " }\n",
    "}\n",
    "```"
   ]
  },
  {
   "cell_type": "markdown",
   "metadata": {},
   "source": [
    "## Get Predictions\n",
    "\n",
    "We can now use the model to get a predictions for input time series."
   ]
  },
  {
   "cell_type": "markdown",
   "metadata": {},
   "source": [
    "### Predicting IBM stock price"
   ]
  },
  {
   "cell_type": "markdown",
   "metadata": {},
   "source": [
    "Ground truth:"
   ]
  },
  {
   "cell_type": "code",
   "execution_count": 263,
   "metadata": {},
   "outputs": [],
   "source": [
    "test_gt = df_ibm_test.iloc[-prediction_length[1]:]['Adj Close']"
   ]
  },
  {
   "cell_type": "code",
   "execution_count": 264,
   "metadata": {},
   "outputs": [],
   "source": [
    "# get all input and target (test) time series\n",
    "# input_ts = [df_ibm_train, df_aapl_train, df_amzn_train, df_googl_train]\n",
    "# target_ts = [df_ibm_test, df_aapl_test, df_amzn_test, df_googl_test]\n",
    "\n",
    "input_ts = [df_ibm_train]\n",
    "target_ts = [df_ibm]\n",
    "\n",
    "# get the prediction from the predictor\n",
    "json_prediction = json_predictor.predict(input_ts)"
   ]
  },
  {
   "cell_type": "code",
   "execution_count": 265,
   "metadata": {},
   "outputs": [
    {
     "data": {
      "text/html": [
       "<div>\n",
       "<style scoped>\n",
       "    .dataframe tbody tr th:only-of-type {\n",
       "        vertical-align: middle;\n",
       "    }\n",
       "\n",
       "    .dataframe tbody tr th {\n",
       "        vertical-align: top;\n",
       "    }\n",
       "\n",
       "    .dataframe thead th {\n",
       "        text-align: right;\n",
       "    }\n",
       "</style>\n",
       "<table border=\"1\" class=\"dataframe\">\n",
       "  <thead>\n",
       "    <tr style=\"text-align: right;\">\n",
       "      <th></th>\n",
       "      <th>0.1</th>\n",
       "      <th>0.5</th>\n",
       "      <th>0.9</th>\n",
       "    </tr>\n",
       "  </thead>\n",
       "  <tbody>\n",
       "    <tr>\n",
       "      <th>2021-01-14</th>\n",
       "      <td>122.924011</td>\n",
       "      <td>126.513985</td>\n",
       "      <td>129.819092</td>\n",
       "    </tr>\n",
       "    <tr>\n",
       "      <th>2021-01-15</th>\n",
       "      <td>122.723091</td>\n",
       "      <td>126.495979</td>\n",
       "      <td>129.720993</td>\n",
       "    </tr>\n",
       "    <tr>\n",
       "      <th>2021-01-16</th>\n",
       "      <td>121.696907</td>\n",
       "      <td>125.704437</td>\n",
       "      <td>128.720764</td>\n",
       "    </tr>\n",
       "    <tr>\n",
       "      <th>2021-01-17</th>\n",
       "      <td>120.065163</td>\n",
       "      <td>124.946968</td>\n",
       "      <td>128.587875</td>\n",
       "    </tr>\n",
       "    <tr>\n",
       "      <th>2021-01-18</th>\n",
       "      <td>120.303749</td>\n",
       "      <td>124.598953</td>\n",
       "      <td>128.208618</td>\n",
       "    </tr>\n",
       "    <tr>\n",
       "      <th>2021-01-19</th>\n",
       "      <td>120.488251</td>\n",
       "      <td>125.400894</td>\n",
       "      <td>129.923874</td>\n",
       "    </tr>\n",
       "    <tr>\n",
       "      <th>2021-01-20</th>\n",
       "      <td>119.936081</td>\n",
       "      <td>124.769791</td>\n",
       "      <td>129.694656</td>\n",
       "    </tr>\n",
       "    <tr>\n",
       "      <th>2021-01-21</th>\n",
       "      <td>119.842880</td>\n",
       "      <td>124.413017</td>\n",
       "      <td>129.341553</td>\n",
       "    </tr>\n",
       "    <tr>\n",
       "      <th>2021-01-22</th>\n",
       "      <td>120.263435</td>\n",
       "      <td>124.596153</td>\n",
       "      <td>129.359406</td>\n",
       "    </tr>\n",
       "    <tr>\n",
       "      <th>2021-01-23</th>\n",
       "      <td>119.326988</td>\n",
       "      <td>124.817535</td>\n",
       "      <td>130.041489</td>\n",
       "    </tr>\n",
       "    <tr>\n",
       "      <th>2021-01-24</th>\n",
       "      <td>118.614906</td>\n",
       "      <td>124.535255</td>\n",
       "      <td>130.111221</td>\n",
       "    </tr>\n",
       "    <tr>\n",
       "      <th>2021-01-25</th>\n",
       "      <td>119.559273</td>\n",
       "      <td>124.383408</td>\n",
       "      <td>131.469131</td>\n",
       "    </tr>\n",
       "    <tr>\n",
       "      <th>2021-01-26</th>\n",
       "      <td>119.604568</td>\n",
       "      <td>124.275238</td>\n",
       "      <td>131.103073</td>\n",
       "    </tr>\n",
       "    <tr>\n",
       "      <th>2021-01-27</th>\n",
       "      <td>119.759613</td>\n",
       "      <td>124.755394</td>\n",
       "      <td>132.196701</td>\n",
       "    </tr>\n",
       "    <tr>\n",
       "      <th>2021-01-28</th>\n",
       "      <td>118.786652</td>\n",
       "      <td>124.451355</td>\n",
       "      <td>130.729080</td>\n",
       "    </tr>\n",
       "    <tr>\n",
       "      <th>2021-01-29</th>\n",
       "      <td>118.127541</td>\n",
       "      <td>124.352158</td>\n",
       "      <td>131.326080</td>\n",
       "    </tr>\n",
       "    <tr>\n",
       "      <th>2021-01-30</th>\n",
       "      <td>118.304237</td>\n",
       "      <td>123.746124</td>\n",
       "      <td>129.983856</td>\n",
       "    </tr>\n",
       "    <tr>\n",
       "      <th>2021-01-31</th>\n",
       "      <td>118.391663</td>\n",
       "      <td>124.301224</td>\n",
       "      <td>131.763824</td>\n",
       "    </tr>\n",
       "    <tr>\n",
       "      <th>2021-02-01</th>\n",
       "      <td>118.962257</td>\n",
       "      <td>124.220421</td>\n",
       "      <td>131.121826</td>\n",
       "    </tr>\n",
       "    <tr>\n",
       "      <th>2021-02-02</th>\n",
       "      <td>117.477737</td>\n",
       "      <td>122.943947</td>\n",
       "      <td>130.089493</td>\n",
       "    </tr>\n",
       "  </tbody>\n",
       "</table>\n",
       "</div>"
      ],
      "text/plain": [
       "                   0.1         0.5         0.9\n",
       "2021-01-14  122.924011  126.513985  129.819092\n",
       "2021-01-15  122.723091  126.495979  129.720993\n",
       "2021-01-16  121.696907  125.704437  128.720764\n",
       "2021-01-17  120.065163  124.946968  128.587875\n",
       "2021-01-18  120.303749  124.598953  128.208618\n",
       "2021-01-19  120.488251  125.400894  129.923874\n",
       "2021-01-20  119.936081  124.769791  129.694656\n",
       "2021-01-21  119.842880  124.413017  129.341553\n",
       "2021-01-22  120.263435  124.596153  129.359406\n",
       "2021-01-23  119.326988  124.817535  130.041489\n",
       "2021-01-24  118.614906  124.535255  130.111221\n",
       "2021-01-25  119.559273  124.383408  131.469131\n",
       "2021-01-26  119.604568  124.275238  131.103073\n",
       "2021-01-27  119.759613  124.755394  132.196701\n",
       "2021-01-28  118.786652  124.451355  130.729080\n",
       "2021-01-29  118.127541  124.352158  131.326080\n",
       "2021-01-30  118.304237  123.746124  129.983856\n",
       "2021-01-31  118.391663  124.301224  131.763824\n",
       "2021-02-01  118.962257  124.220421  131.121826\n",
       "2021-02-02  117.477737  122.943947  130.089493"
      ]
     },
     "execution_count": 265,
     "metadata": {},
     "output_type": "execute_result"
    }
   ],
   "source": [
    "json_prediction[0]"
   ]
  },
  {
   "cell_type": "markdown",
   "metadata": {},
   "source": [
    "As we can see, index are just progressing of one day each row, wich is not stock price progression scheme in real life (e.g.: weekends are not trading days), so I'm going fix the index before going on with the analysis of results:"
   ]
  },
  {
   "cell_type": "code",
   "execution_count": 266,
   "metadata": {},
   "outputs": [],
   "source": [
    "single_prediction = json_prediction[0]"
   ]
  },
  {
   "cell_type": "code",
   "execution_count": 267,
   "metadata": {},
   "outputs": [],
   "source": [
    "single_prediction.index = test_gt.index"
   ]
  },
  {
   "cell_type": "markdown",
   "metadata": {},
   "source": [
    "Save data locally:"
   ]
  },
  {
   "cell_type": "code",
   "execution_count": 268,
   "metadata": {},
   "outputs": [],
   "source": [
    "data_dir_json_prediction = os.path.join(data_dir_json, 'prediction') # The folder we will use for storing data\n",
    "if not os.path.exists(data_dir_json_prediction): # Make sure that the folder exists\n",
    "    os.makedirs(data_dir_json_prediction)"
   ]
  },
  {
   "cell_type": "code",
   "execution_count": 269,
   "metadata": {},
   "outputs": [],
   "source": [
    "start_date = str(single_prediction.index[0].date())\n",
    "end_date = str(single_prediction.index[-1].date())"
   ]
  },
  {
   "cell_type": "markdown",
   "metadata": {},
   "source": [
    "Prediction serialization:"
   ]
  },
  {
   "cell_type": "code",
   "execution_count": 270,
   "metadata": {},
   "outputs": [],
   "source": [
    "single_prediction.to_json(os.path.join(data_dir_json_prediction, \"IBM_{} - {}.json\".format(start_date, end_date)),\n",
    "                          orient='columns',date_format='iso')"
   ]
  },
  {
   "cell_type": "markdown",
   "metadata": {},
   "source": [
    "Prediction de-serialization:"
   ]
  },
  {
   "cell_type": "code",
   "execution_count": 271,
   "metadata": {},
   "outputs": [],
   "source": [
    "d_single_prediction = pd.read_json(os.path.join(data_dir_json_prediction, \"IBM_{} - {}.json\".format(start_date, end_date)),\n",
    "                                   orient='columns', convert_axes=False)"
   ]
  },
  {
   "cell_type": "markdown",
   "metadata": {},
   "source": [
    "Again, index normalization using target index, before using deserialized data:"
   ]
  },
  {
   "cell_type": "code",
   "execution_count": 273,
   "metadata": {},
   "outputs": [],
   "source": [
    "d_single_prediction.index = test_gt.index"
   ]
  },
  {
   "cell_type": "markdown",
   "metadata": {},
   "source": [
    "## Predicting the Future\n",
    "\n",
    "Now we can try to feed our model with the validation dataset start date and compare its results to the benchmark model performances."
   ]
  },
  {
   "cell_type": "markdown",
   "metadata": {},
   "source": [
    "## Metrics computation"
   ]
  },
  {
   "cell_type": "markdown",
   "metadata": {},
   "source": [
    "Now that we have predictions on validation dataset, we can compute our metrics and compare it to benchmakr model performaces."
   ]
  },
  {
   "cell_type": "markdown",
   "metadata": {},
   "source": [
    "### IBM Stock prices"
   ]
  },
  {
   "cell_type": "markdown",
   "metadata": {},
   "source": [
    "Mean Absolute Error"
   ]
  },
  {
   "cell_type": "code",
   "execution_count": 274,
   "metadata": {},
   "outputs": [],
   "source": [
    "ibm_dar_mae_loss = mean_absolute_error(test_gt, json_prediction[0]['0.5'])"
   ]
  },
  {
   "cell_type": "code",
   "execution_count": 382,
   "metadata": {},
   "outputs": [
    {
     "name": "stdout",
     "output_type": "stream",
     "text": [
      "4.4346462249789464\n"
     ]
    }
   ],
   "source": [
    "print(ibm_dar_mae_loss)"
   ]
  },
  {
   "cell_type": "markdown",
   "metadata": {},
   "source": [
    "Root Mean Squared Error"
   ]
  },
  {
   "cell_type": "code",
   "execution_count": 383,
   "metadata": {},
   "outputs": [],
   "source": [
    "ibm_dar_mse_loss = mean_squared_error(test_gt, json_prediction[0]['0.5'], squared=False)"
   ]
  },
  {
   "cell_type": "code",
   "execution_count": 384,
   "metadata": {},
   "outputs": [
    {
     "name": "stdout",
     "output_type": "stream",
     "text": [
      "4.899894254482102\n"
     ]
    }
   ],
   "source": [
    "print(ibm_dar_mse_loss)"
   ]
  },
  {
   "cell_type": "markdown",
   "metadata": {},
   "source": [
    "Mean Absolute Percentage Error"
   ]
  },
  {
   "cell_type": "code",
   "execution_count": 385,
   "metadata": {},
   "outputs": [],
   "source": [
    "ibm_dar_map_loss = mean_absolute_percentage_error(test_gt, json_prediction[0]['0.5'])"
   ]
  },
  {
   "cell_type": "code",
   "execution_count": 386,
   "metadata": {},
   "outputs": [
    {
     "name": "stdout",
     "output_type": "stream",
     "text": [
      "0.03689669006665321\n"
     ]
    }
   ],
   "source": [
    "print(ibm_dar_map_loss)"
   ]
  },
  {
   "cell_type": "markdown",
   "metadata": {},
   "source": [
    "R<sup>2</sup> score"
   ]
  },
  {
   "cell_type": "code",
   "execution_count": 387,
   "metadata": {},
   "outputs": [],
   "source": [
    "ibm_dar_r2_score = r2_score(test_gt, json_prediction[0]['0.5'])"
   ]
  },
  {
   "cell_type": "code",
   "execution_count": 388,
   "metadata": {},
   "outputs": [
    {
     "name": "stdout",
     "output_type": "stream",
     "text": [
      "-0.5003811447687012\n"
     ]
    }
   ],
   "source": [
    "print(ibm_dar_r2_score)"
   ]
  },
  {
   "cell_type": "markdown",
   "metadata": {},
   "source": [
    "## Display the Results\n",
    "\n",
    "The quantile data will give us all we need to see the results of our prediction.\n",
    "* Quantiles 0.1 and 0.9 represent higher and lower bounds for the predicted values.\n",
    "* Quantile 0.5 represents the median of all sample predictions."
   ]
  },
  {
   "cell_type": "code",
   "execution_count": 442,
   "metadata": {},
   "outputs": [
    {
     "data": {
      "image/png": "[encoded data removed]",
      "text/plain": [
       "<Figure size 864x432 with 1 Axes>"
      ]
     },
     "metadata": {
      "needs_background": "light"
     },
     "output_type": "display_data"
    }
   ],
   "source": [
    "# display predictions\n",
    "display_quantiles(d_single_prediction, prediction_length[1], test_gt)"
   ]
  },
  {
   "cell_type": "markdown",
   "metadata": {},
   "source": [
    "### Predicting Apple stock price"
   ]
  },
  {
   "cell_type": "markdown",
   "metadata": {},
   "source": [
    "Ground truth:"
   ]
  },
  {
   "cell_type": "code",
   "execution_count": 399,
   "metadata": {},
   "outputs": [],
   "source": [
    "test_gt = df_aapl_test.iloc[-prediction_length[1]:]['Adj Close']"
   ]
  },
  {
   "cell_type": "code",
   "execution_count": 400,
   "metadata": {},
   "outputs": [],
   "source": [
    "# get all input and target (test) time series\n",
    "# input_ts = [df_ibm_train, df_aapl_train, df_amzn_train, df_googl_train]\n",
    "# target_ts = [df_ibm_test, df_aapl_test, df_amzn_test, df_googl_test]\n",
    "\n",
    "input_ts = [df_aapl_train]\n",
    "target_ts = [df_aapl]\n",
    "\n",
    "# get the prediction from the predictor\n",
    "json_prediction = json_predictor.predict(input_ts)"
   ]
  },
  {
   "cell_type": "code",
   "execution_count": 401,
   "metadata": {},
   "outputs": [
    {
     "data": {
      "text/html": [
       "<div>\n",
       "<style scoped>\n",
       "    .dataframe tbody tr th:only-of-type {\n",
       "        vertical-align: middle;\n",
       "    }\n",
       "\n",
       "    .dataframe tbody tr th {\n",
       "        vertical-align: top;\n",
       "    }\n",
       "\n",
       "    .dataframe thead th {\n",
       "        text-align: right;\n",
       "    }\n",
       "</style>\n",
       "<table border=\"1\" class=\"dataframe\">\n",
       "  <thead>\n",
       "    <tr style=\"text-align: right;\">\n",
       "      <th></th>\n",
       "      <th>0.1</th>\n",
       "      <th>0.9</th>\n",
       "      <th>0.5</th>\n",
       "    </tr>\n",
       "  </thead>\n",
       "  <tbody>\n",
       "    <tr>\n",
       "      <th>2021-01-14</th>\n",
       "      <td>126.645004</td>\n",
       "      <td>135.170914</td>\n",
       "      <td>131.224380</td>\n",
       "    </tr>\n",
       "    <tr>\n",
       "      <th>2021-01-15</th>\n",
       "      <td>126.433411</td>\n",
       "      <td>135.294922</td>\n",
       "      <td>130.995956</td>\n",
       "    </tr>\n",
       "    <tr>\n",
       "      <th>2021-01-16</th>\n",
       "      <td>126.118294</td>\n",
       "      <td>136.057938</td>\n",
       "      <td>131.172989</td>\n",
       "    </tr>\n",
       "    <tr>\n",
       "      <th>2021-01-17</th>\n",
       "      <td>127.134155</td>\n",
       "      <td>136.715652</td>\n",
       "      <td>130.786987</td>\n",
       "    </tr>\n",
       "    <tr>\n",
       "      <th>2021-01-18</th>\n",
       "      <td>127.014977</td>\n",
       "      <td>138.074966</td>\n",
       "      <td>131.248993</td>\n",
       "    </tr>\n",
       "    <tr>\n",
       "      <th>2021-01-19</th>\n",
       "      <td>127.142334</td>\n",
       "      <td>138.800812</td>\n",
       "      <td>132.053009</td>\n",
       "    </tr>\n",
       "    <tr>\n",
       "      <th>2021-01-20</th>\n",
       "      <td>126.465332</td>\n",
       "      <td>138.672668</td>\n",
       "      <td>132.248932</td>\n",
       "    </tr>\n",
       "    <tr>\n",
       "      <th>2021-01-21</th>\n",
       "      <td>126.088814</td>\n",
       "      <td>139.080139</td>\n",
       "      <td>131.839096</td>\n",
       "    </tr>\n",
       "    <tr>\n",
       "      <th>2021-01-22</th>\n",
       "      <td>126.734489</td>\n",
       "      <td>140.065414</td>\n",
       "      <td>132.901749</td>\n",
       "    </tr>\n",
       "    <tr>\n",
       "      <th>2021-01-23</th>\n",
       "      <td>126.345146</td>\n",
       "      <td>140.429840</td>\n",
       "      <td>131.809036</td>\n",
       "    </tr>\n",
       "    <tr>\n",
       "      <th>2021-01-24</th>\n",
       "      <td>125.374573</td>\n",
       "      <td>140.592651</td>\n",
       "      <td>132.054184</td>\n",
       "    </tr>\n",
       "    <tr>\n",
       "      <th>2021-01-25</th>\n",
       "      <td>125.205536</td>\n",
       "      <td>141.163925</td>\n",
       "      <td>132.949188</td>\n",
       "    </tr>\n",
       "    <tr>\n",
       "      <th>2021-01-26</th>\n",
       "      <td>125.560303</td>\n",
       "      <td>142.978836</td>\n",
       "      <td>132.203690</td>\n",
       "    </tr>\n",
       "    <tr>\n",
       "      <th>2021-01-27</th>\n",
       "      <td>125.937965</td>\n",
       "      <td>142.408173</td>\n",
       "      <td>131.800629</td>\n",
       "    </tr>\n",
       "    <tr>\n",
       "      <th>2021-01-28</th>\n",
       "      <td>124.633598</td>\n",
       "      <td>142.000885</td>\n",
       "      <td>132.523880</td>\n",
       "    </tr>\n",
       "    <tr>\n",
       "      <th>2021-01-29</th>\n",
       "      <td>126.213913</td>\n",
       "      <td>144.865982</td>\n",
       "      <td>132.922318</td>\n",
       "    </tr>\n",
       "    <tr>\n",
       "      <th>2021-01-30</th>\n",
       "      <td>126.554207</td>\n",
       "      <td>142.843994</td>\n",
       "      <td>133.578278</td>\n",
       "    </tr>\n",
       "    <tr>\n",
       "      <th>2021-01-31</th>\n",
       "      <td>126.730598</td>\n",
       "      <td>143.165344</td>\n",
       "      <td>132.905029</td>\n",
       "    </tr>\n",
       "    <tr>\n",
       "      <th>2021-02-01</th>\n",
       "      <td>124.720001</td>\n",
       "      <td>142.192749</td>\n",
       "      <td>133.299515</td>\n",
       "    </tr>\n",
       "    <tr>\n",
       "      <th>2021-02-02</th>\n",
       "      <td>126.329948</td>\n",
       "      <td>144.167816</td>\n",
       "      <td>134.264893</td>\n",
       "    </tr>\n",
       "  </tbody>\n",
       "</table>\n",
       "</div>"
      ],
      "text/plain": [
       "                   0.1         0.9         0.5\n",
       "2021-01-14  126.645004  135.170914  131.224380\n",
       "2021-01-15  126.433411  135.294922  130.995956\n",
       "2021-01-16  126.118294  136.057938  131.172989\n",
       "2021-01-17  127.134155  136.715652  130.786987\n",
       "2021-01-18  127.014977  138.074966  131.248993\n",
       "2021-01-19  127.142334  138.800812  132.053009\n",
       "2021-01-20  126.465332  138.672668  132.248932\n",
       "2021-01-21  126.088814  139.080139  131.839096\n",
       "2021-01-22  126.734489  140.065414  132.901749\n",
       "2021-01-23  126.345146  140.429840  131.809036\n",
       "2021-01-24  125.374573  140.592651  132.054184\n",
       "2021-01-25  125.205536  141.163925  132.949188\n",
       "2021-01-26  125.560303  142.978836  132.203690\n",
       "2021-01-27  125.937965  142.408173  131.800629\n",
       "2021-01-28  124.633598  142.000885  132.523880\n",
       "2021-01-29  126.213913  144.865982  132.922318\n",
       "2021-01-30  126.554207  142.843994  133.578278\n",
       "2021-01-31  126.730598  143.165344  132.905029\n",
       "2021-02-01  124.720001  142.192749  133.299515\n",
       "2021-02-02  126.329948  144.167816  134.264893"
      ]
     },
     "execution_count": 401,
     "metadata": {},
     "output_type": "execute_result"
    }
   ],
   "source": [
    "json_prediction[0]"
   ]
  },
  {
   "cell_type": "markdown",
   "metadata": {},
   "source": [
    "As we can see, index are just progressing of one day each row, wich is not stock price progression scheme in real life (e.g.: weekends are not trading days), so I'm going fix the index before going on with the analysis of results:"
   ]
  },
  {
   "cell_type": "code",
   "execution_count": 402,
   "metadata": {},
   "outputs": [],
   "source": [
    "single_prediction = json_prediction[0]"
   ]
  },
  {
   "cell_type": "code",
   "execution_count": 403,
   "metadata": {},
   "outputs": [],
   "source": [
    "single_prediction.index = test_gt.index"
   ]
  },
  {
   "cell_type": "markdown",
   "metadata": {},
   "source": [
    "Save data locally:"
   ]
  },
  {
   "cell_type": "code",
   "execution_count": 404,
   "metadata": {},
   "outputs": [],
   "source": [
    "data_dir_json_prediction = os.path.join(data_dir_json, 'prediction') # The folder we will use for storing data\n",
    "if not os.path.exists(data_dir_json_prediction): # Make sure that the folder exists\n",
    "    os.makedirs(data_dir_json_prediction)"
   ]
  },
  {
   "cell_type": "code",
   "execution_count": 405,
   "metadata": {},
   "outputs": [],
   "source": [
    "start_date = str(single_prediction.index[0].date())\n",
    "end_date = str(single_prediction.index[-1].date())"
   ]
  },
  {
   "cell_type": "markdown",
   "metadata": {},
   "source": [
    "Prediction serialization:"
   ]
  },
  {
   "cell_type": "code",
   "execution_count": 406,
   "metadata": {},
   "outputs": [],
   "source": [
    "single_prediction.to_json(os.path.join(data_dir_json_prediction, \"AAPL_{} - {}.json\".format(start_date, end_date)),\n",
    "                          orient='columns',date_format='iso')"
   ]
  },
  {
   "cell_type": "markdown",
   "metadata": {},
   "source": [
    "Prediction de-serialization:"
   ]
  },
  {
   "cell_type": "code",
   "execution_count": 407,
   "metadata": {},
   "outputs": [],
   "source": [
    "d_single_prediction = pd.read_json(os.path.join(data_dir_json_prediction, \"AAPL_{} - {}.json\".format(start_date, end_date)),\n",
    "                                   orient='columns', convert_axes=False)"
   ]
  },
  {
   "cell_type": "markdown",
   "metadata": {},
   "source": [
    "Simplifying date string"
   ]
  },
  {
   "cell_type": "code",
   "execution_count": 408,
   "metadata": {},
   "outputs": [],
   "source": [
    "d_single_prediction.index = d_single_prediction.index"
   ]
  },
  {
   "cell_type": "markdown",
   "metadata": {},
   "source": [
    "Again, index normalization using target index, before using deserialized data:"
   ]
  },
  {
   "cell_type": "code",
   "execution_count": 409,
   "metadata": {},
   "outputs": [],
   "source": [
    "d_single_prediction.index = test_gt.index"
   ]
  },
  {
   "cell_type": "markdown",
   "metadata": {},
   "source": [
    "#### Metrics computation"
   ]
  },
  {
   "cell_type": "markdown",
   "metadata": {},
   "source": [
    "Mean Absolute Error"
   ]
  },
  {
   "cell_type": "code",
   "execution_count": 410,
   "metadata": {},
   "outputs": [],
   "source": [
    "aapl_dar_mae_loss = mean_absolute_error(test_gt, json_prediction[0]['0.5'])"
   ]
  },
  {
   "cell_type": "code",
   "execution_count": 411,
   "metadata": {},
   "outputs": [
    {
     "name": "stdout",
     "output_type": "stream",
     "text": [
      "4.132172775273007\n"
     ]
    }
   ],
   "source": [
    "print(aapl_dar_mae_loss)"
   ]
  },
  {
   "cell_type": "markdown",
   "metadata": {},
   "source": [
    "Root Mean Squared Error"
   ]
  },
  {
   "cell_type": "code",
   "execution_count": 412,
   "metadata": {},
   "outputs": [],
   "source": [
    "aapl_dar_mse_loss = mean_squared_error(test_gt, json_prediction[0]['0.5'], squared=False)"
   ]
  },
  {
   "cell_type": "code",
   "execution_count": 413,
   "metadata": {},
   "outputs": [
    {
     "name": "stdout",
     "output_type": "stream",
     "text": [
      "5.1201096558402055\n"
     ]
    }
   ],
   "source": [
    "print(aapl_dar_mse_loss)"
   ]
  },
  {
   "cell_type": "markdown",
   "metadata": {},
   "source": [
    "Mean Absolute Percentage Error"
   ]
  },
  {
   "cell_type": "code",
   "execution_count": 414,
   "metadata": {},
   "outputs": [],
   "source": [
    "aapl_dar_map_loss = mean_absolute_percentage_error(test_gt, json_prediction[0]['0.5'])"
   ]
  },
  {
   "cell_type": "code",
   "execution_count": 415,
   "metadata": {},
   "outputs": [
    {
     "name": "stdout",
     "output_type": "stream",
     "text": [
      "0.030055208048268445\n"
     ]
    }
   ],
   "source": [
    "print(aapl_dar_map_loss)"
   ]
  },
  {
   "cell_type": "markdown",
   "metadata": {},
   "source": [
    "R<sup>2</sup> score"
   ]
  },
  {
   "cell_type": "code",
   "execution_count": 416,
   "metadata": {},
   "outputs": [],
   "source": [
    "aapl_dar_r2_score = r2_score(test_gt, json_prediction[0]['0.5'])"
   ]
  },
  {
   "cell_type": "code",
   "execution_count": 417,
   "metadata": {},
   "outputs": [
    {
     "name": "stdout",
     "output_type": "stream",
     "text": [
      "-0.3694001824297417\n"
     ]
    }
   ],
   "source": [
    "print(aapl_dar_r2_score)"
   ]
  },
  {
   "cell_type": "markdown",
   "metadata": {},
   "source": [
    "## Display the Results\n",
    "\n",
    "The quantile data will give us all we need to see the results of our prediction.\n",
    "* Quantiles 0.1 and 0.9 represent higher and lower bounds for the predicted values.\n",
    "* Quantile 0.5 represents the median of all sample predictions."
   ]
  },
  {
   "cell_type": "code",
   "execution_count": 418,
   "metadata": {},
   "outputs": [
    {
     "data": {
      "image/png": "[encoded data removed]",
      "text/plain": [
       "<Figure size 864x432 with 1 Axes>"
      ]
     },
     "metadata": {
      "needs_background": "light"
     },
     "output_type": "display_data"
    }
   ],
   "source": [
    "# display predictions\n",
    "display_quantiles(d_single_prediction, prediction_length[1], test_gt)"
   ]
  },
  {
   "cell_type": "markdown",
   "metadata": {},
   "source": [
    "### Predicting Amazon stock price"
   ]
  },
  {
   "cell_type": "markdown",
   "metadata": {},
   "source": [
    "Ground truth:"
   ]
  },
  {
   "cell_type": "code",
   "execution_count": 419,
   "metadata": {},
   "outputs": [],
   "source": [
    "test_gt = df_amzn_test.iloc[-prediction_length[1]:]['Adj Close']"
   ]
  },
  {
   "cell_type": "code",
   "execution_count": 422,
   "metadata": {},
   "outputs": [],
   "source": [
    "# get all input and target (test) time series\n",
    "# input_ts = [df_ibm_train, df_aapl_train, df_amzn_train, df_googl_train]\n",
    "# target_ts = [df_ibm_test, df_aapl_test, df_amzn_test, df_googl_test]\n",
    "\n",
    "input_ts = [df_amzn_train]\n",
    "target_ts = [df_amzn]\n",
    "\n",
    "# get the prediction from the predictor\n",
    "json_prediction = json_predictor.predict(input_ts)"
   ]
  },
  {
   "cell_type": "code",
   "execution_count": 423,
   "metadata": {},
   "outputs": [
    {
     "data": {
      "text/html": [
       "<div>\n",
       "<style scoped>\n",
       "    .dataframe tbody tr th:only-of-type {\n",
       "        vertical-align: middle;\n",
       "    }\n",
       "\n",
       "    .dataframe tbody tr th {\n",
       "        vertical-align: top;\n",
       "    }\n",
       "\n",
       "    .dataframe thead th {\n",
       "        text-align: right;\n",
       "    }\n",
       "</style>\n",
       "<table border=\"1\" class=\"dataframe\">\n",
       "  <thead>\n",
       "    <tr style=\"text-align: right;\">\n",
       "      <th></th>\n",
       "      <th>0.1</th>\n",
       "      <th>0.9</th>\n",
       "      <th>0.5</th>\n",
       "    </tr>\n",
       "  </thead>\n",
       "  <tbody>\n",
       "    <tr>\n",
       "      <th>2021-01-14</th>\n",
       "      <td>3084.554932</td>\n",
       "      <td>3245.418213</td>\n",
       "      <td>3167.569824</td>\n",
       "    </tr>\n",
       "    <tr>\n",
       "      <th>2021-01-15</th>\n",
       "      <td>3088.180908</td>\n",
       "      <td>3256.072510</td>\n",
       "      <td>3177.134521</td>\n",
       "    </tr>\n",
       "    <tr>\n",
       "      <th>2021-01-16</th>\n",
       "      <td>3080.199219</td>\n",
       "      <td>3288.118896</td>\n",
       "      <td>3182.061768</td>\n",
       "    </tr>\n",
       "    <tr>\n",
       "      <th>2021-01-17</th>\n",
       "      <td>3094.484863</td>\n",
       "      <td>3291.157227</td>\n",
       "      <td>3212.899658</td>\n",
       "    </tr>\n",
       "    <tr>\n",
       "      <th>2021-01-18</th>\n",
       "      <td>3064.995605</td>\n",
       "      <td>3310.007324</td>\n",
       "      <td>3208.468750</td>\n",
       "    </tr>\n",
       "    <tr>\n",
       "      <th>2021-01-19</th>\n",
       "      <td>3074.138672</td>\n",
       "      <td>3329.010254</td>\n",
       "      <td>3220.762207</td>\n",
       "    </tr>\n",
       "    <tr>\n",
       "      <th>2021-01-20</th>\n",
       "      <td>3091.926758</td>\n",
       "      <td>3308.124756</td>\n",
       "      <td>3211.905273</td>\n",
       "    </tr>\n",
       "    <tr>\n",
       "      <th>2021-01-21</th>\n",
       "      <td>3080.706543</td>\n",
       "      <td>3315.033691</td>\n",
       "      <td>3213.785645</td>\n",
       "    </tr>\n",
       "    <tr>\n",
       "      <th>2021-01-22</th>\n",
       "      <td>3095.735107</td>\n",
       "      <td>3353.044434</td>\n",
       "      <td>3242.382324</td>\n",
       "    </tr>\n",
       "    <tr>\n",
       "      <th>2021-01-23</th>\n",
       "      <td>3116.385986</td>\n",
       "      <td>3378.254883</td>\n",
       "      <td>3233.464600</td>\n",
       "    </tr>\n",
       "    <tr>\n",
       "      <th>2021-01-24</th>\n",
       "      <td>3083.278320</td>\n",
       "      <td>3356.037842</td>\n",
       "      <td>3236.866943</td>\n",
       "    </tr>\n",
       "    <tr>\n",
       "      <th>2021-01-25</th>\n",
       "      <td>3100.934814</td>\n",
       "      <td>3351.481934</td>\n",
       "      <td>3233.348877</td>\n",
       "    </tr>\n",
       "    <tr>\n",
       "      <th>2021-01-26</th>\n",
       "      <td>3120.574951</td>\n",
       "      <td>3351.267578</td>\n",
       "      <td>3235.086426</td>\n",
       "    </tr>\n",
       "    <tr>\n",
       "      <th>2021-01-27</th>\n",
       "      <td>3113.675537</td>\n",
       "      <td>3355.235352</td>\n",
       "      <td>3229.205811</td>\n",
       "    </tr>\n",
       "    <tr>\n",
       "      <th>2021-01-28</th>\n",
       "      <td>3099.476074</td>\n",
       "      <td>3376.069580</td>\n",
       "      <td>3253.688721</td>\n",
       "    </tr>\n",
       "    <tr>\n",
       "      <th>2021-01-29</th>\n",
       "      <td>3132.269043</td>\n",
       "      <td>3368.400635</td>\n",
       "      <td>3238.749268</td>\n",
       "    </tr>\n",
       "    <tr>\n",
       "      <th>2021-01-30</th>\n",
       "      <td>3132.366211</td>\n",
       "      <td>3360.461182</td>\n",
       "      <td>3251.646973</td>\n",
       "    </tr>\n",
       "    <tr>\n",
       "      <th>2021-01-31</th>\n",
       "      <td>3139.202148</td>\n",
       "      <td>3372.299805</td>\n",
       "      <td>3239.989502</td>\n",
       "    </tr>\n",
       "    <tr>\n",
       "      <th>2021-02-01</th>\n",
       "      <td>3111.688232</td>\n",
       "      <td>3366.752930</td>\n",
       "      <td>3232.293945</td>\n",
       "    </tr>\n",
       "    <tr>\n",
       "      <th>2021-02-02</th>\n",
       "      <td>3124.568848</td>\n",
       "      <td>3389.931396</td>\n",
       "      <td>3255.805664</td>\n",
       "    </tr>\n",
       "  </tbody>\n",
       "</table>\n",
       "</div>"
      ],
      "text/plain": [
       "                    0.1          0.9          0.5\n",
       "2021-01-14  3084.554932  3245.418213  3167.569824\n",
       "2021-01-15  3088.180908  3256.072510  3177.134521\n",
       "2021-01-16  3080.199219  3288.118896  3182.061768\n",
       "2021-01-17  3094.484863  3291.157227  3212.899658\n",
       "2021-01-18  3064.995605  3310.007324  3208.468750\n",
       "2021-01-19  3074.138672  3329.010254  3220.762207\n",
       "2021-01-20  3091.926758  3308.124756  3211.905273\n",
       "2021-01-21  3080.706543  3315.033691  3213.785645\n",
       "2021-01-22  3095.735107  3353.044434  3242.382324\n",
       "2021-01-23  3116.385986  3378.254883  3233.464600\n",
       "2021-01-24  3083.278320  3356.037842  3236.866943\n",
       "2021-01-25  3100.934814  3351.481934  3233.348877\n",
       "2021-01-26  3120.574951  3351.267578  3235.086426\n",
       "2021-01-27  3113.675537  3355.235352  3229.205811\n",
       "2021-01-28  3099.476074  3376.069580  3253.688721\n",
       "2021-01-29  3132.269043  3368.400635  3238.749268\n",
       "2021-01-30  3132.366211  3360.461182  3251.646973\n",
       "2021-01-31  3139.202148  3372.299805  3239.989502\n",
       "2021-02-01  3111.688232  3366.752930  3232.293945\n",
       "2021-02-02  3124.568848  3389.931396  3255.805664"
      ]
     },
     "execution_count": 423,
     "metadata": {},
     "output_type": "execute_result"
    }
   ],
   "source": [
    "json_prediction[0]"
   ]
  },
  {
   "cell_type": "markdown",
   "metadata": {},
   "source": [
    "As we can see, index are just progressing of one day each row, wich is not stock price progression scheme in real life (e.g.: weekends are not trading days), so I'm going fix the index before going on with the analysis of results:"
   ]
  },
  {
   "cell_type": "code",
   "execution_count": 424,
   "metadata": {},
   "outputs": [],
   "source": [
    "single_prediction = json_prediction[0]"
   ]
  },
  {
   "cell_type": "code",
   "execution_count": 425,
   "metadata": {},
   "outputs": [],
   "source": [
    "single_prediction.index = test_gt.index"
   ]
  },
  {
   "cell_type": "markdown",
   "metadata": {},
   "source": [
    "Save data locally:"
   ]
  },
  {
   "cell_type": "code",
   "execution_count": 426,
   "metadata": {},
   "outputs": [],
   "source": [
    "data_dir_json_prediction = os.path.join(data_dir_json, 'prediction') # The folder we will use for storing data\n",
    "if not os.path.exists(data_dir_json_prediction): # Make sure that the folder exists\n",
    "    os.makedirs(data_dir_json_prediction)"
   ]
  },
  {
   "cell_type": "code",
   "execution_count": 427,
   "metadata": {},
   "outputs": [],
   "source": [
    "start_date = str(single_prediction.index[0].date())\n",
    "end_date = str(single_prediction.index[-1].date())"
   ]
  },
  {
   "cell_type": "markdown",
   "metadata": {},
   "source": [
    "Prediction serialization:"
   ]
  },
  {
   "cell_type": "code",
   "execution_count": 428,
   "metadata": {},
   "outputs": [],
   "source": [
    "single_prediction.to_json(os.path.join(data_dir_json_prediction, \"AMZN_{} - {}.json\".format(start_date, end_date)),\n",
    "                          orient='columns',date_format='iso')"
   ]
  },
  {
   "cell_type": "markdown",
   "metadata": {},
   "source": [
    "Prediction de-serialization:"
   ]
  },
  {
   "cell_type": "code",
   "execution_count": 429,
   "metadata": {},
   "outputs": [],
   "source": [
    "d_single_prediction = pd.read_json(os.path.join(data_dir_json_prediction, \"AMZN_{} - {}.json\".format(start_date, end_date)),\n",
    "                                   orient='columns', convert_axes=False)"
   ]
  },
  {
   "cell_type": "markdown",
   "metadata": {},
   "source": [
    "Again, index normalization using target index, before using deserialized data:"
   ]
  },
  {
   "cell_type": "code",
   "execution_count": 431,
   "metadata": {},
   "outputs": [],
   "source": [
    "d_single_prediction.index = test_gt.index"
   ]
  },
  {
   "cell_type": "markdown",
   "metadata": {},
   "source": [
    "#### Metrics computation"
   ]
  },
  {
   "cell_type": "markdown",
   "metadata": {},
   "source": [
    "Mean Absolute Error"
   ]
  },
  {
   "cell_type": "code",
   "execution_count": 432,
   "metadata": {},
   "outputs": [],
   "source": [
    "amzn_dar_mae_loss = mean_absolute_error(test_gt, json_prediction[0]['0.5'])"
   ]
  },
  {
   "cell_type": "code",
   "execution_count": 433,
   "metadata": {},
   "outputs": [
    {
     "name": "stdout",
     "output_type": "stream",
     "text": [
      "67.96068115236376\n"
     ]
    }
   ],
   "source": [
    "print(amzn_dar_mae_loss)"
   ]
  },
  {
   "cell_type": "markdown",
   "metadata": {},
   "source": [
    "Root Mean Squared Error"
   ]
  },
  {
   "cell_type": "code",
   "execution_count": 434,
   "metadata": {},
   "outputs": [],
   "source": [
    "amzn_dar_mse_loss = mean_squared_error(test_gt, json_prediction[0]['0.5'], squared=False)"
   ]
  },
  {
   "cell_type": "code",
   "execution_count": 435,
   "metadata": {},
   "outputs": [
    {
     "name": "stdout",
     "output_type": "stream",
     "text": [
      "77.30706864366309\n"
     ]
    }
   ],
   "source": [
    "print(amzn_dar_mse_loss)"
   ]
  },
  {
   "cell_type": "markdown",
   "metadata": {},
   "source": [
    "Mean Absolute Percentage Error"
   ]
  },
  {
   "cell_type": "code",
   "execution_count": 438,
   "metadata": {},
   "outputs": [],
   "source": [
    "amzn_dar_map_loss = mean_absolute_percentage_error(test_gt, json_prediction[0]['0.5'])"
   ]
  },
  {
   "cell_type": "code",
   "execution_count": 439,
   "metadata": {},
   "outputs": [
    {
     "name": "stdout",
     "output_type": "stream",
     "text": [
      "0.020645287504262862\n"
     ]
    }
   ],
   "source": [
    "print(amzn_dar_map_loss)"
   ]
  },
  {
   "cell_type": "markdown",
   "metadata": {},
   "source": [
    "R<sup>2</sup> score"
   ]
  },
  {
   "cell_type": "code",
   "execution_count": 440,
   "metadata": {},
   "outputs": [],
   "source": [
    "amzn_dar_r2_score = r2_score(test_gt, json_prediction[0]['0.5'])"
   ]
  },
  {
   "cell_type": "code",
   "execution_count": 441,
   "metadata": {},
   "outputs": [
    {
     "name": "stdout",
     "output_type": "stream",
     "text": [
      "-0.028067039566319174\n"
     ]
    }
   ],
   "source": [
    "print(amzn_dar_r2_score)"
   ]
  },
  {
   "cell_type": "markdown",
   "metadata": {},
   "source": [
    "## Display the Results\n",
    "\n",
    "The quantile data will give us all we need to see the results of our prediction.\n",
    "* Quantiles 0.1 and 0.9 represent higher and lower bounds for the predicted values.\n",
    "* Quantile 0.5 represents the median of all sample predictions."
   ]
  },
  {
   "cell_type": "code",
   "execution_count": 442,
   "metadata": {},
   "outputs": [
    {
     "data": {
      "image/png": "[encoded data removed]",
      "text/plain": [
       "<Figure size 864x432 with 1 Axes>"
      ]
     },
     "metadata": {
      "needs_background": "light"
     },
     "output_type": "display_data"
    }
   ],
   "source": [
    "# display predictions\n",
    "display_quantiles(d_single_prediction, prediction_length[1], test_gt)"
   ]
  },
  {
   "cell_type": "markdown",
   "metadata": {},
   "source": [
    "### Predicting Alphabet stock price"
   ]
  },
  {
   "cell_type": "markdown",
   "metadata": {},
   "source": [
    "Ground truth:"
   ]
  },
  {
   "cell_type": "code",
   "execution_count": 443,
   "metadata": {},
   "outputs": [],
   "source": [
    "test_gt = df_googl_test.iloc[-prediction_length[1]:]['Adj Close']"
   ]
  },
  {
   "cell_type": "code",
   "execution_count": 444,
   "metadata": {},
   "outputs": [],
   "source": [
    "# get all input and target (test) time series\n",
    "# input_ts = [df_ibm_train, df_aapl_train, df_amzn_train, df_googl_train]\n",
    "# target_ts = [df_ibm_test, df_aapl_test, df_amzn_test, df_googl_test]\n",
    "\n",
    "input_ts = [df_googl_train]\n",
    "target_ts = [df_googl]\n",
    "\n",
    "# get the prediction from the predictor\n",
    "json_prediction = json_predictor.predict(input_ts)"
   ]
  },
  {
   "cell_type": "code",
   "execution_count": 445,
   "metadata": {},
   "outputs": [
    {
     "data": {
      "text/html": [
       "<div>\n",
       "<style scoped>\n",
       "    .dataframe tbody tr th:only-of-type {\n",
       "        vertical-align: middle;\n",
       "    }\n",
       "\n",
       "    .dataframe tbody tr th {\n",
       "        vertical-align: top;\n",
       "    }\n",
       "\n",
       "    .dataframe thead th {\n",
       "        text-align: right;\n",
       "    }\n",
       "</style>\n",
       "<table border=\"1\" class=\"dataframe\">\n",
       "  <thead>\n",
       "    <tr style=\"text-align: right;\">\n",
       "      <th></th>\n",
       "      <th>0.1</th>\n",
       "      <th>0.9</th>\n",
       "      <th>0.5</th>\n",
       "    </tr>\n",
       "  </thead>\n",
       "  <tbody>\n",
       "    <tr>\n",
       "      <th>2021-01-14</th>\n",
       "      <td>1708.512451</td>\n",
       "      <td>1801.604614</td>\n",
       "      <td>1756.981445</td>\n",
       "    </tr>\n",
       "    <tr>\n",
       "      <th>2021-01-15</th>\n",
       "      <td>1703.664307</td>\n",
       "      <td>1798.472534</td>\n",
       "      <td>1756.093506</td>\n",
       "    </tr>\n",
       "    <tr>\n",
       "      <th>2021-01-16</th>\n",
       "      <td>1693.272827</td>\n",
       "      <td>1786.846191</td>\n",
       "      <td>1745.579834</td>\n",
       "    </tr>\n",
       "    <tr>\n",
       "      <th>2021-01-17</th>\n",
       "      <td>1674.004150</td>\n",
       "      <td>1786.466431</td>\n",
       "      <td>1736.667969</td>\n",
       "    </tr>\n",
       "    <tr>\n",
       "      <th>2021-01-18</th>\n",
       "      <td>1684.743286</td>\n",
       "      <td>1787.399292</td>\n",
       "      <td>1741.112671</td>\n",
       "    </tr>\n",
       "    <tr>\n",
       "      <th>2021-01-19</th>\n",
       "      <td>1682.821411</td>\n",
       "      <td>1808.798218</td>\n",
       "      <td>1747.433838</td>\n",
       "    </tr>\n",
       "    <tr>\n",
       "      <th>2021-01-20</th>\n",
       "      <td>1684.948120</td>\n",
       "      <td>1813.729492</td>\n",
       "      <td>1745.894165</td>\n",
       "    </tr>\n",
       "    <tr>\n",
       "      <th>2021-01-21</th>\n",
       "      <td>1685.006592</td>\n",
       "      <td>1806.732788</td>\n",
       "      <td>1747.387939</td>\n",
       "    </tr>\n",
       "    <tr>\n",
       "      <th>2021-01-22</th>\n",
       "      <td>1697.543335</td>\n",
       "      <td>1815.604736</td>\n",
       "      <td>1758.992432</td>\n",
       "    </tr>\n",
       "    <tr>\n",
       "      <th>2021-01-23</th>\n",
       "      <td>1693.155151</td>\n",
       "      <td>1830.079712</td>\n",
       "      <td>1763.710449</td>\n",
       "    </tr>\n",
       "    <tr>\n",
       "      <th>2021-01-24</th>\n",
       "      <td>1692.166626</td>\n",
       "      <td>1831.649048</td>\n",
       "      <td>1761.289551</td>\n",
       "    </tr>\n",
       "    <tr>\n",
       "      <th>2021-01-25</th>\n",
       "      <td>1698.766602</td>\n",
       "      <td>1843.091187</td>\n",
       "      <td>1763.795532</td>\n",
       "    </tr>\n",
       "    <tr>\n",
       "      <th>2021-01-26</th>\n",
       "      <td>1707.879639</td>\n",
       "      <td>1843.580933</td>\n",
       "      <td>1767.704102</td>\n",
       "    </tr>\n",
       "    <tr>\n",
       "      <th>2021-01-27</th>\n",
       "      <td>1720.796997</td>\n",
       "      <td>1861.165161</td>\n",
       "      <td>1777.705444</td>\n",
       "    </tr>\n",
       "    <tr>\n",
       "      <th>2021-01-28</th>\n",
       "      <td>1707.169678</td>\n",
       "      <td>1851.398071</td>\n",
       "      <td>1778.897583</td>\n",
       "    </tr>\n",
       "    <tr>\n",
       "      <th>2021-01-29</th>\n",
       "      <td>1704.310059</td>\n",
       "      <td>1869.396118</td>\n",
       "      <td>1775.641602</td>\n",
       "    </tr>\n",
       "    <tr>\n",
       "      <th>2021-01-30</th>\n",
       "      <td>1714.721069</td>\n",
       "      <td>1852.620239</td>\n",
       "      <td>1777.943115</td>\n",
       "    </tr>\n",
       "    <tr>\n",
       "      <th>2021-01-31</th>\n",
       "      <td>1708.345703</td>\n",
       "      <td>1862.268799</td>\n",
       "      <td>1779.715332</td>\n",
       "    </tr>\n",
       "    <tr>\n",
       "      <th>2021-02-01</th>\n",
       "      <td>1716.759033</td>\n",
       "      <td>1861.563477</td>\n",
       "      <td>1783.241333</td>\n",
       "    </tr>\n",
       "    <tr>\n",
       "      <th>2021-02-02</th>\n",
       "      <td>1714.150391</td>\n",
       "      <td>1853.007324</td>\n",
       "      <td>1773.722412</td>\n",
       "    </tr>\n",
       "  </tbody>\n",
       "</table>\n",
       "</div>"
      ],
      "text/plain": [
       "                    0.1          0.9          0.5\n",
       "2021-01-14  1708.512451  1801.604614  1756.981445\n",
       "2021-01-15  1703.664307  1798.472534  1756.093506\n",
       "2021-01-16  1693.272827  1786.846191  1745.579834\n",
       "2021-01-17  1674.004150  1786.466431  1736.667969\n",
       "2021-01-18  1684.743286  1787.399292  1741.112671\n",
       "2021-01-19  1682.821411  1808.798218  1747.433838\n",
       "2021-01-20  1684.948120  1813.729492  1745.894165\n",
       "2021-01-21  1685.006592  1806.732788  1747.387939\n",
       "2021-01-22  1697.543335  1815.604736  1758.992432\n",
       "2021-01-23  1693.155151  1830.079712  1763.710449\n",
       "2021-01-24  1692.166626  1831.649048  1761.289551\n",
       "2021-01-25  1698.766602  1843.091187  1763.795532\n",
       "2021-01-26  1707.879639  1843.580933  1767.704102\n",
       "2021-01-27  1720.796997  1861.165161  1777.705444\n",
       "2021-01-28  1707.169678  1851.398071  1778.897583\n",
       "2021-01-29  1704.310059  1869.396118  1775.641602\n",
       "2021-01-30  1714.721069  1852.620239  1777.943115\n",
       "2021-01-31  1708.345703  1862.268799  1779.715332\n",
       "2021-02-01  1716.759033  1861.563477  1783.241333\n",
       "2021-02-02  1714.150391  1853.007324  1773.722412"
      ]
     },
     "execution_count": 445,
     "metadata": {},
     "output_type": "execute_result"
    }
   ],
   "source": [
    "json_prediction[0]"
   ]
  },
  {
   "cell_type": "markdown",
   "metadata": {},
   "source": [
    "As we can see, index are just progressing of one day each row, wich is not stock price progression scheme in real life (e.g.: weekends are not trading days), so I'm going fix the index before going on with the analysis of results:"
   ]
  },
  {
   "cell_type": "code",
   "execution_count": 446,
   "metadata": {},
   "outputs": [],
   "source": [
    "single_prediction = json_prediction[0]"
   ]
  },
  {
   "cell_type": "code",
   "execution_count": 447,
   "metadata": {},
   "outputs": [],
   "source": [
    "single_prediction.index = test_gt.index"
   ]
  },
  {
   "cell_type": "markdown",
   "metadata": {},
   "source": [
    "Save data locally:"
   ]
  },
  {
   "cell_type": "code",
   "execution_count": 448,
   "metadata": {},
   "outputs": [],
   "source": [
    "data_dir_json_prediction = os.path.join(data_dir_json, 'prediction') # The folder we will use for storing data\n",
    "if not os.path.exists(data_dir_json_prediction): # Make sure that the folder exists\n",
    "    os.makedirs(data_dir_json_prediction)"
   ]
  },
  {
   "cell_type": "code",
   "execution_count": 449,
   "metadata": {},
   "outputs": [],
   "source": [
    "start_date = str(single_prediction.index[0].date())\n",
    "end_date = str(single_prediction.index[-1].date())"
   ]
  },
  {
   "cell_type": "markdown",
   "metadata": {},
   "source": [
    "Prediction serialization:"
   ]
  },
  {
   "cell_type": "code",
   "execution_count": 450,
   "metadata": {},
   "outputs": [],
   "source": [
    "single_prediction.to_json(os.path.join(data_dir_json_prediction, \"GOOGL_{} - {}.json\".format(start_date, end_date)),\n",
    "                          orient='columns',date_format='iso')"
   ]
  },
  {
   "cell_type": "markdown",
   "metadata": {},
   "source": [
    "Prediction de-serialization:"
   ]
  },
  {
   "cell_type": "code",
   "execution_count": 451,
   "metadata": {},
   "outputs": [],
   "source": [
    "d_single_prediction = pd.read_json(os.path.join(data_dir_json_prediction, \"GOOGL_{} - {}.json\".format(start_date, end_date)),\n",
    "                                   orient='columns', convert_axes=False)"
   ]
  },
  {
   "cell_type": "markdown",
   "metadata": {},
   "source": [
    "Again, index normalization using target index, before using deserialized data:"
   ]
  },
  {
   "cell_type": "code",
   "execution_count": 453,
   "metadata": {},
   "outputs": [],
   "source": [
    "d_single_prediction.index = test_gt.index"
   ]
  },
  {
   "cell_type": "markdown",
   "metadata": {},
   "source": [
    "#### Metrics computation"
   ]
  },
  {
   "cell_type": "markdown",
   "metadata": {},
   "source": [
    "Mean Absolute Error"
   ]
  },
  {
   "cell_type": "code",
   "execution_count": 454,
   "metadata": {},
   "outputs": [],
   "source": [
    "googl_dar_mae_loss = mean_absolute_error(test_gt, json_prediction[0]['0.5'])"
   ]
  },
  {
   "cell_type": "code",
   "execution_count": 455,
   "metadata": {},
   "outputs": [
    {
     "name": "stdout",
     "output_type": "stream",
     "text": [
      "170.9874572753956\n"
     ]
    }
   ],
   "source": [
    "print(googl_dar_mae_loss)"
   ]
  },
  {
   "cell_type": "markdown",
   "metadata": {},
   "source": [
    "Root Mean Squared Error"
   ]
  },
  {
   "cell_type": "code",
   "execution_count": 456,
   "metadata": {},
   "outputs": [],
   "source": [
    "googl_ma_mse_loss = mean_squared_error(test_gt, json_prediction[0]['0.5'], squared=False)"
   ]
  },
  {
   "cell_type": "code",
   "execution_count": 457,
   "metadata": {},
   "outputs": [
    {
     "name": "stdout",
     "output_type": "stream",
     "text": [
      "199.21410416670855\n"
     ]
    }
   ],
   "source": [
    "print(googl_ma_mse_loss)"
   ]
  },
  {
   "cell_type": "markdown",
   "metadata": {},
   "source": [
    "Mean Absolute Percentage Error"
   ]
  },
  {
   "cell_type": "code",
   "execution_count": 459,
   "metadata": {},
   "outputs": [],
   "source": [
    "googl_dar_map_loss = mean_absolute_percentage_error(test_gt, json_prediction[0]['0.5'])"
   ]
  },
  {
   "cell_type": "code",
   "execution_count": 460,
   "metadata": {},
   "outputs": [
    {
     "name": "stdout",
     "output_type": "stream",
     "text": [
      "0.08576295206230264\n"
     ]
    }
   ],
   "source": [
    "print(googl_dar_map_loss)"
   ]
  },
  {
   "cell_type": "markdown",
   "metadata": {},
   "source": [
    "R<sup>2</sup> score"
   ]
  },
  {
   "cell_type": "code",
   "execution_count": 463,
   "metadata": {},
   "outputs": [],
   "source": [
    "googl_dar_r2_score = r2_score(test_gt, json_prediction[0]['0.5'])"
   ]
  },
  {
   "cell_type": "code",
   "execution_count": 464,
   "metadata": {},
   "outputs": [
    {
     "name": "stdout",
     "output_type": "stream",
     "text": [
      "-1.7231062485924302\n"
     ]
    }
   ],
   "source": [
    "print(googl_dar_r2_score)"
   ]
  },
  {
   "cell_type": "markdown",
   "metadata": {},
   "source": [
    "## Display the Results\n",
    "\n",
    "The quantile data will give us all we need to see the results of our prediction.\n",
    "* Quantiles 0.1 and 0.9 represent higher and lower bounds for the predicted values.\n",
    "* Quantile 0.5 represents the median of all sample predictions."
   ]
  },
  {
   "cell_type": "code",
   "execution_count": 465,
   "metadata": {},
   "outputs": [
    {
     "data": {
      "image/png": "[encoded data removed]",
      "text/plain": [
       "<Figure size 864x432 with 1 Axes>"
      ]
     },
     "metadata": {
      "needs_background": "light"
     },
     "output_type": "display_data"
    }
   ],
   "source": [
    "# display predictions\n",
    "display_quantiles(d_single_prediction, prediction_length[1], test_gt)"
   ]
  },
  {
   "cell_type": "markdown",
   "metadata": {},
   "source": [
    "## Delete the Endpoint\n",
    "\n",
    "Try your code out on different time series. You may want to tweak your DeepAR hyperparameters and see if you can improve the performance of this predictor.\n",
    "\n",
    "When you're done with evaluating the predictor (any predictor), make sure to delete the endpoint."
   ]
  },
  {
   "cell_type": "code",
   "execution_count": null,
   "metadata": {},
   "outputs": [],
   "source": [
    "## TODO: delete the endpoint\n",
    "json_predictor.delete_endpoint()"
   ]
  }
 ],
 "metadata": {
  "kernelspec": {
   "display_name": "conda_pytorch_p36",
   "language": "python",
   "name": "conda_pytorch_p36"
  },
  "language_info": {
   "codemirror_mode": {
    "name": "ipython",
    "version": 3
   },
   "file_extension": ".py",
   "mimetype": "text/x-python",
   "name": "python",
   "nbconvert_exporter": "python",
   "pygments_lexer": "ipython3",
   "version": "3.6.13"
  }
 },
 "nbformat": 4,
 "nbformat_minor": 4
}
