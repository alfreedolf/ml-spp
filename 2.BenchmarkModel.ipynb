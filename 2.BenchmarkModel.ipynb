{
 "cells": [
  {
   "cell_type": "markdown",
   "id": "intelligent-venue",
   "metadata": {},
   "source": [
    "## Benchmark model"
   ]
  },
  {
   "cell_type": "markdown",
   "id": "optical-cherry",
   "metadata": {},
   "source": [
    "In this notebook a Simple Moving Average model will be created in order to have a benchmark for my DeepAR based model (to be tuned in the next notebook)."
   ]
  },
  {
   "cell_type": "markdown",
   "id": "conventional-inquiry",
   "metadata": {},
   "source": [
    "### Hyperparameters"
   ]
  },
  {
   "cell_type": "markdown",
   "id": "lightweight-interview",
   "metadata": {},
   "source": [
    "DeepAR is the model of choice for this project.\n",
    "This model expects input data to be already test-train splitted.\n",
    "A big part of the model design has to be done looking close at data.\n",
    "More specifically, defining these two hyperparameters about the data:\n",
    "* Context length\n",
    "* Prediction length"
   ]
  },
  {
   "cell_type": "markdown",
   "id": "extended-vinyl",
   "metadata": {},
   "source": [
    "### Prediction length"
   ]
  },
  {
   "cell_type": "markdown",
   "id": "affected-machinery",
   "metadata": {},
   "source": [
    "This is the length of the time series future predictions in days. It will be conveniently set to 5 days (exactly a week of trading hours) because a shorter interval would be of little significance.\n",
    "A longer interval could be interesting from an application point of view, but it can be challenging in terms of model performances."
   ]
  },
  {
   "cell_type": "markdown",
   "id": "affected-particular",
   "metadata": {},
   "source": [
    "### Context length"
   ]
  },
  {
   "cell_type": "markdown",
   "id": "attempted-personality",
   "metadata": {},
   "source": [
    "Context length can be either:\n",
    "* designed on patterns or seasonality observed in the data, if any is present;\n",
    "* chosen as a fixed value. This will be my choice, and it will be the same as the moving average window, in order to have a good reference metrics, applicable to both this model and the benchmark model."
   ]
  },
  {
   "cell_type": "markdown",
   "id": "central-springfield",
   "metadata": {},
   "source": [
    "To explore this second option, we will refer to what we've found during the EDA stage."
   ]
  },
  {
   "cell_type": "code",
   "execution_count": 138,
   "id": "academic-briefs",
   "metadata": {},
   "outputs": [],
   "source": [
    "prediction_length = [10, 20, 50]\n",
    "context_length = [10, 20, 50]"
   ]
  },
  {
   "cell_type": "markdown",
   "id": "green-mounting",
   "metadata": {},
   "source": [
    "### Train, test and validation split"
   ]
  },
  {
   "cell_type": "markdown",
   "id": "adaptive-split",
   "metadata": {},
   "source": [
    "Time series will be all trimmed from `data_start` in `1.ExploratoryDataAnalysis.ipy`, according to DeepAR documentation, train time series should be set as the size of the entire time series less the prediction length.\n",
    "Validation length will exactly equal to prediction length."
   ]
  },
  {
   "cell_type": "code",
   "execution_count": 139,
   "id": "vital-coordinator",
   "metadata": {},
   "outputs": [],
   "source": [
    "from data.data_utils import train_test_valid_split"
   ]
  },
  {
   "cell_type": "markdown",
   "id": "dressed-motel",
   "metadata": {},
   "source": [
    "#### IBM Stock train, test and validation split"
   ]
  },
  {
   "cell_type": "code",
   "execution_count": 140,
   "id": "pursuant-rwanda",
   "metadata": {},
   "outputs": [],
   "source": [
    "df_ibm = df_ibm.loc[data_start:].copy()"
   ]
  },
  {
   "cell_type": "code",
   "execution_count": 141,
   "id": "wooden-provision",
   "metadata": {},
   "outputs": [
    {
     "name": "stdout",
     "output_type": "stream",
     "text": [
      "4194 4154 4174 20\n"
     ]
    }
   ],
   "source": [
    "df_ibm_train, df_ibm_test, df_ibm_valid = train_test_valid_split(df_ibm, prediction_length=prediction_length[1])\n",
    "print(len(df_ibm), len(df_ibm_train), len(df_ibm_test), len(df_ibm_valid))"
   ]
  },
  {
   "cell_type": "code",
   "execution_count": 142,
   "id": "injured-guard",
   "metadata": {},
   "outputs": [
    {
     "data": {
      "text/html": [
       "<div>\n",
       "<style scoped>\n",
       "    .dataframe tbody tr th:only-of-type {\n",
       "        vertical-align: middle;\n",
       "    }\n",
       "\n",
       "    .dataframe tbody tr th {\n",
       "        vertical-align: top;\n",
       "    }\n",
       "\n",
       "    .dataframe thead th {\n",
       "        text-align: right;\n",
       "    }\n",
       "</style>\n",
       "<table border=\"1\" class=\"dataframe\">\n",
       "  <thead>\n",
       "    <tr style=\"text-align: right;\">\n",
       "      <th></th>\n",
       "      <th>Adj Close</th>\n",
       "      <th>Close</th>\n",
       "      <th>High</th>\n",
       "      <th>Low</th>\n",
       "      <th>Open</th>\n",
       "      <th>Volume</th>\n",
       "      <th>Dividends</th>\n",
       "      <th>Stock Splits</th>\n",
       "      <th>10_ac_ma</th>\n",
       "      <th>20_ac_ma</th>\n",
       "      <th>50_ac_ma</th>\n",
       "      <th>10_ac_bb_u</th>\n",
       "      <th>10_ac_bb_l</th>\n",
       "      <th>20_ac_bb_u</th>\n",
       "      <th>20_ac_bb_l</th>\n",
       "      <th>50_ac_bb_u</th>\n",
       "      <th>50_ac_bb_l</th>\n",
       "    </tr>\n",
       "    <tr>\n",
       "      <th>Date</th>\n",
       "      <th></th>\n",
       "      <th></th>\n",
       "      <th></th>\n",
       "      <th></th>\n",
       "      <th></th>\n",
       "      <th></th>\n",
       "      <th></th>\n",
       "      <th></th>\n",
       "      <th></th>\n",
       "      <th></th>\n",
       "      <th></th>\n",
       "      <th></th>\n",
       "      <th></th>\n",
       "      <th></th>\n",
       "      <th></th>\n",
       "      <th></th>\n",
       "      <th></th>\n",
       "    </tr>\n",
       "  </thead>\n",
       "  <tbody>\n",
       "    <tr>\n",
       "      <th>2004-08-19</th>\n",
       "      <td>54.979382</td>\n",
       "      <td>84.889999</td>\n",
       "      <td>85.349998</td>\n",
       "      <td>84.449997</td>\n",
       "      <td>84.750000</td>\n",
       "      <td>4704500</td>\n",
       "      <td>0.18</td>\n",
       "      <td>0.0</td>\n",
       "      <td>54.397126</td>\n",
       "      <td>54.958798</td>\n",
       "      <td>55.913001</td>\n",
       "      <td>55.525647</td>\n",
       "      <td>53.268605</td>\n",
       "      <td>56.500281</td>\n",
       "      <td>53.417314</td>\n",
       "      <td>59.046566</td>\n",
       "      <td>52.779437</td>\n",
       "    </tr>\n",
       "    <tr>\n",
       "      <th>2004-08-20</th>\n",
       "      <td>55.212502</td>\n",
       "      <td>85.250000</td>\n",
       "      <td>85.250000</td>\n",
       "      <td>84.519997</td>\n",
       "      <td>84.519997</td>\n",
       "      <td>4501400</td>\n",
       "      <td>0.18</td>\n",
       "      <td>0.0</td>\n",
       "      <td>54.511759</td>\n",
       "      <td>54.977556</td>\n",
       "      <td>55.852774</td>\n",
       "      <td>55.720874</td>\n",
       "      <td>53.302644</td>\n",
       "      <td>56.521944</td>\n",
       "      <td>53.433168</td>\n",
       "      <td>58.920109</td>\n",
       "      <td>52.785438</td>\n",
       "    </tr>\n",
       "    <tr>\n",
       "      <th>2004-08-23</th>\n",
       "      <td>54.823910</td>\n",
       "      <td>84.650002</td>\n",
       "      <td>85.449997</td>\n",
       "      <td>84.650002</td>\n",
       "      <td>85.230003</td>\n",
       "      <td>4260600</td>\n",
       "      <td>0.18</td>\n",
       "      <td>0.0</td>\n",
       "      <td>54.582999</td>\n",
       "      <td>54.969128</td>\n",
       "      <td>55.779992</td>\n",
       "      <td>55.771068</td>\n",
       "      <td>53.394930</td>\n",
       "      <td>56.515013</td>\n",
       "      <td>53.423244</td>\n",
       "      <td>58.766151</td>\n",
       "      <td>52.793832</td>\n",
       "    </tr>\n",
       "    <tr>\n",
       "      <th>2004-08-24</th>\n",
       "      <td>54.862782</td>\n",
       "      <td>84.709999</td>\n",
       "      <td>85.150002</td>\n",
       "      <td>84.349998</td>\n",
       "      <td>85.000000</td>\n",
       "      <td>2710400</td>\n",
       "      <td>0.18</td>\n",
       "      <td>0.0</td>\n",
       "      <td>54.564866</td>\n",
       "      <td>54.937116</td>\n",
       "      <td>55.713028</td>\n",
       "      <td>55.726906</td>\n",
       "      <td>53.402826</td>\n",
       "      <td>56.462835</td>\n",
       "      <td>53.411398</td>\n",
       "      <td>58.625949</td>\n",
       "      <td>52.800108</td>\n",
       "    </tr>\n",
       "    <tr>\n",
       "      <th>2004-08-25</th>\n",
       "      <td>55.095955</td>\n",
       "      <td>85.070000</td>\n",
       "      <td>85.269997</td>\n",
       "      <td>84.550003</td>\n",
       "      <td>85.000000</td>\n",
       "      <td>4405600</td>\n",
       "      <td>0.18</td>\n",
       "      <td>0.0</td>\n",
       "      <td>54.654243</td>\n",
       "      <td>54.917732</td>\n",
       "      <td>55.644653</td>\n",
       "      <td>55.829713</td>\n",
       "      <td>53.478772</td>\n",
       "      <td>56.423940</td>\n",
       "      <td>53.411524</td>\n",
       "      <td>58.447571</td>\n",
       "      <td>52.841736</td>\n",
       "    </tr>\n",
       "  </tbody>\n",
       "</table>\n",
       "</div>"
      ],
      "text/plain": [
       "            Adj Close      Close       High        Low       Open   Volume  \\\n",
       "Date                                                                         \n",
       "2004-08-19  54.979382  84.889999  85.349998  84.449997  84.750000  4704500   \n",
       "2004-08-20  55.212502  85.250000  85.250000  84.519997  84.519997  4501400   \n",
       "2004-08-23  54.823910  84.650002  85.449997  84.650002  85.230003  4260600   \n",
       "2004-08-24  54.862782  84.709999  85.150002  84.349998  85.000000  2710400   \n",
       "2004-08-25  55.095955  85.070000  85.269997  84.550003  85.000000  4405600   \n",
       "\n",
       "            Dividends  Stock Splits   10_ac_ma   20_ac_ma   50_ac_ma  \\\n",
       "Date                                                                   \n",
       "2004-08-19       0.18           0.0  54.397126  54.958798  55.913001   \n",
       "2004-08-20       0.18           0.0  54.511759  54.977556  55.852774   \n",
       "2004-08-23       0.18           0.0  54.582999  54.969128  55.779992   \n",
       "2004-08-24       0.18           0.0  54.564866  54.937116  55.713028   \n",
       "2004-08-25       0.18           0.0  54.654243  54.917732  55.644653   \n",
       "\n",
       "            10_ac_bb_u  10_ac_bb_l  20_ac_bb_u  20_ac_bb_l  50_ac_bb_u  \\\n",
       "Date                                                                     \n",
       "2004-08-19   55.525647   53.268605   56.500281   53.417314   59.046566   \n",
       "2004-08-20   55.720874   53.302644   56.521944   53.433168   58.920109   \n",
       "2004-08-23   55.771068   53.394930   56.515013   53.423244   58.766151   \n",
       "2004-08-24   55.726906   53.402826   56.462835   53.411398   58.625949   \n",
       "2004-08-25   55.829713   53.478772   56.423940   53.411524   58.447571   \n",
       "\n",
       "            50_ac_bb_l  \n",
       "Date                    \n",
       "2004-08-19   52.779437  \n",
       "2004-08-20   52.785438  \n",
       "2004-08-23   52.793832  \n",
       "2004-08-24   52.800108  \n",
       "2004-08-25   52.841736  "
      ]
     },
     "execution_count": 142,
     "metadata": {},
     "output_type": "execute_result"
    }
   ],
   "source": [
    "df_ibm_train.head()"
   ]
  },
  {
   "cell_type": "code",
   "execution_count": 143,
   "id": "qualified-traffic",
   "metadata": {},
   "outputs": [
    {
     "data": {
      "text/html": [
       "<div>\n",
       "<style scoped>\n",
       "    .dataframe tbody tr th:only-of-type {\n",
       "        vertical-align: middle;\n",
       "    }\n",
       "\n",
       "    .dataframe tbody tr th {\n",
       "        vertical-align: top;\n",
       "    }\n",
       "\n",
       "    .dataframe thead th {\n",
       "        text-align: right;\n",
       "    }\n",
       "</style>\n",
       "<table border=\"1\" class=\"dataframe\">\n",
       "  <thead>\n",
       "    <tr style=\"text-align: right;\">\n",
       "      <th></th>\n",
       "      <th>Adj Close</th>\n",
       "      <th>Close</th>\n",
       "      <th>High</th>\n",
       "      <th>Low</th>\n",
       "      <th>Open</th>\n",
       "      <th>Volume</th>\n",
       "      <th>Dividends</th>\n",
       "      <th>Stock Splits</th>\n",
       "      <th>10_ac_ma</th>\n",
       "      <th>20_ac_ma</th>\n",
       "      <th>50_ac_ma</th>\n",
       "      <th>10_ac_bb_u</th>\n",
       "      <th>10_ac_bb_l</th>\n",
       "      <th>20_ac_bb_u</th>\n",
       "      <th>20_ac_bb_l</th>\n",
       "      <th>50_ac_bb_u</th>\n",
       "      <th>50_ac_bb_l</th>\n",
       "    </tr>\n",
       "    <tr>\n",
       "      <th>Date</th>\n",
       "      <th></th>\n",
       "      <th></th>\n",
       "      <th></th>\n",
       "      <th></th>\n",
       "      <th></th>\n",
       "      <th></th>\n",
       "      <th></th>\n",
       "      <th></th>\n",
       "      <th></th>\n",
       "      <th></th>\n",
       "      <th></th>\n",
       "      <th></th>\n",
       "      <th></th>\n",
       "      <th></th>\n",
       "      <th></th>\n",
       "      <th></th>\n",
       "      <th></th>\n",
       "    </tr>\n",
       "  </thead>\n",
       "  <tbody>\n",
       "    <tr>\n",
       "      <th>2004-08-19</th>\n",
       "      <td>54.979382</td>\n",
       "      <td>84.889999</td>\n",
       "      <td>85.349998</td>\n",
       "      <td>84.449997</td>\n",
       "      <td>84.750000</td>\n",
       "      <td>4704500</td>\n",
       "      <td>0.18</td>\n",
       "      <td>0.0</td>\n",
       "      <td>54.397126</td>\n",
       "      <td>54.958798</td>\n",
       "      <td>55.913001</td>\n",
       "      <td>55.525647</td>\n",
       "      <td>53.268605</td>\n",
       "      <td>56.500281</td>\n",
       "      <td>53.417314</td>\n",
       "      <td>59.046566</td>\n",
       "      <td>52.779437</td>\n",
       "    </tr>\n",
       "    <tr>\n",
       "      <th>2004-08-20</th>\n",
       "      <td>55.212502</td>\n",
       "      <td>85.250000</td>\n",
       "      <td>85.250000</td>\n",
       "      <td>84.519997</td>\n",
       "      <td>84.519997</td>\n",
       "      <td>4501400</td>\n",
       "      <td>0.18</td>\n",
       "      <td>0.0</td>\n",
       "      <td>54.511759</td>\n",
       "      <td>54.977556</td>\n",
       "      <td>55.852774</td>\n",
       "      <td>55.720874</td>\n",
       "      <td>53.302644</td>\n",
       "      <td>56.521944</td>\n",
       "      <td>53.433168</td>\n",
       "      <td>58.920109</td>\n",
       "      <td>52.785438</td>\n",
       "    </tr>\n",
       "    <tr>\n",
       "      <th>2004-08-23</th>\n",
       "      <td>54.823910</td>\n",
       "      <td>84.650002</td>\n",
       "      <td>85.449997</td>\n",
       "      <td>84.650002</td>\n",
       "      <td>85.230003</td>\n",
       "      <td>4260600</td>\n",
       "      <td>0.18</td>\n",
       "      <td>0.0</td>\n",
       "      <td>54.582999</td>\n",
       "      <td>54.969128</td>\n",
       "      <td>55.779992</td>\n",
       "      <td>55.771068</td>\n",
       "      <td>53.394930</td>\n",
       "      <td>56.515013</td>\n",
       "      <td>53.423244</td>\n",
       "      <td>58.766151</td>\n",
       "      <td>52.793832</td>\n",
       "    </tr>\n",
       "    <tr>\n",
       "      <th>2004-08-24</th>\n",
       "      <td>54.862782</td>\n",
       "      <td>84.709999</td>\n",
       "      <td>85.150002</td>\n",
       "      <td>84.349998</td>\n",
       "      <td>85.000000</td>\n",
       "      <td>2710400</td>\n",
       "      <td>0.18</td>\n",
       "      <td>0.0</td>\n",
       "      <td>54.564866</td>\n",
       "      <td>54.937116</td>\n",
       "      <td>55.713028</td>\n",
       "      <td>55.726906</td>\n",
       "      <td>53.402826</td>\n",
       "      <td>56.462835</td>\n",
       "      <td>53.411398</td>\n",
       "      <td>58.625949</td>\n",
       "      <td>52.800108</td>\n",
       "    </tr>\n",
       "    <tr>\n",
       "      <th>2004-08-25</th>\n",
       "      <td>55.095955</td>\n",
       "      <td>85.070000</td>\n",
       "      <td>85.269997</td>\n",
       "      <td>84.550003</td>\n",
       "      <td>85.000000</td>\n",
       "      <td>4405600</td>\n",
       "      <td>0.18</td>\n",
       "      <td>0.0</td>\n",
       "      <td>54.654243</td>\n",
       "      <td>54.917732</td>\n",
       "      <td>55.644653</td>\n",
       "      <td>55.829713</td>\n",
       "      <td>53.478772</td>\n",
       "      <td>56.423940</td>\n",
       "      <td>53.411524</td>\n",
       "      <td>58.447571</td>\n",
       "      <td>52.841736</td>\n",
       "    </tr>\n",
       "  </tbody>\n",
       "</table>\n",
       "</div>"
      ],
      "text/plain": [
       "            Adj Close      Close       High        Low       Open   Volume  \\\n",
       "Date                                                                         \n",
       "2004-08-19  54.979382  84.889999  85.349998  84.449997  84.750000  4704500   \n",
       "2004-08-20  55.212502  85.250000  85.250000  84.519997  84.519997  4501400   \n",
       "2004-08-23  54.823910  84.650002  85.449997  84.650002  85.230003  4260600   \n",
       "2004-08-24  54.862782  84.709999  85.150002  84.349998  85.000000  2710400   \n",
       "2004-08-25  55.095955  85.070000  85.269997  84.550003  85.000000  4405600   \n",
       "\n",
       "            Dividends  Stock Splits   10_ac_ma   20_ac_ma   50_ac_ma  \\\n",
       "Date                                                                   \n",
       "2004-08-19       0.18           0.0  54.397126  54.958798  55.913001   \n",
       "2004-08-20       0.18           0.0  54.511759  54.977556  55.852774   \n",
       "2004-08-23       0.18           0.0  54.582999  54.969128  55.779992   \n",
       "2004-08-24       0.18           0.0  54.564866  54.937116  55.713028   \n",
       "2004-08-25       0.18           0.0  54.654243  54.917732  55.644653   \n",
       "\n",
       "            10_ac_bb_u  10_ac_bb_l  20_ac_bb_u  20_ac_bb_l  50_ac_bb_u  \\\n",
       "Date                                                                     \n",
       "2004-08-19   55.525647   53.268605   56.500281   53.417314   59.046566   \n",
       "2004-08-20   55.720874   53.302644   56.521944   53.433168   58.920109   \n",
       "2004-08-23   55.771068   53.394930   56.515013   53.423244   58.766151   \n",
       "2004-08-24   55.726906   53.402826   56.462835   53.411398   58.625949   \n",
       "2004-08-25   55.829713   53.478772   56.423940   53.411524   58.447571   \n",
       "\n",
       "            50_ac_bb_l  \n",
       "Date                    \n",
       "2004-08-19   52.779437  \n",
       "2004-08-20   52.785438  \n",
       "2004-08-23   52.793832  \n",
       "2004-08-24   52.800108  \n",
       "2004-08-25   52.841736  "
      ]
     },
     "execution_count": 143,
     "metadata": {},
     "output_type": "execute_result"
    }
   ],
   "source": [
    "df_ibm_test.head()"
   ]
  },
  {
   "cell_type": "code",
   "execution_count": 144,
   "id": "conservative-affairs",
   "metadata": {},
   "outputs": [
    {
     "data": {
      "text/html": [
       "<div>\n",
       "<style scoped>\n",
       "    .dataframe tbody tr th:only-of-type {\n",
       "        vertical-align: middle;\n",
       "    }\n",
       "\n",
       "    .dataframe tbody tr th {\n",
       "        vertical-align: top;\n",
       "    }\n",
       "\n",
       "    .dataframe thead th {\n",
       "        text-align: right;\n",
       "    }\n",
       "</style>\n",
       "<table border=\"1\" class=\"dataframe\">\n",
       "  <thead>\n",
       "    <tr style=\"text-align: right;\">\n",
       "      <th></th>\n",
       "      <th>Adj Close</th>\n",
       "      <th>Close</th>\n",
       "      <th>High</th>\n",
       "      <th>Low</th>\n",
       "      <th>Open</th>\n",
       "      <th>Volume</th>\n",
       "      <th>Dividends</th>\n",
       "      <th>Stock Splits</th>\n",
       "      <th>10_ac_ma</th>\n",
       "      <th>20_ac_ma</th>\n",
       "      <th>50_ac_ma</th>\n",
       "      <th>10_ac_bb_u</th>\n",
       "      <th>10_ac_bb_l</th>\n",
       "      <th>20_ac_bb_u</th>\n",
       "      <th>20_ac_bb_l</th>\n",
       "      <th>50_ac_bb_u</th>\n",
       "      <th>50_ac_bb_l</th>\n",
       "    </tr>\n",
       "    <tr>\n",
       "      <th>Date</th>\n",
       "      <th></th>\n",
       "      <th></th>\n",
       "      <th></th>\n",
       "      <th></th>\n",
       "      <th></th>\n",
       "      <th></th>\n",
       "      <th></th>\n",
       "      <th></th>\n",
       "      <th></th>\n",
       "      <th></th>\n",
       "      <th></th>\n",
       "      <th></th>\n",
       "      <th></th>\n",
       "      <th></th>\n",
       "      <th></th>\n",
       "      <th></th>\n",
       "      <th></th>\n",
       "    </tr>\n",
       "  </thead>\n",
       "  <tbody>\n",
       "    <tr>\n",
       "      <th>2021-03-19</th>\n",
       "      <td>128.899994</td>\n",
       "      <td>128.899994</td>\n",
       "      <td>130.440002</td>\n",
       "      <td>128.529999</td>\n",
       "      <td>130.020004</td>\n",
       "      <td>9830600</td>\n",
       "      <td>NaN</td>\n",
       "      <td>NaN</td>\n",
       "      <td>127.642000</td>\n",
       "      <td>124.448500</td>\n",
       "      <td>123.117711</td>\n",
       "      <td>131.348088</td>\n",
       "      <td>123.935912</td>\n",
       "      <td>131.734582</td>\n",
       "      <td>117.162418</td>\n",
       "      <td>131.037765</td>\n",
       "      <td>115.197658</td>\n",
       "    </tr>\n",
       "    <tr>\n",
       "      <th>2021-03-22</th>\n",
       "      <td>130.550003</td>\n",
       "      <td>130.550003</td>\n",
       "      <td>130.720001</td>\n",
       "      <td>127.889999</td>\n",
       "      <td>128.500000</td>\n",
       "      <td>4164900</td>\n",
       "      <td>NaN</td>\n",
       "      <td>NaN</td>\n",
       "      <td>128.216000</td>\n",
       "      <td>124.933000</td>\n",
       "      <td>123.182930</td>\n",
       "      <td>131.746530</td>\n",
       "      <td>124.685471</td>\n",
       "      <td>132.497730</td>\n",
       "      <td>117.368270</td>\n",
       "      <td>131.294574</td>\n",
       "      <td>115.071287</td>\n",
       "    </tr>\n",
       "    <tr>\n",
       "      <th>2021-03-23</th>\n",
       "      <td>130.460007</td>\n",
       "      <td>130.460007</td>\n",
       "      <td>131.559998</td>\n",
       "      <td>129.800003</td>\n",
       "      <td>130.440002</td>\n",
       "      <td>4356400</td>\n",
       "      <td>NaN</td>\n",
       "      <td>NaN</td>\n",
       "      <td>128.844001</td>\n",
       "      <td>125.420501</td>\n",
       "      <td>123.255428</td>\n",
       "      <td>131.233594</td>\n",
       "      <td>126.454408</td>\n",
       "      <td>133.095208</td>\n",
       "      <td>117.745794</td>\n",
       "      <td>131.562737</td>\n",
       "      <td>114.948119</td>\n",
       "    </tr>\n",
       "    <tr>\n",
       "      <th>2021-03-24</th>\n",
       "      <td>130.619995</td>\n",
       "      <td>130.619995</td>\n",
       "      <td>132.110001</td>\n",
       "      <td>130.570007</td>\n",
       "      <td>130.949997</td>\n",
       "      <td>4005000</td>\n",
       "      <td>NaN</td>\n",
       "      <td>NaN</td>\n",
       "      <td>129.119000</td>\n",
       "      <td>125.791000</td>\n",
       "      <td>123.330139</td>\n",
       "      <td>131.639766</td>\n",
       "      <td>126.598234</td>\n",
       "      <td>133.727371</td>\n",
       "      <td>117.854630</td>\n",
       "      <td>131.835490</td>\n",
       "      <td>114.824787</td>\n",
       "    </tr>\n",
       "    <tr>\n",
       "      <th>2021-03-25</th>\n",
       "      <td>133.070007</td>\n",
       "      <td>133.070007</td>\n",
       "      <td>133.240005</td>\n",
       "      <td>129.770004</td>\n",
       "      <td>130.330002</td>\n",
       "      <td>5554000</td>\n",
       "      <td>NaN</td>\n",
       "      <td>NaN</td>\n",
       "      <td>129.712001</td>\n",
       "      <td>126.321001</td>\n",
       "      <td>123.441415</td>\n",
       "      <td>132.872493</td>\n",
       "      <td>126.551509</td>\n",
       "      <td>134.725514</td>\n",
       "      <td>117.916487</td>\n",
       "      <td>132.307696</td>\n",
       "      <td>114.575135</td>\n",
       "    </tr>\n",
       "  </tbody>\n",
       "</table>\n",
       "</div>"
      ],
      "text/plain": [
       "             Adj Close       Close        High         Low        Open  \\\n",
       "Date                                                                     \n",
       "2021-03-19  128.899994  128.899994  130.440002  128.529999  130.020004   \n",
       "2021-03-22  130.550003  130.550003  130.720001  127.889999  128.500000   \n",
       "2021-03-23  130.460007  130.460007  131.559998  129.800003  130.440002   \n",
       "2021-03-24  130.619995  130.619995  132.110001  130.570007  130.949997   \n",
       "2021-03-25  133.070007  133.070007  133.240005  129.770004  130.330002   \n",
       "\n",
       "             Volume  Dividends  Stock Splits    10_ac_ma    20_ac_ma  \\\n",
       "Date                                                                   \n",
       "2021-03-19  9830600        NaN           NaN  127.642000  124.448500   \n",
       "2021-03-22  4164900        NaN           NaN  128.216000  124.933000   \n",
       "2021-03-23  4356400        NaN           NaN  128.844001  125.420501   \n",
       "2021-03-24  4005000        NaN           NaN  129.119000  125.791000   \n",
       "2021-03-25  5554000        NaN           NaN  129.712001  126.321001   \n",
       "\n",
       "              50_ac_ma  10_ac_bb_u  10_ac_bb_l  20_ac_bb_u  20_ac_bb_l  \\\n",
       "Date                                                                     \n",
       "2021-03-19  123.117711  131.348088  123.935912  131.734582  117.162418   \n",
       "2021-03-22  123.182930  131.746530  124.685471  132.497730  117.368270   \n",
       "2021-03-23  123.255428  131.233594  126.454408  133.095208  117.745794   \n",
       "2021-03-24  123.330139  131.639766  126.598234  133.727371  117.854630   \n",
       "2021-03-25  123.441415  132.872493  126.551509  134.725514  117.916487   \n",
       "\n",
       "            50_ac_bb_u  50_ac_bb_l  \n",
       "Date                                \n",
       "2021-03-19  131.037765  115.197658  \n",
       "2021-03-22  131.294574  115.071287  \n",
       "2021-03-23  131.562737  114.948119  \n",
       "2021-03-24  131.835490  114.824787  \n",
       "2021-03-25  132.307696  114.575135  "
      ]
     },
     "execution_count": 144,
     "metadata": {},
     "output_type": "execute_result"
    }
   ],
   "source": [
    "df_ibm_valid.head()"
   ]
  },
  {
   "cell_type": "markdown",
   "id": "visible-advocacy",
   "metadata": {},
   "source": [
    "#### Apple Inc. Stock train test split"
   ]
  },
  {
   "cell_type": "code",
   "execution_count": 145,
   "id": "compressed-marijuana",
   "metadata": {},
   "outputs": [],
   "source": [
    "df_aapl = df_aapl.loc[data_start:].copy()"
   ]
  },
  {
   "cell_type": "code",
   "execution_count": 146,
   "id": "driven-algorithm",
   "metadata": {},
   "outputs": [
    {
     "name": "stdout",
     "output_type": "stream",
     "text": [
      "4194 4154 4174 20\n"
     ]
    }
   ],
   "source": [
    "df_aapl_train, df_aapl_test, df_aapl_valid = train_test_valid_split(df_aapl, prediction_length=prediction_length[1])\n",
    "print(len(df_aapl), len(df_aapl_train), len(df_aapl_test), len(df_aapl_valid))"
   ]
  },
  {
   "cell_type": "code",
   "execution_count": 147,
   "id": "oriented-walker",
   "metadata": {},
   "outputs": [
    {
     "data": {
      "text/html": [
       "<div>\n",
       "<style scoped>\n",
       "    .dataframe tbody tr th:only-of-type {\n",
       "        vertical-align: middle;\n",
       "    }\n",
       "\n",
       "    .dataframe tbody tr th {\n",
       "        vertical-align: top;\n",
       "    }\n",
       "\n",
       "    .dataframe thead th {\n",
       "        text-align: right;\n",
       "    }\n",
       "</style>\n",
       "<table border=\"1\" class=\"dataframe\">\n",
       "  <thead>\n",
       "    <tr style=\"text-align: right;\">\n",
       "      <th></th>\n",
       "      <th>Adj Close</th>\n",
       "      <th>Close</th>\n",
       "      <th>High</th>\n",
       "      <th>Low</th>\n",
       "      <th>Open</th>\n",
       "      <th>Volume</th>\n",
       "      <th>Dividends</th>\n",
       "      <th>Stock Splits</th>\n",
       "      <th>10_ac_ma</th>\n",
       "      <th>20_ac_ma</th>\n",
       "      <th>50_ac_ma</th>\n",
       "      <th>10_ac_bb_u</th>\n",
       "      <th>10_ac_bb_l</th>\n",
       "      <th>20_ac_bb_u</th>\n",
       "      <th>20_ac_bb_l</th>\n",
       "      <th>50_ac_bb_u</th>\n",
       "      <th>50_ac_bb_l</th>\n",
       "    </tr>\n",
       "    <tr>\n",
       "      <th>Date</th>\n",
       "      <th></th>\n",
       "      <th></th>\n",
       "      <th></th>\n",
       "      <th></th>\n",
       "      <th></th>\n",
       "      <th></th>\n",
       "      <th></th>\n",
       "      <th></th>\n",
       "      <th></th>\n",
       "      <th></th>\n",
       "      <th></th>\n",
       "      <th></th>\n",
       "      <th></th>\n",
       "      <th></th>\n",
       "      <th></th>\n",
       "      <th></th>\n",
       "      <th></th>\n",
       "    </tr>\n",
       "  </thead>\n",
       "  <tbody>\n",
       "    <tr>\n",
       "      <th>2004-08-19</th>\n",
       "      <td>0.472366</td>\n",
       "      <td>0.548393</td>\n",
       "      <td>0.568929</td>\n",
       "      <td>0.542143</td>\n",
       "      <td>0.562679</td>\n",
       "      <td>388920000.0</td>\n",
       "      <td>0.0</td>\n",
       "      <td>2.0</td>\n",
       "      <td>0.473627</td>\n",
       "      <td>0.481141</td>\n",
       "      <td>0.484422</td>\n",
       "      <td>0.491197</td>\n",
       "      <td>0.456057</td>\n",
       "      <td>0.504857</td>\n",
       "      <td>0.457425</td>\n",
       "      <td>0.519835</td>\n",
       "      <td>0.449008</td>\n",
       "    </tr>\n",
       "    <tr>\n",
       "      <th>2004-08-20</th>\n",
       "      <td>0.473750</td>\n",
       "      <td>0.550000</td>\n",
       "      <td>0.553393</td>\n",
       "      <td>0.544464</td>\n",
       "      <td>0.548393</td>\n",
       "      <td>316780800.0</td>\n",
       "      <td>0.0</td>\n",
       "      <td>2.0</td>\n",
       "      <td>0.475196</td>\n",
       "      <td>0.481218</td>\n",
       "      <td>0.484606</td>\n",
       "      <td>0.488983</td>\n",
       "      <td>0.461409</td>\n",
       "      <td>0.504821</td>\n",
       "      <td>0.457614</td>\n",
       "      <td>0.519691</td>\n",
       "      <td>0.449521</td>\n",
       "    </tr>\n",
       "    <tr>\n",
       "      <th>2004-08-23</th>\n",
       "      <td>0.478057</td>\n",
       "      <td>0.555000</td>\n",
       "      <td>0.558393</td>\n",
       "      <td>0.546429</td>\n",
       "      <td>0.551071</td>\n",
       "      <td>254660000.0</td>\n",
       "      <td>0.0</td>\n",
       "      <td>2.0</td>\n",
       "      <td>0.476395</td>\n",
       "      <td>0.481079</td>\n",
       "      <td>0.484711</td>\n",
       "      <td>0.488652</td>\n",
       "      <td>0.464139</td>\n",
       "      <td>0.504725</td>\n",
       "      <td>0.457433</td>\n",
       "      <td>0.519683</td>\n",
       "      <td>0.449738</td>\n",
       "    </tr>\n",
       "    <tr>\n",
       "      <th>2004-08-24</th>\n",
       "      <td>0.491439</td>\n",
       "      <td>0.570536</td>\n",
       "      <td>0.570536</td>\n",
       "      <td>0.556964</td>\n",
       "      <td>0.558214</td>\n",
       "      <td>374136000.0</td>\n",
       "      <td>0.0</td>\n",
       "      <td>2.0</td>\n",
       "      <td>0.477057</td>\n",
       "      <td>0.480710</td>\n",
       "      <td>0.485274</td>\n",
       "      <td>0.491797</td>\n",
       "      <td>0.462317</td>\n",
       "      <td>0.503401</td>\n",
       "      <td>0.458019</td>\n",
       "      <td>0.519742</td>\n",
       "      <td>0.450806</td>\n",
       "    </tr>\n",
       "    <tr>\n",
       "      <th>2004-08-25</th>\n",
       "      <td>0.508359</td>\n",
       "      <td>0.590179</td>\n",
       "      <td>0.591964</td>\n",
       "      <td>0.566607</td>\n",
       "      <td>0.569107</td>\n",
       "      <td>505618400.0</td>\n",
       "      <td>0.0</td>\n",
       "      <td>2.0</td>\n",
       "      <td>0.480195</td>\n",
       "      <td>0.481310</td>\n",
       "      <td>0.486000</td>\n",
       "      <td>0.504872</td>\n",
       "      <td>0.455517</td>\n",
       "      <td>0.506265</td>\n",
       "      <td>0.456355</td>\n",
       "      <td>0.520858</td>\n",
       "      <td>0.451141</td>\n",
       "    </tr>\n",
       "  </tbody>\n",
       "</table>\n",
       "</div>"
      ],
      "text/plain": [
       "            Adj Close     Close      High       Low      Open       Volume  \\\n",
       "Date                                                                         \n",
       "2004-08-19   0.472366  0.548393  0.568929  0.542143  0.562679  388920000.0   \n",
       "2004-08-20   0.473750  0.550000  0.553393  0.544464  0.548393  316780800.0   \n",
       "2004-08-23   0.478057  0.555000  0.558393  0.546429  0.551071  254660000.0   \n",
       "2004-08-24   0.491439  0.570536  0.570536  0.556964  0.558214  374136000.0   \n",
       "2004-08-25   0.508359  0.590179  0.591964  0.566607  0.569107  505618400.0   \n",
       "\n",
       "            Dividends  Stock Splits  10_ac_ma  20_ac_ma  50_ac_ma  10_ac_bb_u  \\\n",
       "Date                                                                            \n",
       "2004-08-19        0.0           2.0  0.473627  0.481141  0.484422    0.491197   \n",
       "2004-08-20        0.0           2.0  0.475196  0.481218  0.484606    0.488983   \n",
       "2004-08-23        0.0           2.0  0.476395  0.481079  0.484711    0.488652   \n",
       "2004-08-24        0.0           2.0  0.477057  0.480710  0.485274    0.491797   \n",
       "2004-08-25        0.0           2.0  0.480195  0.481310  0.486000    0.504872   \n",
       "\n",
       "            10_ac_bb_l  20_ac_bb_u  20_ac_bb_l  50_ac_bb_u  50_ac_bb_l  \n",
       "Date                                                                    \n",
       "2004-08-19    0.456057    0.504857    0.457425    0.519835    0.449008  \n",
       "2004-08-20    0.461409    0.504821    0.457614    0.519691    0.449521  \n",
       "2004-08-23    0.464139    0.504725    0.457433    0.519683    0.449738  \n",
       "2004-08-24    0.462317    0.503401    0.458019    0.519742    0.450806  \n",
       "2004-08-25    0.455517    0.506265    0.456355    0.520858    0.451141  "
      ]
     },
     "execution_count": 147,
     "metadata": {},
     "output_type": "execute_result"
    }
   ],
   "source": [
    "df_aapl_train.head()"
   ]
  },
  {
   "cell_type": "code",
   "execution_count": 148,
   "id": "demanding-architect",
   "metadata": {},
   "outputs": [
    {
     "data": {
      "text/html": [
       "<div>\n",
       "<style scoped>\n",
       "    .dataframe tbody tr th:only-of-type {\n",
       "        vertical-align: middle;\n",
       "    }\n",
       "\n",
       "    .dataframe tbody tr th {\n",
       "        vertical-align: top;\n",
       "    }\n",
       "\n",
       "    .dataframe thead th {\n",
       "        text-align: right;\n",
       "    }\n",
       "</style>\n",
       "<table border=\"1\" class=\"dataframe\">\n",
       "  <thead>\n",
       "    <tr style=\"text-align: right;\">\n",
       "      <th></th>\n",
       "      <th>Adj Close</th>\n",
       "      <th>Close</th>\n",
       "      <th>High</th>\n",
       "      <th>Low</th>\n",
       "      <th>Open</th>\n",
       "      <th>Volume</th>\n",
       "      <th>Dividends</th>\n",
       "      <th>Stock Splits</th>\n",
       "      <th>10_ac_ma</th>\n",
       "      <th>20_ac_ma</th>\n",
       "      <th>50_ac_ma</th>\n",
       "      <th>10_ac_bb_u</th>\n",
       "      <th>10_ac_bb_l</th>\n",
       "      <th>20_ac_bb_u</th>\n",
       "      <th>20_ac_bb_l</th>\n",
       "      <th>50_ac_bb_u</th>\n",
       "      <th>50_ac_bb_l</th>\n",
       "    </tr>\n",
       "    <tr>\n",
       "      <th>Date</th>\n",
       "      <th></th>\n",
       "      <th></th>\n",
       "      <th></th>\n",
       "      <th></th>\n",
       "      <th></th>\n",
       "      <th></th>\n",
       "      <th></th>\n",
       "      <th></th>\n",
       "      <th></th>\n",
       "      <th></th>\n",
       "      <th></th>\n",
       "      <th></th>\n",
       "      <th></th>\n",
       "      <th></th>\n",
       "      <th></th>\n",
       "      <th></th>\n",
       "      <th></th>\n",
       "    </tr>\n",
       "  </thead>\n",
       "  <tbody>\n",
       "    <tr>\n",
       "      <th>2004-08-19</th>\n",
       "      <td>0.472366</td>\n",
       "      <td>0.548393</td>\n",
       "      <td>0.568929</td>\n",
       "      <td>0.542143</td>\n",
       "      <td>0.562679</td>\n",
       "      <td>388920000.0</td>\n",
       "      <td>0.0</td>\n",
       "      <td>2.0</td>\n",
       "      <td>0.473627</td>\n",
       "      <td>0.481141</td>\n",
       "      <td>0.484422</td>\n",
       "      <td>0.491197</td>\n",
       "      <td>0.456057</td>\n",
       "      <td>0.504857</td>\n",
       "      <td>0.457425</td>\n",
       "      <td>0.519835</td>\n",
       "      <td>0.449008</td>\n",
       "    </tr>\n",
       "    <tr>\n",
       "      <th>2004-08-20</th>\n",
       "      <td>0.473750</td>\n",
       "      <td>0.550000</td>\n",
       "      <td>0.553393</td>\n",
       "      <td>0.544464</td>\n",
       "      <td>0.548393</td>\n",
       "      <td>316780800.0</td>\n",
       "      <td>0.0</td>\n",
       "      <td>2.0</td>\n",
       "      <td>0.475196</td>\n",
       "      <td>0.481218</td>\n",
       "      <td>0.484606</td>\n",
       "      <td>0.488983</td>\n",
       "      <td>0.461409</td>\n",
       "      <td>0.504821</td>\n",
       "      <td>0.457614</td>\n",
       "      <td>0.519691</td>\n",
       "      <td>0.449521</td>\n",
       "    </tr>\n",
       "    <tr>\n",
       "      <th>2004-08-23</th>\n",
       "      <td>0.478057</td>\n",
       "      <td>0.555000</td>\n",
       "      <td>0.558393</td>\n",
       "      <td>0.546429</td>\n",
       "      <td>0.551071</td>\n",
       "      <td>254660000.0</td>\n",
       "      <td>0.0</td>\n",
       "      <td>2.0</td>\n",
       "      <td>0.476395</td>\n",
       "      <td>0.481079</td>\n",
       "      <td>0.484711</td>\n",
       "      <td>0.488652</td>\n",
       "      <td>0.464139</td>\n",
       "      <td>0.504725</td>\n",
       "      <td>0.457433</td>\n",
       "      <td>0.519683</td>\n",
       "      <td>0.449738</td>\n",
       "    </tr>\n",
       "    <tr>\n",
       "      <th>2004-08-24</th>\n",
       "      <td>0.491439</td>\n",
       "      <td>0.570536</td>\n",
       "      <td>0.570536</td>\n",
       "      <td>0.556964</td>\n",
       "      <td>0.558214</td>\n",
       "      <td>374136000.0</td>\n",
       "      <td>0.0</td>\n",
       "      <td>2.0</td>\n",
       "      <td>0.477057</td>\n",
       "      <td>0.480710</td>\n",
       "      <td>0.485274</td>\n",
       "      <td>0.491797</td>\n",
       "      <td>0.462317</td>\n",
       "      <td>0.503401</td>\n",
       "      <td>0.458019</td>\n",
       "      <td>0.519742</td>\n",
       "      <td>0.450806</td>\n",
       "    </tr>\n",
       "    <tr>\n",
       "      <th>2004-08-25</th>\n",
       "      <td>0.508359</td>\n",
       "      <td>0.590179</td>\n",
       "      <td>0.591964</td>\n",
       "      <td>0.566607</td>\n",
       "      <td>0.569107</td>\n",
       "      <td>505618400.0</td>\n",
       "      <td>0.0</td>\n",
       "      <td>2.0</td>\n",
       "      <td>0.480195</td>\n",
       "      <td>0.481310</td>\n",
       "      <td>0.486000</td>\n",
       "      <td>0.504872</td>\n",
       "      <td>0.455517</td>\n",
       "      <td>0.506265</td>\n",
       "      <td>0.456355</td>\n",
       "      <td>0.520858</td>\n",
       "      <td>0.451141</td>\n",
       "    </tr>\n",
       "  </tbody>\n",
       "</table>\n",
       "</div>"
      ],
      "text/plain": [
       "            Adj Close     Close      High       Low      Open       Volume  \\\n",
       "Date                                                                         \n",
       "2004-08-19   0.472366  0.548393  0.568929  0.542143  0.562679  388920000.0   \n",
       "2004-08-20   0.473750  0.550000  0.553393  0.544464  0.548393  316780800.0   \n",
       "2004-08-23   0.478057  0.555000  0.558393  0.546429  0.551071  254660000.0   \n",
       "2004-08-24   0.491439  0.570536  0.570536  0.556964  0.558214  374136000.0   \n",
       "2004-08-25   0.508359  0.590179  0.591964  0.566607  0.569107  505618400.0   \n",
       "\n",
       "            Dividends  Stock Splits  10_ac_ma  20_ac_ma  50_ac_ma  10_ac_bb_u  \\\n",
       "Date                                                                            \n",
       "2004-08-19        0.0           2.0  0.473627  0.481141  0.484422    0.491197   \n",
       "2004-08-20        0.0           2.0  0.475196  0.481218  0.484606    0.488983   \n",
       "2004-08-23        0.0           2.0  0.476395  0.481079  0.484711    0.488652   \n",
       "2004-08-24        0.0           2.0  0.477057  0.480710  0.485274    0.491797   \n",
       "2004-08-25        0.0           2.0  0.480195  0.481310  0.486000    0.504872   \n",
       "\n",
       "            10_ac_bb_l  20_ac_bb_u  20_ac_bb_l  50_ac_bb_u  50_ac_bb_l  \n",
       "Date                                                                    \n",
       "2004-08-19    0.456057    0.504857    0.457425    0.519835    0.449008  \n",
       "2004-08-20    0.461409    0.504821    0.457614    0.519691    0.449521  \n",
       "2004-08-23    0.464139    0.504725    0.457433    0.519683    0.449738  \n",
       "2004-08-24    0.462317    0.503401    0.458019    0.519742    0.450806  \n",
       "2004-08-25    0.455517    0.506265    0.456355    0.520858    0.451141  "
      ]
     },
     "execution_count": 148,
     "metadata": {},
     "output_type": "execute_result"
    }
   ],
   "source": [
    "df_aapl_test.head()"
   ]
  },
  {
   "cell_type": "code",
   "execution_count": 149,
   "id": "prospective-transaction",
   "metadata": {},
   "outputs": [
    {
     "data": {
      "text/html": [
       "<div>\n",
       "<style scoped>\n",
       "    .dataframe tbody tr th:only-of-type {\n",
       "        vertical-align: middle;\n",
       "    }\n",
       "\n",
       "    .dataframe tbody tr th {\n",
       "        vertical-align: top;\n",
       "    }\n",
       "\n",
       "    .dataframe thead th {\n",
       "        text-align: right;\n",
       "    }\n",
       "</style>\n",
       "<table border=\"1\" class=\"dataframe\">\n",
       "  <thead>\n",
       "    <tr style=\"text-align: right;\">\n",
       "      <th></th>\n",
       "      <th>Adj Close</th>\n",
       "      <th>Close</th>\n",
       "      <th>High</th>\n",
       "      <th>Low</th>\n",
       "      <th>Open</th>\n",
       "      <th>Volume</th>\n",
       "      <th>Dividends</th>\n",
       "      <th>Stock Splits</th>\n",
       "      <th>10_ac_ma</th>\n",
       "      <th>20_ac_ma</th>\n",
       "      <th>50_ac_ma</th>\n",
       "      <th>10_ac_bb_u</th>\n",
       "      <th>10_ac_bb_l</th>\n",
       "      <th>20_ac_bb_u</th>\n",
       "      <th>20_ac_bb_l</th>\n",
       "      <th>50_ac_bb_u</th>\n",
       "      <th>50_ac_bb_l</th>\n",
       "    </tr>\n",
       "    <tr>\n",
       "      <th>Date</th>\n",
       "      <th></th>\n",
       "      <th></th>\n",
       "      <th></th>\n",
       "      <th></th>\n",
       "      <th></th>\n",
       "      <th></th>\n",
       "      <th></th>\n",
       "      <th></th>\n",
       "      <th></th>\n",
       "      <th></th>\n",
       "      <th></th>\n",
       "      <th></th>\n",
       "      <th></th>\n",
       "      <th></th>\n",
       "      <th></th>\n",
       "      <th></th>\n",
       "      <th></th>\n",
       "    </tr>\n",
       "  </thead>\n",
       "  <tbody>\n",
       "    <tr>\n",
       "      <th>2021-03-19</th>\n",
       "      <td>119.989998</td>\n",
       "      <td>119.989998</td>\n",
       "      <td>121.430000</td>\n",
       "      <td>119.680000</td>\n",
       "      <td>119.900002</td>\n",
       "      <td>185023200.0</td>\n",
       "      <td>NaN</td>\n",
       "      <td>NaN</td>\n",
       "      <td>121.525999</td>\n",
       "      <td>122.562000</td>\n",
       "      <td>129.351190</td>\n",
       "      <td>126.939457</td>\n",
       "      <td>116.112541</td>\n",
       "      <td>128.230984</td>\n",
       "      <td>116.893015</td>\n",
       "      <td>142.866324</td>\n",
       "      <td>115.836056</td>\n",
       "    </tr>\n",
       "    <tr>\n",
       "      <th>2021-03-22</th>\n",
       "      <td>123.389999</td>\n",
       "      <td>123.389999</td>\n",
       "      <td>123.870003</td>\n",
       "      <td>120.260002</td>\n",
       "      <td>120.330002</td>\n",
       "      <td>111912300.0</td>\n",
       "      <td>NaN</td>\n",
       "      <td>NaN</td>\n",
       "      <td>122.228999</td>\n",
       "      <td>122.431499</td>\n",
       "      <td>129.204497</td>\n",
       "      <td>126.326820</td>\n",
       "      <td>118.131179</td>\n",
       "      <td>127.883253</td>\n",
       "      <td>116.979746</td>\n",
       "      <td>142.817649</td>\n",
       "      <td>115.591345</td>\n",
       "    </tr>\n",
       "    <tr>\n",
       "      <th>2021-03-23</th>\n",
       "      <td>122.540001</td>\n",
       "      <td>122.540001</td>\n",
       "      <td>124.239998</td>\n",
       "      <td>122.139999</td>\n",
       "      <td>123.330002</td>\n",
       "      <td>95467100.0</td>\n",
       "      <td>NaN</td>\n",
       "      <td>NaN</td>\n",
       "      <td>122.374000</td>\n",
       "      <td>122.265499</td>\n",
       "      <td>129.018238</td>\n",
       "      <td>126.394583</td>\n",
       "      <td>118.353417</td>\n",
       "      <td>127.474474</td>\n",
       "      <td>117.056525</td>\n",
       "      <td>142.737912</td>\n",
       "      <td>115.298564</td>\n",
       "    </tr>\n",
       "    <tr>\n",
       "      <th>2021-03-24</th>\n",
       "      <td>120.089996</td>\n",
       "      <td>120.089996</td>\n",
       "      <td>122.900002</td>\n",
       "      <td>120.070000</td>\n",
       "      <td>122.820000</td>\n",
       "      <td>88530500.0</td>\n",
       "      <td>NaN</td>\n",
       "      <td>NaN</td>\n",
       "      <td>122.384999</td>\n",
       "      <td>122.002499</td>\n",
       "      <td>128.844287</td>\n",
       "      <td>126.376974</td>\n",
       "      <td>118.393025</td>\n",
       "      <td>127.085371</td>\n",
       "      <td>116.919628</td>\n",
       "      <td>142.794514</td>\n",
       "      <td>114.894060</td>\n",
       "    </tr>\n",
       "    <tr>\n",
       "      <th>2021-03-25</th>\n",
       "      <td>120.589996</td>\n",
       "      <td>120.589996</td>\n",
       "      <td>121.660004</td>\n",
       "      <td>119.000000</td>\n",
       "      <td>119.540001</td>\n",
       "      <td>98844700.0</td>\n",
       "      <td>NaN</td>\n",
       "      <td>NaN</td>\n",
       "      <td>122.247999</td>\n",
       "      <td>121.982499</td>\n",
       "      <td>128.683930</td>\n",
       "      <td>126.395791</td>\n",
       "      <td>118.100207</td>\n",
       "      <td>127.085255</td>\n",
       "      <td>116.879744</td>\n",
       "      <td>142.828230</td>\n",
       "      <td>114.539631</td>\n",
       "    </tr>\n",
       "  </tbody>\n",
       "</table>\n",
       "</div>"
      ],
      "text/plain": [
       "             Adj Close       Close        High         Low        Open  \\\n",
       "Date                                                                     \n",
       "2021-03-19  119.989998  119.989998  121.430000  119.680000  119.900002   \n",
       "2021-03-22  123.389999  123.389999  123.870003  120.260002  120.330002   \n",
       "2021-03-23  122.540001  122.540001  124.239998  122.139999  123.330002   \n",
       "2021-03-24  120.089996  120.089996  122.900002  120.070000  122.820000   \n",
       "2021-03-25  120.589996  120.589996  121.660004  119.000000  119.540001   \n",
       "\n",
       "                 Volume  Dividends  Stock Splits    10_ac_ma    20_ac_ma  \\\n",
       "Date                                                                       \n",
       "2021-03-19  185023200.0        NaN           NaN  121.525999  122.562000   \n",
       "2021-03-22  111912300.0        NaN           NaN  122.228999  122.431499   \n",
       "2021-03-23   95467100.0        NaN           NaN  122.374000  122.265499   \n",
       "2021-03-24   88530500.0        NaN           NaN  122.384999  122.002499   \n",
       "2021-03-25   98844700.0        NaN           NaN  122.247999  121.982499   \n",
       "\n",
       "              50_ac_ma  10_ac_bb_u  10_ac_bb_l  20_ac_bb_u  20_ac_bb_l  \\\n",
       "Date                                                                     \n",
       "2021-03-19  129.351190  126.939457  116.112541  128.230984  116.893015   \n",
       "2021-03-22  129.204497  126.326820  118.131179  127.883253  116.979746   \n",
       "2021-03-23  129.018238  126.394583  118.353417  127.474474  117.056525   \n",
       "2021-03-24  128.844287  126.376974  118.393025  127.085371  116.919628   \n",
       "2021-03-25  128.683930  126.395791  118.100207  127.085255  116.879744   \n",
       "\n",
       "            50_ac_bb_u  50_ac_bb_l  \n",
       "Date                                \n",
       "2021-03-19  142.866324  115.836056  \n",
       "2021-03-22  142.817649  115.591345  \n",
       "2021-03-23  142.737912  115.298564  \n",
       "2021-03-24  142.794514  114.894060  \n",
       "2021-03-25  142.828230  114.539631  "
      ]
     },
     "execution_count": 149,
     "metadata": {},
     "output_type": "execute_result"
    }
   ],
   "source": [
    "df_aapl_valid.head()"
   ]
  },
  {
   "cell_type": "markdown",
   "id": "perfect-martial",
   "metadata": {},
   "source": [
    "#### Amazon Stock train test split"
   ]
  },
  {
   "cell_type": "code",
   "execution_count": 150,
   "id": "attached-battle",
   "metadata": {},
   "outputs": [],
   "source": [
    "df_amzn = df_amzn.loc[data_start:].copy()"
   ]
  },
  {
   "cell_type": "code",
   "execution_count": 151,
   "id": "promising-combination",
   "metadata": {},
   "outputs": [
    {
     "name": "stdout",
     "output_type": "stream",
     "text": [
      "4194 4154 4174 20\n"
     ]
    }
   ],
   "source": [
    "df_amzn_train, df_amzn_test, df_amzn_valid = train_test_valid_split(df_amzn, prediction_length=prediction_length[1])\n",
    "print(len(df_amzn), len(df_amzn_train), len(df_amzn_test), len(df_amzn_valid))"
   ]
  },
  {
   "cell_type": "code",
   "execution_count": 152,
   "id": "unable-partnership",
   "metadata": {},
   "outputs": [
    {
     "data": {
      "text/html": [
       "<div>\n",
       "<style scoped>\n",
       "    .dataframe tbody tr th:only-of-type {\n",
       "        vertical-align: middle;\n",
       "    }\n",
       "\n",
       "    .dataframe tbody tr th {\n",
       "        vertical-align: top;\n",
       "    }\n",
       "\n",
       "    .dataframe thead th {\n",
       "        text-align: right;\n",
       "    }\n",
       "</style>\n",
       "<table border=\"1\" class=\"dataframe\">\n",
       "  <thead>\n",
       "    <tr style=\"text-align: right;\">\n",
       "      <th></th>\n",
       "      <th>Adj Close</th>\n",
       "      <th>Close</th>\n",
       "      <th>High</th>\n",
       "      <th>Low</th>\n",
       "      <th>Open</th>\n",
       "      <th>Volume</th>\n",
       "      <th>Dividends</th>\n",
       "      <th>Stock Splits</th>\n",
       "      <th>10_ac_ma</th>\n",
       "      <th>20_ac_ma</th>\n",
       "      <th>50_ac_ma</th>\n",
       "      <th>10_ac_bb_u</th>\n",
       "      <th>10_ac_bb_l</th>\n",
       "      <th>20_ac_bb_u</th>\n",
       "      <th>20_ac_bb_l</th>\n",
       "      <th>50_ac_bb_u</th>\n",
       "      <th>50_ac_bb_l</th>\n",
       "    </tr>\n",
       "    <tr>\n",
       "      <th>Date</th>\n",
       "      <th></th>\n",
       "      <th></th>\n",
       "      <th></th>\n",
       "      <th></th>\n",
       "      <th></th>\n",
       "      <th></th>\n",
       "      <th></th>\n",
       "      <th></th>\n",
       "      <th></th>\n",
       "      <th></th>\n",
       "      <th></th>\n",
       "      <th></th>\n",
       "      <th></th>\n",
       "      <th></th>\n",
       "      <th></th>\n",
       "      <th></th>\n",
       "      <th></th>\n",
       "    </tr>\n",
       "  </thead>\n",
       "  <tbody>\n",
       "    <tr>\n",
       "      <th>2004-08-19</th>\n",
       "      <td>38.630001</td>\n",
       "      <td>38.630001</td>\n",
       "      <td>40.480000</td>\n",
       "      <td>36.349998</td>\n",
       "      <td>40.259998</td>\n",
       "      <td>12696100.0</td>\n",
       "      <td>NaN</td>\n",
       "      <td>NaN</td>\n",
       "      <td>37.106001</td>\n",
       "      <td>37.6520</td>\n",
       "      <td>44.9828</td>\n",
       "      <td>39.862539</td>\n",
       "      <td>34.349462</td>\n",
       "      <td>40.417963</td>\n",
       "      <td>34.886038</td>\n",
       "      <td>57.693587</td>\n",
       "      <td>32.272014</td>\n",
       "    </tr>\n",
       "    <tr>\n",
       "      <th>2004-08-20</th>\n",
       "      <td>39.509998</td>\n",
       "      <td>39.509998</td>\n",
       "      <td>39.910000</td>\n",
       "      <td>38.110001</td>\n",
       "      <td>38.459999</td>\n",
       "      <td>6790800.0</td>\n",
       "      <td>NaN</td>\n",
       "      <td>NaN</td>\n",
       "      <td>37.508000</td>\n",
       "      <td>37.6285</td>\n",
       "      <td>44.7682</td>\n",
       "      <td>40.386916</td>\n",
       "      <td>34.629084</td>\n",
       "      <td>40.318115</td>\n",
       "      <td>34.938885</td>\n",
       "      <td>57.479021</td>\n",
       "      <td>32.057379</td>\n",
       "    </tr>\n",
       "    <tr>\n",
       "      <th>2004-08-23</th>\n",
       "      <td>39.450001</td>\n",
       "      <td>39.450001</td>\n",
       "      <td>40.000000</td>\n",
       "      <td>39.110001</td>\n",
       "      <td>39.889999</td>\n",
       "      <td>5532600.0</td>\n",
       "      <td>NaN</td>\n",
       "      <td>NaN</td>\n",
       "      <td>37.921000</td>\n",
       "      <td>37.6620</td>\n",
       "      <td>44.5584</td>\n",
       "      <td>40.581550</td>\n",
       "      <td>35.260450</td>\n",
       "      <td>40.427620</td>\n",
       "      <td>34.896380</td>\n",
       "      <td>57.267085</td>\n",
       "      <td>31.849715</td>\n",
       "    </tr>\n",
       "    <tr>\n",
       "      <th>2004-08-24</th>\n",
       "      <td>39.049999</td>\n",
       "      <td>39.049999</td>\n",
       "      <td>39.930000</td>\n",
       "      <td>38.320000</td>\n",
       "      <td>39.720001</td>\n",
       "      <td>7640400.0</td>\n",
       "      <td>NaN</td>\n",
       "      <td>NaN</td>\n",
       "      <td>38.116000</td>\n",
       "      <td>37.6590</td>\n",
       "      <td>44.3544</td>\n",
       "      <td>40.794891</td>\n",
       "      <td>35.437110</td>\n",
       "      <td>40.418129</td>\n",
       "      <td>34.899871</td>\n",
       "      <td>57.083144</td>\n",
       "      <td>31.625656</td>\n",
       "    </tr>\n",
       "    <tr>\n",
       "      <th>2004-08-25</th>\n",
       "      <td>40.299999</td>\n",
       "      <td>40.299999</td>\n",
       "      <td>40.490002</td>\n",
       "      <td>38.160000</td>\n",
       "      <td>39.060001</td>\n",
       "      <td>7254800.0</td>\n",
       "      <td>NaN</td>\n",
       "      <td>NaN</td>\n",
       "      <td>38.490000</td>\n",
       "      <td>37.7755</td>\n",
       "      <td>44.1582</td>\n",
       "      <td>41.246567</td>\n",
       "      <td>35.733433</td>\n",
       "      <td>40.776113</td>\n",
       "      <td>34.774887</td>\n",
       "      <td>56.827117</td>\n",
       "      <td>31.489283</td>\n",
       "    </tr>\n",
       "  </tbody>\n",
       "</table>\n",
       "</div>"
      ],
      "text/plain": [
       "            Adj Close      Close       High        Low       Open      Volume  \\\n",
       "Date                                                                            \n",
       "2004-08-19  38.630001  38.630001  40.480000  36.349998  40.259998  12696100.0   \n",
       "2004-08-20  39.509998  39.509998  39.910000  38.110001  38.459999   6790800.0   \n",
       "2004-08-23  39.450001  39.450001  40.000000  39.110001  39.889999   5532600.0   \n",
       "2004-08-24  39.049999  39.049999  39.930000  38.320000  39.720001   7640400.0   \n",
       "2004-08-25  40.299999  40.299999  40.490002  38.160000  39.060001   7254800.0   \n",
       "\n",
       "            Dividends  Stock Splits   10_ac_ma  20_ac_ma  50_ac_ma  \\\n",
       "Date                                                                 \n",
       "2004-08-19        NaN           NaN  37.106001   37.6520   44.9828   \n",
       "2004-08-20        NaN           NaN  37.508000   37.6285   44.7682   \n",
       "2004-08-23        NaN           NaN  37.921000   37.6620   44.5584   \n",
       "2004-08-24        NaN           NaN  38.116000   37.6590   44.3544   \n",
       "2004-08-25        NaN           NaN  38.490000   37.7755   44.1582   \n",
       "\n",
       "            10_ac_bb_u  10_ac_bb_l  20_ac_bb_u  20_ac_bb_l  50_ac_bb_u  \\\n",
       "Date                                                                     \n",
       "2004-08-19   39.862539   34.349462   40.417963   34.886038   57.693587   \n",
       "2004-08-20   40.386916   34.629084   40.318115   34.938885   57.479021   \n",
       "2004-08-23   40.581550   35.260450   40.427620   34.896380   57.267085   \n",
       "2004-08-24   40.794891   35.437110   40.418129   34.899871   57.083144   \n",
       "2004-08-25   41.246567   35.733433   40.776113   34.774887   56.827117   \n",
       "\n",
       "            50_ac_bb_l  \n",
       "Date                    \n",
       "2004-08-19   32.272014  \n",
       "2004-08-20   32.057379  \n",
       "2004-08-23   31.849715  \n",
       "2004-08-24   31.625656  \n",
       "2004-08-25   31.489283  "
      ]
     },
     "execution_count": 152,
     "metadata": {},
     "output_type": "execute_result"
    }
   ],
   "source": [
    "df_amzn_train.head()"
   ]
  },
  {
   "cell_type": "code",
   "execution_count": 153,
   "id": "executed-raise",
   "metadata": {},
   "outputs": [
    {
     "data": {
      "text/html": [
       "<div>\n",
       "<style scoped>\n",
       "    .dataframe tbody tr th:only-of-type {\n",
       "        vertical-align: middle;\n",
       "    }\n",
       "\n",
       "    .dataframe tbody tr th {\n",
       "        vertical-align: top;\n",
       "    }\n",
       "\n",
       "    .dataframe thead th {\n",
       "        text-align: right;\n",
       "    }\n",
       "</style>\n",
       "<table border=\"1\" class=\"dataframe\">\n",
       "  <thead>\n",
       "    <tr style=\"text-align: right;\">\n",
       "      <th></th>\n",
       "      <th>Adj Close</th>\n",
       "      <th>Close</th>\n",
       "      <th>High</th>\n",
       "      <th>Low</th>\n",
       "      <th>Open</th>\n",
       "      <th>Volume</th>\n",
       "      <th>Dividends</th>\n",
       "      <th>Stock Splits</th>\n",
       "      <th>10_ac_ma</th>\n",
       "      <th>20_ac_ma</th>\n",
       "      <th>50_ac_ma</th>\n",
       "      <th>10_ac_bb_u</th>\n",
       "      <th>10_ac_bb_l</th>\n",
       "      <th>20_ac_bb_u</th>\n",
       "      <th>20_ac_bb_l</th>\n",
       "      <th>50_ac_bb_u</th>\n",
       "      <th>50_ac_bb_l</th>\n",
       "    </tr>\n",
       "    <tr>\n",
       "      <th>Date</th>\n",
       "      <th></th>\n",
       "      <th></th>\n",
       "      <th></th>\n",
       "      <th></th>\n",
       "      <th></th>\n",
       "      <th></th>\n",
       "      <th></th>\n",
       "      <th></th>\n",
       "      <th></th>\n",
       "      <th></th>\n",
       "      <th></th>\n",
       "      <th></th>\n",
       "      <th></th>\n",
       "      <th></th>\n",
       "      <th></th>\n",
       "      <th></th>\n",
       "      <th></th>\n",
       "    </tr>\n",
       "  </thead>\n",
       "  <tbody>\n",
       "    <tr>\n",
       "      <th>2004-08-19</th>\n",
       "      <td>38.630001</td>\n",
       "      <td>38.630001</td>\n",
       "      <td>40.480000</td>\n",
       "      <td>36.349998</td>\n",
       "      <td>40.259998</td>\n",
       "      <td>12696100.0</td>\n",
       "      <td>NaN</td>\n",
       "      <td>NaN</td>\n",
       "      <td>37.106001</td>\n",
       "      <td>37.6520</td>\n",
       "      <td>44.9828</td>\n",
       "      <td>39.862539</td>\n",
       "      <td>34.349462</td>\n",
       "      <td>40.417963</td>\n",
       "      <td>34.886038</td>\n",
       "      <td>57.693587</td>\n",
       "      <td>32.272014</td>\n",
       "    </tr>\n",
       "    <tr>\n",
       "      <th>2004-08-20</th>\n",
       "      <td>39.509998</td>\n",
       "      <td>39.509998</td>\n",
       "      <td>39.910000</td>\n",
       "      <td>38.110001</td>\n",
       "      <td>38.459999</td>\n",
       "      <td>6790800.0</td>\n",
       "      <td>NaN</td>\n",
       "      <td>NaN</td>\n",
       "      <td>37.508000</td>\n",
       "      <td>37.6285</td>\n",
       "      <td>44.7682</td>\n",
       "      <td>40.386916</td>\n",
       "      <td>34.629084</td>\n",
       "      <td>40.318115</td>\n",
       "      <td>34.938885</td>\n",
       "      <td>57.479021</td>\n",
       "      <td>32.057379</td>\n",
       "    </tr>\n",
       "    <tr>\n",
       "      <th>2004-08-23</th>\n",
       "      <td>39.450001</td>\n",
       "      <td>39.450001</td>\n",
       "      <td>40.000000</td>\n",
       "      <td>39.110001</td>\n",
       "      <td>39.889999</td>\n",
       "      <td>5532600.0</td>\n",
       "      <td>NaN</td>\n",
       "      <td>NaN</td>\n",
       "      <td>37.921000</td>\n",
       "      <td>37.6620</td>\n",
       "      <td>44.5584</td>\n",
       "      <td>40.581550</td>\n",
       "      <td>35.260450</td>\n",
       "      <td>40.427620</td>\n",
       "      <td>34.896380</td>\n",
       "      <td>57.267085</td>\n",
       "      <td>31.849715</td>\n",
       "    </tr>\n",
       "    <tr>\n",
       "      <th>2004-08-24</th>\n",
       "      <td>39.049999</td>\n",
       "      <td>39.049999</td>\n",
       "      <td>39.930000</td>\n",
       "      <td>38.320000</td>\n",
       "      <td>39.720001</td>\n",
       "      <td>7640400.0</td>\n",
       "      <td>NaN</td>\n",
       "      <td>NaN</td>\n",
       "      <td>38.116000</td>\n",
       "      <td>37.6590</td>\n",
       "      <td>44.3544</td>\n",
       "      <td>40.794891</td>\n",
       "      <td>35.437110</td>\n",
       "      <td>40.418129</td>\n",
       "      <td>34.899871</td>\n",
       "      <td>57.083144</td>\n",
       "      <td>31.625656</td>\n",
       "    </tr>\n",
       "    <tr>\n",
       "      <th>2004-08-25</th>\n",
       "      <td>40.299999</td>\n",
       "      <td>40.299999</td>\n",
       "      <td>40.490002</td>\n",
       "      <td>38.160000</td>\n",
       "      <td>39.060001</td>\n",
       "      <td>7254800.0</td>\n",
       "      <td>NaN</td>\n",
       "      <td>NaN</td>\n",
       "      <td>38.490000</td>\n",
       "      <td>37.7755</td>\n",
       "      <td>44.1582</td>\n",
       "      <td>41.246567</td>\n",
       "      <td>35.733433</td>\n",
       "      <td>40.776113</td>\n",
       "      <td>34.774887</td>\n",
       "      <td>56.827117</td>\n",
       "      <td>31.489283</td>\n",
       "    </tr>\n",
       "  </tbody>\n",
       "</table>\n",
       "</div>"
      ],
      "text/plain": [
       "            Adj Close      Close       High        Low       Open      Volume  \\\n",
       "Date                                                                            \n",
       "2004-08-19  38.630001  38.630001  40.480000  36.349998  40.259998  12696100.0   \n",
       "2004-08-20  39.509998  39.509998  39.910000  38.110001  38.459999   6790800.0   \n",
       "2004-08-23  39.450001  39.450001  40.000000  39.110001  39.889999   5532600.0   \n",
       "2004-08-24  39.049999  39.049999  39.930000  38.320000  39.720001   7640400.0   \n",
       "2004-08-25  40.299999  40.299999  40.490002  38.160000  39.060001   7254800.0   \n",
       "\n",
       "            Dividends  Stock Splits   10_ac_ma  20_ac_ma  50_ac_ma  \\\n",
       "Date                                                                 \n",
       "2004-08-19        NaN           NaN  37.106001   37.6520   44.9828   \n",
       "2004-08-20        NaN           NaN  37.508000   37.6285   44.7682   \n",
       "2004-08-23        NaN           NaN  37.921000   37.6620   44.5584   \n",
       "2004-08-24        NaN           NaN  38.116000   37.6590   44.3544   \n",
       "2004-08-25        NaN           NaN  38.490000   37.7755   44.1582   \n",
       "\n",
       "            10_ac_bb_u  10_ac_bb_l  20_ac_bb_u  20_ac_bb_l  50_ac_bb_u  \\\n",
       "Date                                                                     \n",
       "2004-08-19   39.862539   34.349462   40.417963   34.886038   57.693587   \n",
       "2004-08-20   40.386916   34.629084   40.318115   34.938885   57.479021   \n",
       "2004-08-23   40.581550   35.260450   40.427620   34.896380   57.267085   \n",
       "2004-08-24   40.794891   35.437110   40.418129   34.899871   57.083144   \n",
       "2004-08-25   41.246567   35.733433   40.776113   34.774887   56.827117   \n",
       "\n",
       "            50_ac_bb_l  \n",
       "Date                    \n",
       "2004-08-19   32.272014  \n",
       "2004-08-20   32.057379  \n",
       "2004-08-23   31.849715  \n",
       "2004-08-24   31.625656  \n",
       "2004-08-25   31.489283  "
      ]
     },
     "execution_count": 153,
     "metadata": {},
     "output_type": "execute_result"
    }
   ],
   "source": [
    "df_amzn_test.head()"
   ]
  },
  {
   "cell_type": "code",
   "execution_count": 154,
   "id": "recovered-bones",
   "metadata": {},
   "outputs": [
    {
     "data": {
      "text/html": [
       "<div>\n",
       "<style scoped>\n",
       "    .dataframe tbody tr th:only-of-type {\n",
       "        vertical-align: middle;\n",
       "    }\n",
       "\n",
       "    .dataframe tbody tr th {\n",
       "        vertical-align: top;\n",
       "    }\n",
       "\n",
       "    .dataframe thead th {\n",
       "        text-align: right;\n",
       "    }\n",
       "</style>\n",
       "<table border=\"1\" class=\"dataframe\">\n",
       "  <thead>\n",
       "    <tr style=\"text-align: right;\">\n",
       "      <th></th>\n",
       "      <th>Adj Close</th>\n",
       "      <th>Close</th>\n",
       "      <th>High</th>\n",
       "      <th>Low</th>\n",
       "      <th>Open</th>\n",
       "      <th>Volume</th>\n",
       "      <th>Dividends</th>\n",
       "      <th>Stock Splits</th>\n",
       "      <th>10_ac_ma</th>\n",
       "      <th>20_ac_ma</th>\n",
       "      <th>50_ac_ma</th>\n",
       "      <th>10_ac_bb_u</th>\n",
       "      <th>10_ac_bb_l</th>\n",
       "      <th>20_ac_bb_u</th>\n",
       "      <th>20_ac_bb_l</th>\n",
       "      <th>50_ac_bb_u</th>\n",
       "      <th>50_ac_bb_l</th>\n",
       "    </tr>\n",
       "    <tr>\n",
       "      <th>Date</th>\n",
       "      <th></th>\n",
       "      <th></th>\n",
       "      <th></th>\n",
       "      <th></th>\n",
       "      <th></th>\n",
       "      <th></th>\n",
       "      <th></th>\n",
       "      <th></th>\n",
       "      <th></th>\n",
       "      <th></th>\n",
       "      <th></th>\n",
       "      <th></th>\n",
       "      <th></th>\n",
       "      <th></th>\n",
       "      <th></th>\n",
       "      <th></th>\n",
       "      <th></th>\n",
       "    </tr>\n",
       "  </thead>\n",
       "  <tbody>\n",
       "    <tr>\n",
       "      <th>2021-03-19</th>\n",
       "      <td>3074.959961</td>\n",
       "      <td>3074.959961</td>\n",
       "      <td>3077.290039</td>\n",
       "      <td>3016.629883</td>\n",
       "      <td>3029.229980</td>\n",
       "      <td>4616400.0</td>\n",
       "      <td>NaN</td>\n",
       "      <td>NaN</td>\n",
       "      <td>3068.773999</td>\n",
       "      <td>3079.814990</td>\n",
       "      <td>3183.646777</td>\n",
       "      <td>3170.161681</td>\n",
       "      <td>2967.386317</td>\n",
       "      <td>3210.955835</td>\n",
       "      <td>2948.674145</td>\n",
       "      <td>3410.511827</td>\n",
       "      <td>2956.781728</td>\n",
       "    </tr>\n",
       "    <tr>\n",
       "      <th>2021-03-22</th>\n",
       "      <td>3110.870117</td>\n",
       "      <td>3110.870117</td>\n",
       "      <td>3126.580078</td>\n",
       "      <td>3060.050049</td>\n",
       "      <td>3067.850098</td>\n",
       "      <td>2902200.0</td>\n",
       "      <td>NaN</td>\n",
       "      <td>NaN</td>\n",
       "      <td>3084.666016</td>\n",
       "      <td>3076.321497</td>\n",
       "      <td>3182.620981</td>\n",
       "      <td>3146.946573</td>\n",
       "      <td>3022.385458</td>\n",
       "      <td>3199.630779</td>\n",
       "      <td>2953.012214</td>\n",
       "      <td>3410.344783</td>\n",
       "      <td>2954.897180</td>\n",
       "    </tr>\n",
       "    <tr>\n",
       "      <th>2021-03-23</th>\n",
       "      <td>3137.500000</td>\n",
       "      <td>3137.500000</td>\n",
       "      <td>3182.000000</td>\n",
       "      <td>3120.850098</td>\n",
       "      <td>3127.000000</td>\n",
       "      <td>3817300.0</td>\n",
       "      <td>NaN</td>\n",
       "      <td>NaN</td>\n",
       "      <td>3092.131006</td>\n",
       "      <td>3073.471497</td>\n",
       "      <td>3181.716982</td>\n",
       "      <td>3160.397437</td>\n",
       "      <td>3023.864575</td>\n",
       "      <td>3187.570993</td>\n",
       "      <td>2959.372000</td>\n",
       "      <td>3409.798086</td>\n",
       "      <td>2953.635879</td>\n",
       "    </tr>\n",
       "    <tr>\n",
       "      <th>2021-03-24</th>\n",
       "      <td>3087.070068</td>\n",
       "      <td>3087.070068</td>\n",
       "      <td>3160.310059</td>\n",
       "      <td>3085.149902</td>\n",
       "      <td>3151.040039</td>\n",
       "      <td>2959000.0</td>\n",
       "      <td>NaN</td>\n",
       "      <td>NaN</td>\n",
       "      <td>3095.074023</td>\n",
       "      <td>3069.848499</td>\n",
       "      <td>3181.174185</td>\n",
       "      <td>3159.140136</td>\n",
       "      <td>3031.007911</td>\n",
       "      <td>3176.821323</td>\n",
       "      <td>2962.875674</td>\n",
       "      <td>3410.038860</td>\n",
       "      <td>2952.309509</td>\n",
       "    </tr>\n",
       "    <tr>\n",
       "      <th>2021-03-25</th>\n",
       "      <td>3046.260010</td>\n",
       "      <td>3046.260010</td>\n",
       "      <td>3109.780029</td>\n",
       "      <td>3037.139893</td>\n",
       "      <td>3072.989990</td>\n",
       "      <td>3563500.0</td>\n",
       "      <td>NaN</td>\n",
       "      <td>NaN</td>\n",
       "      <td>3088.341016</td>\n",
       "      <td>3069.303503</td>\n",
       "      <td>3179.682783</td>\n",
       "      <td>3157.692550</td>\n",
       "      <td>3018.989481</td>\n",
       "      <td>3176.658895</td>\n",
       "      <td>2961.948112</td>\n",
       "      <td>3411.110022</td>\n",
       "      <td>2948.255544</td>\n",
       "    </tr>\n",
       "  </tbody>\n",
       "</table>\n",
       "</div>"
      ],
      "text/plain": [
       "              Adj Close        Close         High          Low         Open  \\\n",
       "Date                                                                          \n",
       "2021-03-19  3074.959961  3074.959961  3077.290039  3016.629883  3029.229980   \n",
       "2021-03-22  3110.870117  3110.870117  3126.580078  3060.050049  3067.850098   \n",
       "2021-03-23  3137.500000  3137.500000  3182.000000  3120.850098  3127.000000   \n",
       "2021-03-24  3087.070068  3087.070068  3160.310059  3085.149902  3151.040039   \n",
       "2021-03-25  3046.260010  3046.260010  3109.780029  3037.139893  3072.989990   \n",
       "\n",
       "               Volume  Dividends  Stock Splits     10_ac_ma     20_ac_ma  \\\n",
       "Date                                                                       \n",
       "2021-03-19  4616400.0        NaN           NaN  3068.773999  3079.814990   \n",
       "2021-03-22  2902200.0        NaN           NaN  3084.666016  3076.321497   \n",
       "2021-03-23  3817300.0        NaN           NaN  3092.131006  3073.471497   \n",
       "2021-03-24  2959000.0        NaN           NaN  3095.074023  3069.848499   \n",
       "2021-03-25  3563500.0        NaN           NaN  3088.341016  3069.303503   \n",
       "\n",
       "               50_ac_ma   10_ac_bb_u   10_ac_bb_l   20_ac_bb_u   20_ac_bb_l  \\\n",
       "Date                                                                          \n",
       "2021-03-19  3183.646777  3170.161681  2967.386317  3210.955835  2948.674145   \n",
       "2021-03-22  3182.620981  3146.946573  3022.385458  3199.630779  2953.012214   \n",
       "2021-03-23  3181.716982  3160.397437  3023.864575  3187.570993  2959.372000   \n",
       "2021-03-24  3181.174185  3159.140136  3031.007911  3176.821323  2962.875674   \n",
       "2021-03-25  3179.682783  3157.692550  3018.989481  3176.658895  2961.948112   \n",
       "\n",
       "             50_ac_bb_u   50_ac_bb_l  \n",
       "Date                                  \n",
       "2021-03-19  3410.511827  2956.781728  \n",
       "2021-03-22  3410.344783  2954.897180  \n",
       "2021-03-23  3409.798086  2953.635879  \n",
       "2021-03-24  3410.038860  2952.309509  \n",
       "2021-03-25  3411.110022  2948.255544  "
      ]
     },
     "execution_count": 154,
     "metadata": {},
     "output_type": "execute_result"
    }
   ],
   "source": [
    "df_amzn_valid.head()"
   ]
  },
  {
   "cell_type": "markdown",
   "id": "dietary-hindu",
   "metadata": {},
   "source": [
    "#### Alphabet Inc. Stock train test split"
   ]
  },
  {
   "cell_type": "code",
   "execution_count": 155,
   "id": "alert-therapist",
   "metadata": {},
   "outputs": [],
   "source": [
    "df_googl = df_googl.loc[data_start:].copy()"
   ]
  },
  {
   "cell_type": "code",
   "execution_count": 156,
   "id": "dying-coverage",
   "metadata": {},
   "outputs": [
    {
     "name": "stdout",
     "output_type": "stream",
     "text": [
      "4194 4154 4174 20\n"
     ]
    }
   ],
   "source": [
    "df_googl_train, df_googl_test, df_googl_valid = train_test_valid_split(df_googl, prediction_length=prediction_length[1])\n",
    "print(len(df_googl), len(df_googl_train), len(df_googl_test), len(df_googl_valid))"
   ]
  },
  {
   "cell_type": "code",
   "execution_count": 157,
   "id": "accepted-feelings",
   "metadata": {},
   "outputs": [
    {
     "data": {
      "text/html": [
       "<div>\n",
       "<style scoped>\n",
       "    .dataframe tbody tr th:only-of-type {\n",
       "        vertical-align: middle;\n",
       "    }\n",
       "\n",
       "    .dataframe tbody tr th {\n",
       "        vertical-align: top;\n",
       "    }\n",
       "\n",
       "    .dataframe thead th {\n",
       "        text-align: right;\n",
       "    }\n",
       "</style>\n",
       "<table border=\"1\" class=\"dataframe\">\n",
       "  <thead>\n",
       "    <tr style=\"text-align: right;\">\n",
       "      <th></th>\n",
       "      <th>Adj Close</th>\n",
       "      <th>Close</th>\n",
       "      <th>High</th>\n",
       "      <th>Low</th>\n",
       "      <th>Open</th>\n",
       "      <th>Volume</th>\n",
       "      <th>Dividends</th>\n",
       "      <th>Stock Splits</th>\n",
       "      <th>10_ac_ma</th>\n",
       "      <th>20_ac_ma</th>\n",
       "      <th>50_ac_ma</th>\n",
       "      <th>10_ac_bb_u</th>\n",
       "      <th>10_ac_bb_l</th>\n",
       "      <th>20_ac_bb_u</th>\n",
       "      <th>20_ac_bb_l</th>\n",
       "      <th>50_ac_bb_u</th>\n",
       "      <th>50_ac_bb_l</th>\n",
       "    </tr>\n",
       "    <tr>\n",
       "      <th>Date</th>\n",
       "      <th></th>\n",
       "      <th></th>\n",
       "      <th></th>\n",
       "      <th></th>\n",
       "      <th></th>\n",
       "      <th></th>\n",
       "      <th></th>\n",
       "      <th></th>\n",
       "      <th></th>\n",
       "      <th></th>\n",
       "      <th></th>\n",
       "      <th></th>\n",
       "      <th></th>\n",
       "      <th></th>\n",
       "      <th></th>\n",
       "      <th></th>\n",
       "      <th></th>\n",
       "    </tr>\n",
       "  </thead>\n",
       "  <tbody>\n",
       "    <tr>\n",
       "      <th>2004-08-19</th>\n",
       "      <td>50.220219</td>\n",
       "      <td>50.220219</td>\n",
       "      <td>52.082081</td>\n",
       "      <td>48.028027</td>\n",
       "      <td>50.050049</td>\n",
       "      <td>44659096.0</td>\n",
       "      <td>0.0</td>\n",
       "      <td>1.998</td>\n",
       "      <td>52.432933</td>\n",
       "      <td>52.692943</td>\n",
       "      <td>63.586987</td>\n",
       "      <td>55.781053</td>\n",
       "      <td>49.084813</td>\n",
       "      <td>56.933168</td>\n",
       "      <td>48.452718</td>\n",
       "      <td>88.331593</td>\n",
       "      <td>38.842381</td>\n",
       "    </tr>\n",
       "    <tr>\n",
       "      <th>2004-08-20</th>\n",
       "      <td>54.209209</td>\n",
       "      <td>54.209209</td>\n",
       "      <td>54.594597</td>\n",
       "      <td>50.300301</td>\n",
       "      <td>50.555557</td>\n",
       "      <td>22834343.0</td>\n",
       "      <td>0.0</td>\n",
       "      <td>1.998</td>\n",
       "      <td>52.432933</td>\n",
       "      <td>52.692943</td>\n",
       "      <td>63.586987</td>\n",
       "      <td>55.781053</td>\n",
       "      <td>49.084813</td>\n",
       "      <td>56.933168</td>\n",
       "      <td>48.452718</td>\n",
       "      <td>88.331593</td>\n",
       "      <td>38.842381</td>\n",
       "    </tr>\n",
       "    <tr>\n",
       "      <th>2004-08-23</th>\n",
       "      <td>54.754753</td>\n",
       "      <td>54.754753</td>\n",
       "      <td>56.796799</td>\n",
       "      <td>54.579578</td>\n",
       "      <td>55.430431</td>\n",
       "      <td>18256126.0</td>\n",
       "      <td>0.0</td>\n",
       "      <td>1.998</td>\n",
       "      <td>52.432933</td>\n",
       "      <td>52.692943</td>\n",
       "      <td>63.586987</td>\n",
       "      <td>55.781053</td>\n",
       "      <td>49.084813</td>\n",
       "      <td>56.933168</td>\n",
       "      <td>48.452718</td>\n",
       "      <td>88.331593</td>\n",
       "      <td>38.842381</td>\n",
       "    </tr>\n",
       "    <tr>\n",
       "      <th>2004-08-24</th>\n",
       "      <td>52.487488</td>\n",
       "      <td>52.487488</td>\n",
       "      <td>55.855858</td>\n",
       "      <td>51.836838</td>\n",
       "      <td>55.675674</td>\n",
       "      <td>15247337.0</td>\n",
       "      <td>0.0</td>\n",
       "      <td>1.998</td>\n",
       "      <td>52.432933</td>\n",
       "      <td>52.692943</td>\n",
       "      <td>63.586987</td>\n",
       "      <td>55.781053</td>\n",
       "      <td>49.084813</td>\n",
       "      <td>56.933168</td>\n",
       "      <td>48.452718</td>\n",
       "      <td>88.331593</td>\n",
       "      <td>38.842381</td>\n",
       "    </tr>\n",
       "    <tr>\n",
       "      <th>2004-08-25</th>\n",
       "      <td>53.053055</td>\n",
       "      <td>53.053055</td>\n",
       "      <td>54.054054</td>\n",
       "      <td>51.991993</td>\n",
       "      <td>52.532532</td>\n",
       "      <td>9188602.0</td>\n",
       "      <td>0.0</td>\n",
       "      <td>1.998</td>\n",
       "      <td>52.432933</td>\n",
       "      <td>52.692943</td>\n",
       "      <td>63.586987</td>\n",
       "      <td>55.781053</td>\n",
       "      <td>49.084813</td>\n",
       "      <td>56.933168</td>\n",
       "      <td>48.452718</td>\n",
       "      <td>88.331593</td>\n",
       "      <td>38.842381</td>\n",
       "    </tr>\n",
       "  </tbody>\n",
       "</table>\n",
       "</div>"
      ],
      "text/plain": [
       "            Adj Close      Close       High        Low       Open      Volume  \\\n",
       "Date                                                                            \n",
       "2004-08-19  50.220219  50.220219  52.082081  48.028027  50.050049  44659096.0   \n",
       "2004-08-20  54.209209  54.209209  54.594597  50.300301  50.555557  22834343.0   \n",
       "2004-08-23  54.754753  54.754753  56.796799  54.579578  55.430431  18256126.0   \n",
       "2004-08-24  52.487488  52.487488  55.855858  51.836838  55.675674  15247337.0   \n",
       "2004-08-25  53.053055  53.053055  54.054054  51.991993  52.532532   9188602.0   \n",
       "\n",
       "            Dividends  Stock Splits   10_ac_ma   20_ac_ma   50_ac_ma  \\\n",
       "Date                                                                   \n",
       "2004-08-19        0.0         1.998  52.432933  52.692943  63.586987   \n",
       "2004-08-20        0.0         1.998  52.432933  52.692943  63.586987   \n",
       "2004-08-23        0.0         1.998  52.432933  52.692943  63.586987   \n",
       "2004-08-24        0.0         1.998  52.432933  52.692943  63.586987   \n",
       "2004-08-25        0.0         1.998  52.432933  52.692943  63.586987   \n",
       "\n",
       "            10_ac_bb_u  10_ac_bb_l  20_ac_bb_u  20_ac_bb_l  50_ac_bb_u  \\\n",
       "Date                                                                     \n",
       "2004-08-19   55.781053   49.084813   56.933168   48.452718   88.331593   \n",
       "2004-08-20   55.781053   49.084813   56.933168   48.452718   88.331593   \n",
       "2004-08-23   55.781053   49.084813   56.933168   48.452718   88.331593   \n",
       "2004-08-24   55.781053   49.084813   56.933168   48.452718   88.331593   \n",
       "2004-08-25   55.781053   49.084813   56.933168   48.452718   88.331593   \n",
       "\n",
       "            50_ac_bb_l  \n",
       "Date                    \n",
       "2004-08-19   38.842381  \n",
       "2004-08-20   38.842381  \n",
       "2004-08-23   38.842381  \n",
       "2004-08-24   38.842381  \n",
       "2004-08-25   38.842381  "
      ]
     },
     "execution_count": 157,
     "metadata": {},
     "output_type": "execute_result"
    }
   ],
   "source": [
    "df_googl_train.head()"
   ]
  },
  {
   "cell_type": "code",
   "execution_count": 158,
   "id": "neutral-demand",
   "metadata": {},
   "outputs": [
    {
     "data": {
      "text/html": [
       "<div>\n",
       "<style scoped>\n",
       "    .dataframe tbody tr th:only-of-type {\n",
       "        vertical-align: middle;\n",
       "    }\n",
       "\n",
       "    .dataframe tbody tr th {\n",
       "        vertical-align: top;\n",
       "    }\n",
       "\n",
       "    .dataframe thead th {\n",
       "        text-align: right;\n",
       "    }\n",
       "</style>\n",
       "<table border=\"1\" class=\"dataframe\">\n",
       "  <thead>\n",
       "    <tr style=\"text-align: right;\">\n",
       "      <th></th>\n",
       "      <th>Adj Close</th>\n",
       "      <th>Close</th>\n",
       "      <th>High</th>\n",
       "      <th>Low</th>\n",
       "      <th>Open</th>\n",
       "      <th>Volume</th>\n",
       "      <th>Dividends</th>\n",
       "      <th>Stock Splits</th>\n",
       "      <th>10_ac_ma</th>\n",
       "      <th>20_ac_ma</th>\n",
       "      <th>50_ac_ma</th>\n",
       "      <th>10_ac_bb_u</th>\n",
       "      <th>10_ac_bb_l</th>\n",
       "      <th>20_ac_bb_u</th>\n",
       "      <th>20_ac_bb_l</th>\n",
       "      <th>50_ac_bb_u</th>\n",
       "      <th>50_ac_bb_l</th>\n",
       "    </tr>\n",
       "    <tr>\n",
       "      <th>Date</th>\n",
       "      <th></th>\n",
       "      <th></th>\n",
       "      <th></th>\n",
       "      <th></th>\n",
       "      <th></th>\n",
       "      <th></th>\n",
       "      <th></th>\n",
       "      <th></th>\n",
       "      <th></th>\n",
       "      <th></th>\n",
       "      <th></th>\n",
       "      <th></th>\n",
       "      <th></th>\n",
       "      <th></th>\n",
       "      <th></th>\n",
       "      <th></th>\n",
       "      <th></th>\n",
       "    </tr>\n",
       "  </thead>\n",
       "  <tbody>\n",
       "    <tr>\n",
       "      <th>2004-08-19</th>\n",
       "      <td>50.220219</td>\n",
       "      <td>50.220219</td>\n",
       "      <td>52.082081</td>\n",
       "      <td>48.028027</td>\n",
       "      <td>50.050049</td>\n",
       "      <td>44659096.0</td>\n",
       "      <td>0.0</td>\n",
       "      <td>1.998</td>\n",
       "      <td>52.432933</td>\n",
       "      <td>52.692943</td>\n",
       "      <td>63.586987</td>\n",
       "      <td>55.781053</td>\n",
       "      <td>49.084813</td>\n",
       "      <td>56.933168</td>\n",
       "      <td>48.452718</td>\n",
       "      <td>88.331593</td>\n",
       "      <td>38.842381</td>\n",
       "    </tr>\n",
       "    <tr>\n",
       "      <th>2004-08-20</th>\n",
       "      <td>54.209209</td>\n",
       "      <td>54.209209</td>\n",
       "      <td>54.594597</td>\n",
       "      <td>50.300301</td>\n",
       "      <td>50.555557</td>\n",
       "      <td>22834343.0</td>\n",
       "      <td>0.0</td>\n",
       "      <td>1.998</td>\n",
       "      <td>52.432933</td>\n",
       "      <td>52.692943</td>\n",
       "      <td>63.586987</td>\n",
       "      <td>55.781053</td>\n",
       "      <td>49.084813</td>\n",
       "      <td>56.933168</td>\n",
       "      <td>48.452718</td>\n",
       "      <td>88.331593</td>\n",
       "      <td>38.842381</td>\n",
       "    </tr>\n",
       "    <tr>\n",
       "      <th>2004-08-23</th>\n",
       "      <td>54.754753</td>\n",
       "      <td>54.754753</td>\n",
       "      <td>56.796799</td>\n",
       "      <td>54.579578</td>\n",
       "      <td>55.430431</td>\n",
       "      <td>18256126.0</td>\n",
       "      <td>0.0</td>\n",
       "      <td>1.998</td>\n",
       "      <td>52.432933</td>\n",
       "      <td>52.692943</td>\n",
       "      <td>63.586987</td>\n",
       "      <td>55.781053</td>\n",
       "      <td>49.084813</td>\n",
       "      <td>56.933168</td>\n",
       "      <td>48.452718</td>\n",
       "      <td>88.331593</td>\n",
       "      <td>38.842381</td>\n",
       "    </tr>\n",
       "    <tr>\n",
       "      <th>2004-08-24</th>\n",
       "      <td>52.487488</td>\n",
       "      <td>52.487488</td>\n",
       "      <td>55.855858</td>\n",
       "      <td>51.836838</td>\n",
       "      <td>55.675674</td>\n",
       "      <td>15247337.0</td>\n",
       "      <td>0.0</td>\n",
       "      <td>1.998</td>\n",
       "      <td>52.432933</td>\n",
       "      <td>52.692943</td>\n",
       "      <td>63.586987</td>\n",
       "      <td>55.781053</td>\n",
       "      <td>49.084813</td>\n",
       "      <td>56.933168</td>\n",
       "      <td>48.452718</td>\n",
       "      <td>88.331593</td>\n",
       "      <td>38.842381</td>\n",
       "    </tr>\n",
       "    <tr>\n",
       "      <th>2004-08-25</th>\n",
       "      <td>53.053055</td>\n",
       "      <td>53.053055</td>\n",
       "      <td>54.054054</td>\n",
       "      <td>51.991993</td>\n",
       "      <td>52.532532</td>\n",
       "      <td>9188602.0</td>\n",
       "      <td>0.0</td>\n",
       "      <td>1.998</td>\n",
       "      <td>52.432933</td>\n",
       "      <td>52.692943</td>\n",
       "      <td>63.586987</td>\n",
       "      <td>55.781053</td>\n",
       "      <td>49.084813</td>\n",
       "      <td>56.933168</td>\n",
       "      <td>48.452718</td>\n",
       "      <td>88.331593</td>\n",
       "      <td>38.842381</td>\n",
       "    </tr>\n",
       "  </tbody>\n",
       "</table>\n",
       "</div>"
      ],
      "text/plain": [
       "            Adj Close      Close       High        Low       Open      Volume  \\\n",
       "Date                                                                            \n",
       "2004-08-19  50.220219  50.220219  52.082081  48.028027  50.050049  44659096.0   \n",
       "2004-08-20  54.209209  54.209209  54.594597  50.300301  50.555557  22834343.0   \n",
       "2004-08-23  54.754753  54.754753  56.796799  54.579578  55.430431  18256126.0   \n",
       "2004-08-24  52.487488  52.487488  55.855858  51.836838  55.675674  15247337.0   \n",
       "2004-08-25  53.053055  53.053055  54.054054  51.991993  52.532532   9188602.0   \n",
       "\n",
       "            Dividends  Stock Splits   10_ac_ma   20_ac_ma   50_ac_ma  \\\n",
       "Date                                                                   \n",
       "2004-08-19        0.0         1.998  52.432933  52.692943  63.586987   \n",
       "2004-08-20        0.0         1.998  52.432933  52.692943  63.586987   \n",
       "2004-08-23        0.0         1.998  52.432933  52.692943  63.586987   \n",
       "2004-08-24        0.0         1.998  52.432933  52.692943  63.586987   \n",
       "2004-08-25        0.0         1.998  52.432933  52.692943  63.586987   \n",
       "\n",
       "            10_ac_bb_u  10_ac_bb_l  20_ac_bb_u  20_ac_bb_l  50_ac_bb_u  \\\n",
       "Date                                                                     \n",
       "2004-08-19   55.781053   49.084813   56.933168   48.452718   88.331593   \n",
       "2004-08-20   55.781053   49.084813   56.933168   48.452718   88.331593   \n",
       "2004-08-23   55.781053   49.084813   56.933168   48.452718   88.331593   \n",
       "2004-08-24   55.781053   49.084813   56.933168   48.452718   88.331593   \n",
       "2004-08-25   55.781053   49.084813   56.933168   48.452718   88.331593   \n",
       "\n",
       "            50_ac_bb_l  \n",
       "Date                    \n",
       "2004-08-19   38.842381  \n",
       "2004-08-20   38.842381  \n",
       "2004-08-23   38.842381  \n",
       "2004-08-24   38.842381  \n",
       "2004-08-25   38.842381  "
      ]
     },
     "execution_count": 158,
     "metadata": {},
     "output_type": "execute_result"
    }
   ],
   "source": [
    "df_googl_test.head()"
   ]
  },
  {
   "cell_type": "code",
   "execution_count": 159,
   "id": "under-crime",
   "metadata": {},
   "outputs": [
    {
     "data": {
      "text/html": [
       "<div>\n",
       "<style scoped>\n",
       "    .dataframe tbody tr th:only-of-type {\n",
       "        vertical-align: middle;\n",
       "    }\n",
       "\n",
       "    .dataframe tbody tr th {\n",
       "        vertical-align: top;\n",
       "    }\n",
       "\n",
       "    .dataframe thead th {\n",
       "        text-align: right;\n",
       "    }\n",
       "</style>\n",
       "<table border=\"1\" class=\"dataframe\">\n",
       "  <thead>\n",
       "    <tr style=\"text-align: right;\">\n",
       "      <th></th>\n",
       "      <th>Adj Close</th>\n",
       "      <th>Close</th>\n",
       "      <th>High</th>\n",
       "      <th>Low</th>\n",
       "      <th>Open</th>\n",
       "      <th>Volume</th>\n",
       "      <th>Dividends</th>\n",
       "      <th>Stock Splits</th>\n",
       "      <th>10_ac_ma</th>\n",
       "      <th>20_ac_ma</th>\n",
       "      <th>50_ac_ma</th>\n",
       "      <th>10_ac_bb_u</th>\n",
       "      <th>10_ac_bb_l</th>\n",
       "      <th>20_ac_bb_u</th>\n",
       "      <th>20_ac_bb_l</th>\n",
       "      <th>50_ac_bb_u</th>\n",
       "      <th>50_ac_bb_l</th>\n",
       "    </tr>\n",
       "    <tr>\n",
       "      <th>Date</th>\n",
       "      <th></th>\n",
       "      <th></th>\n",
       "      <th></th>\n",
       "      <th></th>\n",
       "      <th></th>\n",
       "      <th></th>\n",
       "      <th></th>\n",
       "      <th></th>\n",
       "      <th></th>\n",
       "      <th></th>\n",
       "      <th></th>\n",
       "      <th></th>\n",
       "      <th></th>\n",
       "      <th></th>\n",
       "      <th></th>\n",
       "      <th></th>\n",
       "      <th></th>\n",
       "    </tr>\n",
       "  </thead>\n",
       "  <tbody>\n",
       "    <tr>\n",
       "      <th>2021-03-19</th>\n",
       "      <td>2026.959961</td>\n",
       "      <td>2026.959961</td>\n",
       "      <td>2037.040039</td>\n",
       "      <td>2002.930054</td>\n",
       "      <td>2029.729980</td>\n",
       "      <td>2302700.0</td>\n",
       "      <td>NaN</td>\n",
       "      <td>NaN</td>\n",
       "      <td>2050.343970</td>\n",
       "      <td>2050.801996</td>\n",
       "      <td>1977.966794</td>\n",
       "      <td>2110.719150</td>\n",
       "      <td>1989.968790</td>\n",
       "      <td>2108.769815</td>\n",
       "      <td>1992.834177</td>\n",
       "      <td>2230.033286</td>\n",
       "      <td>1725.900303</td>\n",
       "    </tr>\n",
       "    <tr>\n",
       "      <th>2021-03-22</th>\n",
       "      <td>2030.689941</td>\n",
       "      <td>2030.689941</td>\n",
       "      <td>2048.340088</td>\n",
       "      <td>2014.000000</td>\n",
       "      <td>2027.630005</td>\n",
       "      <td>1676800.0</td>\n",
       "      <td>NaN</td>\n",
       "      <td>NaN</td>\n",
       "      <td>2052.662964</td>\n",
       "      <td>2049.623492</td>\n",
       "      <td>1983.093794</td>\n",
       "      <td>2107.225927</td>\n",
       "      <td>1998.100001</td>\n",
       "      <td>2108.249933</td>\n",
       "      <td>1990.997052</td>\n",
       "      <td>2228.598041</td>\n",
       "      <td>1737.589547</td>\n",
       "    </tr>\n",
       "    <tr>\n",
       "      <th>2021-03-23</th>\n",
       "      <td>2041.329956</td>\n",
       "      <td>2041.329956</td>\n",
       "      <td>2064.110107</td>\n",
       "      <td>2028.000000</td>\n",
       "      <td>2039.949951</td>\n",
       "      <td>1425500.0</td>\n",
       "      <td>NaN</td>\n",
       "      <td>NaN</td>\n",
       "      <td>2052.759961</td>\n",
       "      <td>2048.683984</td>\n",
       "      <td>1987.963794</td>\n",
       "      <td>2107.229087</td>\n",
       "      <td>1998.290835</td>\n",
       "      <td>2107.204305</td>\n",
       "      <td>1990.163664</td>\n",
       "      <td>2228.069047</td>\n",
       "      <td>1747.858541</td>\n",
       "    </tr>\n",
       "    <tr>\n",
       "      <th>2021-03-24</th>\n",
       "      <td>2032.530029</td>\n",
       "      <td>2032.530029</td>\n",
       "      <td>2067.600098</td>\n",
       "      <td>2029.000000</td>\n",
       "      <td>2051.760010</td>\n",
       "      <td>1260900.0</td>\n",
       "      <td>NaN</td>\n",
       "      <td>NaN</td>\n",
       "      <td>2052.393970</td>\n",
       "      <td>2046.119983</td>\n",
       "      <td>1993.488594</td>\n",
       "      <td>2107.404425</td>\n",
       "      <td>1997.383515</td>\n",
       "      <td>2102.618906</td>\n",
       "      <td>1989.621059</td>\n",
       "      <td>2224.370890</td>\n",
       "      <td>1762.606297</td>\n",
       "    </tr>\n",
       "    <tr>\n",
       "      <th>2021-03-25</th>\n",
       "      <td>2032.459961</td>\n",
       "      <td>2032.459961</td>\n",
       "      <td>2045.640015</td>\n",
       "      <td>1996.089966</td>\n",
       "      <td>2029.050049</td>\n",
       "      <td>1780800.0</td>\n",
       "      <td>NaN</td>\n",
       "      <td>NaN</td>\n",
       "      <td>2045.585962</td>\n",
       "      <td>2046.945483</td>\n",
       "      <td>1999.389192</td>\n",
       "      <td>2089.931418</td>\n",
       "      <td>2001.240505</td>\n",
       "      <td>2102.053695</td>\n",
       "      <td>1991.837272</td>\n",
       "      <td>2218.332520</td>\n",
       "      <td>1780.445864</td>\n",
       "    </tr>\n",
       "  </tbody>\n",
       "</table>\n",
       "</div>"
      ],
      "text/plain": [
       "              Adj Close        Close         High          Low         Open  \\\n",
       "Date                                                                          \n",
       "2021-03-19  2026.959961  2026.959961  2037.040039  2002.930054  2029.729980   \n",
       "2021-03-22  2030.689941  2030.689941  2048.340088  2014.000000  2027.630005   \n",
       "2021-03-23  2041.329956  2041.329956  2064.110107  2028.000000  2039.949951   \n",
       "2021-03-24  2032.530029  2032.530029  2067.600098  2029.000000  2051.760010   \n",
       "2021-03-25  2032.459961  2032.459961  2045.640015  1996.089966  2029.050049   \n",
       "\n",
       "               Volume  Dividends  Stock Splits     10_ac_ma     20_ac_ma  \\\n",
       "Date                                                                       \n",
       "2021-03-19  2302700.0        NaN           NaN  2050.343970  2050.801996   \n",
       "2021-03-22  1676800.0        NaN           NaN  2052.662964  2049.623492   \n",
       "2021-03-23  1425500.0        NaN           NaN  2052.759961  2048.683984   \n",
       "2021-03-24  1260900.0        NaN           NaN  2052.393970  2046.119983   \n",
       "2021-03-25  1780800.0        NaN           NaN  2045.585962  2046.945483   \n",
       "\n",
       "               50_ac_ma   10_ac_bb_u   10_ac_bb_l   20_ac_bb_u   20_ac_bb_l  \\\n",
       "Date                                                                          \n",
       "2021-03-19  1977.966794  2110.719150  1989.968790  2108.769815  1992.834177   \n",
       "2021-03-22  1983.093794  2107.225927  1998.100001  2108.249933  1990.997052   \n",
       "2021-03-23  1987.963794  2107.229087  1998.290835  2107.204305  1990.163664   \n",
       "2021-03-24  1993.488594  2107.404425  1997.383515  2102.618906  1989.621059   \n",
       "2021-03-25  1999.389192  2089.931418  2001.240505  2102.053695  1991.837272   \n",
       "\n",
       "             50_ac_bb_u   50_ac_bb_l  \n",
       "Date                                  \n",
       "2021-03-19  2230.033286  1725.900303  \n",
       "2021-03-22  2228.598041  1737.589547  \n",
       "2021-03-23  2228.069047  1747.858541  \n",
       "2021-03-24  2224.370890  1762.606297  \n",
       "2021-03-25  2218.332520  1780.445864  "
      ]
     },
     "execution_count": 159,
     "metadata": {},
     "output_type": "execute_result"
    }
   ],
   "source": [
    "df_googl_valid.head()"
   ]
  },
  {
   "cell_type": "markdown",
   "id": "entire-providence",
   "metadata": {},
   "source": [
    "### Metrics computation"
   ]
  },
  {
   "cell_type": "markdown",
   "id": "japanese-frame",
   "metadata": {},
   "source": [
    "Computing metrics on the benchmark model will give me a good reference to evaluate the deep learning model after training."
   ]
  },
  {
   "cell_type": "markdown",
   "id": "honey-lighting",
   "metadata": {},
   "source": [
    "As can be presumed and seen from data prints, first `n` values of validation data are `NaN` so, it will be better just to exclude the first `n-1` values from the validation set to avoid misleading values to be catch in metrics evaluation. "
   ]
  },
  {
   "cell_type": "code",
   "execution_count": 160,
   "id": "resistant-index",
   "metadata": {},
   "outputs": [],
   "source": [
    "from sklearn.metrics import mean_absolute_error, mean_squared_error, mean_absolute_percentage_error, r2_score"
   ]
  },
  {
   "cell_type": "markdown",
   "id": "pregnant-vacation",
   "metadata": {},
   "source": [
    "#### IBM stock"
   ]
  },
  {
   "cell_type": "code",
   "execution_count": 161,
   "id": "wooden-platform",
   "metadata": {},
   "outputs": [],
   "source": [
    "#n = 10\n",
    "#ma_str = str(n)+'_ac_ma'"
   ]
  },
  {
   "cell_type": "code",
   "execution_count": 162,
   "id": "intended-deposit",
   "metadata": {},
   "outputs": [],
   "source": [
    "#ibm_ma_mse_loss = mean_squared_error(df_ibm_valid.iloc[n-1:]['Adj Close'], df_ibm_valid.iloc[n-1:][ma_str])"
   ]
  },
  {
   "cell_type": "code",
   "execution_count": 163,
   "id": "cutting-consent",
   "metadata": {},
   "outputs": [],
   "source": [
    "#print(ibm_ma_mse_loss)"
   ]
  },
  {
   "cell_type": "code",
   "execution_count": 164,
   "id": "experienced-infection",
   "metadata": {},
   "outputs": [],
   "source": [
    "n = 20\n",
    "ma_str = str(n)+'_ac_ma'"
   ]
  },
  {
   "cell_type": "markdown",
   "id": "armed-machine",
   "metadata": {},
   "source": [
    "Mean Absolute Error"
   ]
  },
  {
   "cell_type": "code",
   "execution_count": 165,
   "id": "preliminary-breach",
   "metadata": {},
   "outputs": [],
   "source": [
    "ibm_ma_mae_loss = mean_absolute_error(df_ibm_valid.iloc[:]['Adj Close'], df_ibm_valid[:][ma_str])"
   ]
  },
  {
   "cell_type": "code",
   "execution_count": 166,
   "id": "coordinated-adams",
   "metadata": {},
   "outputs": [
    {
     "name": "stdout",
     "output_type": "stream",
     "text": [
      "4.033148365020752\n"
     ]
    }
   ],
   "source": [
    "print(ibm_ma_mae_loss)"
   ]
  },
  {
   "cell_type": "markdown",
   "id": "earlier-thailand",
   "metadata": {},
   "source": [
    "Root Mean Squared Error"
   ]
  },
  {
   "cell_type": "code",
   "execution_count": 167,
   "id": "uniform-occasion",
   "metadata": {},
   "outputs": [],
   "source": [
    "ibm_ma_mse_loss = mean_squared_error(df_ibm_valid.iloc[:]['Adj Close'], df_ibm_valid[:][ma_str], squared=False)"
   ]
  },
  {
   "cell_type": "code",
   "execution_count": 168,
   "id": "divided-young",
   "metadata": {},
   "outputs": [
    {
     "name": "stdout",
     "output_type": "stream",
     "text": [
      "4.673916323212443\n"
     ]
    }
   ],
   "source": [
    "print(ibm_ma_mse_loss)"
   ]
  },
  {
   "cell_type": "markdown",
   "id": "comprehensive-reservoir",
   "metadata": {},
   "source": [
    "Mean Absolute Percentage Error"
   ]
  },
  {
   "cell_type": "code",
   "execution_count": 169,
   "id": "serious-location",
   "metadata": {},
   "outputs": [],
   "source": [
    "ibm_ma_map_loss = mean_absolute_percentage_error(df_ibm_valid.iloc[:]['Adj Close'], df_ibm_valid[:][ma_str])"
   ]
  },
  {
   "cell_type": "code",
   "execution_count": 170,
   "id": "leading-algeria",
   "metadata": {},
   "outputs": [
    {
     "name": "stdout",
     "output_type": "stream",
     "text": [
      "0.030186435471614002\n"
     ]
    }
   ],
   "source": [
    "print(ibm_ma_map_loss)"
   ]
  },
  {
   "cell_type": "markdown",
   "id": "experienced-prairie",
   "metadata": {},
   "source": [
    "R<sup>2</sup> score"
   ]
  },
  {
   "cell_type": "code",
   "execution_count": 171,
   "id": "anticipated-threat",
   "metadata": {},
   "outputs": [],
   "source": [
    "ibm_ma_r2_score = r2_score(df_ibm_valid.iloc[:]['Adj Close'], df_ibm_valid[:][ma_str])"
   ]
  },
  {
   "cell_type": "code",
   "execution_count": 172,
   "id": "pursuant-storage",
   "metadata": {},
   "outputs": [
    {
     "name": "stdout",
     "output_type": "stream",
     "text": [
      "-4.021170554272494\n"
     ]
    }
   ],
   "source": [
    "print(ibm_ma_r2_score)"
   ]
  },
  {
   "cell_type": "code",
   "execution_count": 173,
   "id": "forbidden-notebook",
   "metadata": {},
   "outputs": [],
   "source": [
    "#n = 50\n",
    "#ma_str = str(n)+'_ac_ma'"
   ]
  },
  {
   "cell_type": "code",
   "execution_count": 174,
   "id": "suitable-stuff",
   "metadata": {},
   "outputs": [],
   "source": [
    "#ibm_ma_mse_loss = mean_squared_error(df_ibm_valid.iloc[n-1:]['Adj Close'], df_ibm_valid[n-1:][ma_str])"
   ]
  },
  {
   "cell_type": "code",
   "execution_count": 175,
   "id": "planned-chile",
   "metadata": {},
   "outputs": [],
   "source": [
    "#print(ibm_ma_mse_loss)"
   ]
  },
  {
   "cell_type": "markdown",
   "id": "unique-accounting",
   "metadata": {},
   "source": [
    "#### Apple Inc. stock"
   ]
  },
  {
   "cell_type": "code",
   "execution_count": 176,
   "id": "small-picking",
   "metadata": {},
   "outputs": [],
   "source": [
    "#n = 10\n",
    "#ma_str = str(n)+'_ac_ma'"
   ]
  },
  {
   "cell_type": "code",
   "execution_count": 177,
   "id": "spatial-number",
   "metadata": {},
   "outputs": [],
   "source": [
    "#aapl_ma_mse_loss = mean_squared_error(df_aapl_valid.iloc[n-1:]['Adj Close'], df_aapl_valid.iloc[n-1:][ma_str])"
   ]
  },
  {
   "cell_type": "code",
   "execution_count": 178,
   "id": "immediate-birth",
   "metadata": {},
   "outputs": [],
   "source": [
    "#print(aapl_ma_mse_loss)"
   ]
  },
  {
   "cell_type": "code",
   "execution_count": 179,
   "id": "homeless-namibia",
   "metadata": {},
   "outputs": [],
   "source": [
    "n = 20\n",
    "ma_str = str(n)+'_ac_ma'"
   ]
  },
  {
   "cell_type": "markdown",
   "id": "christian-judges",
   "metadata": {},
   "source": [
    "Mean Absolute Error"
   ]
  },
  {
   "cell_type": "code",
   "execution_count": 180,
   "id": "driving-montana",
   "metadata": {},
   "outputs": [],
   "source": [
    "aapl_ma_mae_loss = mean_absolute_error(df_aapl_valid.iloc[:]['Adj Close'], df_aapl_valid[:][ma_str])"
   ]
  },
  {
   "cell_type": "code",
   "execution_count": 181,
   "id": "pressing-looking",
   "metadata": {},
   "outputs": [
    {
     "name": "stdout",
     "output_type": "stream",
     "text": [
      "4.125100803375243\n"
     ]
    }
   ],
   "source": [
    "print(aapl_ma_mae_loss)"
   ]
  },
  {
   "cell_type": "markdown",
   "id": "important-seminar",
   "metadata": {},
   "source": [
    "##### Root Mean Squared Error"
   ]
  },
  {
   "cell_type": "code",
   "execution_count": 182,
   "id": "favorite-segment",
   "metadata": {},
   "outputs": [],
   "source": [
    "aapl_ma_rmse_loss = mean_squared_error(df_aapl_valid.iloc[:]['Adj Close'], df_aapl_valid[:][ma_str], squared=False)"
   ]
  },
  {
   "cell_type": "code",
   "execution_count": 183,
   "id": "after-command",
   "metadata": {},
   "outputs": [
    {
     "name": "stdout",
     "output_type": "stream",
     "text": [
      "5.273220267048253\n"
     ]
    }
   ],
   "source": [
    "print(aapl_ma_rmse_loss)"
   ]
  },
  {
   "cell_type": "markdown",
   "id": "aquatic-territory",
   "metadata": {},
   "source": [
    "##### Mean Absolute Percentage Error"
   ]
  },
  {
   "cell_type": "code",
   "execution_count": 184,
   "id": "tight-frequency",
   "metadata": {},
   "outputs": [],
   "source": [
    "aapl_ma_map_loss = mean_absolute_percentage_error(df_aapl_valid.iloc[:]['Adj Close'], df_aapl_valid[:][ma_str])"
   ]
  },
  {
   "cell_type": "code",
   "execution_count": 185,
   "id": "prostate-arlington",
   "metadata": {},
   "outputs": [
    {
     "name": "stdout",
     "output_type": "stream",
     "text": [
      "0.03171177121153868\n"
     ]
    }
   ],
   "source": [
    "print(aapl_ma_map_loss)"
   ]
  },
  {
   "cell_type": "markdown",
   "id": "false-trauma",
   "metadata": {},
   "source": [
    "R<sup>2</sup> score"
   ]
  },
  {
   "cell_type": "code",
   "execution_count": 186,
   "id": "opponent-resource",
   "metadata": {},
   "outputs": [],
   "source": [
    "aapl_ma_r2_score = r2_score(df_aapl_valid.iloc[:]['Adj Close'], df_aapl_valid[:][ma_str])"
   ]
  },
  {
   "cell_type": "code",
   "execution_count": 187,
   "id": "amber-brunei",
   "metadata": {},
   "outputs": [
    {
     "name": "stdout",
     "output_type": "stream",
     "text": [
      "0.0224850740131185\n"
     ]
    }
   ],
   "source": [
    "print(aapl_ma_r2_score)"
   ]
  },
  {
   "cell_type": "code",
   "execution_count": 188,
   "id": "noted-louis",
   "metadata": {},
   "outputs": [],
   "source": [
    "#n = 50\n",
    "#ma_str = str(n)+'_ac_ma'"
   ]
  },
  {
   "cell_type": "code",
   "execution_count": 189,
   "id": "isolated-sociology",
   "metadata": {},
   "outputs": [],
   "source": [
    "#aapl_ma_mse_loss = mean_squared_error(df_aapl_valid.iloc[n-1:]['Adj Close'], df_aapl_valid[n-1:][ma_str])"
   ]
  },
  {
   "cell_type": "code",
   "execution_count": 190,
   "id": "european-undergraduate",
   "metadata": {},
   "outputs": [],
   "source": [
    "#print(aapl_ma_mse_loss)"
   ]
  },
  {
   "cell_type": "markdown",
   "id": "massive-intranet",
   "metadata": {},
   "source": [
    "#### Amazon.com stock"
   ]
  },
  {
   "cell_type": "code",
   "execution_count": 191,
   "id": "stainless-sport",
   "metadata": {},
   "outputs": [],
   "source": [
    "#n = 10\n",
    "#ma_str = str(n)+'_ac_ma'"
   ]
  },
  {
   "cell_type": "code",
   "execution_count": 192,
   "id": "descending-strain",
   "metadata": {},
   "outputs": [],
   "source": [
    "#amzn_ma_mse_loss = mean_squared_error(df_amzn_valid.iloc[n-1:]['Adj Close'], df_amzn_valid.iloc[n-1:][ma_str])"
   ]
  },
  {
   "cell_type": "code",
   "execution_count": 193,
   "id": "indonesian-audit",
   "metadata": {},
   "outputs": [],
   "source": [
    "#print(amzn_ma_mse_loss)"
   ]
  },
  {
   "cell_type": "code",
   "execution_count": 194,
   "id": "diagnostic-butter",
   "metadata": {},
   "outputs": [],
   "source": [
    "n = 20\n",
    "ma_str = str(n)+'_ac_ma'"
   ]
  },
  {
   "cell_type": "markdown",
   "id": "commercial-force",
   "metadata": {},
   "source": [
    "Mean Absolute Error"
   ]
  },
  {
   "cell_type": "code",
   "execution_count": 195,
   "id": "controlling-reason",
   "metadata": {},
   "outputs": [],
   "source": [
    "amzn_ma_mae_loss = mean_absolute_error(df_amzn_valid.iloc[:]['Adj Close'], df_amzn_valid[:][ma_str])"
   ]
  },
  {
   "cell_type": "code",
   "execution_count": 196,
   "id": "descending-liberia",
   "metadata": {},
   "outputs": [
    {
     "name": "stdout",
     "output_type": "stream",
     "text": [
      "106.48609680175782\n"
     ]
    }
   ],
   "source": [
    "print(amzn_ma_mae_loss)"
   ]
  },
  {
   "cell_type": "markdown",
   "id": "expired-deputy",
   "metadata": {},
   "source": [
    "Root Mean Squared Error"
   ]
  },
  {
   "cell_type": "code",
   "execution_count": 197,
   "id": "computational-boring",
   "metadata": {},
   "outputs": [],
   "source": [
    "amzn_ma_rmse_loss = mean_squared_error(df_amzn_valid.iloc[:]['Adj Close'], df_amzn_valid[:][ma_str], squared=False)"
   ]
  },
  {
   "cell_type": "code",
   "execution_count": 198,
   "id": "legal-canal",
   "metadata": {},
   "outputs": [
    {
     "name": "stdout",
     "output_type": "stream",
     "text": [
      "135.42556190249684\n"
     ]
    }
   ],
   "source": [
    "print(amzn_ma_rmse_loss)"
   ]
  },
  {
   "cell_type": "markdown",
   "id": "possible-assistant",
   "metadata": {},
   "source": [
    "##### Mean Absolute Percentage Error"
   ]
  },
  {
   "cell_type": "code",
   "execution_count": 199,
   "id": "conceptual-keeping",
   "metadata": {},
   "outputs": [],
   "source": [
    "amzn_ma_map_loss = mean_absolute_percentage_error(df_amzn_valid.iloc[:]['Adj Close'], df_amzn_valid[:][ma_str])"
   ]
  },
  {
   "cell_type": "code",
   "execution_count": 200,
   "id": "extensive-proportion",
   "metadata": {},
   "outputs": [
    {
     "name": "stdout",
     "output_type": "stream",
     "text": [
      "0.03220080058758169\n"
     ]
    }
   ],
   "source": [
    "print(amzn_ma_map_loss)"
   ]
  },
  {
   "cell_type": "markdown",
   "id": "awful-migration",
   "metadata": {},
   "source": [
    "R<sup>2</sup> score"
   ]
  },
  {
   "cell_type": "code",
   "execution_count": 201,
   "id": "marked-canal",
   "metadata": {},
   "outputs": [],
   "source": [
    "amzn_ma_r2_score = r2_score(df_amzn_valid.iloc[:]['Adj Close'], df_amzn_valid[:][ma_str])"
   ]
  },
  {
   "cell_type": "code",
   "execution_count": 202,
   "id": "complex-cleaning",
   "metadata": {},
   "outputs": [
    {
     "name": "stdout",
     "output_type": "stream",
     "text": [
      "-0.07264587834183422\n"
     ]
    }
   ],
   "source": [
    "print(amzn_ma_r2_score)"
   ]
  },
  {
   "cell_type": "code",
   "execution_count": 203,
   "id": "preliminary-string",
   "metadata": {},
   "outputs": [],
   "source": [
    "#n = 50\n",
    "#ma_str = str(n)+'_ac_ma'"
   ]
  },
  {
   "cell_type": "code",
   "execution_count": 204,
   "id": "literary-asbestos",
   "metadata": {},
   "outputs": [],
   "source": [
    "#amzn_ma_mse_loss = mean_squared_error(df_amzn_valid.iloc[n-1:]['Adj Close'], df_amzn_valid[n-1:][ma_str])"
   ]
  },
  {
   "cell_type": "code",
   "execution_count": 205,
   "id": "close-spokesman",
   "metadata": {},
   "outputs": [],
   "source": [
    "#print(amzn_ma_mse_loss)"
   ]
  },
  {
   "cell_type": "markdown",
   "id": "polished-reaction",
   "metadata": {},
   "source": [
    "#### Alphabet Inc. stock"
   ]
  },
  {
   "cell_type": "code",
   "execution_count": 206,
   "id": "quarterly-analysis",
   "metadata": {},
   "outputs": [],
   "source": [
    "#n = 10\n",
    "#ma_str = str(n)+'_ac_ma'"
   ]
  },
  {
   "cell_type": "code",
   "execution_count": 207,
   "id": "official-illinois",
   "metadata": {},
   "outputs": [],
   "source": [
    "#googl_ma_mse_loss = mean_squared_error(df_googl_valid.iloc[n-1:]['Adj Close'], df_googl_valid.iloc[n-1:][ma_str])"
   ]
  },
  {
   "cell_type": "code",
   "execution_count": 208,
   "id": "considerable-investment",
   "metadata": {},
   "outputs": [],
   "source": [
    "#print(googl_ma_mse_loss)"
   ]
  },
  {
   "cell_type": "code",
   "execution_count": 209,
   "id": "natural-murder",
   "metadata": {},
   "outputs": [],
   "source": [
    "n = 20\n",
    "ma_str = str(n)+'_ac_ma'"
   ]
  },
  {
   "cell_type": "markdown",
   "id": "looking-confirmation",
   "metadata": {},
   "source": [
    "Mean Absolute Error"
   ]
  },
  {
   "cell_type": "code",
   "execution_count": 210,
   "id": "excited-wiring",
   "metadata": {},
   "outputs": [],
   "source": [
    "googl_ma_mae_loss = mean_absolute_error(df_googl_valid.iloc[:]['Adj Close'], df_googl_valid[:][ma_str])"
   ]
  },
  {
   "cell_type": "code",
   "execution_count": 211,
   "id": "amino-empty",
   "metadata": {},
   "outputs": [
    {
     "name": "stdout",
     "output_type": "stream",
     "text": [
      "83.27505523681639\n"
     ]
    }
   ],
   "source": [
    "print(googl_ma_mae_loss)"
   ]
  },
  {
   "cell_type": "markdown",
   "id": "cordless-packet",
   "metadata": {},
   "source": [
    "Root Mean Squared Error"
   ]
  },
  {
   "cell_type": "code",
   "execution_count": 212,
   "id": "provincial-century",
   "metadata": {},
   "outputs": [],
   "source": [
    "googl_ma_rmse_loss = mean_squared_error(df_googl_valid.iloc[:]['Adj Close'], df_googl_valid[:][ma_str], squared=False)"
   ]
  },
  {
   "cell_type": "code",
   "execution_count": 213,
   "id": "fantastic-keyboard",
   "metadata": {},
   "outputs": [
    {
     "name": "stdout",
     "output_type": "stream",
     "text": [
      "106.54646100406165\n"
     ]
    }
   ],
   "source": [
    "print(googl_ma_rmse_loss)"
   ]
  },
  {
   "cell_type": "markdown",
   "id": "tutorial-forestry",
   "metadata": {},
   "source": [
    "##### Mean Absolute Percentage Error"
   ]
  },
  {
   "cell_type": "code",
   "execution_count": 214,
   "id": "latest-powell",
   "metadata": {},
   "outputs": [],
   "source": [
    "googl_ma_map_loss = mean_absolute_percentage_error(df_googl_valid.iloc[:]['Adj Close'], df_googl_valid[:][ma_str])"
   ]
  },
  {
   "cell_type": "code",
   "execution_count": 215,
   "id": "controlling-printing",
   "metadata": {},
   "outputs": [
    {
     "name": "stdout",
     "output_type": "stream",
     "text": [
      "0.037390411229982795\n"
     ]
    }
   ],
   "source": [
    "print(googl_ma_map_loss)"
   ]
  },
  {
   "cell_type": "markdown",
   "id": "egyptian-lodge",
   "metadata": {},
   "source": [
    "R<sup>2</sup> score"
   ]
  },
  {
   "cell_type": "code",
   "execution_count": 216,
   "id": "involved-intervention",
   "metadata": {},
   "outputs": [],
   "source": [
    "googl_ma_r2_score = r2_score(df_googl_valid.iloc[:]['Adj Close'], df_googl_valid[:][ma_str])"
   ]
  },
  {
   "cell_type": "code",
   "execution_count": 217,
   "id": "welcome-outline",
   "metadata": {},
   "outputs": [
    {
     "name": "stdout",
     "output_type": "stream",
     "text": [
      "-0.03602134087429065\n"
     ]
    }
   ],
   "source": [
    "print(googl_ma_r2_score)"
   ]
  },
  {
   "cell_type": "code",
   "execution_count": 218,
   "id": "solved-practice",
   "metadata": {},
   "outputs": [],
   "source": [
    "#n = 50\n",
    "#ma_str = str(n)+'_ac_ma'"
   ]
  },
  {
   "cell_type": "code",
   "execution_count": 219,
   "id": "victorian-rendering",
   "metadata": {},
   "outputs": [],
   "source": [
    "#googl_ma_mse_loss = mean_squared_error(df_googl_valid.iloc[n-1:]['Adj Close'], df_googl_valid[n-1:][ma_str])"
   ]
  },
  {
   "cell_type": "code",
   "execution_count": 220,
   "id": "continent-signature",
   "metadata": {},
   "outputs": [],
   "source": [
    "#print(googl_ma_mse_loss)"
   ]
  },
  {
   "cell_type": "markdown",
   "id": "loved-muslim",
   "metadata": {},
   "source": [
    "Volatility"
   ]
  },
  {
   "cell_type": "code",
   "execution_count": 221,
   "id": "burning-illness",
   "metadata": {},
   "outputs": [
    {
     "name": "stdout",
     "output_type": "stream",
     "text": [
      "0.22898302675871207\n"
     ]
    }
   ],
   "source": [
    "print(volatility(df_ibm_valid['Adj Close'], n))"
   ]
  },
  {
   "cell_type": "code",
   "execution_count": 222,
   "id": "divine-paradise",
   "metadata": {},
   "outputs": [
    {
     "name": "stdout",
     "output_type": "stream",
     "text": [
      "1.4971827913918478\n"
     ]
    }
   ],
   "source": [
    "print(volatility(df_aapl_valid['Adj Close'], n))"
   ]
  },
  {
   "cell_type": "code",
   "execution_count": 223,
   "id": "therapeutic-roads",
   "metadata": {},
   "outputs": [
    {
     "name": "stdout",
     "output_type": "stream",
     "text": [
      "899.8939315887699\n"
     ]
    }
   ],
   "source": [
    "print(volatility(df_amzn_valid['Adj Close'], n))"
   ]
  },
  {
   "cell_type": "code",
   "execution_count": 224,
   "id": "dietary-egyptian",
   "metadata": {},
   "outputs": [
    {
     "name": "stdout",
     "output_type": "stream",
     "text": [
      "576.7077073259011\n"
     ]
    }
   ],
   "source": [
    "print(volatility(df_googl_valid['Adj Close'], n))"
   ]
  },
  {
   "cell_type": "markdown",
   "id": "seeing-mobility",
   "metadata": {},
   "source": [
    "As expected, loss augments as we observe moving average on larger windows.\n",
    "Also, we can observe that Amazon.com and Alphabet Inc. have greater losses, that also corresponds to higher volatility."
   ]
  },
  {
   "cell_type": "markdown",
   "id": "sustainable-trial",
   "metadata": {},
   "source": [
    "Now I'll initialize an array of moving average values on validation data, to be used in future model comparison:"
   ]
  },
  {
   "cell_type": "code",
   "execution_count": 225,
   "id": "refined-microwave",
   "metadata": {},
   "outputs": [],
   "source": [
    "ser_valid_ma = [df_ibm_valid[:][ma_str], df_aapl_valid[:][ma_str], df_amzn_valid[:][ma_str], df_googl_valid[:][ma_str]]"
   ]
  }
 ],
 "metadata": {
  "kernelspec": {
   "display_name": "conda_pytorch_p36",
   "language": "python",
   "name": "conda_pytorch_p36"
  },
  "language_info": {
   "codemirror_mode": {
    "name": "ipython",
    "version": 3
   },
   "file_extension": ".py",
   "mimetype": "text/x-python",
   "name": "python",
   "nbconvert_exporter": "python",
   "pygments_lexer": "ipython3",
   "version": "3.6.13"
  }
 },
 "nbformat": 4,
 "nbformat_minor": 5
}
