{
 "cells": [
  {
   "cell_type": "markdown",
   "id": "normal-benjamin",
   "metadata": {},
   "source": [
    "## Benchmark model"
   ]
  },
  {
   "cell_type": "markdown",
   "id": "subjective-transfer",
   "metadata": {},
   "source": [
    "### Train, test and validation split"
   ]
  },
  {
   "cell_type": "markdown",
   "id": "alone-supplier",
   "metadata": {},
   "source": [
    "IBM Stock train, test and validation split"
   ]
  },
  {
   "cell_type": "code",
   "execution_count": 66,
   "id": "colored-furniture",
   "metadata": {},
   "outputs": [
    {
     "name": "stdout",
     "output_type": "stream",
     "text": [
      "14886 13397 1190 299\n"
     ]
    }
   ],
   "source": [
    "train_size = int(len(df_ibm) * 0.90)\n",
    "test_size = int(len(df_ibm) * 0.08)\n",
    "valid_size = len(df_ibm) - (train_size + test_size)\n",
    "df_ibm_train, df_ibm_test, df_ibm_valid = df_ibm[0:train_size].copy(),\\\n",
    "                                            df_ibm[train_size:train_size+test_size].copy(),\\\n",
    "                                            df_ibm[train_size+test_size:len(df_ibm)].copy()\n",
    "print(len(df_ibm), len(df_ibm_train), len(df_ibm_test), len(df_ibm_valid))"
   ]
  },
  {
   "cell_type": "code",
   "execution_count": 49,
   "id": "lined-start",
   "metadata": {},
   "outputs": [],
   "source": [
    "assert(len(df_ibm) == (len(df_ibm_train) + len(df_ibm_test) + len(df_ibm_valid)))"
   ]
  },
  {
   "cell_type": "markdown",
   "id": "acknowledged-acoustic",
   "metadata": {},
   "source": [
    "Amazon Stock train test split"
   ]
  },
  {
   "cell_type": "code",
   "execution_count": 50,
   "id": "dirty-beginning",
   "metadata": {},
   "outputs": [
    {
     "name": "stdout",
     "output_type": "stream",
     "text": [
      "5981 5382 478 121\n"
     ]
    }
   ],
   "source": [
    "train_size = int(len(df_amzn) * 0.90)\n",
    "test_size = int(len(df_amzn) * 0.08)\n",
    "valid_size = len(df_amzn) - (train_size + test_size)\n",
    "df_amzn_train, df_amzn_test, df_amzn_valid = df_amzn[0:train_size].copy(),\\\n",
    "                                            df_amzn[train_size:train_size+test_size].copy(),\\\n",
    "                                            df_amzn[train_size+test_size:len(df_amzn)].copy()\n",
    "print(len(df_amzn), len(df_amzn_train), len(df_amzn_test), len(df_amzn_valid))"
   ]
  },
  {
   "cell_type": "code",
   "execution_count": 51,
   "id": "convinced-nicholas",
   "metadata": {},
   "outputs": [],
   "source": [
    "assert(len(df_amzn) == (len(df_amzn_train) + len(df_amzn_test) + len(df_amzn_valid)))"
   ]
  },
  {
   "cell_type": "markdown",
   "id": "established-portsmouth",
   "metadata": {},
   "source": [
    "Apple Inc. Stock train test split"
   ]
  },
  {
   "cell_type": "code",
   "execution_count": 72,
   "id": "fitted-flashing",
   "metadata": {},
   "outputs": [
    {
     "name": "stdout",
     "output_type": "stream",
     "text": [
      "10132 9118 810 204\n"
     ]
    }
   ],
   "source": [
    "train_size = int(len(df_aapl) * 0.90)\n",
    "test_size = int(len(df_aapl) * 0.08)\n",
    "valid_size = len(df_aapl) - (train_size + test_size)\n",
    "df_aapl_train, df_aapl_test, df_aapl_valid = df_aapl[0:train_size].copy(),\\\n",
    "                                            df_aapl[train_size:train_size+test_size].copy(),\\\n",
    "                                            df_aapl[train_size+test_size:len(df_aapl)].copy()\n",
    "print(len(df_aapl), len(df_aapl_train), len(df_aapl_test), len(df_aapl_valid))"
   ]
  },
  {
   "cell_type": "markdown",
   "id": "everyday-state",
   "metadata": {},
   "source": [
    "Alphabet Inc. Stock train test split"
   ]
  },
  {
   "cell_type": "code",
   "execution_count": 73,
   "id": "grave-toyota",
   "metadata": {},
   "outputs": [
    {
     "name": "stdout",
     "output_type": "stream",
     "text": [
      "4155 3739 332 84\n"
     ]
    }
   ],
   "source": [
    "train_size = int(len(df_googl) * 0.90)\n",
    "test_size = int(len(df_googl) * 0.08)\n",
    "valid_size = len(df_googl) - (train_size + test_size)\n",
    "df_googl_train, df_googl_test, df_googl_valid = df_googl[0:train_size].copy(),\\\n",
    "                                            df_googl[train_size:train_size+test_size].copy(),\\\n",
    "                                            df_googl[train_size+test_size:len(df_googl)].copy()\n",
    "print(len(df_googl), len(df_googl_train), len(df_googl_test), len(df_googl_valid))"
   ]
  },
  {
   "cell_type": "markdown",
   "id": "iraqi-settle",
   "metadata": {},
   "source": [
    "#### Simple Moving Average (SMA)"
   ]
  },
  {
   "cell_type": "markdown",
   "id": "incomplete-enhancement",
   "metadata": {},
   "source": [
    "Moving average is a techical indicator that smooths real data oscillations over time.\n",
    "It can aid in determining if an asset price will continue or if it will reverse a bull or bear trend.\n",
    "\n",
    "In this notebook, I'll use Simple Moving Average indicator as a benchmark model.\n",
    "In order to do this, I will compute it separately on training data and test data, to avoid leakage.\n",
    "\n",
    "SMA will be used in the project for three purposes:\n",
    "* Detect if some seasonal pattern is present in data\n",
    "* A benchmark for deep learning model performance\n",
    "* An additional feature to be used to train deep learning model"
   ]
  },
  {
   "cell_type": "markdown",
   "id": "rapid-subscription",
   "metadata": {},
   "source": [
    "Before moving to feature engineering, reference date index to be used to build the model will be defined:"
   ]
  },
  {
   "cell_type": "code",
   "execution_count": 74,
   "id": "adverse-mustang",
   "metadata": {},
   "outputs": [],
   "source": [
    "analysis_start_date = '2010-01-1'"
   ]
  },
  {
   "cell_type": "markdown",
   "id": "catholic-recruitment",
   "metadata": {},
   "source": [
    "Anyway, new feature will be computed on the whole dataframe. Plotting will be limited to `analysis_start_date`"
   ]
  },
  {
   "cell_type": "code",
   "execution_count": 75,
   "id": "medical-yemen",
   "metadata": {},
   "outputs": [],
   "source": [
    "from ta_utils.technical_indicators import moving_average"
   ]
  },
  {
   "cell_type": "markdown",
   "id": "convenient-spokesman",
   "metadata": {},
   "source": [
    "#### IBM stock moving averages"
   ]
  },
  {
   "cell_type": "code",
   "execution_count": 76,
   "id": "asian-bicycle",
   "metadata": {},
   "outputs": [],
   "source": [
    "# moving average sizes in days\n",
    "ma_d_sz = [10,20,50]\n",
    "\n",
    "# adding moving average columns to dataframe\n",
    "for mds in ma_d_sz:\n",
    "    column_name = \"%s_ac_ma\" %(str(mds))\n",
    "    df_ibm[column_name] = moving_average(df_ibm['Adj Close'], window_size=mds)\n",
    "    df_ibm_train[column_name] = moving_average(df_ibm_train['Adj Close'], window_size=mds)\n",
    "    df_ibm_test[column_name] = moving_average(df_ibm_test['Adj Close'], window_size=mds)"
   ]
  },
  {
   "cell_type": "code",
   "execution_count": 77,
   "id": "nasty-penetration",
   "metadata": {},
   "outputs": [
    {
     "data": {
      "text/html": [
       "<div>\n",
       "<style scoped>\n",
       "    .dataframe tbody tr th:only-of-type {\n",
       "        vertical-align: middle;\n",
       "    }\n",
       "\n",
       "    .dataframe tbody tr th {\n",
       "        vertical-align: top;\n",
       "    }\n",
       "\n",
       "    .dataframe thead th {\n",
       "        text-align: right;\n",
       "    }\n",
       "</style>\n",
       "<table border=\"1\" class=\"dataframe\">\n",
       "  <thead>\n",
       "    <tr style=\"text-align: right;\">\n",
       "      <th></th>\n",
       "      <th>Open</th>\n",
       "      <th>High</th>\n",
       "      <th>Low</th>\n",
       "      <th>Close</th>\n",
       "      <th>Adj Close</th>\n",
       "      <th>Volume</th>\n",
       "      <th>10_ac_ma</th>\n",
       "      <th>20_ac_ma</th>\n",
       "      <th>50_ac_ma</th>\n",
       "    </tr>\n",
       "    <tr>\n",
       "      <th>Date</th>\n",
       "      <th></th>\n",
       "      <th></th>\n",
       "      <th></th>\n",
       "      <th></th>\n",
       "      <th></th>\n",
       "      <th></th>\n",
       "      <th></th>\n",
       "      <th></th>\n",
       "      <th></th>\n",
       "    </tr>\n",
       "  </thead>\n",
       "  <tbody>\n",
       "    <tr>\n",
       "      <th>1962-01-02</th>\n",
       "      <td>7.713333</td>\n",
       "      <td>7.713333</td>\n",
       "      <td>7.626667</td>\n",
       "      <td>7.626667</td>\n",
       "      <td>1.858243</td>\n",
       "      <td>390000</td>\n",
       "      <td>NaN</td>\n",
       "      <td>NaN</td>\n",
       "      <td>NaN</td>\n",
       "    </tr>\n",
       "    <tr>\n",
       "      <th>1962-01-03</th>\n",
       "      <td>7.626667</td>\n",
       "      <td>7.693333</td>\n",
       "      <td>7.626667</td>\n",
       "      <td>7.693333</td>\n",
       "      <td>1.874485</td>\n",
       "      <td>292500</td>\n",
       "      <td>NaN</td>\n",
       "      <td>NaN</td>\n",
       "      <td>NaN</td>\n",
       "    </tr>\n",
       "    <tr>\n",
       "      <th>1962-01-04</th>\n",
       "      <td>7.693333</td>\n",
       "      <td>7.693333</td>\n",
       "      <td>7.613333</td>\n",
       "      <td>7.616667</td>\n",
       "      <td>1.855805</td>\n",
       "      <td>262500</td>\n",
       "      <td>NaN</td>\n",
       "      <td>NaN</td>\n",
       "      <td>NaN</td>\n",
       "    </tr>\n",
       "    <tr>\n",
       "      <th>1962-01-05</th>\n",
       "      <td>7.606667</td>\n",
       "      <td>7.606667</td>\n",
       "      <td>7.453333</td>\n",
       "      <td>7.466667</td>\n",
       "      <td>1.819257</td>\n",
       "      <td>367500</td>\n",
       "      <td>NaN</td>\n",
       "      <td>NaN</td>\n",
       "      <td>NaN</td>\n",
       "    </tr>\n",
       "    <tr>\n",
       "      <th>1962-01-08</th>\n",
       "      <td>7.460000</td>\n",
       "      <td>7.460000</td>\n",
       "      <td>7.266667</td>\n",
       "      <td>7.326667</td>\n",
       "      <td>1.785148</td>\n",
       "      <td>547500</td>\n",
       "      <td>NaN</td>\n",
       "      <td>NaN</td>\n",
       "      <td>NaN</td>\n",
       "    </tr>\n",
       "  </tbody>\n",
       "</table>\n",
       "</div>"
      ],
      "text/plain": [
       "                Open      High       Low     Close  Adj Close  Volume  \\\n",
       "Date                                                                    \n",
       "1962-01-02  7.713333  7.713333  7.626667  7.626667   1.858243  390000   \n",
       "1962-01-03  7.626667  7.693333  7.626667  7.693333   1.874485  292500   \n",
       "1962-01-04  7.693333  7.693333  7.613333  7.616667   1.855805  262500   \n",
       "1962-01-05  7.606667  7.606667  7.453333  7.466667   1.819257  367500   \n",
       "1962-01-08  7.460000  7.460000  7.266667  7.326667   1.785148  547500   \n",
       "\n",
       "            10_ac_ma  20_ac_ma  50_ac_ma  \n",
       "Date                                      \n",
       "1962-01-02       NaN       NaN       NaN  \n",
       "1962-01-03       NaN       NaN       NaN  \n",
       "1962-01-04       NaN       NaN       NaN  \n",
       "1962-01-05       NaN       NaN       NaN  \n",
       "1962-01-08       NaN       NaN       NaN  "
      ]
     },
     "execution_count": 77,
     "metadata": {},
     "output_type": "execute_result"
    }
   ],
   "source": [
    "df_ibm.head()"
   ]
  },
  {
   "cell_type": "markdown",
   "id": "gross-walker",
   "metadata": {},
   "source": [
    "Moving average feature is empty for the first *n* days, where *n* is the window size, so I'll use some backfill to fill NaN values"
   ]
  },
  {
   "cell_type": "code",
   "execution_count": 78,
   "id": "radical-disposal",
   "metadata": {},
   "outputs": [],
   "source": [
    "df_ibm.fillna(method='backfill', inplace=True)"
   ]
  },
  {
   "cell_type": "code",
   "execution_count": 79,
   "id": "imperial-desert",
   "metadata": {},
   "outputs": [
    {
     "data": {
      "text/html": [
       "<div>\n",
       "<style scoped>\n",
       "    .dataframe tbody tr th:only-of-type {\n",
       "        vertical-align: middle;\n",
       "    }\n",
       "\n",
       "    .dataframe tbody tr th {\n",
       "        vertical-align: top;\n",
       "    }\n",
       "\n",
       "    .dataframe thead th {\n",
       "        text-align: right;\n",
       "    }\n",
       "</style>\n",
       "<table border=\"1\" class=\"dataframe\">\n",
       "  <thead>\n",
       "    <tr style=\"text-align: right;\">\n",
       "      <th></th>\n",
       "      <th>Open</th>\n",
       "      <th>High</th>\n",
       "      <th>Low</th>\n",
       "      <th>Close</th>\n",
       "      <th>Adj Close</th>\n",
       "      <th>Volume</th>\n",
       "      <th>10_ac_ma</th>\n",
       "      <th>20_ac_ma</th>\n",
       "      <th>50_ac_ma</th>\n",
       "    </tr>\n",
       "    <tr>\n",
       "      <th>Date</th>\n",
       "      <th></th>\n",
       "      <th></th>\n",
       "      <th></th>\n",
       "      <th></th>\n",
       "      <th></th>\n",
       "      <th></th>\n",
       "      <th></th>\n",
       "      <th></th>\n",
       "      <th></th>\n",
       "    </tr>\n",
       "  </thead>\n",
       "  <tbody>\n",
       "    <tr>\n",
       "      <th>1962-01-02</th>\n",
       "      <td>7.713333</td>\n",
       "      <td>7.713333</td>\n",
       "      <td>7.626667</td>\n",
       "      <td>7.626667</td>\n",
       "      <td>1.858243</td>\n",
       "      <td>390000</td>\n",
       "      <td>1.831034</td>\n",
       "      <td>1.806507</td>\n",
       "      <td>1.787152</td>\n",
       "    </tr>\n",
       "    <tr>\n",
       "      <th>1962-01-03</th>\n",
       "      <td>7.626667</td>\n",
       "      <td>7.693333</td>\n",
       "      <td>7.626667</td>\n",
       "      <td>7.693333</td>\n",
       "      <td>1.874485</td>\n",
       "      <td>292500</td>\n",
       "      <td>1.831034</td>\n",
       "      <td>1.806507</td>\n",
       "      <td>1.787152</td>\n",
       "    </tr>\n",
       "    <tr>\n",
       "      <th>1962-01-04</th>\n",
       "      <td>7.693333</td>\n",
       "      <td>7.693333</td>\n",
       "      <td>7.613333</td>\n",
       "      <td>7.616667</td>\n",
       "      <td>1.855805</td>\n",
       "      <td>262500</td>\n",
       "      <td>1.831034</td>\n",
       "      <td>1.806507</td>\n",
       "      <td>1.787152</td>\n",
       "    </tr>\n",
       "    <tr>\n",
       "      <th>1962-01-05</th>\n",
       "      <td>7.606667</td>\n",
       "      <td>7.606667</td>\n",
       "      <td>7.453333</td>\n",
       "      <td>7.466667</td>\n",
       "      <td>1.819257</td>\n",
       "      <td>367500</td>\n",
       "      <td>1.831034</td>\n",
       "      <td>1.806507</td>\n",
       "      <td>1.787152</td>\n",
       "    </tr>\n",
       "    <tr>\n",
       "      <th>1962-01-08</th>\n",
       "      <td>7.460000</td>\n",
       "      <td>7.460000</td>\n",
       "      <td>7.266667</td>\n",
       "      <td>7.326667</td>\n",
       "      <td>1.785148</td>\n",
       "      <td>547500</td>\n",
       "      <td>1.831034</td>\n",
       "      <td>1.806507</td>\n",
       "      <td>1.787152</td>\n",
       "    </tr>\n",
       "  </tbody>\n",
       "</table>\n",
       "</div>"
      ],
      "text/plain": [
       "                Open      High       Low     Close  Adj Close  Volume  \\\n",
       "Date                                                                    \n",
       "1962-01-02  7.713333  7.713333  7.626667  7.626667   1.858243  390000   \n",
       "1962-01-03  7.626667  7.693333  7.626667  7.693333   1.874485  292500   \n",
       "1962-01-04  7.693333  7.693333  7.613333  7.616667   1.855805  262500   \n",
       "1962-01-05  7.606667  7.606667  7.453333  7.466667   1.819257  367500   \n",
       "1962-01-08  7.460000  7.460000  7.266667  7.326667   1.785148  547500   \n",
       "\n",
       "            10_ac_ma  20_ac_ma  50_ac_ma  \n",
       "Date                                      \n",
       "1962-01-02  1.831034  1.806507  1.787152  \n",
       "1962-01-03  1.831034  1.806507  1.787152  \n",
       "1962-01-04  1.831034  1.806507  1.787152  \n",
       "1962-01-05  1.831034  1.806507  1.787152  \n",
       "1962-01-08  1.831034  1.806507  1.787152  "
      ]
     },
     "execution_count": 79,
     "metadata": {},
     "output_type": "execute_result"
    }
   ],
   "source": [
    "df_ibm.head()"
   ]
  },
  {
   "cell_type": "code",
   "execution_count": 80,
   "id": "contemporary-discipline",
   "metadata": {},
   "outputs": [
    {
     "data": {
      "text/html": [
       "<div>\n",
       "<style scoped>\n",
       "    .dataframe tbody tr th:only-of-type {\n",
       "        vertical-align: middle;\n",
       "    }\n",
       "\n",
       "    .dataframe tbody tr th {\n",
       "        vertical-align: top;\n",
       "    }\n",
       "\n",
       "    .dataframe thead th {\n",
       "        text-align: right;\n",
       "    }\n",
       "</style>\n",
       "<table border=\"1\" class=\"dataframe\">\n",
       "  <thead>\n",
       "    <tr style=\"text-align: right;\">\n",
       "      <th></th>\n",
       "      <th>Open</th>\n",
       "      <th>High</th>\n",
       "      <th>Low</th>\n",
       "      <th>Close</th>\n",
       "      <th>Adj Close</th>\n",
       "      <th>Volume</th>\n",
       "      <th>10_ac_ma</th>\n",
       "      <th>20_ac_ma</th>\n",
       "      <th>50_ac_ma</th>\n",
       "    </tr>\n",
       "    <tr>\n",
       "      <th>Date</th>\n",
       "      <th></th>\n",
       "      <th></th>\n",
       "      <th></th>\n",
       "      <th></th>\n",
       "      <th></th>\n",
       "      <th></th>\n",
       "      <th></th>\n",
       "      <th></th>\n",
       "      <th></th>\n",
       "    </tr>\n",
       "  </thead>\n",
       "  <tbody>\n",
       "    <tr>\n",
       "      <th>1962-01-02</th>\n",
       "      <td>7.713333</td>\n",
       "      <td>7.713333</td>\n",
       "      <td>7.626667</td>\n",
       "      <td>7.626667</td>\n",
       "      <td>1.858243</td>\n",
       "      <td>390000</td>\n",
       "      <td>NaN</td>\n",
       "      <td>NaN</td>\n",
       "      <td>NaN</td>\n",
       "    </tr>\n",
       "    <tr>\n",
       "      <th>1962-01-03</th>\n",
       "      <td>7.626667</td>\n",
       "      <td>7.693333</td>\n",
       "      <td>7.626667</td>\n",
       "      <td>7.693333</td>\n",
       "      <td>1.874485</td>\n",
       "      <td>292500</td>\n",
       "      <td>NaN</td>\n",
       "      <td>NaN</td>\n",
       "      <td>NaN</td>\n",
       "    </tr>\n",
       "    <tr>\n",
       "      <th>1962-01-04</th>\n",
       "      <td>7.693333</td>\n",
       "      <td>7.693333</td>\n",
       "      <td>7.613333</td>\n",
       "      <td>7.616667</td>\n",
       "      <td>1.855805</td>\n",
       "      <td>262500</td>\n",
       "      <td>NaN</td>\n",
       "      <td>NaN</td>\n",
       "      <td>NaN</td>\n",
       "    </tr>\n",
       "    <tr>\n",
       "      <th>1962-01-05</th>\n",
       "      <td>7.606667</td>\n",
       "      <td>7.606667</td>\n",
       "      <td>7.453333</td>\n",
       "      <td>7.466667</td>\n",
       "      <td>1.819257</td>\n",
       "      <td>367500</td>\n",
       "      <td>NaN</td>\n",
       "      <td>NaN</td>\n",
       "      <td>NaN</td>\n",
       "    </tr>\n",
       "    <tr>\n",
       "      <th>1962-01-08</th>\n",
       "      <td>7.460000</td>\n",
       "      <td>7.460000</td>\n",
       "      <td>7.266667</td>\n",
       "      <td>7.326667</td>\n",
       "      <td>1.785148</td>\n",
       "      <td>547500</td>\n",
       "      <td>NaN</td>\n",
       "      <td>NaN</td>\n",
       "      <td>NaN</td>\n",
       "    </tr>\n",
       "  </tbody>\n",
       "</table>\n",
       "</div>"
      ],
      "text/plain": [
       "                Open      High       Low     Close  Adj Close  Volume  \\\n",
       "Date                                                                    \n",
       "1962-01-02  7.713333  7.713333  7.626667  7.626667   1.858243  390000   \n",
       "1962-01-03  7.626667  7.693333  7.626667  7.693333   1.874485  292500   \n",
       "1962-01-04  7.693333  7.693333  7.613333  7.616667   1.855805  262500   \n",
       "1962-01-05  7.606667  7.606667  7.453333  7.466667   1.819257  367500   \n",
       "1962-01-08  7.460000  7.460000  7.266667  7.326667   1.785148  547500   \n",
       "\n",
       "            10_ac_ma  20_ac_ma  50_ac_ma  \n",
       "Date                                      \n",
       "1962-01-02       NaN       NaN       NaN  \n",
       "1962-01-03       NaN       NaN       NaN  \n",
       "1962-01-04       NaN       NaN       NaN  \n",
       "1962-01-05       NaN       NaN       NaN  \n",
       "1962-01-08       NaN       NaN       NaN  "
      ]
     },
     "execution_count": 80,
     "metadata": {},
     "output_type": "execute_result"
    }
   ],
   "source": [
    "df_ibm_train.head()"
   ]
  },
  {
   "cell_type": "code",
   "execution_count": 82,
   "id": "clear-disclosure",
   "metadata": {},
   "outputs": [
    {
     "data": {
      "text/html": [
       "<div>\n",
       "<style scoped>\n",
       "    .dataframe tbody tr th:only-of-type {\n",
       "        vertical-align: middle;\n",
       "    }\n",
       "\n",
       "    .dataframe tbody tr th {\n",
       "        vertical-align: top;\n",
       "    }\n",
       "\n",
       "    .dataframe thead th {\n",
       "        text-align: right;\n",
       "    }\n",
       "</style>\n",
       "<table border=\"1\" class=\"dataframe\">\n",
       "  <thead>\n",
       "    <tr style=\"text-align: right;\">\n",
       "      <th></th>\n",
       "      <th>Open</th>\n",
       "      <th>High</th>\n",
       "      <th>Low</th>\n",
       "      <th>Close</th>\n",
       "      <th>Adj Close</th>\n",
       "      <th>Volume</th>\n",
       "      <th>10_ac_ma</th>\n",
       "      <th>20_ac_ma</th>\n",
       "      <th>50_ac_ma</th>\n",
       "    </tr>\n",
       "    <tr>\n",
       "      <th>Date</th>\n",
       "      <th></th>\n",
       "      <th></th>\n",
       "      <th></th>\n",
       "      <th></th>\n",
       "      <th></th>\n",
       "      <th></th>\n",
       "      <th></th>\n",
       "      <th></th>\n",
       "      <th></th>\n",
       "    </tr>\n",
       "  </thead>\n",
       "  <tbody>\n",
       "    <tr>\n",
       "      <th>2015-03-24</th>\n",
       "      <td>164.789993</td>\n",
       "      <td>164.889999</td>\n",
       "      <td>162.899994</td>\n",
       "      <td>163.000000</td>\n",
       "      <td>126.176285</td>\n",
       "      <td>4346100</td>\n",
       "      <td>NaN</td>\n",
       "      <td>NaN</td>\n",
       "      <td>NaN</td>\n",
       "    </tr>\n",
       "    <tr>\n",
       "      <th>2015-03-25</th>\n",
       "      <td>163.080002</td>\n",
       "      <td>163.080002</td>\n",
       "      <td>159.199997</td>\n",
       "      <td>159.199997</td>\n",
       "      <td>123.234795</td>\n",
       "      <td>5428900</td>\n",
       "      <td>NaN</td>\n",
       "      <td>NaN</td>\n",
       "      <td>NaN</td>\n",
       "    </tr>\n",
       "    <tr>\n",
       "      <th>2015-03-26</th>\n",
       "      <td>159.270004</td>\n",
       "      <td>161.250000</td>\n",
       "      <td>158.910004</td>\n",
       "      <td>160.589996</td>\n",
       "      <td>124.310753</td>\n",
       "      <td>4396000</td>\n",
       "      <td>NaN</td>\n",
       "      <td>NaN</td>\n",
       "      <td>NaN</td>\n",
       "    </tr>\n",
       "    <tr>\n",
       "      <th>2015-03-27</th>\n",
       "      <td>160.789993</td>\n",
       "      <td>160.899994</td>\n",
       "      <td>159.229996</td>\n",
       "      <td>160.399994</td>\n",
       "      <td>124.163673</td>\n",
       "      <td>3477900</td>\n",
       "      <td>NaN</td>\n",
       "      <td>NaN</td>\n",
       "      <td>NaN</td>\n",
       "    </tr>\n",
       "    <tr>\n",
       "      <th>2015-03-30</th>\n",
       "      <td>161.309998</td>\n",
       "      <td>163.600006</td>\n",
       "      <td>161.250000</td>\n",
       "      <td>162.669998</td>\n",
       "      <td>125.920868</td>\n",
       "      <td>4138000</td>\n",
       "      <td>NaN</td>\n",
       "      <td>NaN</td>\n",
       "      <td>NaN</td>\n",
       "    </tr>\n",
       "  </tbody>\n",
       "</table>\n",
       "</div>"
      ],
      "text/plain": [
       "                  Open        High         Low       Close   Adj Close  \\\n",
       "Date                                                                     \n",
       "2015-03-24  164.789993  164.889999  162.899994  163.000000  126.176285   \n",
       "2015-03-25  163.080002  163.080002  159.199997  159.199997  123.234795   \n",
       "2015-03-26  159.270004  161.250000  158.910004  160.589996  124.310753   \n",
       "2015-03-27  160.789993  160.899994  159.229996  160.399994  124.163673   \n",
       "2015-03-30  161.309998  163.600006  161.250000  162.669998  125.920868   \n",
       "\n",
       "             Volume  10_ac_ma  20_ac_ma  50_ac_ma  \n",
       "Date                                               \n",
       "2015-03-24  4346100       NaN       NaN       NaN  \n",
       "2015-03-25  5428900       NaN       NaN       NaN  \n",
       "2015-03-26  4396000       NaN       NaN       NaN  \n",
       "2015-03-27  3477900       NaN       NaN       NaN  \n",
       "2015-03-30  4138000       NaN       NaN       NaN  "
      ]
     },
     "execution_count": 82,
     "metadata": {},
     "output_type": "execute_result"
    }
   ],
   "source": [
    "df_ibm_test.head()"
   ]
  },
  {
   "cell_type": "code",
   "execution_count": 63,
   "id": "likely-norwegian",
   "metadata": {},
   "outputs": [
    {
     "data": {
      "text/plain": [
       "<matplotlib.axes._subplots.AxesSubplot at 0x7f7c711f8390>"
      ]
     },
     "execution_count": 63,
     "metadata": {},
     "output_type": "execute_result"
    },
    {
     "data": {
      "image/png": "[encoded data removed]",
      "text/plain": [
       "<Figure size 1080x360 with 1 Axes>"
      ]
     },
     "metadata": {
      "needs_background": "light"
     },
     "output_type": "display_data"
    }
   ],
   "source": [
    "df_ibm[analysis_start_date:end][['Adj Close', '20_ac_ma']].plot(legend=True,figsize=(15,5))"
   ]
  },
  {
   "cell_type": "code",
   "execution_count": 83,
   "id": "injured-mistress",
   "metadata": {},
   "outputs": [
    {
     "data": {
      "text/plain": [
       "<matplotlib.axes._subplots.AxesSubplot at 0x7f7c71163438>"
      ]
     },
     "execution_count": 83,
     "metadata": {},
     "output_type": "execute_result"
    },
    {
     "data": {
      "image/png": "[encoded data removed]",
      "text/plain": [
       "<Figure size 1080x360 with 1 Axes>"
      ]
     },
     "metadata": {
      "needs_background": "light"
     },
     "output_type": "display_data"
    }
   ],
   "source": [
    "df_ibm_train[analysis_start_date:end][['Adj Close', '20_ac_ma']].plot(legend=True,figsize=(15,5))"
   ]
  },
  {
   "cell_type": "code",
   "execution_count": 84,
   "id": "acknowledged-change",
   "metadata": {},
   "outputs": [
    {
     "data": {
      "text/plain": [
       "<matplotlib.axes._subplots.AxesSubplot at 0x7f7c710f62e8>"
      ]
     },
     "execution_count": 84,
     "metadata": {},
     "output_type": "execute_result"
    },
    {
     "data": {
      "image/png": "[encoded data removed]",
      "text/plain": [
       "<Figure size 1080x360 with 1 Axes>"
      ]
     },
     "metadata": {
      "needs_background": "light"
     },
     "output_type": "display_data"
    }
   ],
   "source": [
    "df_ibm_test[analysis_start_date:end][['Adj Close', '20_ac_ma']].plot(legend=True,figsize=(15,5))"
   ]
  },
  {
   "cell_type": "code",
   "execution_count": 85,
   "id": "earned-binding",
   "metadata": {},
   "outputs": [
    {
     "data": {
      "text/plain": [
       "<matplotlib.axes._subplots.AxesSubplot at 0x7f7c71067400>"
      ]
     },
     "execution_count": 85,
     "metadata": {},
     "output_type": "execute_result"
    },
    {
     "data": {
      "image/png": "[encoded data removed]",
      "text/plain": [
       "<Figure size 1080x360 with 1 Axes>"
      ]
     },
     "metadata": {
      "needs_background": "light"
     },
     "output_type": "display_data"
    }
   ],
   "source": [
    "df_ibm_valid[analysis_start_date:end][['Adj Close', '20_ac_ma']].plot(legend=True,figsize=(15,5))"
   ]
  },
  {
   "cell_type": "markdown",
   "id": "alike-funds",
   "metadata": {},
   "source": [
    "#### Apple stock moving averages"
   ]
  },
  {
   "cell_type": "code",
   "execution_count": 148,
   "id": "sublime-recorder",
   "metadata": {},
   "outputs": [],
   "source": [
    "# moving average sizes in days\n",
    "ma_d_sz = [10,20,50]\n",
    "\n",
    "# adding moving average columns to dataframe\n",
    "for mds in ma_d_sz:\n",
    "    column_name = \"%s_ac_ma\" %(str(mds))    \n",
    "    df_aapl[column_name] = moving_average(df_aapl['Adj Close'], window_size=mds)"
   ]
  },
  {
   "cell_type": "code",
   "execution_count": 149,
   "id": "gentle-disco",
   "metadata": {},
   "outputs": [
    {
     "data": {
      "text/html": [
       "<div>\n",
       "<style scoped>\n",
       "    .dataframe tbody tr th:only-of-type {\n",
       "        vertical-align: middle;\n",
       "    }\n",
       "\n",
       "    .dataframe tbody tr th {\n",
       "        vertical-align: top;\n",
       "    }\n",
       "\n",
       "    .dataframe thead th {\n",
       "        text-align: right;\n",
       "    }\n",
       "</style>\n",
       "<table border=\"1\" class=\"dataframe\">\n",
       "  <thead>\n",
       "    <tr style=\"text-align: right;\">\n",
       "      <th></th>\n",
       "      <th>Open</th>\n",
       "      <th>High</th>\n",
       "      <th>Low</th>\n",
       "      <th>Close</th>\n",
       "      <th>Adj Close</th>\n",
       "      <th>Volume</th>\n",
       "      <th>10_ac_ma</th>\n",
       "      <th>20_ac_ma</th>\n",
       "      <th>50_ac_ma</th>\n",
       "    </tr>\n",
       "    <tr>\n",
       "      <th>Date</th>\n",
       "      <th></th>\n",
       "      <th></th>\n",
       "      <th></th>\n",
       "      <th></th>\n",
       "      <th></th>\n",
       "      <th></th>\n",
       "      <th></th>\n",
       "      <th></th>\n",
       "      <th></th>\n",
       "    </tr>\n",
       "  </thead>\n",
       "  <tbody>\n",
       "    <tr>\n",
       "      <th>1980-12-12</th>\n",
       "      <td>0.128348</td>\n",
       "      <td>0.128906</td>\n",
       "      <td>0.128348</td>\n",
       "      <td>0.128348</td>\n",
       "      <td>0.100922</td>\n",
       "      <td>469033600</td>\n",
       "      <td>NaN</td>\n",
       "      <td>NaN</td>\n",
       "      <td>NaN</td>\n",
       "    </tr>\n",
       "    <tr>\n",
       "      <th>1980-12-15</th>\n",
       "      <td>0.122210</td>\n",
       "      <td>0.122210</td>\n",
       "      <td>0.121652</td>\n",
       "      <td>0.121652</td>\n",
       "      <td>0.095657</td>\n",
       "      <td>175884800</td>\n",
       "      <td>NaN</td>\n",
       "      <td>NaN</td>\n",
       "      <td>NaN</td>\n",
       "    </tr>\n",
       "    <tr>\n",
       "      <th>1980-12-16</th>\n",
       "      <td>0.113281</td>\n",
       "      <td>0.113281</td>\n",
       "      <td>0.112723</td>\n",
       "      <td>0.112723</td>\n",
       "      <td>0.088636</td>\n",
       "      <td>105728000</td>\n",
       "      <td>NaN</td>\n",
       "      <td>NaN</td>\n",
       "      <td>NaN</td>\n",
       "    </tr>\n",
       "    <tr>\n",
       "      <th>1980-12-17</th>\n",
       "      <td>0.115513</td>\n",
       "      <td>0.116071</td>\n",
       "      <td>0.115513</td>\n",
       "      <td>0.115513</td>\n",
       "      <td>0.090830</td>\n",
       "      <td>86441600</td>\n",
       "      <td>NaN</td>\n",
       "      <td>NaN</td>\n",
       "      <td>NaN</td>\n",
       "    </tr>\n",
       "    <tr>\n",
       "      <th>1980-12-18</th>\n",
       "      <td>0.118862</td>\n",
       "      <td>0.119420</td>\n",
       "      <td>0.118862</td>\n",
       "      <td>0.118862</td>\n",
       "      <td>0.093463</td>\n",
       "      <td>73449600</td>\n",
       "      <td>NaN</td>\n",
       "      <td>NaN</td>\n",
       "      <td>NaN</td>\n",
       "    </tr>\n",
       "  </tbody>\n",
       "</table>\n",
       "</div>"
      ],
      "text/plain": [
       "                Open      High       Low     Close  Adj Close     Volume  \\\n",
       "Date                                                                       \n",
       "1980-12-12  0.128348  0.128906  0.128348  0.128348   0.100922  469033600   \n",
       "1980-12-15  0.122210  0.122210  0.121652  0.121652   0.095657  175884800   \n",
       "1980-12-16  0.113281  0.113281  0.112723  0.112723   0.088636  105728000   \n",
       "1980-12-17  0.115513  0.116071  0.115513  0.115513   0.090830   86441600   \n",
       "1980-12-18  0.118862  0.119420  0.118862  0.118862   0.093463   73449600   \n",
       "\n",
       "            10_ac_ma  20_ac_ma  50_ac_ma  \n",
       "Date                                      \n",
       "1980-12-12       NaN       NaN       NaN  \n",
       "1980-12-15       NaN       NaN       NaN  \n",
       "1980-12-16       NaN       NaN       NaN  \n",
       "1980-12-17       NaN       NaN       NaN  \n",
       "1980-12-18       NaN       NaN       NaN  "
      ]
     },
     "execution_count": 149,
     "metadata": {},
     "output_type": "execute_result"
    }
   ],
   "source": [
    "df_aapl.head()"
   ]
  },
  {
   "cell_type": "markdown",
   "id": "vocal-ground",
   "metadata": {},
   "source": [
    "Moving average feature is empty for the first *n* days, where *n* is the window size, so I'll use some backfill to fill NaN values"
   ]
  },
  {
   "cell_type": "code",
   "execution_count": 150,
   "id": "moral-minimum",
   "metadata": {},
   "outputs": [],
   "source": [
    "df_aapl.fillna(method='backfill', inplace=True)"
   ]
  },
  {
   "cell_type": "code",
   "execution_count": 151,
   "id": "arbitrary-position",
   "metadata": {},
   "outputs": [
    {
     "data": {
      "text/html": [
       "<div>\n",
       "<style scoped>\n",
       "    .dataframe tbody tr th:only-of-type {\n",
       "        vertical-align: middle;\n",
       "    }\n",
       "\n",
       "    .dataframe tbody tr th {\n",
       "        vertical-align: top;\n",
       "    }\n",
       "\n",
       "    .dataframe thead th {\n",
       "        text-align: right;\n",
       "    }\n",
       "</style>\n",
       "<table border=\"1\" class=\"dataframe\">\n",
       "  <thead>\n",
       "    <tr style=\"text-align: right;\">\n",
       "      <th></th>\n",
       "      <th>Open</th>\n",
       "      <th>High</th>\n",
       "      <th>Low</th>\n",
       "      <th>Close</th>\n",
       "      <th>Adj Close</th>\n",
       "      <th>Volume</th>\n",
       "      <th>10_ac_ma</th>\n",
       "      <th>20_ac_ma</th>\n",
       "      <th>50_ac_ma</th>\n",
       "    </tr>\n",
       "    <tr>\n",
       "      <th>Date</th>\n",
       "      <th></th>\n",
       "      <th></th>\n",
       "      <th></th>\n",
       "      <th></th>\n",
       "      <th></th>\n",
       "      <th></th>\n",
       "      <th></th>\n",
       "      <th></th>\n",
       "      <th></th>\n",
       "    </tr>\n",
       "  </thead>\n",
       "  <tbody>\n",
       "    <tr>\n",
       "      <th>2021-02-12</th>\n",
       "      <td>134.350006</td>\n",
       "      <td>135.529999</td>\n",
       "      <td>133.690002</td>\n",
       "      <td>135.369995</td>\n",
       "      <td>135.369995</td>\n",
       "      <td>60029300</td>\n",
       "      <td>135.522359</td>\n",
       "      <td>135.666208</td>\n",
       "      <td>131.056535</td>\n",
       "    </tr>\n",
       "    <tr>\n",
       "      <th>2021-02-16</th>\n",
       "      <td>135.490005</td>\n",
       "      <td>136.009995</td>\n",
       "      <td>132.789993</td>\n",
       "      <td>133.190002</td>\n",
       "      <td>133.190002</td>\n",
       "      <td>80206200</td>\n",
       "      <td>135.447374</td>\n",
       "      <td>135.978194</td>\n",
       "      <td>131.262408</td>\n",
       "    </tr>\n",
       "    <tr>\n",
       "      <th>2021-02-17</th>\n",
       "      <td>131.250000</td>\n",
       "      <td>132.220001</td>\n",
       "      <td>129.470001</td>\n",
       "      <td>130.839996</td>\n",
       "      <td>130.839996</td>\n",
       "      <td>97918500</td>\n",
       "      <td>135.052515</td>\n",
       "      <td>136.138230</td>\n",
       "      <td>131.424077</td>\n",
       "    </tr>\n",
       "    <tr>\n",
       "      <th>2021-02-18</th>\n",
       "      <td>129.199997</td>\n",
       "      <td>130.000000</td>\n",
       "      <td>127.410004</td>\n",
       "      <td>129.710007</td>\n",
       "      <td>129.710007</td>\n",
       "      <td>96648100</td>\n",
       "      <td>134.649500</td>\n",
       "      <td>136.032081</td>\n",
       "      <td>131.576925</td>\n",
       "    </tr>\n",
       "    <tr>\n",
       "      <th>2021-02-19</th>\n",
       "      <td>130.240005</td>\n",
       "      <td>130.710007</td>\n",
       "      <td>128.800003</td>\n",
       "      <td>129.869995</td>\n",
       "      <td>129.869995</td>\n",
       "      <td>87525900</td>\n",
       "      <td>133.917999</td>\n",
       "      <td>135.692292</td>\n",
       "      <td>131.703018</td>\n",
       "    </tr>\n",
       "  </tbody>\n",
       "</table>\n",
       "</div>"
      ],
      "text/plain": [
       "                  Open        High         Low       Close   Adj Close  \\\n",
       "Date                                                                     \n",
       "2021-02-12  134.350006  135.529999  133.690002  135.369995  135.369995   \n",
       "2021-02-16  135.490005  136.009995  132.789993  133.190002  133.190002   \n",
       "2021-02-17  131.250000  132.220001  129.470001  130.839996  130.839996   \n",
       "2021-02-18  129.199997  130.000000  127.410004  129.710007  129.710007   \n",
       "2021-02-19  130.240005  130.710007  128.800003  129.869995  129.869995   \n",
       "\n",
       "              Volume    10_ac_ma    20_ac_ma    50_ac_ma  \n",
       "Date                                                      \n",
       "2021-02-12  60029300  135.522359  135.666208  131.056535  \n",
       "2021-02-16  80206200  135.447374  135.978194  131.262408  \n",
       "2021-02-17  97918500  135.052515  136.138230  131.424077  \n",
       "2021-02-18  96648100  134.649500  136.032081  131.576925  \n",
       "2021-02-19  87525900  133.917999  135.692292  131.703018  "
      ]
     },
     "execution_count": 151,
     "metadata": {},
     "output_type": "execute_result"
    }
   ],
   "source": [
    "df_aapl.tail()"
   ]
  },
  {
   "cell_type": "code",
   "execution_count": 152,
   "id": "cathedral-roller",
   "metadata": {},
   "outputs": [
    {
     "data": {
      "text/html": [
       "<div>\n",
       "<style scoped>\n",
       "    .dataframe tbody tr th:only-of-type {\n",
       "        vertical-align: middle;\n",
       "    }\n",
       "\n",
       "    .dataframe tbody tr th {\n",
       "        vertical-align: top;\n",
       "    }\n",
       "\n",
       "    .dataframe thead th {\n",
       "        text-align: right;\n",
       "    }\n",
       "</style>\n",
       "<table border=\"1\" class=\"dataframe\">\n",
       "  <thead>\n",
       "    <tr style=\"text-align: right;\">\n",
       "      <th></th>\n",
       "      <th>Open</th>\n",
       "      <th>High</th>\n",
       "      <th>Low</th>\n",
       "      <th>Close</th>\n",
       "      <th>Adj Close</th>\n",
       "      <th>Volume</th>\n",
       "      <th>10_ac_ma</th>\n",
       "      <th>20_ac_ma</th>\n",
       "      <th>50_ac_ma</th>\n",
       "    </tr>\n",
       "    <tr>\n",
       "      <th>Date</th>\n",
       "      <th></th>\n",
       "      <th></th>\n",
       "      <th></th>\n",
       "      <th></th>\n",
       "      <th></th>\n",
       "      <th></th>\n",
       "      <th></th>\n",
       "      <th></th>\n",
       "      <th></th>\n",
       "    </tr>\n",
       "  </thead>\n",
       "  <tbody>\n",
       "    <tr>\n",
       "      <th>1980-12-12</th>\n",
       "      <td>0.128348</td>\n",
       "      <td>0.128906</td>\n",
       "      <td>0.128348</td>\n",
       "      <td>0.128348</td>\n",
       "      <td>0.100922</td>\n",
       "      <td>469033600</td>\n",
       "      <td>0.101975</td>\n",
       "      <td>0.108974</td>\n",
       "      <td>0.104248</td>\n",
       "    </tr>\n",
       "    <tr>\n",
       "      <th>1980-12-15</th>\n",
       "      <td>0.122210</td>\n",
       "      <td>0.122210</td>\n",
       "      <td>0.121652</td>\n",
       "      <td>0.121652</td>\n",
       "      <td>0.095657</td>\n",
       "      <td>175884800</td>\n",
       "      <td>0.101975</td>\n",
       "      <td>0.108974</td>\n",
       "      <td>0.104248</td>\n",
       "    </tr>\n",
       "    <tr>\n",
       "      <th>1980-12-16</th>\n",
       "      <td>0.113281</td>\n",
       "      <td>0.113281</td>\n",
       "      <td>0.112723</td>\n",
       "      <td>0.112723</td>\n",
       "      <td>0.088636</td>\n",
       "      <td>105728000</td>\n",
       "      <td>0.101975</td>\n",
       "      <td>0.108974</td>\n",
       "      <td>0.104248</td>\n",
       "    </tr>\n",
       "    <tr>\n",
       "      <th>1980-12-17</th>\n",
       "      <td>0.115513</td>\n",
       "      <td>0.116071</td>\n",
       "      <td>0.115513</td>\n",
       "      <td>0.115513</td>\n",
       "      <td>0.090830</td>\n",
       "      <td>86441600</td>\n",
       "      <td>0.101975</td>\n",
       "      <td>0.108974</td>\n",
       "      <td>0.104248</td>\n",
       "    </tr>\n",
       "    <tr>\n",
       "      <th>1980-12-18</th>\n",
       "      <td>0.118862</td>\n",
       "      <td>0.119420</td>\n",
       "      <td>0.118862</td>\n",
       "      <td>0.118862</td>\n",
       "      <td>0.093463</td>\n",
       "      <td>73449600</td>\n",
       "      <td>0.101975</td>\n",
       "      <td>0.108974</td>\n",
       "      <td>0.104248</td>\n",
       "    </tr>\n",
       "  </tbody>\n",
       "</table>\n",
       "</div>"
      ],
      "text/plain": [
       "                Open      High       Low     Close  Adj Close     Volume  \\\n",
       "Date                                                                       \n",
       "1980-12-12  0.128348  0.128906  0.128348  0.128348   0.100922  469033600   \n",
       "1980-12-15  0.122210  0.122210  0.121652  0.121652   0.095657  175884800   \n",
       "1980-12-16  0.113281  0.113281  0.112723  0.112723   0.088636  105728000   \n",
       "1980-12-17  0.115513  0.116071  0.115513  0.115513   0.090830   86441600   \n",
       "1980-12-18  0.118862  0.119420  0.118862  0.118862   0.093463   73449600   \n",
       "\n",
       "            10_ac_ma  20_ac_ma  50_ac_ma  \n",
       "Date                                      \n",
       "1980-12-12  0.101975  0.108974  0.104248  \n",
       "1980-12-15  0.101975  0.108974  0.104248  \n",
       "1980-12-16  0.101975  0.108974  0.104248  \n",
       "1980-12-17  0.101975  0.108974  0.104248  \n",
       "1980-12-18  0.101975  0.108974  0.104248  "
      ]
     },
     "execution_count": 152,
     "metadata": {},
     "output_type": "execute_result"
    }
   ],
   "source": [
    "df_aapl.head()"
   ]
  },
  {
   "cell_type": "code",
   "execution_count": 84,
   "id": "checked-benjamin",
   "metadata": {},
   "outputs": [
    {
     "data": {
      "text/plain": [
       "<matplotlib.axes._subplots.AxesSubplot at 0x7f3806b4a400>"
      ]
     },
     "execution_count": 84,
     "metadata": {},
     "output_type": "execute_result"
    },
    {
     "data": {
      "image/png": "[encoded data removed]",
      "text/plain": [
       "<Figure size 1080x360 with 1 Axes>"
      ]
     },
     "metadata": {
      "needs_background": "light"
     },
     "output_type": "display_data"
    }
   ],
   "source": [
    "df_aapl[start_date:end_date][['Adj Close', '50_ac_ma']].plot(legend=True,figsize=(15,5))"
   ]
  },
  {
   "cell_type": "markdown",
   "id": "dried-laugh",
   "metadata": {},
   "source": [
    "#### Amazon.com stock moving averages"
   ]
  },
  {
   "cell_type": "code",
   "execution_count": 154,
   "id": "driving-companion",
   "metadata": {},
   "outputs": [],
   "source": [
    "# moving average sizes in days\n",
    "ma_d_sz = [10,20,50]\n",
    "\n",
    "# adding moving average columns to dataframe\n",
    "for mds in ma_d_sz:\n",
    "    column_name = \"%s_ac_ma\" %(str(mds))    \n",
    "    df_amzn[column_name] = moving_average(df_amzn['Adj Close'], window_size=mds)"
   ]
  },
  {
   "cell_type": "code",
   "execution_count": 155,
   "id": "determined-package",
   "metadata": {},
   "outputs": [
    {
     "data": {
      "text/html": [
       "<div>\n",
       "<style scoped>\n",
       "    .dataframe tbody tr th:only-of-type {\n",
       "        vertical-align: middle;\n",
       "    }\n",
       "\n",
       "    .dataframe tbody tr th {\n",
       "        vertical-align: top;\n",
       "    }\n",
       "\n",
       "    .dataframe thead th {\n",
       "        text-align: right;\n",
       "    }\n",
       "</style>\n",
       "<table border=\"1\" class=\"dataframe\">\n",
       "  <thead>\n",
       "    <tr style=\"text-align: right;\">\n",
       "      <th></th>\n",
       "      <th>Open</th>\n",
       "      <th>High</th>\n",
       "      <th>Low</th>\n",
       "      <th>Close</th>\n",
       "      <th>Adj Close</th>\n",
       "      <th>Volume</th>\n",
       "      <th>10_ac_ma</th>\n",
       "      <th>20_ac_ma</th>\n",
       "      <th>50_ac_ma</th>\n",
       "      <th>10_ac_bb_u</th>\n",
       "      <th>10_ac_bb_l</th>\n",
       "      <th>20_ac_bb_u</th>\n",
       "      <th>20_ac_bb_l</th>\n",
       "      <th>50_ac_bb_u</th>\n",
       "      <th>50_ac_bb_l</th>\n",
       "    </tr>\n",
       "    <tr>\n",
       "      <th>Date</th>\n",
       "      <th></th>\n",
       "      <th></th>\n",
       "      <th></th>\n",
       "      <th></th>\n",
       "      <th></th>\n",
       "      <th></th>\n",
       "      <th></th>\n",
       "      <th></th>\n",
       "      <th></th>\n",
       "      <th></th>\n",
       "      <th></th>\n",
       "      <th></th>\n",
       "      <th></th>\n",
       "      <th></th>\n",
       "      <th></th>\n",
       "    </tr>\n",
       "  </thead>\n",
       "  <tbody>\n",
       "    <tr>\n",
       "      <th>1997-05-15</th>\n",
       "      <td>2.437500</td>\n",
       "      <td>2.500000</td>\n",
       "      <td>1.927083</td>\n",
       "      <td>1.958333</td>\n",
       "      <td>1.958333</td>\n",
       "      <td>72156000</td>\n",
       "      <td>NaN</td>\n",
       "      <td>NaN</td>\n",
       "      <td>NaN</td>\n",
       "      <td>1.93311</td>\n",
       "      <td>1.261682</td>\n",
       "      <td>1.836333</td>\n",
       "      <td>1.313146</td>\n",
       "      <td>2.458803</td>\n",
       "      <td>1.086822</td>\n",
       "    </tr>\n",
       "    <tr>\n",
       "      <th>1997-05-16</th>\n",
       "      <td>1.968750</td>\n",
       "      <td>1.979167</td>\n",
       "      <td>1.708333</td>\n",
       "      <td>1.729167</td>\n",
       "      <td>1.729167</td>\n",
       "      <td>14700000</td>\n",
       "      <td>NaN</td>\n",
       "      <td>NaN</td>\n",
       "      <td>NaN</td>\n",
       "      <td>1.93311</td>\n",
       "      <td>1.261682</td>\n",
       "      <td>1.836333</td>\n",
       "      <td>1.313146</td>\n",
       "      <td>2.458803</td>\n",
       "      <td>1.086822</td>\n",
       "    </tr>\n",
       "    <tr>\n",
       "      <th>1997-05-19</th>\n",
       "      <td>1.760417</td>\n",
       "      <td>1.770833</td>\n",
       "      <td>1.625000</td>\n",
       "      <td>1.708333</td>\n",
       "      <td>1.708333</td>\n",
       "      <td>6106800</td>\n",
       "      <td>NaN</td>\n",
       "      <td>NaN</td>\n",
       "      <td>NaN</td>\n",
       "      <td>1.93311</td>\n",
       "      <td>1.261682</td>\n",
       "      <td>1.836333</td>\n",
       "      <td>1.313146</td>\n",
       "      <td>2.458803</td>\n",
       "      <td>1.086822</td>\n",
       "    </tr>\n",
       "    <tr>\n",
       "      <th>1997-05-20</th>\n",
       "      <td>1.729167</td>\n",
       "      <td>1.750000</td>\n",
       "      <td>1.635417</td>\n",
       "      <td>1.635417</td>\n",
       "      <td>1.635417</td>\n",
       "      <td>5467200</td>\n",
       "      <td>NaN</td>\n",
       "      <td>NaN</td>\n",
       "      <td>NaN</td>\n",
       "      <td>1.93311</td>\n",
       "      <td>1.261682</td>\n",
       "      <td>1.836333</td>\n",
       "      <td>1.313146</td>\n",
       "      <td>2.458803</td>\n",
       "      <td>1.086822</td>\n",
       "    </tr>\n",
       "    <tr>\n",
       "      <th>1997-05-21</th>\n",
       "      <td>1.635417</td>\n",
       "      <td>1.645833</td>\n",
       "      <td>1.375000</td>\n",
       "      <td>1.427083</td>\n",
       "      <td>1.427083</td>\n",
       "      <td>18853200</td>\n",
       "      <td>NaN</td>\n",
       "      <td>NaN</td>\n",
       "      <td>NaN</td>\n",
       "      <td>1.93311</td>\n",
       "      <td>1.261682</td>\n",
       "      <td>1.836333</td>\n",
       "      <td>1.313146</td>\n",
       "      <td>2.458803</td>\n",
       "      <td>1.086822</td>\n",
       "    </tr>\n",
       "  </tbody>\n",
       "</table>\n",
       "</div>"
      ],
      "text/plain": [
       "                Open      High       Low     Close  Adj Close    Volume  \\\n",
       "Date                                                                      \n",
       "1997-05-15  2.437500  2.500000  1.927083  1.958333   1.958333  72156000   \n",
       "1997-05-16  1.968750  1.979167  1.708333  1.729167   1.729167  14700000   \n",
       "1997-05-19  1.760417  1.770833  1.625000  1.708333   1.708333   6106800   \n",
       "1997-05-20  1.729167  1.750000  1.635417  1.635417   1.635417   5467200   \n",
       "1997-05-21  1.635417  1.645833  1.375000  1.427083   1.427083  18853200   \n",
       "\n",
       "            10_ac_ma  20_ac_ma  50_ac_ma  10_ac_bb_u  10_ac_bb_l  20_ac_bb_u  \\\n",
       "Date                                                                           \n",
       "1997-05-15       NaN       NaN       NaN     1.93311    1.261682    1.836333   \n",
       "1997-05-16       NaN       NaN       NaN     1.93311    1.261682    1.836333   \n",
       "1997-05-19       NaN       NaN       NaN     1.93311    1.261682    1.836333   \n",
       "1997-05-20       NaN       NaN       NaN     1.93311    1.261682    1.836333   \n",
       "1997-05-21       NaN       NaN       NaN     1.93311    1.261682    1.836333   \n",
       "\n",
       "            20_ac_bb_l  50_ac_bb_u  50_ac_bb_l  \n",
       "Date                                            \n",
       "1997-05-15    1.313146    2.458803    1.086822  \n",
       "1997-05-16    1.313146    2.458803    1.086822  \n",
       "1997-05-19    1.313146    2.458803    1.086822  \n",
       "1997-05-20    1.313146    2.458803    1.086822  \n",
       "1997-05-21    1.313146    2.458803    1.086822  "
      ]
     },
     "execution_count": 155,
     "metadata": {},
     "output_type": "execute_result"
    }
   ],
   "source": [
    "df_amzn.head()"
   ]
  },
  {
   "cell_type": "markdown",
   "id": "above-duration",
   "metadata": {},
   "source": [
    "Moving average feature is empty for the first *n* days, where *n* is the window size, so I'll use some backfill to fill NaN values"
   ]
  },
  {
   "cell_type": "code",
   "execution_count": 156,
   "id": "global-operation",
   "metadata": {},
   "outputs": [],
   "source": [
    "df_amzn.fillna(method='backfill', inplace=True)"
   ]
  },
  {
   "cell_type": "code",
   "execution_count": 157,
   "id": "renewable-modern",
   "metadata": {},
   "outputs": [
    {
     "data": {
      "text/html": [
       "<div>\n",
       "<style scoped>\n",
       "    .dataframe tbody tr th:only-of-type {\n",
       "        vertical-align: middle;\n",
       "    }\n",
       "\n",
       "    .dataframe tbody tr th {\n",
       "        vertical-align: top;\n",
       "    }\n",
       "\n",
       "    .dataframe thead th {\n",
       "        text-align: right;\n",
       "    }\n",
       "</style>\n",
       "<table border=\"1\" class=\"dataframe\">\n",
       "  <thead>\n",
       "    <tr style=\"text-align: right;\">\n",
       "      <th></th>\n",
       "      <th>Open</th>\n",
       "      <th>High</th>\n",
       "      <th>Low</th>\n",
       "      <th>Close</th>\n",
       "      <th>Adj Close</th>\n",
       "      <th>Volume</th>\n",
       "      <th>10_ac_ma</th>\n",
       "      <th>20_ac_ma</th>\n",
       "      <th>50_ac_ma</th>\n",
       "      <th>10_ac_bb_u</th>\n",
       "      <th>10_ac_bb_l</th>\n",
       "      <th>20_ac_bb_u</th>\n",
       "      <th>20_ac_bb_l</th>\n",
       "      <th>50_ac_bb_u</th>\n",
       "      <th>50_ac_bb_l</th>\n",
       "    </tr>\n",
       "    <tr>\n",
       "      <th>Date</th>\n",
       "      <th></th>\n",
       "      <th></th>\n",
       "      <th></th>\n",
       "      <th></th>\n",
       "      <th></th>\n",
       "      <th></th>\n",
       "      <th></th>\n",
       "      <th></th>\n",
       "      <th></th>\n",
       "      <th></th>\n",
       "      <th></th>\n",
       "      <th></th>\n",
       "      <th></th>\n",
       "      <th></th>\n",
       "      <th></th>\n",
       "    </tr>\n",
       "  </thead>\n",
       "  <tbody>\n",
       "    <tr>\n",
       "      <th>2021-02-12</th>\n",
       "      <td>3250.000000</td>\n",
       "      <td>3280.250000</td>\n",
       "      <td>3233.310059</td>\n",
       "      <td>3277.709961</td>\n",
       "      <td>3277.709961</td>\n",
       "      <td>2329300</td>\n",
       "      <td>3317.291968</td>\n",
       "      <td>3277.852979</td>\n",
       "      <td>3222.085181</td>\n",
       "      <td>3389.552311</td>\n",
       "      <td>3245.031625</td>\n",
       "      <td>3419.109022</td>\n",
       "      <td>3136.596935</td>\n",
       "      <td>3375.172588</td>\n",
       "      <td>3068.997774</td>\n",
       "    </tr>\n",
       "    <tr>\n",
       "      <th>2021-02-16</th>\n",
       "      <td>3254.050049</td>\n",
       "      <td>3308.300049</td>\n",
       "      <td>3253.590088</td>\n",
       "      <td>3268.949951</td>\n",
       "      <td>3268.949951</td>\n",
       "      <td>2563200</td>\n",
       "      <td>3309.898975</td>\n",
       "      <td>3286.087976</td>\n",
       "      <td>3223.393579</td>\n",
       "      <td>3385.571219</td>\n",
       "      <td>3234.226730</td>\n",
       "      <td>3401.585069</td>\n",
       "      <td>3170.590883</td>\n",
       "      <td>3376.951228</td>\n",
       "      <td>3069.835930</td>\n",
       "    </tr>\n",
       "    <tr>\n",
       "      <th>2021-02-17</th>\n",
       "      <td>3263.600098</td>\n",
       "      <td>3320.909912</td>\n",
       "      <td>3259.500000</td>\n",
       "      <td>3308.639893</td>\n",
       "      <td>3308.639893</td>\n",
       "      <td>3297500</td>\n",
       "      <td>3302.762964</td>\n",
       "      <td>3295.481970</td>\n",
       "      <td>3225.831777</td>\n",
       "      <td>3360.352910</td>\n",
       "      <td>3245.173017</td>\n",
       "      <td>3381.043039</td>\n",
       "      <td>3209.920902</td>\n",
       "      <td>3380.877493</td>\n",
       "      <td>3070.786062</td>\n",
       "    </tr>\n",
       "    <tr>\n",
       "      <th>2021-02-18</th>\n",
       "      <td>3282.419922</td>\n",
       "      <td>3338.000000</td>\n",
       "      <td>3273.939941</td>\n",
       "      <td>3328.229980</td>\n",
       "      <td>3328.229980</td>\n",
       "      <td>3027400</td>\n",
       "      <td>3304.332959</td>\n",
       "      <td>3298.724475</td>\n",
       "      <td>3229.144775</td>\n",
       "      <td>3363.927436</td>\n",
       "      <td>3244.738482</td>\n",
       "      <td>3384.078129</td>\n",
       "      <td>3213.370821</td>\n",
       "      <td>3385.745319</td>\n",
       "      <td>3072.544232</td>\n",
       "    </tr>\n",
       "    <tr>\n",
       "      <th>2021-02-19</th>\n",
       "      <td>3328.229980</td>\n",
       "      <td>3333.500000</td>\n",
       "      <td>3245.750000</td>\n",
       "      <td>3249.899902</td>\n",
       "      <td>3249.899902</td>\n",
       "      <td>4297200</td>\n",
       "      <td>3296.222949</td>\n",
       "      <td>3295.869971</td>\n",
       "      <td>3230.982773</td>\n",
       "      <td>3361.491566</td>\n",
       "      <td>3230.954332</td>\n",
       "      <td>3383.838238</td>\n",
       "      <td>3207.901704</td>\n",
       "      <td>3386.327284</td>\n",
       "      <td>3075.638263</td>\n",
       "    </tr>\n",
       "  </tbody>\n",
       "</table>\n",
       "</div>"
      ],
      "text/plain": [
       "                   Open         High          Low        Close    Adj Close  \\\n",
       "Date                                                                          \n",
       "2021-02-12  3250.000000  3280.250000  3233.310059  3277.709961  3277.709961   \n",
       "2021-02-16  3254.050049  3308.300049  3253.590088  3268.949951  3268.949951   \n",
       "2021-02-17  3263.600098  3320.909912  3259.500000  3308.639893  3308.639893   \n",
       "2021-02-18  3282.419922  3338.000000  3273.939941  3328.229980  3328.229980   \n",
       "2021-02-19  3328.229980  3333.500000  3245.750000  3249.899902  3249.899902   \n",
       "\n",
       "             Volume     10_ac_ma     20_ac_ma     50_ac_ma   10_ac_bb_u  \\\n",
       "Date                                                                      \n",
       "2021-02-12  2329300  3317.291968  3277.852979  3222.085181  3389.552311   \n",
       "2021-02-16  2563200  3309.898975  3286.087976  3223.393579  3385.571219   \n",
       "2021-02-17  3297500  3302.762964  3295.481970  3225.831777  3360.352910   \n",
       "2021-02-18  3027400  3304.332959  3298.724475  3229.144775  3363.927436   \n",
       "2021-02-19  4297200  3296.222949  3295.869971  3230.982773  3361.491566   \n",
       "\n",
       "             10_ac_bb_l   20_ac_bb_u   20_ac_bb_l   50_ac_bb_u   50_ac_bb_l  \n",
       "Date                                                                         \n",
       "2021-02-12  3245.031625  3419.109022  3136.596935  3375.172588  3068.997774  \n",
       "2021-02-16  3234.226730  3401.585069  3170.590883  3376.951228  3069.835930  \n",
       "2021-02-17  3245.173017  3381.043039  3209.920902  3380.877493  3070.786062  \n",
       "2021-02-18  3244.738482  3384.078129  3213.370821  3385.745319  3072.544232  \n",
       "2021-02-19  3230.954332  3383.838238  3207.901704  3386.327284  3075.638263  "
      ]
     },
     "execution_count": 157,
     "metadata": {},
     "output_type": "execute_result"
    }
   ],
   "source": [
    "df_amzn.tail()"
   ]
  },
  {
   "cell_type": "code",
   "execution_count": 158,
   "id": "revised-three",
   "metadata": {},
   "outputs": [
    {
     "data": {
      "text/html": [
       "<div>\n",
       "<style scoped>\n",
       "    .dataframe tbody tr th:only-of-type {\n",
       "        vertical-align: middle;\n",
       "    }\n",
       "\n",
       "    .dataframe tbody tr th {\n",
       "        vertical-align: top;\n",
       "    }\n",
       "\n",
       "    .dataframe thead th {\n",
       "        text-align: right;\n",
       "    }\n",
       "</style>\n",
       "<table border=\"1\" class=\"dataframe\">\n",
       "  <thead>\n",
       "    <tr style=\"text-align: right;\">\n",
       "      <th></th>\n",
       "      <th>Open</th>\n",
       "      <th>High</th>\n",
       "      <th>Low</th>\n",
       "      <th>Close</th>\n",
       "      <th>Adj Close</th>\n",
       "      <th>Volume</th>\n",
       "      <th>10_ac_ma</th>\n",
       "      <th>20_ac_ma</th>\n",
       "      <th>50_ac_ma</th>\n",
       "      <th>10_ac_bb_u</th>\n",
       "      <th>10_ac_bb_l</th>\n",
       "      <th>20_ac_bb_u</th>\n",
       "      <th>20_ac_bb_l</th>\n",
       "      <th>50_ac_bb_u</th>\n",
       "      <th>50_ac_bb_l</th>\n",
       "    </tr>\n",
       "    <tr>\n",
       "      <th>Date</th>\n",
       "      <th></th>\n",
       "      <th></th>\n",
       "      <th></th>\n",
       "      <th></th>\n",
       "      <th></th>\n",
       "      <th></th>\n",
       "      <th></th>\n",
       "      <th></th>\n",
       "      <th></th>\n",
       "      <th></th>\n",
       "      <th></th>\n",
       "      <th></th>\n",
       "      <th></th>\n",
       "      <th></th>\n",
       "      <th></th>\n",
       "    </tr>\n",
       "  </thead>\n",
       "  <tbody>\n",
       "    <tr>\n",
       "      <th>1997-05-15</th>\n",
       "      <td>2.437500</td>\n",
       "      <td>2.500000</td>\n",
       "      <td>1.927083</td>\n",
       "      <td>1.958333</td>\n",
       "      <td>1.958333</td>\n",
       "      <td>72156000</td>\n",
       "      <td>1.597396</td>\n",
       "      <td>1.57474</td>\n",
       "      <td>1.772813</td>\n",
       "      <td>1.93311</td>\n",
       "      <td>1.261682</td>\n",
       "      <td>1.836333</td>\n",
       "      <td>1.313146</td>\n",
       "      <td>2.458803</td>\n",
       "      <td>1.086822</td>\n",
       "    </tr>\n",
       "    <tr>\n",
       "      <th>1997-05-16</th>\n",
       "      <td>1.968750</td>\n",
       "      <td>1.979167</td>\n",
       "      <td>1.708333</td>\n",
       "      <td>1.729167</td>\n",
       "      <td>1.729167</td>\n",
       "      <td>14700000</td>\n",
       "      <td>1.597396</td>\n",
       "      <td>1.57474</td>\n",
       "      <td>1.772813</td>\n",
       "      <td>1.93311</td>\n",
       "      <td>1.261682</td>\n",
       "      <td>1.836333</td>\n",
       "      <td>1.313146</td>\n",
       "      <td>2.458803</td>\n",
       "      <td>1.086822</td>\n",
       "    </tr>\n",
       "    <tr>\n",
       "      <th>1997-05-19</th>\n",
       "      <td>1.760417</td>\n",
       "      <td>1.770833</td>\n",
       "      <td>1.625000</td>\n",
       "      <td>1.708333</td>\n",
       "      <td>1.708333</td>\n",
       "      <td>6106800</td>\n",
       "      <td>1.597396</td>\n",
       "      <td>1.57474</td>\n",
       "      <td>1.772813</td>\n",
       "      <td>1.93311</td>\n",
       "      <td>1.261682</td>\n",
       "      <td>1.836333</td>\n",
       "      <td>1.313146</td>\n",
       "      <td>2.458803</td>\n",
       "      <td>1.086822</td>\n",
       "    </tr>\n",
       "    <tr>\n",
       "      <th>1997-05-20</th>\n",
       "      <td>1.729167</td>\n",
       "      <td>1.750000</td>\n",
       "      <td>1.635417</td>\n",
       "      <td>1.635417</td>\n",
       "      <td>1.635417</td>\n",
       "      <td>5467200</td>\n",
       "      <td>1.597396</td>\n",
       "      <td>1.57474</td>\n",
       "      <td>1.772813</td>\n",
       "      <td>1.93311</td>\n",
       "      <td>1.261682</td>\n",
       "      <td>1.836333</td>\n",
       "      <td>1.313146</td>\n",
       "      <td>2.458803</td>\n",
       "      <td>1.086822</td>\n",
       "    </tr>\n",
       "    <tr>\n",
       "      <th>1997-05-21</th>\n",
       "      <td>1.635417</td>\n",
       "      <td>1.645833</td>\n",
       "      <td>1.375000</td>\n",
       "      <td>1.427083</td>\n",
       "      <td>1.427083</td>\n",
       "      <td>18853200</td>\n",
       "      <td>1.597396</td>\n",
       "      <td>1.57474</td>\n",
       "      <td>1.772813</td>\n",
       "      <td>1.93311</td>\n",
       "      <td>1.261682</td>\n",
       "      <td>1.836333</td>\n",
       "      <td>1.313146</td>\n",
       "      <td>2.458803</td>\n",
       "      <td>1.086822</td>\n",
       "    </tr>\n",
       "  </tbody>\n",
       "</table>\n",
       "</div>"
      ],
      "text/plain": [
       "                Open      High       Low     Close  Adj Close    Volume  \\\n",
       "Date                                                                      \n",
       "1997-05-15  2.437500  2.500000  1.927083  1.958333   1.958333  72156000   \n",
       "1997-05-16  1.968750  1.979167  1.708333  1.729167   1.729167  14700000   \n",
       "1997-05-19  1.760417  1.770833  1.625000  1.708333   1.708333   6106800   \n",
       "1997-05-20  1.729167  1.750000  1.635417  1.635417   1.635417   5467200   \n",
       "1997-05-21  1.635417  1.645833  1.375000  1.427083   1.427083  18853200   \n",
       "\n",
       "            10_ac_ma  20_ac_ma  50_ac_ma  10_ac_bb_u  10_ac_bb_l  20_ac_bb_u  \\\n",
       "Date                                                                           \n",
       "1997-05-15  1.597396   1.57474  1.772813     1.93311    1.261682    1.836333   \n",
       "1997-05-16  1.597396   1.57474  1.772813     1.93311    1.261682    1.836333   \n",
       "1997-05-19  1.597396   1.57474  1.772813     1.93311    1.261682    1.836333   \n",
       "1997-05-20  1.597396   1.57474  1.772813     1.93311    1.261682    1.836333   \n",
       "1997-05-21  1.597396   1.57474  1.772813     1.93311    1.261682    1.836333   \n",
       "\n",
       "            20_ac_bb_l  50_ac_bb_u  50_ac_bb_l  \n",
       "Date                                            \n",
       "1997-05-15    1.313146    2.458803    1.086822  \n",
       "1997-05-16    1.313146    2.458803    1.086822  \n",
       "1997-05-19    1.313146    2.458803    1.086822  \n",
       "1997-05-20    1.313146    2.458803    1.086822  \n",
       "1997-05-21    1.313146    2.458803    1.086822  "
      ]
     },
     "execution_count": 158,
     "metadata": {},
     "output_type": "execute_result"
    }
   ],
   "source": [
    "df_amzn.head()"
   ]
  },
  {
   "cell_type": "code",
   "execution_count": 159,
   "id": "improved-scene",
   "metadata": {},
   "outputs": [
    {
     "data": {
      "text/plain": [
       "<matplotlib.axes._subplots.AxesSubplot at 0x7f3806335d30>"
      ]
     },
     "execution_count": 159,
     "metadata": {},
     "output_type": "execute_result"
    },
    {
     "data": {
      "image/png": "[encoded data removed]",
      "text/plain": [
       "<Figure size 1080x360 with 1 Axes>"
      ]
     },
     "metadata": {
      "needs_background": "light"
     },
     "output_type": "display_data"
    }
   ],
   "source": [
    "df_amzn[start_date:end_date][['Adj Close', '10_ac_ma']].plot(legend=True,figsize=(15,5))"
   ]
  },
  {
   "cell_type": "markdown",
   "id": "overhead-selection",
   "metadata": {},
   "source": [
    "#### Alphabet Inc. stock moving averages"
   ]
  },
  {
   "cell_type": "code",
   "execution_count": 160,
   "id": "israeli-handbook",
   "metadata": {},
   "outputs": [],
   "source": [
    "# moving average sizes in days\n",
    "ma_d_sz = [10,20,50]\n",
    "\n",
    "# adding moving average columns to dataframe\n",
    "for mds in ma_d_sz:\n",
    "    column_name = \"%s_ac_ma\" %(str(mds))    \n",
    "    df_googl[column_name] = moving_average(df_googl['Adj Close'], window_size=mds)"
   ]
  },
  {
   "cell_type": "code",
   "execution_count": 161,
   "id": "harmful-thanksgiving",
   "metadata": {},
   "outputs": [
    {
     "data": {
      "text/html": [
       "<div>\n",
       "<style scoped>\n",
       "    .dataframe tbody tr th:only-of-type {\n",
       "        vertical-align: middle;\n",
       "    }\n",
       "\n",
       "    .dataframe tbody tr th {\n",
       "        vertical-align: top;\n",
       "    }\n",
       "\n",
       "    .dataframe thead th {\n",
       "        text-align: right;\n",
       "    }\n",
       "</style>\n",
       "<table border=\"1\" class=\"dataframe\">\n",
       "  <thead>\n",
       "    <tr style=\"text-align: right;\">\n",
       "      <th></th>\n",
       "      <th>Open</th>\n",
       "      <th>High</th>\n",
       "      <th>Low</th>\n",
       "      <th>Close</th>\n",
       "      <th>Adj Close</th>\n",
       "      <th>Volume</th>\n",
       "      <th>10_ac_ma</th>\n",
       "      <th>20_ac_ma</th>\n",
       "      <th>50_ac_ma</th>\n",
       "    </tr>\n",
       "    <tr>\n",
       "      <th>Date</th>\n",
       "      <th></th>\n",
       "      <th></th>\n",
       "      <th></th>\n",
       "      <th></th>\n",
       "      <th></th>\n",
       "      <th></th>\n",
       "      <th></th>\n",
       "      <th></th>\n",
       "      <th></th>\n",
       "    </tr>\n",
       "  </thead>\n",
       "  <tbody>\n",
       "    <tr>\n",
       "      <th>2004-08-19</th>\n",
       "      <td>50.050049</td>\n",
       "      <td>52.082081</td>\n",
       "      <td>48.028027</td>\n",
       "      <td>50.220219</td>\n",
       "      <td>50.220219</td>\n",
       "      <td>44659096</td>\n",
       "      <td>NaN</td>\n",
       "      <td>NaN</td>\n",
       "      <td>NaN</td>\n",
       "    </tr>\n",
       "    <tr>\n",
       "      <th>2004-08-20</th>\n",
       "      <td>50.555557</td>\n",
       "      <td>54.594597</td>\n",
       "      <td>50.300301</td>\n",
       "      <td>54.209209</td>\n",
       "      <td>54.209209</td>\n",
       "      <td>22834343</td>\n",
       "      <td>NaN</td>\n",
       "      <td>NaN</td>\n",
       "      <td>NaN</td>\n",
       "    </tr>\n",
       "    <tr>\n",
       "      <th>2004-08-23</th>\n",
       "      <td>55.430431</td>\n",
       "      <td>56.796799</td>\n",
       "      <td>54.579578</td>\n",
       "      <td>54.754753</td>\n",
       "      <td>54.754753</td>\n",
       "      <td>18256126</td>\n",
       "      <td>NaN</td>\n",
       "      <td>NaN</td>\n",
       "      <td>NaN</td>\n",
       "    </tr>\n",
       "    <tr>\n",
       "      <th>2004-08-24</th>\n",
       "      <td>55.675674</td>\n",
       "      <td>55.855858</td>\n",
       "      <td>51.836838</td>\n",
       "      <td>52.487488</td>\n",
       "      <td>52.487488</td>\n",
       "      <td>15247337</td>\n",
       "      <td>NaN</td>\n",
       "      <td>NaN</td>\n",
       "      <td>NaN</td>\n",
       "    </tr>\n",
       "    <tr>\n",
       "      <th>2004-08-25</th>\n",
       "      <td>52.532532</td>\n",
       "      <td>54.054054</td>\n",
       "      <td>51.991993</td>\n",
       "      <td>53.053055</td>\n",
       "      <td>53.053055</td>\n",
       "      <td>9188602</td>\n",
       "      <td>NaN</td>\n",
       "      <td>NaN</td>\n",
       "      <td>NaN</td>\n",
       "    </tr>\n",
       "  </tbody>\n",
       "</table>\n",
       "</div>"
      ],
      "text/plain": [
       "                 Open       High        Low      Close  Adj Close    Volume  \\\n",
       "Date                                                                          \n",
       "2004-08-19  50.050049  52.082081  48.028027  50.220219  50.220219  44659096   \n",
       "2004-08-20  50.555557  54.594597  50.300301  54.209209  54.209209  22834343   \n",
       "2004-08-23  55.430431  56.796799  54.579578  54.754753  54.754753  18256126   \n",
       "2004-08-24  55.675674  55.855858  51.836838  52.487488  52.487488  15247337   \n",
       "2004-08-25  52.532532  54.054054  51.991993  53.053055  53.053055   9188602   \n",
       "\n",
       "            10_ac_ma  20_ac_ma  50_ac_ma  \n",
       "Date                                      \n",
       "2004-08-19       NaN       NaN       NaN  \n",
       "2004-08-20       NaN       NaN       NaN  \n",
       "2004-08-23       NaN       NaN       NaN  \n",
       "2004-08-24       NaN       NaN       NaN  \n",
       "2004-08-25       NaN       NaN       NaN  "
      ]
     },
     "execution_count": 161,
     "metadata": {},
     "output_type": "execute_result"
    }
   ],
   "source": [
    "df_googl.head()"
   ]
  },
  {
   "cell_type": "markdown",
   "id": "compressed-spread",
   "metadata": {},
   "source": [
    "Moving average feature is empty for the first *n* days, where *n* is the window size, so I'll use some backfill to fill NaN values"
   ]
  },
  {
   "cell_type": "code",
   "execution_count": 162,
   "id": "composite-forest",
   "metadata": {},
   "outputs": [],
   "source": [
    "df_googl.fillna(method='backfill', inplace=True)"
   ]
  },
  {
   "cell_type": "code",
   "execution_count": 163,
   "id": "leading-blocking",
   "metadata": {},
   "outputs": [
    {
     "data": {
      "text/html": [
       "<div>\n",
       "<style scoped>\n",
       "    .dataframe tbody tr th:only-of-type {\n",
       "        vertical-align: middle;\n",
       "    }\n",
       "\n",
       "    .dataframe tbody tr th {\n",
       "        vertical-align: top;\n",
       "    }\n",
       "\n",
       "    .dataframe thead th {\n",
       "        text-align: right;\n",
       "    }\n",
       "</style>\n",
       "<table border=\"1\" class=\"dataframe\">\n",
       "  <thead>\n",
       "    <tr style=\"text-align: right;\">\n",
       "      <th></th>\n",
       "      <th>Open</th>\n",
       "      <th>High</th>\n",
       "      <th>Low</th>\n",
       "      <th>Close</th>\n",
       "      <th>Adj Close</th>\n",
       "      <th>Volume</th>\n",
       "      <th>10_ac_ma</th>\n",
       "      <th>20_ac_ma</th>\n",
       "      <th>50_ac_ma</th>\n",
       "    </tr>\n",
       "    <tr>\n",
       "      <th>Date</th>\n",
       "      <th></th>\n",
       "      <th></th>\n",
       "      <th></th>\n",
       "      <th></th>\n",
       "      <th></th>\n",
       "      <th></th>\n",
       "      <th></th>\n",
       "      <th></th>\n",
       "      <th></th>\n",
       "    </tr>\n",
       "  </thead>\n",
       "  <tbody>\n",
       "    <tr>\n",
       "      <th>2021-02-12</th>\n",
       "      <td>2079.770020</td>\n",
       "      <td>2099.500000</td>\n",
       "      <td>2073.570068</td>\n",
       "      <td>2095.030029</td>\n",
       "      <td>2095.030029</td>\n",
       "      <td>948500</td>\n",
       "      <td>2044.369971</td>\n",
       "      <td>1945.714978</td>\n",
       "      <td>1834.833992</td>\n",
       "    </tr>\n",
       "    <tr>\n",
       "      <th>2021-02-16</th>\n",
       "      <td>2091.750000</td>\n",
       "      <td>2145.139893</td>\n",
       "      <td>2091.750000</td>\n",
       "      <td>2110.699951</td>\n",
       "      <td>2110.699951</td>\n",
       "      <td>1548900</td>\n",
       "      <td>2066.132971</td>\n",
       "      <td>1964.868976</td>\n",
       "      <td>1840.548591</td>\n",
       "    </tr>\n",
       "    <tr>\n",
       "      <th>2021-02-17</th>\n",
       "      <td>2093.979980</td>\n",
       "      <td>2122.439941</td>\n",
       "      <td>2088.350098</td>\n",
       "      <td>2118.620117</td>\n",
       "      <td>2118.620117</td>\n",
       "      <td>1014700</td>\n",
       "      <td>2086.082983</td>\n",
       "      <td>1981.576483</td>\n",
       "      <td>1846.484194</td>\n",
       "    </tr>\n",
       "    <tr>\n",
       "      <th>2021-02-18</th>\n",
       "      <td>2105.000000</td>\n",
       "      <td>2121.989990</td>\n",
       "      <td>2093.330078</td>\n",
       "      <td>2105.810059</td>\n",
       "      <td>2105.810059</td>\n",
       "      <td>1127300</td>\n",
       "      <td>2090.776001</td>\n",
       "      <td>1992.863489</td>\n",
       "      <td>1852.125195</td>\n",
       "    </tr>\n",
       "    <tr>\n",
       "      <th>2021-02-19</th>\n",
       "      <td>2107.790039</td>\n",
       "      <td>2118.580078</td>\n",
       "      <td>2083.429932</td>\n",
       "      <td>2088.810059</td>\n",
       "      <td>2088.810059</td>\n",
       "      <td>1866100</td>\n",
       "      <td>2094.294019</td>\n",
       "      <td>2003.096490</td>\n",
       "      <td>1857.560796</td>\n",
       "    </tr>\n",
       "  </tbody>\n",
       "</table>\n",
       "</div>"
      ],
      "text/plain": [
       "                   Open         High          Low        Close    Adj Close  \\\n",
       "Date                                                                          \n",
       "2021-02-12  2079.770020  2099.500000  2073.570068  2095.030029  2095.030029   \n",
       "2021-02-16  2091.750000  2145.139893  2091.750000  2110.699951  2110.699951   \n",
       "2021-02-17  2093.979980  2122.439941  2088.350098  2118.620117  2118.620117   \n",
       "2021-02-18  2105.000000  2121.989990  2093.330078  2105.810059  2105.810059   \n",
       "2021-02-19  2107.790039  2118.580078  2083.429932  2088.810059  2088.810059   \n",
       "\n",
       "             Volume     10_ac_ma     20_ac_ma     50_ac_ma  \n",
       "Date                                                        \n",
       "2021-02-12   948500  2044.369971  1945.714978  1834.833992  \n",
       "2021-02-16  1548900  2066.132971  1964.868976  1840.548591  \n",
       "2021-02-17  1014700  2086.082983  1981.576483  1846.484194  \n",
       "2021-02-18  1127300  2090.776001  1992.863489  1852.125195  \n",
       "2021-02-19  1866100  2094.294019  2003.096490  1857.560796  "
      ]
     },
     "execution_count": 163,
     "metadata": {},
     "output_type": "execute_result"
    }
   ],
   "source": [
    "df_googl.tail()"
   ]
  },
  {
   "cell_type": "code",
   "execution_count": 164,
   "id": "consecutive-repository",
   "metadata": {},
   "outputs": [
    {
     "data": {
      "text/html": [
       "<div>\n",
       "<style scoped>\n",
       "    .dataframe tbody tr th:only-of-type {\n",
       "        vertical-align: middle;\n",
       "    }\n",
       "\n",
       "    .dataframe tbody tr th {\n",
       "        vertical-align: top;\n",
       "    }\n",
       "\n",
       "    .dataframe thead th {\n",
       "        text-align: right;\n",
       "    }\n",
       "</style>\n",
       "<table border=\"1\" class=\"dataframe\">\n",
       "  <thead>\n",
       "    <tr style=\"text-align: right;\">\n",
       "      <th></th>\n",
       "      <th>Open</th>\n",
       "      <th>High</th>\n",
       "      <th>Low</th>\n",
       "      <th>Close</th>\n",
       "      <th>Adj Close</th>\n",
       "      <th>Volume</th>\n",
       "      <th>10_ac_ma</th>\n",
       "      <th>20_ac_ma</th>\n",
       "      <th>50_ac_ma</th>\n",
       "    </tr>\n",
       "    <tr>\n",
       "      <th>Date</th>\n",
       "      <th></th>\n",
       "      <th></th>\n",
       "      <th></th>\n",
       "      <th></th>\n",
       "      <th></th>\n",
       "      <th></th>\n",
       "      <th></th>\n",
       "      <th></th>\n",
       "      <th></th>\n",
       "    </tr>\n",
       "  </thead>\n",
       "  <tbody>\n",
       "    <tr>\n",
       "      <th>2004-08-19</th>\n",
       "      <td>50.050049</td>\n",
       "      <td>52.082081</td>\n",
       "      <td>48.028027</td>\n",
       "      <td>50.220219</td>\n",
       "      <td>50.220219</td>\n",
       "      <td>44659096</td>\n",
       "      <td>52.432933</td>\n",
       "      <td>52.692943</td>\n",
       "      <td>63.586987</td>\n",
       "    </tr>\n",
       "    <tr>\n",
       "      <th>2004-08-20</th>\n",
       "      <td>50.555557</td>\n",
       "      <td>54.594597</td>\n",
       "      <td>50.300301</td>\n",
       "      <td>54.209209</td>\n",
       "      <td>54.209209</td>\n",
       "      <td>22834343</td>\n",
       "      <td>52.432933</td>\n",
       "      <td>52.692943</td>\n",
       "      <td>63.586987</td>\n",
       "    </tr>\n",
       "    <tr>\n",
       "      <th>2004-08-23</th>\n",
       "      <td>55.430431</td>\n",
       "      <td>56.796799</td>\n",
       "      <td>54.579578</td>\n",
       "      <td>54.754753</td>\n",
       "      <td>54.754753</td>\n",
       "      <td>18256126</td>\n",
       "      <td>52.432933</td>\n",
       "      <td>52.692943</td>\n",
       "      <td>63.586987</td>\n",
       "    </tr>\n",
       "    <tr>\n",
       "      <th>2004-08-24</th>\n",
       "      <td>55.675674</td>\n",
       "      <td>55.855858</td>\n",
       "      <td>51.836838</td>\n",
       "      <td>52.487488</td>\n",
       "      <td>52.487488</td>\n",
       "      <td>15247337</td>\n",
       "      <td>52.432933</td>\n",
       "      <td>52.692943</td>\n",
       "      <td>63.586987</td>\n",
       "    </tr>\n",
       "    <tr>\n",
       "      <th>2004-08-25</th>\n",
       "      <td>52.532532</td>\n",
       "      <td>54.054054</td>\n",
       "      <td>51.991993</td>\n",
       "      <td>53.053055</td>\n",
       "      <td>53.053055</td>\n",
       "      <td>9188602</td>\n",
       "      <td>52.432933</td>\n",
       "      <td>52.692943</td>\n",
       "      <td>63.586987</td>\n",
       "    </tr>\n",
       "  </tbody>\n",
       "</table>\n",
       "</div>"
      ],
      "text/plain": [
       "                 Open       High        Low      Close  Adj Close    Volume  \\\n",
       "Date                                                                          \n",
       "2004-08-19  50.050049  52.082081  48.028027  50.220219  50.220219  44659096   \n",
       "2004-08-20  50.555557  54.594597  50.300301  54.209209  54.209209  22834343   \n",
       "2004-08-23  55.430431  56.796799  54.579578  54.754753  54.754753  18256126   \n",
       "2004-08-24  55.675674  55.855858  51.836838  52.487488  52.487488  15247337   \n",
       "2004-08-25  52.532532  54.054054  51.991993  53.053055  53.053055   9188602   \n",
       "\n",
       "             10_ac_ma   20_ac_ma   50_ac_ma  \n",
       "Date                                         \n",
       "2004-08-19  52.432933  52.692943  63.586987  \n",
       "2004-08-20  52.432933  52.692943  63.586987  \n",
       "2004-08-23  52.432933  52.692943  63.586987  \n",
       "2004-08-24  52.432933  52.692943  63.586987  \n",
       "2004-08-25  52.432933  52.692943  63.586987  "
      ]
     },
     "execution_count": 164,
     "metadata": {},
     "output_type": "execute_result"
    }
   ],
   "source": [
    "df_googl.head()"
   ]
  },
  {
   "cell_type": "code",
   "execution_count": 165,
   "id": "chinese-credit",
   "metadata": {},
   "outputs": [
    {
     "data": {
      "text/plain": [
       "<matplotlib.axes._subplots.AxesSubplot at 0x7f38062b2710>"
      ]
     },
     "execution_count": 165,
     "metadata": {},
     "output_type": "execute_result"
    },
    {
     "data": {
      "image/png": "[encoded data removed]",
      "text/plain": [
       "<Figure size 1080x360 with 1 Axes>"
      ]
     },
     "metadata": {
      "needs_background": "light"
     },
     "output_type": "display_data"
    }
   ],
   "source": [
    "df_googl[analysis_start_date:end][['Adj Close', '20_ac_ma']].plot(legend=True,figsize=(15,5))"
   ]
  },
  {
   "cell_type": "markdown",
   "id": "micro-swift",
   "metadata": {},
   "source": [
    "### Metrics computation"
   ]
  },
  {
   "cell_type": "markdown",
   "id": "industrial-anxiety",
   "metadata": {},
   "source": [
    "Computing metrics on the benchmark model will give me a good reference to evaluate the deep learning model after training."
   ]
  },
  {
   "cell_type": "code",
   "execution_count": 239,
   "id": "given-staff",
   "metadata": {},
   "outputs": [],
   "source": [
    "from sklearn.metrics import mean_squared_error"
   ]
  },
  {
   "cell_type": "markdown",
   "id": "minus-lunch",
   "metadata": {},
   "source": [
    "#### IBM stock"
   ]
  },
  {
   "cell_type": "code",
   "execution_count": 240,
   "id": "intimate-anderson",
   "metadata": {},
   "outputs": [],
   "source": [
    "ibm_10ma_mse_loss = mean_squared_error(df_ibm['Adj Close'], df_ibm['10_ac_ma'])"
   ]
  },
  {
   "cell_type": "code",
   "execution_count": 241,
   "id": "attached-bacon",
   "metadata": {},
   "outputs": [
    {
     "name": "stdout",
     "output_type": "stream",
     "text": [
      "2.354752483925547\n"
     ]
    }
   ],
   "source": [
    "print(ibm_10ma_mse_loss)"
   ]
  },
  {
   "cell_type": "code",
   "execution_count": 242,
   "id": "incoming-flower",
   "metadata": {},
   "outputs": [],
   "source": [
    "ibm_20ma_mse_loss = mean_squared_error(df_ibm['Adj Close'], df_ibm['20_ac_ma'])"
   ]
  },
  {
   "cell_type": "code",
   "execution_count": 243,
   "id": "corrected-postage",
   "metadata": {},
   "outputs": [
    {
     "name": "stdout",
     "output_type": "stream",
     "text": [
      "5.103982705879878\n"
     ]
    }
   ],
   "source": [
    "print(ibm_20ma_mse_loss)"
   ]
  },
  {
   "cell_type": "code",
   "execution_count": 244,
   "id": "eleven-supplier",
   "metadata": {},
   "outputs": [],
   "source": [
    "ibm_50ma_mse_loss = mean_squared_error(df_ibm['Adj Close'], df_ibm['50_ac_ma'])"
   ]
  },
  {
   "cell_type": "code",
   "execution_count": 245,
   "id": "certified-ambassador",
   "metadata": {},
   "outputs": [
    {
     "name": "stdout",
     "output_type": "stream",
     "text": [
      "11.563776781273132\n"
     ]
    }
   ],
   "source": [
    "print(ibm_50ma_mse_loss)"
   ]
  },
  {
   "cell_type": "markdown",
   "id": "convenient-audio",
   "metadata": {},
   "source": [
    "#### Apple Inc. stock"
   ]
  },
  {
   "cell_type": "code",
   "execution_count": 256,
   "id": "varying-documentary",
   "metadata": {},
   "outputs": [],
   "source": [
    "aapl_10ma_mse_loss = mean_squared_error(df_aapl['Adj Close'], df_aapl['10_ac_ma'])"
   ]
  },
  {
   "cell_type": "code",
   "execution_count": 257,
   "id": "plain-breath",
   "metadata": {},
   "outputs": [
    {
     "name": "stdout",
     "output_type": "stream",
     "text": [
      "0.5904003486257521\n"
     ]
    }
   ],
   "source": [
    "print(aapl_10ma_mse_loss)"
   ]
  },
  {
   "cell_type": "code",
   "execution_count": 258,
   "id": "bigger-living",
   "metadata": {},
   "outputs": [],
   "source": [
    "aapl_20ma_mse_loss = mean_squared_error(df_aapl['Adj Close'], df_aapl['20_ac_ma'])"
   ]
  },
  {
   "cell_type": "code",
   "execution_count": 260,
   "id": "color-implementation",
   "metadata": {},
   "outputs": [
    {
     "name": "stdout",
     "output_type": "stream",
     "text": [
      "1.2972070531787763\n"
     ]
    }
   ],
   "source": [
    "print(aapl_20ma_mse_loss)"
   ]
  },
  {
   "cell_type": "code",
   "execution_count": 261,
   "id": "scheduled-riding",
   "metadata": {},
   "outputs": [],
   "source": [
    "aapl_50ma_mse_loss = mean_squared_error(df_aapl['Adj Close'], df_aapl['50_ac_ma'])"
   ]
  },
  {
   "cell_type": "code",
   "execution_count": 262,
   "id": "ongoing-yemen",
   "metadata": {},
   "outputs": [
    {
     "name": "stdout",
     "output_type": "stream",
     "text": [
      "3.92653150934996\n"
     ]
    }
   ],
   "source": [
    "print(aapl_50ma_mse_loss)"
   ]
  },
  {
   "cell_type": "markdown",
   "id": "formal-malpractice",
   "metadata": {},
   "source": [
    "#### Amazon.com stock"
   ]
  },
  {
   "cell_type": "code",
   "execution_count": 246,
   "id": "southwest-photograph",
   "metadata": {},
   "outputs": [],
   "source": [
    "amzn_10ma_mse_loss = mean_squared_error(df_amzn['Adj Close'], df_amzn['10_ac_ma'])"
   ]
  },
  {
   "cell_type": "code",
   "execution_count": 253,
   "id": "average-proposition",
   "metadata": {},
   "outputs": [
    {
     "name": "stdout",
     "output_type": "stream",
     "text": [
      "695.4867445525978\n"
     ]
    }
   ],
   "source": [
    "print(amzn_10ma_mse_loss)"
   ]
  },
  {
   "cell_type": "code",
   "execution_count": 254,
   "id": "bound-television",
   "metadata": {},
   "outputs": [],
   "source": [
    "amzn_20ma_mse_loss = mean_squared_error(df_amzn['Adj Close'], df_amzn['20_ac_ma'])"
   ]
  },
  {
   "cell_type": "code",
   "execution_count": 255,
   "id": "valuable-diary",
   "metadata": {},
   "outputs": [
    {
     "name": "stdout",
     "output_type": "stream",
     "text": [
      "1420.5802644474145\n"
     ]
    }
   ],
   "source": [
    "print(amzn_20ma_mse_loss)"
   ]
  },
  {
   "cell_type": "code",
   "execution_count": 250,
   "id": "continuous-fellowship",
   "metadata": {},
   "outputs": [],
   "source": [
    "amzn_50ma_mse_loss = mean_squared_error(df_amzn['Adj Close'], df_amzn['50_ac_ma'])"
   ]
  },
  {
   "cell_type": "code",
   "execution_count": 252,
   "id": "matched-imagination",
   "metadata": {},
   "outputs": [
    {
     "name": "stdout",
     "output_type": "stream",
     "text": [
      "3641.462961696154\n"
     ]
    }
   ],
   "source": [
    "print(amzn_50ma_mse_loss)"
   ]
  },
  {
   "cell_type": "markdown",
   "id": "vanilla-defeat",
   "metadata": {},
   "source": [
    "#### Alphabet Inc. stock"
   ]
  },
  {
   "cell_type": "code",
   "execution_count": 263,
   "id": "coupled-mason",
   "metadata": {},
   "outputs": [],
   "source": [
    "googl_10ma_mse_loss = mean_squared_error(df_googl['Adj Close'], df_googl['10_ac_ma'])"
   ]
  },
  {
   "cell_type": "code",
   "execution_count": 264,
   "id": "certified-hardwood",
   "metadata": {},
   "outputs": [
    {
     "name": "stdout",
     "output_type": "stream",
     "text": [
      "386.4951901295182\n"
     ]
    }
   ],
   "source": [
    "print(googl_10ma_mse_loss)"
   ]
  },
  {
   "cell_type": "code",
   "execution_count": 265,
   "id": "worth-fisher",
   "metadata": {},
   "outputs": [],
   "source": [
    "googl_20ma_mse_loss = mean_squared_error(df_googl['Adj Close'], df_googl['20_ac_ma'])"
   ]
  },
  {
   "cell_type": "code",
   "execution_count": 268,
   "id": "therapeutic-button",
   "metadata": {},
   "outputs": [
    {
     "name": "stdout",
     "output_type": "stream",
     "text": [
      "848.8287162842605\n"
     ]
    }
   ],
   "source": [
    "print(googl_20ma_mse_loss)"
   ]
  },
  {
   "cell_type": "code",
   "execution_count": 266,
   "id": "continuous-mandate",
   "metadata": {},
   "outputs": [],
   "source": [
    "googl_50ma_mse_loss = mean_squared_error(df_googl['Adj Close'], df_googl['50_ac_ma'])"
   ]
  },
  {
   "cell_type": "code",
   "execution_count": 267,
   "id": "stable-thanksgiving",
   "metadata": {},
   "outputs": [
    {
     "name": "stdout",
     "output_type": "stream",
     "text": [
      "2111.4464762363505\n"
     ]
    }
   ],
   "source": [
    "print(googl_50ma_mse_loss)"
   ]
  },
  {
   "cell_type": "markdown",
   "id": "fallen-poster",
   "metadata": {},
   "source": [
    "As expected, loss augments as we observe moving average on larger windows"
   ]
  }
 ],
 "metadata": {
  "kernelspec": {
   "display_name": "conda_pytorch_p36",
   "language": "python",
   "name": "conda_pytorch_p36"
  },
  "language_info": {
   "codemirror_mode": {
    "name": "ipython",
    "version": 3
   },
   "file_extension": ".py",
   "mimetype": "text/x-python",
   "name": "python",
   "nbconvert_exporter": "python",
   "pygments_lexer": "ipython3",
   "version": "3.6.10"
  }
 },
 "nbformat": 4,
 "nbformat_minor": 5
}
