{
 "cells": [
  {
   "cell_type": "markdown",
   "id": "every-duncan",
   "metadata": {},
   "source": [
    "## Benchmark model"
   ]
  },
  {
   "cell_type": "markdown",
   "id": "center-massachusetts",
   "metadata": {},
   "source": [
    "In this notebook a Simple Moving Average model will be created in order to have a benchmark for my DeepAR based model (to be tuned in the next notebook)."
   ]
  },
  {
   "cell_type": "markdown",
   "id": "spiritual-encyclopedia",
   "metadata": {},
   "source": [
    "### Hyperparameters"
   ]
  },
  {
   "cell_type": "markdown",
   "id": "sufficient-investigation",
   "metadata": {},
   "source": [
    "DeepAR is the model of choice of this project.\n",
    "This model expects input data to be already test-train splitted.\n",
    "A big part of the model design has to be done looking close at data.\n",
    "More specifically, defining these two hyperparameters about the data:\n",
    "* Context length\n",
    "* Prediction length"
   ]
  },
  {
   "cell_type": "markdown",
   "id": "progressive-regard",
   "metadata": {},
   "source": [
    "### Prediction length"
   ]
  },
  {
   "cell_type": "markdown",
   "id": "substantial-ceramic",
   "metadata": {},
   "source": [
    "This is the length of the time series future predictions in days. It will be conveniently set to 5 days (exactly a week of trading hours) because a shorter interval would be of little significance.\n",
    "A longer interval could be interesting from an application point of view, but it can be challenging in terms of model performances."
   ]
  },
  {
   "cell_type": "markdown",
   "id": "caring-glance",
   "metadata": {},
   "source": [
    "### Context length"
   ]
  },
  {
   "cell_type": "markdown",
   "id": "intelligent-catalog",
   "metadata": {},
   "source": [
    "Context length can be either:\n",
    "* designed on patterns or seasonality observed in the data, if any is present;\n",
    "* chosen as a fixed value. This will be my choice, and it will be the same as the moving average window, in order to have a good reference metrics, applicable to both this model and the benchmark model."
   ]
  },
  {
   "cell_type": "markdown",
   "id": "twenty-section",
   "metadata": {},
   "source": [
    "To explore this second option, we will refer to what we've found during the EDA stage."
   ]
  },
  {
   "cell_type": "code",
   "execution_count": 138,
   "id": "neural-argument",
   "metadata": {},
   "outputs": [],
   "source": [
    "prediction_length = [10, 20, 50]\n",
    "context_length = [10, 20, 50]"
   ]
  },
  {
   "cell_type": "markdown",
   "id": "hydraulic-replica",
   "metadata": {},
   "source": [
    "### Train, test and validation split"
   ]
  },
  {
   "cell_type": "markdown",
   "id": "mounted-strengthening",
   "metadata": {},
   "source": [
    "Time series will be all trimmed from `data_start` in `1.ExploratoryDataAnalysis.ipy`, according to DeepAR documentation, train time series should be set as the size of the entire time series less the prediction length.\n",
    "Validation length will exactly equal to prediction length."
   ]
  },
  {
   "cell_type": "code",
   "execution_count": 139,
   "id": "composite-sleeve",
   "metadata": {},
   "outputs": [],
   "source": [
    "from data.data_utils import train_test_valid_split"
   ]
  },
  {
   "cell_type": "markdown",
   "id": "historical-heading",
   "metadata": {},
   "source": [
    "#### IBM Stock train, test and validation split"
   ]
  },
  {
   "cell_type": "code",
   "execution_count": 140,
   "id": "vulnerable-local",
   "metadata": {},
   "outputs": [],
   "source": [
    "df_ibm = df_ibm.loc[data_start:].copy()"
   ]
  },
  {
   "cell_type": "code",
   "execution_count": 141,
   "id": "universal-jungle",
   "metadata": {},
   "outputs": [
    {
     "name": "stdout",
     "output_type": "stream",
     "text": [
      "4188 4148 4168 20\n"
     ]
    }
   ],
   "source": [
    "df_ibm_train, df_ibm_test, df_ibm_valid = train_test_valid_split(df_ibm, prediction_length=prediction_length[1])\n",
    "print(len(df_ibm), len(df_ibm_train), len(df_ibm_test), len(df_ibm_valid))"
   ]
  },
  {
   "cell_type": "code",
   "execution_count": 142,
   "id": "supposed-sleeping",
   "metadata": {},
   "outputs": [
    {
     "data": {
      "text/html": [
       "<div>\n",
       "<style scoped>\n",
       "    .dataframe tbody tr th:only-of-type {\n",
       "        vertical-align: middle;\n",
       "    }\n",
       "\n",
       "    .dataframe tbody tr th {\n",
       "        vertical-align: top;\n",
       "    }\n",
       "\n",
       "    .dataframe thead th {\n",
       "        text-align: right;\n",
       "    }\n",
       "</style>\n",
       "<table border=\"1\" class=\"dataframe\">\n",
       "  <thead>\n",
       "    <tr style=\"text-align: right;\">\n",
       "      <th></th>\n",
       "      <th>Adj Close</th>\n",
       "      <th>Close</th>\n",
       "      <th>High</th>\n",
       "      <th>Low</th>\n",
       "      <th>Open</th>\n",
       "      <th>Volume</th>\n",
       "      <th>Dividends</th>\n",
       "      <th>Stock Splits</th>\n",
       "      <th>10_ac_ma</th>\n",
       "      <th>20_ac_ma</th>\n",
       "      <th>50_ac_ma</th>\n",
       "      <th>10_ac_bb_u</th>\n",
       "      <th>10_ac_bb_l</th>\n",
       "      <th>20_ac_bb_u</th>\n",
       "      <th>20_ac_bb_l</th>\n",
       "      <th>50_ac_bb_u</th>\n",
       "      <th>50_ac_bb_l</th>\n",
       "    </tr>\n",
       "    <tr>\n",
       "      <th>Date</th>\n",
       "      <th></th>\n",
       "      <th></th>\n",
       "      <th></th>\n",
       "      <th></th>\n",
       "      <th></th>\n",
       "      <th></th>\n",
       "      <th></th>\n",
       "      <th></th>\n",
       "      <th></th>\n",
       "      <th></th>\n",
       "      <th></th>\n",
       "      <th></th>\n",
       "      <th></th>\n",
       "      <th></th>\n",
       "      <th></th>\n",
       "      <th></th>\n",
       "      <th></th>\n",
       "    </tr>\n",
       "  </thead>\n",
       "  <tbody>\n",
       "    <tr>\n",
       "      <th>2004-08-19</th>\n",
       "      <td>54.979382</td>\n",
       "      <td>84.889999</td>\n",
       "      <td>85.349998</td>\n",
       "      <td>84.449997</td>\n",
       "      <td>84.750000</td>\n",
       "      <td>4704500</td>\n",
       "      <td>0.18</td>\n",
       "      <td>0.0</td>\n",
       "      <td>54.397126</td>\n",
       "      <td>54.958798</td>\n",
       "      <td>55.913001</td>\n",
       "      <td>55.525647</td>\n",
       "      <td>53.268605</td>\n",
       "      <td>56.500281</td>\n",
       "      <td>53.417314</td>\n",
       "      <td>59.046566</td>\n",
       "      <td>52.779437</td>\n",
       "    </tr>\n",
       "    <tr>\n",
       "      <th>2004-08-20</th>\n",
       "      <td>55.212502</td>\n",
       "      <td>85.250000</td>\n",
       "      <td>85.250000</td>\n",
       "      <td>84.519997</td>\n",
       "      <td>84.519997</td>\n",
       "      <td>4501400</td>\n",
       "      <td>0.18</td>\n",
       "      <td>0.0</td>\n",
       "      <td>54.511759</td>\n",
       "      <td>54.977556</td>\n",
       "      <td>55.852774</td>\n",
       "      <td>55.720874</td>\n",
       "      <td>53.302644</td>\n",
       "      <td>56.521944</td>\n",
       "      <td>53.433168</td>\n",
       "      <td>58.920109</td>\n",
       "      <td>52.785438</td>\n",
       "    </tr>\n",
       "    <tr>\n",
       "      <th>2004-08-23</th>\n",
       "      <td>54.823910</td>\n",
       "      <td>84.650002</td>\n",
       "      <td>85.449997</td>\n",
       "      <td>84.650002</td>\n",
       "      <td>85.230003</td>\n",
       "      <td>4260600</td>\n",
       "      <td>0.18</td>\n",
       "      <td>0.0</td>\n",
       "      <td>54.582999</td>\n",
       "      <td>54.969128</td>\n",
       "      <td>55.779992</td>\n",
       "      <td>55.771068</td>\n",
       "      <td>53.394930</td>\n",
       "      <td>56.515013</td>\n",
       "      <td>53.423244</td>\n",
       "      <td>58.766151</td>\n",
       "      <td>52.793832</td>\n",
       "    </tr>\n",
       "    <tr>\n",
       "      <th>2004-08-24</th>\n",
       "      <td>54.862782</td>\n",
       "      <td>84.709999</td>\n",
       "      <td>85.150002</td>\n",
       "      <td>84.349998</td>\n",
       "      <td>85.000000</td>\n",
       "      <td>2710400</td>\n",
       "      <td>0.18</td>\n",
       "      <td>0.0</td>\n",
       "      <td>54.564866</td>\n",
       "      <td>54.937116</td>\n",
       "      <td>55.713028</td>\n",
       "      <td>55.726906</td>\n",
       "      <td>53.402826</td>\n",
       "      <td>56.462835</td>\n",
       "      <td>53.411398</td>\n",
       "      <td>58.625949</td>\n",
       "      <td>52.800108</td>\n",
       "    </tr>\n",
       "    <tr>\n",
       "      <th>2004-08-25</th>\n",
       "      <td>55.095955</td>\n",
       "      <td>85.070000</td>\n",
       "      <td>85.269997</td>\n",
       "      <td>84.550003</td>\n",
       "      <td>85.000000</td>\n",
       "      <td>4405600</td>\n",
       "      <td>0.18</td>\n",
       "      <td>0.0</td>\n",
       "      <td>54.654243</td>\n",
       "      <td>54.917732</td>\n",
       "      <td>55.644653</td>\n",
       "      <td>55.829713</td>\n",
       "      <td>53.478772</td>\n",
       "      <td>56.423940</td>\n",
       "      <td>53.411524</td>\n",
       "      <td>58.447571</td>\n",
       "      <td>52.841736</td>\n",
       "    </tr>\n",
       "  </tbody>\n",
       "</table>\n",
       "</div>"
      ],
      "text/plain": [
       "            Adj Close      Close       High        Low       Open   Volume  \\\n",
       "Date                                                                         \n",
       "2004-08-19  54.979382  84.889999  85.349998  84.449997  84.750000  4704500   \n",
       "2004-08-20  55.212502  85.250000  85.250000  84.519997  84.519997  4501400   \n",
       "2004-08-23  54.823910  84.650002  85.449997  84.650002  85.230003  4260600   \n",
       "2004-08-24  54.862782  84.709999  85.150002  84.349998  85.000000  2710400   \n",
       "2004-08-25  55.095955  85.070000  85.269997  84.550003  85.000000  4405600   \n",
       "\n",
       "            Dividends  Stock Splits   10_ac_ma   20_ac_ma   50_ac_ma  \\\n",
       "Date                                                                   \n",
       "2004-08-19       0.18           0.0  54.397126  54.958798  55.913001   \n",
       "2004-08-20       0.18           0.0  54.511759  54.977556  55.852774   \n",
       "2004-08-23       0.18           0.0  54.582999  54.969128  55.779992   \n",
       "2004-08-24       0.18           0.0  54.564866  54.937116  55.713028   \n",
       "2004-08-25       0.18           0.0  54.654243  54.917732  55.644653   \n",
       "\n",
       "            10_ac_bb_u  10_ac_bb_l  20_ac_bb_u  20_ac_bb_l  50_ac_bb_u  \\\n",
       "Date                                                                     \n",
       "2004-08-19   55.525647   53.268605   56.500281   53.417314   59.046566   \n",
       "2004-08-20   55.720874   53.302644   56.521944   53.433168   58.920109   \n",
       "2004-08-23   55.771068   53.394930   56.515013   53.423244   58.766151   \n",
       "2004-08-24   55.726906   53.402826   56.462835   53.411398   58.625949   \n",
       "2004-08-25   55.829713   53.478772   56.423940   53.411524   58.447571   \n",
       "\n",
       "            50_ac_bb_l  \n",
       "Date                    \n",
       "2004-08-19   52.779437  \n",
       "2004-08-20   52.785438  \n",
       "2004-08-23   52.793832  \n",
       "2004-08-24   52.800108  \n",
       "2004-08-25   52.841736  "
      ]
     },
     "execution_count": 142,
     "metadata": {},
     "output_type": "execute_result"
    }
   ],
   "source": [
    "df_ibm_train.head()"
   ]
  },
  {
   "cell_type": "code",
   "execution_count": 143,
   "id": "controlled-soldier",
   "metadata": {},
   "outputs": [
    {
     "data": {
      "text/html": [
       "<div>\n",
       "<style scoped>\n",
       "    .dataframe tbody tr th:only-of-type {\n",
       "        vertical-align: middle;\n",
       "    }\n",
       "\n",
       "    .dataframe tbody tr th {\n",
       "        vertical-align: top;\n",
       "    }\n",
       "\n",
       "    .dataframe thead th {\n",
       "        text-align: right;\n",
       "    }\n",
       "</style>\n",
       "<table border=\"1\" class=\"dataframe\">\n",
       "  <thead>\n",
       "    <tr style=\"text-align: right;\">\n",
       "      <th></th>\n",
       "      <th>Adj Close</th>\n",
       "      <th>Close</th>\n",
       "      <th>High</th>\n",
       "      <th>Low</th>\n",
       "      <th>Open</th>\n",
       "      <th>Volume</th>\n",
       "      <th>Dividends</th>\n",
       "      <th>Stock Splits</th>\n",
       "      <th>10_ac_ma</th>\n",
       "      <th>20_ac_ma</th>\n",
       "      <th>50_ac_ma</th>\n",
       "      <th>10_ac_bb_u</th>\n",
       "      <th>10_ac_bb_l</th>\n",
       "      <th>20_ac_bb_u</th>\n",
       "      <th>20_ac_bb_l</th>\n",
       "      <th>50_ac_bb_u</th>\n",
       "      <th>50_ac_bb_l</th>\n",
       "    </tr>\n",
       "    <tr>\n",
       "      <th>Date</th>\n",
       "      <th></th>\n",
       "      <th></th>\n",
       "      <th></th>\n",
       "      <th></th>\n",
       "      <th></th>\n",
       "      <th></th>\n",
       "      <th></th>\n",
       "      <th></th>\n",
       "      <th></th>\n",
       "      <th></th>\n",
       "      <th></th>\n",
       "      <th></th>\n",
       "      <th></th>\n",
       "      <th></th>\n",
       "      <th></th>\n",
       "      <th></th>\n",
       "      <th></th>\n",
       "    </tr>\n",
       "  </thead>\n",
       "  <tbody>\n",
       "    <tr>\n",
       "      <th>2004-08-19</th>\n",
       "      <td>54.979382</td>\n",
       "      <td>84.889999</td>\n",
       "      <td>85.349998</td>\n",
       "      <td>84.449997</td>\n",
       "      <td>84.750000</td>\n",
       "      <td>4704500</td>\n",
       "      <td>0.18</td>\n",
       "      <td>0.0</td>\n",
       "      <td>54.397126</td>\n",
       "      <td>54.958798</td>\n",
       "      <td>55.913001</td>\n",
       "      <td>55.525647</td>\n",
       "      <td>53.268605</td>\n",
       "      <td>56.500281</td>\n",
       "      <td>53.417314</td>\n",
       "      <td>59.046566</td>\n",
       "      <td>52.779437</td>\n",
       "    </tr>\n",
       "    <tr>\n",
       "      <th>2004-08-20</th>\n",
       "      <td>55.212502</td>\n",
       "      <td>85.250000</td>\n",
       "      <td>85.250000</td>\n",
       "      <td>84.519997</td>\n",
       "      <td>84.519997</td>\n",
       "      <td>4501400</td>\n",
       "      <td>0.18</td>\n",
       "      <td>0.0</td>\n",
       "      <td>54.511759</td>\n",
       "      <td>54.977556</td>\n",
       "      <td>55.852774</td>\n",
       "      <td>55.720874</td>\n",
       "      <td>53.302644</td>\n",
       "      <td>56.521944</td>\n",
       "      <td>53.433168</td>\n",
       "      <td>58.920109</td>\n",
       "      <td>52.785438</td>\n",
       "    </tr>\n",
       "    <tr>\n",
       "      <th>2004-08-23</th>\n",
       "      <td>54.823910</td>\n",
       "      <td>84.650002</td>\n",
       "      <td>85.449997</td>\n",
       "      <td>84.650002</td>\n",
       "      <td>85.230003</td>\n",
       "      <td>4260600</td>\n",
       "      <td>0.18</td>\n",
       "      <td>0.0</td>\n",
       "      <td>54.582999</td>\n",
       "      <td>54.969128</td>\n",
       "      <td>55.779992</td>\n",
       "      <td>55.771068</td>\n",
       "      <td>53.394930</td>\n",
       "      <td>56.515013</td>\n",
       "      <td>53.423244</td>\n",
       "      <td>58.766151</td>\n",
       "      <td>52.793832</td>\n",
       "    </tr>\n",
       "    <tr>\n",
       "      <th>2004-08-24</th>\n",
       "      <td>54.862782</td>\n",
       "      <td>84.709999</td>\n",
       "      <td>85.150002</td>\n",
       "      <td>84.349998</td>\n",
       "      <td>85.000000</td>\n",
       "      <td>2710400</td>\n",
       "      <td>0.18</td>\n",
       "      <td>0.0</td>\n",
       "      <td>54.564866</td>\n",
       "      <td>54.937116</td>\n",
       "      <td>55.713028</td>\n",
       "      <td>55.726906</td>\n",
       "      <td>53.402826</td>\n",
       "      <td>56.462835</td>\n",
       "      <td>53.411398</td>\n",
       "      <td>58.625949</td>\n",
       "      <td>52.800108</td>\n",
       "    </tr>\n",
       "    <tr>\n",
       "      <th>2004-08-25</th>\n",
       "      <td>55.095955</td>\n",
       "      <td>85.070000</td>\n",
       "      <td>85.269997</td>\n",
       "      <td>84.550003</td>\n",
       "      <td>85.000000</td>\n",
       "      <td>4405600</td>\n",
       "      <td>0.18</td>\n",
       "      <td>0.0</td>\n",
       "      <td>54.654243</td>\n",
       "      <td>54.917732</td>\n",
       "      <td>55.644653</td>\n",
       "      <td>55.829713</td>\n",
       "      <td>53.478772</td>\n",
       "      <td>56.423940</td>\n",
       "      <td>53.411524</td>\n",
       "      <td>58.447571</td>\n",
       "      <td>52.841736</td>\n",
       "    </tr>\n",
       "  </tbody>\n",
       "</table>\n",
       "</div>"
      ],
      "text/plain": [
       "            Adj Close      Close       High        Low       Open   Volume  \\\n",
       "Date                                                                         \n",
       "2004-08-19  54.979382  84.889999  85.349998  84.449997  84.750000  4704500   \n",
       "2004-08-20  55.212502  85.250000  85.250000  84.519997  84.519997  4501400   \n",
       "2004-08-23  54.823910  84.650002  85.449997  84.650002  85.230003  4260600   \n",
       "2004-08-24  54.862782  84.709999  85.150002  84.349998  85.000000  2710400   \n",
       "2004-08-25  55.095955  85.070000  85.269997  84.550003  85.000000  4405600   \n",
       "\n",
       "            Dividends  Stock Splits   10_ac_ma   20_ac_ma   50_ac_ma  \\\n",
       "Date                                                                   \n",
       "2004-08-19       0.18           0.0  54.397126  54.958798  55.913001   \n",
       "2004-08-20       0.18           0.0  54.511759  54.977556  55.852774   \n",
       "2004-08-23       0.18           0.0  54.582999  54.969128  55.779992   \n",
       "2004-08-24       0.18           0.0  54.564866  54.937116  55.713028   \n",
       "2004-08-25       0.18           0.0  54.654243  54.917732  55.644653   \n",
       "\n",
       "            10_ac_bb_u  10_ac_bb_l  20_ac_bb_u  20_ac_bb_l  50_ac_bb_u  \\\n",
       "Date                                                                     \n",
       "2004-08-19   55.525647   53.268605   56.500281   53.417314   59.046566   \n",
       "2004-08-20   55.720874   53.302644   56.521944   53.433168   58.920109   \n",
       "2004-08-23   55.771068   53.394930   56.515013   53.423244   58.766151   \n",
       "2004-08-24   55.726906   53.402826   56.462835   53.411398   58.625949   \n",
       "2004-08-25   55.829713   53.478772   56.423940   53.411524   58.447571   \n",
       "\n",
       "            50_ac_bb_l  \n",
       "Date                    \n",
       "2004-08-19   52.779437  \n",
       "2004-08-20   52.785438  \n",
       "2004-08-23   52.793832  \n",
       "2004-08-24   52.800108  \n",
       "2004-08-25   52.841736  "
      ]
     },
     "execution_count": 143,
     "metadata": {},
     "output_type": "execute_result"
    }
   ],
   "source": [
    "df_ibm_test.head()"
   ]
  },
  {
   "cell_type": "code",
   "execution_count": 144,
   "id": "distributed-prevention",
   "metadata": {},
   "outputs": [
    {
     "data": {
      "text/html": [
       "<div>\n",
       "<style scoped>\n",
       "    .dataframe tbody tr th:only-of-type {\n",
       "        vertical-align: middle;\n",
       "    }\n",
       "\n",
       "    .dataframe tbody tr th {\n",
       "        vertical-align: top;\n",
       "    }\n",
       "\n",
       "    .dataframe thead th {\n",
       "        text-align: right;\n",
       "    }\n",
       "</style>\n",
       "<table border=\"1\" class=\"dataframe\">\n",
       "  <thead>\n",
       "    <tr style=\"text-align: right;\">\n",
       "      <th></th>\n",
       "      <th>Adj Close</th>\n",
       "      <th>Close</th>\n",
       "      <th>High</th>\n",
       "      <th>Low</th>\n",
       "      <th>Open</th>\n",
       "      <th>Volume</th>\n",
       "      <th>Dividends</th>\n",
       "      <th>Stock Splits</th>\n",
       "      <th>10_ac_ma</th>\n",
       "      <th>20_ac_ma</th>\n",
       "      <th>50_ac_ma</th>\n",
       "      <th>10_ac_bb_u</th>\n",
       "      <th>10_ac_bb_l</th>\n",
       "      <th>20_ac_bb_u</th>\n",
       "      <th>20_ac_bb_l</th>\n",
       "      <th>50_ac_bb_u</th>\n",
       "      <th>50_ac_bb_l</th>\n",
       "    </tr>\n",
       "    <tr>\n",
       "      <th>Date</th>\n",
       "      <th></th>\n",
       "      <th></th>\n",
       "      <th></th>\n",
       "      <th></th>\n",
       "      <th></th>\n",
       "      <th></th>\n",
       "      <th></th>\n",
       "      <th></th>\n",
       "      <th></th>\n",
       "      <th></th>\n",
       "      <th></th>\n",
       "      <th></th>\n",
       "      <th></th>\n",
       "      <th></th>\n",
       "      <th></th>\n",
       "      <th></th>\n",
       "      <th></th>\n",
       "    </tr>\n",
       "  </thead>\n",
       "  <tbody>\n",
       "    <tr>\n",
       "      <th>2021-03-11</th>\n",
       "      <td>127.139999</td>\n",
       "      <td>127.139999</td>\n",
       "      <td>128.639999</td>\n",
       "      <td>126.779999</td>\n",
       "      <td>128.089996</td>\n",
       "      <td>5145000</td>\n",
       "      <td>NaN</td>\n",
       "      <td>NaN</td>\n",
       "      <td>122.930000</td>\n",
       "      <td>121.901001</td>\n",
       "      <td>122.538418</td>\n",
       "      <td>129.006110</td>\n",
       "      <td>116.853890</td>\n",
       "      <td>126.870732</td>\n",
       "      <td>116.931269</td>\n",
       "      <td>129.440326</td>\n",
       "      <td>115.636510</td>\n",
       "    </tr>\n",
       "    <tr>\n",
       "      <th>2021-03-12</th>\n",
       "      <td>127.610001</td>\n",
       "      <td>127.610001</td>\n",
       "      <td>127.680000</td>\n",
       "      <td>126.610001</td>\n",
       "      <td>127.190002</td>\n",
       "      <td>4009600</td>\n",
       "      <td>NaN</td>\n",
       "      <td>NaN</td>\n",
       "      <td>123.798000</td>\n",
       "      <td>122.236000</td>\n",
       "      <td>122.647268</td>\n",
       "      <td>129.814133</td>\n",
       "      <td>117.781868</td>\n",
       "      <td>127.793029</td>\n",
       "      <td>116.678972</td>\n",
       "      <td>129.695417</td>\n",
       "      <td>115.599118</td>\n",
       "    </tr>\n",
       "    <tr>\n",
       "      <th>2021-03-15</th>\n",
       "      <td>128.580002</td>\n",
       "      <td>128.580002</td>\n",
       "      <td>128.750000</td>\n",
       "      <td>127.540001</td>\n",
       "      <td>127.769997</td>\n",
       "      <td>3420600</td>\n",
       "      <td>NaN</td>\n",
       "      <td>NaN</td>\n",
       "      <td>124.582001</td>\n",
       "      <td>122.625000</td>\n",
       "      <td>122.764860</td>\n",
       "      <td>130.864455</td>\n",
       "      <td>118.299547</td>\n",
       "      <td>128.812263</td>\n",
       "      <td>116.437738</td>\n",
       "      <td>130.010065</td>\n",
       "      <td>115.519656</td>\n",
       "    </tr>\n",
       "    <tr>\n",
       "      <th>2021-03-16</th>\n",
       "      <td>128.240005</td>\n",
       "      <td>128.240005</td>\n",
       "      <td>128.520004</td>\n",
       "      <td>127.339996</td>\n",
       "      <td>128.279999</td>\n",
       "      <td>4630400</td>\n",
       "      <td>NaN</td>\n",
       "      <td>NaN</td>\n",
       "      <td>125.373001</td>\n",
       "      <td>123.033501</td>\n",
       "      <td>122.845259</td>\n",
       "      <td>131.255195</td>\n",
       "      <td>119.490808</td>\n",
       "      <td>129.578942</td>\n",
       "      <td>116.488059</td>\n",
       "      <td>130.243966</td>\n",
       "      <td>115.446553</td>\n",
       "    </tr>\n",
       "    <tr>\n",
       "      <th>2021-03-17</th>\n",
       "      <td>129.029999</td>\n",
       "      <td>129.029999</td>\n",
       "      <td>129.490005</td>\n",
       "      <td>127.489998</td>\n",
       "      <td>128.460007</td>\n",
       "      <td>4244800</td>\n",
       "      <td>NaN</td>\n",
       "      <td>NaN</td>\n",
       "      <td>126.040001</td>\n",
       "      <td>123.486501</td>\n",
       "      <td>122.979746</td>\n",
       "      <td>131.916395</td>\n",
       "      <td>120.163607</td>\n",
       "      <td>130.383825</td>\n",
       "      <td>116.589177</td>\n",
       "      <td>130.580128</td>\n",
       "      <td>115.379365</td>\n",
       "    </tr>\n",
       "  </tbody>\n",
       "</table>\n",
       "</div>"
      ],
      "text/plain": [
       "             Adj Close       Close        High         Low        Open  \\\n",
       "Date                                                                     \n",
       "2021-03-11  127.139999  127.139999  128.639999  126.779999  128.089996   \n",
       "2021-03-12  127.610001  127.610001  127.680000  126.610001  127.190002   \n",
       "2021-03-15  128.580002  128.580002  128.750000  127.540001  127.769997   \n",
       "2021-03-16  128.240005  128.240005  128.520004  127.339996  128.279999   \n",
       "2021-03-17  129.029999  129.029999  129.490005  127.489998  128.460007   \n",
       "\n",
       "             Volume  Dividends  Stock Splits    10_ac_ma    20_ac_ma  \\\n",
       "Date                                                                   \n",
       "2021-03-11  5145000        NaN           NaN  122.930000  121.901001   \n",
       "2021-03-12  4009600        NaN           NaN  123.798000  122.236000   \n",
       "2021-03-15  3420600        NaN           NaN  124.582001  122.625000   \n",
       "2021-03-16  4630400        NaN           NaN  125.373001  123.033501   \n",
       "2021-03-17  4244800        NaN           NaN  126.040001  123.486501   \n",
       "\n",
       "              50_ac_ma  10_ac_bb_u  10_ac_bb_l  20_ac_bb_u  20_ac_bb_l  \\\n",
       "Date                                                                     \n",
       "2021-03-11  122.538418  129.006110  116.853890  126.870732  116.931269   \n",
       "2021-03-12  122.647268  129.814133  117.781868  127.793029  116.678972   \n",
       "2021-03-15  122.764860  130.864455  118.299547  128.812263  116.437738   \n",
       "2021-03-16  122.845259  131.255195  119.490808  129.578942  116.488059   \n",
       "2021-03-17  122.979746  131.916395  120.163607  130.383825  116.589177   \n",
       "\n",
       "            50_ac_bb_u  50_ac_bb_l  \n",
       "Date                                \n",
       "2021-03-11  129.440326  115.636510  \n",
       "2021-03-12  129.695417  115.599118  \n",
       "2021-03-15  130.010065  115.519656  \n",
       "2021-03-16  130.243966  115.446553  \n",
       "2021-03-17  130.580128  115.379365  "
      ]
     },
     "execution_count": 144,
     "metadata": {},
     "output_type": "execute_result"
    }
   ],
   "source": [
    "df_ibm_valid.head()"
   ]
  },
  {
   "cell_type": "markdown",
   "id": "wooden-volunteer",
   "metadata": {},
   "source": [
    "#### Apple Inc. Stock train test split"
   ]
  },
  {
   "cell_type": "code",
   "execution_count": 145,
   "id": "finnish-reach",
   "metadata": {},
   "outputs": [],
   "source": [
    "df_aapl = df_aapl.loc[data_start:].copy()"
   ]
  },
  {
   "cell_type": "code",
   "execution_count": 146,
   "id": "green-oracle",
   "metadata": {},
   "outputs": [
    {
     "name": "stdout",
     "output_type": "stream",
     "text": [
      "4188 4148 4168 20\n"
     ]
    }
   ],
   "source": [
    "df_aapl_train, df_aapl_test, df_aapl_valid = train_test_valid_split(df_aapl, prediction_length=prediction_length[1])\n",
    "print(len(df_aapl), len(df_aapl_train), len(df_aapl_test), len(df_aapl_valid))"
   ]
  },
  {
   "cell_type": "code",
   "execution_count": 147,
   "id": "novel-survival",
   "metadata": {},
   "outputs": [
    {
     "data": {
      "text/html": [
       "<div>\n",
       "<style scoped>\n",
       "    .dataframe tbody tr th:only-of-type {\n",
       "        vertical-align: middle;\n",
       "    }\n",
       "\n",
       "    .dataframe tbody tr th {\n",
       "        vertical-align: top;\n",
       "    }\n",
       "\n",
       "    .dataframe thead th {\n",
       "        text-align: right;\n",
       "    }\n",
       "</style>\n",
       "<table border=\"1\" class=\"dataframe\">\n",
       "  <thead>\n",
       "    <tr style=\"text-align: right;\">\n",
       "      <th></th>\n",
       "      <th>Adj Close</th>\n",
       "      <th>Close</th>\n",
       "      <th>High</th>\n",
       "      <th>Low</th>\n",
       "      <th>Open</th>\n",
       "      <th>Volume</th>\n",
       "      <th>Dividends</th>\n",
       "      <th>Stock Splits</th>\n",
       "      <th>10_ac_ma</th>\n",
       "      <th>20_ac_ma</th>\n",
       "      <th>50_ac_ma</th>\n",
       "      <th>10_ac_bb_u</th>\n",
       "      <th>10_ac_bb_l</th>\n",
       "      <th>20_ac_bb_u</th>\n",
       "      <th>20_ac_bb_l</th>\n",
       "      <th>50_ac_bb_u</th>\n",
       "      <th>50_ac_bb_l</th>\n",
       "    </tr>\n",
       "    <tr>\n",
       "      <th>Date</th>\n",
       "      <th></th>\n",
       "      <th></th>\n",
       "      <th></th>\n",
       "      <th></th>\n",
       "      <th></th>\n",
       "      <th></th>\n",
       "      <th></th>\n",
       "      <th></th>\n",
       "      <th></th>\n",
       "      <th></th>\n",
       "      <th></th>\n",
       "      <th></th>\n",
       "      <th></th>\n",
       "      <th></th>\n",
       "      <th></th>\n",
       "      <th></th>\n",
       "      <th></th>\n",
       "    </tr>\n",
       "  </thead>\n",
       "  <tbody>\n",
       "    <tr>\n",
       "      <th>2004-08-19</th>\n",
       "      <td>0.472366</td>\n",
       "      <td>0.548393</td>\n",
       "      <td>0.568929</td>\n",
       "      <td>0.542143</td>\n",
       "      <td>0.562679</td>\n",
       "      <td>388920000.0</td>\n",
       "      <td>0.0</td>\n",
       "      <td>2.0</td>\n",
       "      <td>0.473627</td>\n",
       "      <td>0.481141</td>\n",
       "      <td>0.484422</td>\n",
       "      <td>0.491197</td>\n",
       "      <td>0.456057</td>\n",
       "      <td>0.504857</td>\n",
       "      <td>0.457425</td>\n",
       "      <td>0.519835</td>\n",
       "      <td>0.449008</td>\n",
       "    </tr>\n",
       "    <tr>\n",
       "      <th>2004-08-20</th>\n",
       "      <td>0.473750</td>\n",
       "      <td>0.550000</td>\n",
       "      <td>0.553393</td>\n",
       "      <td>0.544464</td>\n",
       "      <td>0.548393</td>\n",
       "      <td>316780800.0</td>\n",
       "      <td>0.0</td>\n",
       "      <td>2.0</td>\n",
       "      <td>0.475196</td>\n",
       "      <td>0.481218</td>\n",
       "      <td>0.484606</td>\n",
       "      <td>0.488983</td>\n",
       "      <td>0.461409</td>\n",
       "      <td>0.504821</td>\n",
       "      <td>0.457614</td>\n",
       "      <td>0.519691</td>\n",
       "      <td>0.449521</td>\n",
       "    </tr>\n",
       "    <tr>\n",
       "      <th>2004-08-23</th>\n",
       "      <td>0.478057</td>\n",
       "      <td>0.555000</td>\n",
       "      <td>0.558393</td>\n",
       "      <td>0.546429</td>\n",
       "      <td>0.551071</td>\n",
       "      <td>254660000.0</td>\n",
       "      <td>0.0</td>\n",
       "      <td>2.0</td>\n",
       "      <td>0.476395</td>\n",
       "      <td>0.481079</td>\n",
       "      <td>0.484711</td>\n",
       "      <td>0.488652</td>\n",
       "      <td>0.464139</td>\n",
       "      <td>0.504725</td>\n",
       "      <td>0.457433</td>\n",
       "      <td>0.519683</td>\n",
       "      <td>0.449738</td>\n",
       "    </tr>\n",
       "    <tr>\n",
       "      <th>2004-08-24</th>\n",
       "      <td>0.491439</td>\n",
       "      <td>0.570536</td>\n",
       "      <td>0.570536</td>\n",
       "      <td>0.556964</td>\n",
       "      <td>0.558214</td>\n",
       "      <td>374136000.0</td>\n",
       "      <td>0.0</td>\n",
       "      <td>2.0</td>\n",
       "      <td>0.477057</td>\n",
       "      <td>0.480710</td>\n",
       "      <td>0.485274</td>\n",
       "      <td>0.491797</td>\n",
       "      <td>0.462317</td>\n",
       "      <td>0.503401</td>\n",
       "      <td>0.458019</td>\n",
       "      <td>0.519742</td>\n",
       "      <td>0.450806</td>\n",
       "    </tr>\n",
       "    <tr>\n",
       "      <th>2004-08-25</th>\n",
       "      <td>0.508359</td>\n",
       "      <td>0.590179</td>\n",
       "      <td>0.591964</td>\n",
       "      <td>0.566607</td>\n",
       "      <td>0.569107</td>\n",
       "      <td>505618400.0</td>\n",
       "      <td>0.0</td>\n",
       "      <td>2.0</td>\n",
       "      <td>0.480195</td>\n",
       "      <td>0.481310</td>\n",
       "      <td>0.486000</td>\n",
       "      <td>0.504872</td>\n",
       "      <td>0.455517</td>\n",
       "      <td>0.506265</td>\n",
       "      <td>0.456355</td>\n",
       "      <td>0.520858</td>\n",
       "      <td>0.451141</td>\n",
       "    </tr>\n",
       "  </tbody>\n",
       "</table>\n",
       "</div>"
      ],
      "text/plain": [
       "            Adj Close     Close      High       Low      Open       Volume  \\\n",
       "Date                                                                         \n",
       "2004-08-19   0.472366  0.548393  0.568929  0.542143  0.562679  388920000.0   \n",
       "2004-08-20   0.473750  0.550000  0.553393  0.544464  0.548393  316780800.0   \n",
       "2004-08-23   0.478057  0.555000  0.558393  0.546429  0.551071  254660000.0   \n",
       "2004-08-24   0.491439  0.570536  0.570536  0.556964  0.558214  374136000.0   \n",
       "2004-08-25   0.508359  0.590179  0.591964  0.566607  0.569107  505618400.0   \n",
       "\n",
       "            Dividends  Stock Splits  10_ac_ma  20_ac_ma  50_ac_ma  10_ac_bb_u  \\\n",
       "Date                                                                            \n",
       "2004-08-19        0.0           2.0  0.473627  0.481141  0.484422    0.491197   \n",
       "2004-08-20        0.0           2.0  0.475196  0.481218  0.484606    0.488983   \n",
       "2004-08-23        0.0           2.0  0.476395  0.481079  0.484711    0.488652   \n",
       "2004-08-24        0.0           2.0  0.477057  0.480710  0.485274    0.491797   \n",
       "2004-08-25        0.0           2.0  0.480195  0.481310  0.486000    0.504872   \n",
       "\n",
       "            10_ac_bb_l  20_ac_bb_u  20_ac_bb_l  50_ac_bb_u  50_ac_bb_l  \n",
       "Date                                                                    \n",
       "2004-08-19    0.456057    0.504857    0.457425    0.519835    0.449008  \n",
       "2004-08-20    0.461409    0.504821    0.457614    0.519691    0.449521  \n",
       "2004-08-23    0.464139    0.504725    0.457433    0.519683    0.449738  \n",
       "2004-08-24    0.462317    0.503401    0.458019    0.519742    0.450806  \n",
       "2004-08-25    0.455517    0.506265    0.456355    0.520858    0.451141  "
      ]
     },
     "execution_count": 147,
     "metadata": {},
     "output_type": "execute_result"
    }
   ],
   "source": [
    "df_aapl_train.head()"
   ]
  },
  {
   "cell_type": "code",
   "execution_count": 148,
   "id": "piano-federation",
   "metadata": {},
   "outputs": [
    {
     "data": {
      "text/html": [
       "<div>\n",
       "<style scoped>\n",
       "    .dataframe tbody tr th:only-of-type {\n",
       "        vertical-align: middle;\n",
       "    }\n",
       "\n",
       "    .dataframe tbody tr th {\n",
       "        vertical-align: top;\n",
       "    }\n",
       "\n",
       "    .dataframe thead th {\n",
       "        text-align: right;\n",
       "    }\n",
       "</style>\n",
       "<table border=\"1\" class=\"dataframe\">\n",
       "  <thead>\n",
       "    <tr style=\"text-align: right;\">\n",
       "      <th></th>\n",
       "      <th>Adj Close</th>\n",
       "      <th>Close</th>\n",
       "      <th>High</th>\n",
       "      <th>Low</th>\n",
       "      <th>Open</th>\n",
       "      <th>Volume</th>\n",
       "      <th>Dividends</th>\n",
       "      <th>Stock Splits</th>\n",
       "      <th>10_ac_ma</th>\n",
       "      <th>20_ac_ma</th>\n",
       "      <th>50_ac_ma</th>\n",
       "      <th>10_ac_bb_u</th>\n",
       "      <th>10_ac_bb_l</th>\n",
       "      <th>20_ac_bb_u</th>\n",
       "      <th>20_ac_bb_l</th>\n",
       "      <th>50_ac_bb_u</th>\n",
       "      <th>50_ac_bb_l</th>\n",
       "    </tr>\n",
       "    <tr>\n",
       "      <th>Date</th>\n",
       "      <th></th>\n",
       "      <th></th>\n",
       "      <th></th>\n",
       "      <th></th>\n",
       "      <th></th>\n",
       "      <th></th>\n",
       "      <th></th>\n",
       "      <th></th>\n",
       "      <th></th>\n",
       "      <th></th>\n",
       "      <th></th>\n",
       "      <th></th>\n",
       "      <th></th>\n",
       "      <th></th>\n",
       "      <th></th>\n",
       "      <th></th>\n",
       "      <th></th>\n",
       "    </tr>\n",
       "  </thead>\n",
       "  <tbody>\n",
       "    <tr>\n",
       "      <th>2004-08-19</th>\n",
       "      <td>0.472366</td>\n",
       "      <td>0.548393</td>\n",
       "      <td>0.568929</td>\n",
       "      <td>0.542143</td>\n",
       "      <td>0.562679</td>\n",
       "      <td>388920000.0</td>\n",
       "      <td>0.0</td>\n",
       "      <td>2.0</td>\n",
       "      <td>0.473627</td>\n",
       "      <td>0.481141</td>\n",
       "      <td>0.484422</td>\n",
       "      <td>0.491197</td>\n",
       "      <td>0.456057</td>\n",
       "      <td>0.504857</td>\n",
       "      <td>0.457425</td>\n",
       "      <td>0.519835</td>\n",
       "      <td>0.449008</td>\n",
       "    </tr>\n",
       "    <tr>\n",
       "      <th>2004-08-20</th>\n",
       "      <td>0.473750</td>\n",
       "      <td>0.550000</td>\n",
       "      <td>0.553393</td>\n",
       "      <td>0.544464</td>\n",
       "      <td>0.548393</td>\n",
       "      <td>316780800.0</td>\n",
       "      <td>0.0</td>\n",
       "      <td>2.0</td>\n",
       "      <td>0.475196</td>\n",
       "      <td>0.481218</td>\n",
       "      <td>0.484606</td>\n",
       "      <td>0.488983</td>\n",
       "      <td>0.461409</td>\n",
       "      <td>0.504821</td>\n",
       "      <td>0.457614</td>\n",
       "      <td>0.519691</td>\n",
       "      <td>0.449521</td>\n",
       "    </tr>\n",
       "    <tr>\n",
       "      <th>2004-08-23</th>\n",
       "      <td>0.478057</td>\n",
       "      <td>0.555000</td>\n",
       "      <td>0.558393</td>\n",
       "      <td>0.546429</td>\n",
       "      <td>0.551071</td>\n",
       "      <td>254660000.0</td>\n",
       "      <td>0.0</td>\n",
       "      <td>2.0</td>\n",
       "      <td>0.476395</td>\n",
       "      <td>0.481079</td>\n",
       "      <td>0.484711</td>\n",
       "      <td>0.488652</td>\n",
       "      <td>0.464139</td>\n",
       "      <td>0.504725</td>\n",
       "      <td>0.457433</td>\n",
       "      <td>0.519683</td>\n",
       "      <td>0.449738</td>\n",
       "    </tr>\n",
       "    <tr>\n",
       "      <th>2004-08-24</th>\n",
       "      <td>0.491439</td>\n",
       "      <td>0.570536</td>\n",
       "      <td>0.570536</td>\n",
       "      <td>0.556964</td>\n",
       "      <td>0.558214</td>\n",
       "      <td>374136000.0</td>\n",
       "      <td>0.0</td>\n",
       "      <td>2.0</td>\n",
       "      <td>0.477057</td>\n",
       "      <td>0.480710</td>\n",
       "      <td>0.485274</td>\n",
       "      <td>0.491797</td>\n",
       "      <td>0.462317</td>\n",
       "      <td>0.503401</td>\n",
       "      <td>0.458019</td>\n",
       "      <td>0.519742</td>\n",
       "      <td>0.450806</td>\n",
       "    </tr>\n",
       "    <tr>\n",
       "      <th>2004-08-25</th>\n",
       "      <td>0.508359</td>\n",
       "      <td>0.590179</td>\n",
       "      <td>0.591964</td>\n",
       "      <td>0.566607</td>\n",
       "      <td>0.569107</td>\n",
       "      <td>505618400.0</td>\n",
       "      <td>0.0</td>\n",
       "      <td>2.0</td>\n",
       "      <td>0.480195</td>\n",
       "      <td>0.481310</td>\n",
       "      <td>0.486000</td>\n",
       "      <td>0.504872</td>\n",
       "      <td>0.455517</td>\n",
       "      <td>0.506265</td>\n",
       "      <td>0.456355</td>\n",
       "      <td>0.520858</td>\n",
       "      <td>0.451141</td>\n",
       "    </tr>\n",
       "  </tbody>\n",
       "</table>\n",
       "</div>"
      ],
      "text/plain": [
       "            Adj Close     Close      High       Low      Open       Volume  \\\n",
       "Date                                                                         \n",
       "2004-08-19   0.472366  0.548393  0.568929  0.542143  0.562679  388920000.0   \n",
       "2004-08-20   0.473750  0.550000  0.553393  0.544464  0.548393  316780800.0   \n",
       "2004-08-23   0.478057  0.555000  0.558393  0.546429  0.551071  254660000.0   \n",
       "2004-08-24   0.491439  0.570536  0.570536  0.556964  0.558214  374136000.0   \n",
       "2004-08-25   0.508359  0.590179  0.591964  0.566607  0.569107  505618400.0   \n",
       "\n",
       "            Dividends  Stock Splits  10_ac_ma  20_ac_ma  50_ac_ma  10_ac_bb_u  \\\n",
       "Date                                                                            \n",
       "2004-08-19        0.0           2.0  0.473627  0.481141  0.484422    0.491197   \n",
       "2004-08-20        0.0           2.0  0.475196  0.481218  0.484606    0.488983   \n",
       "2004-08-23        0.0           2.0  0.476395  0.481079  0.484711    0.488652   \n",
       "2004-08-24        0.0           2.0  0.477057  0.480710  0.485274    0.491797   \n",
       "2004-08-25        0.0           2.0  0.480195  0.481310  0.486000    0.504872   \n",
       "\n",
       "            10_ac_bb_l  20_ac_bb_u  20_ac_bb_l  50_ac_bb_u  50_ac_bb_l  \n",
       "Date                                                                    \n",
       "2004-08-19    0.456057    0.504857    0.457425    0.519835    0.449008  \n",
       "2004-08-20    0.461409    0.504821    0.457614    0.519691    0.449521  \n",
       "2004-08-23    0.464139    0.504725    0.457433    0.519683    0.449738  \n",
       "2004-08-24    0.462317    0.503401    0.458019    0.519742    0.450806  \n",
       "2004-08-25    0.455517    0.506265    0.456355    0.520858    0.451141  "
      ]
     },
     "execution_count": 148,
     "metadata": {},
     "output_type": "execute_result"
    }
   ],
   "source": [
    "df_aapl_test.head()"
   ]
  },
  {
   "cell_type": "code",
   "execution_count": 149,
   "id": "heated-christopher",
   "metadata": {},
   "outputs": [
    {
     "data": {
      "text/html": [
       "<div>\n",
       "<style scoped>\n",
       "    .dataframe tbody tr th:only-of-type {\n",
       "        vertical-align: middle;\n",
       "    }\n",
       "\n",
       "    .dataframe tbody tr th {\n",
       "        vertical-align: top;\n",
       "    }\n",
       "\n",
       "    .dataframe thead th {\n",
       "        text-align: right;\n",
       "    }\n",
       "</style>\n",
       "<table border=\"1\" class=\"dataframe\">\n",
       "  <thead>\n",
       "    <tr style=\"text-align: right;\">\n",
       "      <th></th>\n",
       "      <th>Adj Close</th>\n",
       "      <th>Close</th>\n",
       "      <th>High</th>\n",
       "      <th>Low</th>\n",
       "      <th>Open</th>\n",
       "      <th>Volume</th>\n",
       "      <th>Dividends</th>\n",
       "      <th>Stock Splits</th>\n",
       "      <th>10_ac_ma</th>\n",
       "      <th>20_ac_ma</th>\n",
       "      <th>50_ac_ma</th>\n",
       "      <th>10_ac_bb_u</th>\n",
       "      <th>10_ac_bb_l</th>\n",
       "      <th>20_ac_bb_u</th>\n",
       "      <th>20_ac_bb_l</th>\n",
       "      <th>50_ac_bb_u</th>\n",
       "      <th>50_ac_bb_l</th>\n",
       "    </tr>\n",
       "    <tr>\n",
       "      <th>Date</th>\n",
       "      <th></th>\n",
       "      <th></th>\n",
       "      <th></th>\n",
       "      <th></th>\n",
       "      <th></th>\n",
       "      <th></th>\n",
       "      <th></th>\n",
       "      <th></th>\n",
       "      <th></th>\n",
       "      <th></th>\n",
       "      <th></th>\n",
       "      <th></th>\n",
       "      <th></th>\n",
       "      <th></th>\n",
       "      <th></th>\n",
       "      <th></th>\n",
       "      <th></th>\n",
       "    </tr>\n",
       "  </thead>\n",
       "  <tbody>\n",
       "    <tr>\n",
       "      <th>2021-03-11</th>\n",
       "      <td>121.959999</td>\n",
       "      <td>121.959999</td>\n",
       "      <td>123.209999</td>\n",
       "      <td>121.260002</td>\n",
       "      <td>122.540001</td>\n",
       "      <td>102753600.0</td>\n",
       "      <td>NaN</td>\n",
       "      <td>NaN</td>\n",
       "      <td>121.717000</td>\n",
       "      <td>125.474000</td>\n",
       "      <td>130.376266</td>\n",
       "      <td>127.811144</td>\n",
       "      <td>115.622856</td>\n",
       "      <td>136.351576</td>\n",
       "      <td>114.596423</td>\n",
       "      <td>143.001325</td>\n",
       "      <td>117.751208</td>\n",
       "    </tr>\n",
       "    <tr>\n",
       "      <th>2021-03-12</th>\n",
       "      <td>121.029999</td>\n",
       "      <td>121.029999</td>\n",
       "      <td>121.169998</td>\n",
       "      <td>119.160004</td>\n",
       "      <td>120.400002</td>\n",
       "      <td>87963400.0</td>\n",
       "      <td>NaN</td>\n",
       "      <td>NaN</td>\n",
       "      <td>121.693999</td>\n",
       "      <td>124.768999</td>\n",
       "      <td>130.103491</td>\n",
       "      <td>127.797538</td>\n",
       "      <td>115.590461</td>\n",
       "      <td>134.806803</td>\n",
       "      <td>114.731196</td>\n",
       "      <td>142.937630</td>\n",
       "      <td>117.269352</td>\n",
       "    </tr>\n",
       "    <tr>\n",
       "      <th>2021-03-15</th>\n",
       "      <td>123.989998</td>\n",
       "      <td>123.989998</td>\n",
       "      <td>124.000000</td>\n",
       "      <td>120.419998</td>\n",
       "      <td>121.410004</td>\n",
       "      <td>92403800.0</td>\n",
       "      <td>NaN</td>\n",
       "      <td>NaN</td>\n",
       "      <td>121.313999</td>\n",
       "      <td>124.200000</td>\n",
       "      <td>129.912881</td>\n",
       "      <td>126.050901</td>\n",
       "      <td>116.577097</td>\n",
       "      <td>132.909929</td>\n",
       "      <td>115.490070</td>\n",
       "      <td>142.822750</td>\n",
       "      <td>117.003013</td>\n",
       "    </tr>\n",
       "    <tr>\n",
       "      <th>2021-03-16</th>\n",
       "      <td>125.570000</td>\n",
       "      <td>125.570000</td>\n",
       "      <td>127.220001</td>\n",
       "      <td>124.720001</td>\n",
       "      <td>125.699997</td>\n",
       "      <td>114740000.0</td>\n",
       "      <td>NaN</td>\n",
       "      <td>NaN</td>\n",
       "      <td>121.358999</td>\n",
       "      <td>123.818999</td>\n",
       "      <td>129.774441</td>\n",
       "      <td>126.262225</td>\n",
       "      <td>116.455772</td>\n",
       "      <td>131.476156</td>\n",
       "      <td>116.161843</td>\n",
       "      <td>142.719830</td>\n",
       "      <td>116.829052</td>\n",
       "    </tr>\n",
       "    <tr>\n",
       "      <th>2021-03-17</th>\n",
       "      <td>124.760002</td>\n",
       "      <td>124.760002</td>\n",
       "      <td>125.860001</td>\n",
       "      <td>122.339996</td>\n",
       "      <td>124.050003</td>\n",
       "      <td>111437500.0</td>\n",
       "      <td>NaN</td>\n",
       "      <td>NaN</td>\n",
       "      <td>121.628999</td>\n",
       "      <td>123.515000</td>\n",
       "      <td>129.685303</td>\n",
       "      <td>126.980638</td>\n",
       "      <td>116.277360</td>\n",
       "      <td>130.446924</td>\n",
       "      <td>116.583076</td>\n",
       "      <td>142.707511</td>\n",
       "      <td>116.663094</td>\n",
       "    </tr>\n",
       "  </tbody>\n",
       "</table>\n",
       "</div>"
      ],
      "text/plain": [
       "             Adj Close       Close        High         Low        Open  \\\n",
       "Date                                                                     \n",
       "2021-03-11  121.959999  121.959999  123.209999  121.260002  122.540001   \n",
       "2021-03-12  121.029999  121.029999  121.169998  119.160004  120.400002   \n",
       "2021-03-15  123.989998  123.989998  124.000000  120.419998  121.410004   \n",
       "2021-03-16  125.570000  125.570000  127.220001  124.720001  125.699997   \n",
       "2021-03-17  124.760002  124.760002  125.860001  122.339996  124.050003   \n",
       "\n",
       "                 Volume  Dividends  Stock Splits    10_ac_ma    20_ac_ma  \\\n",
       "Date                                                                       \n",
       "2021-03-11  102753600.0        NaN           NaN  121.717000  125.474000   \n",
       "2021-03-12   87963400.0        NaN           NaN  121.693999  124.768999   \n",
       "2021-03-15   92403800.0        NaN           NaN  121.313999  124.200000   \n",
       "2021-03-16  114740000.0        NaN           NaN  121.358999  123.818999   \n",
       "2021-03-17  111437500.0        NaN           NaN  121.628999  123.515000   \n",
       "\n",
       "              50_ac_ma  10_ac_bb_u  10_ac_bb_l  20_ac_bb_u  20_ac_bb_l  \\\n",
       "Date                                                                     \n",
       "2021-03-11  130.376266  127.811144  115.622856  136.351576  114.596423   \n",
       "2021-03-12  130.103491  127.797538  115.590461  134.806803  114.731196   \n",
       "2021-03-15  129.912881  126.050901  116.577097  132.909929  115.490070   \n",
       "2021-03-16  129.774441  126.262225  116.455772  131.476156  116.161843   \n",
       "2021-03-17  129.685303  126.980638  116.277360  130.446924  116.583076   \n",
       "\n",
       "            50_ac_bb_u  50_ac_bb_l  \n",
       "Date                                \n",
       "2021-03-11  143.001325  117.751208  \n",
       "2021-03-12  142.937630  117.269352  \n",
       "2021-03-15  142.822750  117.003013  \n",
       "2021-03-16  142.719830  116.829052  \n",
       "2021-03-17  142.707511  116.663094  "
      ]
     },
     "execution_count": 149,
     "metadata": {},
     "output_type": "execute_result"
    }
   ],
   "source": [
    "df_aapl_valid.head()"
   ]
  },
  {
   "cell_type": "markdown",
   "id": "neutral-literature",
   "metadata": {},
   "source": [
    "#### Amazon Stock train test split"
   ]
  },
  {
   "cell_type": "code",
   "execution_count": 150,
   "id": "republican-enzyme",
   "metadata": {},
   "outputs": [],
   "source": [
    "df_amzn = df_amzn.loc[data_start:].copy()"
   ]
  },
  {
   "cell_type": "code",
   "execution_count": 151,
   "id": "requested-geometry",
   "metadata": {},
   "outputs": [
    {
     "name": "stdout",
     "output_type": "stream",
     "text": [
      "4188 4148 4168 20\n"
     ]
    }
   ],
   "source": [
    "df_amzn_train, df_amzn_test, df_amzn_valid = train_test_valid_split(df_amzn, prediction_length=prediction_length[1])\n",
    "print(len(df_amzn), len(df_amzn_train), len(df_amzn_test), len(df_amzn_valid))"
   ]
  },
  {
   "cell_type": "code",
   "execution_count": 152,
   "id": "lonely-interaction",
   "metadata": {},
   "outputs": [
    {
     "data": {
      "text/html": [
       "<div>\n",
       "<style scoped>\n",
       "    .dataframe tbody tr th:only-of-type {\n",
       "        vertical-align: middle;\n",
       "    }\n",
       "\n",
       "    .dataframe tbody tr th {\n",
       "        vertical-align: top;\n",
       "    }\n",
       "\n",
       "    .dataframe thead th {\n",
       "        text-align: right;\n",
       "    }\n",
       "</style>\n",
       "<table border=\"1\" class=\"dataframe\">\n",
       "  <thead>\n",
       "    <tr style=\"text-align: right;\">\n",
       "      <th></th>\n",
       "      <th>Adj Close</th>\n",
       "      <th>Close</th>\n",
       "      <th>High</th>\n",
       "      <th>Low</th>\n",
       "      <th>Open</th>\n",
       "      <th>Volume</th>\n",
       "      <th>Dividends</th>\n",
       "      <th>Stock Splits</th>\n",
       "      <th>10_ac_ma</th>\n",
       "      <th>20_ac_ma</th>\n",
       "      <th>50_ac_ma</th>\n",
       "      <th>10_ac_bb_u</th>\n",
       "      <th>10_ac_bb_l</th>\n",
       "      <th>20_ac_bb_u</th>\n",
       "      <th>20_ac_bb_l</th>\n",
       "      <th>50_ac_bb_u</th>\n",
       "      <th>50_ac_bb_l</th>\n",
       "    </tr>\n",
       "    <tr>\n",
       "      <th>Date</th>\n",
       "      <th></th>\n",
       "      <th></th>\n",
       "      <th></th>\n",
       "      <th></th>\n",
       "      <th></th>\n",
       "      <th></th>\n",
       "      <th></th>\n",
       "      <th></th>\n",
       "      <th></th>\n",
       "      <th></th>\n",
       "      <th></th>\n",
       "      <th></th>\n",
       "      <th></th>\n",
       "      <th></th>\n",
       "      <th></th>\n",
       "      <th></th>\n",
       "      <th></th>\n",
       "    </tr>\n",
       "  </thead>\n",
       "  <tbody>\n",
       "    <tr>\n",
       "      <th>2004-08-19</th>\n",
       "      <td>38.630001</td>\n",
       "      <td>38.630001</td>\n",
       "      <td>40.480000</td>\n",
       "      <td>36.349998</td>\n",
       "      <td>40.259998</td>\n",
       "      <td>12696100.0</td>\n",
       "      <td>NaN</td>\n",
       "      <td>NaN</td>\n",
       "      <td>37.106001</td>\n",
       "      <td>37.6520</td>\n",
       "      <td>44.9828</td>\n",
       "      <td>39.862539</td>\n",
       "      <td>34.349462</td>\n",
       "      <td>40.417963</td>\n",
       "      <td>34.886038</td>\n",
       "      <td>57.693587</td>\n",
       "      <td>32.272014</td>\n",
       "    </tr>\n",
       "    <tr>\n",
       "      <th>2004-08-20</th>\n",
       "      <td>39.509998</td>\n",
       "      <td>39.509998</td>\n",
       "      <td>39.910000</td>\n",
       "      <td>38.110001</td>\n",
       "      <td>38.459999</td>\n",
       "      <td>6790800.0</td>\n",
       "      <td>NaN</td>\n",
       "      <td>NaN</td>\n",
       "      <td>37.508000</td>\n",
       "      <td>37.6285</td>\n",
       "      <td>44.7682</td>\n",
       "      <td>40.386916</td>\n",
       "      <td>34.629084</td>\n",
       "      <td>40.318115</td>\n",
       "      <td>34.938885</td>\n",
       "      <td>57.479021</td>\n",
       "      <td>32.057379</td>\n",
       "    </tr>\n",
       "    <tr>\n",
       "      <th>2004-08-23</th>\n",
       "      <td>39.450001</td>\n",
       "      <td>39.450001</td>\n",
       "      <td>40.000000</td>\n",
       "      <td>39.110001</td>\n",
       "      <td>39.889999</td>\n",
       "      <td>5532600.0</td>\n",
       "      <td>NaN</td>\n",
       "      <td>NaN</td>\n",
       "      <td>37.921000</td>\n",
       "      <td>37.6620</td>\n",
       "      <td>44.5584</td>\n",
       "      <td>40.581550</td>\n",
       "      <td>35.260450</td>\n",
       "      <td>40.427620</td>\n",
       "      <td>34.896380</td>\n",
       "      <td>57.267085</td>\n",
       "      <td>31.849715</td>\n",
       "    </tr>\n",
       "    <tr>\n",
       "      <th>2004-08-24</th>\n",
       "      <td>39.049999</td>\n",
       "      <td>39.049999</td>\n",
       "      <td>39.930000</td>\n",
       "      <td>38.320000</td>\n",
       "      <td>39.720001</td>\n",
       "      <td>7640400.0</td>\n",
       "      <td>NaN</td>\n",
       "      <td>NaN</td>\n",
       "      <td>38.116000</td>\n",
       "      <td>37.6590</td>\n",
       "      <td>44.3544</td>\n",
       "      <td>40.794891</td>\n",
       "      <td>35.437110</td>\n",
       "      <td>40.418129</td>\n",
       "      <td>34.899871</td>\n",
       "      <td>57.083144</td>\n",
       "      <td>31.625656</td>\n",
       "    </tr>\n",
       "    <tr>\n",
       "      <th>2004-08-25</th>\n",
       "      <td>40.299999</td>\n",
       "      <td>40.299999</td>\n",
       "      <td>40.490002</td>\n",
       "      <td>38.160000</td>\n",
       "      <td>39.060001</td>\n",
       "      <td>7254800.0</td>\n",
       "      <td>NaN</td>\n",
       "      <td>NaN</td>\n",
       "      <td>38.490000</td>\n",
       "      <td>37.7755</td>\n",
       "      <td>44.1582</td>\n",
       "      <td>41.246567</td>\n",
       "      <td>35.733433</td>\n",
       "      <td>40.776113</td>\n",
       "      <td>34.774887</td>\n",
       "      <td>56.827117</td>\n",
       "      <td>31.489283</td>\n",
       "    </tr>\n",
       "  </tbody>\n",
       "</table>\n",
       "</div>"
      ],
      "text/plain": [
       "            Adj Close      Close       High        Low       Open      Volume  \\\n",
       "Date                                                                            \n",
       "2004-08-19  38.630001  38.630001  40.480000  36.349998  40.259998  12696100.0   \n",
       "2004-08-20  39.509998  39.509998  39.910000  38.110001  38.459999   6790800.0   \n",
       "2004-08-23  39.450001  39.450001  40.000000  39.110001  39.889999   5532600.0   \n",
       "2004-08-24  39.049999  39.049999  39.930000  38.320000  39.720001   7640400.0   \n",
       "2004-08-25  40.299999  40.299999  40.490002  38.160000  39.060001   7254800.0   \n",
       "\n",
       "            Dividends  Stock Splits   10_ac_ma  20_ac_ma  50_ac_ma  \\\n",
       "Date                                                                 \n",
       "2004-08-19        NaN           NaN  37.106001   37.6520   44.9828   \n",
       "2004-08-20        NaN           NaN  37.508000   37.6285   44.7682   \n",
       "2004-08-23        NaN           NaN  37.921000   37.6620   44.5584   \n",
       "2004-08-24        NaN           NaN  38.116000   37.6590   44.3544   \n",
       "2004-08-25        NaN           NaN  38.490000   37.7755   44.1582   \n",
       "\n",
       "            10_ac_bb_u  10_ac_bb_l  20_ac_bb_u  20_ac_bb_l  50_ac_bb_u  \\\n",
       "Date                                                                     \n",
       "2004-08-19   39.862539   34.349462   40.417963   34.886038   57.693587   \n",
       "2004-08-20   40.386916   34.629084   40.318115   34.938885   57.479021   \n",
       "2004-08-23   40.581550   35.260450   40.427620   34.896380   57.267085   \n",
       "2004-08-24   40.794891   35.437110   40.418129   34.899871   57.083144   \n",
       "2004-08-25   41.246567   35.733433   40.776113   34.774887   56.827117   \n",
       "\n",
       "            50_ac_bb_l  \n",
       "Date                    \n",
       "2004-08-19   32.272014  \n",
       "2004-08-20   32.057379  \n",
       "2004-08-23   31.849715  \n",
       "2004-08-24   31.625656  \n",
       "2004-08-25   31.489283  "
      ]
     },
     "execution_count": 152,
     "metadata": {},
     "output_type": "execute_result"
    }
   ],
   "source": [
    "df_amzn_train.head()"
   ]
  },
  {
   "cell_type": "code",
   "execution_count": 153,
   "id": "scenic-nigeria",
   "metadata": {},
   "outputs": [
    {
     "data": {
      "text/html": [
       "<div>\n",
       "<style scoped>\n",
       "    .dataframe tbody tr th:only-of-type {\n",
       "        vertical-align: middle;\n",
       "    }\n",
       "\n",
       "    .dataframe tbody tr th {\n",
       "        vertical-align: top;\n",
       "    }\n",
       "\n",
       "    .dataframe thead th {\n",
       "        text-align: right;\n",
       "    }\n",
       "</style>\n",
       "<table border=\"1\" class=\"dataframe\">\n",
       "  <thead>\n",
       "    <tr style=\"text-align: right;\">\n",
       "      <th></th>\n",
       "      <th>Adj Close</th>\n",
       "      <th>Close</th>\n",
       "      <th>High</th>\n",
       "      <th>Low</th>\n",
       "      <th>Open</th>\n",
       "      <th>Volume</th>\n",
       "      <th>Dividends</th>\n",
       "      <th>Stock Splits</th>\n",
       "      <th>10_ac_ma</th>\n",
       "      <th>20_ac_ma</th>\n",
       "      <th>50_ac_ma</th>\n",
       "      <th>10_ac_bb_u</th>\n",
       "      <th>10_ac_bb_l</th>\n",
       "      <th>20_ac_bb_u</th>\n",
       "      <th>20_ac_bb_l</th>\n",
       "      <th>50_ac_bb_u</th>\n",
       "      <th>50_ac_bb_l</th>\n",
       "    </tr>\n",
       "    <tr>\n",
       "      <th>Date</th>\n",
       "      <th></th>\n",
       "      <th></th>\n",
       "      <th></th>\n",
       "      <th></th>\n",
       "      <th></th>\n",
       "      <th></th>\n",
       "      <th></th>\n",
       "      <th></th>\n",
       "      <th></th>\n",
       "      <th></th>\n",
       "      <th></th>\n",
       "      <th></th>\n",
       "      <th></th>\n",
       "      <th></th>\n",
       "      <th></th>\n",
       "      <th></th>\n",
       "      <th></th>\n",
       "    </tr>\n",
       "  </thead>\n",
       "  <tbody>\n",
       "    <tr>\n",
       "      <th>2004-08-19</th>\n",
       "      <td>38.630001</td>\n",
       "      <td>38.630001</td>\n",
       "      <td>40.480000</td>\n",
       "      <td>36.349998</td>\n",
       "      <td>40.259998</td>\n",
       "      <td>12696100.0</td>\n",
       "      <td>NaN</td>\n",
       "      <td>NaN</td>\n",
       "      <td>37.106001</td>\n",
       "      <td>37.6520</td>\n",
       "      <td>44.9828</td>\n",
       "      <td>39.862539</td>\n",
       "      <td>34.349462</td>\n",
       "      <td>40.417963</td>\n",
       "      <td>34.886038</td>\n",
       "      <td>57.693587</td>\n",
       "      <td>32.272014</td>\n",
       "    </tr>\n",
       "    <tr>\n",
       "      <th>2004-08-20</th>\n",
       "      <td>39.509998</td>\n",
       "      <td>39.509998</td>\n",
       "      <td>39.910000</td>\n",
       "      <td>38.110001</td>\n",
       "      <td>38.459999</td>\n",
       "      <td>6790800.0</td>\n",
       "      <td>NaN</td>\n",
       "      <td>NaN</td>\n",
       "      <td>37.508000</td>\n",
       "      <td>37.6285</td>\n",
       "      <td>44.7682</td>\n",
       "      <td>40.386916</td>\n",
       "      <td>34.629084</td>\n",
       "      <td>40.318115</td>\n",
       "      <td>34.938885</td>\n",
       "      <td>57.479021</td>\n",
       "      <td>32.057379</td>\n",
       "    </tr>\n",
       "    <tr>\n",
       "      <th>2004-08-23</th>\n",
       "      <td>39.450001</td>\n",
       "      <td>39.450001</td>\n",
       "      <td>40.000000</td>\n",
       "      <td>39.110001</td>\n",
       "      <td>39.889999</td>\n",
       "      <td>5532600.0</td>\n",
       "      <td>NaN</td>\n",
       "      <td>NaN</td>\n",
       "      <td>37.921000</td>\n",
       "      <td>37.6620</td>\n",
       "      <td>44.5584</td>\n",
       "      <td>40.581550</td>\n",
       "      <td>35.260450</td>\n",
       "      <td>40.427620</td>\n",
       "      <td>34.896380</td>\n",
       "      <td>57.267085</td>\n",
       "      <td>31.849715</td>\n",
       "    </tr>\n",
       "    <tr>\n",
       "      <th>2004-08-24</th>\n",
       "      <td>39.049999</td>\n",
       "      <td>39.049999</td>\n",
       "      <td>39.930000</td>\n",
       "      <td>38.320000</td>\n",
       "      <td>39.720001</td>\n",
       "      <td>7640400.0</td>\n",
       "      <td>NaN</td>\n",
       "      <td>NaN</td>\n",
       "      <td>38.116000</td>\n",
       "      <td>37.6590</td>\n",
       "      <td>44.3544</td>\n",
       "      <td>40.794891</td>\n",
       "      <td>35.437110</td>\n",
       "      <td>40.418129</td>\n",
       "      <td>34.899871</td>\n",
       "      <td>57.083144</td>\n",
       "      <td>31.625656</td>\n",
       "    </tr>\n",
       "    <tr>\n",
       "      <th>2004-08-25</th>\n",
       "      <td>40.299999</td>\n",
       "      <td>40.299999</td>\n",
       "      <td>40.490002</td>\n",
       "      <td>38.160000</td>\n",
       "      <td>39.060001</td>\n",
       "      <td>7254800.0</td>\n",
       "      <td>NaN</td>\n",
       "      <td>NaN</td>\n",
       "      <td>38.490000</td>\n",
       "      <td>37.7755</td>\n",
       "      <td>44.1582</td>\n",
       "      <td>41.246567</td>\n",
       "      <td>35.733433</td>\n",
       "      <td>40.776113</td>\n",
       "      <td>34.774887</td>\n",
       "      <td>56.827117</td>\n",
       "      <td>31.489283</td>\n",
       "    </tr>\n",
       "  </tbody>\n",
       "</table>\n",
       "</div>"
      ],
      "text/plain": [
       "            Adj Close      Close       High        Low       Open      Volume  \\\n",
       "Date                                                                            \n",
       "2004-08-19  38.630001  38.630001  40.480000  36.349998  40.259998  12696100.0   \n",
       "2004-08-20  39.509998  39.509998  39.910000  38.110001  38.459999   6790800.0   \n",
       "2004-08-23  39.450001  39.450001  40.000000  39.110001  39.889999   5532600.0   \n",
       "2004-08-24  39.049999  39.049999  39.930000  38.320000  39.720001   7640400.0   \n",
       "2004-08-25  40.299999  40.299999  40.490002  38.160000  39.060001   7254800.0   \n",
       "\n",
       "            Dividends  Stock Splits   10_ac_ma  20_ac_ma  50_ac_ma  \\\n",
       "Date                                                                 \n",
       "2004-08-19        NaN           NaN  37.106001   37.6520   44.9828   \n",
       "2004-08-20        NaN           NaN  37.508000   37.6285   44.7682   \n",
       "2004-08-23        NaN           NaN  37.921000   37.6620   44.5584   \n",
       "2004-08-24        NaN           NaN  38.116000   37.6590   44.3544   \n",
       "2004-08-25        NaN           NaN  38.490000   37.7755   44.1582   \n",
       "\n",
       "            10_ac_bb_u  10_ac_bb_l  20_ac_bb_u  20_ac_bb_l  50_ac_bb_u  \\\n",
       "Date                                                                     \n",
       "2004-08-19   39.862539   34.349462   40.417963   34.886038   57.693587   \n",
       "2004-08-20   40.386916   34.629084   40.318115   34.938885   57.479021   \n",
       "2004-08-23   40.581550   35.260450   40.427620   34.896380   57.267085   \n",
       "2004-08-24   40.794891   35.437110   40.418129   34.899871   57.083144   \n",
       "2004-08-25   41.246567   35.733433   40.776113   34.774887   56.827117   \n",
       "\n",
       "            50_ac_bb_l  \n",
       "Date                    \n",
       "2004-08-19   32.272014  \n",
       "2004-08-20   32.057379  \n",
       "2004-08-23   31.849715  \n",
       "2004-08-24   31.625656  \n",
       "2004-08-25   31.489283  "
      ]
     },
     "execution_count": 153,
     "metadata": {},
     "output_type": "execute_result"
    }
   ],
   "source": [
    "df_amzn_test.head()"
   ]
  },
  {
   "cell_type": "code",
   "execution_count": 154,
   "id": "middle-internet",
   "metadata": {},
   "outputs": [
    {
     "data": {
      "text/html": [
       "<div>\n",
       "<style scoped>\n",
       "    .dataframe tbody tr th:only-of-type {\n",
       "        vertical-align: middle;\n",
       "    }\n",
       "\n",
       "    .dataframe tbody tr th {\n",
       "        vertical-align: top;\n",
       "    }\n",
       "\n",
       "    .dataframe thead th {\n",
       "        text-align: right;\n",
       "    }\n",
       "</style>\n",
       "<table border=\"1\" class=\"dataframe\">\n",
       "  <thead>\n",
       "    <tr style=\"text-align: right;\">\n",
       "      <th></th>\n",
       "      <th>Adj Close</th>\n",
       "      <th>Close</th>\n",
       "      <th>High</th>\n",
       "      <th>Low</th>\n",
       "      <th>Open</th>\n",
       "      <th>Volume</th>\n",
       "      <th>Dividends</th>\n",
       "      <th>Stock Splits</th>\n",
       "      <th>10_ac_ma</th>\n",
       "      <th>20_ac_ma</th>\n",
       "      <th>50_ac_ma</th>\n",
       "      <th>10_ac_bb_u</th>\n",
       "      <th>10_ac_bb_l</th>\n",
       "      <th>20_ac_bb_u</th>\n",
       "      <th>20_ac_bb_l</th>\n",
       "      <th>50_ac_bb_u</th>\n",
       "      <th>50_ac_bb_l</th>\n",
       "    </tr>\n",
       "    <tr>\n",
       "      <th>Date</th>\n",
       "      <th></th>\n",
       "      <th></th>\n",
       "      <th></th>\n",
       "      <th></th>\n",
       "      <th></th>\n",
       "      <th></th>\n",
       "      <th></th>\n",
       "      <th></th>\n",
       "      <th></th>\n",
       "      <th></th>\n",
       "      <th></th>\n",
       "      <th></th>\n",
       "      <th></th>\n",
       "      <th></th>\n",
       "      <th></th>\n",
       "      <th></th>\n",
       "      <th></th>\n",
       "    </tr>\n",
       "  </thead>\n",
       "  <tbody>\n",
       "    <tr>\n",
       "      <th>2021-03-11</th>\n",
       "      <td>3113.590088</td>\n",
       "      <td>3113.590088</td>\n",
       "      <td>3131.780029</td>\n",
       "      <td>3082.929932</td>\n",
       "      <td>3104.010010</td>\n",
       "      <td>2770800.0</td>\n",
       "      <td>NaN</td>\n",
       "      <td>NaN</td>\n",
       "      <td>3050.265991</td>\n",
       "      <td>3139.507471</td>\n",
       "      <td>3201.778574</td>\n",
       "      <td>3177.936381</td>\n",
       "      <td>2922.595602</td>\n",
       "      <td>3371.442633</td>\n",
       "      <td>2907.572308</td>\n",
       "      <td>3420.540848</td>\n",
       "      <td>2983.016300</td>\n",
       "    </tr>\n",
       "    <tr>\n",
       "      <th>2021-03-12</th>\n",
       "      <td>3089.489990</td>\n",
       "      <td>3089.489990</td>\n",
       "      <td>3098.979980</td>\n",
       "      <td>3045.500000</td>\n",
       "      <td>3075.000000</td>\n",
       "      <td>2418500.0</td>\n",
       "      <td>NaN</td>\n",
       "      <td>NaN</td>\n",
       "      <td>3049.921997</td>\n",
       "      <td>3130.875476</td>\n",
       "      <td>3197.128374</td>\n",
       "      <td>3177.099067</td>\n",
       "      <td>2922.744928</td>\n",
       "      <td>3356.355728</td>\n",
       "      <td>2905.395224</td>\n",
       "      <td>3415.344096</td>\n",
       "      <td>2978.912652</td>\n",
       "    </tr>\n",
       "    <tr>\n",
       "      <th>2021-03-15</th>\n",
       "      <td>3081.679932</td>\n",
       "      <td>3081.679932</td>\n",
       "      <td>3082.239990</td>\n",
       "      <td>3032.090088</td>\n",
       "      <td>3074.570068</td>\n",
       "      <td>2913600.0</td>\n",
       "      <td>NaN</td>\n",
       "      <td>NaN</td>\n",
       "      <td>3043.476001</td>\n",
       "      <td>3121.073975</td>\n",
       "      <td>3193.044971</td>\n",
       "      <td>3154.484890</td>\n",
       "      <td>2932.467112</td>\n",
       "      <td>3336.497587</td>\n",
       "      <td>2905.650362</td>\n",
       "      <td>3412.123715</td>\n",
       "      <td>2973.966226</td>\n",
       "    </tr>\n",
       "    <tr>\n",
       "      <th>2021-03-16</th>\n",
       "      <td>3091.860107</td>\n",
       "      <td>3091.860107</td>\n",
       "      <td>3128.909912</td>\n",
       "      <td>3075.860107</td>\n",
       "      <td>3104.969971</td>\n",
       "      <td>2510100.0</td>\n",
       "      <td>NaN</td>\n",
       "      <td>NaN</td>\n",
       "      <td>3043.209009</td>\n",
       "      <td>3112.219482</td>\n",
       "      <td>3189.743574</td>\n",
       "      <td>3153.683712</td>\n",
       "      <td>2932.734305</td>\n",
       "      <td>3316.310760</td>\n",
       "      <td>2908.128205</td>\n",
       "      <td>3409.865425</td>\n",
       "      <td>2969.621724</td>\n",
       "    </tr>\n",
       "    <tr>\n",
       "      <th>2021-03-17</th>\n",
       "      <td>3135.729980</td>\n",
       "      <td>3135.729980</td>\n",
       "      <td>3173.050049</td>\n",
       "      <td>3070.219971</td>\n",
       "      <td>3073.219971</td>\n",
       "      <td>3100900.0</td>\n",
       "      <td>NaN</td>\n",
       "      <td>NaN</td>\n",
       "      <td>3056.282007</td>\n",
       "      <td>3103.573987</td>\n",
       "      <td>3188.725576</td>\n",
       "      <td>3177.115509</td>\n",
       "      <td>2935.448505</td>\n",
       "      <td>3286.146141</td>\n",
       "      <td>2921.001832</td>\n",
       "      <td>3409.376360</td>\n",
       "      <td>2968.074792</td>\n",
       "    </tr>\n",
       "  </tbody>\n",
       "</table>\n",
       "</div>"
      ],
      "text/plain": [
       "              Adj Close        Close         High          Low         Open  \\\n",
       "Date                                                                          \n",
       "2021-03-11  3113.590088  3113.590088  3131.780029  3082.929932  3104.010010   \n",
       "2021-03-12  3089.489990  3089.489990  3098.979980  3045.500000  3075.000000   \n",
       "2021-03-15  3081.679932  3081.679932  3082.239990  3032.090088  3074.570068   \n",
       "2021-03-16  3091.860107  3091.860107  3128.909912  3075.860107  3104.969971   \n",
       "2021-03-17  3135.729980  3135.729980  3173.050049  3070.219971  3073.219971   \n",
       "\n",
       "               Volume  Dividends  Stock Splits     10_ac_ma     20_ac_ma  \\\n",
       "Date                                                                       \n",
       "2021-03-11  2770800.0        NaN           NaN  3050.265991  3139.507471   \n",
       "2021-03-12  2418500.0        NaN           NaN  3049.921997  3130.875476   \n",
       "2021-03-15  2913600.0        NaN           NaN  3043.476001  3121.073975   \n",
       "2021-03-16  2510100.0        NaN           NaN  3043.209009  3112.219482   \n",
       "2021-03-17  3100900.0        NaN           NaN  3056.282007  3103.573987   \n",
       "\n",
       "               50_ac_ma   10_ac_bb_u   10_ac_bb_l   20_ac_bb_u   20_ac_bb_l  \\\n",
       "Date                                                                          \n",
       "2021-03-11  3201.778574  3177.936381  2922.595602  3371.442633  2907.572308   \n",
       "2021-03-12  3197.128374  3177.099067  2922.744928  3356.355728  2905.395224   \n",
       "2021-03-15  3193.044971  3154.484890  2932.467112  3336.497587  2905.650362   \n",
       "2021-03-16  3189.743574  3153.683712  2932.734305  3316.310760  2908.128205   \n",
       "2021-03-17  3188.725576  3177.115509  2935.448505  3286.146141  2921.001832   \n",
       "\n",
       "             50_ac_bb_u   50_ac_bb_l  \n",
       "Date                                  \n",
       "2021-03-11  3420.540848  2983.016300  \n",
       "2021-03-12  3415.344096  2978.912652  \n",
       "2021-03-15  3412.123715  2973.966226  \n",
       "2021-03-16  3409.865425  2969.621724  \n",
       "2021-03-17  3409.376360  2968.074792  "
      ]
     },
     "execution_count": 154,
     "metadata": {},
     "output_type": "execute_result"
    }
   ],
   "source": [
    "df_amzn_valid.head()"
   ]
  },
  {
   "cell_type": "markdown",
   "id": "suffering-theorem",
   "metadata": {},
   "source": [
    "#### Alphabet Inc. Stock train test split"
   ]
  },
  {
   "cell_type": "code",
   "execution_count": 155,
   "id": "fewer-brunswick",
   "metadata": {},
   "outputs": [],
   "source": [
    "df_googl = df_googl.loc[data_start:].copy()"
   ]
  },
  {
   "cell_type": "code",
   "execution_count": 156,
   "id": "adequate-valve",
   "metadata": {},
   "outputs": [
    {
     "name": "stdout",
     "output_type": "stream",
     "text": [
      "4188 4148 4168 20\n"
     ]
    }
   ],
   "source": [
    "df_googl_train, df_googl_test, df_googl_valid = train_test_valid_split(df_googl, prediction_length=prediction_length[1])\n",
    "print(len(df_googl), len(df_googl_train), len(df_googl_test), len(df_googl_valid))"
   ]
  },
  {
   "cell_type": "code",
   "execution_count": 157,
   "id": "sexual-charger",
   "metadata": {},
   "outputs": [
    {
     "data": {
      "text/html": [
       "<div>\n",
       "<style scoped>\n",
       "    .dataframe tbody tr th:only-of-type {\n",
       "        vertical-align: middle;\n",
       "    }\n",
       "\n",
       "    .dataframe tbody tr th {\n",
       "        vertical-align: top;\n",
       "    }\n",
       "\n",
       "    .dataframe thead th {\n",
       "        text-align: right;\n",
       "    }\n",
       "</style>\n",
       "<table border=\"1\" class=\"dataframe\">\n",
       "  <thead>\n",
       "    <tr style=\"text-align: right;\">\n",
       "      <th></th>\n",
       "      <th>Adj Close</th>\n",
       "      <th>Close</th>\n",
       "      <th>High</th>\n",
       "      <th>Low</th>\n",
       "      <th>Open</th>\n",
       "      <th>Volume</th>\n",
       "      <th>Dividends</th>\n",
       "      <th>Stock Splits</th>\n",
       "      <th>10_ac_ma</th>\n",
       "      <th>20_ac_ma</th>\n",
       "      <th>50_ac_ma</th>\n",
       "      <th>10_ac_bb_u</th>\n",
       "      <th>10_ac_bb_l</th>\n",
       "      <th>20_ac_bb_u</th>\n",
       "      <th>20_ac_bb_l</th>\n",
       "      <th>50_ac_bb_u</th>\n",
       "      <th>50_ac_bb_l</th>\n",
       "    </tr>\n",
       "    <tr>\n",
       "      <th>Date</th>\n",
       "      <th></th>\n",
       "      <th></th>\n",
       "      <th></th>\n",
       "      <th></th>\n",
       "      <th></th>\n",
       "      <th></th>\n",
       "      <th></th>\n",
       "      <th></th>\n",
       "      <th></th>\n",
       "      <th></th>\n",
       "      <th></th>\n",
       "      <th></th>\n",
       "      <th></th>\n",
       "      <th></th>\n",
       "      <th></th>\n",
       "      <th></th>\n",
       "      <th></th>\n",
       "    </tr>\n",
       "  </thead>\n",
       "  <tbody>\n",
       "    <tr>\n",
       "      <th>2004-08-19</th>\n",
       "      <td>50.220219</td>\n",
       "      <td>50.220219</td>\n",
       "      <td>52.082081</td>\n",
       "      <td>48.028027</td>\n",
       "      <td>50.050049</td>\n",
       "      <td>44659096.0</td>\n",
       "      <td>0.0</td>\n",
       "      <td>1.998</td>\n",
       "      <td>52.432933</td>\n",
       "      <td>52.692943</td>\n",
       "      <td>63.586987</td>\n",
       "      <td>55.781053</td>\n",
       "      <td>49.084813</td>\n",
       "      <td>56.933168</td>\n",
       "      <td>48.452718</td>\n",
       "      <td>88.331593</td>\n",
       "      <td>38.842381</td>\n",
       "    </tr>\n",
       "    <tr>\n",
       "      <th>2004-08-20</th>\n",
       "      <td>54.209209</td>\n",
       "      <td>54.209209</td>\n",
       "      <td>54.594597</td>\n",
       "      <td>50.300301</td>\n",
       "      <td>50.555557</td>\n",
       "      <td>22834343.0</td>\n",
       "      <td>0.0</td>\n",
       "      <td>1.998</td>\n",
       "      <td>52.432933</td>\n",
       "      <td>52.692943</td>\n",
       "      <td>63.586987</td>\n",
       "      <td>55.781053</td>\n",
       "      <td>49.084813</td>\n",
       "      <td>56.933168</td>\n",
       "      <td>48.452718</td>\n",
       "      <td>88.331593</td>\n",
       "      <td>38.842381</td>\n",
       "    </tr>\n",
       "    <tr>\n",
       "      <th>2004-08-23</th>\n",
       "      <td>54.754753</td>\n",
       "      <td>54.754753</td>\n",
       "      <td>56.796799</td>\n",
       "      <td>54.579578</td>\n",
       "      <td>55.430431</td>\n",
       "      <td>18256126.0</td>\n",
       "      <td>0.0</td>\n",
       "      <td>1.998</td>\n",
       "      <td>52.432933</td>\n",
       "      <td>52.692943</td>\n",
       "      <td>63.586987</td>\n",
       "      <td>55.781053</td>\n",
       "      <td>49.084813</td>\n",
       "      <td>56.933168</td>\n",
       "      <td>48.452718</td>\n",
       "      <td>88.331593</td>\n",
       "      <td>38.842381</td>\n",
       "    </tr>\n",
       "    <tr>\n",
       "      <th>2004-08-24</th>\n",
       "      <td>52.487488</td>\n",
       "      <td>52.487488</td>\n",
       "      <td>55.855858</td>\n",
       "      <td>51.836838</td>\n",
       "      <td>55.675674</td>\n",
       "      <td>15247337.0</td>\n",
       "      <td>0.0</td>\n",
       "      <td>1.998</td>\n",
       "      <td>52.432933</td>\n",
       "      <td>52.692943</td>\n",
       "      <td>63.586987</td>\n",
       "      <td>55.781053</td>\n",
       "      <td>49.084813</td>\n",
       "      <td>56.933168</td>\n",
       "      <td>48.452718</td>\n",
       "      <td>88.331593</td>\n",
       "      <td>38.842381</td>\n",
       "    </tr>\n",
       "    <tr>\n",
       "      <th>2004-08-25</th>\n",
       "      <td>53.053055</td>\n",
       "      <td>53.053055</td>\n",
       "      <td>54.054054</td>\n",
       "      <td>51.991993</td>\n",
       "      <td>52.532532</td>\n",
       "      <td>9188602.0</td>\n",
       "      <td>0.0</td>\n",
       "      <td>1.998</td>\n",
       "      <td>52.432933</td>\n",
       "      <td>52.692943</td>\n",
       "      <td>63.586987</td>\n",
       "      <td>55.781053</td>\n",
       "      <td>49.084813</td>\n",
       "      <td>56.933168</td>\n",
       "      <td>48.452718</td>\n",
       "      <td>88.331593</td>\n",
       "      <td>38.842381</td>\n",
       "    </tr>\n",
       "  </tbody>\n",
       "</table>\n",
       "</div>"
      ],
      "text/plain": [
       "            Adj Close      Close       High        Low       Open      Volume  \\\n",
       "Date                                                                            \n",
       "2004-08-19  50.220219  50.220219  52.082081  48.028027  50.050049  44659096.0   \n",
       "2004-08-20  54.209209  54.209209  54.594597  50.300301  50.555557  22834343.0   \n",
       "2004-08-23  54.754753  54.754753  56.796799  54.579578  55.430431  18256126.0   \n",
       "2004-08-24  52.487488  52.487488  55.855858  51.836838  55.675674  15247337.0   \n",
       "2004-08-25  53.053055  53.053055  54.054054  51.991993  52.532532   9188602.0   \n",
       "\n",
       "            Dividends  Stock Splits   10_ac_ma   20_ac_ma   50_ac_ma  \\\n",
       "Date                                                                   \n",
       "2004-08-19        0.0         1.998  52.432933  52.692943  63.586987   \n",
       "2004-08-20        0.0         1.998  52.432933  52.692943  63.586987   \n",
       "2004-08-23        0.0         1.998  52.432933  52.692943  63.586987   \n",
       "2004-08-24        0.0         1.998  52.432933  52.692943  63.586987   \n",
       "2004-08-25        0.0         1.998  52.432933  52.692943  63.586987   \n",
       "\n",
       "            10_ac_bb_u  10_ac_bb_l  20_ac_bb_u  20_ac_bb_l  50_ac_bb_u  \\\n",
       "Date                                                                     \n",
       "2004-08-19   55.781053   49.084813   56.933168   48.452718   88.331593   \n",
       "2004-08-20   55.781053   49.084813   56.933168   48.452718   88.331593   \n",
       "2004-08-23   55.781053   49.084813   56.933168   48.452718   88.331593   \n",
       "2004-08-24   55.781053   49.084813   56.933168   48.452718   88.331593   \n",
       "2004-08-25   55.781053   49.084813   56.933168   48.452718   88.331593   \n",
       "\n",
       "            50_ac_bb_l  \n",
       "Date                    \n",
       "2004-08-19   38.842381  \n",
       "2004-08-20   38.842381  \n",
       "2004-08-23   38.842381  \n",
       "2004-08-24   38.842381  \n",
       "2004-08-25   38.842381  "
      ]
     },
     "execution_count": 157,
     "metadata": {},
     "output_type": "execute_result"
    }
   ],
   "source": [
    "df_googl_train.head()"
   ]
  },
  {
   "cell_type": "code",
   "execution_count": 158,
   "id": "facial-block",
   "metadata": {},
   "outputs": [
    {
     "data": {
      "text/html": [
       "<div>\n",
       "<style scoped>\n",
       "    .dataframe tbody tr th:only-of-type {\n",
       "        vertical-align: middle;\n",
       "    }\n",
       "\n",
       "    .dataframe tbody tr th {\n",
       "        vertical-align: top;\n",
       "    }\n",
       "\n",
       "    .dataframe thead th {\n",
       "        text-align: right;\n",
       "    }\n",
       "</style>\n",
       "<table border=\"1\" class=\"dataframe\">\n",
       "  <thead>\n",
       "    <tr style=\"text-align: right;\">\n",
       "      <th></th>\n",
       "      <th>Adj Close</th>\n",
       "      <th>Close</th>\n",
       "      <th>High</th>\n",
       "      <th>Low</th>\n",
       "      <th>Open</th>\n",
       "      <th>Volume</th>\n",
       "      <th>Dividends</th>\n",
       "      <th>Stock Splits</th>\n",
       "      <th>10_ac_ma</th>\n",
       "      <th>20_ac_ma</th>\n",
       "      <th>50_ac_ma</th>\n",
       "      <th>10_ac_bb_u</th>\n",
       "      <th>10_ac_bb_l</th>\n",
       "      <th>20_ac_bb_u</th>\n",
       "      <th>20_ac_bb_l</th>\n",
       "      <th>50_ac_bb_u</th>\n",
       "      <th>50_ac_bb_l</th>\n",
       "    </tr>\n",
       "    <tr>\n",
       "      <th>Date</th>\n",
       "      <th></th>\n",
       "      <th></th>\n",
       "      <th></th>\n",
       "      <th></th>\n",
       "      <th></th>\n",
       "      <th></th>\n",
       "      <th></th>\n",
       "      <th></th>\n",
       "      <th></th>\n",
       "      <th></th>\n",
       "      <th></th>\n",
       "      <th></th>\n",
       "      <th></th>\n",
       "      <th></th>\n",
       "      <th></th>\n",
       "      <th></th>\n",
       "      <th></th>\n",
       "    </tr>\n",
       "  </thead>\n",
       "  <tbody>\n",
       "    <tr>\n",
       "      <th>2004-08-19</th>\n",
       "      <td>50.220219</td>\n",
       "      <td>50.220219</td>\n",
       "      <td>52.082081</td>\n",
       "      <td>48.028027</td>\n",
       "      <td>50.050049</td>\n",
       "      <td>44659096.0</td>\n",
       "      <td>0.0</td>\n",
       "      <td>1.998</td>\n",
       "      <td>52.432933</td>\n",
       "      <td>52.692943</td>\n",
       "      <td>63.586987</td>\n",
       "      <td>55.781053</td>\n",
       "      <td>49.084813</td>\n",
       "      <td>56.933168</td>\n",
       "      <td>48.452718</td>\n",
       "      <td>88.331593</td>\n",
       "      <td>38.842381</td>\n",
       "    </tr>\n",
       "    <tr>\n",
       "      <th>2004-08-20</th>\n",
       "      <td>54.209209</td>\n",
       "      <td>54.209209</td>\n",
       "      <td>54.594597</td>\n",
       "      <td>50.300301</td>\n",
       "      <td>50.555557</td>\n",
       "      <td>22834343.0</td>\n",
       "      <td>0.0</td>\n",
       "      <td>1.998</td>\n",
       "      <td>52.432933</td>\n",
       "      <td>52.692943</td>\n",
       "      <td>63.586987</td>\n",
       "      <td>55.781053</td>\n",
       "      <td>49.084813</td>\n",
       "      <td>56.933168</td>\n",
       "      <td>48.452718</td>\n",
       "      <td>88.331593</td>\n",
       "      <td>38.842381</td>\n",
       "    </tr>\n",
       "    <tr>\n",
       "      <th>2004-08-23</th>\n",
       "      <td>54.754753</td>\n",
       "      <td>54.754753</td>\n",
       "      <td>56.796799</td>\n",
       "      <td>54.579578</td>\n",
       "      <td>55.430431</td>\n",
       "      <td>18256126.0</td>\n",
       "      <td>0.0</td>\n",
       "      <td>1.998</td>\n",
       "      <td>52.432933</td>\n",
       "      <td>52.692943</td>\n",
       "      <td>63.586987</td>\n",
       "      <td>55.781053</td>\n",
       "      <td>49.084813</td>\n",
       "      <td>56.933168</td>\n",
       "      <td>48.452718</td>\n",
       "      <td>88.331593</td>\n",
       "      <td>38.842381</td>\n",
       "    </tr>\n",
       "    <tr>\n",
       "      <th>2004-08-24</th>\n",
       "      <td>52.487488</td>\n",
       "      <td>52.487488</td>\n",
       "      <td>55.855858</td>\n",
       "      <td>51.836838</td>\n",
       "      <td>55.675674</td>\n",
       "      <td>15247337.0</td>\n",
       "      <td>0.0</td>\n",
       "      <td>1.998</td>\n",
       "      <td>52.432933</td>\n",
       "      <td>52.692943</td>\n",
       "      <td>63.586987</td>\n",
       "      <td>55.781053</td>\n",
       "      <td>49.084813</td>\n",
       "      <td>56.933168</td>\n",
       "      <td>48.452718</td>\n",
       "      <td>88.331593</td>\n",
       "      <td>38.842381</td>\n",
       "    </tr>\n",
       "    <tr>\n",
       "      <th>2004-08-25</th>\n",
       "      <td>53.053055</td>\n",
       "      <td>53.053055</td>\n",
       "      <td>54.054054</td>\n",
       "      <td>51.991993</td>\n",
       "      <td>52.532532</td>\n",
       "      <td>9188602.0</td>\n",
       "      <td>0.0</td>\n",
       "      <td>1.998</td>\n",
       "      <td>52.432933</td>\n",
       "      <td>52.692943</td>\n",
       "      <td>63.586987</td>\n",
       "      <td>55.781053</td>\n",
       "      <td>49.084813</td>\n",
       "      <td>56.933168</td>\n",
       "      <td>48.452718</td>\n",
       "      <td>88.331593</td>\n",
       "      <td>38.842381</td>\n",
       "    </tr>\n",
       "  </tbody>\n",
       "</table>\n",
       "</div>"
      ],
      "text/plain": [
       "            Adj Close      Close       High        Low       Open      Volume  \\\n",
       "Date                                                                            \n",
       "2004-08-19  50.220219  50.220219  52.082081  48.028027  50.050049  44659096.0   \n",
       "2004-08-20  54.209209  54.209209  54.594597  50.300301  50.555557  22834343.0   \n",
       "2004-08-23  54.754753  54.754753  56.796799  54.579578  55.430431  18256126.0   \n",
       "2004-08-24  52.487488  52.487488  55.855858  51.836838  55.675674  15247337.0   \n",
       "2004-08-25  53.053055  53.053055  54.054054  51.991993  52.532532   9188602.0   \n",
       "\n",
       "            Dividends  Stock Splits   10_ac_ma   20_ac_ma   50_ac_ma  \\\n",
       "Date                                                                   \n",
       "2004-08-19        0.0         1.998  52.432933  52.692943  63.586987   \n",
       "2004-08-20        0.0         1.998  52.432933  52.692943  63.586987   \n",
       "2004-08-23        0.0         1.998  52.432933  52.692943  63.586987   \n",
       "2004-08-24        0.0         1.998  52.432933  52.692943  63.586987   \n",
       "2004-08-25        0.0         1.998  52.432933  52.692943  63.586987   \n",
       "\n",
       "            10_ac_bb_u  10_ac_bb_l  20_ac_bb_u  20_ac_bb_l  50_ac_bb_u  \\\n",
       "Date                                                                     \n",
       "2004-08-19   55.781053   49.084813   56.933168   48.452718   88.331593   \n",
       "2004-08-20   55.781053   49.084813   56.933168   48.452718   88.331593   \n",
       "2004-08-23   55.781053   49.084813   56.933168   48.452718   88.331593   \n",
       "2004-08-24   55.781053   49.084813   56.933168   48.452718   88.331593   \n",
       "2004-08-25   55.781053   49.084813   56.933168   48.452718   88.331593   \n",
       "\n",
       "            50_ac_bb_l  \n",
       "Date                    \n",
       "2004-08-19   38.842381  \n",
       "2004-08-20   38.842381  \n",
       "2004-08-23   38.842381  \n",
       "2004-08-24   38.842381  \n",
       "2004-08-25   38.842381  "
      ]
     },
     "execution_count": 158,
     "metadata": {},
     "output_type": "execute_result"
    }
   ],
   "source": [
    "df_googl_test.head()"
   ]
  },
  {
   "cell_type": "code",
   "execution_count": 159,
   "id": "given-episode",
   "metadata": {},
   "outputs": [
    {
     "data": {
      "text/html": [
       "<div>\n",
       "<style scoped>\n",
       "    .dataframe tbody tr th:only-of-type {\n",
       "        vertical-align: middle;\n",
       "    }\n",
       "\n",
       "    .dataframe tbody tr th {\n",
       "        vertical-align: top;\n",
       "    }\n",
       "\n",
       "    .dataframe thead th {\n",
       "        text-align: right;\n",
       "    }\n",
       "</style>\n",
       "<table border=\"1\" class=\"dataframe\">\n",
       "  <thead>\n",
       "    <tr style=\"text-align: right;\">\n",
       "      <th></th>\n",
       "      <th>Adj Close</th>\n",
       "      <th>Close</th>\n",
       "      <th>High</th>\n",
       "      <th>Low</th>\n",
       "      <th>Open</th>\n",
       "      <th>Volume</th>\n",
       "      <th>Dividends</th>\n",
       "      <th>Stock Splits</th>\n",
       "      <th>10_ac_ma</th>\n",
       "      <th>20_ac_ma</th>\n",
       "      <th>50_ac_ma</th>\n",
       "      <th>10_ac_bb_u</th>\n",
       "      <th>10_ac_bb_l</th>\n",
       "      <th>20_ac_bb_u</th>\n",
       "      <th>20_ac_bb_l</th>\n",
       "      <th>50_ac_bb_u</th>\n",
       "      <th>50_ac_bb_l</th>\n",
       "    </tr>\n",
       "    <tr>\n",
       "      <th>Date</th>\n",
       "      <th></th>\n",
       "      <th></th>\n",
       "      <th></th>\n",
       "      <th></th>\n",
       "      <th></th>\n",
       "      <th></th>\n",
       "      <th></th>\n",
       "      <th></th>\n",
       "      <th></th>\n",
       "      <th></th>\n",
       "      <th></th>\n",
       "      <th></th>\n",
       "      <th></th>\n",
       "      <th></th>\n",
       "      <th></th>\n",
       "      <th></th>\n",
       "      <th></th>\n",
       "    </tr>\n",
       "  </thead>\n",
       "  <tbody>\n",
       "    <tr>\n",
       "      <th>2021-03-11</th>\n",
       "      <td>2100.540039</td>\n",
       "      <td>2100.540039</td>\n",
       "      <td>2111.270020</td>\n",
       "      <td>2056.449951</td>\n",
       "      <td>2058.219971</td>\n",
       "      <td>1384200.0</td>\n",
       "      <td>NaN</td>\n",
       "      <td>NaN</td>\n",
       "      <td>2048.305005</td>\n",
       "      <td>2065.245520</td>\n",
       "      <td>1940.304001</td>\n",
       "      <td>2114.850599</td>\n",
       "      <td>1981.759411</td>\n",
       "      <td>2136.785671</td>\n",
       "      <td>1993.705369</td>\n",
       "      <td>2227.839478</td>\n",
       "      <td>1652.768525</td>\n",
       "    </tr>\n",
       "    <tr>\n",
       "      <th>2021-03-12</th>\n",
       "      <td>2050.000000</td>\n",
       "      <td>2050.000000</td>\n",
       "      <td>2077.610107</td>\n",
       "      <td>2032.420044</td>\n",
       "      <td>2076.409912</td>\n",
       "      <td>1690000.0</td>\n",
       "      <td>NaN</td>\n",
       "      <td>NaN</td>\n",
       "      <td>2051.114001</td>\n",
       "      <td>2063.308020</td>\n",
       "      <td>1946.148801</td>\n",
       "      <td>2115.027085</td>\n",
       "      <td>1987.200918</td>\n",
       "      <td>2134.264426</td>\n",
       "      <td>1992.351614</td>\n",
       "      <td>2230.401030</td>\n",
       "      <td>1661.896572</td>\n",
       "    </tr>\n",
       "    <tr>\n",
       "      <th>2021-03-15</th>\n",
       "      <td>2054.439941</td>\n",
       "      <td>2054.439941</td>\n",
       "      <td>2054.989990</td>\n",
       "      <td>2027.790039</td>\n",
       "      <td>2044.979980</td>\n",
       "      <td>1308400.0</td>\n",
       "      <td>NaN</td>\n",
       "      <td>NaN</td>\n",
       "      <td>2049.592004</td>\n",
       "      <td>2061.278516</td>\n",
       "      <td>1952.512600</td>\n",
       "      <td>2112.254882</td>\n",
       "      <td>1986.929127</td>\n",
       "      <td>2130.720402</td>\n",
       "      <td>1991.836629</td>\n",
       "      <td>2231.788099</td>\n",
       "      <td>1673.237101</td>\n",
       "    </tr>\n",
       "    <tr>\n",
       "      <th>2021-03-16</th>\n",
       "      <td>2083.889893</td>\n",
       "      <td>2083.889893</td>\n",
       "      <td>2113.679932</td>\n",
       "      <td>2059.290039</td>\n",
       "      <td>2065.989990</td>\n",
       "      <td>1592800.0</td>\n",
       "      <td>NaN</td>\n",
       "      <td>NaN</td>\n",
       "      <td>2051.532996</td>\n",
       "      <td>2059.938013</td>\n",
       "      <td>1959.137598</td>\n",
       "      <td>2117.367638</td>\n",
       "      <td>1985.698353</td>\n",
       "      <td>2126.331087</td>\n",
       "      <td>1993.544939</td>\n",
       "      <td>2234.752349</td>\n",
       "      <td>1683.522846</td>\n",
       "    </tr>\n",
       "    <tr>\n",
       "      <th>2021-03-17</th>\n",
       "      <td>2082.219971</td>\n",
       "      <td>2082.219971</td>\n",
       "      <td>2099.000000</td>\n",
       "      <td>2044.119995</td>\n",
       "      <td>2068.469971</td>\n",
       "      <td>1292400.0</td>\n",
       "      <td>NaN</td>\n",
       "      <td>NaN</td>\n",
       "      <td>2058.613989</td>\n",
       "      <td>2058.118005</td>\n",
       "      <td>1966.259397</td>\n",
       "      <td>2120.374761</td>\n",
       "      <td>1996.853218</td>\n",
       "      <td>2119.548050</td>\n",
       "      <td>1996.687961</td>\n",
       "      <td>2235.631077</td>\n",
       "      <td>1696.887717</td>\n",
       "    </tr>\n",
       "  </tbody>\n",
       "</table>\n",
       "</div>"
      ],
      "text/plain": [
       "              Adj Close        Close         High          Low         Open  \\\n",
       "Date                                                                          \n",
       "2021-03-11  2100.540039  2100.540039  2111.270020  2056.449951  2058.219971   \n",
       "2021-03-12  2050.000000  2050.000000  2077.610107  2032.420044  2076.409912   \n",
       "2021-03-15  2054.439941  2054.439941  2054.989990  2027.790039  2044.979980   \n",
       "2021-03-16  2083.889893  2083.889893  2113.679932  2059.290039  2065.989990   \n",
       "2021-03-17  2082.219971  2082.219971  2099.000000  2044.119995  2068.469971   \n",
       "\n",
       "               Volume  Dividends  Stock Splits     10_ac_ma     20_ac_ma  \\\n",
       "Date                                                                       \n",
       "2021-03-11  1384200.0        NaN           NaN  2048.305005  2065.245520   \n",
       "2021-03-12  1690000.0        NaN           NaN  2051.114001  2063.308020   \n",
       "2021-03-15  1308400.0        NaN           NaN  2049.592004  2061.278516   \n",
       "2021-03-16  1592800.0        NaN           NaN  2051.532996  2059.938013   \n",
       "2021-03-17  1292400.0        NaN           NaN  2058.613989  2058.118005   \n",
       "\n",
       "               50_ac_ma   10_ac_bb_u   10_ac_bb_l   20_ac_bb_u   20_ac_bb_l  \\\n",
       "Date                                                                          \n",
       "2021-03-11  1940.304001  2114.850599  1981.759411  2136.785671  1993.705369   \n",
       "2021-03-12  1946.148801  2115.027085  1987.200918  2134.264426  1992.351614   \n",
       "2021-03-15  1952.512600  2112.254882  1986.929127  2130.720402  1991.836629   \n",
       "2021-03-16  1959.137598  2117.367638  1985.698353  2126.331087  1993.544939   \n",
       "2021-03-17  1966.259397  2120.374761  1996.853218  2119.548050  1996.687961   \n",
       "\n",
       "             50_ac_bb_u   50_ac_bb_l  \n",
       "Date                                  \n",
       "2021-03-11  2227.839478  1652.768525  \n",
       "2021-03-12  2230.401030  1661.896572  \n",
       "2021-03-15  2231.788099  1673.237101  \n",
       "2021-03-16  2234.752349  1683.522846  \n",
       "2021-03-17  2235.631077  1696.887717  "
      ]
     },
     "execution_count": 159,
     "metadata": {},
     "output_type": "execute_result"
    }
   ],
   "source": [
    "df_googl_valid.head()"
   ]
  },
  {
   "cell_type": "markdown",
   "id": "legislative-costs",
   "metadata": {},
   "source": [
    "### Metrics computation"
   ]
  },
  {
   "cell_type": "markdown",
   "id": "million-junior",
   "metadata": {},
   "source": [
    "Computing metrics on the benchmark model will give me a good reference to evaluate the deep learning model after training."
   ]
  },
  {
   "cell_type": "markdown",
   "id": "protecting-homework",
   "metadata": {},
   "source": [
    "As can be presumed and seen from data prints, first `n` values of validation data are `NaN` so, it will be better just to exclude the first `n-1` values from the validation set to avoid misleading values to be catch in metrics evaluation. "
   ]
  },
  {
   "cell_type": "code",
   "execution_count": 160,
   "id": "northern-intelligence",
   "metadata": {},
   "outputs": [],
   "source": [
    "from sklearn.metrics import mean_absolute_error, mean_squared_error, mean_absolute_percentage_error, r2_score"
   ]
  },
  {
   "cell_type": "markdown",
   "id": "resistant-founder",
   "metadata": {},
   "source": [
    "#### IBM stock"
   ]
  },
  {
   "cell_type": "code",
   "execution_count": 161,
   "id": "acoustic-pulse",
   "metadata": {},
   "outputs": [],
   "source": [
    "#n = 10\n",
    "#ma_str = str(n)+'_ac_ma'"
   ]
  },
  {
   "cell_type": "code",
   "execution_count": 162,
   "id": "japanese-links",
   "metadata": {},
   "outputs": [],
   "source": [
    "#ibm_ma_mse_loss = mean_squared_error(df_ibm_valid.iloc[n-1:]['Adj Close'], df_ibm_valid.iloc[n-1:][ma_str])"
   ]
  },
  {
   "cell_type": "code",
   "execution_count": 163,
   "id": "trained-connection",
   "metadata": {},
   "outputs": [],
   "source": [
    "#print(ibm_ma_mse_loss)"
   ]
  },
  {
   "cell_type": "code",
   "execution_count": 164,
   "id": "seven-qualification",
   "metadata": {},
   "outputs": [],
   "source": [
    "n = 20\n",
    "ma_str = str(n)+'_ac_ma'"
   ]
  },
  {
   "cell_type": "markdown",
   "id": "regular-weekend",
   "metadata": {},
   "source": [
    "Mean Absolute Error"
   ]
  },
  {
   "cell_type": "code",
   "execution_count": 165,
   "id": "political-burlington",
   "metadata": {},
   "outputs": [],
   "source": [
    "ibm_ma_mae_loss = mean_absolute_error(df_ibm_valid.iloc[:]['Adj Close'], df_ibm_valid[:][ma_str])"
   ]
  },
  {
   "cell_type": "code",
   "execution_count": 166,
   "id": "musical-channel",
   "metadata": {},
   "outputs": [
    {
     "name": "stdout",
     "output_type": "stream",
     "text": [
      "5.286773891448974\n"
     ]
    }
   ],
   "source": [
    "print(ibm_ma_mae_loss)"
   ]
  },
  {
   "cell_type": "markdown",
   "id": "available-rachel",
   "metadata": {},
   "source": [
    "Root Mean Squared Error"
   ]
  },
  {
   "cell_type": "code",
   "execution_count": 167,
   "id": "private-receipt",
   "metadata": {},
   "outputs": [],
   "source": [
    "ibm_ma_mse_loss = mean_squared_error(df_ibm_valid.iloc[:]['Adj Close'], df_ibm_valid[:][ma_str], squared=False)"
   ]
  },
  {
   "cell_type": "code",
   "execution_count": 168,
   "id": "leading-mathematics",
   "metadata": {},
   "outputs": [
    {
     "name": "stdout",
     "output_type": "stream",
     "text": [
      "5.496420822131089\n"
     ]
    }
   ],
   "source": [
    "print(ibm_ma_mse_loss)"
   ]
  },
  {
   "cell_type": "markdown",
   "id": "three-paradise",
   "metadata": {},
   "source": [
    "Mean Absolute Percentage Error"
   ]
  },
  {
   "cell_type": "code",
   "execution_count": 169,
   "id": "united-server",
   "metadata": {},
   "outputs": [],
   "source": [
    "ibm_ma_map_loss = mean_absolute_percentage_error(df_ibm_valid.iloc[:]['Adj Close'], df_ibm_valid[:][ma_str])"
   ]
  },
  {
   "cell_type": "code",
   "execution_count": 170,
   "id": "charged-chain",
   "metadata": {},
   "outputs": [
    {
     "name": "stdout",
     "output_type": "stream",
     "text": [
      "0.04008156845030956\n"
     ]
    }
   ],
   "source": [
    "print(ibm_ma_map_loss)"
   ]
  },
  {
   "cell_type": "markdown",
   "id": "sorted-killer",
   "metadata": {},
   "source": [
    "R<sup>2</sup> score"
   ]
  },
  {
   "cell_type": "code",
   "execution_count": 171,
   "id": "based-ranking",
   "metadata": {},
   "outputs": [],
   "source": [
    "ibm_ma_r2_score = r2_score(df_ibm_valid.iloc[:]['Adj Close'], df_ibm_valid[:][ma_str])"
   ]
  },
  {
   "cell_type": "code",
   "execution_count": 172,
   "id": "handmade-capacity",
   "metadata": {},
   "outputs": [
    {
     "name": "stdout",
     "output_type": "stream",
     "text": [
      "-2.350974874566425\n"
     ]
    }
   ],
   "source": [
    "print(ibm_ma_r2_score)"
   ]
  },
  {
   "cell_type": "code",
   "execution_count": 173,
   "id": "baking-introduction",
   "metadata": {},
   "outputs": [],
   "source": [
    "#n = 50\n",
    "#ma_str = str(n)+'_ac_ma'"
   ]
  },
  {
   "cell_type": "code",
   "execution_count": 174,
   "id": "final-childhood",
   "metadata": {},
   "outputs": [],
   "source": [
    "#ibm_ma_mse_loss = mean_squared_error(df_ibm_valid.iloc[n-1:]['Adj Close'], df_ibm_valid[n-1:][ma_str])"
   ]
  },
  {
   "cell_type": "code",
   "execution_count": 175,
   "id": "increasing-efficiency",
   "metadata": {},
   "outputs": [],
   "source": [
    "#print(ibm_ma_mse_loss)"
   ]
  },
  {
   "cell_type": "markdown",
   "id": "brilliant-niagara",
   "metadata": {},
   "source": [
    "#### Apple Inc. stock"
   ]
  },
  {
   "cell_type": "code",
   "execution_count": 176,
   "id": "permanent-animation",
   "metadata": {},
   "outputs": [],
   "source": [
    "#n = 10\n",
    "#ma_str = str(n)+'_ac_ma'"
   ]
  },
  {
   "cell_type": "code",
   "execution_count": 177,
   "id": "hawaiian-reference",
   "metadata": {},
   "outputs": [],
   "source": [
    "#aapl_ma_mse_loss = mean_squared_error(df_aapl_valid.iloc[n-1:]['Adj Close'], df_aapl_valid.iloc[n-1:][ma_str])"
   ]
  },
  {
   "cell_type": "code",
   "execution_count": 178,
   "id": "second-threshold",
   "metadata": {},
   "outputs": [],
   "source": [
    "#print(aapl_ma_mse_loss)"
   ]
  },
  {
   "cell_type": "code",
   "execution_count": 179,
   "id": "mediterranean-governor",
   "metadata": {},
   "outputs": [],
   "source": [
    "n = 20\n",
    "ma_str = str(n)+'_ac_ma'"
   ]
  },
  {
   "cell_type": "markdown",
   "id": "studied-newspaper",
   "metadata": {},
   "source": [
    "Mean Absolute Error"
   ]
  },
  {
   "cell_type": "code",
   "execution_count": 180,
   "id": "altered-terrorism",
   "metadata": {},
   "outputs": [],
   "source": [
    "aapl_ma_mae_loss = mean_absolute_error(df_aapl_valid.iloc[:]['Adj Close'], df_aapl_valid[:][ma_str])"
   ]
  },
  {
   "cell_type": "code",
   "execution_count": 181,
   "id": "separate-prison",
   "metadata": {},
   "outputs": [
    {
     "name": "stdout",
     "output_type": "stream",
     "text": [
      "2.2630758857727047\n"
     ]
    }
   ],
   "source": [
    "print(aapl_ma_mae_loss)"
   ]
  },
  {
   "cell_type": "markdown",
   "id": "representative-spirit",
   "metadata": {},
   "source": [
    "##### Root Mean Squared Error"
   ]
  },
  {
   "cell_type": "code",
   "execution_count": 182,
   "id": "level-extension",
   "metadata": {},
   "outputs": [],
   "source": [
    "aapl_ma_rmse_loss = mean_squared_error(df_aapl_valid.iloc[:]['Adj Close'], df_aapl_valid[:][ma_str], squared=False)"
   ]
  },
  {
   "cell_type": "code",
   "execution_count": 183,
   "id": "irish-trust",
   "metadata": {},
   "outputs": [
    {
     "name": "stdout",
     "output_type": "stream",
     "text": [
      "2.886362190246315\n"
     ]
    }
   ],
   "source": [
    "print(aapl_ma_rmse_loss)"
   ]
  },
  {
   "cell_type": "markdown",
   "id": "yellow-diameter",
   "metadata": {},
   "source": [
    "##### Mean Absolute Percentage Error"
   ]
  },
  {
   "cell_type": "code",
   "execution_count": 184,
   "id": "linear-large",
   "metadata": {},
   "outputs": [],
   "source": [
    "aapl_ma_map_loss = mean_absolute_percentage_error(df_aapl_valid.iloc[:]['Adj Close'], df_aapl_valid[:][ma_str])"
   ]
  },
  {
   "cell_type": "code",
   "execution_count": 185,
   "id": "outside-battlefield",
   "metadata": {},
   "outputs": [
    {
     "name": "stdout",
     "output_type": "stream",
     "text": [
      "0.018194131528907812\n"
     ]
    }
   ],
   "source": [
    "print(aapl_ma_map_loss)"
   ]
  },
  {
   "cell_type": "markdown",
   "id": "handy-rabbit",
   "metadata": {},
   "source": [
    "R<sup>2</sup> score"
   ]
  },
  {
   "cell_type": "code",
   "execution_count": 186,
   "id": "christian-moral",
   "metadata": {},
   "outputs": [],
   "source": [
    "aapl_ma_r2_score = r2_score(df_aapl_valid.iloc[:]['Adj Close'], df_aapl_valid[:][ma_str])"
   ]
  },
  {
   "cell_type": "code",
   "execution_count": 187,
   "id": "sexual-contest",
   "metadata": {},
   "outputs": [
    {
     "name": "stdout",
     "output_type": "stream",
     "text": [
      "-0.07186631604828109\n"
     ]
    }
   ],
   "source": [
    "print(aapl_ma_r2_score)"
   ]
  },
  {
   "cell_type": "code",
   "execution_count": 188,
   "id": "different-bishop",
   "metadata": {},
   "outputs": [],
   "source": [
    "#n = 50\n",
    "#ma_str = str(n)+'_ac_ma'"
   ]
  },
  {
   "cell_type": "code",
   "execution_count": 189,
   "id": "julian-asian",
   "metadata": {},
   "outputs": [],
   "source": [
    "#aapl_ma_mse_loss = mean_squared_error(df_aapl_valid.iloc[n-1:]['Adj Close'], df_aapl_valid[n-1:][ma_str])"
   ]
  },
  {
   "cell_type": "code",
   "execution_count": 190,
   "id": "outdoor-iceland",
   "metadata": {},
   "outputs": [],
   "source": [
    "#print(aapl_ma_mse_loss)"
   ]
  },
  {
   "cell_type": "markdown",
   "id": "available-violation",
   "metadata": {},
   "source": [
    "#### Amazon.com stock"
   ]
  },
  {
   "cell_type": "code",
   "execution_count": 191,
   "id": "prescription-saturn",
   "metadata": {},
   "outputs": [],
   "source": [
    "#n = 10\n",
    "#ma_str = str(n)+'_ac_ma'"
   ]
  },
  {
   "cell_type": "code",
   "execution_count": 192,
   "id": "intensive-copyright",
   "metadata": {},
   "outputs": [],
   "source": [
    "#amzn_ma_mse_loss = mean_squared_error(df_amzn_valid.iloc[n-1:]['Adj Close'], df_amzn_valid.iloc[n-1:][ma_str])"
   ]
  },
  {
   "cell_type": "code",
   "execution_count": 193,
   "id": "ruled-albert",
   "metadata": {},
   "outputs": [],
   "source": [
    "#print(amzn_ma_mse_loss)"
   ]
  },
  {
   "cell_type": "code",
   "execution_count": 194,
   "id": "attended-nurse",
   "metadata": {},
   "outputs": [],
   "source": [
    "n = 20\n",
    "ma_str = str(n)+'_ac_ma'"
   ]
  },
  {
   "cell_type": "markdown",
   "id": "alone-boards",
   "metadata": {},
   "source": [
    "Mean Absolute Error"
   ]
  },
  {
   "cell_type": "code",
   "execution_count": 195,
   "id": "coupled-background",
   "metadata": {},
   "outputs": [],
   "source": [
    "amzn_ma_mae_loss = mean_absolute_error(df_amzn_valid.iloc[:]['Adj Close'], df_amzn_valid[:][ma_str])"
   ]
  },
  {
   "cell_type": "code",
   "execution_count": 196,
   "id": "committed-surgeon",
   "metadata": {},
   "outputs": [
    {
     "name": "stdout",
     "output_type": "stream",
     "text": [
      "55.70976806640624\n"
     ]
    }
   ],
   "source": [
    "print(amzn_ma_mae_loss)"
   ]
  },
  {
   "cell_type": "markdown",
   "id": "featured-qatar",
   "metadata": {},
   "source": [
    "Root Mean Squared Error"
   ]
  },
  {
   "cell_type": "code",
   "execution_count": 197,
   "id": "negative-membrane",
   "metadata": {},
   "outputs": [],
   "source": [
    "amzn_ma_rmse_loss = mean_squared_error(df_amzn_valid.iloc[:]['Adj Close'], df_amzn_valid[:][ma_str], squared=False)"
   ]
  },
  {
   "cell_type": "code",
   "execution_count": 198,
   "id": "anticipated-vegetarian",
   "metadata": {},
   "outputs": [
    {
     "name": "stdout",
     "output_type": "stream",
     "text": [
      "76.28737528727864\n"
     ]
    }
   ],
   "source": [
    "print(amzn_ma_rmse_loss)"
   ]
  },
  {
   "cell_type": "markdown",
   "id": "visible-substitute",
   "metadata": {},
   "source": [
    "##### Mean Absolute Percentage Error"
   ]
  },
  {
   "cell_type": "code",
   "execution_count": 199,
   "id": "earned-persian",
   "metadata": {},
   "outputs": [],
   "source": [
    "amzn_ma_map_loss = mean_absolute_percentage_error(df_amzn_valid.iloc[:]['Adj Close'], df_amzn_valid[:][ma_str])"
   ]
  },
  {
   "cell_type": "code",
   "execution_count": 200,
   "id": "positive-founder",
   "metadata": {},
   "outputs": [
    {
     "name": "stdout",
     "output_type": "stream",
     "text": [
      "0.017491064096042102\n"
     ]
    }
   ],
   "source": [
    "print(amzn_ma_map_loss)"
   ]
  },
  {
   "cell_type": "markdown",
   "id": "loaded-softball",
   "metadata": {},
   "source": [
    "R<sup>2</sup> score"
   ]
  },
  {
   "cell_type": "code",
   "execution_count": 201,
   "id": "homeless-purpose",
   "metadata": {},
   "outputs": [],
   "source": [
    "amzn_ma_r2_score = r2_score(df_amzn_valid.iloc[:]['Adj Close'], df_amzn_valid[:][ma_str])"
   ]
  },
  {
   "cell_type": "code",
   "execution_count": 202,
   "id": "indie-insulation",
   "metadata": {},
   "outputs": [
    {
     "name": "stdout",
     "output_type": "stream",
     "text": [
      "-0.03974293382322225\n"
     ]
    }
   ],
   "source": [
    "print(amzn_ma_r2_score)"
   ]
  },
  {
   "cell_type": "code",
   "execution_count": 203,
   "id": "coral-custody",
   "metadata": {},
   "outputs": [],
   "source": [
    "#n = 50\n",
    "#ma_str = str(n)+'_ac_ma'"
   ]
  },
  {
   "cell_type": "code",
   "execution_count": 204,
   "id": "professional-payment",
   "metadata": {},
   "outputs": [],
   "source": [
    "#amzn_ma_mse_loss = mean_squared_error(df_amzn_valid.iloc[n-1:]['Adj Close'], df_amzn_valid[n-1:][ma_str])"
   ]
  },
  {
   "cell_type": "code",
   "execution_count": 205,
   "id": "surrounded-stack",
   "metadata": {},
   "outputs": [],
   "source": [
    "#print(amzn_ma_mse_loss)"
   ]
  },
  {
   "cell_type": "markdown",
   "id": "young-legend",
   "metadata": {},
   "source": [
    "#### Alphabet Inc. stock"
   ]
  },
  {
   "cell_type": "code",
   "execution_count": 206,
   "id": "novel-census",
   "metadata": {},
   "outputs": [],
   "source": [
    "#n = 10\n",
    "#ma_str = str(n)+'_ac_ma'"
   ]
  },
  {
   "cell_type": "code",
   "execution_count": 207,
   "id": "minute-kingston",
   "metadata": {},
   "outputs": [],
   "source": [
    "#googl_ma_mse_loss = mean_squared_error(df_googl_valid.iloc[n-1:]['Adj Close'], df_googl_valid.iloc[n-1:][ma_str])"
   ]
  },
  {
   "cell_type": "code",
   "execution_count": 208,
   "id": "addressed-swaziland",
   "metadata": {},
   "outputs": [],
   "source": [
    "#print(googl_ma_mse_loss)"
   ]
  },
  {
   "cell_type": "code",
   "execution_count": 209,
   "id": "indirect-costa",
   "metadata": {},
   "outputs": [],
   "source": [
    "n = 20\n",
    "ma_str = str(n)+'_ac_ma'"
   ]
  },
  {
   "cell_type": "markdown",
   "id": "applied-memorial",
   "metadata": {},
   "source": [
    "Mean Absolute Error"
   ]
  },
  {
   "cell_type": "code",
   "execution_count": 210,
   "id": "olive-vulnerability",
   "metadata": {},
   "outputs": [],
   "source": [
    "googl_ma_mae_loss = mean_absolute_error(df_googl_valid.iloc[:]['Adj Close'], df_googl_valid[:][ma_str])"
   ]
  },
  {
   "cell_type": "code",
   "execution_count": 211,
   "id": "answering-script",
   "metadata": {},
   "outputs": [
    {
     "name": "stdout",
     "output_type": "stream",
     "text": [
      "47.56863250732422\n"
     ]
    }
   ],
   "source": [
    "print(googl_ma_mae_loss)"
   ]
  },
  {
   "cell_type": "markdown",
   "id": "satisfied-tanzania",
   "metadata": {},
   "source": [
    "Root Mean Squared Error"
   ]
  },
  {
   "cell_type": "code",
   "execution_count": 212,
   "id": "detailed-working",
   "metadata": {},
   "outputs": [],
   "source": [
    "googl_ma_rmse_loss = mean_squared_error(df_googl_valid.iloc[:]['Adj Close'], df_googl_valid[:][ma_str], squared=False)"
   ]
  },
  {
   "cell_type": "code",
   "execution_count": 213,
   "id": "based-minority",
   "metadata": {},
   "outputs": [
    {
     "name": "stdout",
     "output_type": "stream",
     "text": [
      "73.62119287083105\n"
     ]
    }
   ],
   "source": [
    "print(googl_ma_rmse_loss)"
   ]
  },
  {
   "cell_type": "markdown",
   "id": "about-subsection",
   "metadata": {},
   "source": [
    "##### Mean Absolute Percentage Error"
   ]
  },
  {
   "cell_type": "code",
   "execution_count": 214,
   "id": "synthetic-madrid",
   "metadata": {},
   "outputs": [],
   "source": [
    "googl_ma_map_loss = mean_absolute_percentage_error(df_googl_valid.iloc[:]['Adj Close'], df_googl_valid[:][ma_str])"
   ]
  },
  {
   "cell_type": "code",
   "execution_count": 215,
   "id": "opening-satisfaction",
   "metadata": {},
   "outputs": [
    {
     "name": "stdout",
     "output_type": "stream",
     "text": [
      "0.021909751965629425\n"
     ]
    }
   ],
   "source": [
    "print(googl_ma_map_loss)"
   ]
  },
  {
   "cell_type": "markdown",
   "id": "working-budget",
   "metadata": {},
   "source": [
    "R<sup>2</sup> score"
   ]
  },
  {
   "cell_type": "code",
   "execution_count": 216,
   "id": "opposed-botswana",
   "metadata": {},
   "outputs": [],
   "source": [
    "googl_ma_r2_score = r2_score(df_googl_valid.iloc[:]['Adj Close'], df_googl_valid[:][ma_str])"
   ]
  },
  {
   "cell_type": "code",
   "execution_count": 217,
   "id": "southwest-hormone",
   "metadata": {},
   "outputs": [
    {
     "name": "stdout",
     "output_type": "stream",
     "text": [
      "0.03824285908737435\n"
     ]
    }
   ],
   "source": [
    "print(googl_ma_r2_score)"
   ]
  },
  {
   "cell_type": "code",
   "execution_count": 218,
   "id": "documentary-composite",
   "metadata": {},
   "outputs": [],
   "source": [
    "#n = 50\n",
    "#ma_str = str(n)+'_ac_ma'"
   ]
  },
  {
   "cell_type": "code",
   "execution_count": 219,
   "id": "spectacular-metabolism",
   "metadata": {},
   "outputs": [],
   "source": [
    "#googl_ma_mse_loss = mean_squared_error(df_googl_valid.iloc[n-1:]['Adj Close'], df_googl_valid[n-1:][ma_str])"
   ]
  },
  {
   "cell_type": "code",
   "execution_count": 220,
   "id": "sound-hamilton",
   "metadata": {},
   "outputs": [],
   "source": [
    "#print(googl_ma_mse_loss)"
   ]
  },
  {
   "cell_type": "markdown",
   "id": "paperback-trade",
   "metadata": {},
   "source": [
    "Volatility"
   ]
  },
  {
   "cell_type": "code",
   "execution_count": 221,
   "id": "described-print",
   "metadata": {},
   "outputs": [
    {
     "name": "stdout",
     "output_type": "stream",
     "text": [
      "0.47449886713725287\n"
     ]
    }
   ],
   "source": [
    "print(volatility(df_ibm_valid['Adj Close'], n))"
   ]
  },
  {
   "cell_type": "code",
   "execution_count": 222,
   "id": "moving-flashing",
   "metadata": {},
   "outputs": [
    {
     "name": "stdout",
     "output_type": "stream",
     "text": [
      "0.40907922979750494\n"
     ]
    }
   ],
   "source": [
    "print(volatility(df_aapl_valid['Adj Close'], n))"
   ]
  },
  {
   "cell_type": "code",
   "execution_count": 223,
   "id": "passing-oxygen",
   "metadata": {},
   "outputs": [
    {
     "name": "stdout",
     "output_type": "stream",
     "text": [
      "294.5952685896044\n"
     ]
    }
   ],
   "source": [
    "print(volatility(df_amzn_valid['Adj Close'], n))"
   ]
  },
  {
   "cell_type": "code",
   "execution_count": 224,
   "id": "prospective-amazon",
   "metadata": {},
   "outputs": [
    {
     "name": "stdout",
     "output_type": "stream",
     "text": [
      "296.6106082052079\n"
     ]
    }
   ],
   "source": [
    "print(volatility(df_googl_valid['Adj Close'], n))"
   ]
  },
  {
   "cell_type": "markdown",
   "id": "affecting-jerusalem",
   "metadata": {},
   "source": [
    "As expected, loss augments as we observe moving average on larger windows.\n",
    "Also, we can observe that Amazon.com and Alphabet Inc. have greater losses, that also corresponds to higher volatility."
   ]
  },
  {
   "cell_type": "markdown",
   "id": "enormous-worse",
   "metadata": {},
   "source": [
    "Now I'll initialize an array of moving average values on validation data, to be used in future model comparison:"
   ]
  },
  {
   "cell_type": "code",
   "execution_count": 225,
   "id": "departmental-jersey",
   "metadata": {},
   "outputs": [],
   "source": [
    "df_valid_ma = [df_ibm_valid[:][ma_str], df_aapl_valid[:][ma_str], df_amzn_valid[:][ma_str], df_googl_valid[:][ma_str]]"
   ]
  }
 ],
 "metadata": {
  "kernelspec": {
   "display_name": "conda_pytorch_p36",
   "language": "python",
   "name": "conda_pytorch_p36"
  },
  "language_info": {
   "codemirror_mode": {
    "name": "ipython",
    "version": 3
   },
   "file_extension": ".py",
   "mimetype": "text/x-python",
   "name": "python",
   "nbconvert_exporter": "python",
   "pygments_lexer": "ipython3",
   "version": "3.6.13"
  }
 },
 "nbformat": 4,
 "nbformat_minor": 5
}
