{
 "cells": [
  {
   "cell_type": "markdown",
   "id": "differential-pitch",
   "metadata": {},
   "source": [
    "## Benchmark model"
   ]
  },
  {
   "cell_type": "markdown",
   "id": "identified-prospect",
   "metadata": {},
   "source": [
    "In this notebook a Simple Moving Average model will be created in order to have a benchmark for my DeepAR based model (to be tuned in the next notebook)."
   ]
  },
  {
   "cell_type": "markdown",
   "id": "outside-iraqi",
   "metadata": {},
   "source": [
    "### Hyperparameters"
   ]
  },
  {
   "cell_type": "markdown",
   "id": "excessive-arctic",
   "metadata": {},
   "source": [
    "DeepAR is the model of choice for this project.\n",
    "This model expects input data to be already test-train split.\n",
    "A big part of the model design has to be done looking close at data.\n",
    "More specifically, defining these two hyperparameters about the data:\n",
    "* Context length\n",
    "* Prediction length"
   ]
  },
  {
   "cell_type": "markdown",
   "id": "tender-jesus",
   "metadata": {},
   "source": [
    "### Prediction length"
   ]
  },
  {
   "cell_type": "markdown",
   "id": "incredible-control",
   "metadata": {},
   "source": [
    "This is the length of the time series future predictions in days. It will be conveniently set to 20 days (exactly 4 weeks of trading hours). Smaller intervals could also be analyzed.\n",
    "Anyway, any interval shorter than 5 days (one week of trading hours) would be of little significance.\n",
    "A longer interval could be interesting from an application point of view, but it can be challenging in terms of model performances."
   ]
  },
  {
   "cell_type": "markdown",
   "id": "undefined-curtis",
   "metadata": {},
   "source": [
    "### Context length"
   ]
  },
  {
   "cell_type": "markdown",
   "id": "first-dancing",
   "metadata": {},
   "source": [
    "Context length can be either:\n",
    "* designed on patterns or seasonality observed in the data, if any is present;\n",
    "* chosen as a fixed value. This will be my choice, and it will be the same as the moving average window, in order to have a good reference metrics, applicable to both this model and the benchmark model."
   ]
  },
  {
   "cell_type": "markdown",
   "id": "modern-lancaster",
   "metadata": {},
   "source": [
    "To explore this second option, we will refer to what we've found during the EDA stage."
   ]
  },
  {
   "cell_type": "code",
   "execution_count": 139,
   "id": "photographic-probability",
   "metadata": {},
   "outputs": [],
   "source": [
    "# declaring prediction legnth and context length\n",
    "prediction_length = [10, 20, 50]\n",
    "context_length = [10, 20, 50]"
   ]
  },
  {
   "cell_type": "markdown",
   "id": "fitted-institute",
   "metadata": {},
   "source": [
    "### Train, test and validation split"
   ]
  },
  {
   "cell_type": "markdown",
   "id": "searching-inside",
   "metadata": {},
   "source": [
    "Time series will be all trimmed from `data_start` in `1.ExploratoryDataAnalysis.ipy`, according to DeepAR documentation, train time series should be set as the size of the entire time series less the prediction length.\n",
    "Validation length will exactly equal to prediction length."
   ]
  },
  {
   "cell_type": "code",
   "execution_count": 140,
   "id": "failing-lightweight",
   "metadata": {},
   "outputs": [],
   "source": [
    "from utils.data_prepare import train_test_valid_split"
   ]
  },
  {
   "cell_type": "markdown",
   "id": "overall-sheffield",
   "metadata": {},
   "source": [
    "#### IBM Stock train, test and validation split"
   ]
  },
  {
   "cell_type": "code",
   "execution_count": 141,
   "id": "different-mentor",
   "metadata": {},
   "outputs": [],
   "source": [
    "#df_ibm = df_ibm.loc[data_start:].copy()"
   ]
  },
  {
   "cell_type": "code",
   "execution_count": 142,
   "id": "processed-consciousness",
   "metadata": {},
   "outputs": [
    {
     "name": "stdout",
     "output_type": "stream",
     "text": [
      "14931 14891 14911 20\n"
     ]
    }
   ],
   "source": [
    "df_ibm_train, df_ibm_test, df_ibm_valid = train_test_valid_split(df_ibm, prediction_length=prediction_length[1])\n",
    "print(len(df_ibm), len(df_ibm_train), len(df_ibm_test), len(df_ibm_valid))"
   ]
  },
  {
   "cell_type": "code",
   "execution_count": 143,
   "id": "concrete-tamil",
   "metadata": {},
   "outputs": [
    {
     "data": {
      "text/html": [
       "<div>\n",
       "<style scoped>\n",
       "    .dataframe tbody tr th:only-of-type {\n",
       "        vertical-align: middle;\n",
       "    }\n",
       "\n",
       "    .dataframe tbody tr th {\n",
       "        vertical-align: top;\n",
       "    }\n",
       "\n",
       "    .dataframe thead th {\n",
       "        text-align: right;\n",
       "    }\n",
       "</style>\n",
       "<table border=\"1\" class=\"dataframe\">\n",
       "  <thead>\n",
       "    <tr style=\"text-align: right;\">\n",
       "      <th></th>\n",
       "      <th>Adj Close</th>\n",
       "      <th>Close</th>\n",
       "      <th>High</th>\n",
       "      <th>Low</th>\n",
       "      <th>Open</th>\n",
       "      <th>Volume</th>\n",
       "      <th>Dividends</th>\n",
       "      <th>Stock Splits</th>\n",
       "      <th>10_ac_ma</th>\n",
       "      <th>20_ac_ma</th>\n",
       "      <th>50_ac_ma</th>\n",
       "      <th>10_ac_bb_u</th>\n",
       "      <th>10_ac_bb_l</th>\n",
       "      <th>20_ac_bb_u</th>\n",
       "      <th>20_ac_bb_l</th>\n",
       "      <th>50_ac_bb_u</th>\n",
       "      <th>50_ac_bb_l</th>\n",
       "    </tr>\n",
       "    <tr>\n",
       "      <th>Date</th>\n",
       "      <th></th>\n",
       "      <th></th>\n",
       "      <th></th>\n",
       "      <th></th>\n",
       "      <th></th>\n",
       "      <th></th>\n",
       "      <th></th>\n",
       "      <th></th>\n",
       "      <th></th>\n",
       "      <th></th>\n",
       "      <th></th>\n",
       "      <th></th>\n",
       "      <th></th>\n",
       "      <th></th>\n",
       "      <th></th>\n",
       "      <th></th>\n",
       "      <th></th>\n",
       "    </tr>\n",
       "  </thead>\n",
       "  <tbody>\n",
       "    <tr>\n",
       "      <th>1962-01-02</th>\n",
       "      <td>1.858243</td>\n",
       "      <td>7.626667</td>\n",
       "      <td>7.713333</td>\n",
       "      <td>7.626667</td>\n",
       "      <td>7.713333</td>\n",
       "      <td>390000</td>\n",
       "      <td>0.001</td>\n",
       "      <td>0.0</td>\n",
       "      <td>1.831034</td>\n",
       "      <td>1.806507</td>\n",
       "      <td>1.787152</td>\n",
       "      <td>1.885422</td>\n",
       "      <td>1.776646</td>\n",
       "      <td>1.878527</td>\n",
       "      <td>1.734487</td>\n",
       "      <td>1.854736</td>\n",
       "      <td>1.719568</td>\n",
       "    </tr>\n",
       "    <tr>\n",
       "      <th>1962-01-03</th>\n",
       "      <td>1.874485</td>\n",
       "      <td>7.693333</td>\n",
       "      <td>7.693333</td>\n",
       "      <td>7.626667</td>\n",
       "      <td>7.626667</td>\n",
       "      <td>292500</td>\n",
       "      <td>0.001</td>\n",
       "      <td>0.0</td>\n",
       "      <td>1.831034</td>\n",
       "      <td>1.806507</td>\n",
       "      <td>1.787152</td>\n",
       "      <td>1.885422</td>\n",
       "      <td>1.776646</td>\n",
       "      <td>1.878527</td>\n",
       "      <td>1.734487</td>\n",
       "      <td>1.854736</td>\n",
       "      <td>1.719568</td>\n",
       "    </tr>\n",
       "    <tr>\n",
       "      <th>1962-01-04</th>\n",
       "      <td>1.855805</td>\n",
       "      <td>7.616667</td>\n",
       "      <td>7.693333</td>\n",
       "      <td>7.613333</td>\n",
       "      <td>7.693333</td>\n",
       "      <td>262500</td>\n",
       "      <td>0.001</td>\n",
       "      <td>0.0</td>\n",
       "      <td>1.831034</td>\n",
       "      <td>1.806507</td>\n",
       "      <td>1.787152</td>\n",
       "      <td>1.885422</td>\n",
       "      <td>1.776646</td>\n",
       "      <td>1.878527</td>\n",
       "      <td>1.734487</td>\n",
       "      <td>1.854736</td>\n",
       "      <td>1.719568</td>\n",
       "    </tr>\n",
       "    <tr>\n",
       "      <th>1962-01-05</th>\n",
       "      <td>1.819257</td>\n",
       "      <td>7.466667</td>\n",
       "      <td>7.606667</td>\n",
       "      <td>7.453333</td>\n",
       "      <td>7.606667</td>\n",
       "      <td>367500</td>\n",
       "      <td>0.001</td>\n",
       "      <td>0.0</td>\n",
       "      <td>1.831034</td>\n",
       "      <td>1.806507</td>\n",
       "      <td>1.787152</td>\n",
       "      <td>1.885422</td>\n",
       "      <td>1.776646</td>\n",
       "      <td>1.878527</td>\n",
       "      <td>1.734487</td>\n",
       "      <td>1.854736</td>\n",
       "      <td>1.719568</td>\n",
       "    </tr>\n",
       "    <tr>\n",
       "      <th>1962-01-08</th>\n",
       "      <td>1.785148</td>\n",
       "      <td>7.326667</td>\n",
       "      <td>7.460000</td>\n",
       "      <td>7.266667</td>\n",
       "      <td>7.460000</td>\n",
       "      <td>547500</td>\n",
       "      <td>0.001</td>\n",
       "      <td>0.0</td>\n",
       "      <td>1.831034</td>\n",
       "      <td>1.806507</td>\n",
       "      <td>1.787152</td>\n",
       "      <td>1.885422</td>\n",
       "      <td>1.776646</td>\n",
       "      <td>1.878527</td>\n",
       "      <td>1.734487</td>\n",
       "      <td>1.854736</td>\n",
       "      <td>1.719568</td>\n",
       "    </tr>\n",
       "  </tbody>\n",
       "</table>\n",
       "</div>"
      ],
      "text/plain": [
       "            Adj Close     Close      High       Low      Open  Volume  \\\n",
       "Date                                                                    \n",
       "1962-01-02   1.858243  7.626667  7.713333  7.626667  7.713333  390000   \n",
       "1962-01-03   1.874485  7.693333  7.693333  7.626667  7.626667  292500   \n",
       "1962-01-04   1.855805  7.616667  7.693333  7.613333  7.693333  262500   \n",
       "1962-01-05   1.819257  7.466667  7.606667  7.453333  7.606667  367500   \n",
       "1962-01-08   1.785148  7.326667  7.460000  7.266667  7.460000  547500   \n",
       "\n",
       "            Dividends  Stock Splits  10_ac_ma  20_ac_ma  50_ac_ma  10_ac_bb_u  \\\n",
       "Date                                                                            \n",
       "1962-01-02      0.001           0.0  1.831034  1.806507  1.787152    1.885422   \n",
       "1962-01-03      0.001           0.0  1.831034  1.806507  1.787152    1.885422   \n",
       "1962-01-04      0.001           0.0  1.831034  1.806507  1.787152    1.885422   \n",
       "1962-01-05      0.001           0.0  1.831034  1.806507  1.787152    1.885422   \n",
       "1962-01-08      0.001           0.0  1.831034  1.806507  1.787152    1.885422   \n",
       "\n",
       "            10_ac_bb_l  20_ac_bb_u  20_ac_bb_l  50_ac_bb_u  50_ac_bb_l  \n",
       "Date                                                                    \n",
       "1962-01-02    1.776646    1.878527    1.734487    1.854736    1.719568  \n",
       "1962-01-03    1.776646    1.878527    1.734487    1.854736    1.719568  \n",
       "1962-01-04    1.776646    1.878527    1.734487    1.854736    1.719568  \n",
       "1962-01-05    1.776646    1.878527    1.734487    1.854736    1.719568  \n",
       "1962-01-08    1.776646    1.878527    1.734487    1.854736    1.719568  "
      ]
     },
     "execution_count": 143,
     "metadata": {},
     "output_type": "execute_result"
    }
   ],
   "source": [
    "df_ibm_train.head()"
   ]
  },
  {
   "cell_type": "code",
   "execution_count": 144,
   "id": "enormous-organic",
   "metadata": {},
   "outputs": [
    {
     "data": {
      "text/html": [
       "<div>\n",
       "<style scoped>\n",
       "    .dataframe tbody tr th:only-of-type {\n",
       "        vertical-align: middle;\n",
       "    }\n",
       "\n",
       "    .dataframe tbody tr th {\n",
       "        vertical-align: top;\n",
       "    }\n",
       "\n",
       "    .dataframe thead th {\n",
       "        text-align: right;\n",
       "    }\n",
       "</style>\n",
       "<table border=\"1\" class=\"dataframe\">\n",
       "  <thead>\n",
       "    <tr style=\"text-align: right;\">\n",
       "      <th></th>\n",
       "      <th>Adj Close</th>\n",
       "      <th>Close</th>\n",
       "      <th>High</th>\n",
       "      <th>Low</th>\n",
       "      <th>Open</th>\n",
       "      <th>Volume</th>\n",
       "      <th>Dividends</th>\n",
       "      <th>Stock Splits</th>\n",
       "      <th>10_ac_ma</th>\n",
       "      <th>20_ac_ma</th>\n",
       "      <th>50_ac_ma</th>\n",
       "      <th>10_ac_bb_u</th>\n",
       "      <th>10_ac_bb_l</th>\n",
       "      <th>20_ac_bb_u</th>\n",
       "      <th>20_ac_bb_l</th>\n",
       "      <th>50_ac_bb_u</th>\n",
       "      <th>50_ac_bb_l</th>\n",
       "    </tr>\n",
       "    <tr>\n",
       "      <th>Date</th>\n",
       "      <th></th>\n",
       "      <th></th>\n",
       "      <th></th>\n",
       "      <th></th>\n",
       "      <th></th>\n",
       "      <th></th>\n",
       "      <th></th>\n",
       "      <th></th>\n",
       "      <th></th>\n",
       "      <th></th>\n",
       "      <th></th>\n",
       "      <th></th>\n",
       "      <th></th>\n",
       "      <th></th>\n",
       "      <th></th>\n",
       "      <th></th>\n",
       "      <th></th>\n",
       "    </tr>\n",
       "  </thead>\n",
       "  <tbody>\n",
       "    <tr>\n",
       "      <th>1962-01-02</th>\n",
       "      <td>1.858243</td>\n",
       "      <td>7.626667</td>\n",
       "      <td>7.713333</td>\n",
       "      <td>7.626667</td>\n",
       "      <td>7.713333</td>\n",
       "      <td>390000</td>\n",
       "      <td>0.001</td>\n",
       "      <td>0.0</td>\n",
       "      <td>1.831034</td>\n",
       "      <td>1.806507</td>\n",
       "      <td>1.787152</td>\n",
       "      <td>1.885422</td>\n",
       "      <td>1.776646</td>\n",
       "      <td>1.878527</td>\n",
       "      <td>1.734487</td>\n",
       "      <td>1.854736</td>\n",
       "      <td>1.719568</td>\n",
       "    </tr>\n",
       "    <tr>\n",
       "      <th>1962-01-03</th>\n",
       "      <td>1.874485</td>\n",
       "      <td>7.693333</td>\n",
       "      <td>7.693333</td>\n",
       "      <td>7.626667</td>\n",
       "      <td>7.626667</td>\n",
       "      <td>292500</td>\n",
       "      <td>0.001</td>\n",
       "      <td>0.0</td>\n",
       "      <td>1.831034</td>\n",
       "      <td>1.806507</td>\n",
       "      <td>1.787152</td>\n",
       "      <td>1.885422</td>\n",
       "      <td>1.776646</td>\n",
       "      <td>1.878527</td>\n",
       "      <td>1.734487</td>\n",
       "      <td>1.854736</td>\n",
       "      <td>1.719568</td>\n",
       "    </tr>\n",
       "    <tr>\n",
       "      <th>1962-01-04</th>\n",
       "      <td>1.855805</td>\n",
       "      <td>7.616667</td>\n",
       "      <td>7.693333</td>\n",
       "      <td>7.613333</td>\n",
       "      <td>7.693333</td>\n",
       "      <td>262500</td>\n",
       "      <td>0.001</td>\n",
       "      <td>0.0</td>\n",
       "      <td>1.831034</td>\n",
       "      <td>1.806507</td>\n",
       "      <td>1.787152</td>\n",
       "      <td>1.885422</td>\n",
       "      <td>1.776646</td>\n",
       "      <td>1.878527</td>\n",
       "      <td>1.734487</td>\n",
       "      <td>1.854736</td>\n",
       "      <td>1.719568</td>\n",
       "    </tr>\n",
       "    <tr>\n",
       "      <th>1962-01-05</th>\n",
       "      <td>1.819257</td>\n",
       "      <td>7.466667</td>\n",
       "      <td>7.606667</td>\n",
       "      <td>7.453333</td>\n",
       "      <td>7.606667</td>\n",
       "      <td>367500</td>\n",
       "      <td>0.001</td>\n",
       "      <td>0.0</td>\n",
       "      <td>1.831034</td>\n",
       "      <td>1.806507</td>\n",
       "      <td>1.787152</td>\n",
       "      <td>1.885422</td>\n",
       "      <td>1.776646</td>\n",
       "      <td>1.878527</td>\n",
       "      <td>1.734487</td>\n",
       "      <td>1.854736</td>\n",
       "      <td>1.719568</td>\n",
       "    </tr>\n",
       "    <tr>\n",
       "      <th>1962-01-08</th>\n",
       "      <td>1.785148</td>\n",
       "      <td>7.326667</td>\n",
       "      <td>7.460000</td>\n",
       "      <td>7.266667</td>\n",
       "      <td>7.460000</td>\n",
       "      <td>547500</td>\n",
       "      <td>0.001</td>\n",
       "      <td>0.0</td>\n",
       "      <td>1.831034</td>\n",
       "      <td>1.806507</td>\n",
       "      <td>1.787152</td>\n",
       "      <td>1.885422</td>\n",
       "      <td>1.776646</td>\n",
       "      <td>1.878527</td>\n",
       "      <td>1.734487</td>\n",
       "      <td>1.854736</td>\n",
       "      <td>1.719568</td>\n",
       "    </tr>\n",
       "  </tbody>\n",
       "</table>\n",
       "</div>"
      ],
      "text/plain": [
       "            Adj Close     Close      High       Low      Open  Volume  \\\n",
       "Date                                                                    \n",
       "1962-01-02   1.858243  7.626667  7.713333  7.626667  7.713333  390000   \n",
       "1962-01-03   1.874485  7.693333  7.693333  7.626667  7.626667  292500   \n",
       "1962-01-04   1.855805  7.616667  7.693333  7.613333  7.693333  262500   \n",
       "1962-01-05   1.819257  7.466667  7.606667  7.453333  7.606667  367500   \n",
       "1962-01-08   1.785148  7.326667  7.460000  7.266667  7.460000  547500   \n",
       "\n",
       "            Dividends  Stock Splits  10_ac_ma  20_ac_ma  50_ac_ma  10_ac_bb_u  \\\n",
       "Date                                                                            \n",
       "1962-01-02      0.001           0.0  1.831034  1.806507  1.787152    1.885422   \n",
       "1962-01-03      0.001           0.0  1.831034  1.806507  1.787152    1.885422   \n",
       "1962-01-04      0.001           0.0  1.831034  1.806507  1.787152    1.885422   \n",
       "1962-01-05      0.001           0.0  1.831034  1.806507  1.787152    1.885422   \n",
       "1962-01-08      0.001           0.0  1.831034  1.806507  1.787152    1.885422   \n",
       "\n",
       "            10_ac_bb_l  20_ac_bb_u  20_ac_bb_l  50_ac_bb_u  50_ac_bb_l  \n",
       "Date                                                                    \n",
       "1962-01-02    1.776646    1.878527    1.734487    1.854736    1.719568  \n",
       "1962-01-03    1.776646    1.878527    1.734487    1.854736    1.719568  \n",
       "1962-01-04    1.776646    1.878527    1.734487    1.854736    1.719568  \n",
       "1962-01-05    1.776646    1.878527    1.734487    1.854736    1.719568  \n",
       "1962-01-08    1.776646    1.878527    1.734487    1.854736    1.719568  "
      ]
     },
     "execution_count": 144,
     "metadata": {},
     "output_type": "execute_result"
    }
   ],
   "source": [
    "df_ibm_test.head()"
   ]
  },
  {
   "cell_type": "code",
   "execution_count": 145,
   "id": "polar-prophet",
   "metadata": {},
   "outputs": [
    {
     "data": {
      "text/html": [
       "<div>\n",
       "<style scoped>\n",
       "    .dataframe tbody tr th:only-of-type {\n",
       "        vertical-align: middle;\n",
       "    }\n",
       "\n",
       "    .dataframe tbody tr th {\n",
       "        vertical-align: top;\n",
       "    }\n",
       "\n",
       "    .dataframe thead th {\n",
       "        text-align: right;\n",
       "    }\n",
       "</style>\n",
       "<table border=\"1\" class=\"dataframe\">\n",
       "  <thead>\n",
       "    <tr style=\"text-align: right;\">\n",
       "      <th></th>\n",
       "      <th>Adj Close</th>\n",
       "      <th>Close</th>\n",
       "      <th>High</th>\n",
       "      <th>Low</th>\n",
       "      <th>Open</th>\n",
       "      <th>Volume</th>\n",
       "      <th>Dividends</th>\n",
       "      <th>Stock Splits</th>\n",
       "      <th>10_ac_ma</th>\n",
       "      <th>20_ac_ma</th>\n",
       "      <th>50_ac_ma</th>\n",
       "      <th>10_ac_bb_u</th>\n",
       "      <th>10_ac_bb_l</th>\n",
       "      <th>20_ac_bb_u</th>\n",
       "      <th>20_ac_bb_l</th>\n",
       "      <th>50_ac_bb_u</th>\n",
       "      <th>50_ac_bb_l</th>\n",
       "    </tr>\n",
       "    <tr>\n",
       "      <th>Date</th>\n",
       "      <th></th>\n",
       "      <th></th>\n",
       "      <th></th>\n",
       "      <th></th>\n",
       "      <th></th>\n",
       "      <th></th>\n",
       "      <th></th>\n",
       "      <th></th>\n",
       "      <th></th>\n",
       "      <th></th>\n",
       "      <th></th>\n",
       "      <th></th>\n",
       "      <th></th>\n",
       "      <th></th>\n",
       "      <th></th>\n",
       "      <th></th>\n",
       "      <th></th>\n",
       "    </tr>\n",
       "  </thead>\n",
       "  <tbody>\n",
       "    <tr>\n",
       "      <th>2021-03-29</th>\n",
       "      <td>135.860001</td>\n",
       "      <td>135.860001</td>\n",
       "      <td>137.070007</td>\n",
       "      <td>135.509995</td>\n",
       "      <td>135.979996</td>\n",
       "      <td>4622700</td>\n",
       "      <td>NaN</td>\n",
       "      <td>NaN</td>\n",
       "      <td>131.317001</td>\n",
       "      <td>127.949501</td>\n",
       "      <td>123.835902</td>\n",
       "      <td>137.023710</td>\n",
       "      <td>125.610292</td>\n",
       "      <td>136.997695</td>\n",
       "      <td>118.901307</td>\n",
       "      <td>133.973408</td>\n",
       "      <td>113.698396</td>\n",
       "    </tr>\n",
       "    <tr>\n",
       "      <th>2021-03-30</th>\n",
       "      <td>134.720001</td>\n",
       "      <td>134.720001</td>\n",
       "      <td>136.270004</td>\n",
       "      <td>134.020004</td>\n",
       "      <td>135.860001</td>\n",
       "      <td>4790400</td>\n",
       "      <td>NaN</td>\n",
       "      <td>NaN</td>\n",
       "      <td>131.965001</td>\n",
       "      <td>128.669001</td>\n",
       "      <td>123.996363</td>\n",
       "      <td>137.589873</td>\n",
       "      <td>126.340129</td>\n",
       "      <td>137.450691</td>\n",
       "      <td>119.887311</td>\n",
       "      <td>134.563587</td>\n",
       "      <td>113.429139</td>\n",
       "    </tr>\n",
       "    <tr>\n",
       "      <th>2021-03-31</th>\n",
       "      <td>133.259995</td>\n",
       "      <td>133.259995</td>\n",
       "      <td>134.710007</td>\n",
       "      <td>132.710007</td>\n",
       "      <td>134.539993</td>\n",
       "      <td>4945100</td>\n",
       "      <td>NaN</td>\n",
       "      <td>NaN</td>\n",
       "      <td>132.388000</td>\n",
       "      <td>129.214001</td>\n",
       "      <td>124.115189</td>\n",
       "      <td>137.656846</td>\n",
       "      <td>127.119155</td>\n",
       "      <td>137.694867</td>\n",
       "      <td>120.733135</td>\n",
       "      <td>134.964745</td>\n",
       "      <td>113.265634</td>\n",
       "    </tr>\n",
       "    <tr>\n",
       "      <th>2021-04-01</th>\n",
       "      <td>133.229996</td>\n",
       "      <td>133.229996</td>\n",
       "      <td>133.929993</td>\n",
       "      <td>132.270004</td>\n",
       "      <td>133.759995</td>\n",
       "      <td>4074000</td>\n",
       "      <td>NaN</td>\n",
       "      <td>NaN</td>\n",
       "      <td>132.705000</td>\n",
       "      <td>129.870000</td>\n",
       "      <td>124.212496</td>\n",
       "      <td>137.727001</td>\n",
       "      <td>127.682999</td>\n",
       "      <td>137.357293</td>\n",
       "      <td>122.382708</td>\n",
       "      <td>135.302224</td>\n",
       "      <td>113.122767</td>\n",
       "    </tr>\n",
       "    <tr>\n",
       "      <th>2021-04-05</th>\n",
       "      <td>135.929993</td>\n",
       "      <td>135.929993</td>\n",
       "      <td>136.690002</td>\n",
       "      <td>133.399994</td>\n",
       "      <td>133.639999</td>\n",
       "      <td>5471300</td>\n",
       "      <td>NaN</td>\n",
       "      <td>NaN</td>\n",
       "      <td>133.408000</td>\n",
       "      <td>130.525000</td>\n",
       "      <td>124.332816</td>\n",
       "      <td>138.013626</td>\n",
       "      <td>128.802374</td>\n",
       "      <td>137.704859</td>\n",
       "      <td>123.345141</td>\n",
       "      <td>135.799180</td>\n",
       "      <td>112.866452</td>\n",
       "    </tr>\n",
       "  </tbody>\n",
       "</table>\n",
       "</div>"
      ],
      "text/plain": [
       "             Adj Close       Close        High         Low        Open  \\\n",
       "Date                                                                     \n",
       "2021-03-29  135.860001  135.860001  137.070007  135.509995  135.979996   \n",
       "2021-03-30  134.720001  134.720001  136.270004  134.020004  135.860001   \n",
       "2021-03-31  133.259995  133.259995  134.710007  132.710007  134.539993   \n",
       "2021-04-01  133.229996  133.229996  133.929993  132.270004  133.759995   \n",
       "2021-04-05  135.929993  135.929993  136.690002  133.399994  133.639999   \n",
       "\n",
       "             Volume  Dividends  Stock Splits    10_ac_ma    20_ac_ma  \\\n",
       "Date                                                                   \n",
       "2021-03-29  4622700        NaN           NaN  131.317001  127.949501   \n",
       "2021-03-30  4790400        NaN           NaN  131.965001  128.669001   \n",
       "2021-03-31  4945100        NaN           NaN  132.388000  129.214001   \n",
       "2021-04-01  4074000        NaN           NaN  132.705000  129.870000   \n",
       "2021-04-05  5471300        NaN           NaN  133.408000  130.525000   \n",
       "\n",
       "              50_ac_ma  10_ac_bb_u  10_ac_bb_l  20_ac_bb_u  20_ac_bb_l  \\\n",
       "Date                                                                     \n",
       "2021-03-29  123.835902  137.023710  125.610292  136.997695  118.901307   \n",
       "2021-03-30  123.996363  137.589873  126.340129  137.450691  119.887311   \n",
       "2021-03-31  124.115189  137.656846  127.119155  137.694867  120.733135   \n",
       "2021-04-01  124.212496  137.727001  127.682999  137.357293  122.382708   \n",
       "2021-04-05  124.332816  138.013626  128.802374  137.704859  123.345141   \n",
       "\n",
       "            50_ac_bb_u  50_ac_bb_l  \n",
       "Date                                \n",
       "2021-03-29  133.973408  113.698396  \n",
       "2021-03-30  134.563587  113.429139  \n",
       "2021-03-31  134.964745  113.265634  \n",
       "2021-04-01  135.302224  113.122767  \n",
       "2021-04-05  135.799180  112.866452  "
      ]
     },
     "execution_count": 145,
     "metadata": {},
     "output_type": "execute_result"
    }
   ],
   "source": [
    "df_ibm_valid.head()"
   ]
  },
  {
   "cell_type": "markdown",
   "id": "genuine-seven",
   "metadata": {},
   "source": [
    "#### Apple Inc. Stock train test split"
   ]
  },
  {
   "cell_type": "code",
   "execution_count": 146,
   "id": "criminal-warrant",
   "metadata": {},
   "outputs": [],
   "source": [
    "#df_aapl = df_aapl.loc[data_start:].copy()"
   ]
  },
  {
   "cell_type": "code",
   "execution_count": 147,
   "id": "distant-fashion",
   "metadata": {},
   "outputs": [
    {
     "name": "stdout",
     "output_type": "stream",
     "text": [
      "10178 10138 10158 20\n"
     ]
    }
   ],
   "source": [
    "df_aapl_train, df_aapl_test, df_aapl_valid = train_test_valid_split(df_aapl, prediction_length=prediction_length[1])\n",
    "print(len(df_aapl), len(df_aapl_train), len(df_aapl_test), len(df_aapl_valid))"
   ]
  },
  {
   "cell_type": "code",
   "execution_count": 148,
   "id": "atlantic-admission",
   "metadata": {},
   "outputs": [
    {
     "data": {
      "text/html": [
       "<div>\n",
       "<style scoped>\n",
       "    .dataframe tbody tr th:only-of-type {\n",
       "        vertical-align: middle;\n",
       "    }\n",
       "\n",
       "    .dataframe tbody tr th {\n",
       "        vertical-align: top;\n",
       "    }\n",
       "\n",
       "    .dataframe thead th {\n",
       "        text-align: right;\n",
       "    }\n",
       "</style>\n",
       "<table border=\"1\" class=\"dataframe\">\n",
       "  <thead>\n",
       "    <tr style=\"text-align: right;\">\n",
       "      <th></th>\n",
       "      <th>Adj Close</th>\n",
       "      <th>Close</th>\n",
       "      <th>High</th>\n",
       "      <th>Low</th>\n",
       "      <th>Open</th>\n",
       "      <th>Volume</th>\n",
       "      <th>Dividends</th>\n",
       "      <th>Stock Splits</th>\n",
       "      <th>10_ac_ma</th>\n",
       "      <th>20_ac_ma</th>\n",
       "      <th>50_ac_ma</th>\n",
       "      <th>10_ac_bb_u</th>\n",
       "      <th>10_ac_bb_l</th>\n",
       "      <th>20_ac_bb_u</th>\n",
       "      <th>20_ac_bb_l</th>\n",
       "      <th>50_ac_bb_u</th>\n",
       "      <th>50_ac_bb_l</th>\n",
       "    </tr>\n",
       "    <tr>\n",
       "      <th>Date</th>\n",
       "      <th></th>\n",
       "      <th></th>\n",
       "      <th></th>\n",
       "      <th></th>\n",
       "      <th></th>\n",
       "      <th></th>\n",
       "      <th></th>\n",
       "      <th></th>\n",
       "      <th></th>\n",
       "      <th></th>\n",
       "      <th></th>\n",
       "      <th></th>\n",
       "      <th></th>\n",
       "      <th></th>\n",
       "      <th></th>\n",
       "      <th></th>\n",
       "      <th></th>\n",
       "    </tr>\n",
       "  </thead>\n",
       "  <tbody>\n",
       "    <tr>\n",
       "      <th>1980-12-12</th>\n",
       "      <td>0.100922</td>\n",
       "      <td>0.128348</td>\n",
       "      <td>0.128906</td>\n",
       "      <td>0.128348</td>\n",
       "      <td>0.128348</td>\n",
       "      <td>469033600.0</td>\n",
       "      <td>0.000536</td>\n",
       "      <td>0.0</td>\n",
       "      <td>0.101975</td>\n",
       "      <td>0.108974</td>\n",
       "      <td>0.104248</td>\n",
       "      <td>0.124365</td>\n",
       "      <td>0.079585</td>\n",
       "      <td>0.132002</td>\n",
       "      <td>0.085946</td>\n",
       "      <td>0.126685</td>\n",
       "      <td>0.081811</td>\n",
       "    </tr>\n",
       "    <tr>\n",
       "      <th>1980-12-15</th>\n",
       "      <td>0.095657</td>\n",
       "      <td>0.121652</td>\n",
       "      <td>0.122210</td>\n",
       "      <td>0.121652</td>\n",
       "      <td>0.122210</td>\n",
       "      <td>175884800.0</td>\n",
       "      <td>0.000536</td>\n",
       "      <td>0.0</td>\n",
       "      <td>0.101975</td>\n",
       "      <td>0.108974</td>\n",
       "      <td>0.104248</td>\n",
       "      <td>0.124365</td>\n",
       "      <td>0.079585</td>\n",
       "      <td>0.132002</td>\n",
       "      <td>0.085946</td>\n",
       "      <td>0.126685</td>\n",
       "      <td>0.081811</td>\n",
       "    </tr>\n",
       "    <tr>\n",
       "      <th>1980-12-16</th>\n",
       "      <td>0.088636</td>\n",
       "      <td>0.112723</td>\n",
       "      <td>0.113281</td>\n",
       "      <td>0.112723</td>\n",
       "      <td>0.113281</td>\n",
       "      <td>105728000.0</td>\n",
       "      <td>0.000536</td>\n",
       "      <td>0.0</td>\n",
       "      <td>0.101975</td>\n",
       "      <td>0.108974</td>\n",
       "      <td>0.104248</td>\n",
       "      <td>0.124365</td>\n",
       "      <td>0.079585</td>\n",
       "      <td>0.132002</td>\n",
       "      <td>0.085946</td>\n",
       "      <td>0.126685</td>\n",
       "      <td>0.081811</td>\n",
       "    </tr>\n",
       "    <tr>\n",
       "      <th>1980-12-17</th>\n",
       "      <td>0.090830</td>\n",
       "      <td>0.115513</td>\n",
       "      <td>0.116071</td>\n",
       "      <td>0.115513</td>\n",
       "      <td>0.115513</td>\n",
       "      <td>86441600.0</td>\n",
       "      <td>0.000536</td>\n",
       "      <td>0.0</td>\n",
       "      <td>0.101975</td>\n",
       "      <td>0.108974</td>\n",
       "      <td>0.104248</td>\n",
       "      <td>0.124365</td>\n",
       "      <td>0.079585</td>\n",
       "      <td>0.132002</td>\n",
       "      <td>0.085946</td>\n",
       "      <td>0.126685</td>\n",
       "      <td>0.081811</td>\n",
       "    </tr>\n",
       "    <tr>\n",
       "      <th>1980-12-18</th>\n",
       "      <td>0.093463</td>\n",
       "      <td>0.118862</td>\n",
       "      <td>0.119420</td>\n",
       "      <td>0.118862</td>\n",
       "      <td>0.118862</td>\n",
       "      <td>73449600.0</td>\n",
       "      <td>0.000536</td>\n",
       "      <td>0.0</td>\n",
       "      <td>0.101975</td>\n",
       "      <td>0.108974</td>\n",
       "      <td>0.104248</td>\n",
       "      <td>0.124365</td>\n",
       "      <td>0.079585</td>\n",
       "      <td>0.132002</td>\n",
       "      <td>0.085946</td>\n",
       "      <td>0.126685</td>\n",
       "      <td>0.081811</td>\n",
       "    </tr>\n",
       "  </tbody>\n",
       "</table>\n",
       "</div>"
      ],
      "text/plain": [
       "            Adj Close     Close      High       Low      Open       Volume  \\\n",
       "Date                                                                         \n",
       "1980-12-12   0.100922  0.128348  0.128906  0.128348  0.128348  469033600.0   \n",
       "1980-12-15   0.095657  0.121652  0.122210  0.121652  0.122210  175884800.0   \n",
       "1980-12-16   0.088636  0.112723  0.113281  0.112723  0.113281  105728000.0   \n",
       "1980-12-17   0.090830  0.115513  0.116071  0.115513  0.115513   86441600.0   \n",
       "1980-12-18   0.093463  0.118862  0.119420  0.118862  0.118862   73449600.0   \n",
       "\n",
       "            Dividends  Stock Splits  10_ac_ma  20_ac_ma  50_ac_ma  10_ac_bb_u  \\\n",
       "Date                                                                            \n",
       "1980-12-12   0.000536           0.0  0.101975  0.108974  0.104248    0.124365   \n",
       "1980-12-15   0.000536           0.0  0.101975  0.108974  0.104248    0.124365   \n",
       "1980-12-16   0.000536           0.0  0.101975  0.108974  0.104248    0.124365   \n",
       "1980-12-17   0.000536           0.0  0.101975  0.108974  0.104248    0.124365   \n",
       "1980-12-18   0.000536           0.0  0.101975  0.108974  0.104248    0.124365   \n",
       "\n",
       "            10_ac_bb_l  20_ac_bb_u  20_ac_bb_l  50_ac_bb_u  50_ac_bb_l  \n",
       "Date                                                                    \n",
       "1980-12-12    0.079585    0.132002    0.085946    0.126685    0.081811  \n",
       "1980-12-15    0.079585    0.132002    0.085946    0.126685    0.081811  \n",
       "1980-12-16    0.079585    0.132002    0.085946    0.126685    0.081811  \n",
       "1980-12-17    0.079585    0.132002    0.085946    0.126685    0.081811  \n",
       "1980-12-18    0.079585    0.132002    0.085946    0.126685    0.081811  "
      ]
     },
     "execution_count": 148,
     "metadata": {},
     "output_type": "execute_result"
    }
   ],
   "source": [
    "df_aapl_train.head()"
   ]
  },
  {
   "cell_type": "code",
   "execution_count": 149,
   "id": "covered-pathology",
   "metadata": {},
   "outputs": [
    {
     "data": {
      "text/html": [
       "<div>\n",
       "<style scoped>\n",
       "    .dataframe tbody tr th:only-of-type {\n",
       "        vertical-align: middle;\n",
       "    }\n",
       "\n",
       "    .dataframe tbody tr th {\n",
       "        vertical-align: top;\n",
       "    }\n",
       "\n",
       "    .dataframe thead th {\n",
       "        text-align: right;\n",
       "    }\n",
       "</style>\n",
       "<table border=\"1\" class=\"dataframe\">\n",
       "  <thead>\n",
       "    <tr style=\"text-align: right;\">\n",
       "      <th></th>\n",
       "      <th>Adj Close</th>\n",
       "      <th>Close</th>\n",
       "      <th>High</th>\n",
       "      <th>Low</th>\n",
       "      <th>Open</th>\n",
       "      <th>Volume</th>\n",
       "      <th>Dividends</th>\n",
       "      <th>Stock Splits</th>\n",
       "      <th>10_ac_ma</th>\n",
       "      <th>20_ac_ma</th>\n",
       "      <th>50_ac_ma</th>\n",
       "      <th>10_ac_bb_u</th>\n",
       "      <th>10_ac_bb_l</th>\n",
       "      <th>20_ac_bb_u</th>\n",
       "      <th>20_ac_bb_l</th>\n",
       "      <th>50_ac_bb_u</th>\n",
       "      <th>50_ac_bb_l</th>\n",
       "    </tr>\n",
       "    <tr>\n",
       "      <th>Date</th>\n",
       "      <th></th>\n",
       "      <th></th>\n",
       "      <th></th>\n",
       "      <th></th>\n",
       "      <th></th>\n",
       "      <th></th>\n",
       "      <th></th>\n",
       "      <th></th>\n",
       "      <th></th>\n",
       "      <th></th>\n",
       "      <th></th>\n",
       "      <th></th>\n",
       "      <th></th>\n",
       "      <th></th>\n",
       "      <th></th>\n",
       "      <th></th>\n",
       "      <th></th>\n",
       "    </tr>\n",
       "  </thead>\n",
       "  <tbody>\n",
       "    <tr>\n",
       "      <th>1980-12-12</th>\n",
       "      <td>0.100922</td>\n",
       "      <td>0.128348</td>\n",
       "      <td>0.128906</td>\n",
       "      <td>0.128348</td>\n",
       "      <td>0.128348</td>\n",
       "      <td>469033600.0</td>\n",
       "      <td>0.000536</td>\n",
       "      <td>0.0</td>\n",
       "      <td>0.101975</td>\n",
       "      <td>0.108974</td>\n",
       "      <td>0.104248</td>\n",
       "      <td>0.124365</td>\n",
       "      <td>0.079585</td>\n",
       "      <td>0.132002</td>\n",
       "      <td>0.085946</td>\n",
       "      <td>0.126685</td>\n",
       "      <td>0.081811</td>\n",
       "    </tr>\n",
       "    <tr>\n",
       "      <th>1980-12-15</th>\n",
       "      <td>0.095657</td>\n",
       "      <td>0.121652</td>\n",
       "      <td>0.122210</td>\n",
       "      <td>0.121652</td>\n",
       "      <td>0.122210</td>\n",
       "      <td>175884800.0</td>\n",
       "      <td>0.000536</td>\n",
       "      <td>0.0</td>\n",
       "      <td>0.101975</td>\n",
       "      <td>0.108974</td>\n",
       "      <td>0.104248</td>\n",
       "      <td>0.124365</td>\n",
       "      <td>0.079585</td>\n",
       "      <td>0.132002</td>\n",
       "      <td>0.085946</td>\n",
       "      <td>0.126685</td>\n",
       "      <td>0.081811</td>\n",
       "    </tr>\n",
       "    <tr>\n",
       "      <th>1980-12-16</th>\n",
       "      <td>0.088636</td>\n",
       "      <td>0.112723</td>\n",
       "      <td>0.113281</td>\n",
       "      <td>0.112723</td>\n",
       "      <td>0.113281</td>\n",
       "      <td>105728000.0</td>\n",
       "      <td>0.000536</td>\n",
       "      <td>0.0</td>\n",
       "      <td>0.101975</td>\n",
       "      <td>0.108974</td>\n",
       "      <td>0.104248</td>\n",
       "      <td>0.124365</td>\n",
       "      <td>0.079585</td>\n",
       "      <td>0.132002</td>\n",
       "      <td>0.085946</td>\n",
       "      <td>0.126685</td>\n",
       "      <td>0.081811</td>\n",
       "    </tr>\n",
       "    <tr>\n",
       "      <th>1980-12-17</th>\n",
       "      <td>0.090830</td>\n",
       "      <td>0.115513</td>\n",
       "      <td>0.116071</td>\n",
       "      <td>0.115513</td>\n",
       "      <td>0.115513</td>\n",
       "      <td>86441600.0</td>\n",
       "      <td>0.000536</td>\n",
       "      <td>0.0</td>\n",
       "      <td>0.101975</td>\n",
       "      <td>0.108974</td>\n",
       "      <td>0.104248</td>\n",
       "      <td>0.124365</td>\n",
       "      <td>0.079585</td>\n",
       "      <td>0.132002</td>\n",
       "      <td>0.085946</td>\n",
       "      <td>0.126685</td>\n",
       "      <td>0.081811</td>\n",
       "    </tr>\n",
       "    <tr>\n",
       "      <th>1980-12-18</th>\n",
       "      <td>0.093463</td>\n",
       "      <td>0.118862</td>\n",
       "      <td>0.119420</td>\n",
       "      <td>0.118862</td>\n",
       "      <td>0.118862</td>\n",
       "      <td>73449600.0</td>\n",
       "      <td>0.000536</td>\n",
       "      <td>0.0</td>\n",
       "      <td>0.101975</td>\n",
       "      <td>0.108974</td>\n",
       "      <td>0.104248</td>\n",
       "      <td>0.124365</td>\n",
       "      <td>0.079585</td>\n",
       "      <td>0.132002</td>\n",
       "      <td>0.085946</td>\n",
       "      <td>0.126685</td>\n",
       "      <td>0.081811</td>\n",
       "    </tr>\n",
       "  </tbody>\n",
       "</table>\n",
       "</div>"
      ],
      "text/plain": [
       "            Adj Close     Close      High       Low      Open       Volume  \\\n",
       "Date                                                                         \n",
       "1980-12-12   0.100922  0.128348  0.128906  0.128348  0.128348  469033600.0   \n",
       "1980-12-15   0.095657  0.121652  0.122210  0.121652  0.122210  175884800.0   \n",
       "1980-12-16   0.088636  0.112723  0.113281  0.112723  0.113281  105728000.0   \n",
       "1980-12-17   0.090830  0.115513  0.116071  0.115513  0.115513   86441600.0   \n",
       "1980-12-18   0.093463  0.118862  0.119420  0.118862  0.118862   73449600.0   \n",
       "\n",
       "            Dividends  Stock Splits  10_ac_ma  20_ac_ma  50_ac_ma  10_ac_bb_u  \\\n",
       "Date                                                                            \n",
       "1980-12-12   0.000536           0.0  0.101975  0.108974  0.104248    0.124365   \n",
       "1980-12-15   0.000536           0.0  0.101975  0.108974  0.104248    0.124365   \n",
       "1980-12-16   0.000536           0.0  0.101975  0.108974  0.104248    0.124365   \n",
       "1980-12-17   0.000536           0.0  0.101975  0.108974  0.104248    0.124365   \n",
       "1980-12-18   0.000536           0.0  0.101975  0.108974  0.104248    0.124365   \n",
       "\n",
       "            10_ac_bb_l  20_ac_bb_u  20_ac_bb_l  50_ac_bb_u  50_ac_bb_l  \n",
       "Date                                                                    \n",
       "1980-12-12    0.079585    0.132002    0.085946    0.126685    0.081811  \n",
       "1980-12-15    0.079585    0.132002    0.085946    0.126685    0.081811  \n",
       "1980-12-16    0.079585    0.132002    0.085946    0.126685    0.081811  \n",
       "1980-12-17    0.079585    0.132002    0.085946    0.126685    0.081811  \n",
       "1980-12-18    0.079585    0.132002    0.085946    0.126685    0.081811  "
      ]
     },
     "execution_count": 149,
     "metadata": {},
     "output_type": "execute_result"
    }
   ],
   "source": [
    "df_aapl_test.head()"
   ]
  },
  {
   "cell_type": "code",
   "execution_count": 150,
   "id": "theoretical-individual",
   "metadata": {},
   "outputs": [
    {
     "data": {
      "text/html": [
       "<div>\n",
       "<style scoped>\n",
       "    .dataframe tbody tr th:only-of-type {\n",
       "        vertical-align: middle;\n",
       "    }\n",
       "\n",
       "    .dataframe tbody tr th {\n",
       "        vertical-align: top;\n",
       "    }\n",
       "\n",
       "    .dataframe thead th {\n",
       "        text-align: right;\n",
       "    }\n",
       "</style>\n",
       "<table border=\"1\" class=\"dataframe\">\n",
       "  <thead>\n",
       "    <tr style=\"text-align: right;\">\n",
       "      <th></th>\n",
       "      <th>Adj Close</th>\n",
       "      <th>Close</th>\n",
       "      <th>High</th>\n",
       "      <th>Low</th>\n",
       "      <th>Open</th>\n",
       "      <th>Volume</th>\n",
       "      <th>Dividends</th>\n",
       "      <th>Stock Splits</th>\n",
       "      <th>10_ac_ma</th>\n",
       "      <th>20_ac_ma</th>\n",
       "      <th>50_ac_ma</th>\n",
       "      <th>10_ac_bb_u</th>\n",
       "      <th>10_ac_bb_l</th>\n",
       "      <th>20_ac_bb_u</th>\n",
       "      <th>20_ac_bb_l</th>\n",
       "      <th>50_ac_bb_u</th>\n",
       "      <th>50_ac_bb_l</th>\n",
       "    </tr>\n",
       "    <tr>\n",
       "      <th>Date</th>\n",
       "      <th></th>\n",
       "      <th></th>\n",
       "      <th></th>\n",
       "      <th></th>\n",
       "      <th></th>\n",
       "      <th></th>\n",
       "      <th></th>\n",
       "      <th></th>\n",
       "      <th></th>\n",
       "      <th></th>\n",
       "      <th></th>\n",
       "      <th></th>\n",
       "      <th></th>\n",
       "      <th></th>\n",
       "      <th></th>\n",
       "      <th></th>\n",
       "      <th></th>\n",
       "    </tr>\n",
       "  </thead>\n",
       "  <tbody>\n",
       "    <tr>\n",
       "      <th>2021-03-29</th>\n",
       "      <td>121.389999</td>\n",
       "      <td>121.389999</td>\n",
       "      <td>122.580002</td>\n",
       "      <td>120.730003</td>\n",
       "      <td>121.650002</td>\n",
       "      <td>80819200.0</td>\n",
       "      <td>NaN</td>\n",
       "      <td>NaN</td>\n",
       "      <td>122.005999</td>\n",
       "      <td>121.659999</td>\n",
       "      <td>128.347683</td>\n",
       "      <td>125.973606</td>\n",
       "      <td>118.038392</td>\n",
       "      <td>125.971542</td>\n",
       "      <td>117.348457</td>\n",
       "      <td>142.775868</td>\n",
       "      <td>113.919498</td>\n",
       "    </tr>\n",
       "    <tr>\n",
       "      <th>2021-03-30</th>\n",
       "      <td>119.900002</td>\n",
       "      <td>119.900002</td>\n",
       "      <td>120.400002</td>\n",
       "      <td>118.860001</td>\n",
       "      <td>120.110001</td>\n",
       "      <td>85671900.0</td>\n",
       "      <td>NaN</td>\n",
       "      <td>NaN</td>\n",
       "      <td>121.438999</td>\n",
       "      <td>121.398999</td>\n",
       "      <td>128.206677</td>\n",
       "      <td>124.700732</td>\n",
       "      <td>118.177267</td>\n",
       "      <td>125.452930</td>\n",
       "      <td>117.345068</td>\n",
       "      <td>142.827127</td>\n",
       "      <td>113.586227</td>\n",
       "    </tr>\n",
       "    <tr>\n",
       "      <th>2021-03-31</th>\n",
       "      <td>122.150002</td>\n",
       "      <td>122.150002</td>\n",
       "      <td>123.519997</td>\n",
       "      <td>121.150002</td>\n",
       "      <td>121.650002</td>\n",
       "      <td>118323800.0</td>\n",
       "      <td>NaN</td>\n",
       "      <td>NaN</td>\n",
       "      <td>121.177999</td>\n",
       "      <td>121.403499</td>\n",
       "      <td>128.096892</td>\n",
       "      <td>123.556867</td>\n",
       "      <td>118.799131</td>\n",
       "      <td>125.460718</td>\n",
       "      <td>117.346280</td>\n",
       "      <td>142.816832</td>\n",
       "      <td>113.376952</td>\n",
       "    </tr>\n",
       "    <tr>\n",
       "      <th>2021-04-01</th>\n",
       "      <td>123.000000</td>\n",
       "      <td>123.000000</td>\n",
       "      <td>124.180000</td>\n",
       "      <td>122.489998</td>\n",
       "      <td>123.660004</td>\n",
       "      <td>74957400.0</td>\n",
       "      <td>NaN</td>\n",
       "      <td>NaN</td>\n",
       "      <td>121.424999</td>\n",
       "      <td>121.546999</td>\n",
       "      <td>127.920232</td>\n",
       "      <td>124.008921</td>\n",
       "      <td>118.841077</td>\n",
       "      <td>125.617562</td>\n",
       "      <td>117.476437</td>\n",
       "      <td>142.669146</td>\n",
       "      <td>113.171318</td>\n",
       "    </tr>\n",
       "    <tr>\n",
       "      <th>2021-04-05</th>\n",
       "      <td>125.900002</td>\n",
       "      <td>125.900002</td>\n",
       "      <td>126.160004</td>\n",
       "      <td>123.070000</td>\n",
       "      <td>123.870003</td>\n",
       "      <td>88651200.0</td>\n",
       "      <td>NaN</td>\n",
       "      <td>NaN</td>\n",
       "      <td>122.016000</td>\n",
       "      <td>121.771000</td>\n",
       "      <td>127.704917</td>\n",
       "      <td>125.636685</td>\n",
       "      <td>118.395314</td>\n",
       "      <td>126.281432</td>\n",
       "      <td>117.260567</td>\n",
       "      <td>142.245576</td>\n",
       "      <td>113.164257</td>\n",
       "    </tr>\n",
       "  </tbody>\n",
       "</table>\n",
       "</div>"
      ],
      "text/plain": [
       "             Adj Close       Close        High         Low        Open  \\\n",
       "Date                                                                     \n",
       "2021-03-29  121.389999  121.389999  122.580002  120.730003  121.650002   \n",
       "2021-03-30  119.900002  119.900002  120.400002  118.860001  120.110001   \n",
       "2021-03-31  122.150002  122.150002  123.519997  121.150002  121.650002   \n",
       "2021-04-01  123.000000  123.000000  124.180000  122.489998  123.660004   \n",
       "2021-04-05  125.900002  125.900002  126.160004  123.070000  123.870003   \n",
       "\n",
       "                 Volume  Dividends  Stock Splits    10_ac_ma    20_ac_ma  \\\n",
       "Date                                                                       \n",
       "2021-03-29   80819200.0        NaN           NaN  122.005999  121.659999   \n",
       "2021-03-30   85671900.0        NaN           NaN  121.438999  121.398999   \n",
       "2021-03-31  118323800.0        NaN           NaN  121.177999  121.403499   \n",
       "2021-04-01   74957400.0        NaN           NaN  121.424999  121.546999   \n",
       "2021-04-05   88651200.0        NaN           NaN  122.016000  121.771000   \n",
       "\n",
       "              50_ac_ma  10_ac_bb_u  10_ac_bb_l  20_ac_bb_u  20_ac_bb_l  \\\n",
       "Date                                                                     \n",
       "2021-03-29  128.347683  125.973606  118.038392  125.971542  117.348457   \n",
       "2021-03-30  128.206677  124.700732  118.177267  125.452930  117.345068   \n",
       "2021-03-31  128.096892  123.556867  118.799131  125.460718  117.346280   \n",
       "2021-04-01  127.920232  124.008921  118.841077  125.617562  117.476437   \n",
       "2021-04-05  127.704917  125.636685  118.395314  126.281432  117.260567   \n",
       "\n",
       "            50_ac_bb_u  50_ac_bb_l  \n",
       "Date                                \n",
       "2021-03-29  142.775868  113.919498  \n",
       "2021-03-30  142.827127  113.586227  \n",
       "2021-03-31  142.816832  113.376952  \n",
       "2021-04-01  142.669146  113.171318  \n",
       "2021-04-05  142.245576  113.164257  "
      ]
     },
     "execution_count": 150,
     "metadata": {},
     "output_type": "execute_result"
    }
   ],
   "source": [
    "df_aapl_valid.head()"
   ]
  },
  {
   "cell_type": "markdown",
   "id": "saved-fetish",
   "metadata": {},
   "source": [
    "#### Amazon Stock train test split"
   ]
  },
  {
   "cell_type": "code",
   "execution_count": 151,
   "id": "stainless-parish",
   "metadata": {},
   "outputs": [],
   "source": [
    "#df_amzn = df_amzn.loc[data_start:].copy()"
   ]
  },
  {
   "cell_type": "code",
   "execution_count": 152,
   "id": "convenient-nashville",
   "metadata": {},
   "outputs": [
    {
     "name": "stdout",
     "output_type": "stream",
     "text": [
      "6026 5986 6006 20\n"
     ]
    }
   ],
   "source": [
    "df_amzn_train, df_amzn_test, df_amzn_valid = train_test_valid_split(df_amzn, prediction_length=prediction_length[1])\n",
    "print(len(df_amzn), len(df_amzn_train), len(df_amzn_test), len(df_amzn_valid))"
   ]
  },
  {
   "cell_type": "code",
   "execution_count": 153,
   "id": "neither-battery",
   "metadata": {},
   "outputs": [
    {
     "data": {
      "text/html": [
       "<div>\n",
       "<style scoped>\n",
       "    .dataframe tbody tr th:only-of-type {\n",
       "        vertical-align: middle;\n",
       "    }\n",
       "\n",
       "    .dataframe tbody tr th {\n",
       "        vertical-align: top;\n",
       "    }\n",
       "\n",
       "    .dataframe thead th {\n",
       "        text-align: right;\n",
       "    }\n",
       "</style>\n",
       "<table border=\"1\" class=\"dataframe\">\n",
       "  <thead>\n",
       "    <tr style=\"text-align: right;\">\n",
       "      <th></th>\n",
       "      <th>Adj Close</th>\n",
       "      <th>Close</th>\n",
       "      <th>High</th>\n",
       "      <th>Low</th>\n",
       "      <th>Open</th>\n",
       "      <th>Volume</th>\n",
       "      <th>Dividends</th>\n",
       "      <th>Stock Splits</th>\n",
       "      <th>10_ac_ma</th>\n",
       "      <th>20_ac_ma</th>\n",
       "      <th>50_ac_ma</th>\n",
       "      <th>10_ac_bb_u</th>\n",
       "      <th>10_ac_bb_l</th>\n",
       "      <th>20_ac_bb_u</th>\n",
       "      <th>20_ac_bb_l</th>\n",
       "      <th>50_ac_bb_u</th>\n",
       "      <th>50_ac_bb_l</th>\n",
       "    </tr>\n",
       "    <tr>\n",
       "      <th>Date</th>\n",
       "      <th></th>\n",
       "      <th></th>\n",
       "      <th></th>\n",
       "      <th></th>\n",
       "      <th></th>\n",
       "      <th></th>\n",
       "      <th></th>\n",
       "      <th></th>\n",
       "      <th></th>\n",
       "      <th></th>\n",
       "      <th></th>\n",
       "      <th></th>\n",
       "      <th></th>\n",
       "      <th></th>\n",
       "      <th></th>\n",
       "      <th></th>\n",
       "      <th></th>\n",
       "    </tr>\n",
       "  </thead>\n",
       "  <tbody>\n",
       "    <tr>\n",
       "      <th>1997-05-15</th>\n",
       "      <td>1.958333</td>\n",
       "      <td>1.958333</td>\n",
       "      <td>2.500000</td>\n",
       "      <td>1.927083</td>\n",
       "      <td>2.437500</td>\n",
       "      <td>72156000.0</td>\n",
       "      <td>0.0</td>\n",
       "      <td>2.0</td>\n",
       "      <td>1.597396</td>\n",
       "      <td>1.57474</td>\n",
       "      <td>1.772813</td>\n",
       "      <td>1.93311</td>\n",
       "      <td>1.261682</td>\n",
       "      <td>1.836333</td>\n",
       "      <td>1.313146</td>\n",
       "      <td>2.458803</td>\n",
       "      <td>1.086822</td>\n",
       "    </tr>\n",
       "    <tr>\n",
       "      <th>1997-05-16</th>\n",
       "      <td>1.729167</td>\n",
       "      <td>1.729167</td>\n",
       "      <td>1.979167</td>\n",
       "      <td>1.708333</td>\n",
       "      <td>1.968750</td>\n",
       "      <td>14700000.0</td>\n",
       "      <td>0.0</td>\n",
       "      <td>2.0</td>\n",
       "      <td>1.597396</td>\n",
       "      <td>1.57474</td>\n",
       "      <td>1.772813</td>\n",
       "      <td>1.93311</td>\n",
       "      <td>1.261682</td>\n",
       "      <td>1.836333</td>\n",
       "      <td>1.313146</td>\n",
       "      <td>2.458803</td>\n",
       "      <td>1.086822</td>\n",
       "    </tr>\n",
       "    <tr>\n",
       "      <th>1997-05-19</th>\n",
       "      <td>1.708333</td>\n",
       "      <td>1.708333</td>\n",
       "      <td>1.770833</td>\n",
       "      <td>1.625000</td>\n",
       "      <td>1.760417</td>\n",
       "      <td>6106800.0</td>\n",
       "      <td>0.0</td>\n",
       "      <td>2.0</td>\n",
       "      <td>1.597396</td>\n",
       "      <td>1.57474</td>\n",
       "      <td>1.772813</td>\n",
       "      <td>1.93311</td>\n",
       "      <td>1.261682</td>\n",
       "      <td>1.836333</td>\n",
       "      <td>1.313146</td>\n",
       "      <td>2.458803</td>\n",
       "      <td>1.086822</td>\n",
       "    </tr>\n",
       "    <tr>\n",
       "      <th>1997-05-20</th>\n",
       "      <td>1.635417</td>\n",
       "      <td>1.635417</td>\n",
       "      <td>1.750000</td>\n",
       "      <td>1.635417</td>\n",
       "      <td>1.729167</td>\n",
       "      <td>5467200.0</td>\n",
       "      <td>0.0</td>\n",
       "      <td>2.0</td>\n",
       "      <td>1.597396</td>\n",
       "      <td>1.57474</td>\n",
       "      <td>1.772813</td>\n",
       "      <td>1.93311</td>\n",
       "      <td>1.261682</td>\n",
       "      <td>1.836333</td>\n",
       "      <td>1.313146</td>\n",
       "      <td>2.458803</td>\n",
       "      <td>1.086822</td>\n",
       "    </tr>\n",
       "    <tr>\n",
       "      <th>1997-05-21</th>\n",
       "      <td>1.427083</td>\n",
       "      <td>1.427083</td>\n",
       "      <td>1.645833</td>\n",
       "      <td>1.375000</td>\n",
       "      <td>1.635417</td>\n",
       "      <td>18853200.0</td>\n",
       "      <td>0.0</td>\n",
       "      <td>2.0</td>\n",
       "      <td>1.597396</td>\n",
       "      <td>1.57474</td>\n",
       "      <td>1.772813</td>\n",
       "      <td>1.93311</td>\n",
       "      <td>1.261682</td>\n",
       "      <td>1.836333</td>\n",
       "      <td>1.313146</td>\n",
       "      <td>2.458803</td>\n",
       "      <td>1.086822</td>\n",
       "    </tr>\n",
       "  </tbody>\n",
       "</table>\n",
       "</div>"
      ],
      "text/plain": [
       "            Adj Close     Close      High       Low      Open      Volume  \\\n",
       "Date                                                                        \n",
       "1997-05-15   1.958333  1.958333  2.500000  1.927083  2.437500  72156000.0   \n",
       "1997-05-16   1.729167  1.729167  1.979167  1.708333  1.968750  14700000.0   \n",
       "1997-05-19   1.708333  1.708333  1.770833  1.625000  1.760417   6106800.0   \n",
       "1997-05-20   1.635417  1.635417  1.750000  1.635417  1.729167   5467200.0   \n",
       "1997-05-21   1.427083  1.427083  1.645833  1.375000  1.635417  18853200.0   \n",
       "\n",
       "            Dividends  Stock Splits  10_ac_ma  20_ac_ma  50_ac_ma  10_ac_bb_u  \\\n",
       "Date                                                                            \n",
       "1997-05-15        0.0           2.0  1.597396   1.57474  1.772813     1.93311   \n",
       "1997-05-16        0.0           2.0  1.597396   1.57474  1.772813     1.93311   \n",
       "1997-05-19        0.0           2.0  1.597396   1.57474  1.772813     1.93311   \n",
       "1997-05-20        0.0           2.0  1.597396   1.57474  1.772813     1.93311   \n",
       "1997-05-21        0.0           2.0  1.597396   1.57474  1.772813     1.93311   \n",
       "\n",
       "            10_ac_bb_l  20_ac_bb_u  20_ac_bb_l  50_ac_bb_u  50_ac_bb_l  \n",
       "Date                                                                    \n",
       "1997-05-15    1.261682    1.836333    1.313146    2.458803    1.086822  \n",
       "1997-05-16    1.261682    1.836333    1.313146    2.458803    1.086822  \n",
       "1997-05-19    1.261682    1.836333    1.313146    2.458803    1.086822  \n",
       "1997-05-20    1.261682    1.836333    1.313146    2.458803    1.086822  \n",
       "1997-05-21    1.261682    1.836333    1.313146    2.458803    1.086822  "
      ]
     },
     "execution_count": 153,
     "metadata": {},
     "output_type": "execute_result"
    }
   ],
   "source": [
    "df_amzn_train.head()"
   ]
  },
  {
   "cell_type": "code",
   "execution_count": 154,
   "id": "better-validation",
   "metadata": {},
   "outputs": [
    {
     "data": {
      "text/html": [
       "<div>\n",
       "<style scoped>\n",
       "    .dataframe tbody tr th:only-of-type {\n",
       "        vertical-align: middle;\n",
       "    }\n",
       "\n",
       "    .dataframe tbody tr th {\n",
       "        vertical-align: top;\n",
       "    }\n",
       "\n",
       "    .dataframe thead th {\n",
       "        text-align: right;\n",
       "    }\n",
       "</style>\n",
       "<table border=\"1\" class=\"dataframe\">\n",
       "  <thead>\n",
       "    <tr style=\"text-align: right;\">\n",
       "      <th></th>\n",
       "      <th>Adj Close</th>\n",
       "      <th>Close</th>\n",
       "      <th>High</th>\n",
       "      <th>Low</th>\n",
       "      <th>Open</th>\n",
       "      <th>Volume</th>\n",
       "      <th>Dividends</th>\n",
       "      <th>Stock Splits</th>\n",
       "      <th>10_ac_ma</th>\n",
       "      <th>20_ac_ma</th>\n",
       "      <th>50_ac_ma</th>\n",
       "      <th>10_ac_bb_u</th>\n",
       "      <th>10_ac_bb_l</th>\n",
       "      <th>20_ac_bb_u</th>\n",
       "      <th>20_ac_bb_l</th>\n",
       "      <th>50_ac_bb_u</th>\n",
       "      <th>50_ac_bb_l</th>\n",
       "    </tr>\n",
       "    <tr>\n",
       "      <th>Date</th>\n",
       "      <th></th>\n",
       "      <th></th>\n",
       "      <th></th>\n",
       "      <th></th>\n",
       "      <th></th>\n",
       "      <th></th>\n",
       "      <th></th>\n",
       "      <th></th>\n",
       "      <th></th>\n",
       "      <th></th>\n",
       "      <th></th>\n",
       "      <th></th>\n",
       "      <th></th>\n",
       "      <th></th>\n",
       "      <th></th>\n",
       "      <th></th>\n",
       "      <th></th>\n",
       "    </tr>\n",
       "  </thead>\n",
       "  <tbody>\n",
       "    <tr>\n",
       "      <th>1997-05-15</th>\n",
       "      <td>1.958333</td>\n",
       "      <td>1.958333</td>\n",
       "      <td>2.500000</td>\n",
       "      <td>1.927083</td>\n",
       "      <td>2.437500</td>\n",
       "      <td>72156000.0</td>\n",
       "      <td>0.0</td>\n",
       "      <td>2.0</td>\n",
       "      <td>1.597396</td>\n",
       "      <td>1.57474</td>\n",
       "      <td>1.772813</td>\n",
       "      <td>1.93311</td>\n",
       "      <td>1.261682</td>\n",
       "      <td>1.836333</td>\n",
       "      <td>1.313146</td>\n",
       "      <td>2.458803</td>\n",
       "      <td>1.086822</td>\n",
       "    </tr>\n",
       "    <tr>\n",
       "      <th>1997-05-16</th>\n",
       "      <td>1.729167</td>\n",
       "      <td>1.729167</td>\n",
       "      <td>1.979167</td>\n",
       "      <td>1.708333</td>\n",
       "      <td>1.968750</td>\n",
       "      <td>14700000.0</td>\n",
       "      <td>0.0</td>\n",
       "      <td>2.0</td>\n",
       "      <td>1.597396</td>\n",
       "      <td>1.57474</td>\n",
       "      <td>1.772813</td>\n",
       "      <td>1.93311</td>\n",
       "      <td>1.261682</td>\n",
       "      <td>1.836333</td>\n",
       "      <td>1.313146</td>\n",
       "      <td>2.458803</td>\n",
       "      <td>1.086822</td>\n",
       "    </tr>\n",
       "    <tr>\n",
       "      <th>1997-05-19</th>\n",
       "      <td>1.708333</td>\n",
       "      <td>1.708333</td>\n",
       "      <td>1.770833</td>\n",
       "      <td>1.625000</td>\n",
       "      <td>1.760417</td>\n",
       "      <td>6106800.0</td>\n",
       "      <td>0.0</td>\n",
       "      <td>2.0</td>\n",
       "      <td>1.597396</td>\n",
       "      <td>1.57474</td>\n",
       "      <td>1.772813</td>\n",
       "      <td>1.93311</td>\n",
       "      <td>1.261682</td>\n",
       "      <td>1.836333</td>\n",
       "      <td>1.313146</td>\n",
       "      <td>2.458803</td>\n",
       "      <td>1.086822</td>\n",
       "    </tr>\n",
       "    <tr>\n",
       "      <th>1997-05-20</th>\n",
       "      <td>1.635417</td>\n",
       "      <td>1.635417</td>\n",
       "      <td>1.750000</td>\n",
       "      <td>1.635417</td>\n",
       "      <td>1.729167</td>\n",
       "      <td>5467200.0</td>\n",
       "      <td>0.0</td>\n",
       "      <td>2.0</td>\n",
       "      <td>1.597396</td>\n",
       "      <td>1.57474</td>\n",
       "      <td>1.772813</td>\n",
       "      <td>1.93311</td>\n",
       "      <td>1.261682</td>\n",
       "      <td>1.836333</td>\n",
       "      <td>1.313146</td>\n",
       "      <td>2.458803</td>\n",
       "      <td>1.086822</td>\n",
       "    </tr>\n",
       "    <tr>\n",
       "      <th>1997-05-21</th>\n",
       "      <td>1.427083</td>\n",
       "      <td>1.427083</td>\n",
       "      <td>1.645833</td>\n",
       "      <td>1.375000</td>\n",
       "      <td>1.635417</td>\n",
       "      <td>18853200.0</td>\n",
       "      <td>0.0</td>\n",
       "      <td>2.0</td>\n",
       "      <td>1.597396</td>\n",
       "      <td>1.57474</td>\n",
       "      <td>1.772813</td>\n",
       "      <td>1.93311</td>\n",
       "      <td>1.261682</td>\n",
       "      <td>1.836333</td>\n",
       "      <td>1.313146</td>\n",
       "      <td>2.458803</td>\n",
       "      <td>1.086822</td>\n",
       "    </tr>\n",
       "  </tbody>\n",
       "</table>\n",
       "</div>"
      ],
      "text/plain": [
       "            Adj Close     Close      High       Low      Open      Volume  \\\n",
       "Date                                                                        \n",
       "1997-05-15   1.958333  1.958333  2.500000  1.927083  2.437500  72156000.0   \n",
       "1997-05-16   1.729167  1.729167  1.979167  1.708333  1.968750  14700000.0   \n",
       "1997-05-19   1.708333  1.708333  1.770833  1.625000  1.760417   6106800.0   \n",
       "1997-05-20   1.635417  1.635417  1.750000  1.635417  1.729167   5467200.0   \n",
       "1997-05-21   1.427083  1.427083  1.645833  1.375000  1.635417  18853200.0   \n",
       "\n",
       "            Dividends  Stock Splits  10_ac_ma  20_ac_ma  50_ac_ma  10_ac_bb_u  \\\n",
       "Date                                                                            \n",
       "1997-05-15        0.0           2.0  1.597396   1.57474  1.772813     1.93311   \n",
       "1997-05-16        0.0           2.0  1.597396   1.57474  1.772813     1.93311   \n",
       "1997-05-19        0.0           2.0  1.597396   1.57474  1.772813     1.93311   \n",
       "1997-05-20        0.0           2.0  1.597396   1.57474  1.772813     1.93311   \n",
       "1997-05-21        0.0           2.0  1.597396   1.57474  1.772813     1.93311   \n",
       "\n",
       "            10_ac_bb_l  20_ac_bb_u  20_ac_bb_l  50_ac_bb_u  50_ac_bb_l  \n",
       "Date                                                                    \n",
       "1997-05-15    1.261682    1.836333    1.313146    2.458803    1.086822  \n",
       "1997-05-16    1.261682    1.836333    1.313146    2.458803    1.086822  \n",
       "1997-05-19    1.261682    1.836333    1.313146    2.458803    1.086822  \n",
       "1997-05-20    1.261682    1.836333    1.313146    2.458803    1.086822  \n",
       "1997-05-21    1.261682    1.836333    1.313146    2.458803    1.086822  "
      ]
     },
     "execution_count": 154,
     "metadata": {},
     "output_type": "execute_result"
    }
   ],
   "source": [
    "df_amzn_test.head()"
   ]
  },
  {
   "cell_type": "code",
   "execution_count": 155,
   "id": "rolled-reporter",
   "metadata": {},
   "outputs": [
    {
     "data": {
      "text/html": [
       "<div>\n",
       "<style scoped>\n",
       "    .dataframe tbody tr th:only-of-type {\n",
       "        vertical-align: middle;\n",
       "    }\n",
       "\n",
       "    .dataframe tbody tr th {\n",
       "        vertical-align: top;\n",
       "    }\n",
       "\n",
       "    .dataframe thead th {\n",
       "        text-align: right;\n",
       "    }\n",
       "</style>\n",
       "<table border=\"1\" class=\"dataframe\">\n",
       "  <thead>\n",
       "    <tr style=\"text-align: right;\">\n",
       "      <th></th>\n",
       "      <th>Adj Close</th>\n",
       "      <th>Close</th>\n",
       "      <th>High</th>\n",
       "      <th>Low</th>\n",
       "      <th>Open</th>\n",
       "      <th>Volume</th>\n",
       "      <th>Dividends</th>\n",
       "      <th>Stock Splits</th>\n",
       "      <th>10_ac_ma</th>\n",
       "      <th>20_ac_ma</th>\n",
       "      <th>50_ac_ma</th>\n",
       "      <th>10_ac_bb_u</th>\n",
       "      <th>10_ac_bb_l</th>\n",
       "      <th>20_ac_bb_u</th>\n",
       "      <th>20_ac_bb_l</th>\n",
       "      <th>50_ac_bb_u</th>\n",
       "      <th>50_ac_bb_l</th>\n",
       "    </tr>\n",
       "    <tr>\n",
       "      <th>Date</th>\n",
       "      <th></th>\n",
       "      <th></th>\n",
       "      <th></th>\n",
       "      <th></th>\n",
       "      <th></th>\n",
       "      <th></th>\n",
       "      <th></th>\n",
       "      <th></th>\n",
       "      <th></th>\n",
       "      <th></th>\n",
       "      <th></th>\n",
       "      <th></th>\n",
       "      <th></th>\n",
       "      <th></th>\n",
       "      <th></th>\n",
       "      <th></th>\n",
       "      <th></th>\n",
       "    </tr>\n",
       "  </thead>\n",
       "  <tbody>\n",
       "    <tr>\n",
       "      <th>2021-03-29</th>\n",
       "      <td>3075.729980</td>\n",
       "      <td>3075.729980</td>\n",
       "      <td>3091.250000</td>\n",
       "      <td>3028.449951</td>\n",
       "      <td>3055.439941</td>\n",
       "      <td>2746000.0</td>\n",
       "      <td>NaN</td>\n",
       "      <td>NaN</td>\n",
       "      <td>3084.000024</td>\n",
       "      <td>3063.738013</td>\n",
       "      <td>3176.370786</td>\n",
       "      <td>3157.227443</td>\n",
       "      <td>3010.772606</td>\n",
       "      <td>3164.265826</td>\n",
       "      <td>2963.210200</td>\n",
       "      <td>3411.929864</td>\n",
       "      <td>2940.811709</td>\n",
       "    </tr>\n",
       "    <tr>\n",
       "      <th>2021-03-30</th>\n",
       "      <td>3055.290039</td>\n",
       "      <td>3055.290039</td>\n",
       "      <td>3073.000000</td>\n",
       "      <td>3034.000000</td>\n",
       "      <td>3070.010010</td>\n",
       "      <td>2337600.0</td>\n",
       "      <td>NaN</td>\n",
       "      <td>NaN</td>\n",
       "      <td>3080.343018</td>\n",
       "      <td>3061.776013</td>\n",
       "      <td>3175.391587</td>\n",
       "      <td>3155.454250</td>\n",
       "      <td>3005.231786</td>\n",
       "      <td>3161.300120</td>\n",
       "      <td>2962.251907</td>\n",
       "      <td>3412.575777</td>\n",
       "      <td>2938.207397</td>\n",
       "    </tr>\n",
       "    <tr>\n",
       "      <th>2021-03-31</th>\n",
       "      <td>3094.080078</td>\n",
       "      <td>3094.080078</td>\n",
       "      <td>3119.330078</td>\n",
       "      <td>3062.500000</td>\n",
       "      <td>3064.060059</td>\n",
       "      <td>3093900.0</td>\n",
       "      <td>NaN</td>\n",
       "      <td>NaN</td>\n",
       "      <td>3076.178027</td>\n",
       "      <td>3066.230017</td>\n",
       "      <td>3174.857988</td>\n",
       "      <td>3141.638239</td>\n",
       "      <td>3010.717816</td>\n",
       "      <td>3162.990438</td>\n",
       "      <td>2969.469596</td>\n",
       "      <td>3412.663067</td>\n",
       "      <td>2937.052909</td>\n",
       "    </tr>\n",
       "    <tr>\n",
       "      <th>2021-04-01</th>\n",
       "      <td>3161.000000</td>\n",
       "      <td>3161.000000</td>\n",
       "      <td>3162.439941</td>\n",
       "      <td>3115.550049</td>\n",
       "      <td>3117.939941</td>\n",
       "      <td>2940300.0</td>\n",
       "      <td>NaN</td>\n",
       "      <td>NaN</td>\n",
       "      <td>3089.479028</td>\n",
       "      <td>3075.401514</td>\n",
       "      <td>3172.810391</td>\n",
       "      <td>3164.741096</td>\n",
       "      <td>3014.216961</td>\n",
       "      <td>3171.549083</td>\n",
       "      <td>2979.253944</td>\n",
       "      <td>3409.263633</td>\n",
       "      <td>2936.357148</td>\n",
       "    </tr>\n",
       "    <tr>\n",
       "      <th>2021-04-05</th>\n",
       "      <td>3226.729980</td>\n",
       "      <td>3226.729980</td>\n",
       "      <td>3235.959961</td>\n",
       "      <td>3161.239990</td>\n",
       "      <td>3173.000000</td>\n",
       "      <td>3334900.0</td>\n",
       "      <td>NaN</td>\n",
       "      <td>NaN</td>\n",
       "      <td>3104.656030</td>\n",
       "      <td>3086.715015</td>\n",
       "      <td>3171.205190</td>\n",
       "      <td>3218.319195</td>\n",
       "      <td>2990.992865</td>\n",
       "      <td>3197.819375</td>\n",
       "      <td>2975.610655</td>\n",
       "      <td>3405.015421</td>\n",
       "      <td>2937.394960</td>\n",
       "    </tr>\n",
       "  </tbody>\n",
       "</table>\n",
       "</div>"
      ],
      "text/plain": [
       "              Adj Close        Close         High          Low         Open  \\\n",
       "Date                                                                          \n",
       "2021-03-29  3075.729980  3075.729980  3091.250000  3028.449951  3055.439941   \n",
       "2021-03-30  3055.290039  3055.290039  3073.000000  3034.000000  3070.010010   \n",
       "2021-03-31  3094.080078  3094.080078  3119.330078  3062.500000  3064.060059   \n",
       "2021-04-01  3161.000000  3161.000000  3162.439941  3115.550049  3117.939941   \n",
       "2021-04-05  3226.729980  3226.729980  3235.959961  3161.239990  3173.000000   \n",
       "\n",
       "               Volume  Dividends  Stock Splits     10_ac_ma     20_ac_ma  \\\n",
       "Date                                                                       \n",
       "2021-03-29  2746000.0        NaN           NaN  3084.000024  3063.738013   \n",
       "2021-03-30  2337600.0        NaN           NaN  3080.343018  3061.776013   \n",
       "2021-03-31  3093900.0        NaN           NaN  3076.178027  3066.230017   \n",
       "2021-04-01  2940300.0        NaN           NaN  3089.479028  3075.401514   \n",
       "2021-04-05  3334900.0        NaN           NaN  3104.656030  3086.715015   \n",
       "\n",
       "               50_ac_ma   10_ac_bb_u   10_ac_bb_l   20_ac_bb_u   20_ac_bb_l  \\\n",
       "Date                                                                          \n",
       "2021-03-29  3176.370786  3157.227443  3010.772606  3164.265826  2963.210200   \n",
       "2021-03-30  3175.391587  3155.454250  3005.231786  3161.300120  2962.251907   \n",
       "2021-03-31  3174.857988  3141.638239  3010.717816  3162.990438  2969.469596   \n",
       "2021-04-01  3172.810391  3164.741096  3014.216961  3171.549083  2979.253944   \n",
       "2021-04-05  3171.205190  3218.319195  2990.992865  3197.819375  2975.610655   \n",
       "\n",
       "             50_ac_bb_u   50_ac_bb_l  \n",
       "Date                                  \n",
       "2021-03-29  3411.929864  2940.811709  \n",
       "2021-03-30  3412.575777  2938.207397  \n",
       "2021-03-31  3412.663067  2937.052909  \n",
       "2021-04-01  3409.263633  2936.357148  \n",
       "2021-04-05  3405.015421  2937.394960  "
      ]
     },
     "execution_count": 155,
     "metadata": {},
     "output_type": "execute_result"
    }
   ],
   "source": [
    "df_amzn_valid.head()"
   ]
  },
  {
   "cell_type": "markdown",
   "id": "acquired-passenger",
   "metadata": {},
   "source": [
    "#### Alphabet Inc. Stock train test split"
   ]
  },
  {
   "cell_type": "code",
   "execution_count": 156,
   "id": "auburn-valley",
   "metadata": {},
   "outputs": [],
   "source": [
    "#df_googl = df_googl.loc[data_start:].copy()"
   ]
  },
  {
   "cell_type": "code",
   "execution_count": 157,
   "id": "pretty-serum",
   "metadata": {},
   "outputs": [
    {
     "name": "stdout",
     "output_type": "stream",
     "text": [
      "4200 4160 4180 20\n"
     ]
    }
   ],
   "source": [
    "df_googl_train, df_googl_test, df_googl_valid = train_test_valid_split(df_googl, prediction_length=prediction_length[1])\n",
    "print(len(df_googl), len(df_googl_train), len(df_googl_test), len(df_googl_valid))"
   ]
  },
  {
   "cell_type": "code",
   "execution_count": 158,
   "id": "hawaiian-reason",
   "metadata": {},
   "outputs": [
    {
     "data": {
      "text/html": [
       "<div>\n",
       "<style scoped>\n",
       "    .dataframe tbody tr th:only-of-type {\n",
       "        vertical-align: middle;\n",
       "    }\n",
       "\n",
       "    .dataframe tbody tr th {\n",
       "        vertical-align: top;\n",
       "    }\n",
       "\n",
       "    .dataframe thead th {\n",
       "        text-align: right;\n",
       "    }\n",
       "</style>\n",
       "<table border=\"1\" class=\"dataframe\">\n",
       "  <thead>\n",
       "    <tr style=\"text-align: right;\">\n",
       "      <th></th>\n",
       "      <th>Adj Close</th>\n",
       "      <th>Close</th>\n",
       "      <th>High</th>\n",
       "      <th>Low</th>\n",
       "      <th>Open</th>\n",
       "      <th>Volume</th>\n",
       "      <th>Dividends</th>\n",
       "      <th>Stock Splits</th>\n",
       "      <th>10_ac_ma</th>\n",
       "      <th>20_ac_ma</th>\n",
       "      <th>50_ac_ma</th>\n",
       "      <th>10_ac_bb_u</th>\n",
       "      <th>10_ac_bb_l</th>\n",
       "      <th>20_ac_bb_u</th>\n",
       "      <th>20_ac_bb_l</th>\n",
       "      <th>50_ac_bb_u</th>\n",
       "      <th>50_ac_bb_l</th>\n",
       "    </tr>\n",
       "    <tr>\n",
       "      <th>Date</th>\n",
       "      <th></th>\n",
       "      <th></th>\n",
       "      <th></th>\n",
       "      <th></th>\n",
       "      <th></th>\n",
       "      <th></th>\n",
       "      <th></th>\n",
       "      <th></th>\n",
       "      <th></th>\n",
       "      <th></th>\n",
       "      <th></th>\n",
       "      <th></th>\n",
       "      <th></th>\n",
       "      <th></th>\n",
       "      <th></th>\n",
       "      <th></th>\n",
       "      <th></th>\n",
       "    </tr>\n",
       "  </thead>\n",
       "  <tbody>\n",
       "    <tr>\n",
       "      <th>2004-08-19</th>\n",
       "      <td>50.220219</td>\n",
       "      <td>50.220219</td>\n",
       "      <td>52.082081</td>\n",
       "      <td>48.028027</td>\n",
       "      <td>50.050049</td>\n",
       "      <td>44659096.0</td>\n",
       "      <td>0.0</td>\n",
       "      <td>1.998</td>\n",
       "      <td>52.432933</td>\n",
       "      <td>52.692943</td>\n",
       "      <td>63.586987</td>\n",
       "      <td>55.781053</td>\n",
       "      <td>49.084813</td>\n",
       "      <td>56.933168</td>\n",
       "      <td>48.452718</td>\n",
       "      <td>88.331593</td>\n",
       "      <td>38.842381</td>\n",
       "    </tr>\n",
       "    <tr>\n",
       "      <th>2004-08-20</th>\n",
       "      <td>54.209209</td>\n",
       "      <td>54.209209</td>\n",
       "      <td>54.594597</td>\n",
       "      <td>50.300301</td>\n",
       "      <td>50.555557</td>\n",
       "      <td>22834343.0</td>\n",
       "      <td>0.0</td>\n",
       "      <td>1.998</td>\n",
       "      <td>52.432933</td>\n",
       "      <td>52.692943</td>\n",
       "      <td>63.586987</td>\n",
       "      <td>55.781053</td>\n",
       "      <td>49.084813</td>\n",
       "      <td>56.933168</td>\n",
       "      <td>48.452718</td>\n",
       "      <td>88.331593</td>\n",
       "      <td>38.842381</td>\n",
       "    </tr>\n",
       "    <tr>\n",
       "      <th>2004-08-23</th>\n",
       "      <td>54.754753</td>\n",
       "      <td>54.754753</td>\n",
       "      <td>56.796799</td>\n",
       "      <td>54.579578</td>\n",
       "      <td>55.430431</td>\n",
       "      <td>18256126.0</td>\n",
       "      <td>0.0</td>\n",
       "      <td>1.998</td>\n",
       "      <td>52.432933</td>\n",
       "      <td>52.692943</td>\n",
       "      <td>63.586987</td>\n",
       "      <td>55.781053</td>\n",
       "      <td>49.084813</td>\n",
       "      <td>56.933168</td>\n",
       "      <td>48.452718</td>\n",
       "      <td>88.331593</td>\n",
       "      <td>38.842381</td>\n",
       "    </tr>\n",
       "    <tr>\n",
       "      <th>2004-08-24</th>\n",
       "      <td>52.487488</td>\n",
       "      <td>52.487488</td>\n",
       "      <td>55.855858</td>\n",
       "      <td>51.836838</td>\n",
       "      <td>55.675674</td>\n",
       "      <td>15247337.0</td>\n",
       "      <td>0.0</td>\n",
       "      <td>1.998</td>\n",
       "      <td>52.432933</td>\n",
       "      <td>52.692943</td>\n",
       "      <td>63.586987</td>\n",
       "      <td>55.781053</td>\n",
       "      <td>49.084813</td>\n",
       "      <td>56.933168</td>\n",
       "      <td>48.452718</td>\n",
       "      <td>88.331593</td>\n",
       "      <td>38.842381</td>\n",
       "    </tr>\n",
       "    <tr>\n",
       "      <th>2004-08-25</th>\n",
       "      <td>53.053055</td>\n",
       "      <td>53.053055</td>\n",
       "      <td>54.054054</td>\n",
       "      <td>51.991993</td>\n",
       "      <td>52.532532</td>\n",
       "      <td>9188602.0</td>\n",
       "      <td>0.0</td>\n",
       "      <td>1.998</td>\n",
       "      <td>52.432933</td>\n",
       "      <td>52.692943</td>\n",
       "      <td>63.586987</td>\n",
       "      <td>55.781053</td>\n",
       "      <td>49.084813</td>\n",
       "      <td>56.933168</td>\n",
       "      <td>48.452718</td>\n",
       "      <td>88.331593</td>\n",
       "      <td>38.842381</td>\n",
       "    </tr>\n",
       "  </tbody>\n",
       "</table>\n",
       "</div>"
      ],
      "text/plain": [
       "            Adj Close      Close       High        Low       Open      Volume  \\\n",
       "Date                                                                            \n",
       "2004-08-19  50.220219  50.220219  52.082081  48.028027  50.050049  44659096.0   \n",
       "2004-08-20  54.209209  54.209209  54.594597  50.300301  50.555557  22834343.0   \n",
       "2004-08-23  54.754753  54.754753  56.796799  54.579578  55.430431  18256126.0   \n",
       "2004-08-24  52.487488  52.487488  55.855858  51.836838  55.675674  15247337.0   \n",
       "2004-08-25  53.053055  53.053055  54.054054  51.991993  52.532532   9188602.0   \n",
       "\n",
       "            Dividends  Stock Splits   10_ac_ma   20_ac_ma   50_ac_ma  \\\n",
       "Date                                                                   \n",
       "2004-08-19        0.0         1.998  52.432933  52.692943  63.586987   \n",
       "2004-08-20        0.0         1.998  52.432933  52.692943  63.586987   \n",
       "2004-08-23        0.0         1.998  52.432933  52.692943  63.586987   \n",
       "2004-08-24        0.0         1.998  52.432933  52.692943  63.586987   \n",
       "2004-08-25        0.0         1.998  52.432933  52.692943  63.586987   \n",
       "\n",
       "            10_ac_bb_u  10_ac_bb_l  20_ac_bb_u  20_ac_bb_l  50_ac_bb_u  \\\n",
       "Date                                                                     \n",
       "2004-08-19   55.781053   49.084813   56.933168   48.452718   88.331593   \n",
       "2004-08-20   55.781053   49.084813   56.933168   48.452718   88.331593   \n",
       "2004-08-23   55.781053   49.084813   56.933168   48.452718   88.331593   \n",
       "2004-08-24   55.781053   49.084813   56.933168   48.452718   88.331593   \n",
       "2004-08-25   55.781053   49.084813   56.933168   48.452718   88.331593   \n",
       "\n",
       "            50_ac_bb_l  \n",
       "Date                    \n",
       "2004-08-19   38.842381  \n",
       "2004-08-20   38.842381  \n",
       "2004-08-23   38.842381  \n",
       "2004-08-24   38.842381  \n",
       "2004-08-25   38.842381  "
      ]
     },
     "execution_count": 158,
     "metadata": {},
     "output_type": "execute_result"
    }
   ],
   "source": [
    "df_googl_train.head()"
   ]
  },
  {
   "cell_type": "code",
   "execution_count": 159,
   "id": "physical-analyst",
   "metadata": {},
   "outputs": [
    {
     "data": {
      "text/html": [
       "<div>\n",
       "<style scoped>\n",
       "    .dataframe tbody tr th:only-of-type {\n",
       "        vertical-align: middle;\n",
       "    }\n",
       "\n",
       "    .dataframe tbody tr th {\n",
       "        vertical-align: top;\n",
       "    }\n",
       "\n",
       "    .dataframe thead th {\n",
       "        text-align: right;\n",
       "    }\n",
       "</style>\n",
       "<table border=\"1\" class=\"dataframe\">\n",
       "  <thead>\n",
       "    <tr style=\"text-align: right;\">\n",
       "      <th></th>\n",
       "      <th>Adj Close</th>\n",
       "      <th>Close</th>\n",
       "      <th>High</th>\n",
       "      <th>Low</th>\n",
       "      <th>Open</th>\n",
       "      <th>Volume</th>\n",
       "      <th>Dividends</th>\n",
       "      <th>Stock Splits</th>\n",
       "      <th>10_ac_ma</th>\n",
       "      <th>20_ac_ma</th>\n",
       "      <th>50_ac_ma</th>\n",
       "      <th>10_ac_bb_u</th>\n",
       "      <th>10_ac_bb_l</th>\n",
       "      <th>20_ac_bb_u</th>\n",
       "      <th>20_ac_bb_l</th>\n",
       "      <th>50_ac_bb_u</th>\n",
       "      <th>50_ac_bb_l</th>\n",
       "    </tr>\n",
       "    <tr>\n",
       "      <th>Date</th>\n",
       "      <th></th>\n",
       "      <th></th>\n",
       "      <th></th>\n",
       "      <th></th>\n",
       "      <th></th>\n",
       "      <th></th>\n",
       "      <th></th>\n",
       "      <th></th>\n",
       "      <th></th>\n",
       "      <th></th>\n",
       "      <th></th>\n",
       "      <th></th>\n",
       "      <th></th>\n",
       "      <th></th>\n",
       "      <th></th>\n",
       "      <th></th>\n",
       "      <th></th>\n",
       "    </tr>\n",
       "  </thead>\n",
       "  <tbody>\n",
       "    <tr>\n",
       "      <th>2004-08-19</th>\n",
       "      <td>50.220219</td>\n",
       "      <td>50.220219</td>\n",
       "      <td>52.082081</td>\n",
       "      <td>48.028027</td>\n",
       "      <td>50.050049</td>\n",
       "      <td>44659096.0</td>\n",
       "      <td>0.0</td>\n",
       "      <td>1.998</td>\n",
       "      <td>52.432933</td>\n",
       "      <td>52.692943</td>\n",
       "      <td>63.586987</td>\n",
       "      <td>55.781053</td>\n",
       "      <td>49.084813</td>\n",
       "      <td>56.933168</td>\n",
       "      <td>48.452718</td>\n",
       "      <td>88.331593</td>\n",
       "      <td>38.842381</td>\n",
       "    </tr>\n",
       "    <tr>\n",
       "      <th>2004-08-20</th>\n",
       "      <td>54.209209</td>\n",
       "      <td>54.209209</td>\n",
       "      <td>54.594597</td>\n",
       "      <td>50.300301</td>\n",
       "      <td>50.555557</td>\n",
       "      <td>22834343.0</td>\n",
       "      <td>0.0</td>\n",
       "      <td>1.998</td>\n",
       "      <td>52.432933</td>\n",
       "      <td>52.692943</td>\n",
       "      <td>63.586987</td>\n",
       "      <td>55.781053</td>\n",
       "      <td>49.084813</td>\n",
       "      <td>56.933168</td>\n",
       "      <td>48.452718</td>\n",
       "      <td>88.331593</td>\n",
       "      <td>38.842381</td>\n",
       "    </tr>\n",
       "    <tr>\n",
       "      <th>2004-08-23</th>\n",
       "      <td>54.754753</td>\n",
       "      <td>54.754753</td>\n",
       "      <td>56.796799</td>\n",
       "      <td>54.579578</td>\n",
       "      <td>55.430431</td>\n",
       "      <td>18256126.0</td>\n",
       "      <td>0.0</td>\n",
       "      <td>1.998</td>\n",
       "      <td>52.432933</td>\n",
       "      <td>52.692943</td>\n",
       "      <td>63.586987</td>\n",
       "      <td>55.781053</td>\n",
       "      <td>49.084813</td>\n",
       "      <td>56.933168</td>\n",
       "      <td>48.452718</td>\n",
       "      <td>88.331593</td>\n",
       "      <td>38.842381</td>\n",
       "    </tr>\n",
       "    <tr>\n",
       "      <th>2004-08-24</th>\n",
       "      <td>52.487488</td>\n",
       "      <td>52.487488</td>\n",
       "      <td>55.855858</td>\n",
       "      <td>51.836838</td>\n",
       "      <td>55.675674</td>\n",
       "      <td>15247337.0</td>\n",
       "      <td>0.0</td>\n",
       "      <td>1.998</td>\n",
       "      <td>52.432933</td>\n",
       "      <td>52.692943</td>\n",
       "      <td>63.586987</td>\n",
       "      <td>55.781053</td>\n",
       "      <td>49.084813</td>\n",
       "      <td>56.933168</td>\n",
       "      <td>48.452718</td>\n",
       "      <td>88.331593</td>\n",
       "      <td>38.842381</td>\n",
       "    </tr>\n",
       "    <tr>\n",
       "      <th>2004-08-25</th>\n",
       "      <td>53.053055</td>\n",
       "      <td>53.053055</td>\n",
       "      <td>54.054054</td>\n",
       "      <td>51.991993</td>\n",
       "      <td>52.532532</td>\n",
       "      <td>9188602.0</td>\n",
       "      <td>0.0</td>\n",
       "      <td>1.998</td>\n",
       "      <td>52.432933</td>\n",
       "      <td>52.692943</td>\n",
       "      <td>63.586987</td>\n",
       "      <td>55.781053</td>\n",
       "      <td>49.084813</td>\n",
       "      <td>56.933168</td>\n",
       "      <td>48.452718</td>\n",
       "      <td>88.331593</td>\n",
       "      <td>38.842381</td>\n",
       "    </tr>\n",
       "  </tbody>\n",
       "</table>\n",
       "</div>"
      ],
      "text/plain": [
       "            Adj Close      Close       High        Low       Open      Volume  \\\n",
       "Date                                                                            \n",
       "2004-08-19  50.220219  50.220219  52.082081  48.028027  50.050049  44659096.0   \n",
       "2004-08-20  54.209209  54.209209  54.594597  50.300301  50.555557  22834343.0   \n",
       "2004-08-23  54.754753  54.754753  56.796799  54.579578  55.430431  18256126.0   \n",
       "2004-08-24  52.487488  52.487488  55.855858  51.836838  55.675674  15247337.0   \n",
       "2004-08-25  53.053055  53.053055  54.054054  51.991993  52.532532   9188602.0   \n",
       "\n",
       "            Dividends  Stock Splits   10_ac_ma   20_ac_ma   50_ac_ma  \\\n",
       "Date                                                                   \n",
       "2004-08-19        0.0         1.998  52.432933  52.692943  63.586987   \n",
       "2004-08-20        0.0         1.998  52.432933  52.692943  63.586987   \n",
       "2004-08-23        0.0         1.998  52.432933  52.692943  63.586987   \n",
       "2004-08-24        0.0         1.998  52.432933  52.692943  63.586987   \n",
       "2004-08-25        0.0         1.998  52.432933  52.692943  63.586987   \n",
       "\n",
       "            10_ac_bb_u  10_ac_bb_l  20_ac_bb_u  20_ac_bb_l  50_ac_bb_u  \\\n",
       "Date                                                                     \n",
       "2004-08-19   55.781053   49.084813   56.933168   48.452718   88.331593   \n",
       "2004-08-20   55.781053   49.084813   56.933168   48.452718   88.331593   \n",
       "2004-08-23   55.781053   49.084813   56.933168   48.452718   88.331593   \n",
       "2004-08-24   55.781053   49.084813   56.933168   48.452718   88.331593   \n",
       "2004-08-25   55.781053   49.084813   56.933168   48.452718   88.331593   \n",
       "\n",
       "            50_ac_bb_l  \n",
       "Date                    \n",
       "2004-08-19   38.842381  \n",
       "2004-08-20   38.842381  \n",
       "2004-08-23   38.842381  \n",
       "2004-08-24   38.842381  \n",
       "2004-08-25   38.842381  "
      ]
     },
     "execution_count": 159,
     "metadata": {},
     "output_type": "execute_result"
    }
   ],
   "source": [
    "df_googl_test.head()"
   ]
  },
  {
   "cell_type": "code",
   "execution_count": 160,
   "id": "south-integrity",
   "metadata": {},
   "outputs": [
    {
     "data": {
      "text/html": [
       "<div>\n",
       "<style scoped>\n",
       "    .dataframe tbody tr th:only-of-type {\n",
       "        vertical-align: middle;\n",
       "    }\n",
       "\n",
       "    .dataframe tbody tr th {\n",
       "        vertical-align: top;\n",
       "    }\n",
       "\n",
       "    .dataframe thead th {\n",
       "        text-align: right;\n",
       "    }\n",
       "</style>\n",
       "<table border=\"1\" class=\"dataframe\">\n",
       "  <thead>\n",
       "    <tr style=\"text-align: right;\">\n",
       "      <th></th>\n",
       "      <th>Adj Close</th>\n",
       "      <th>Close</th>\n",
       "      <th>High</th>\n",
       "      <th>Low</th>\n",
       "      <th>Open</th>\n",
       "      <th>Volume</th>\n",
       "      <th>Dividends</th>\n",
       "      <th>Stock Splits</th>\n",
       "      <th>10_ac_ma</th>\n",
       "      <th>20_ac_ma</th>\n",
       "      <th>50_ac_ma</th>\n",
       "      <th>10_ac_bb_u</th>\n",
       "      <th>10_ac_bb_l</th>\n",
       "      <th>20_ac_bb_u</th>\n",
       "      <th>20_ac_bb_l</th>\n",
       "      <th>50_ac_bb_u</th>\n",
       "      <th>50_ac_bb_l</th>\n",
       "    </tr>\n",
       "    <tr>\n",
       "      <th>Date</th>\n",
       "      <th></th>\n",
       "      <th></th>\n",
       "      <th></th>\n",
       "      <th></th>\n",
       "      <th></th>\n",
       "      <th></th>\n",
       "      <th></th>\n",
       "      <th></th>\n",
       "      <th></th>\n",
       "      <th></th>\n",
       "      <th></th>\n",
       "      <th></th>\n",
       "      <th></th>\n",
       "      <th></th>\n",
       "      <th></th>\n",
       "      <th></th>\n",
       "      <th></th>\n",
       "    </tr>\n",
       "  </thead>\n",
       "  <tbody>\n",
       "    <tr>\n",
       "      <th>2021-03-29</th>\n",
       "      <td>2045.790039</td>\n",
       "      <td>2045.790039</td>\n",
       "      <td>2049.209961</td>\n",
       "      <td>2005.449951</td>\n",
       "      <td>2022.160034</td>\n",
       "      <td>1324600.0</td>\n",
       "      <td>NaN</td>\n",
       "      <td>NaN</td>\n",
       "      <td>2042.193970</td>\n",
       "      <td>2045.892987</td>\n",
       "      <td>2011.236191</td>\n",
       "      <td>2087.638685</td>\n",
       "      <td>1996.749255</td>\n",
       "      <td>2099.706184</td>\n",
       "      <td>1992.079790</td>\n",
       "      <td>2202.333129</td>\n",
       "      <td>1820.139254</td>\n",
       "    </tr>\n",
       "    <tr>\n",
       "      <th>2021-03-30</th>\n",
       "      <td>2046.469971</td>\n",
       "      <td>2046.469971</td>\n",
       "      <td>2062.669922</td>\n",
       "      <td>2036.150024</td>\n",
       "      <td>2052.979980</td>\n",
       "      <td>1365600.0</td>\n",
       "      <td>NaN</td>\n",
       "      <td>NaN</td>\n",
       "      <td>2038.451978</td>\n",
       "      <td>2044.992487</td>\n",
       "      <td>2017.613191</td>\n",
       "      <td>2073.643257</td>\n",
       "      <td>2003.260698</td>\n",
       "      <td>2098.094126</td>\n",
       "      <td>1991.890848</td>\n",
       "      <td>2190.491808</td>\n",
       "      <td>1844.734574</td>\n",
       "    </tr>\n",
       "    <tr>\n",
       "      <th>2021-03-31</th>\n",
       "      <td>2062.520020</td>\n",
       "      <td>2062.520020</td>\n",
       "      <td>2086.260010</td>\n",
       "      <td>2047.000000</td>\n",
       "      <td>2054.399902</td>\n",
       "      <td>2128500.0</td>\n",
       "      <td>NaN</td>\n",
       "      <td>NaN</td>\n",
       "      <td>2036.481982</td>\n",
       "      <td>2047.547986</td>\n",
       "      <td>2023.174192</td>\n",
       "      <td>2061.526685</td>\n",
       "      <td>2011.437280</td>\n",
       "      <td>2098.729389</td>\n",
       "      <td>1996.366583</td>\n",
       "      <td>2182.824467</td>\n",
       "      <td>1863.523917</td>\n",
       "    </tr>\n",
       "    <tr>\n",
       "      <th>2021-04-01</th>\n",
       "      <td>2129.780029</td>\n",
       "      <td>2129.780029</td>\n",
       "      <td>2135.750000</td>\n",
       "      <td>2091.429932</td>\n",
       "      <td>2092.250000</td>\n",
       "      <td>1994000.0</td>\n",
       "      <td>NaN</td>\n",
       "      <td>NaN</td>\n",
       "      <td>2047.325989</td>\n",
       "      <td>2052.340485</td>\n",
       "      <td>2028.168394</td>\n",
       "      <td>2109.546399</td>\n",
       "      <td>1985.105579</td>\n",
       "      <td>2114.849593</td>\n",
       "      <td>1989.831376</td>\n",
       "      <td>2185.147387</td>\n",
       "      <td>1871.189401</td>\n",
       "    </tr>\n",
       "    <tr>\n",
       "      <th>2021-04-05</th>\n",
       "      <td>2218.959961</td>\n",
       "      <td>2218.959961</td>\n",
       "      <td>2228.989990</td>\n",
       "      <td>2145.209961</td>\n",
       "      <td>2147.149902</td>\n",
       "      <td>2425500.0</td>\n",
       "      <td>NaN</td>\n",
       "      <td>NaN</td>\n",
       "      <td>2066.525989</td>\n",
       "      <td>2058.434979</td>\n",
       "      <td>2034.864592</td>\n",
       "      <td>2189.575480</td>\n",
       "      <td>1943.476497</td>\n",
       "      <td>2154.218236</td>\n",
       "      <td>1962.651723</td>\n",
       "      <td>2195.294532</td>\n",
       "      <td>1874.434652</td>\n",
       "    </tr>\n",
       "  </tbody>\n",
       "</table>\n",
       "</div>"
      ],
      "text/plain": [
       "              Adj Close        Close         High          Low         Open  \\\n",
       "Date                                                                          \n",
       "2021-03-29  2045.790039  2045.790039  2049.209961  2005.449951  2022.160034   \n",
       "2021-03-30  2046.469971  2046.469971  2062.669922  2036.150024  2052.979980   \n",
       "2021-03-31  2062.520020  2062.520020  2086.260010  2047.000000  2054.399902   \n",
       "2021-04-01  2129.780029  2129.780029  2135.750000  2091.429932  2092.250000   \n",
       "2021-04-05  2218.959961  2218.959961  2228.989990  2145.209961  2147.149902   \n",
       "\n",
       "               Volume  Dividends  Stock Splits     10_ac_ma     20_ac_ma  \\\n",
       "Date                                                                       \n",
       "2021-03-29  1324600.0        NaN           NaN  2042.193970  2045.892987   \n",
       "2021-03-30  1365600.0        NaN           NaN  2038.451978  2044.992487   \n",
       "2021-03-31  2128500.0        NaN           NaN  2036.481982  2047.547986   \n",
       "2021-04-01  1994000.0        NaN           NaN  2047.325989  2052.340485   \n",
       "2021-04-05  2425500.0        NaN           NaN  2066.525989  2058.434979   \n",
       "\n",
       "               50_ac_ma   10_ac_bb_u   10_ac_bb_l   20_ac_bb_u   20_ac_bb_l  \\\n",
       "Date                                                                          \n",
       "2021-03-29  2011.236191  2087.638685  1996.749255  2099.706184  1992.079790   \n",
       "2021-03-30  2017.613191  2073.643257  2003.260698  2098.094126  1991.890848   \n",
       "2021-03-31  2023.174192  2061.526685  2011.437280  2098.729389  1996.366583   \n",
       "2021-04-01  2028.168394  2109.546399  1985.105579  2114.849593  1989.831376   \n",
       "2021-04-05  2034.864592  2189.575480  1943.476497  2154.218236  1962.651723   \n",
       "\n",
       "             50_ac_bb_u   50_ac_bb_l  \n",
       "Date                                  \n",
       "2021-03-29  2202.333129  1820.139254  \n",
       "2021-03-30  2190.491808  1844.734574  \n",
       "2021-03-31  2182.824467  1863.523917  \n",
       "2021-04-01  2185.147387  1871.189401  \n",
       "2021-04-05  2195.294532  1874.434652  "
      ]
     },
     "execution_count": 160,
     "metadata": {},
     "output_type": "execute_result"
    }
   ],
   "source": [
    "df_googl_valid.head()"
   ]
  },
  {
   "cell_type": "markdown",
   "id": "scenic-spokesman",
   "metadata": {},
   "source": [
    "### Test and Validation Data sets Retro-fix"
   ]
  },
  {
   "cell_type": "markdown",
   "id": "moved-undergraduate",
   "metadata": {},
   "source": [
    "It is clear that the above initialized values has introduced some kind of data leakage into test and validation data sets, from the moment that SMA computation should be stopped at the end of train time series. In order to solve this issue, I will set all the simple moving average values in the validation set and in the last part (last 20 values) of test set to the value of the last one in the training set."
   ]
  },
  {
   "cell_type": "markdown",
   "id": "offshore-reconstruction",
   "metadata": {},
   "source": [
    "#### IBM Data"
   ]
  },
  {
   "cell_type": "code",
   "execution_count": 161,
   "id": "enormous-tribe",
   "metadata": {},
   "outputs": [],
   "source": [
    "# set moving average and Bollinger bands columns values to same values in last test set record\n",
    "for mds in win_szs:\n",
    "    ma_column_name = \"%s_ac_ma\" %(str(mds))\n",
    "    df_ibm_valid[ma_column_name] = df_ibm_train[ma_column_name][-1]\n",
    "    bb_column_name_u = \"%s_ac_bb_u\" %(str(mds))\n",
    "    df_ibm_valid[bb_column_name_u] = df_ibm_train[bb_column_name_u][-1]\n",
    "    bb_column_name_l = \"%s_ac_bb_l\" %(str(mds))\n",
    "    df_ibm_valid[bb_column_name_l] = df_ibm_train[bb_column_name_l][-1]"
   ]
  },
  {
   "cell_type": "markdown",
   "id": "sitting-partner",
   "metadata": {},
   "source": [
    "#### AAPL Validation Data"
   ]
  },
  {
   "cell_type": "code",
   "execution_count": 162,
   "id": "economic-boulder",
   "metadata": {},
   "outputs": [],
   "source": [
    "# set moving average and Bollinger bands columns values to same values in last test set record\n",
    "# set moving average and Bollinger bands columns values to same values in last test set record\n",
    "for mds in win_szs:\n",
    "    ma_column_name = \"%s_ac_ma\" %(str(mds))\n",
    "    df_aapl_valid[ma_column_name] = df_aapl_train[ma_column_name][-1]\n",
    "    bb_column_name_u = \"%s_ac_bb_u\" %(str(mds))\n",
    "    df_aapl_valid[bb_column_name_u] = df_aapl_train[bb_column_name_u][-1]\n",
    "    bb_column_name_l = \"%s_ac_bb_l\" %(str(mds))\n",
    "    df_aapl_valid[bb_column_name_l] = df_aapl_train[bb_column_name_l][-1]"
   ]
  },
  {
   "cell_type": "code",
   "execution_count": 163,
   "id": "deadly-costa",
   "metadata": {},
   "outputs": [
    {
     "data": {
      "text/html": [
       "<div>\n",
       "<style scoped>\n",
       "    .dataframe tbody tr th:only-of-type {\n",
       "        vertical-align: middle;\n",
       "    }\n",
       "\n",
       "    .dataframe tbody tr th {\n",
       "        vertical-align: top;\n",
       "    }\n",
       "\n",
       "    .dataframe thead th {\n",
       "        text-align: right;\n",
       "    }\n",
       "</style>\n",
       "<table border=\"1\" class=\"dataframe\">\n",
       "  <thead>\n",
       "    <tr style=\"text-align: right;\">\n",
       "      <th></th>\n",
       "      <th>Adj Close</th>\n",
       "      <th>Close</th>\n",
       "      <th>High</th>\n",
       "      <th>Low</th>\n",
       "      <th>Open</th>\n",
       "      <th>Volume</th>\n",
       "      <th>Dividends</th>\n",
       "      <th>Stock Splits</th>\n",
       "      <th>10_ac_ma</th>\n",
       "      <th>20_ac_ma</th>\n",
       "      <th>50_ac_ma</th>\n",
       "      <th>10_ac_bb_u</th>\n",
       "      <th>10_ac_bb_l</th>\n",
       "      <th>20_ac_bb_u</th>\n",
       "      <th>20_ac_bb_l</th>\n",
       "      <th>50_ac_bb_u</th>\n",
       "      <th>50_ac_bb_l</th>\n",
       "    </tr>\n",
       "    <tr>\n",
       "      <th>Date</th>\n",
       "      <th></th>\n",
       "      <th></th>\n",
       "      <th></th>\n",
       "      <th></th>\n",
       "      <th></th>\n",
       "      <th></th>\n",
       "      <th></th>\n",
       "      <th></th>\n",
       "      <th></th>\n",
       "      <th></th>\n",
       "      <th></th>\n",
       "      <th></th>\n",
       "      <th></th>\n",
       "      <th></th>\n",
       "      <th></th>\n",
       "      <th></th>\n",
       "      <th></th>\n",
       "    </tr>\n",
       "  </thead>\n",
       "  <tbody>\n",
       "    <tr>\n",
       "      <th>2021-03-29</th>\n",
       "      <td>121.389999</td>\n",
       "      <td>121.389999</td>\n",
       "      <td>122.580002</td>\n",
       "      <td>120.730003</td>\n",
       "      <td>121.650002</td>\n",
       "      <td>80819200.0</td>\n",
       "      <td>NaN</td>\n",
       "      <td>NaN</td>\n",
       "      <td>127.843999</td>\n",
       "      <td>131.502835</td>\n",
       "      <td>131.838728</td>\n",
       "      <td>137.404706</td>\n",
       "      <td>118.283293</td>\n",
       "      <td>141.753261</td>\n",
       "      <td>121.252408</td>\n",
       "      <td>141.634587</td>\n",
       "      <td>122.04287</td>\n",
       "    </tr>\n",
       "    <tr>\n",
       "      <th>2021-03-30</th>\n",
       "      <td>119.900002</td>\n",
       "      <td>119.900002</td>\n",
       "      <td>120.400002</td>\n",
       "      <td>118.860001</td>\n",
       "      <td>120.110001</td>\n",
       "      <td>85671900.0</td>\n",
       "      <td>NaN</td>\n",
       "      <td>NaN</td>\n",
       "      <td>127.843999</td>\n",
       "      <td>131.502835</td>\n",
       "      <td>131.838728</td>\n",
       "      <td>137.404706</td>\n",
       "      <td>118.283293</td>\n",
       "      <td>141.753261</td>\n",
       "      <td>121.252408</td>\n",
       "      <td>141.634587</td>\n",
       "      <td>122.04287</td>\n",
       "    </tr>\n",
       "    <tr>\n",
       "      <th>2021-03-31</th>\n",
       "      <td>122.150002</td>\n",
       "      <td>122.150002</td>\n",
       "      <td>123.519997</td>\n",
       "      <td>121.150002</td>\n",
       "      <td>121.650002</td>\n",
       "      <td>118323800.0</td>\n",
       "      <td>NaN</td>\n",
       "      <td>NaN</td>\n",
       "      <td>127.843999</td>\n",
       "      <td>131.502835</td>\n",
       "      <td>131.838728</td>\n",
       "      <td>137.404706</td>\n",
       "      <td>118.283293</td>\n",
       "      <td>141.753261</td>\n",
       "      <td>121.252408</td>\n",
       "      <td>141.634587</td>\n",
       "      <td>122.04287</td>\n",
       "    </tr>\n",
       "    <tr>\n",
       "      <th>2021-04-01</th>\n",
       "      <td>123.000000</td>\n",
       "      <td>123.000000</td>\n",
       "      <td>124.180000</td>\n",
       "      <td>122.489998</td>\n",
       "      <td>123.660004</td>\n",
       "      <td>74957400.0</td>\n",
       "      <td>NaN</td>\n",
       "      <td>NaN</td>\n",
       "      <td>127.843999</td>\n",
       "      <td>131.502835</td>\n",
       "      <td>131.838728</td>\n",
       "      <td>137.404706</td>\n",
       "      <td>118.283293</td>\n",
       "      <td>141.753261</td>\n",
       "      <td>121.252408</td>\n",
       "      <td>141.634587</td>\n",
       "      <td>122.04287</td>\n",
       "    </tr>\n",
       "    <tr>\n",
       "      <th>2021-04-05</th>\n",
       "      <td>125.900002</td>\n",
       "      <td>125.900002</td>\n",
       "      <td>126.160004</td>\n",
       "      <td>123.070000</td>\n",
       "      <td>123.870003</td>\n",
       "      <td>88651200.0</td>\n",
       "      <td>NaN</td>\n",
       "      <td>NaN</td>\n",
       "      <td>127.843999</td>\n",
       "      <td>131.502835</td>\n",
       "      <td>131.838728</td>\n",
       "      <td>137.404706</td>\n",
       "      <td>118.283293</td>\n",
       "      <td>141.753261</td>\n",
       "      <td>121.252408</td>\n",
       "      <td>141.634587</td>\n",
       "      <td>122.04287</td>\n",
       "    </tr>\n",
       "  </tbody>\n",
       "</table>\n",
       "</div>"
      ],
      "text/plain": [
       "             Adj Close       Close        High         Low        Open  \\\n",
       "Date                                                                     \n",
       "2021-03-29  121.389999  121.389999  122.580002  120.730003  121.650002   \n",
       "2021-03-30  119.900002  119.900002  120.400002  118.860001  120.110001   \n",
       "2021-03-31  122.150002  122.150002  123.519997  121.150002  121.650002   \n",
       "2021-04-01  123.000000  123.000000  124.180000  122.489998  123.660004   \n",
       "2021-04-05  125.900002  125.900002  126.160004  123.070000  123.870003   \n",
       "\n",
       "                 Volume  Dividends  Stock Splits    10_ac_ma    20_ac_ma  \\\n",
       "Date                                                                       \n",
       "2021-03-29   80819200.0        NaN           NaN  127.843999  131.502835   \n",
       "2021-03-30   85671900.0        NaN           NaN  127.843999  131.502835   \n",
       "2021-03-31  118323800.0        NaN           NaN  127.843999  131.502835   \n",
       "2021-04-01   74957400.0        NaN           NaN  127.843999  131.502835   \n",
       "2021-04-05   88651200.0        NaN           NaN  127.843999  131.502835   \n",
       "\n",
       "              50_ac_ma  10_ac_bb_u  10_ac_bb_l  20_ac_bb_u  20_ac_bb_l  \\\n",
       "Date                                                                     \n",
       "2021-03-29  131.838728  137.404706  118.283293  141.753261  121.252408   \n",
       "2021-03-30  131.838728  137.404706  118.283293  141.753261  121.252408   \n",
       "2021-03-31  131.838728  137.404706  118.283293  141.753261  121.252408   \n",
       "2021-04-01  131.838728  137.404706  118.283293  141.753261  121.252408   \n",
       "2021-04-05  131.838728  137.404706  118.283293  141.753261  121.252408   \n",
       "\n",
       "            50_ac_bb_u  50_ac_bb_l  \n",
       "Date                                \n",
       "2021-03-29  141.634587   122.04287  \n",
       "2021-03-30  141.634587   122.04287  \n",
       "2021-03-31  141.634587   122.04287  \n",
       "2021-04-01  141.634587   122.04287  \n",
       "2021-04-05  141.634587   122.04287  "
      ]
     },
     "execution_count": 163,
     "metadata": {},
     "output_type": "execute_result"
    }
   ],
   "source": [
    "df_aapl_valid.head()"
   ]
  },
  {
   "cell_type": "markdown",
   "id": "martial-petersburg",
   "metadata": {},
   "source": [
    "#### AMZN Validation Data"
   ]
  },
  {
   "cell_type": "code",
   "execution_count": 164,
   "id": "cosmetic-middle",
   "metadata": {},
   "outputs": [],
   "source": [
    "# set moving average and Bollinger bands columns values to same values in last test set record\n",
    "for mds in win_szs:\n",
    "    ma_column_name = \"%s_ac_ma\" %(str(mds))\n",
    "    df_amzn_valid[ma_column_name] = df_amzn_train[ma_column_name][-1]\n",
    "    bb_column_name_u = \"%s_ac_bb_u\" %(str(mds))\n",
    "    df_amzn_valid[bb_column_name_u] = df_amzn_train[bb_column_name_u][-1]\n",
    "    bb_column_name_l = \"%s_ac_bb_l\" %(str(mds))\n",
    "    df_amzn_valid[bb_column_name_l] = df_amzn_train[bb_column_name_l][-1]"
   ]
  },
  {
   "cell_type": "code",
   "execution_count": 165,
   "id": "mobile-twelve",
   "metadata": {},
   "outputs": [
    {
     "data": {
      "text/html": [
       "<div>\n",
       "<style scoped>\n",
       "    .dataframe tbody tr th:only-of-type {\n",
       "        vertical-align: middle;\n",
       "    }\n",
       "\n",
       "    .dataframe tbody tr th {\n",
       "        vertical-align: top;\n",
       "    }\n",
       "\n",
       "    .dataframe thead th {\n",
       "        text-align: right;\n",
       "    }\n",
       "</style>\n",
       "<table border=\"1\" class=\"dataframe\">\n",
       "  <thead>\n",
       "    <tr style=\"text-align: right;\">\n",
       "      <th></th>\n",
       "      <th>Adj Close</th>\n",
       "      <th>Close</th>\n",
       "      <th>High</th>\n",
       "      <th>Low</th>\n",
       "      <th>Open</th>\n",
       "      <th>Volume</th>\n",
       "      <th>Dividends</th>\n",
       "      <th>Stock Splits</th>\n",
       "      <th>10_ac_ma</th>\n",
       "      <th>20_ac_ma</th>\n",
       "      <th>50_ac_ma</th>\n",
       "      <th>10_ac_bb_u</th>\n",
       "      <th>10_ac_bb_l</th>\n",
       "      <th>20_ac_bb_u</th>\n",
       "      <th>20_ac_bb_l</th>\n",
       "      <th>50_ac_bb_u</th>\n",
       "      <th>50_ac_bb_l</th>\n",
       "    </tr>\n",
       "    <tr>\n",
       "      <th>Date</th>\n",
       "      <th></th>\n",
       "      <th></th>\n",
       "      <th></th>\n",
       "      <th></th>\n",
       "      <th></th>\n",
       "      <th></th>\n",
       "      <th></th>\n",
       "      <th></th>\n",
       "      <th></th>\n",
       "      <th></th>\n",
       "      <th></th>\n",
       "      <th></th>\n",
       "      <th></th>\n",
       "      <th></th>\n",
       "      <th></th>\n",
       "      <th></th>\n",
       "      <th></th>\n",
       "    </tr>\n",
       "  </thead>\n",
       "  <tbody>\n",
       "    <tr>\n",
       "      <th>2021-03-29</th>\n",
       "      <td>3075.729980</td>\n",
       "      <td>3075.729980</td>\n",
       "      <td>3091.250000</td>\n",
       "      <td>3028.449951</td>\n",
       "      <td>3055.439941</td>\n",
       "      <td>2746000.0</td>\n",
       "      <td>NaN</td>\n",
       "      <td>NaN</td>\n",
       "      <td>3211.828955</td>\n",
       "      <td>3260.984961</td>\n",
       "      <td>3231.552573</td>\n",
       "      <td>3393.225455</td>\n",
       "      <td>3030.432455</td>\n",
       "      <td>3435.325008</td>\n",
       "      <td>3086.644913</td>\n",
       "      <td>3387.91579</td>\n",
       "      <td>3075.189357</td>\n",
       "    </tr>\n",
       "    <tr>\n",
       "      <th>2021-03-30</th>\n",
       "      <td>3055.290039</td>\n",
       "      <td>3055.290039</td>\n",
       "      <td>3073.000000</td>\n",
       "      <td>3034.000000</td>\n",
       "      <td>3070.010010</td>\n",
       "      <td>2337600.0</td>\n",
       "      <td>NaN</td>\n",
       "      <td>NaN</td>\n",
       "      <td>3211.828955</td>\n",
       "      <td>3260.984961</td>\n",
       "      <td>3231.552573</td>\n",
       "      <td>3393.225455</td>\n",
       "      <td>3030.432455</td>\n",
       "      <td>3435.325008</td>\n",
       "      <td>3086.644913</td>\n",
       "      <td>3387.91579</td>\n",
       "      <td>3075.189357</td>\n",
       "    </tr>\n",
       "    <tr>\n",
       "      <th>2021-03-31</th>\n",
       "      <td>3094.080078</td>\n",
       "      <td>3094.080078</td>\n",
       "      <td>3119.330078</td>\n",
       "      <td>3062.500000</td>\n",
       "      <td>3064.060059</td>\n",
       "      <td>3093900.0</td>\n",
       "      <td>NaN</td>\n",
       "      <td>NaN</td>\n",
       "      <td>3211.828955</td>\n",
       "      <td>3260.984961</td>\n",
       "      <td>3231.552573</td>\n",
       "      <td>3393.225455</td>\n",
       "      <td>3030.432455</td>\n",
       "      <td>3435.325008</td>\n",
       "      <td>3086.644913</td>\n",
       "      <td>3387.91579</td>\n",
       "      <td>3075.189357</td>\n",
       "    </tr>\n",
       "    <tr>\n",
       "      <th>2021-04-01</th>\n",
       "      <td>3161.000000</td>\n",
       "      <td>3161.000000</td>\n",
       "      <td>3162.439941</td>\n",
       "      <td>3115.550049</td>\n",
       "      <td>3117.939941</td>\n",
       "      <td>2940300.0</td>\n",
       "      <td>NaN</td>\n",
       "      <td>NaN</td>\n",
       "      <td>3211.828955</td>\n",
       "      <td>3260.984961</td>\n",
       "      <td>3231.552573</td>\n",
       "      <td>3393.225455</td>\n",
       "      <td>3030.432455</td>\n",
       "      <td>3435.325008</td>\n",
       "      <td>3086.644913</td>\n",
       "      <td>3387.91579</td>\n",
       "      <td>3075.189357</td>\n",
       "    </tr>\n",
       "    <tr>\n",
       "      <th>2021-04-05</th>\n",
       "      <td>3226.729980</td>\n",
       "      <td>3226.729980</td>\n",
       "      <td>3235.959961</td>\n",
       "      <td>3161.239990</td>\n",
       "      <td>3173.000000</td>\n",
       "      <td>3334900.0</td>\n",
       "      <td>NaN</td>\n",
       "      <td>NaN</td>\n",
       "      <td>3211.828955</td>\n",
       "      <td>3260.984961</td>\n",
       "      <td>3231.552573</td>\n",
       "      <td>3393.225455</td>\n",
       "      <td>3030.432455</td>\n",
       "      <td>3435.325008</td>\n",
       "      <td>3086.644913</td>\n",
       "      <td>3387.91579</td>\n",
       "      <td>3075.189357</td>\n",
       "    </tr>\n",
       "  </tbody>\n",
       "</table>\n",
       "</div>"
      ],
      "text/plain": [
       "              Adj Close        Close         High          Low         Open  \\\n",
       "Date                                                                          \n",
       "2021-03-29  3075.729980  3075.729980  3091.250000  3028.449951  3055.439941   \n",
       "2021-03-30  3055.290039  3055.290039  3073.000000  3034.000000  3070.010010   \n",
       "2021-03-31  3094.080078  3094.080078  3119.330078  3062.500000  3064.060059   \n",
       "2021-04-01  3161.000000  3161.000000  3162.439941  3115.550049  3117.939941   \n",
       "2021-04-05  3226.729980  3226.729980  3235.959961  3161.239990  3173.000000   \n",
       "\n",
       "               Volume  Dividends  Stock Splits     10_ac_ma     20_ac_ma  \\\n",
       "Date                                                                       \n",
       "2021-03-29  2746000.0        NaN           NaN  3211.828955  3260.984961   \n",
       "2021-03-30  2337600.0        NaN           NaN  3211.828955  3260.984961   \n",
       "2021-03-31  3093900.0        NaN           NaN  3211.828955  3260.984961   \n",
       "2021-04-01  2940300.0        NaN           NaN  3211.828955  3260.984961   \n",
       "2021-04-05  3334900.0        NaN           NaN  3211.828955  3260.984961   \n",
       "\n",
       "               50_ac_ma   10_ac_bb_u   10_ac_bb_l   20_ac_bb_u   20_ac_bb_l  \\\n",
       "Date                                                                          \n",
       "2021-03-29  3231.552573  3393.225455  3030.432455  3435.325008  3086.644913   \n",
       "2021-03-30  3231.552573  3393.225455  3030.432455  3435.325008  3086.644913   \n",
       "2021-03-31  3231.552573  3393.225455  3030.432455  3435.325008  3086.644913   \n",
       "2021-04-01  3231.552573  3393.225455  3030.432455  3435.325008  3086.644913   \n",
       "2021-04-05  3231.552573  3393.225455  3030.432455  3435.325008  3086.644913   \n",
       "\n",
       "            50_ac_bb_u   50_ac_bb_l  \n",
       "Date                                 \n",
       "2021-03-29  3387.91579  3075.189357  \n",
       "2021-03-30  3387.91579  3075.189357  \n",
       "2021-03-31  3387.91579  3075.189357  \n",
       "2021-04-01  3387.91579  3075.189357  \n",
       "2021-04-05  3387.91579  3075.189357  "
      ]
     },
     "execution_count": 165,
     "metadata": {},
     "output_type": "execute_result"
    }
   ],
   "source": [
    "df_amzn_valid.head()"
   ]
  },
  {
   "cell_type": "markdown",
   "id": "antique-tender",
   "metadata": {},
   "source": [
    "#### GOOGL Validation Data"
   ]
  },
  {
   "cell_type": "code",
   "execution_count": 166,
   "id": "armed-reality",
   "metadata": {},
   "outputs": [],
   "source": [
    "# set moving average and Bollinger bands columns values to same values in last test set record\n",
    "for mds in win_szs:\n",
    "    ma_column_name = \"%s_ac_ma\" %(str(mds))\n",
    "    df_googl_valid[ma_column_name] = df_googl_train[ma_column_name][-1]\n",
    "    bb_column_name_u = \"%s_ac_bb_u\" %(str(mds))\n",
    "    df_googl_valid[bb_column_name_u] = df_googl_train[bb_column_name_u][-1]\n",
    "    bb_column_name_l = \"%s_ac_bb_l\" %(str(mds))\n",
    "    df_googl_valid[bb_column_name_l] = df_googl_train[bb_column_name_l][-1]"
   ]
  },
  {
   "cell_type": "code",
   "execution_count": 167,
   "id": "considerable-strengthening",
   "metadata": {},
   "outputs": [
    {
     "data": {
      "text/html": [
       "<div>\n",
       "<style scoped>\n",
       "    .dataframe tbody tr th:only-of-type {\n",
       "        vertical-align: middle;\n",
       "    }\n",
       "\n",
       "    .dataframe tbody tr th {\n",
       "        vertical-align: top;\n",
       "    }\n",
       "\n",
       "    .dataframe thead th {\n",
       "        text-align: right;\n",
       "    }\n",
       "</style>\n",
       "<table border=\"1\" class=\"dataframe\">\n",
       "  <thead>\n",
       "    <tr style=\"text-align: right;\">\n",
       "      <th></th>\n",
       "      <th>Adj Close</th>\n",
       "      <th>Close</th>\n",
       "      <th>High</th>\n",
       "      <th>Low</th>\n",
       "      <th>Open</th>\n",
       "      <th>Volume</th>\n",
       "      <th>Dividends</th>\n",
       "      <th>Stock Splits</th>\n",
       "      <th>10_ac_ma</th>\n",
       "      <th>20_ac_ma</th>\n",
       "      <th>50_ac_ma</th>\n",
       "      <th>10_ac_bb_u</th>\n",
       "      <th>10_ac_bb_l</th>\n",
       "      <th>20_ac_bb_u</th>\n",
       "      <th>20_ac_bb_l</th>\n",
       "      <th>50_ac_bb_u</th>\n",
       "      <th>50_ac_bb_l</th>\n",
       "    </tr>\n",
       "    <tr>\n",
       "      <th>Date</th>\n",
       "      <th></th>\n",
       "      <th></th>\n",
       "      <th></th>\n",
       "      <th></th>\n",
       "      <th></th>\n",
       "      <th></th>\n",
       "      <th></th>\n",
       "      <th></th>\n",
       "      <th></th>\n",
       "      <th></th>\n",
       "      <th></th>\n",
       "      <th></th>\n",
       "      <th></th>\n",
       "      <th></th>\n",
       "      <th></th>\n",
       "      <th></th>\n",
       "      <th></th>\n",
       "    </tr>\n",
       "  </thead>\n",
       "  <tbody>\n",
       "    <tr>\n",
       "      <th>2021-03-29</th>\n",
       "      <td>2045.790039</td>\n",
       "      <td>2045.790039</td>\n",
       "      <td>2049.209961</td>\n",
       "      <td>2005.449951</td>\n",
       "      <td>2022.160034</td>\n",
       "      <td>1324600.0</td>\n",
       "      <td>NaN</td>\n",
       "      <td>NaN</td>\n",
       "      <td>2075.502039</td>\n",
       "      <td>2046.552502</td>\n",
       "      <td>1884.603799</td>\n",
       "      <td>2147.768484</td>\n",
       "      <td>2003.235593</td>\n",
       "      <td>2202.561915</td>\n",
       "      <td>1890.54309</td>\n",
       "      <td>2183.58537</td>\n",
       "      <td>1585.622228</td>\n",
       "    </tr>\n",
       "    <tr>\n",
       "      <th>2021-03-30</th>\n",
       "      <td>2046.469971</td>\n",
       "      <td>2046.469971</td>\n",
       "      <td>2062.669922</td>\n",
       "      <td>2036.150024</td>\n",
       "      <td>2052.979980</td>\n",
       "      <td>1365600.0</td>\n",
       "      <td>NaN</td>\n",
       "      <td>NaN</td>\n",
       "      <td>2075.502039</td>\n",
       "      <td>2046.552502</td>\n",
       "      <td>1884.603799</td>\n",
       "      <td>2147.768484</td>\n",
       "      <td>2003.235593</td>\n",
       "      <td>2202.561915</td>\n",
       "      <td>1890.54309</td>\n",
       "      <td>2183.58537</td>\n",
       "      <td>1585.622228</td>\n",
       "    </tr>\n",
       "    <tr>\n",
       "      <th>2021-03-31</th>\n",
       "      <td>2062.520020</td>\n",
       "      <td>2062.520020</td>\n",
       "      <td>2086.260010</td>\n",
       "      <td>2047.000000</td>\n",
       "      <td>2054.399902</td>\n",
       "      <td>2128500.0</td>\n",
       "      <td>NaN</td>\n",
       "      <td>NaN</td>\n",
       "      <td>2075.502039</td>\n",
       "      <td>2046.552502</td>\n",
       "      <td>1884.603799</td>\n",
       "      <td>2147.768484</td>\n",
       "      <td>2003.235593</td>\n",
       "      <td>2202.561915</td>\n",
       "      <td>1890.54309</td>\n",
       "      <td>2183.58537</td>\n",
       "      <td>1585.622228</td>\n",
       "    </tr>\n",
       "    <tr>\n",
       "      <th>2021-04-01</th>\n",
       "      <td>2129.780029</td>\n",
       "      <td>2129.780029</td>\n",
       "      <td>2135.750000</td>\n",
       "      <td>2091.429932</td>\n",
       "      <td>2092.250000</td>\n",
       "      <td>1994000.0</td>\n",
       "      <td>NaN</td>\n",
       "      <td>NaN</td>\n",
       "      <td>2075.502039</td>\n",
       "      <td>2046.552502</td>\n",
       "      <td>1884.603799</td>\n",
       "      <td>2147.768484</td>\n",
       "      <td>2003.235593</td>\n",
       "      <td>2202.561915</td>\n",
       "      <td>1890.54309</td>\n",
       "      <td>2183.58537</td>\n",
       "      <td>1585.622228</td>\n",
       "    </tr>\n",
       "    <tr>\n",
       "      <th>2021-04-05</th>\n",
       "      <td>2218.959961</td>\n",
       "      <td>2218.959961</td>\n",
       "      <td>2228.989990</td>\n",
       "      <td>2145.209961</td>\n",
       "      <td>2147.149902</td>\n",
       "      <td>2425500.0</td>\n",
       "      <td>NaN</td>\n",
       "      <td>NaN</td>\n",
       "      <td>2075.502039</td>\n",
       "      <td>2046.552502</td>\n",
       "      <td>1884.603799</td>\n",
       "      <td>2147.768484</td>\n",
       "      <td>2003.235593</td>\n",
       "      <td>2202.561915</td>\n",
       "      <td>1890.54309</td>\n",
       "      <td>2183.58537</td>\n",
       "      <td>1585.622228</td>\n",
       "    </tr>\n",
       "  </tbody>\n",
       "</table>\n",
       "</div>"
      ],
      "text/plain": [
       "              Adj Close        Close         High          Low         Open  \\\n",
       "Date                                                                          \n",
       "2021-03-29  2045.790039  2045.790039  2049.209961  2005.449951  2022.160034   \n",
       "2021-03-30  2046.469971  2046.469971  2062.669922  2036.150024  2052.979980   \n",
       "2021-03-31  2062.520020  2062.520020  2086.260010  2047.000000  2054.399902   \n",
       "2021-04-01  2129.780029  2129.780029  2135.750000  2091.429932  2092.250000   \n",
       "2021-04-05  2218.959961  2218.959961  2228.989990  2145.209961  2147.149902   \n",
       "\n",
       "               Volume  Dividends  Stock Splits     10_ac_ma     20_ac_ma  \\\n",
       "Date                                                                       \n",
       "2021-03-29  1324600.0        NaN           NaN  2075.502039  2046.552502   \n",
       "2021-03-30  1365600.0        NaN           NaN  2075.502039  2046.552502   \n",
       "2021-03-31  2128500.0        NaN           NaN  2075.502039  2046.552502   \n",
       "2021-04-01  1994000.0        NaN           NaN  2075.502039  2046.552502   \n",
       "2021-04-05  2425500.0        NaN           NaN  2075.502039  2046.552502   \n",
       "\n",
       "               50_ac_ma   10_ac_bb_u   10_ac_bb_l   20_ac_bb_u  20_ac_bb_l  \\\n",
       "Date                                                                         \n",
       "2021-03-29  1884.603799  2147.768484  2003.235593  2202.561915  1890.54309   \n",
       "2021-03-30  1884.603799  2147.768484  2003.235593  2202.561915  1890.54309   \n",
       "2021-03-31  1884.603799  2147.768484  2003.235593  2202.561915  1890.54309   \n",
       "2021-04-01  1884.603799  2147.768484  2003.235593  2202.561915  1890.54309   \n",
       "2021-04-05  1884.603799  2147.768484  2003.235593  2202.561915  1890.54309   \n",
       "\n",
       "            50_ac_bb_u   50_ac_bb_l  \n",
       "Date                                 \n",
       "2021-03-29  2183.58537  1585.622228  \n",
       "2021-03-30  2183.58537  1585.622228  \n",
       "2021-03-31  2183.58537  1585.622228  \n",
       "2021-04-01  2183.58537  1585.622228  \n",
       "2021-04-05  2183.58537  1585.622228  "
      ]
     },
     "execution_count": 167,
     "metadata": {},
     "output_type": "execute_result"
    }
   ],
   "source": [
    "df_googl_valid.head()"
   ]
  },
  {
   "cell_type": "code",
   "execution_count": 168,
   "id": "native-subject",
   "metadata": {},
   "outputs": [],
   "source": [
    "n = 20\n",
    "ma_str = str(n)+'_ac_ma'"
   ]
  },
  {
   "cell_type": "markdown",
   "id": "inner-bacon",
   "metadata": {},
   "source": [
    "Now I'll initialize an array of moving average values on test and validation time series, to be used in future model comparison:"
   ]
  },
  {
   "cell_type": "code",
   "execution_count": 169,
   "id": "bacterial-salmon",
   "metadata": {},
   "outputs": [],
   "source": [
    "ser_valid_ma_bmk = [df_ibm_valid[:][ma_str], df_aapl_valid[:][ma_str], df_amzn_valid[:][ma_str], df_googl_valid[:][ma_str]]"
   ]
  },
  {
   "cell_type": "markdown",
   "id": "reserved-syracuse",
   "metadata": {},
   "source": [
    "For test set, the last `prediction_length[1] = 20` days will be used for benchmark:"
   ]
  },
  {
   "cell_type": "code",
   "execution_count": 170,
   "id": "dried-domain",
   "metadata": {},
   "outputs": [],
   "source": [
    "ser_test_ma_bmk = [df_ibm_valid[:][ma_str], df_aapl_valid[:][ma_str], df_amzn_valid[:][ma_str], df_googl_valid[:][ma_str]]"
   ]
  },
  {
   "cell_type": "markdown",
   "id": "renewable-pizza",
   "metadata": {},
   "source": [
    "Fixing time index in test data:"
   ]
  },
  {
   "cell_type": "code",
   "execution_count": 171,
   "id": "standing-rover",
   "metadata": {},
   "outputs": [],
   "source": [
    "ser_test_ma_bmk[0].index = df_ibm_test[-prediction_length[1]:].index\n",
    "ser_test_ma_bmk[1].index = df_aapl_test[-prediction_length[1]:].index\n",
    "ser_test_ma_bmk[2].index = df_amzn_test[-prediction_length[1]:].index\n",
    "ser_test_ma_bmk[3].index = df_googl_test[-prediction_length[1]:].index"
   ]
  },
  {
   "cell_type": "markdown",
   "id": "turned-independence",
   "metadata": {},
   "source": [
    "# Metrics computation"
   ]
  },
  {
   "cell_type": "markdown",
   "id": "rational-cornwall",
   "metadata": {},
   "source": [
    "Computing metrics on the benchmark model will give me a good reference to evaluate the deep learning model after training."
   ]
  },
  {
   "cell_type": "markdown",
   "id": "professional-democracy",
   "metadata": {},
   "source": [
    "In the cas"
   ]
  },
  {
   "cell_type": "markdown",
   "id": "described-jackson",
   "metadata": {},
   "source": [
    "As can be presumed and seen from data prints, first `n` values of validation data are `NaN` so, it will be better just to exclude the first `n-1` values from the validation set to avoid misleading values to be catch in metrics evaluation. "
   ]
  },
  {
   "cell_type": "code",
   "execution_count": 172,
   "id": "centered-falls",
   "metadata": {},
   "outputs": [],
   "source": [
    "from sklearn.metrics import mean_absolute_error, mean_squared_error, mean_absolute_percentage_error, r2_score"
   ]
  },
  {
   "cell_type": "markdown",
   "id": "acute-white",
   "metadata": {},
   "source": [
    "### Metrics performances on test data"
   ]
  },
  {
   "cell_type": "markdown",
   "id": "assumed-mixture",
   "metadata": {},
   "source": [
    "#### IBM stock"
   ]
  },
  {
   "cell_type": "code",
   "execution_count": 173,
   "id": "spatial-clone",
   "metadata": {},
   "outputs": [],
   "source": [
    "#n = 10\n",
    "#ma_str = str(n)+'_ac_ma'"
   ]
  },
  {
   "cell_type": "code",
   "execution_count": 174,
   "id": "central-resource",
   "metadata": {},
   "outputs": [],
   "source": [
    "#ibm_ma_mse_loss = mean_squared_error(df_ibm_valid.iloc[n-1:]['Adj Close'], df_ibm_valid.iloc[n-1:][ma_str])"
   ]
  },
  {
   "cell_type": "code",
   "execution_count": 175,
   "id": "thirty-inflation",
   "metadata": {},
   "outputs": [],
   "source": [
    "#print(ibm_ma_mse_loss)"
   ]
  },
  {
   "cell_type": "code",
   "execution_count": 176,
   "id": "aerial-customer",
   "metadata": {},
   "outputs": [],
   "source": [
    "n = 20\n",
    "ma_str = str(n)+'_ac_ma'"
   ]
  },
  {
   "cell_type": "markdown",
   "id": "diagnostic-blanket",
   "metadata": {},
   "source": [
    "Mean Absolute Error"
   ]
  },
  {
   "cell_type": "code",
   "execution_count": 177,
   "id": "united-rapid",
   "metadata": {},
   "outputs": [],
   "source": [
    "ibm_ma_mae_loss = mean_absolute_error(df_ibm_test.iloc[-prediction_length[1]:]['Adj Close'], ser_test_ma_bmk[0])"
   ]
  },
  {
   "cell_type": "code",
   "execution_count": 178,
   "id": "herbal-header",
   "metadata": {},
   "outputs": [
    {
     "name": "stdout",
     "output_type": "stream",
     "text": [
      "6.935802841186524\n"
     ]
    }
   ],
   "source": [
    "print(ibm_ma_mae_loss)"
   ]
  },
  {
   "cell_type": "markdown",
   "id": "rental-profit",
   "metadata": {},
   "source": [
    "Root Mean Squared Error"
   ]
  },
  {
   "cell_type": "code",
   "execution_count": 179,
   "id": "medical-compromise",
   "metadata": {},
   "outputs": [],
   "source": [
    "ibm_ma_mse_loss = mean_squared_error(df_ibm_test.iloc[-prediction_length[1]:]['Adj Close'], ser_test_ma_bmk[0], squared=False)"
   ]
  },
  {
   "cell_type": "code",
   "execution_count": 180,
   "id": "fifteen-irish",
   "metadata": {},
   "outputs": [
    {
     "name": "stdout",
     "output_type": "stream",
     "text": [
      "8.137602661982527\n"
     ]
    }
   ],
   "source": [
    "print(ibm_ma_mse_loss)"
   ]
  },
  {
   "cell_type": "markdown",
   "id": "agricultural-competition",
   "metadata": {},
   "source": [
    "Mean Absolute Percentage Error"
   ]
  },
  {
   "cell_type": "code",
   "execution_count": 181,
   "id": "heavy-lingerie",
   "metadata": {},
   "outputs": [],
   "source": [
    "ibm_ma_map_loss = mean_absolute_percentage_error(df_ibm_test.iloc[-prediction_length[1]:]['Adj Close'], ser_test_ma_bmk[0])"
   ]
  },
  {
   "cell_type": "code",
   "execution_count": 182,
   "id": "naval-concert",
   "metadata": {},
   "outputs": [
    {
     "name": "stdout",
     "output_type": "stream",
     "text": [
      "0.053460874159345785\n"
     ]
    }
   ],
   "source": [
    "print(ibm_ma_map_loss)"
   ]
  },
  {
   "cell_type": "markdown",
   "id": "shared-necessity",
   "metadata": {},
   "source": [
    "R<sup>2</sup> score"
   ]
  },
  {
   "cell_type": "code",
   "execution_count": 183,
   "id": "endless-grenada",
   "metadata": {},
   "outputs": [],
   "source": [
    "ibm_ma_r2_score = r2_score(df_ibm_test.iloc[-prediction_length[1]:]['Adj Close'], ser_test_ma_bmk[0])"
   ]
  },
  {
   "cell_type": "code",
   "execution_count": 184,
   "id": "adjustable-eclipse",
   "metadata": {},
   "outputs": [
    {
     "name": "stdout",
     "output_type": "stream",
     "text": [
      "-2.61020840469705\n"
     ]
    }
   ],
   "source": [
    "print(ibm_ma_r2_score)"
   ]
  },
  {
   "cell_type": "code",
   "execution_count": 185,
   "id": "integral-bride",
   "metadata": {},
   "outputs": [],
   "source": [
    "#n = 50\n",
    "#ma_str = str(n)+'_ac_ma'"
   ]
  },
  {
   "cell_type": "code",
   "execution_count": 186,
   "id": "abandoned-fireplace",
   "metadata": {},
   "outputs": [],
   "source": [
    "#ibm_ma_mse_loss = mean_squared_error(df_ibm_valid.iloc[n-1:]['Adj Close'], df_ibm_valid[n-1:][ma_str])"
   ]
  },
  {
   "cell_type": "code",
   "execution_count": 187,
   "id": "egyptian-shopper",
   "metadata": {},
   "outputs": [],
   "source": [
    "#print(ibm_ma_mse_loss)"
   ]
  },
  {
   "cell_type": "markdown",
   "id": "unlike-atlanta",
   "metadata": {},
   "source": [
    "#### Apple Inc. stock"
   ]
  },
  {
   "cell_type": "code",
   "execution_count": 188,
   "id": "sized-program",
   "metadata": {},
   "outputs": [],
   "source": [
    "#n = 10\n",
    "#ma_str = str(n)+'_ac_ma'"
   ]
  },
  {
   "cell_type": "code",
   "execution_count": 189,
   "id": "integrated-professor",
   "metadata": {},
   "outputs": [],
   "source": [
    "#aapl_ma_mse_loss = mean_squared_error(df_aapl_valid.iloc[n-1:]['Adj Close'], df_aapl_valid.iloc[n-1:][ma_str])"
   ]
  },
  {
   "cell_type": "code",
   "execution_count": 190,
   "id": "third-computer",
   "metadata": {},
   "outputs": [],
   "source": [
    "#print(aapl_ma_mse_loss)"
   ]
  },
  {
   "cell_type": "code",
   "execution_count": 191,
   "id": "functional-today",
   "metadata": {},
   "outputs": [],
   "source": [
    "n = 20\n",
    "ma_str = str(n)+'_ac_ma'"
   ]
  },
  {
   "cell_type": "markdown",
   "id": "unexpected-ottawa",
   "metadata": {},
   "source": [
    "Mean Absolute Error"
   ]
  },
  {
   "cell_type": "code",
   "execution_count": 192,
   "id": "monthly-bahamas",
   "metadata": {},
   "outputs": [],
   "source": [
    "aapl_ma_mae_loss = mean_absolute_error(df_aapl_test.iloc[-prediction_length[1]:]['Adj Close'], ser_test_ma_bmk[1])"
   ]
  },
  {
   "cell_type": "code",
   "execution_count": 193,
   "id": "together-animation",
   "metadata": {},
   "outputs": [
    {
     "name": "stdout",
     "output_type": "stream",
     "text": [
      "9.52283554077149\n"
     ]
    }
   ],
   "source": [
    "print(aapl_ma_mae_loss)"
   ]
  },
  {
   "cell_type": "markdown",
   "id": "athletic-administration",
   "metadata": {},
   "source": [
    "##### Root Mean Squared Error"
   ]
  },
  {
   "cell_type": "code",
   "execution_count": 194,
   "id": "imported-fifth",
   "metadata": {},
   "outputs": [],
   "source": [
    "aapl_ma_rmse_loss = mean_squared_error(df_aapl_test.iloc[-prediction_length[1]:]['Adj Close'], ser_test_ma_bmk[1], squared=False)"
   ]
  },
  {
   "cell_type": "code",
   "execution_count": 195,
   "id": "incredible-medicine",
   "metadata": {},
   "outputs": [
    {
     "name": "stdout",
     "output_type": "stream",
     "text": [
      "9.842366587630263\n"
     ]
    }
   ],
   "source": [
    "print(aapl_ma_rmse_loss)"
   ]
  },
  {
   "cell_type": "markdown",
   "id": "parliamentary-atmosphere",
   "metadata": {},
   "source": [
    "##### Mean Absolute Percentage Error"
   ]
  },
  {
   "cell_type": "code",
   "execution_count": 196,
   "id": "interim-joining",
   "metadata": {},
   "outputs": [],
   "source": [
    "aapl_ma_map_loss = mean_absolute_percentage_error(df_aapl_test.iloc[-prediction_length[1]:]['Adj Close'], ser_test_ma_bmk[1])"
   ]
  },
  {
   "cell_type": "code",
   "execution_count": 197,
   "id": "psychological-harvest",
   "metadata": {},
   "outputs": [
    {
     "name": "stdout",
     "output_type": "stream",
     "text": [
      "0.0785150630715565\n"
     ]
    }
   ],
   "source": [
    "print(aapl_ma_map_loss)"
   ]
  },
  {
   "cell_type": "markdown",
   "id": "elementary-environment",
   "metadata": {},
   "source": [
    "R<sup>2</sup> score"
   ]
  },
  {
   "cell_type": "code",
   "execution_count": 198,
   "id": "premium-hacker",
   "metadata": {},
   "outputs": [],
   "source": [
    "aapl_ma_r2_score = r2_score(df_aapl_test.iloc[-prediction_length[1]:]['Adj Close'], ser_test_ma_bmk[1])"
   ]
  },
  {
   "cell_type": "code",
   "execution_count": 199,
   "id": "brilliant-female",
   "metadata": {},
   "outputs": [
    {
     "name": "stdout",
     "output_type": "stream",
     "text": [
      "-14.655393088634224\n"
     ]
    }
   ],
   "source": [
    "print(aapl_ma_r2_score)"
   ]
  },
  {
   "cell_type": "code",
   "execution_count": 200,
   "id": "stable-steal",
   "metadata": {},
   "outputs": [],
   "source": [
    "#n = 50\n",
    "#ma_str = str(n)+'_ac_ma'"
   ]
  },
  {
   "cell_type": "code",
   "execution_count": 201,
   "id": "social-handling",
   "metadata": {},
   "outputs": [],
   "source": [
    "#aapl_ma_mse_loss = mean_squared_error(df_aapl_valid.iloc[n-1:]['Adj Close'], df_aapl_valid[n-1:][ma_str])"
   ]
  },
  {
   "cell_type": "code",
   "execution_count": 202,
   "id": "educational-mouth",
   "metadata": {},
   "outputs": [],
   "source": [
    "#print(aapl_ma_mse_loss)"
   ]
  },
  {
   "cell_type": "markdown",
   "id": "fleet-implement",
   "metadata": {},
   "source": [
    "#### Amazon.com stock"
   ]
  },
  {
   "cell_type": "code",
   "execution_count": 203,
   "id": "human-pittsburgh",
   "metadata": {},
   "outputs": [],
   "source": [
    "#n = 10\n",
    "#ma_str = str(n)+'_ac_ma'"
   ]
  },
  {
   "cell_type": "code",
   "execution_count": 204,
   "id": "level-password",
   "metadata": {},
   "outputs": [],
   "source": [
    "#amzn_ma_mse_loss = mean_squared_error(df_amzn_valid.iloc[n-1:]['Adj Close'], df_amzn_valid.iloc[n-1:][ma_str])"
   ]
  },
  {
   "cell_type": "code",
   "execution_count": 205,
   "id": "animal-thesis",
   "metadata": {},
   "outputs": [],
   "source": [
    "#print(amzn_ma_mse_loss)"
   ]
  },
  {
   "cell_type": "code",
   "execution_count": 206,
   "id": "driven-shaft",
   "metadata": {},
   "outputs": [],
   "source": [
    "n = 20\n",
    "ma_str = str(n)+'_ac_ma'"
   ]
  },
  {
   "cell_type": "markdown",
   "id": "enclosed-namibia",
   "metadata": {},
   "source": [
    "Mean Absolute Error"
   ]
  },
  {
   "cell_type": "code",
   "execution_count": 207,
   "id": "broadband-acquisition",
   "metadata": {},
   "outputs": [],
   "source": [
    "amzn_ma_mae_loss = mean_absolute_error(df_amzn_test.iloc[-prediction_length[1]:]['Adj Close'], ser_test_ma_bmk[2])"
   ]
  },
  {
   "cell_type": "code",
   "execution_count": 208,
   "id": "nutritional-spiritual",
   "metadata": {},
   "outputs": [
    {
     "name": "stdout",
     "output_type": "stream",
     "text": [
      "193.72645263671885\n"
     ]
    }
   ],
   "source": [
    "print(amzn_ma_mae_loss)"
   ]
  },
  {
   "cell_type": "markdown",
   "id": "affecting-qualification",
   "metadata": {},
   "source": [
    "Root Mean Squared Error"
   ]
  },
  {
   "cell_type": "code",
   "execution_count": 209,
   "id": "hydraulic-april",
   "metadata": {},
   "outputs": [],
   "source": [
    "amzn_ma_rmse_loss = mean_squared_error(df_amzn_test.iloc[-prediction_length[1]:]['Adj Close'], ser_test_ma_bmk[2], squared=False)"
   ]
  },
  {
   "cell_type": "code",
   "execution_count": 210,
   "id": "spiritual-surrey",
   "metadata": {},
   "outputs": [
    {
     "name": "stdout",
     "output_type": "stream",
     "text": [
      "200.62401395328592\n"
     ]
    }
   ],
   "source": [
    "print(amzn_ma_rmse_loss)"
   ]
  },
  {
   "cell_type": "markdown",
   "id": "inner-polyester",
   "metadata": {},
   "source": [
    "##### Mean Absolute Percentage Error"
   ]
  },
  {
   "cell_type": "code",
   "execution_count": 211,
   "id": "dress-canal",
   "metadata": {},
   "outputs": [],
   "source": [
    "amzn_ma_map_loss = mean_absolute_percentage_error(df_amzn_test.iloc[-prediction_length[1]:]['Adj Close'], ser_test_ma_bmk[2])"
   ]
  },
  {
   "cell_type": "code",
   "execution_count": 212,
   "id": "unavailable-parent",
   "metadata": {},
   "outputs": [
    {
     "name": "stdout",
     "output_type": "stream",
     "text": [
      "0.06346979710956135\n"
     ]
    }
   ],
   "source": [
    "print(amzn_ma_map_loss)"
   ]
  },
  {
   "cell_type": "markdown",
   "id": "auburn-labor",
   "metadata": {},
   "source": [
    "R<sup>2</sup> score"
   ]
  },
  {
   "cell_type": "code",
   "execution_count": 213,
   "id": "western-country",
   "metadata": {},
   "outputs": [],
   "source": [
    "amzn_ma_r2_score = r2_score(df_amzn_test.iloc[-prediction_length[1]:]['Adj Close'], ser_test_ma_bmk[2])"
   ]
  },
  {
   "cell_type": "code",
   "execution_count": 214,
   "id": "pleased-comparison",
   "metadata": {},
   "outputs": [
    {
     "name": "stdout",
     "output_type": "stream",
     "text": [
      "-13.797484767934343\n"
     ]
    }
   ],
   "source": [
    "print(amzn_ma_r2_score)"
   ]
  },
  {
   "cell_type": "code",
   "execution_count": 215,
   "id": "bulgarian-conducting",
   "metadata": {},
   "outputs": [],
   "source": [
    "#n = 50\n",
    "#ma_str = str(n)+'_ac_ma'"
   ]
  },
  {
   "cell_type": "code",
   "execution_count": 216,
   "id": "statutory-samoa",
   "metadata": {},
   "outputs": [],
   "source": [
    "#amzn_ma_mse_loss = mean_squared_error(df_amzn_valid.iloc[n-1:]['Adj Close'], df_amzn_valid[n-1:][ma_str])"
   ]
  },
  {
   "cell_type": "code",
   "execution_count": 217,
   "id": "dated-alias",
   "metadata": {},
   "outputs": [],
   "source": [
    "#print(amzn_ma_mse_loss)"
   ]
  },
  {
   "cell_type": "markdown",
   "id": "offensive-friendly",
   "metadata": {},
   "source": [
    "#### Alphabet Inc. stock"
   ]
  },
  {
   "cell_type": "code",
   "execution_count": 218,
   "id": "metallic-sheriff",
   "metadata": {},
   "outputs": [],
   "source": [
    "#n = 10\n",
    "#ma_str = str(n)+'_ac_ma'"
   ]
  },
  {
   "cell_type": "code",
   "execution_count": 219,
   "id": "adapted-posting",
   "metadata": {},
   "outputs": [],
   "source": [
    "#googl_ma_mse_loss = mean_squared_error(df_googl_valid.iloc[n-1:]['Adj Close'], df_googl_valid.iloc[n-1:][ma_str])"
   ]
  },
  {
   "cell_type": "code",
   "execution_count": 220,
   "id": "expensive-leather",
   "metadata": {},
   "outputs": [],
   "source": [
    "#print(googl_ma_mse_loss)"
   ]
  },
  {
   "cell_type": "code",
   "execution_count": 221,
   "id": "solid-fruit",
   "metadata": {},
   "outputs": [],
   "source": [
    "n = 20\n",
    "ma_str = str(n)+'_ac_ma'"
   ]
  },
  {
   "cell_type": "markdown",
   "id": "fallen-glass",
   "metadata": {},
   "source": [
    "Mean Absolute Error"
   ]
  },
  {
   "cell_type": "code",
   "execution_count": 222,
   "id": "unauthorized-device",
   "metadata": {},
   "outputs": [],
   "source": [
    "googl_ma_mae_loss = mean_absolute_error(df_googl_test.iloc[-prediction_length[1]:]['Adj Close'], ser_test_ma_bmk[3])"
   ]
  },
  {
   "cell_type": "code",
   "execution_count": 223,
   "id": "republican-amino",
   "metadata": {},
   "outputs": [
    {
     "name": "stdout",
     "output_type": "stream",
     "text": [
      "22.454000244140616\n"
     ]
    }
   ],
   "source": [
    "print(googl_ma_mae_loss)"
   ]
  },
  {
   "cell_type": "markdown",
   "id": "generic-independence",
   "metadata": {},
   "source": [
    "Root Mean Squared Error"
   ]
  },
  {
   "cell_type": "code",
   "execution_count": 224,
   "id": "popular-composite",
   "metadata": {},
   "outputs": [],
   "source": [
    "googl_ma_rmse_loss = mean_squared_error(df_googl_test.iloc[-prediction_length[1]:]['Adj Close'], ser_test_ma_bmk[3], squared=False)"
   ]
  },
  {
   "cell_type": "code",
   "execution_count": 225,
   "id": "laughing-showcase",
   "metadata": {},
   "outputs": [
    {
     "name": "stdout",
     "output_type": "stream",
     "text": [
      "26.737058543014086\n"
     ]
    }
   ],
   "source": [
    "print(googl_ma_rmse_loss)"
   ]
  },
  {
   "cell_type": "markdown",
   "id": "occupied-classification",
   "metadata": {},
   "source": [
    "##### Mean Absolute Percentage Error"
   ]
  },
  {
   "cell_type": "code",
   "execution_count": 226,
   "id": "complimentary-windsor",
   "metadata": {},
   "outputs": [],
   "source": [
    "googl_ma_map_loss = mean_absolute_percentage_error(df_googl_test.iloc[-prediction_length[1]:]['Adj Close'], ser_test_ma_bmk[3])"
   ]
  },
  {
   "cell_type": "code",
   "execution_count": 227,
   "id": "inclusive-retention",
   "metadata": {},
   "outputs": [
    {
     "name": "stdout",
     "output_type": "stream",
     "text": [
      "0.010929114632073753\n"
     ]
    }
   ],
   "source": [
    "print(googl_ma_map_loss)"
   ]
  },
  {
   "cell_type": "markdown",
   "id": "adaptive-model",
   "metadata": {},
   "source": [
    "R<sup>2</sup> score"
   ]
  },
  {
   "cell_type": "code",
   "execution_count": 228,
   "id": "rough-flooring",
   "metadata": {},
   "outputs": [],
   "source": [
    "googl_ma_r2_score = r2_score(df_googl_test.iloc[-prediction_length[1]:]['Adj Close'], ser_test_ma_bmk[3])"
   ]
  },
  {
   "cell_type": "code",
   "execution_count": 229,
   "id": "further-messaging",
   "metadata": {},
   "outputs": [
    {
     "name": "stdout",
     "output_type": "stream",
     "text": [
      "-0.0003990186302342824\n"
     ]
    }
   ],
   "source": [
    "print(googl_ma_r2_score)"
   ]
  },
  {
   "cell_type": "markdown",
   "id": "published-belarus",
   "metadata": {},
   "source": [
    "### Metrics performances on validation data"
   ]
  },
  {
   "cell_type": "markdown",
   "id": "restricted-lightning",
   "metadata": {},
   "source": [
    "#### IBM stock"
   ]
  },
  {
   "cell_type": "code",
   "execution_count": 230,
   "id": "behind-architecture",
   "metadata": {},
   "outputs": [],
   "source": [
    "#n = 10\n",
    "#ma_str = str(n)+'_ac_ma'"
   ]
  },
  {
   "cell_type": "code",
   "execution_count": 231,
   "id": "obvious-convert",
   "metadata": {},
   "outputs": [],
   "source": [
    "#ibm_ma_mse_loss = mean_squared_error(df_ibm_valid.iloc[n-1:]['Adj Close'], df_ibm_valid.iloc[n-1:][ma_str])"
   ]
  },
  {
   "cell_type": "code",
   "execution_count": 232,
   "id": "trained-defeat",
   "metadata": {},
   "outputs": [],
   "source": [
    "#print(ibm_ma_mse_loss)"
   ]
  },
  {
   "cell_type": "code",
   "execution_count": 233,
   "id": "recognized-victory",
   "metadata": {},
   "outputs": [],
   "source": [
    "n = 20\n",
    "ma_str = str(n)+'_ac_ma'"
   ]
  },
  {
   "cell_type": "markdown",
   "id": "wrapped-count",
   "metadata": {},
   "source": [
    "Mean Absolute Error"
   ]
  },
  {
   "cell_type": "code",
   "execution_count": 234,
   "id": "loving-billion",
   "metadata": {},
   "outputs": [],
   "source": [
    "ibm_ma_mae_loss = mean_absolute_error(df_ibm_valid.iloc[:]['Adj Close'], ser_valid_ma_bmk[0])"
   ]
  },
  {
   "cell_type": "code",
   "execution_count": 235,
   "id": "median-pearl",
   "metadata": {},
   "outputs": [
    {
     "name": "stdout",
     "output_type": "stream",
     "text": [
      "15.609889221191406\n"
     ]
    }
   ],
   "source": [
    "print(ibm_ma_mae_loss)"
   ]
  },
  {
   "cell_type": "markdown",
   "id": "eleven-johnston",
   "metadata": {},
   "source": [
    "Root Mean Squared Error"
   ]
  },
  {
   "cell_type": "code",
   "execution_count": 236,
   "id": "authorized-drain",
   "metadata": {},
   "outputs": [],
   "source": [
    "ibm_ma_mse_loss = mean_squared_error(df_ibm_valid.iloc[:]['Adj Close'], ser_valid_ma_bmk[0], squared=False)"
   ]
  },
  {
   "cell_type": "code",
   "execution_count": 237,
   "id": "endangered-klein",
   "metadata": {},
   "outputs": [
    {
     "name": "stdout",
     "output_type": "stream",
     "text": [
      "15.99906324226032\n"
     ]
    }
   ],
   "source": [
    "print(ibm_ma_mse_loss)"
   ]
  },
  {
   "cell_type": "markdown",
   "id": "roman-pixel",
   "metadata": {},
   "source": [
    "Mean Absolute Percentage Error"
   ]
  },
  {
   "cell_type": "code",
   "execution_count": 238,
   "id": "configured-republic",
   "metadata": {},
   "outputs": [],
   "source": [
    "ibm_ma_map_loss = mean_absolute_percentage_error(df_ibm_valid.iloc[:]['Adj Close'], ser_valid_ma_bmk[0])"
   ]
  },
  {
   "cell_type": "code",
   "execution_count": 239,
   "id": "voluntary-decline",
   "metadata": {},
   "outputs": [
    {
     "name": "stdout",
     "output_type": "stream",
     "text": [
      "0.11430051313940301\n"
     ]
    }
   ],
   "source": [
    "print(ibm_ma_map_loss)"
   ]
  },
  {
   "cell_type": "markdown",
   "id": "continuous-yugoslavia",
   "metadata": {},
   "source": [
    "R<sup>2</sup> score"
   ]
  },
  {
   "cell_type": "code",
   "execution_count": 240,
   "id": "exciting-grammar",
   "metadata": {},
   "outputs": [],
   "source": [
    "ibm_ma_r2_score = r2_score(df_ibm_valid.iloc[:]['Adj Close'], ser_valid_ma_bmk[0])"
   ]
  },
  {
   "cell_type": "code",
   "execution_count": 241,
   "id": "thick-communist",
   "metadata": {},
   "outputs": [
    {
     "name": "stdout",
     "output_type": "stream",
     "text": [
      "-19.80823122762897\n"
     ]
    }
   ],
   "source": [
    "print(ibm_ma_r2_score)"
   ]
  },
  {
   "cell_type": "code",
   "execution_count": 242,
   "id": "subject-growing",
   "metadata": {},
   "outputs": [],
   "source": [
    "#n = 50\n",
    "#ma_str = str(n)+'_ac_ma'"
   ]
  },
  {
   "cell_type": "code",
   "execution_count": 243,
   "id": "substantial-kazakhstan",
   "metadata": {},
   "outputs": [],
   "source": [
    "#ibm_ma_mse_loss = mean_squared_error(df_ibm_valid.iloc[n-1:]['Adj Close'], df_ibm_valid[n-1:][ma_str])"
   ]
  },
  {
   "cell_type": "code",
   "execution_count": 244,
   "id": "anonymous-search",
   "metadata": {},
   "outputs": [],
   "source": [
    "#print(ibm_ma_mse_loss)"
   ]
  },
  {
   "cell_type": "markdown",
   "id": "tribal-making",
   "metadata": {},
   "source": [
    "#### Apple Inc. stock"
   ]
  },
  {
   "cell_type": "code",
   "execution_count": 245,
   "id": "unknown-converter",
   "metadata": {},
   "outputs": [],
   "source": [
    "#n = 10\n",
    "#ma_str = str(n)+'_ac_ma'"
   ]
  },
  {
   "cell_type": "code",
   "execution_count": 246,
   "id": "animated-mustang",
   "metadata": {},
   "outputs": [],
   "source": [
    "#aapl_ma_mse_loss = mean_squared_error(df_aapl_valid.iloc[n-1:]['Adj Close'], df_aapl_valid.iloc[n-1:][ma_str])"
   ]
  },
  {
   "cell_type": "code",
   "execution_count": 247,
   "id": "herbal-saturday",
   "metadata": {},
   "outputs": [],
   "source": [
    "#print(aapl_ma_mse_loss)"
   ]
  },
  {
   "cell_type": "code",
   "execution_count": 248,
   "id": "national-external",
   "metadata": {},
   "outputs": [],
   "source": [
    "n = 20\n",
    "ma_str = str(n)+'_ac_ma'"
   ]
  },
  {
   "cell_type": "markdown",
   "id": "rapid-butler",
   "metadata": {},
   "source": [
    "Mean Absolute Error"
   ]
  },
  {
   "cell_type": "code",
   "execution_count": 249,
   "id": "similar-carrier",
   "metadata": {},
   "outputs": [],
   "source": [
    "aapl_ma_mae_loss = mean_absolute_error(df_aapl_valid.iloc[:]['Adj Close'], ser_valid_ma_bmk[1])"
   ]
  },
  {
   "cell_type": "code",
   "execution_count": 250,
   "id": "saved-chancellor",
   "metadata": {},
   "outputs": [
    {
     "name": "stdout",
     "output_type": "stream",
     "text": [
      "3.9747161483764644\n"
     ]
    }
   ],
   "source": [
    "print(aapl_ma_mae_loss)"
   ]
  },
  {
   "cell_type": "markdown",
   "id": "linear-constraint",
   "metadata": {},
   "source": [
    "##### Root Mean Squared Error"
   ]
  },
  {
   "cell_type": "code",
   "execution_count": 251,
   "id": "intense-category",
   "metadata": {},
   "outputs": [],
   "source": [
    "aapl_ma_rmse_loss = mean_squared_error(df_aapl_valid.iloc[:]['Adj Close'], ser_valid_ma_bmk[1], squared=False)"
   ]
  },
  {
   "cell_type": "code",
   "execution_count": 252,
   "id": "biblical-warner",
   "metadata": {},
   "outputs": [
    {
     "name": "stdout",
     "output_type": "stream",
     "text": [
      "5.1659825287546886\n"
     ]
    }
   ],
   "source": [
    "print(aapl_ma_rmse_loss)"
   ]
  },
  {
   "cell_type": "markdown",
   "id": "referenced-boost",
   "metadata": {},
   "source": [
    "##### Mean Absolute Percentage Error"
   ]
  },
  {
   "cell_type": "code",
   "execution_count": 253,
   "id": "prescribed-arnold",
   "metadata": {},
   "outputs": [],
   "source": [
    "aapl_ma_map_loss = mean_absolute_percentage_error(df_aapl_valid.iloc[:]['Adj Close'], ser_valid_ma_bmk[1])"
   ]
  },
  {
   "cell_type": "code",
   "execution_count": 254,
   "id": "accessory-fireplace",
   "metadata": {},
   "outputs": [
    {
     "name": "stdout",
     "output_type": "stream",
     "text": [
      "0.031510931874630325\n"
     ]
    }
   ],
   "source": [
    "print(aapl_ma_map_loss)"
   ]
  },
  {
   "cell_type": "markdown",
   "id": "transsexual-bunch",
   "metadata": {},
   "source": [
    "R<sup>2</sup> score"
   ]
  },
  {
   "cell_type": "code",
   "execution_count": 255,
   "id": "banner-presentation",
   "metadata": {},
   "outputs": [],
   "source": [
    "aapl_ma_r2_score = r2_score(df_aapl_valid.iloc[:]['Adj Close'], ser_valid_ma_bmk[1])"
   ]
  },
  {
   "cell_type": "code",
   "execution_count": 256,
   "id": "stopped-conviction",
   "metadata": {},
   "outputs": [
    {
     "name": "stdout",
     "output_type": "stream",
     "text": [
      "-0.10216613974849764\n"
     ]
    }
   ],
   "source": [
    "print(aapl_ma_r2_score)"
   ]
  },
  {
   "cell_type": "code",
   "execution_count": 257,
   "id": "emotional-jackson",
   "metadata": {},
   "outputs": [],
   "source": [
    "#n = 50\n",
    "#ma_str = str(n)+'_ac_ma'"
   ]
  },
  {
   "cell_type": "code",
   "execution_count": 258,
   "id": "numerous-yeast",
   "metadata": {},
   "outputs": [],
   "source": [
    "#aapl_ma_mse_loss = mean_squared_error(df_aapl_valid.iloc[n-1:]['Adj Close'], df_aapl_valid[n-1:][ma_str])"
   ]
  },
  {
   "cell_type": "code",
   "execution_count": 259,
   "id": "legislative-basics",
   "metadata": {},
   "outputs": [],
   "source": [
    "#print(aapl_ma_mse_loss)"
   ]
  },
  {
   "cell_type": "markdown",
   "id": "balanced-kernel",
   "metadata": {},
   "source": [
    "#### Amazon.com stock"
   ]
  },
  {
   "cell_type": "code",
   "execution_count": 260,
   "id": "public-riding",
   "metadata": {},
   "outputs": [],
   "source": [
    "#n = 10\n",
    "#ma_str = str(n)+'_ac_ma'"
   ]
  },
  {
   "cell_type": "code",
   "execution_count": 261,
   "id": "infectious-camping",
   "metadata": {},
   "outputs": [],
   "source": [
    "#amzn_ma_mse_loss = mean_squared_error(df_amzn_valid.iloc[n-1:]['Adj Close'], df_amzn_valid.iloc[n-1:][ma_str])"
   ]
  },
  {
   "cell_type": "code",
   "execution_count": 262,
   "id": "mathematical-disclosure",
   "metadata": {},
   "outputs": [],
   "source": [
    "#print(amzn_ma_mse_loss)"
   ]
  },
  {
   "cell_type": "code",
   "execution_count": 263,
   "id": "residential-education",
   "metadata": {},
   "outputs": [],
   "source": [
    "n = 20\n",
    "ma_str = str(n)+'_ac_ma'"
   ]
  },
  {
   "cell_type": "markdown",
   "id": "minus-reply",
   "metadata": {},
   "source": [
    "Mean Absolute Error"
   ]
  },
  {
   "cell_type": "code",
   "execution_count": 264,
   "id": "identified-lexington",
   "metadata": {},
   "outputs": [],
   "source": [
    "amzn_ma_mae_loss = mean_absolute_error(df_amzn_valid.iloc[:]['Adj Close'], ser_valid_ma_bmk[2])"
   ]
  },
  {
   "cell_type": "code",
   "execution_count": 265,
   "id": "federal-transsexual",
   "metadata": {},
   "outputs": [
    {
     "name": "stdout",
     "output_type": "stream",
     "text": [
      "102.24599365234371\n"
     ]
    }
   ],
   "source": [
    "print(amzn_ma_mae_loss)"
   ]
  },
  {
   "cell_type": "markdown",
   "id": "narrow-wrestling",
   "metadata": {},
   "source": [
    "Root Mean Squared Error"
   ]
  },
  {
   "cell_type": "code",
   "execution_count": 266,
   "id": "pediatric-encyclopedia",
   "metadata": {},
   "outputs": [],
   "source": [
    "amzn_ma_rmse_loss = mean_squared_error(df_amzn_valid.iloc[:]['Adj Close'], ser_valid_ma_bmk[2], squared=False)"
   ]
  },
  {
   "cell_type": "code",
   "execution_count": 267,
   "id": "third-august",
   "metadata": {},
   "outputs": [
    {
     "name": "stdout",
     "output_type": "stream",
     "text": [
      "114.33108116070025\n"
     ]
    }
   ],
   "source": [
    "print(amzn_ma_rmse_loss)"
   ]
  },
  {
   "cell_type": "markdown",
   "id": "precise-private",
   "metadata": {},
   "source": [
    "##### Mean Absolute Percentage Error"
   ]
  },
  {
   "cell_type": "code",
   "execution_count": 268,
   "id": "coral-impossible",
   "metadata": {},
   "outputs": [],
   "source": [
    "amzn_ma_map_loss = mean_absolute_percentage_error(df_amzn_valid.iloc[:]['Adj Close'], ser_valid_ma_bmk[2])"
   ]
  },
  {
   "cell_type": "code",
   "execution_count": 269,
   "id": "aquatic-worker",
   "metadata": {},
   "outputs": [
    {
     "name": "stdout",
     "output_type": "stream",
     "text": [
      "0.031281294288964645\n"
     ]
    }
   ],
   "source": [
    "print(amzn_ma_map_loss)"
   ]
  },
  {
   "cell_type": "markdown",
   "id": "renewable-hostel",
   "metadata": {},
   "source": [
    "R<sup>2</sup> score"
   ]
  },
  {
   "cell_type": "code",
   "execution_count": 270,
   "id": "resistant-elevation",
   "metadata": {},
   "outputs": [],
   "source": [
    "amzn_ma_r2_score = r2_score(df_amzn_valid.iloc[:]['Adj Close'], ser_valid_ma_bmk[2])"
   ]
  },
  {
   "cell_type": "code",
   "execution_count": 271,
   "id": "welcome-transfer",
   "metadata": {},
   "outputs": [
    {
     "name": "stdout",
     "output_type": "stream",
     "text": [
      "-0.07039543547352012\n"
     ]
    }
   ],
   "source": [
    "print(amzn_ma_r2_score)"
   ]
  },
  {
   "cell_type": "code",
   "execution_count": 272,
   "id": "frequent-richmond",
   "metadata": {},
   "outputs": [],
   "source": [
    "#n = 50\n",
    "#ma_str = str(n)+'_ac_ma'"
   ]
  },
  {
   "cell_type": "code",
   "execution_count": 273,
   "id": "incoming-programmer",
   "metadata": {},
   "outputs": [],
   "source": [
    "#amzn_ma_mse_loss = mean_squared_error(df_amzn_valid.iloc[n-1:]['Adj Close'], df_amzn_valid[n-1:][ma_str])"
   ]
  },
  {
   "cell_type": "code",
   "execution_count": 274,
   "id": "recreational-experiment",
   "metadata": {},
   "outputs": [],
   "source": [
    "#print(amzn_ma_mse_loss)"
   ]
  },
  {
   "cell_type": "markdown",
   "id": "growing-valuable",
   "metadata": {},
   "source": [
    "#### Alphabet Inc. stock"
   ]
  },
  {
   "cell_type": "code",
   "execution_count": 275,
   "id": "earlier-cabinet",
   "metadata": {},
   "outputs": [],
   "source": [
    "#n = 10\n",
    "#ma_str = str(n)+'_ac_ma'"
   ]
  },
  {
   "cell_type": "code",
   "execution_count": 276,
   "id": "electoral-biotechnology",
   "metadata": {},
   "outputs": [],
   "source": [
    "#googl_ma_mse_loss = mean_squared_error(df_googl_valid.iloc[n-1:]['Adj Close'], df_googl_valid.iloc[n-1:][ma_str])"
   ]
  },
  {
   "cell_type": "code",
   "execution_count": 277,
   "id": "raising-combine",
   "metadata": {},
   "outputs": [],
   "source": [
    "#print(googl_ma_mse_loss)"
   ]
  },
  {
   "cell_type": "code",
   "execution_count": 278,
   "id": "protective-thesis",
   "metadata": {},
   "outputs": [],
   "source": [
    "n = 20\n",
    "ma_str = str(n)+'_ac_ma'"
   ]
  },
  {
   "cell_type": "markdown",
   "id": "identical-hungarian",
   "metadata": {},
   "source": [
    "Mean Absolute Error"
   ]
  },
  {
   "cell_type": "code",
   "execution_count": 279,
   "id": "local-layer",
   "metadata": {},
   "outputs": [],
   "source": [
    "googl_ma_mae_loss = mean_absolute_error(df_googl_valid.iloc[:]['Adj Close'], ser_valid_ma_bmk[3])"
   ]
  },
  {
   "cell_type": "code",
   "execution_count": 280,
   "id": "known-copyright",
   "metadata": {},
   "outputs": [
    {
     "name": "stdout",
     "output_type": "stream",
     "text": [
      "178.10049072265625\n"
     ]
    }
   ],
   "source": [
    "print(googl_ma_mae_loss)"
   ]
  },
  {
   "cell_type": "markdown",
   "id": "apart-chapter",
   "metadata": {},
   "source": [
    "Root Mean Squared Error"
   ]
  },
  {
   "cell_type": "code",
   "execution_count": 281,
   "id": "consolidated-leave",
   "metadata": {},
   "outputs": [],
   "source": [
    "googl_ma_rmse_loss = mean_squared_error(df_googl_valid.iloc[:]['Adj Close'], ser_valid_ma_bmk[3], squared=False)"
   ]
  },
  {
   "cell_type": "code",
   "execution_count": 282,
   "id": "preliminary-scheduling",
   "metadata": {},
   "outputs": [
    {
     "name": "stdout",
     "output_type": "stream",
     "text": [
      "196.02342379808886\n"
     ]
    }
   ],
   "source": [
    "print(googl_ma_rmse_loss)"
   ]
  },
  {
   "cell_type": "markdown",
   "id": "authentic-devices",
   "metadata": {},
   "source": [
    "##### Mean Absolute Percentage Error"
   ]
  },
  {
   "cell_type": "code",
   "execution_count": 283,
   "id": "demanding-survey",
   "metadata": {},
   "outputs": [],
   "source": [
    "googl_ma_map_loss = mean_absolute_percentage_error(df_googl_valid.iloc[:]['Adj Close'], ser_valid_ma_bmk[3])"
   ]
  },
  {
   "cell_type": "code",
   "execution_count": 284,
   "id": "editorial-nature",
   "metadata": {},
   "outputs": [
    {
     "name": "stdout",
     "output_type": "stream",
     "text": [
      "0.07874643384149456\n"
     ]
    }
   ],
   "source": [
    "print(googl_ma_map_loss)"
   ]
  },
  {
   "cell_type": "markdown",
   "id": "enclosed-intellectual",
   "metadata": {},
   "source": [
    "R<sup>2</sup> score"
   ]
  },
  {
   "cell_type": "code",
   "execution_count": 285,
   "id": "jewish-amplifier",
   "metadata": {},
   "outputs": [],
   "source": [
    "googl_ma_r2_score = r2_score(df_googl_valid.iloc[:]['Adj Close'], ser_valid_ma_bmk[3])"
   ]
  },
  {
   "cell_type": "code",
   "execution_count": 286,
   "id": "hidden-saturn",
   "metadata": {},
   "outputs": [
    {
     "name": "stdout",
     "output_type": "stream",
     "text": [
      "-4.704883422090694\n"
     ]
    }
   ],
   "source": [
    "print(googl_ma_r2_score)"
   ]
  },
  {
   "cell_type": "code",
   "execution_count": 287,
   "id": "charged-montreal",
   "metadata": {},
   "outputs": [],
   "source": [
    "#n = 50\n",
    "#ma_str = str(n)+'_ac_ma'"
   ]
  },
  {
   "cell_type": "code",
   "execution_count": 288,
   "id": "tribal-visibility",
   "metadata": {},
   "outputs": [],
   "source": [
    "#googl_ma_mse_loss = mean_squared_error(df_googl_valid.iloc[n-1:]['Adj Close'], df_googl_valid[n-1:][ma_str])"
   ]
  },
  {
   "cell_type": "code",
   "execution_count": 289,
   "id": "chinese-overview",
   "metadata": {},
   "outputs": [],
   "source": [
    "#print(googl_ma_mse_loss)"
   ]
  },
  {
   "cell_type": "markdown",
   "id": "alike-shoot",
   "metadata": {},
   "source": [
    "Volatility"
   ]
  },
  {
   "cell_type": "code",
   "execution_count": 290,
   "id": "blond-gospel",
   "metadata": {},
   "outputs": [
    {
     "name": "stdout",
     "output_type": "stream",
     "text": [
      "0.6474412174725102\n"
     ]
    }
   ],
   "source": [
    "print(volatility(df_ibm_valid['Adj Close'], n))"
   ]
  },
  {
   "cell_type": "code",
   "execution_count": 291,
   "id": "collective-invalid",
   "metadata": {},
   "outputs": [
    {
     "name": "stdout",
     "output_type": "stream",
     "text": [
      "1.2743983499471405\n"
     ]
    }
   ],
   "source": [
    "print(volatility(df_aapl_valid['Adj Close'], n))"
   ]
  },
  {
   "cell_type": "code",
   "execution_count": 292,
   "id": "electoral-september",
   "metadata": {},
   "outputs": [
    {
     "name": "stdout",
     "output_type": "stream",
     "text": [
      "642.7332556968847\n"
     ]
    }
   ],
   "source": [
    "print(volatility(df_amzn_valid['Adj Close'], n))"
   ]
  },
  {
   "cell_type": "code",
   "execution_count": 293,
   "id": "steady-cooking",
   "metadata": {},
   "outputs": [
    {
     "name": "stdout",
     "output_type": "stream",
     "text": [
      "354.49945003750275\n"
     ]
    }
   ],
   "source": [
    "print(volatility(df_googl_valid['Adj Close'], n))"
   ]
  },
  {
   "cell_type": "markdown",
   "id": "editorial-concrete",
   "metadata": {},
   "source": [
    "As expected, loss augments as we observe moving average on larger windows.\n",
    "Also, we can observe that Amazon.com and Alphabet Inc. have greater losses, that also corresponds to higher volatility."
   ]
  },
  {
   "cell_type": "code",
   "execution_count": null,
   "id": "accessory-passing",
   "metadata": {},
   "outputs": [],
   "source": []
  }
 ],
 "metadata": {
  "kernelspec": {
   "display_name": "conda_pytorch_p36",
   "language": "python",
   "name": "conda_pytorch_p36"
  },
  "language_info": {
   "codemirror_mode": {
    "name": "ipython",
    "version": 3
   },
   "file_extension": ".py",
   "mimetype": "text/x-python",
   "name": "python",
   "nbconvert_exporter": "python",
   "pygments_lexer": "ipython3",
   "version": "3.6.13"
  }
 },
 "nbformat": 4,
 "nbformat_minor": 5
}