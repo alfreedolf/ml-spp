{
 "cells": [
  {
   "cell_type": "markdown",
   "id": "fluid-sherman",
   "metadata": {},
   "source": [
    "## Benchmark model"
   ]
  },
  {
   "cell_type": "markdown",
   "id": "other-cocktail",
   "metadata": {},
   "source": [
    "In this notebook a Simple Moving Average model will be created in order to have a benchmark for my DeepAR based model (to be tuned in the next notebook)."
   ]
  },
  {
   "cell_type": "markdown",
   "id": "regional-carpet",
   "metadata": {},
   "source": [
    "### Hyperparameters"
   ]
  },
  {
   "cell_type": "markdown",
   "id": "banner-share",
   "metadata": {},
   "source": [
    "DeepAR is the model of choice of this project.\n",
    "This model expects input data to be already test-train splitted.\n",
    "A big part of the model design has to be done looking close at data.\n",
    "More specifically, defining these two hyperparameters about the data:\n",
    "* Context length\n",
    "* Prediction length"
   ]
  },
  {
   "cell_type": "markdown",
   "id": "acting-sword",
   "metadata": {},
   "source": [
    "### Prediction length"
   ]
  },
  {
   "cell_type": "markdown",
   "id": "synthetic-jason",
   "metadata": {},
   "source": [
    "This is the length of the time series future predictions in days. It will be conveniently set to 5 days (exactly a week of trading hours) because a shorter interval would be of little significance.\n",
    "A longer interval could be interesting from an application point of view, but it can be challenging in terms of model performances."
   ]
  },
  {
   "cell_type": "markdown",
   "id": "prerequisite-heart",
   "metadata": {},
   "source": [
    "### Context length"
   ]
  },
  {
   "cell_type": "markdown",
   "id": "polyphonic-likelihood",
   "metadata": {},
   "source": [
    "Context length can be either:\n",
    "* designed on patterns or seasonality observed in the data, if any is present;\n",
    "* chosen as a fixed value. This will be my choice, and it will be the same as the moving average window, in order to have a good reference metrics, applicable to both this model and the benchmark model."
   ]
  },
  {
   "cell_type": "markdown",
   "id": "about-calculation",
   "metadata": {},
   "source": [
    "To explore this second option, we will refer to what we've found during the EDA stage."
   ]
  },
  {
   "cell_type": "code",
   "execution_count": 128,
   "id": "twenty-formula",
   "metadata": {},
   "outputs": [],
   "source": [
    "prediction_length = [10, 20, 50]\n",
    "context_length = [10, 20, 50]"
   ]
  },
  {
   "cell_type": "markdown",
   "id": "knowing-recycling",
   "metadata": {},
   "source": [
    "### Train, test and validation split"
   ]
  },
  {
   "cell_type": "markdown",
   "id": "exempt-policy",
   "metadata": {},
   "source": [
    "Time series will be all trimmed from `data_start` in `1.ExploratoryDataAnalysis.ipy`, according to DeepAR documentation, train time series should be set as the size of the entire time series less the prediction length.\n",
    "Validation length will exactly equal to prediction length."
   ]
  },
  {
   "cell_type": "code",
   "execution_count": 130,
   "id": "meaning-northwest",
   "metadata": {},
   "outputs": [],
   "source": [
    "from data.data_utils import train_test_valid_split"
   ]
  },
  {
   "cell_type": "markdown",
   "id": "large-wonder",
   "metadata": {},
   "source": [
    "#### IBM Stock train, test and validation split"
   ]
  },
  {
   "cell_type": "code",
   "execution_count": 132,
   "id": "prime-medicare",
   "metadata": {},
   "outputs": [],
   "source": [
    "df_ibm = df_ibm.loc[data_start:].copy()"
   ]
  },
  {
   "cell_type": "code",
   "execution_count": 134,
   "id": "french-sterling",
   "metadata": {},
   "outputs": [
    {
     "name": "stdout",
     "output_type": "stream",
     "text": [
      "4175 4135 4155 20\n"
     ]
    }
   ],
   "source": [
    "df_ibm_train, df_ibm_test, df_ibm_valid = train_test_valid_split(df_ibm, prediction_length=prediction_length[1])\n",
    "print(len(df_ibm), len(df_ibm_train), len(df_ibm_test), len(df_ibm_valid))"
   ]
  },
  {
   "cell_type": "code",
   "execution_count": 136,
   "id": "distinguished-effectiveness",
   "metadata": {},
   "outputs": [
    {
     "data": {
      "text/html": [
       "<div>\n",
       "<style scoped>\n",
       "    .dataframe tbody tr th:only-of-type {\n",
       "        vertical-align: middle;\n",
       "    }\n",
       "\n",
       "    .dataframe tbody tr th {\n",
       "        vertical-align: top;\n",
       "    }\n",
       "\n",
       "    .dataframe thead th {\n",
       "        text-align: right;\n",
       "    }\n",
       "</style>\n",
       "<table border=\"1\" class=\"dataframe\">\n",
       "  <thead>\n",
       "    <tr style=\"text-align: right;\">\n",
       "      <th></th>\n",
       "      <th>Adj Close</th>\n",
       "      <th>Close</th>\n",
       "      <th>High</th>\n",
       "      <th>Low</th>\n",
       "      <th>Open</th>\n",
       "      <th>Volume</th>\n",
       "      <th>Dividends</th>\n",
       "      <th>Stock Splits</th>\n",
       "      <th>10_ac_ma</th>\n",
       "      <th>20_ac_ma</th>\n",
       "      <th>50_ac_ma</th>\n",
       "      <th>10_ac_bb_u</th>\n",
       "      <th>10_ac_bb_l</th>\n",
       "      <th>20_ac_bb_u</th>\n",
       "      <th>20_ac_bb_l</th>\n",
       "      <th>50_ac_bb_u</th>\n",
       "      <th>50_ac_bb_l</th>\n",
       "    </tr>\n",
       "    <tr>\n",
       "      <th>Date</th>\n",
       "      <th></th>\n",
       "      <th></th>\n",
       "      <th></th>\n",
       "      <th></th>\n",
       "      <th></th>\n",
       "      <th></th>\n",
       "      <th></th>\n",
       "      <th></th>\n",
       "      <th></th>\n",
       "      <th></th>\n",
       "      <th></th>\n",
       "      <th></th>\n",
       "      <th></th>\n",
       "      <th></th>\n",
       "      <th></th>\n",
       "      <th></th>\n",
       "      <th></th>\n",
       "    </tr>\n",
       "  </thead>\n",
       "  <tbody>\n",
       "    <tr>\n",
       "      <th>2004-08-19</th>\n",
       "      <td>54.979382</td>\n",
       "      <td>84.889999</td>\n",
       "      <td>85.349998</td>\n",
       "      <td>84.449997</td>\n",
       "      <td>84.750000</td>\n",
       "      <td>4704500</td>\n",
       "      <td>0.18</td>\n",
       "      <td>0.0</td>\n",
       "      <td>54.397126</td>\n",
       "      <td>54.958798</td>\n",
       "      <td>55.913001</td>\n",
       "      <td>55.525647</td>\n",
       "      <td>53.268605</td>\n",
       "      <td>56.500281</td>\n",
       "      <td>53.417314</td>\n",
       "      <td>59.046566</td>\n",
       "      <td>52.779437</td>\n",
       "    </tr>\n",
       "    <tr>\n",
       "      <th>2004-08-20</th>\n",
       "      <td>55.212502</td>\n",
       "      <td>85.250000</td>\n",
       "      <td>85.250000</td>\n",
       "      <td>84.519997</td>\n",
       "      <td>84.519997</td>\n",
       "      <td>4501400</td>\n",
       "      <td>0.18</td>\n",
       "      <td>0.0</td>\n",
       "      <td>54.511759</td>\n",
       "      <td>54.977556</td>\n",
       "      <td>55.852774</td>\n",
       "      <td>55.720874</td>\n",
       "      <td>53.302644</td>\n",
       "      <td>56.521944</td>\n",
       "      <td>53.433168</td>\n",
       "      <td>58.920109</td>\n",
       "      <td>52.785438</td>\n",
       "    </tr>\n",
       "    <tr>\n",
       "      <th>2004-08-23</th>\n",
       "      <td>54.823910</td>\n",
       "      <td>84.650002</td>\n",
       "      <td>85.449997</td>\n",
       "      <td>84.650002</td>\n",
       "      <td>85.230003</td>\n",
       "      <td>4260600</td>\n",
       "      <td>0.18</td>\n",
       "      <td>0.0</td>\n",
       "      <td>54.582999</td>\n",
       "      <td>54.969128</td>\n",
       "      <td>55.779992</td>\n",
       "      <td>55.771068</td>\n",
       "      <td>53.394930</td>\n",
       "      <td>56.515013</td>\n",
       "      <td>53.423244</td>\n",
       "      <td>58.766151</td>\n",
       "      <td>52.793832</td>\n",
       "    </tr>\n",
       "    <tr>\n",
       "      <th>2004-08-24</th>\n",
       "      <td>54.862782</td>\n",
       "      <td>84.709999</td>\n",
       "      <td>85.150002</td>\n",
       "      <td>84.349998</td>\n",
       "      <td>85.000000</td>\n",
       "      <td>2710400</td>\n",
       "      <td>0.18</td>\n",
       "      <td>0.0</td>\n",
       "      <td>54.564866</td>\n",
       "      <td>54.937116</td>\n",
       "      <td>55.713028</td>\n",
       "      <td>55.726906</td>\n",
       "      <td>53.402826</td>\n",
       "      <td>56.462835</td>\n",
       "      <td>53.411398</td>\n",
       "      <td>58.625949</td>\n",
       "      <td>52.800108</td>\n",
       "    </tr>\n",
       "    <tr>\n",
       "      <th>2004-08-25</th>\n",
       "      <td>55.095955</td>\n",
       "      <td>85.070000</td>\n",
       "      <td>85.269997</td>\n",
       "      <td>84.550003</td>\n",
       "      <td>85.000000</td>\n",
       "      <td>4405600</td>\n",
       "      <td>0.18</td>\n",
       "      <td>0.0</td>\n",
       "      <td>54.654243</td>\n",
       "      <td>54.917732</td>\n",
       "      <td>55.644653</td>\n",
       "      <td>55.829713</td>\n",
       "      <td>53.478772</td>\n",
       "      <td>56.423940</td>\n",
       "      <td>53.411524</td>\n",
       "      <td>58.447571</td>\n",
       "      <td>52.841736</td>\n",
       "    </tr>\n",
       "  </tbody>\n",
       "</table>\n",
       "</div>"
      ],
      "text/plain": [
       "            Adj Close      Close       High        Low       Open   Volume  \\\n",
       "Date                                                                         \n",
       "2004-08-19  54.979382  84.889999  85.349998  84.449997  84.750000  4704500   \n",
       "2004-08-20  55.212502  85.250000  85.250000  84.519997  84.519997  4501400   \n",
       "2004-08-23  54.823910  84.650002  85.449997  84.650002  85.230003  4260600   \n",
       "2004-08-24  54.862782  84.709999  85.150002  84.349998  85.000000  2710400   \n",
       "2004-08-25  55.095955  85.070000  85.269997  84.550003  85.000000  4405600   \n",
       "\n",
       "            Dividends  Stock Splits   10_ac_ma   20_ac_ma   50_ac_ma  \\\n",
       "Date                                                                   \n",
       "2004-08-19       0.18           0.0  54.397126  54.958798  55.913001   \n",
       "2004-08-20       0.18           0.0  54.511759  54.977556  55.852774   \n",
       "2004-08-23       0.18           0.0  54.582999  54.969128  55.779992   \n",
       "2004-08-24       0.18           0.0  54.564866  54.937116  55.713028   \n",
       "2004-08-25       0.18           0.0  54.654243  54.917732  55.644653   \n",
       "\n",
       "            10_ac_bb_u  10_ac_bb_l  20_ac_bb_u  20_ac_bb_l  50_ac_bb_u  \\\n",
       "Date                                                                     \n",
       "2004-08-19   55.525647   53.268605   56.500281   53.417314   59.046566   \n",
       "2004-08-20   55.720874   53.302644   56.521944   53.433168   58.920109   \n",
       "2004-08-23   55.771068   53.394930   56.515013   53.423244   58.766151   \n",
       "2004-08-24   55.726906   53.402826   56.462835   53.411398   58.625949   \n",
       "2004-08-25   55.829713   53.478772   56.423940   53.411524   58.447571   \n",
       "\n",
       "            50_ac_bb_l  \n",
       "Date                    \n",
       "2004-08-19   52.779437  \n",
       "2004-08-20   52.785438  \n",
       "2004-08-23   52.793832  \n",
       "2004-08-24   52.800108  \n",
       "2004-08-25   52.841736  "
      ]
     },
     "execution_count": 136,
     "metadata": {},
     "output_type": "execute_result"
    }
   ],
   "source": [
    "df_ibm_train.head()"
   ]
  },
  {
   "cell_type": "code",
   "execution_count": 138,
   "id": "peripheral-majority",
   "metadata": {},
   "outputs": [
    {
     "data": {
      "text/html": [
       "<div>\n",
       "<style scoped>\n",
       "    .dataframe tbody tr th:only-of-type {\n",
       "        vertical-align: middle;\n",
       "    }\n",
       "\n",
       "    .dataframe tbody tr th {\n",
       "        vertical-align: top;\n",
       "    }\n",
       "\n",
       "    .dataframe thead th {\n",
       "        text-align: right;\n",
       "    }\n",
       "</style>\n",
       "<table border=\"1\" class=\"dataframe\">\n",
       "  <thead>\n",
       "    <tr style=\"text-align: right;\">\n",
       "      <th></th>\n",
       "      <th>Adj Close</th>\n",
       "      <th>Close</th>\n",
       "      <th>High</th>\n",
       "      <th>Low</th>\n",
       "      <th>Open</th>\n",
       "      <th>Volume</th>\n",
       "      <th>Dividends</th>\n",
       "      <th>Stock Splits</th>\n",
       "      <th>10_ac_ma</th>\n",
       "      <th>20_ac_ma</th>\n",
       "      <th>50_ac_ma</th>\n",
       "      <th>10_ac_bb_u</th>\n",
       "      <th>10_ac_bb_l</th>\n",
       "      <th>20_ac_bb_u</th>\n",
       "      <th>20_ac_bb_l</th>\n",
       "      <th>50_ac_bb_u</th>\n",
       "      <th>50_ac_bb_l</th>\n",
       "    </tr>\n",
       "    <tr>\n",
       "      <th>Date</th>\n",
       "      <th></th>\n",
       "      <th></th>\n",
       "      <th></th>\n",
       "      <th></th>\n",
       "      <th></th>\n",
       "      <th></th>\n",
       "      <th></th>\n",
       "      <th></th>\n",
       "      <th></th>\n",
       "      <th></th>\n",
       "      <th></th>\n",
       "      <th></th>\n",
       "      <th></th>\n",
       "      <th></th>\n",
       "      <th></th>\n",
       "      <th></th>\n",
       "      <th></th>\n",
       "    </tr>\n",
       "  </thead>\n",
       "  <tbody>\n",
       "    <tr>\n",
       "      <th>2004-08-19</th>\n",
       "      <td>54.979382</td>\n",
       "      <td>84.889999</td>\n",
       "      <td>85.349998</td>\n",
       "      <td>84.449997</td>\n",
       "      <td>84.750000</td>\n",
       "      <td>4704500</td>\n",
       "      <td>0.18</td>\n",
       "      <td>0.0</td>\n",
       "      <td>54.397126</td>\n",
       "      <td>54.958798</td>\n",
       "      <td>55.913001</td>\n",
       "      <td>55.525647</td>\n",
       "      <td>53.268605</td>\n",
       "      <td>56.500281</td>\n",
       "      <td>53.417314</td>\n",
       "      <td>59.046566</td>\n",
       "      <td>52.779437</td>\n",
       "    </tr>\n",
       "    <tr>\n",
       "      <th>2004-08-20</th>\n",
       "      <td>55.212502</td>\n",
       "      <td>85.250000</td>\n",
       "      <td>85.250000</td>\n",
       "      <td>84.519997</td>\n",
       "      <td>84.519997</td>\n",
       "      <td>4501400</td>\n",
       "      <td>0.18</td>\n",
       "      <td>0.0</td>\n",
       "      <td>54.511759</td>\n",
       "      <td>54.977556</td>\n",
       "      <td>55.852774</td>\n",
       "      <td>55.720874</td>\n",
       "      <td>53.302644</td>\n",
       "      <td>56.521944</td>\n",
       "      <td>53.433168</td>\n",
       "      <td>58.920109</td>\n",
       "      <td>52.785438</td>\n",
       "    </tr>\n",
       "    <tr>\n",
       "      <th>2004-08-23</th>\n",
       "      <td>54.823910</td>\n",
       "      <td>84.650002</td>\n",
       "      <td>85.449997</td>\n",
       "      <td>84.650002</td>\n",
       "      <td>85.230003</td>\n",
       "      <td>4260600</td>\n",
       "      <td>0.18</td>\n",
       "      <td>0.0</td>\n",
       "      <td>54.582999</td>\n",
       "      <td>54.969128</td>\n",
       "      <td>55.779992</td>\n",
       "      <td>55.771068</td>\n",
       "      <td>53.394930</td>\n",
       "      <td>56.515013</td>\n",
       "      <td>53.423244</td>\n",
       "      <td>58.766151</td>\n",
       "      <td>52.793832</td>\n",
       "    </tr>\n",
       "    <tr>\n",
       "      <th>2004-08-24</th>\n",
       "      <td>54.862782</td>\n",
       "      <td>84.709999</td>\n",
       "      <td>85.150002</td>\n",
       "      <td>84.349998</td>\n",
       "      <td>85.000000</td>\n",
       "      <td>2710400</td>\n",
       "      <td>0.18</td>\n",
       "      <td>0.0</td>\n",
       "      <td>54.564866</td>\n",
       "      <td>54.937116</td>\n",
       "      <td>55.713028</td>\n",
       "      <td>55.726906</td>\n",
       "      <td>53.402826</td>\n",
       "      <td>56.462835</td>\n",
       "      <td>53.411398</td>\n",
       "      <td>58.625949</td>\n",
       "      <td>52.800108</td>\n",
       "    </tr>\n",
       "    <tr>\n",
       "      <th>2004-08-25</th>\n",
       "      <td>55.095955</td>\n",
       "      <td>85.070000</td>\n",
       "      <td>85.269997</td>\n",
       "      <td>84.550003</td>\n",
       "      <td>85.000000</td>\n",
       "      <td>4405600</td>\n",
       "      <td>0.18</td>\n",
       "      <td>0.0</td>\n",
       "      <td>54.654243</td>\n",
       "      <td>54.917732</td>\n",
       "      <td>55.644653</td>\n",
       "      <td>55.829713</td>\n",
       "      <td>53.478772</td>\n",
       "      <td>56.423940</td>\n",
       "      <td>53.411524</td>\n",
       "      <td>58.447571</td>\n",
       "      <td>52.841736</td>\n",
       "    </tr>\n",
       "  </tbody>\n",
       "</table>\n",
       "</div>"
      ],
      "text/plain": [
       "            Adj Close      Close       High        Low       Open   Volume  \\\n",
       "Date                                                                         \n",
       "2004-08-19  54.979382  84.889999  85.349998  84.449997  84.750000  4704500   \n",
       "2004-08-20  55.212502  85.250000  85.250000  84.519997  84.519997  4501400   \n",
       "2004-08-23  54.823910  84.650002  85.449997  84.650002  85.230003  4260600   \n",
       "2004-08-24  54.862782  84.709999  85.150002  84.349998  85.000000  2710400   \n",
       "2004-08-25  55.095955  85.070000  85.269997  84.550003  85.000000  4405600   \n",
       "\n",
       "            Dividends  Stock Splits   10_ac_ma   20_ac_ma   50_ac_ma  \\\n",
       "Date                                                                   \n",
       "2004-08-19       0.18           0.0  54.397126  54.958798  55.913001   \n",
       "2004-08-20       0.18           0.0  54.511759  54.977556  55.852774   \n",
       "2004-08-23       0.18           0.0  54.582999  54.969128  55.779992   \n",
       "2004-08-24       0.18           0.0  54.564866  54.937116  55.713028   \n",
       "2004-08-25       0.18           0.0  54.654243  54.917732  55.644653   \n",
       "\n",
       "            10_ac_bb_u  10_ac_bb_l  20_ac_bb_u  20_ac_bb_l  50_ac_bb_u  \\\n",
       "Date                                                                     \n",
       "2004-08-19   55.525647   53.268605   56.500281   53.417314   59.046566   \n",
       "2004-08-20   55.720874   53.302644   56.521944   53.433168   58.920109   \n",
       "2004-08-23   55.771068   53.394930   56.515013   53.423244   58.766151   \n",
       "2004-08-24   55.726906   53.402826   56.462835   53.411398   58.625949   \n",
       "2004-08-25   55.829713   53.478772   56.423940   53.411524   58.447571   \n",
       "\n",
       "            50_ac_bb_l  \n",
       "Date                    \n",
       "2004-08-19   52.779437  \n",
       "2004-08-20   52.785438  \n",
       "2004-08-23   52.793832  \n",
       "2004-08-24   52.800108  \n",
       "2004-08-25   52.841736  "
      ]
     },
     "execution_count": 138,
     "metadata": {},
     "output_type": "execute_result"
    }
   ],
   "source": [
    "df_ibm_test.head()"
   ]
  },
  {
   "cell_type": "code",
   "execution_count": 140,
   "id": "optimum-record",
   "metadata": {},
   "outputs": [
    {
     "data": {
      "text/html": [
       "<div>\n",
       "<style scoped>\n",
       "    .dataframe tbody tr th:only-of-type {\n",
       "        vertical-align: middle;\n",
       "    }\n",
       "\n",
       "    .dataframe tbody tr th {\n",
       "        vertical-align: top;\n",
       "    }\n",
       "\n",
       "    .dataframe thead th {\n",
       "        text-align: right;\n",
       "    }\n",
       "</style>\n",
       "<table border=\"1\" class=\"dataframe\">\n",
       "  <thead>\n",
       "    <tr style=\"text-align: right;\">\n",
       "      <th></th>\n",
       "      <th>Adj Close</th>\n",
       "      <th>Close</th>\n",
       "      <th>High</th>\n",
       "      <th>Low</th>\n",
       "      <th>Open</th>\n",
       "      <th>Volume</th>\n",
       "      <th>Dividends</th>\n",
       "      <th>Stock Splits</th>\n",
       "      <th>10_ac_ma</th>\n",
       "      <th>20_ac_ma</th>\n",
       "      <th>50_ac_ma</th>\n",
       "      <th>10_ac_bb_u</th>\n",
       "      <th>10_ac_bb_l</th>\n",
       "      <th>20_ac_bb_u</th>\n",
       "      <th>20_ac_bb_l</th>\n",
       "      <th>50_ac_bb_u</th>\n",
       "      <th>50_ac_bb_l</th>\n",
       "    </tr>\n",
       "    <tr>\n",
       "      <th>Date</th>\n",
       "      <th></th>\n",
       "      <th></th>\n",
       "      <th></th>\n",
       "      <th></th>\n",
       "      <th></th>\n",
       "      <th></th>\n",
       "      <th></th>\n",
       "      <th></th>\n",
       "      <th></th>\n",
       "      <th></th>\n",
       "      <th></th>\n",
       "      <th></th>\n",
       "      <th></th>\n",
       "      <th></th>\n",
       "      <th></th>\n",
       "      <th></th>\n",
       "      <th></th>\n",
       "    </tr>\n",
       "  </thead>\n",
       "  <tbody>\n",
       "    <tr>\n",
       "      <th>2021-02-22</th>\n",
       "      <td>120.860001</td>\n",
       "      <td>120.860001</td>\n",
       "      <td>121.129997</td>\n",
       "      <td>118.440002</td>\n",
       "      <td>118.500000</td>\n",
       "      <td>5879200</td>\n",
       "      <td>NaN</td>\n",
       "      <td>NaN</td>\n",
       "      <td>120.865001</td>\n",
       "      <td>119.870243</td>\n",
       "      <td>122.653422</td>\n",
       "      <td>122.934059</td>\n",
       "      <td>118.795943</td>\n",
       "      <td>123.033291</td>\n",
       "      <td>116.707195</td>\n",
       "      <td>129.125993</td>\n",
       "      <td>116.180851</td>\n",
       "    </tr>\n",
       "    <tr>\n",
       "      <th>2021-02-23</th>\n",
       "      <td>120.709999</td>\n",
       "      <td>120.709999</td>\n",
       "      <td>121.349998</td>\n",
       "      <td>119.800003</td>\n",
       "      <td>120.919998</td>\n",
       "      <td>4531300</td>\n",
       "      <td>NaN</td>\n",
       "      <td>NaN</td>\n",
       "      <td>120.738000</td>\n",
       "      <td>120.054926</td>\n",
       "      <td>122.565260</td>\n",
       "      <td>122.653059</td>\n",
       "      <td>118.822942</td>\n",
       "      <td>122.935035</td>\n",
       "      <td>117.174818</td>\n",
       "      <td>129.020870</td>\n",
       "      <td>116.109651</td>\n",
       "    </tr>\n",
       "    <tr>\n",
       "      <th>2021-02-24</th>\n",
       "      <td>123.209999</td>\n",
       "      <td>123.209999</td>\n",
       "      <td>123.489998</td>\n",
       "      <td>120.519997</td>\n",
       "      <td>120.800003</td>\n",
       "      <td>5820000</td>\n",
       "      <td>NaN</td>\n",
       "      <td>NaN</td>\n",
       "      <td>120.849001</td>\n",
       "      <td>120.171688</td>\n",
       "      <td>122.563217</td>\n",
       "      <td>123.195088</td>\n",
       "      <td>118.502913</td>\n",
       "      <td>123.364148</td>\n",
       "      <td>116.979228</td>\n",
       "      <td>129.017925</td>\n",
       "      <td>116.108508</td>\n",
       "    </tr>\n",
       "    <tr>\n",
       "      <th>2021-02-25</th>\n",
       "      <td>122.470001</td>\n",
       "      <td>122.470001</td>\n",
       "      <td>124.349998</td>\n",
       "      <td>122.339996</td>\n",
       "      <td>123.370003</td>\n",
       "      <td>5691800</td>\n",
       "      <td>NaN</td>\n",
       "      <td>NaN</td>\n",
       "      <td>120.872001</td>\n",
       "      <td>120.252436</td>\n",
       "      <td>122.559991</td>\n",
       "      <td>123.282327</td>\n",
       "      <td>118.461674</td>\n",
       "      <td>123.595802</td>\n",
       "      <td>116.909071</td>\n",
       "      <td>129.014722</td>\n",
       "      <td>116.105260</td>\n",
       "    </tr>\n",
       "    <tr>\n",
       "      <th>2021-02-26</th>\n",
       "      <td>118.930000</td>\n",
       "      <td>118.930000</td>\n",
       "      <td>122.250000</td>\n",
       "      <td>118.879997</td>\n",
       "      <td>122.250000</td>\n",
       "      <td>9044900</td>\n",
       "      <td>NaN</td>\n",
       "      <td>NaN</td>\n",
       "      <td>120.674001</td>\n",
       "      <td>120.274109</td>\n",
       "      <td>122.500570</td>\n",
       "      <td>123.377878</td>\n",
       "      <td>117.970123</td>\n",
       "      <td>123.574898</td>\n",
       "      <td>116.973320</td>\n",
       "      <td>129.034279</td>\n",
       "      <td>115.966860</td>\n",
       "    </tr>\n",
       "  </tbody>\n",
       "</table>\n",
       "</div>"
      ],
      "text/plain": [
       "             Adj Close       Close        High         Low        Open  \\\n",
       "Date                                                                     \n",
       "2021-02-22  120.860001  120.860001  121.129997  118.440002  118.500000   \n",
       "2021-02-23  120.709999  120.709999  121.349998  119.800003  120.919998   \n",
       "2021-02-24  123.209999  123.209999  123.489998  120.519997  120.800003   \n",
       "2021-02-25  122.470001  122.470001  124.349998  122.339996  123.370003   \n",
       "2021-02-26  118.930000  118.930000  122.250000  118.879997  122.250000   \n",
       "\n",
       "             Volume  Dividends  Stock Splits    10_ac_ma    20_ac_ma  \\\n",
       "Date                                                                   \n",
       "2021-02-22  5879200        NaN           NaN  120.865001  119.870243   \n",
       "2021-02-23  4531300        NaN           NaN  120.738000  120.054926   \n",
       "2021-02-24  5820000        NaN           NaN  120.849001  120.171688   \n",
       "2021-02-25  5691800        NaN           NaN  120.872001  120.252436   \n",
       "2021-02-26  9044900        NaN           NaN  120.674001  120.274109   \n",
       "\n",
       "              50_ac_ma  10_ac_bb_u  10_ac_bb_l  20_ac_bb_u  20_ac_bb_l  \\\n",
       "Date                                                                     \n",
       "2021-02-22  122.653422  122.934059  118.795943  123.033291  116.707195   \n",
       "2021-02-23  122.565260  122.653059  118.822942  122.935035  117.174818   \n",
       "2021-02-24  122.563217  123.195088  118.502913  123.364148  116.979228   \n",
       "2021-02-25  122.559991  123.282327  118.461674  123.595802  116.909071   \n",
       "2021-02-26  122.500570  123.377878  117.970123  123.574898  116.973320   \n",
       "\n",
       "            50_ac_bb_u  50_ac_bb_l  \n",
       "Date                                \n",
       "2021-02-22  129.125993  116.180851  \n",
       "2021-02-23  129.020870  116.109651  \n",
       "2021-02-24  129.017925  116.108508  \n",
       "2021-02-25  129.014722  116.105260  \n",
       "2021-02-26  129.034279  115.966860  "
      ]
     },
     "execution_count": 140,
     "metadata": {},
     "output_type": "execute_result"
    }
   ],
   "source": [
    "df_ibm_valid.head()"
   ]
  },
  {
   "cell_type": "markdown",
   "id": "partial-letter",
   "metadata": {},
   "source": [
    "#### Apple Inc. Stock train test split"
   ]
  },
  {
   "cell_type": "code",
   "execution_count": 142,
   "id": "limiting-afternoon",
   "metadata": {},
   "outputs": [],
   "source": [
    "df_aapl = df_aapl.loc[data_start:].copy()"
   ]
  },
  {
   "cell_type": "code",
   "execution_count": 144,
   "id": "instant-mortality",
   "metadata": {},
   "outputs": [
    {
     "name": "stdout",
     "output_type": "stream",
     "text": [
      "4175 4135 4155 20\n"
     ]
    }
   ],
   "source": [
    "df_aapl_train, df_aapl_test, df_aapl_valid = train_test_valid_split(df_aapl, prediction_length=prediction_length[1])\n",
    "print(len(df_aapl), len(df_aapl_train), len(df_aapl_test), len(df_aapl_valid))"
   ]
  },
  {
   "cell_type": "code",
   "execution_count": 146,
   "id": "twenty-harrison",
   "metadata": {},
   "outputs": [
    {
     "data": {
      "text/html": [
       "<div>\n",
       "<style scoped>\n",
       "    .dataframe tbody tr th:only-of-type {\n",
       "        vertical-align: middle;\n",
       "    }\n",
       "\n",
       "    .dataframe tbody tr th {\n",
       "        vertical-align: top;\n",
       "    }\n",
       "\n",
       "    .dataframe thead th {\n",
       "        text-align: right;\n",
       "    }\n",
       "</style>\n",
       "<table border=\"1\" class=\"dataframe\">\n",
       "  <thead>\n",
       "    <tr style=\"text-align: right;\">\n",
       "      <th></th>\n",
       "      <th>Adj Close</th>\n",
       "      <th>Close</th>\n",
       "      <th>High</th>\n",
       "      <th>Low</th>\n",
       "      <th>Open</th>\n",
       "      <th>Volume</th>\n",
       "      <th>Dividends</th>\n",
       "      <th>Stock Splits</th>\n",
       "      <th>10_ac_ma</th>\n",
       "      <th>20_ac_ma</th>\n",
       "      <th>50_ac_ma</th>\n",
       "      <th>10_ac_bb_u</th>\n",
       "      <th>10_ac_bb_l</th>\n",
       "      <th>20_ac_bb_u</th>\n",
       "      <th>20_ac_bb_l</th>\n",
       "      <th>50_ac_bb_u</th>\n",
       "      <th>50_ac_bb_l</th>\n",
       "    </tr>\n",
       "    <tr>\n",
       "      <th>Date</th>\n",
       "      <th></th>\n",
       "      <th></th>\n",
       "      <th></th>\n",
       "      <th></th>\n",
       "      <th></th>\n",
       "      <th></th>\n",
       "      <th></th>\n",
       "      <th></th>\n",
       "      <th></th>\n",
       "      <th></th>\n",
       "      <th></th>\n",
       "      <th></th>\n",
       "      <th></th>\n",
       "      <th></th>\n",
       "      <th></th>\n",
       "      <th></th>\n",
       "      <th></th>\n",
       "    </tr>\n",
       "  </thead>\n",
       "  <tbody>\n",
       "    <tr>\n",
       "      <th>2004-08-19</th>\n",
       "      <td>0.472366</td>\n",
       "      <td>0.548393</td>\n",
       "      <td>0.568929</td>\n",
       "      <td>0.542143</td>\n",
       "      <td>0.562679</td>\n",
       "      <td>388920000.0</td>\n",
       "      <td>0.0</td>\n",
       "      <td>2.0</td>\n",
       "      <td>0.473627</td>\n",
       "      <td>0.481141</td>\n",
       "      <td>0.484422</td>\n",
       "      <td>0.491197</td>\n",
       "      <td>0.456057</td>\n",
       "      <td>0.504857</td>\n",
       "      <td>0.457425</td>\n",
       "      <td>0.519835</td>\n",
       "      <td>0.449008</td>\n",
       "    </tr>\n",
       "    <tr>\n",
       "      <th>2004-08-20</th>\n",
       "      <td>0.473750</td>\n",
       "      <td>0.550000</td>\n",
       "      <td>0.553393</td>\n",
       "      <td>0.544464</td>\n",
       "      <td>0.548393</td>\n",
       "      <td>316780800.0</td>\n",
       "      <td>0.0</td>\n",
       "      <td>2.0</td>\n",
       "      <td>0.475196</td>\n",
       "      <td>0.481218</td>\n",
       "      <td>0.484606</td>\n",
       "      <td>0.488983</td>\n",
       "      <td>0.461409</td>\n",
       "      <td>0.504821</td>\n",
       "      <td>0.457614</td>\n",
       "      <td>0.519691</td>\n",
       "      <td>0.449521</td>\n",
       "    </tr>\n",
       "    <tr>\n",
       "      <th>2004-08-23</th>\n",
       "      <td>0.478057</td>\n",
       "      <td>0.555000</td>\n",
       "      <td>0.558393</td>\n",
       "      <td>0.546429</td>\n",
       "      <td>0.551071</td>\n",
       "      <td>254660000.0</td>\n",
       "      <td>0.0</td>\n",
       "      <td>2.0</td>\n",
       "      <td>0.476395</td>\n",
       "      <td>0.481079</td>\n",
       "      <td>0.484711</td>\n",
       "      <td>0.488652</td>\n",
       "      <td>0.464139</td>\n",
       "      <td>0.504725</td>\n",
       "      <td>0.457433</td>\n",
       "      <td>0.519683</td>\n",
       "      <td>0.449738</td>\n",
       "    </tr>\n",
       "    <tr>\n",
       "      <th>2004-08-24</th>\n",
       "      <td>0.491439</td>\n",
       "      <td>0.570536</td>\n",
       "      <td>0.570536</td>\n",
       "      <td>0.556964</td>\n",
       "      <td>0.558214</td>\n",
       "      <td>374136000.0</td>\n",
       "      <td>0.0</td>\n",
       "      <td>2.0</td>\n",
       "      <td>0.477057</td>\n",
       "      <td>0.480710</td>\n",
       "      <td>0.485274</td>\n",
       "      <td>0.491797</td>\n",
       "      <td>0.462317</td>\n",
       "      <td>0.503401</td>\n",
       "      <td>0.458019</td>\n",
       "      <td>0.519742</td>\n",
       "      <td>0.450806</td>\n",
       "    </tr>\n",
       "    <tr>\n",
       "      <th>2004-08-25</th>\n",
       "      <td>0.508359</td>\n",
       "      <td>0.590179</td>\n",
       "      <td>0.591964</td>\n",
       "      <td>0.566607</td>\n",
       "      <td>0.569107</td>\n",
       "      <td>505618400.0</td>\n",
       "      <td>0.0</td>\n",
       "      <td>2.0</td>\n",
       "      <td>0.480195</td>\n",
       "      <td>0.481310</td>\n",
       "      <td>0.486000</td>\n",
       "      <td>0.504872</td>\n",
       "      <td>0.455517</td>\n",
       "      <td>0.506265</td>\n",
       "      <td>0.456355</td>\n",
       "      <td>0.520858</td>\n",
       "      <td>0.451141</td>\n",
       "    </tr>\n",
       "  </tbody>\n",
       "</table>\n",
       "</div>"
      ],
      "text/plain": [
       "            Adj Close     Close      High       Low      Open       Volume  \\\n",
       "Date                                                                         \n",
       "2004-08-19   0.472366  0.548393  0.568929  0.542143  0.562679  388920000.0   \n",
       "2004-08-20   0.473750  0.550000  0.553393  0.544464  0.548393  316780800.0   \n",
       "2004-08-23   0.478057  0.555000  0.558393  0.546429  0.551071  254660000.0   \n",
       "2004-08-24   0.491439  0.570536  0.570536  0.556964  0.558214  374136000.0   \n",
       "2004-08-25   0.508359  0.590179  0.591964  0.566607  0.569107  505618400.0   \n",
       "\n",
       "            Dividends  Stock Splits  10_ac_ma  20_ac_ma  50_ac_ma  10_ac_bb_u  \\\n",
       "Date                                                                            \n",
       "2004-08-19        0.0           2.0  0.473627  0.481141  0.484422    0.491197   \n",
       "2004-08-20        0.0           2.0  0.475196  0.481218  0.484606    0.488983   \n",
       "2004-08-23        0.0           2.0  0.476395  0.481079  0.484711    0.488652   \n",
       "2004-08-24        0.0           2.0  0.477057  0.480710  0.485274    0.491797   \n",
       "2004-08-25        0.0           2.0  0.480195  0.481310  0.486000    0.504872   \n",
       "\n",
       "            10_ac_bb_l  20_ac_bb_u  20_ac_bb_l  50_ac_bb_u  50_ac_bb_l  \n",
       "Date                                                                    \n",
       "2004-08-19    0.456057    0.504857    0.457425    0.519835    0.449008  \n",
       "2004-08-20    0.461409    0.504821    0.457614    0.519691    0.449521  \n",
       "2004-08-23    0.464139    0.504725    0.457433    0.519683    0.449738  \n",
       "2004-08-24    0.462317    0.503401    0.458019    0.519742    0.450806  \n",
       "2004-08-25    0.455517    0.506265    0.456355    0.520858    0.451141  "
      ]
     },
     "execution_count": 146,
     "metadata": {},
     "output_type": "execute_result"
    }
   ],
   "source": [
    "df_aapl_train.head()"
   ]
  },
  {
   "cell_type": "code",
   "execution_count": 148,
   "id": "weird-roulette",
   "metadata": {},
   "outputs": [
    {
     "data": {
      "text/html": [
       "<div>\n",
       "<style scoped>\n",
       "    .dataframe tbody tr th:only-of-type {\n",
       "        vertical-align: middle;\n",
       "    }\n",
       "\n",
       "    .dataframe tbody tr th {\n",
       "        vertical-align: top;\n",
       "    }\n",
       "\n",
       "    .dataframe thead th {\n",
       "        text-align: right;\n",
       "    }\n",
       "</style>\n",
       "<table border=\"1\" class=\"dataframe\">\n",
       "  <thead>\n",
       "    <tr style=\"text-align: right;\">\n",
       "      <th></th>\n",
       "      <th>Adj Close</th>\n",
       "      <th>Close</th>\n",
       "      <th>High</th>\n",
       "      <th>Low</th>\n",
       "      <th>Open</th>\n",
       "      <th>Volume</th>\n",
       "      <th>Dividends</th>\n",
       "      <th>Stock Splits</th>\n",
       "      <th>10_ac_ma</th>\n",
       "      <th>20_ac_ma</th>\n",
       "      <th>50_ac_ma</th>\n",
       "      <th>10_ac_bb_u</th>\n",
       "      <th>10_ac_bb_l</th>\n",
       "      <th>20_ac_bb_u</th>\n",
       "      <th>20_ac_bb_l</th>\n",
       "      <th>50_ac_bb_u</th>\n",
       "      <th>50_ac_bb_l</th>\n",
       "    </tr>\n",
       "    <tr>\n",
       "      <th>Date</th>\n",
       "      <th></th>\n",
       "      <th></th>\n",
       "      <th></th>\n",
       "      <th></th>\n",
       "      <th></th>\n",
       "      <th></th>\n",
       "      <th></th>\n",
       "      <th></th>\n",
       "      <th></th>\n",
       "      <th></th>\n",
       "      <th></th>\n",
       "      <th></th>\n",
       "      <th></th>\n",
       "      <th></th>\n",
       "      <th></th>\n",
       "      <th></th>\n",
       "      <th></th>\n",
       "    </tr>\n",
       "  </thead>\n",
       "  <tbody>\n",
       "    <tr>\n",
       "      <th>2004-08-19</th>\n",
       "      <td>0.472366</td>\n",
       "      <td>0.548393</td>\n",
       "      <td>0.568929</td>\n",
       "      <td>0.542143</td>\n",
       "      <td>0.562679</td>\n",
       "      <td>388920000.0</td>\n",
       "      <td>0.0</td>\n",
       "      <td>2.0</td>\n",
       "      <td>0.473627</td>\n",
       "      <td>0.481141</td>\n",
       "      <td>0.484422</td>\n",
       "      <td>0.491197</td>\n",
       "      <td>0.456057</td>\n",
       "      <td>0.504857</td>\n",
       "      <td>0.457425</td>\n",
       "      <td>0.519835</td>\n",
       "      <td>0.449008</td>\n",
       "    </tr>\n",
       "    <tr>\n",
       "      <th>2004-08-20</th>\n",
       "      <td>0.473750</td>\n",
       "      <td>0.550000</td>\n",
       "      <td>0.553393</td>\n",
       "      <td>0.544464</td>\n",
       "      <td>0.548393</td>\n",
       "      <td>316780800.0</td>\n",
       "      <td>0.0</td>\n",
       "      <td>2.0</td>\n",
       "      <td>0.475196</td>\n",
       "      <td>0.481218</td>\n",
       "      <td>0.484606</td>\n",
       "      <td>0.488983</td>\n",
       "      <td>0.461409</td>\n",
       "      <td>0.504821</td>\n",
       "      <td>0.457614</td>\n",
       "      <td>0.519691</td>\n",
       "      <td>0.449521</td>\n",
       "    </tr>\n",
       "    <tr>\n",
       "      <th>2004-08-23</th>\n",
       "      <td>0.478057</td>\n",
       "      <td>0.555000</td>\n",
       "      <td>0.558393</td>\n",
       "      <td>0.546429</td>\n",
       "      <td>0.551071</td>\n",
       "      <td>254660000.0</td>\n",
       "      <td>0.0</td>\n",
       "      <td>2.0</td>\n",
       "      <td>0.476395</td>\n",
       "      <td>0.481079</td>\n",
       "      <td>0.484711</td>\n",
       "      <td>0.488652</td>\n",
       "      <td>0.464139</td>\n",
       "      <td>0.504725</td>\n",
       "      <td>0.457433</td>\n",
       "      <td>0.519683</td>\n",
       "      <td>0.449738</td>\n",
       "    </tr>\n",
       "    <tr>\n",
       "      <th>2004-08-24</th>\n",
       "      <td>0.491439</td>\n",
       "      <td>0.570536</td>\n",
       "      <td>0.570536</td>\n",
       "      <td>0.556964</td>\n",
       "      <td>0.558214</td>\n",
       "      <td>374136000.0</td>\n",
       "      <td>0.0</td>\n",
       "      <td>2.0</td>\n",
       "      <td>0.477057</td>\n",
       "      <td>0.480710</td>\n",
       "      <td>0.485274</td>\n",
       "      <td>0.491797</td>\n",
       "      <td>0.462317</td>\n",
       "      <td>0.503401</td>\n",
       "      <td>0.458019</td>\n",
       "      <td>0.519742</td>\n",
       "      <td>0.450806</td>\n",
       "    </tr>\n",
       "    <tr>\n",
       "      <th>2004-08-25</th>\n",
       "      <td>0.508359</td>\n",
       "      <td>0.590179</td>\n",
       "      <td>0.591964</td>\n",
       "      <td>0.566607</td>\n",
       "      <td>0.569107</td>\n",
       "      <td>505618400.0</td>\n",
       "      <td>0.0</td>\n",
       "      <td>2.0</td>\n",
       "      <td>0.480195</td>\n",
       "      <td>0.481310</td>\n",
       "      <td>0.486000</td>\n",
       "      <td>0.504872</td>\n",
       "      <td>0.455517</td>\n",
       "      <td>0.506265</td>\n",
       "      <td>0.456355</td>\n",
       "      <td>0.520858</td>\n",
       "      <td>0.451141</td>\n",
       "    </tr>\n",
       "  </tbody>\n",
       "</table>\n",
       "</div>"
      ],
      "text/plain": [
       "            Adj Close     Close      High       Low      Open       Volume  \\\n",
       "Date                                                                         \n",
       "2004-08-19   0.472366  0.548393  0.568929  0.542143  0.562679  388920000.0   \n",
       "2004-08-20   0.473750  0.550000  0.553393  0.544464  0.548393  316780800.0   \n",
       "2004-08-23   0.478057  0.555000  0.558393  0.546429  0.551071  254660000.0   \n",
       "2004-08-24   0.491439  0.570536  0.570536  0.556964  0.558214  374136000.0   \n",
       "2004-08-25   0.508359  0.590179  0.591964  0.566607  0.569107  505618400.0   \n",
       "\n",
       "            Dividends  Stock Splits  10_ac_ma  20_ac_ma  50_ac_ma  10_ac_bb_u  \\\n",
       "Date                                                                            \n",
       "2004-08-19        0.0           2.0  0.473627  0.481141  0.484422    0.491197   \n",
       "2004-08-20        0.0           2.0  0.475196  0.481218  0.484606    0.488983   \n",
       "2004-08-23        0.0           2.0  0.476395  0.481079  0.484711    0.488652   \n",
       "2004-08-24        0.0           2.0  0.477057  0.480710  0.485274    0.491797   \n",
       "2004-08-25        0.0           2.0  0.480195  0.481310  0.486000    0.504872   \n",
       "\n",
       "            10_ac_bb_l  20_ac_bb_u  20_ac_bb_l  50_ac_bb_u  50_ac_bb_l  \n",
       "Date                                                                    \n",
       "2004-08-19    0.456057    0.504857    0.457425    0.519835    0.449008  \n",
       "2004-08-20    0.461409    0.504821    0.457614    0.519691    0.449521  \n",
       "2004-08-23    0.464139    0.504725    0.457433    0.519683    0.449738  \n",
       "2004-08-24    0.462317    0.503401    0.458019    0.519742    0.450806  \n",
       "2004-08-25    0.455517    0.506265    0.456355    0.520858    0.451141  "
      ]
     },
     "execution_count": 148,
     "metadata": {},
     "output_type": "execute_result"
    }
   ],
   "source": [
    "df_aapl_test.head()"
   ]
  },
  {
   "cell_type": "code",
   "execution_count": 150,
   "id": "suburban-liechtenstein",
   "metadata": {},
   "outputs": [
    {
     "data": {
      "text/html": [
       "<div>\n",
       "<style scoped>\n",
       "    .dataframe tbody tr th:only-of-type {\n",
       "        vertical-align: middle;\n",
       "    }\n",
       "\n",
       "    .dataframe tbody tr th {\n",
       "        vertical-align: top;\n",
       "    }\n",
       "\n",
       "    .dataframe thead th {\n",
       "        text-align: right;\n",
       "    }\n",
       "</style>\n",
       "<table border=\"1\" class=\"dataframe\">\n",
       "  <thead>\n",
       "    <tr style=\"text-align: right;\">\n",
       "      <th></th>\n",
       "      <th>Adj Close</th>\n",
       "      <th>Close</th>\n",
       "      <th>High</th>\n",
       "      <th>Low</th>\n",
       "      <th>Open</th>\n",
       "      <th>Volume</th>\n",
       "      <th>Dividends</th>\n",
       "      <th>Stock Splits</th>\n",
       "      <th>10_ac_ma</th>\n",
       "      <th>20_ac_ma</th>\n",
       "      <th>50_ac_ma</th>\n",
       "      <th>10_ac_bb_u</th>\n",
       "      <th>10_ac_bb_l</th>\n",
       "      <th>20_ac_bb_u</th>\n",
       "      <th>20_ac_bb_l</th>\n",
       "      <th>50_ac_bb_u</th>\n",
       "      <th>50_ac_bb_l</th>\n",
       "    </tr>\n",
       "    <tr>\n",
       "      <th>Date</th>\n",
       "      <th></th>\n",
       "      <th></th>\n",
       "      <th></th>\n",
       "      <th></th>\n",
       "      <th></th>\n",
       "      <th></th>\n",
       "      <th></th>\n",
       "      <th></th>\n",
       "      <th></th>\n",
       "      <th></th>\n",
       "      <th></th>\n",
       "      <th></th>\n",
       "      <th></th>\n",
       "      <th></th>\n",
       "      <th></th>\n",
       "      <th></th>\n",
       "      <th></th>\n",
       "    </tr>\n",
       "  </thead>\n",
       "  <tbody>\n",
       "    <tr>\n",
       "      <th>2021-02-22</th>\n",
       "      <td>126.000000</td>\n",
       "      <td>126.000000</td>\n",
       "      <td>129.720001</td>\n",
       "      <td>125.599998</td>\n",
       "      <td>128.009995</td>\n",
       "      <td>103916400.0</td>\n",
       "      <td>NaN</td>\n",
       "      <td>NaN</td>\n",
       "      <td>132.842000</td>\n",
       "      <td>135.049167</td>\n",
       "      <td>131.739129</td>\n",
       "      <td>139.969011</td>\n",
       "      <td>125.714989</td>\n",
       "      <td>143.693038</td>\n",
       "      <td>126.405296</td>\n",
       "      <td>141.827686</td>\n",
       "      <td>121.650572</td>\n",
       "    </tr>\n",
       "    <tr>\n",
       "      <th>2021-02-23</th>\n",
       "      <td>125.860001</td>\n",
       "      <td>125.860001</td>\n",
       "      <td>126.709999</td>\n",
       "      <td>118.389999</td>\n",
       "      <td>123.760002</td>\n",
       "      <td>158273000.0</td>\n",
       "      <td>NaN</td>\n",
       "      <td>NaN</td>\n",
       "      <td>131.737000</td>\n",
       "      <td>134.206829</td>\n",
       "      <td>131.824364</td>\n",
       "      <td>139.462184</td>\n",
       "      <td>124.011815</td>\n",
       "      <td>142.990963</td>\n",
       "      <td>125.422695</td>\n",
       "      <td>141.631303</td>\n",
       "      <td>122.017424</td>\n",
       "    </tr>\n",
       "    <tr>\n",
       "      <th>2021-02-24</th>\n",
       "      <td>125.349998</td>\n",
       "      <td>125.349998</td>\n",
       "      <td>125.559998</td>\n",
       "      <td>122.230003</td>\n",
       "      <td>124.940002</td>\n",
       "      <td>111039900.0</td>\n",
       "      <td>NaN</td>\n",
       "      <td>NaN</td>\n",
       "      <td>130.671000</td>\n",
       "      <td>133.327009</td>\n",
       "      <td>131.870241</td>\n",
       "      <td>138.711130</td>\n",
       "      <td>122.630870</td>\n",
       "      <td>141.948849</td>\n",
       "      <td>124.705169</td>\n",
       "      <td>141.530117</td>\n",
       "      <td>122.210365</td>\n",
       "    </tr>\n",
       "    <tr>\n",
       "      <th>2021-02-25</th>\n",
       "      <td>120.989998</td>\n",
       "      <td>120.989998</td>\n",
       "      <td>126.459999</td>\n",
       "      <td>120.540001</td>\n",
       "      <td>124.680000</td>\n",
       "      <td>148199500.0</td>\n",
       "      <td>NaN</td>\n",
       "      <td>NaN</td>\n",
       "      <td>129.231000</td>\n",
       "      <td>132.284107</td>\n",
       "      <td>131.845494</td>\n",
       "      <td>138.568264</td>\n",
       "      <td>119.893735</td>\n",
       "      <td>141.585354</td>\n",
       "      <td>122.982861</td>\n",
       "      <td>141.611953</td>\n",
       "      <td>122.079035</td>\n",
       "    </tr>\n",
       "    <tr>\n",
       "      <th>2021-02-26</th>\n",
       "      <td>121.260002</td>\n",
       "      <td>121.260002</td>\n",
       "      <td>124.849998</td>\n",
       "      <td>121.199997</td>\n",
       "      <td>122.589996</td>\n",
       "      <td>164320000.0</td>\n",
       "      <td>NaN</td>\n",
       "      <td>NaN</td>\n",
       "      <td>127.843999</td>\n",
       "      <td>131.502835</td>\n",
       "      <td>131.838728</td>\n",
       "      <td>137.404706</td>\n",
       "      <td>118.283293</td>\n",
       "      <td>141.753261</td>\n",
       "      <td>121.252408</td>\n",
       "      <td>141.634587</td>\n",
       "      <td>122.042870</td>\n",
       "    </tr>\n",
       "  </tbody>\n",
       "</table>\n",
       "</div>"
      ],
      "text/plain": [
       "             Adj Close       Close        High         Low        Open  \\\n",
       "Date                                                                     \n",
       "2021-02-22  126.000000  126.000000  129.720001  125.599998  128.009995   \n",
       "2021-02-23  125.860001  125.860001  126.709999  118.389999  123.760002   \n",
       "2021-02-24  125.349998  125.349998  125.559998  122.230003  124.940002   \n",
       "2021-02-25  120.989998  120.989998  126.459999  120.540001  124.680000   \n",
       "2021-02-26  121.260002  121.260002  124.849998  121.199997  122.589996   \n",
       "\n",
       "                 Volume  Dividends  Stock Splits    10_ac_ma    20_ac_ma  \\\n",
       "Date                                                                       \n",
       "2021-02-22  103916400.0        NaN           NaN  132.842000  135.049167   \n",
       "2021-02-23  158273000.0        NaN           NaN  131.737000  134.206829   \n",
       "2021-02-24  111039900.0        NaN           NaN  130.671000  133.327009   \n",
       "2021-02-25  148199500.0        NaN           NaN  129.231000  132.284107   \n",
       "2021-02-26  164320000.0        NaN           NaN  127.843999  131.502835   \n",
       "\n",
       "              50_ac_ma  10_ac_bb_u  10_ac_bb_l  20_ac_bb_u  20_ac_bb_l  \\\n",
       "Date                                                                     \n",
       "2021-02-22  131.739129  139.969011  125.714989  143.693038  126.405296   \n",
       "2021-02-23  131.824364  139.462184  124.011815  142.990963  125.422695   \n",
       "2021-02-24  131.870241  138.711130  122.630870  141.948849  124.705169   \n",
       "2021-02-25  131.845494  138.568264  119.893735  141.585354  122.982861   \n",
       "2021-02-26  131.838728  137.404706  118.283293  141.753261  121.252408   \n",
       "\n",
       "            50_ac_bb_u  50_ac_bb_l  \n",
       "Date                                \n",
       "2021-02-22  141.827686  121.650572  \n",
       "2021-02-23  141.631303  122.017424  \n",
       "2021-02-24  141.530117  122.210365  \n",
       "2021-02-25  141.611953  122.079035  \n",
       "2021-02-26  141.634587  122.042870  "
      ]
     },
     "execution_count": 150,
     "metadata": {},
     "output_type": "execute_result"
    }
   ],
   "source": [
    "df_aapl_valid.head()"
   ]
  },
  {
   "cell_type": "markdown",
   "id": "chubby-classroom",
   "metadata": {},
   "source": [
    "#### Amazon Stock train test split"
   ]
  },
  {
   "cell_type": "code",
   "execution_count": 151,
   "id": "married-inside",
   "metadata": {},
   "outputs": [],
   "source": [
    "df_amzn = df_amzn.loc[data_start:].copy()"
   ]
  },
  {
   "cell_type": "code",
   "execution_count": 152,
   "id": "czech-supervision",
   "metadata": {},
   "outputs": [
    {
     "name": "stdout",
     "output_type": "stream",
     "text": [
      "4175 4135 4155 20\n"
     ]
    }
   ],
   "source": [
    "df_amzn_train, df_amzn_test, df_amzn_valid = train_test_valid_split(df_amzn, prediction_length=prediction_length[1])\n",
    "print(len(df_amzn), len(df_amzn_train), len(df_amzn_test), len(df_amzn_valid))"
   ]
  },
  {
   "cell_type": "code",
   "execution_count": 153,
   "id": "structural-heading",
   "metadata": {},
   "outputs": [
    {
     "data": {
      "text/html": [
       "<div>\n",
       "<style scoped>\n",
       "    .dataframe tbody tr th:only-of-type {\n",
       "        vertical-align: middle;\n",
       "    }\n",
       "\n",
       "    .dataframe tbody tr th {\n",
       "        vertical-align: top;\n",
       "    }\n",
       "\n",
       "    .dataframe thead th {\n",
       "        text-align: right;\n",
       "    }\n",
       "</style>\n",
       "<table border=\"1\" class=\"dataframe\">\n",
       "  <thead>\n",
       "    <tr style=\"text-align: right;\">\n",
       "      <th></th>\n",
       "      <th>Adj Close</th>\n",
       "      <th>Close</th>\n",
       "      <th>High</th>\n",
       "      <th>Low</th>\n",
       "      <th>Open</th>\n",
       "      <th>Volume</th>\n",
       "      <th>Dividends</th>\n",
       "      <th>Stock Splits</th>\n",
       "      <th>10_ac_ma</th>\n",
       "      <th>20_ac_ma</th>\n",
       "      <th>50_ac_ma</th>\n",
       "      <th>10_ac_bb_u</th>\n",
       "      <th>10_ac_bb_l</th>\n",
       "      <th>20_ac_bb_u</th>\n",
       "      <th>20_ac_bb_l</th>\n",
       "      <th>50_ac_bb_u</th>\n",
       "      <th>50_ac_bb_l</th>\n",
       "    </tr>\n",
       "    <tr>\n",
       "      <th>Date</th>\n",
       "      <th></th>\n",
       "      <th></th>\n",
       "      <th></th>\n",
       "      <th></th>\n",
       "      <th></th>\n",
       "      <th></th>\n",
       "      <th></th>\n",
       "      <th></th>\n",
       "      <th></th>\n",
       "      <th></th>\n",
       "      <th></th>\n",
       "      <th></th>\n",
       "      <th></th>\n",
       "      <th></th>\n",
       "      <th></th>\n",
       "      <th></th>\n",
       "      <th></th>\n",
       "    </tr>\n",
       "  </thead>\n",
       "  <tbody>\n",
       "    <tr>\n",
       "      <th>2004-08-19</th>\n",
       "      <td>38.630001</td>\n",
       "      <td>38.630001</td>\n",
       "      <td>40.480000</td>\n",
       "      <td>36.349998</td>\n",
       "      <td>40.259998</td>\n",
       "      <td>12696100.0</td>\n",
       "      <td>NaN</td>\n",
       "      <td>NaN</td>\n",
       "      <td>37.106001</td>\n",
       "      <td>37.6520</td>\n",
       "      <td>44.9828</td>\n",
       "      <td>39.862539</td>\n",
       "      <td>34.349462</td>\n",
       "      <td>40.417963</td>\n",
       "      <td>34.886038</td>\n",
       "      <td>57.693587</td>\n",
       "      <td>32.272014</td>\n",
       "    </tr>\n",
       "    <tr>\n",
       "      <th>2004-08-20</th>\n",
       "      <td>39.509998</td>\n",
       "      <td>39.509998</td>\n",
       "      <td>39.910000</td>\n",
       "      <td>38.110001</td>\n",
       "      <td>38.459999</td>\n",
       "      <td>6790800.0</td>\n",
       "      <td>NaN</td>\n",
       "      <td>NaN</td>\n",
       "      <td>37.508000</td>\n",
       "      <td>37.6285</td>\n",
       "      <td>44.7682</td>\n",
       "      <td>40.386916</td>\n",
       "      <td>34.629084</td>\n",
       "      <td>40.318115</td>\n",
       "      <td>34.938885</td>\n",
       "      <td>57.479021</td>\n",
       "      <td>32.057379</td>\n",
       "    </tr>\n",
       "    <tr>\n",
       "      <th>2004-08-23</th>\n",
       "      <td>39.450001</td>\n",
       "      <td>39.450001</td>\n",
       "      <td>40.000000</td>\n",
       "      <td>39.110001</td>\n",
       "      <td>39.889999</td>\n",
       "      <td>5532600.0</td>\n",
       "      <td>NaN</td>\n",
       "      <td>NaN</td>\n",
       "      <td>37.921000</td>\n",
       "      <td>37.6620</td>\n",
       "      <td>44.5584</td>\n",
       "      <td>40.581550</td>\n",
       "      <td>35.260450</td>\n",
       "      <td>40.427620</td>\n",
       "      <td>34.896380</td>\n",
       "      <td>57.267085</td>\n",
       "      <td>31.849715</td>\n",
       "    </tr>\n",
       "    <tr>\n",
       "      <th>2004-08-24</th>\n",
       "      <td>39.049999</td>\n",
       "      <td>39.049999</td>\n",
       "      <td>39.930000</td>\n",
       "      <td>38.320000</td>\n",
       "      <td>39.720001</td>\n",
       "      <td>7640400.0</td>\n",
       "      <td>NaN</td>\n",
       "      <td>NaN</td>\n",
       "      <td>38.116000</td>\n",
       "      <td>37.6590</td>\n",
       "      <td>44.3544</td>\n",
       "      <td>40.794891</td>\n",
       "      <td>35.437110</td>\n",
       "      <td>40.418129</td>\n",
       "      <td>34.899871</td>\n",
       "      <td>57.083144</td>\n",
       "      <td>31.625656</td>\n",
       "    </tr>\n",
       "    <tr>\n",
       "      <th>2004-08-25</th>\n",
       "      <td>40.299999</td>\n",
       "      <td>40.299999</td>\n",
       "      <td>40.490002</td>\n",
       "      <td>38.160000</td>\n",
       "      <td>39.060001</td>\n",
       "      <td>7254800.0</td>\n",
       "      <td>NaN</td>\n",
       "      <td>NaN</td>\n",
       "      <td>38.490000</td>\n",
       "      <td>37.7755</td>\n",
       "      <td>44.1582</td>\n",
       "      <td>41.246567</td>\n",
       "      <td>35.733433</td>\n",
       "      <td>40.776113</td>\n",
       "      <td>34.774887</td>\n",
       "      <td>56.827117</td>\n",
       "      <td>31.489283</td>\n",
       "    </tr>\n",
       "  </tbody>\n",
       "</table>\n",
       "</div>"
      ],
      "text/plain": [
       "            Adj Close      Close       High        Low       Open      Volume  \\\n",
       "Date                                                                            \n",
       "2004-08-19  38.630001  38.630001  40.480000  36.349998  40.259998  12696100.0   \n",
       "2004-08-20  39.509998  39.509998  39.910000  38.110001  38.459999   6790800.0   \n",
       "2004-08-23  39.450001  39.450001  40.000000  39.110001  39.889999   5532600.0   \n",
       "2004-08-24  39.049999  39.049999  39.930000  38.320000  39.720001   7640400.0   \n",
       "2004-08-25  40.299999  40.299999  40.490002  38.160000  39.060001   7254800.0   \n",
       "\n",
       "            Dividends  Stock Splits   10_ac_ma  20_ac_ma  50_ac_ma  \\\n",
       "Date                                                                 \n",
       "2004-08-19        NaN           NaN  37.106001   37.6520   44.9828   \n",
       "2004-08-20        NaN           NaN  37.508000   37.6285   44.7682   \n",
       "2004-08-23        NaN           NaN  37.921000   37.6620   44.5584   \n",
       "2004-08-24        NaN           NaN  38.116000   37.6590   44.3544   \n",
       "2004-08-25        NaN           NaN  38.490000   37.7755   44.1582   \n",
       "\n",
       "            10_ac_bb_u  10_ac_bb_l  20_ac_bb_u  20_ac_bb_l  50_ac_bb_u  \\\n",
       "Date                                                                     \n",
       "2004-08-19   39.862539   34.349462   40.417963   34.886038   57.693587   \n",
       "2004-08-20   40.386916   34.629084   40.318115   34.938885   57.479021   \n",
       "2004-08-23   40.581550   35.260450   40.427620   34.896380   57.267085   \n",
       "2004-08-24   40.794891   35.437110   40.418129   34.899871   57.083144   \n",
       "2004-08-25   41.246567   35.733433   40.776113   34.774887   56.827117   \n",
       "\n",
       "            50_ac_bb_l  \n",
       "Date                    \n",
       "2004-08-19   32.272014  \n",
       "2004-08-20   32.057379  \n",
       "2004-08-23   31.849715  \n",
       "2004-08-24   31.625656  \n",
       "2004-08-25   31.489283  "
      ]
     },
     "execution_count": 153,
     "metadata": {},
     "output_type": "execute_result"
    }
   ],
   "source": [
    "df_amzn_train.head()"
   ]
  },
  {
   "cell_type": "code",
   "execution_count": 154,
   "id": "thrown-manchester",
   "metadata": {},
   "outputs": [
    {
     "data": {
      "text/html": [
       "<div>\n",
       "<style scoped>\n",
       "    .dataframe tbody tr th:only-of-type {\n",
       "        vertical-align: middle;\n",
       "    }\n",
       "\n",
       "    .dataframe tbody tr th {\n",
       "        vertical-align: top;\n",
       "    }\n",
       "\n",
       "    .dataframe thead th {\n",
       "        text-align: right;\n",
       "    }\n",
       "</style>\n",
       "<table border=\"1\" class=\"dataframe\">\n",
       "  <thead>\n",
       "    <tr style=\"text-align: right;\">\n",
       "      <th></th>\n",
       "      <th>Adj Close</th>\n",
       "      <th>Close</th>\n",
       "      <th>High</th>\n",
       "      <th>Low</th>\n",
       "      <th>Open</th>\n",
       "      <th>Volume</th>\n",
       "      <th>Dividends</th>\n",
       "      <th>Stock Splits</th>\n",
       "      <th>10_ac_ma</th>\n",
       "      <th>20_ac_ma</th>\n",
       "      <th>50_ac_ma</th>\n",
       "      <th>10_ac_bb_u</th>\n",
       "      <th>10_ac_bb_l</th>\n",
       "      <th>20_ac_bb_u</th>\n",
       "      <th>20_ac_bb_l</th>\n",
       "      <th>50_ac_bb_u</th>\n",
       "      <th>50_ac_bb_l</th>\n",
       "    </tr>\n",
       "    <tr>\n",
       "      <th>Date</th>\n",
       "      <th></th>\n",
       "      <th></th>\n",
       "      <th></th>\n",
       "      <th></th>\n",
       "      <th></th>\n",
       "      <th></th>\n",
       "      <th></th>\n",
       "      <th></th>\n",
       "      <th></th>\n",
       "      <th></th>\n",
       "      <th></th>\n",
       "      <th></th>\n",
       "      <th></th>\n",
       "      <th></th>\n",
       "      <th></th>\n",
       "      <th></th>\n",
       "      <th></th>\n",
       "    </tr>\n",
       "  </thead>\n",
       "  <tbody>\n",
       "    <tr>\n",
       "      <th>2004-08-19</th>\n",
       "      <td>38.630001</td>\n",
       "      <td>38.630001</td>\n",
       "      <td>40.480000</td>\n",
       "      <td>36.349998</td>\n",
       "      <td>40.259998</td>\n",
       "      <td>12696100.0</td>\n",
       "      <td>NaN</td>\n",
       "      <td>NaN</td>\n",
       "      <td>37.106001</td>\n",
       "      <td>37.6520</td>\n",
       "      <td>44.9828</td>\n",
       "      <td>39.862539</td>\n",
       "      <td>34.349462</td>\n",
       "      <td>40.417963</td>\n",
       "      <td>34.886038</td>\n",
       "      <td>57.693587</td>\n",
       "      <td>32.272014</td>\n",
       "    </tr>\n",
       "    <tr>\n",
       "      <th>2004-08-20</th>\n",
       "      <td>39.509998</td>\n",
       "      <td>39.509998</td>\n",
       "      <td>39.910000</td>\n",
       "      <td>38.110001</td>\n",
       "      <td>38.459999</td>\n",
       "      <td>6790800.0</td>\n",
       "      <td>NaN</td>\n",
       "      <td>NaN</td>\n",
       "      <td>37.508000</td>\n",
       "      <td>37.6285</td>\n",
       "      <td>44.7682</td>\n",
       "      <td>40.386916</td>\n",
       "      <td>34.629084</td>\n",
       "      <td>40.318115</td>\n",
       "      <td>34.938885</td>\n",
       "      <td>57.479021</td>\n",
       "      <td>32.057379</td>\n",
       "    </tr>\n",
       "    <tr>\n",
       "      <th>2004-08-23</th>\n",
       "      <td>39.450001</td>\n",
       "      <td>39.450001</td>\n",
       "      <td>40.000000</td>\n",
       "      <td>39.110001</td>\n",
       "      <td>39.889999</td>\n",
       "      <td>5532600.0</td>\n",
       "      <td>NaN</td>\n",
       "      <td>NaN</td>\n",
       "      <td>37.921000</td>\n",
       "      <td>37.6620</td>\n",
       "      <td>44.5584</td>\n",
       "      <td>40.581550</td>\n",
       "      <td>35.260450</td>\n",
       "      <td>40.427620</td>\n",
       "      <td>34.896380</td>\n",
       "      <td>57.267085</td>\n",
       "      <td>31.849715</td>\n",
       "    </tr>\n",
       "    <tr>\n",
       "      <th>2004-08-24</th>\n",
       "      <td>39.049999</td>\n",
       "      <td>39.049999</td>\n",
       "      <td>39.930000</td>\n",
       "      <td>38.320000</td>\n",
       "      <td>39.720001</td>\n",
       "      <td>7640400.0</td>\n",
       "      <td>NaN</td>\n",
       "      <td>NaN</td>\n",
       "      <td>38.116000</td>\n",
       "      <td>37.6590</td>\n",
       "      <td>44.3544</td>\n",
       "      <td>40.794891</td>\n",
       "      <td>35.437110</td>\n",
       "      <td>40.418129</td>\n",
       "      <td>34.899871</td>\n",
       "      <td>57.083144</td>\n",
       "      <td>31.625656</td>\n",
       "    </tr>\n",
       "    <tr>\n",
       "      <th>2004-08-25</th>\n",
       "      <td>40.299999</td>\n",
       "      <td>40.299999</td>\n",
       "      <td>40.490002</td>\n",
       "      <td>38.160000</td>\n",
       "      <td>39.060001</td>\n",
       "      <td>7254800.0</td>\n",
       "      <td>NaN</td>\n",
       "      <td>NaN</td>\n",
       "      <td>38.490000</td>\n",
       "      <td>37.7755</td>\n",
       "      <td>44.1582</td>\n",
       "      <td>41.246567</td>\n",
       "      <td>35.733433</td>\n",
       "      <td>40.776113</td>\n",
       "      <td>34.774887</td>\n",
       "      <td>56.827117</td>\n",
       "      <td>31.489283</td>\n",
       "    </tr>\n",
       "  </tbody>\n",
       "</table>\n",
       "</div>"
      ],
      "text/plain": [
       "            Adj Close      Close       High        Low       Open      Volume  \\\n",
       "Date                                                                            \n",
       "2004-08-19  38.630001  38.630001  40.480000  36.349998  40.259998  12696100.0   \n",
       "2004-08-20  39.509998  39.509998  39.910000  38.110001  38.459999   6790800.0   \n",
       "2004-08-23  39.450001  39.450001  40.000000  39.110001  39.889999   5532600.0   \n",
       "2004-08-24  39.049999  39.049999  39.930000  38.320000  39.720001   7640400.0   \n",
       "2004-08-25  40.299999  40.299999  40.490002  38.160000  39.060001   7254800.0   \n",
       "\n",
       "            Dividends  Stock Splits   10_ac_ma  20_ac_ma  50_ac_ma  \\\n",
       "Date                                                                 \n",
       "2004-08-19        NaN           NaN  37.106001   37.6520   44.9828   \n",
       "2004-08-20        NaN           NaN  37.508000   37.6285   44.7682   \n",
       "2004-08-23        NaN           NaN  37.921000   37.6620   44.5584   \n",
       "2004-08-24        NaN           NaN  38.116000   37.6590   44.3544   \n",
       "2004-08-25        NaN           NaN  38.490000   37.7755   44.1582   \n",
       "\n",
       "            10_ac_bb_u  10_ac_bb_l  20_ac_bb_u  20_ac_bb_l  50_ac_bb_u  \\\n",
       "Date                                                                     \n",
       "2004-08-19   39.862539   34.349462   40.417963   34.886038   57.693587   \n",
       "2004-08-20   40.386916   34.629084   40.318115   34.938885   57.479021   \n",
       "2004-08-23   40.581550   35.260450   40.427620   34.896380   57.267085   \n",
       "2004-08-24   40.794891   35.437110   40.418129   34.899871   57.083144   \n",
       "2004-08-25   41.246567   35.733433   40.776113   34.774887   56.827117   \n",
       "\n",
       "            50_ac_bb_l  \n",
       "Date                    \n",
       "2004-08-19   32.272014  \n",
       "2004-08-20   32.057379  \n",
       "2004-08-23   31.849715  \n",
       "2004-08-24   31.625656  \n",
       "2004-08-25   31.489283  "
      ]
     },
     "execution_count": 154,
     "metadata": {},
     "output_type": "execute_result"
    }
   ],
   "source": [
    "df_amzn_test.head()"
   ]
  },
  {
   "cell_type": "code",
   "execution_count": 155,
   "id": "proper-leeds",
   "metadata": {},
   "outputs": [
    {
     "data": {
      "text/html": [
       "<div>\n",
       "<style scoped>\n",
       "    .dataframe tbody tr th:only-of-type {\n",
       "        vertical-align: middle;\n",
       "    }\n",
       "\n",
       "    .dataframe tbody tr th {\n",
       "        vertical-align: top;\n",
       "    }\n",
       "\n",
       "    .dataframe thead th {\n",
       "        text-align: right;\n",
       "    }\n",
       "</style>\n",
       "<table border=\"1\" class=\"dataframe\">\n",
       "  <thead>\n",
       "    <tr style=\"text-align: right;\">\n",
       "      <th></th>\n",
       "      <th>Adj Close</th>\n",
       "      <th>Close</th>\n",
       "      <th>High</th>\n",
       "      <th>Low</th>\n",
       "      <th>Open</th>\n",
       "      <th>Volume</th>\n",
       "      <th>Dividends</th>\n",
       "      <th>Stock Splits</th>\n",
       "      <th>10_ac_ma</th>\n",
       "      <th>20_ac_ma</th>\n",
       "      <th>50_ac_ma</th>\n",
       "      <th>10_ac_bb_u</th>\n",
       "      <th>10_ac_bb_l</th>\n",
       "      <th>20_ac_bb_u</th>\n",
       "      <th>20_ac_bb_l</th>\n",
       "      <th>50_ac_bb_u</th>\n",
       "      <th>50_ac_bb_l</th>\n",
       "    </tr>\n",
       "    <tr>\n",
       "      <th>Date</th>\n",
       "      <th></th>\n",
       "      <th></th>\n",
       "      <th></th>\n",
       "      <th></th>\n",
       "      <th></th>\n",
       "      <th></th>\n",
       "      <th></th>\n",
       "      <th></th>\n",
       "      <th></th>\n",
       "      <th></th>\n",
       "      <th></th>\n",
       "      <th></th>\n",
       "      <th></th>\n",
       "      <th></th>\n",
       "      <th></th>\n",
       "      <th></th>\n",
       "      <th></th>\n",
       "    </tr>\n",
       "  </thead>\n",
       "  <tbody>\n",
       "    <tr>\n",
       "      <th>2021-02-22</th>\n",
       "      <td>3180.739990</td>\n",
       "      <td>3180.739990</td>\n",
       "      <td>3232.320068</td>\n",
       "      <td>3172.260010</td>\n",
       "      <td>3208.129883</td>\n",
       "      <td>3515700.0</td>\n",
       "      <td>NaN</td>\n",
       "      <td>NaN</td>\n",
       "      <td>3279.081958</td>\n",
       "      <td>3290.295471</td>\n",
       "      <td>3231.051772</td>\n",
       "      <td>3365.634028</td>\n",
       "      <td>3192.529888</td>\n",
       "      <td>3392.252777</td>\n",
       "      <td>3188.338165</td>\n",
       "      <td>3386.301978</td>\n",
       "      <td>3075.801567</td>\n",
       "    </tr>\n",
       "    <tr>\n",
       "      <th>2021-02-23</th>\n",
       "      <td>3194.500000</td>\n",
       "      <td>3194.500000</td>\n",
       "      <td>3204.729980</td>\n",
       "      <td>3093.600098</td>\n",
       "      <td>3127.030029</td>\n",
       "      <td>4677200.0</td>\n",
       "      <td>NaN</td>\n",
       "      <td>NaN</td>\n",
       "      <td>3266.237964</td>\n",
       "      <td>3285.320471</td>\n",
       "      <td>3232.857773</td>\n",
       "      <td>3361.541549</td>\n",
       "      <td>3170.934379</td>\n",
       "      <td>3395.865222</td>\n",
       "      <td>3174.775720</td>\n",
       "      <td>3384.134985</td>\n",
       "      <td>3081.580562</td>\n",
       "    </tr>\n",
       "    <tr>\n",
       "      <th>2021-02-24</th>\n",
       "      <td>3159.530029</td>\n",
       "      <td>3159.530029</td>\n",
       "      <td>3171.229980</td>\n",
       "      <td>3125.379883</td>\n",
       "      <td>3166.750000</td>\n",
       "      <td>3011300.0</td>\n",
       "      <td>NaN</td>\n",
       "      <td>NaN</td>\n",
       "      <td>3251.690967</td>\n",
       "      <td>3276.990479</td>\n",
       "      <td>3234.018574</td>\n",
       "      <td>3363.651628</td>\n",
       "      <td>3139.730306</td>\n",
       "      <td>3399.091150</td>\n",
       "      <td>3154.889808</td>\n",
       "      <td>3382.037003</td>\n",
       "      <td>3086.000145</td>\n",
       "    </tr>\n",
       "    <tr>\n",
       "      <th>2021-02-25</th>\n",
       "      <td>3057.159912</td>\n",
       "      <td>3057.159912</td>\n",
       "      <td>3178.260010</td>\n",
       "      <td>3047.760010</td>\n",
       "      <td>3136.739990</td>\n",
       "      <td>4533800.0</td>\n",
       "      <td>NaN</td>\n",
       "      <td>NaN</td>\n",
       "      <td>3228.748950</td>\n",
       "      <td>3268.219470</td>\n",
       "      <td>3232.833374</td>\n",
       "      <td>3391.456454</td>\n",
       "      <td>3066.041447</td>\n",
       "      <td>3424.242619</td>\n",
       "      <td>3112.196322</td>\n",
       "      <td>3385.569009</td>\n",
       "      <td>3080.097739</td>\n",
       "    </tr>\n",
       "    <tr>\n",
       "      <th>2021-02-26</th>\n",
       "      <td>3092.929932</td>\n",
       "      <td>3092.929932</td>\n",
       "      <td>3122.439941</td>\n",
       "      <td>3036.699951</td>\n",
       "      <td>3095.199951</td>\n",
       "      <td>4273500.0</td>\n",
       "      <td>NaN</td>\n",
       "      <td>NaN</td>\n",
       "      <td>3211.828955</td>\n",
       "      <td>3260.984961</td>\n",
       "      <td>3231.552573</td>\n",
       "      <td>3393.225455</td>\n",
       "      <td>3030.432455</td>\n",
       "      <td>3435.325008</td>\n",
       "      <td>3086.644913</td>\n",
       "      <td>3387.915790</td>\n",
       "      <td>3075.189357</td>\n",
       "    </tr>\n",
       "  </tbody>\n",
       "</table>\n",
       "</div>"
      ],
      "text/plain": [
       "              Adj Close        Close         High          Low         Open  \\\n",
       "Date                                                                          \n",
       "2021-02-22  3180.739990  3180.739990  3232.320068  3172.260010  3208.129883   \n",
       "2021-02-23  3194.500000  3194.500000  3204.729980  3093.600098  3127.030029   \n",
       "2021-02-24  3159.530029  3159.530029  3171.229980  3125.379883  3166.750000   \n",
       "2021-02-25  3057.159912  3057.159912  3178.260010  3047.760010  3136.739990   \n",
       "2021-02-26  3092.929932  3092.929932  3122.439941  3036.699951  3095.199951   \n",
       "\n",
       "               Volume  Dividends  Stock Splits     10_ac_ma     20_ac_ma  \\\n",
       "Date                                                                       \n",
       "2021-02-22  3515700.0        NaN           NaN  3279.081958  3290.295471   \n",
       "2021-02-23  4677200.0        NaN           NaN  3266.237964  3285.320471   \n",
       "2021-02-24  3011300.0        NaN           NaN  3251.690967  3276.990479   \n",
       "2021-02-25  4533800.0        NaN           NaN  3228.748950  3268.219470   \n",
       "2021-02-26  4273500.0        NaN           NaN  3211.828955  3260.984961   \n",
       "\n",
       "               50_ac_ma   10_ac_bb_u   10_ac_bb_l   20_ac_bb_u   20_ac_bb_l  \\\n",
       "Date                                                                          \n",
       "2021-02-22  3231.051772  3365.634028  3192.529888  3392.252777  3188.338165   \n",
       "2021-02-23  3232.857773  3361.541549  3170.934379  3395.865222  3174.775720   \n",
       "2021-02-24  3234.018574  3363.651628  3139.730306  3399.091150  3154.889808   \n",
       "2021-02-25  3232.833374  3391.456454  3066.041447  3424.242619  3112.196322   \n",
       "2021-02-26  3231.552573  3393.225455  3030.432455  3435.325008  3086.644913   \n",
       "\n",
       "             50_ac_bb_u   50_ac_bb_l  \n",
       "Date                                  \n",
       "2021-02-22  3386.301978  3075.801567  \n",
       "2021-02-23  3384.134985  3081.580562  \n",
       "2021-02-24  3382.037003  3086.000145  \n",
       "2021-02-25  3385.569009  3080.097739  \n",
       "2021-02-26  3387.915790  3075.189357  "
      ]
     },
     "execution_count": 155,
     "metadata": {},
     "output_type": "execute_result"
    }
   ],
   "source": [
    "df_amzn_valid.head()"
   ]
  },
  {
   "cell_type": "markdown",
   "id": "concrete-thousand",
   "metadata": {},
   "source": [
    "#### Alphabet Inc. Stock train test split"
   ]
  },
  {
   "cell_type": "code",
   "execution_count": 156,
   "id": "molecular-rogers",
   "metadata": {},
   "outputs": [],
   "source": [
    "df_googl = df_googl.loc[data_start:].copy()"
   ]
  },
  {
   "cell_type": "code",
   "execution_count": 157,
   "id": "elegant-jonathan",
   "metadata": {},
   "outputs": [
    {
     "name": "stdout",
     "output_type": "stream",
     "text": [
      "4175 4135 4155 20\n"
     ]
    }
   ],
   "source": [
    "df_googl_train, df_googl_test, df_googl_valid = train_test_valid_split(df_googl, prediction_length=prediction_length[1])\n",
    "print(len(df_googl), len(df_googl_train), len(df_googl_test), len(df_googl_valid))"
   ]
  },
  {
   "cell_type": "code",
   "execution_count": 158,
   "id": "focused-reducing",
   "metadata": {},
   "outputs": [
    {
     "data": {
      "text/html": [
       "<div>\n",
       "<style scoped>\n",
       "    .dataframe tbody tr th:only-of-type {\n",
       "        vertical-align: middle;\n",
       "    }\n",
       "\n",
       "    .dataframe tbody tr th {\n",
       "        vertical-align: top;\n",
       "    }\n",
       "\n",
       "    .dataframe thead th {\n",
       "        text-align: right;\n",
       "    }\n",
       "</style>\n",
       "<table border=\"1\" class=\"dataframe\">\n",
       "  <thead>\n",
       "    <tr style=\"text-align: right;\">\n",
       "      <th></th>\n",
       "      <th>Adj Close</th>\n",
       "      <th>Close</th>\n",
       "      <th>High</th>\n",
       "      <th>Low</th>\n",
       "      <th>Open</th>\n",
       "      <th>Volume</th>\n",
       "      <th>Dividends</th>\n",
       "      <th>Stock Splits</th>\n",
       "      <th>10_ac_ma</th>\n",
       "      <th>20_ac_ma</th>\n",
       "      <th>50_ac_ma</th>\n",
       "      <th>10_ac_bb_u</th>\n",
       "      <th>10_ac_bb_l</th>\n",
       "      <th>20_ac_bb_u</th>\n",
       "      <th>20_ac_bb_l</th>\n",
       "      <th>50_ac_bb_u</th>\n",
       "      <th>50_ac_bb_l</th>\n",
       "    </tr>\n",
       "    <tr>\n",
       "      <th>Date</th>\n",
       "      <th></th>\n",
       "      <th></th>\n",
       "      <th></th>\n",
       "      <th></th>\n",
       "      <th></th>\n",
       "      <th></th>\n",
       "      <th></th>\n",
       "      <th></th>\n",
       "      <th></th>\n",
       "      <th></th>\n",
       "      <th></th>\n",
       "      <th></th>\n",
       "      <th></th>\n",
       "      <th></th>\n",
       "      <th></th>\n",
       "      <th></th>\n",
       "      <th></th>\n",
       "    </tr>\n",
       "  </thead>\n",
       "  <tbody>\n",
       "    <tr>\n",
       "      <th>2004-08-19</th>\n",
       "      <td>50.220219</td>\n",
       "      <td>50.220219</td>\n",
       "      <td>52.082081</td>\n",
       "      <td>48.028027</td>\n",
       "      <td>50.050049</td>\n",
       "      <td>44659096.0</td>\n",
       "      <td>0.0</td>\n",
       "      <td>1.998</td>\n",
       "      <td>52.432933</td>\n",
       "      <td>52.692943</td>\n",
       "      <td>63.586987</td>\n",
       "      <td>55.781053</td>\n",
       "      <td>49.084813</td>\n",
       "      <td>56.933168</td>\n",
       "      <td>48.452718</td>\n",
       "      <td>88.331593</td>\n",
       "      <td>38.842381</td>\n",
       "    </tr>\n",
       "    <tr>\n",
       "      <th>2004-08-20</th>\n",
       "      <td>54.209209</td>\n",
       "      <td>54.209209</td>\n",
       "      <td>54.594597</td>\n",
       "      <td>50.300301</td>\n",
       "      <td>50.555557</td>\n",
       "      <td>22834343.0</td>\n",
       "      <td>0.0</td>\n",
       "      <td>1.998</td>\n",
       "      <td>52.432933</td>\n",
       "      <td>52.692943</td>\n",
       "      <td>63.586987</td>\n",
       "      <td>55.781053</td>\n",
       "      <td>49.084813</td>\n",
       "      <td>56.933168</td>\n",
       "      <td>48.452718</td>\n",
       "      <td>88.331593</td>\n",
       "      <td>38.842381</td>\n",
       "    </tr>\n",
       "    <tr>\n",
       "      <th>2004-08-23</th>\n",
       "      <td>54.754753</td>\n",
       "      <td>54.754753</td>\n",
       "      <td>56.796799</td>\n",
       "      <td>54.579578</td>\n",
       "      <td>55.430431</td>\n",
       "      <td>18256126.0</td>\n",
       "      <td>0.0</td>\n",
       "      <td>1.998</td>\n",
       "      <td>52.432933</td>\n",
       "      <td>52.692943</td>\n",
       "      <td>63.586987</td>\n",
       "      <td>55.781053</td>\n",
       "      <td>49.084813</td>\n",
       "      <td>56.933168</td>\n",
       "      <td>48.452718</td>\n",
       "      <td>88.331593</td>\n",
       "      <td>38.842381</td>\n",
       "    </tr>\n",
       "    <tr>\n",
       "      <th>2004-08-24</th>\n",
       "      <td>52.487488</td>\n",
       "      <td>52.487488</td>\n",
       "      <td>55.855858</td>\n",
       "      <td>51.836838</td>\n",
       "      <td>55.675674</td>\n",
       "      <td>15247337.0</td>\n",
       "      <td>0.0</td>\n",
       "      <td>1.998</td>\n",
       "      <td>52.432933</td>\n",
       "      <td>52.692943</td>\n",
       "      <td>63.586987</td>\n",
       "      <td>55.781053</td>\n",
       "      <td>49.084813</td>\n",
       "      <td>56.933168</td>\n",
       "      <td>48.452718</td>\n",
       "      <td>88.331593</td>\n",
       "      <td>38.842381</td>\n",
       "    </tr>\n",
       "    <tr>\n",
       "      <th>2004-08-25</th>\n",
       "      <td>53.053055</td>\n",
       "      <td>53.053055</td>\n",
       "      <td>54.054054</td>\n",
       "      <td>51.991993</td>\n",
       "      <td>52.532532</td>\n",
       "      <td>9188602.0</td>\n",
       "      <td>0.0</td>\n",
       "      <td>1.998</td>\n",
       "      <td>52.432933</td>\n",
       "      <td>52.692943</td>\n",
       "      <td>63.586987</td>\n",
       "      <td>55.781053</td>\n",
       "      <td>49.084813</td>\n",
       "      <td>56.933168</td>\n",
       "      <td>48.452718</td>\n",
       "      <td>88.331593</td>\n",
       "      <td>38.842381</td>\n",
       "    </tr>\n",
       "  </tbody>\n",
       "</table>\n",
       "</div>"
      ],
      "text/plain": [
       "            Adj Close      Close       High        Low       Open      Volume  \\\n",
       "Date                                                                            \n",
       "2004-08-19  50.220219  50.220219  52.082081  48.028027  50.050049  44659096.0   \n",
       "2004-08-20  54.209209  54.209209  54.594597  50.300301  50.555557  22834343.0   \n",
       "2004-08-23  54.754753  54.754753  56.796799  54.579578  55.430431  18256126.0   \n",
       "2004-08-24  52.487488  52.487488  55.855858  51.836838  55.675674  15247337.0   \n",
       "2004-08-25  53.053055  53.053055  54.054054  51.991993  52.532532   9188602.0   \n",
       "\n",
       "            Dividends  Stock Splits   10_ac_ma   20_ac_ma   50_ac_ma  \\\n",
       "Date                                                                   \n",
       "2004-08-19        0.0         1.998  52.432933  52.692943  63.586987   \n",
       "2004-08-20        0.0         1.998  52.432933  52.692943  63.586987   \n",
       "2004-08-23        0.0         1.998  52.432933  52.692943  63.586987   \n",
       "2004-08-24        0.0         1.998  52.432933  52.692943  63.586987   \n",
       "2004-08-25        0.0         1.998  52.432933  52.692943  63.586987   \n",
       "\n",
       "            10_ac_bb_u  10_ac_bb_l  20_ac_bb_u  20_ac_bb_l  50_ac_bb_u  \\\n",
       "Date                                                                     \n",
       "2004-08-19   55.781053   49.084813   56.933168   48.452718   88.331593   \n",
       "2004-08-20   55.781053   49.084813   56.933168   48.452718   88.331593   \n",
       "2004-08-23   55.781053   49.084813   56.933168   48.452718   88.331593   \n",
       "2004-08-24   55.781053   49.084813   56.933168   48.452718   88.331593   \n",
       "2004-08-25   55.781053   49.084813   56.933168   48.452718   88.331593   \n",
       "\n",
       "            50_ac_bb_l  \n",
       "Date                    \n",
       "2004-08-19   38.842381  \n",
       "2004-08-20   38.842381  \n",
       "2004-08-23   38.842381  \n",
       "2004-08-24   38.842381  \n",
       "2004-08-25   38.842381  "
      ]
     },
     "execution_count": 158,
     "metadata": {},
     "output_type": "execute_result"
    }
   ],
   "source": [
    "df_googl_train.head()"
   ]
  },
  {
   "cell_type": "code",
   "execution_count": 159,
   "id": "formed-survivor",
   "metadata": {},
   "outputs": [
    {
     "data": {
      "text/html": [
       "<div>\n",
       "<style scoped>\n",
       "    .dataframe tbody tr th:only-of-type {\n",
       "        vertical-align: middle;\n",
       "    }\n",
       "\n",
       "    .dataframe tbody tr th {\n",
       "        vertical-align: top;\n",
       "    }\n",
       "\n",
       "    .dataframe thead th {\n",
       "        text-align: right;\n",
       "    }\n",
       "</style>\n",
       "<table border=\"1\" class=\"dataframe\">\n",
       "  <thead>\n",
       "    <tr style=\"text-align: right;\">\n",
       "      <th></th>\n",
       "      <th>Adj Close</th>\n",
       "      <th>Close</th>\n",
       "      <th>High</th>\n",
       "      <th>Low</th>\n",
       "      <th>Open</th>\n",
       "      <th>Volume</th>\n",
       "      <th>Dividends</th>\n",
       "      <th>Stock Splits</th>\n",
       "      <th>10_ac_ma</th>\n",
       "      <th>20_ac_ma</th>\n",
       "      <th>50_ac_ma</th>\n",
       "      <th>10_ac_bb_u</th>\n",
       "      <th>10_ac_bb_l</th>\n",
       "      <th>20_ac_bb_u</th>\n",
       "      <th>20_ac_bb_l</th>\n",
       "      <th>50_ac_bb_u</th>\n",
       "      <th>50_ac_bb_l</th>\n",
       "    </tr>\n",
       "    <tr>\n",
       "      <th>Date</th>\n",
       "      <th></th>\n",
       "      <th></th>\n",
       "      <th></th>\n",
       "      <th></th>\n",
       "      <th></th>\n",
       "      <th></th>\n",
       "      <th></th>\n",
       "      <th></th>\n",
       "      <th></th>\n",
       "      <th></th>\n",
       "      <th></th>\n",
       "      <th></th>\n",
       "      <th></th>\n",
       "      <th></th>\n",
       "      <th></th>\n",
       "      <th></th>\n",
       "      <th></th>\n",
       "    </tr>\n",
       "  </thead>\n",
       "  <tbody>\n",
       "    <tr>\n",
       "      <th>2004-08-19</th>\n",
       "      <td>50.220219</td>\n",
       "      <td>50.220219</td>\n",
       "      <td>52.082081</td>\n",
       "      <td>48.028027</td>\n",
       "      <td>50.050049</td>\n",
       "      <td>44659096.0</td>\n",
       "      <td>0.0</td>\n",
       "      <td>1.998</td>\n",
       "      <td>52.432933</td>\n",
       "      <td>52.692943</td>\n",
       "      <td>63.586987</td>\n",
       "      <td>55.781053</td>\n",
       "      <td>49.084813</td>\n",
       "      <td>56.933168</td>\n",
       "      <td>48.452718</td>\n",
       "      <td>88.331593</td>\n",
       "      <td>38.842381</td>\n",
       "    </tr>\n",
       "    <tr>\n",
       "      <th>2004-08-20</th>\n",
       "      <td>54.209209</td>\n",
       "      <td>54.209209</td>\n",
       "      <td>54.594597</td>\n",
       "      <td>50.300301</td>\n",
       "      <td>50.555557</td>\n",
       "      <td>22834343.0</td>\n",
       "      <td>0.0</td>\n",
       "      <td>1.998</td>\n",
       "      <td>52.432933</td>\n",
       "      <td>52.692943</td>\n",
       "      <td>63.586987</td>\n",
       "      <td>55.781053</td>\n",
       "      <td>49.084813</td>\n",
       "      <td>56.933168</td>\n",
       "      <td>48.452718</td>\n",
       "      <td>88.331593</td>\n",
       "      <td>38.842381</td>\n",
       "    </tr>\n",
       "    <tr>\n",
       "      <th>2004-08-23</th>\n",
       "      <td>54.754753</td>\n",
       "      <td>54.754753</td>\n",
       "      <td>56.796799</td>\n",
       "      <td>54.579578</td>\n",
       "      <td>55.430431</td>\n",
       "      <td>18256126.0</td>\n",
       "      <td>0.0</td>\n",
       "      <td>1.998</td>\n",
       "      <td>52.432933</td>\n",
       "      <td>52.692943</td>\n",
       "      <td>63.586987</td>\n",
       "      <td>55.781053</td>\n",
       "      <td>49.084813</td>\n",
       "      <td>56.933168</td>\n",
       "      <td>48.452718</td>\n",
       "      <td>88.331593</td>\n",
       "      <td>38.842381</td>\n",
       "    </tr>\n",
       "    <tr>\n",
       "      <th>2004-08-24</th>\n",
       "      <td>52.487488</td>\n",
       "      <td>52.487488</td>\n",
       "      <td>55.855858</td>\n",
       "      <td>51.836838</td>\n",
       "      <td>55.675674</td>\n",
       "      <td>15247337.0</td>\n",
       "      <td>0.0</td>\n",
       "      <td>1.998</td>\n",
       "      <td>52.432933</td>\n",
       "      <td>52.692943</td>\n",
       "      <td>63.586987</td>\n",
       "      <td>55.781053</td>\n",
       "      <td>49.084813</td>\n",
       "      <td>56.933168</td>\n",
       "      <td>48.452718</td>\n",
       "      <td>88.331593</td>\n",
       "      <td>38.842381</td>\n",
       "    </tr>\n",
       "    <tr>\n",
       "      <th>2004-08-25</th>\n",
       "      <td>53.053055</td>\n",
       "      <td>53.053055</td>\n",
       "      <td>54.054054</td>\n",
       "      <td>51.991993</td>\n",
       "      <td>52.532532</td>\n",
       "      <td>9188602.0</td>\n",
       "      <td>0.0</td>\n",
       "      <td>1.998</td>\n",
       "      <td>52.432933</td>\n",
       "      <td>52.692943</td>\n",
       "      <td>63.586987</td>\n",
       "      <td>55.781053</td>\n",
       "      <td>49.084813</td>\n",
       "      <td>56.933168</td>\n",
       "      <td>48.452718</td>\n",
       "      <td>88.331593</td>\n",
       "      <td>38.842381</td>\n",
       "    </tr>\n",
       "  </tbody>\n",
       "</table>\n",
       "</div>"
      ],
      "text/plain": [
       "            Adj Close      Close       High        Low       Open      Volume  \\\n",
       "Date                                                                            \n",
       "2004-08-19  50.220219  50.220219  52.082081  48.028027  50.050049  44659096.0   \n",
       "2004-08-20  54.209209  54.209209  54.594597  50.300301  50.555557  22834343.0   \n",
       "2004-08-23  54.754753  54.754753  56.796799  54.579578  55.430431  18256126.0   \n",
       "2004-08-24  52.487488  52.487488  55.855858  51.836838  55.675674  15247337.0   \n",
       "2004-08-25  53.053055  53.053055  54.054054  51.991993  52.532532   9188602.0   \n",
       "\n",
       "            Dividends  Stock Splits   10_ac_ma   20_ac_ma   50_ac_ma  \\\n",
       "Date                                                                   \n",
       "2004-08-19        0.0         1.998  52.432933  52.692943  63.586987   \n",
       "2004-08-20        0.0         1.998  52.432933  52.692943  63.586987   \n",
       "2004-08-23        0.0         1.998  52.432933  52.692943  63.586987   \n",
       "2004-08-24        0.0         1.998  52.432933  52.692943  63.586987   \n",
       "2004-08-25        0.0         1.998  52.432933  52.692943  63.586987   \n",
       "\n",
       "            10_ac_bb_u  10_ac_bb_l  20_ac_bb_u  20_ac_bb_l  50_ac_bb_u  \\\n",
       "Date                                                                     \n",
       "2004-08-19   55.781053   49.084813   56.933168   48.452718   88.331593   \n",
       "2004-08-20   55.781053   49.084813   56.933168   48.452718   88.331593   \n",
       "2004-08-23   55.781053   49.084813   56.933168   48.452718   88.331593   \n",
       "2004-08-24   55.781053   49.084813   56.933168   48.452718   88.331593   \n",
       "2004-08-25   55.781053   49.084813   56.933168   48.452718   88.331593   \n",
       "\n",
       "            50_ac_bb_l  \n",
       "Date                    \n",
       "2004-08-19   38.842381  \n",
       "2004-08-20   38.842381  \n",
       "2004-08-23   38.842381  \n",
       "2004-08-24   38.842381  \n",
       "2004-08-25   38.842381  "
      ]
     },
     "execution_count": 159,
     "metadata": {},
     "output_type": "execute_result"
    }
   ],
   "source": [
    "df_googl_test.head()"
   ]
  },
  {
   "cell_type": "code",
   "execution_count": 160,
   "id": "disabled-ontario",
   "metadata": {},
   "outputs": [
    {
     "data": {
      "text/html": [
       "<div>\n",
       "<style scoped>\n",
       "    .dataframe tbody tr th:only-of-type {\n",
       "        vertical-align: middle;\n",
       "    }\n",
       "\n",
       "    .dataframe tbody tr th {\n",
       "        vertical-align: top;\n",
       "    }\n",
       "\n",
       "    .dataframe thead th {\n",
       "        text-align: right;\n",
       "    }\n",
       "</style>\n",
       "<table border=\"1\" class=\"dataframe\">\n",
       "  <thead>\n",
       "    <tr style=\"text-align: right;\">\n",
       "      <th></th>\n",
       "      <th>Adj Close</th>\n",
       "      <th>Close</th>\n",
       "      <th>High</th>\n",
       "      <th>Low</th>\n",
       "      <th>Open</th>\n",
       "      <th>Volume</th>\n",
       "      <th>Dividends</th>\n",
       "      <th>Stock Splits</th>\n",
       "      <th>10_ac_ma</th>\n",
       "      <th>20_ac_ma</th>\n",
       "      <th>50_ac_ma</th>\n",
       "      <th>10_ac_bb_u</th>\n",
       "      <th>10_ac_bb_l</th>\n",
       "      <th>20_ac_bb_u</th>\n",
       "      <th>20_ac_bb_l</th>\n",
       "      <th>50_ac_bb_u</th>\n",
       "      <th>50_ac_bb_l</th>\n",
       "    </tr>\n",
       "    <tr>\n",
       "      <th>Date</th>\n",
       "      <th></th>\n",
       "      <th></th>\n",
       "      <th></th>\n",
       "      <th></th>\n",
       "      <th></th>\n",
       "      <th></th>\n",
       "      <th></th>\n",
       "      <th></th>\n",
       "      <th></th>\n",
       "      <th></th>\n",
       "      <th></th>\n",
       "      <th></th>\n",
       "      <th></th>\n",
       "      <th></th>\n",
       "      <th></th>\n",
       "      <th></th>\n",
       "      <th></th>\n",
       "    </tr>\n",
       "  </thead>\n",
       "  <tbody>\n",
       "    <tr>\n",
       "      <th>2021-02-22</th>\n",
       "      <td>2054.260010</td>\n",
       "      <td>2054.260010</td>\n",
       "      <td>2080.330078</td>\n",
       "      <td>2048.000000</td>\n",
       "      <td>2053.600098</td>\n",
       "      <td>1473300.0</td>\n",
       "      <td>NaN</td>\n",
       "      <td>NaN</td>\n",
       "      <td>2090.837012</td>\n",
       "      <td>2011.181488</td>\n",
       "      <td>1862.419397</td>\n",
       "      <td>2127.667275</td>\n",
       "      <td>2054.006748</td>\n",
       "      <td>2225.933273</td>\n",
       "      <td>1796.429703</td>\n",
       "      <td>2150.760197</td>\n",
       "      <td>1574.078597</td>\n",
       "    </tr>\n",
       "    <tr>\n",
       "      <th>2021-02-23</th>\n",
       "      <td>2060.120117</td>\n",
       "      <td>2060.120117</td>\n",
       "      <td>2072.500000</td>\n",
       "      <td>1990.229980</td>\n",
       "      <td>2013.989990</td>\n",
       "      <td>1732900.0</td>\n",
       "      <td>NaN</td>\n",
       "      <td>NaN</td>\n",
       "      <td>2088.397021</td>\n",
       "      <td>2019.473492</td>\n",
       "      <td>1868.064600</td>\n",
       "      <td>2130.009741</td>\n",
       "      <td>2046.784302</td>\n",
       "      <td>2227.934498</td>\n",
       "      <td>1811.012487</td>\n",
       "      <td>2160.668947</td>\n",
       "      <td>1575.460252</td>\n",
       "    </tr>\n",
       "    <tr>\n",
       "      <th>2021-02-24</th>\n",
       "      <td>2083.810059</td>\n",
       "      <td>2083.810059</td>\n",
       "      <td>2088.320068</td>\n",
       "      <td>2027.530029</td>\n",
       "      <td>2030.040039</td>\n",
       "      <td>1130400.0</td>\n",
       "      <td>NaN</td>\n",
       "      <td>NaN</td>\n",
       "      <td>2089.239038</td>\n",
       "      <td>2028.266498</td>\n",
       "      <td>1874.387800</td>\n",
       "      <td>2130.014337</td>\n",
       "      <td>2048.463739</td>\n",
       "      <td>2231.695684</td>\n",
       "      <td>1824.837312</td>\n",
       "      <td>2171.760767</td>\n",
       "      <td>1577.014833</td>\n",
       "    </tr>\n",
       "    <tr>\n",
       "      <th>2021-02-25</th>\n",
       "      <td>2015.949951</td>\n",
       "      <td>2015.949951</td>\n",
       "      <td>2083.000000</td>\n",
       "      <td>2006.489990</td>\n",
       "      <td>2055.929932</td>\n",
       "      <td>2077400.0</td>\n",
       "      <td>NaN</td>\n",
       "      <td>NaN</td>\n",
       "      <td>2082.186035</td>\n",
       "      <td>2038.116998</td>\n",
       "      <td>1879.210798</td>\n",
       "      <td>2144.035802</td>\n",
       "      <td>2020.336269</td>\n",
       "      <td>2216.392216</td>\n",
       "      <td>1859.841780</td>\n",
       "      <td>2177.810921</td>\n",
       "      <td>1580.610676</td>\n",
       "    </tr>\n",
       "    <tr>\n",
       "      <th>2021-02-26</th>\n",
       "      <td>2021.910034</td>\n",
       "      <td>2021.910034</td>\n",
       "      <td>2056.520020</td>\n",
       "      <td>2001.010010</td>\n",
       "      <td>2029.949951</td>\n",
       "      <td>2001500.0</td>\n",
       "      <td>NaN</td>\n",
       "      <td>NaN</td>\n",
       "      <td>2075.502039</td>\n",
       "      <td>2046.552502</td>\n",
       "      <td>1884.603799</td>\n",
       "      <td>2147.768484</td>\n",
       "      <td>2003.235593</td>\n",
       "      <td>2202.561915</td>\n",
       "      <td>1890.543090</td>\n",
       "      <td>2183.585370</td>\n",
       "      <td>1585.622228</td>\n",
       "    </tr>\n",
       "  </tbody>\n",
       "</table>\n",
       "</div>"
      ],
      "text/plain": [
       "              Adj Close        Close         High          Low         Open  \\\n",
       "Date                                                                          \n",
       "2021-02-22  2054.260010  2054.260010  2080.330078  2048.000000  2053.600098   \n",
       "2021-02-23  2060.120117  2060.120117  2072.500000  1990.229980  2013.989990   \n",
       "2021-02-24  2083.810059  2083.810059  2088.320068  2027.530029  2030.040039   \n",
       "2021-02-25  2015.949951  2015.949951  2083.000000  2006.489990  2055.929932   \n",
       "2021-02-26  2021.910034  2021.910034  2056.520020  2001.010010  2029.949951   \n",
       "\n",
       "               Volume  Dividends  Stock Splits     10_ac_ma     20_ac_ma  \\\n",
       "Date                                                                       \n",
       "2021-02-22  1473300.0        NaN           NaN  2090.837012  2011.181488   \n",
       "2021-02-23  1732900.0        NaN           NaN  2088.397021  2019.473492   \n",
       "2021-02-24  1130400.0        NaN           NaN  2089.239038  2028.266498   \n",
       "2021-02-25  2077400.0        NaN           NaN  2082.186035  2038.116998   \n",
       "2021-02-26  2001500.0        NaN           NaN  2075.502039  2046.552502   \n",
       "\n",
       "               50_ac_ma   10_ac_bb_u   10_ac_bb_l   20_ac_bb_u   20_ac_bb_l  \\\n",
       "Date                                                                          \n",
       "2021-02-22  1862.419397  2127.667275  2054.006748  2225.933273  1796.429703   \n",
       "2021-02-23  1868.064600  2130.009741  2046.784302  2227.934498  1811.012487   \n",
       "2021-02-24  1874.387800  2130.014337  2048.463739  2231.695684  1824.837312   \n",
       "2021-02-25  1879.210798  2144.035802  2020.336269  2216.392216  1859.841780   \n",
       "2021-02-26  1884.603799  2147.768484  2003.235593  2202.561915  1890.543090   \n",
       "\n",
       "             50_ac_bb_u   50_ac_bb_l  \n",
       "Date                                  \n",
       "2021-02-22  2150.760197  1574.078597  \n",
       "2021-02-23  2160.668947  1575.460252  \n",
       "2021-02-24  2171.760767  1577.014833  \n",
       "2021-02-25  2177.810921  1580.610676  \n",
       "2021-02-26  2183.585370  1585.622228  "
      ]
     },
     "execution_count": 160,
     "metadata": {},
     "output_type": "execute_result"
    }
   ],
   "source": [
    "df_googl_valid.head()"
   ]
  },
  {
   "cell_type": "markdown",
   "id": "victorian-cooler",
   "metadata": {},
   "source": [
    "### Metrics computation"
   ]
  },
  {
   "cell_type": "markdown",
   "id": "legendary-college",
   "metadata": {},
   "source": [
    "Computing metrics on the benchmark model will give me a good reference to evaluate the deep learning model after training."
   ]
  },
  {
   "cell_type": "markdown",
   "id": "cooked-insurance",
   "metadata": {},
   "source": [
    "As can be presumed and seen from data prints, first `n` values of validation data are `NaN` so, it will be better just to exclude the first `n-1` values from the validation set to avoid misleading values to be catch in metrics evaluation. "
   ]
  },
  {
   "cell_type": "code",
   "execution_count": 161,
   "id": "bizarre-district",
   "metadata": {},
   "outputs": [],
   "source": [
    "from sklearn.metrics import mean_absolute_error, mean_squared_error, mean_absolute_percentage_error, r2_score"
   ]
  },
  {
   "cell_type": "markdown",
   "id": "challenging-leader",
   "metadata": {},
   "source": [
    "#### IBM stock"
   ]
  },
  {
   "cell_type": "code",
   "execution_count": 162,
   "id": "aging-collaboration",
   "metadata": {},
   "outputs": [],
   "source": [
    "#n = 10\n",
    "#ma_str = str(n)+'_ac_ma'"
   ]
  },
  {
   "cell_type": "code",
   "execution_count": 163,
   "id": "authorized-simon",
   "metadata": {},
   "outputs": [],
   "source": [
    "#ibm_ma_mse_loss = mean_squared_error(df_ibm_valid.iloc[n-1:]['Adj Close'], df_ibm_valid.iloc[n-1:][ma_str])"
   ]
  },
  {
   "cell_type": "code",
   "execution_count": 164,
   "id": "affected-tumor",
   "metadata": {},
   "outputs": [],
   "source": [
    "#print(ibm_ma_mse_loss)"
   ]
  },
  {
   "cell_type": "code",
   "execution_count": 165,
   "id": "cleared-thumbnail",
   "metadata": {},
   "outputs": [],
   "source": [
    "n = 20\n",
    "ma_str = str(n)+'_ac_ma'"
   ]
  },
  {
   "cell_type": "markdown",
   "id": "funded-cooler",
   "metadata": {},
   "source": [
    "Mean Absolute Error"
   ]
  },
  {
   "cell_type": "code",
   "execution_count": 166,
   "id": "beginning-environment",
   "metadata": {},
   "outputs": [],
   "source": [
    "ibm_ma_mae_loss = mean_absolute_error(df_ibm_valid.iloc[:]['Adj Close'], df_ibm_valid[:][ma_str])"
   ]
  },
  {
   "cell_type": "code",
   "execution_count": 167,
   "id": "processed-hello",
   "metadata": {},
   "outputs": [
    {
     "name": "stdout",
     "output_type": "stream",
     "text": [
      "3.1680560684204098\n"
     ]
    }
   ],
   "source": [
    "print(ibm_ma_mae_loss)"
   ]
  },
  {
   "cell_type": "markdown",
   "id": "coastal-paraguay",
   "metadata": {},
   "source": [
    "Root Mean Squared Error"
   ]
  },
  {
   "cell_type": "code",
   "execution_count": 168,
   "id": "optimum-opportunity",
   "metadata": {},
   "outputs": [],
   "source": [
    "ibm_ma_mse_loss = mean_squared_error(df_ibm_valid.iloc[:]['Adj Close'], df_ibm_valid[:][ma_str], squared=False)"
   ]
  },
  {
   "cell_type": "code",
   "execution_count": 169,
   "id": "structured-proportion",
   "metadata": {},
   "outputs": [
    {
     "name": "stdout",
     "output_type": "stream",
     "text": [
      "3.8068639837005347\n"
     ]
    }
   ],
   "source": [
    "print(ibm_ma_mse_loss)"
   ]
  },
  {
   "cell_type": "markdown",
   "id": "quantitative-joining",
   "metadata": {},
   "source": [
    "Mean Absolute Percentage Error"
   ]
  },
  {
   "cell_type": "code",
   "execution_count": 170,
   "id": "gothic-jacob",
   "metadata": {},
   "outputs": [],
   "source": [
    "ibm_ma_map_loss = mean_absolute_percentage_error(df_ibm_valid.iloc[:]['Adj Close'], df_ibm_valid[:][ma_str])"
   ]
  },
  {
   "cell_type": "code",
   "execution_count": 171,
   "id": "accomplished-hardwood",
   "metadata": {},
   "outputs": [
    {
     "name": "stdout",
     "output_type": "stream",
     "text": [
      "0.025014186682152002\n"
     ]
    }
   ],
   "source": [
    "print(ibm_ma_map_loss)"
   ]
  },
  {
   "cell_type": "markdown",
   "id": "unauthorized-violation",
   "metadata": {},
   "source": [
    "R<sup>2</sup> score"
   ]
  },
  {
   "cell_type": "code",
   "execution_count": 172,
   "id": "blond-disposal",
   "metadata": {},
   "outputs": [],
   "source": [
    "ibm_ma_r2_score = r2_score(df_ibm_valid.iloc[:]['Adj Close'], df_ibm_valid[:][ma_str])"
   ]
  },
  {
   "cell_type": "code",
   "execution_count": 173,
   "id": "competent-study",
   "metadata": {},
   "outputs": [
    {
     "name": "stdout",
     "output_type": "stream",
     "text": [
      "-0.14943118195926175\n"
     ]
    }
   ],
   "source": [
    "print(ibm_ma_r2_score)"
   ]
  },
  {
   "cell_type": "code",
   "execution_count": 174,
   "id": "fabulous-russia",
   "metadata": {},
   "outputs": [],
   "source": [
    "#n = 50\n",
    "#ma_str = str(n)+'_ac_ma'"
   ]
  },
  {
   "cell_type": "code",
   "execution_count": 175,
   "id": "funky-penny",
   "metadata": {},
   "outputs": [],
   "source": [
    "#ibm_ma_mse_loss = mean_squared_error(df_ibm_valid.iloc[n-1:]['Adj Close'], df_ibm_valid[n-1:][ma_str])"
   ]
  },
  {
   "cell_type": "code",
   "execution_count": 176,
   "id": "vanilla-newton",
   "metadata": {},
   "outputs": [],
   "source": [
    "#print(ibm_ma_mse_loss)"
   ]
  },
  {
   "cell_type": "markdown",
   "id": "requested-leone",
   "metadata": {},
   "source": [
    "#### Apple Inc. stock"
   ]
  },
  {
   "cell_type": "code",
   "execution_count": 177,
   "id": "partial-backing",
   "metadata": {},
   "outputs": [],
   "source": [
    "#n = 10\n",
    "#ma_str = str(n)+'_ac_ma'"
   ]
  },
  {
   "cell_type": "code",
   "execution_count": 178,
   "id": "desirable-modification",
   "metadata": {},
   "outputs": [],
   "source": [
    "#aapl_ma_mse_loss = mean_squared_error(df_aapl_valid.iloc[n-1:]['Adj Close'], df_aapl_valid.iloc[n-1:][ma_str])"
   ]
  },
  {
   "cell_type": "code",
   "execution_count": 179,
   "id": "centered-application",
   "metadata": {},
   "outputs": [],
   "source": [
    "#print(aapl_ma_mse_loss)"
   ]
  },
  {
   "cell_type": "code",
   "execution_count": 180,
   "id": "prostate-lincoln",
   "metadata": {},
   "outputs": [],
   "source": [
    "n = 20\n",
    "ma_str = str(n)+'_ac_ma'"
   ]
  },
  {
   "cell_type": "markdown",
   "id": "becoming-course",
   "metadata": {},
   "source": [
    "Mean Absolute Error"
   ]
  },
  {
   "cell_type": "code",
   "execution_count": 181,
   "id": "demanding-rebound",
   "metadata": {},
   "outputs": [],
   "source": [
    "aapl_ma_mae_loss = mean_absolute_error(df_aapl_valid.iloc[:]['Adj Close'], df_aapl_valid[:][ma_str])"
   ]
  },
  {
   "cell_type": "code",
   "execution_count": 182,
   "id": "resistant-virginia",
   "metadata": {},
   "outputs": [
    {
     "name": "stdout",
     "output_type": "stream",
     "text": [
      "6.002291526794432\n"
     ]
    }
   ],
   "source": [
    "print(aapl_ma_mae_loss)"
   ]
  },
  {
   "cell_type": "markdown",
   "id": "worthy-powder",
   "metadata": {},
   "source": [
    "##### Root Mean Squared Error"
   ]
  },
  {
   "cell_type": "code",
   "execution_count": 183,
   "id": "twelve-heart",
   "metadata": {},
   "outputs": [],
   "source": [
    "aapl_ma_rmse_loss = mean_squared_error(df_aapl_valid.iloc[:]['Adj Close'], df_aapl_valid[:][ma_str], squared=False)"
   ]
  },
  {
   "cell_type": "code",
   "execution_count": 184,
   "id": "apparent-planet",
   "metadata": {},
   "outputs": [
    {
     "name": "stdout",
     "output_type": "stream",
     "text": [
      "6.884638216801444\n"
     ]
    }
   ],
   "source": [
    "print(aapl_ma_rmse_loss)"
   ]
  },
  {
   "cell_type": "markdown",
   "id": "quarterly-fundamental",
   "metadata": {},
   "source": [
    "##### Mean Absolute Percentage Error"
   ]
  },
  {
   "cell_type": "code",
   "execution_count": 185,
   "id": "psychological-harassment",
   "metadata": {},
   "outputs": [],
   "source": [
    "aapl_ma_map_loss = mean_absolute_percentage_error(df_aapl_valid.iloc[:]['Adj Close'], df_aapl_valid[:][ma_str])"
   ]
  },
  {
   "cell_type": "code",
   "execution_count": 186,
   "id": "three-breast",
   "metadata": {},
   "outputs": [
    {
     "name": "stdout",
     "output_type": "stream",
     "text": [
      "0.04919876190165914\n"
     ]
    }
   ],
   "source": [
    "print(aapl_ma_map_loss)"
   ]
  },
  {
   "cell_type": "markdown",
   "id": "coastal-wonder",
   "metadata": {},
   "source": [
    "R<sup>2</sup> score"
   ]
  },
  {
   "cell_type": "code",
   "execution_count": 187,
   "id": "marked-drinking",
   "metadata": {},
   "outputs": [],
   "source": [
    "aapl_ma_r2_score = r2_score(df_aapl_valid.iloc[:]['Adj Close'], df_aapl_valid[:][ma_str])"
   ]
  },
  {
   "cell_type": "code",
   "execution_count": 188,
   "id": "weekly-sapphire",
   "metadata": {},
   "outputs": [
    {
     "name": "stdout",
     "output_type": "stream",
     "text": [
      "-5.209950329704853\n"
     ]
    }
   ],
   "source": [
    "print(aapl_ma_r2_score)"
   ]
  },
  {
   "cell_type": "code",
   "execution_count": 189,
   "id": "viral-macro",
   "metadata": {},
   "outputs": [],
   "source": [
    "#n = 50\n",
    "#ma_str = str(n)+'_ac_ma'"
   ]
  },
  {
   "cell_type": "code",
   "execution_count": 190,
   "id": "single-madrid",
   "metadata": {},
   "outputs": [],
   "source": [
    "#aapl_ma_mse_loss = mean_squared_error(df_aapl_valid.iloc[n-1:]['Adj Close'], df_aapl_valid[n-1:][ma_str])"
   ]
  },
  {
   "cell_type": "code",
   "execution_count": 191,
   "id": "political-paintball",
   "metadata": {},
   "outputs": [],
   "source": [
    "#print(aapl_ma_mse_loss)"
   ]
  },
  {
   "cell_type": "markdown",
   "id": "cleared-tractor",
   "metadata": {},
   "source": [
    "#### Amazon.com stock"
   ]
  },
  {
   "cell_type": "code",
   "execution_count": 192,
   "id": "fourth-martial",
   "metadata": {},
   "outputs": [],
   "source": [
    "#n = 10\n",
    "#ma_str = str(n)+'_ac_ma'"
   ]
  },
  {
   "cell_type": "code",
   "execution_count": 193,
   "id": "based-newark",
   "metadata": {},
   "outputs": [],
   "source": [
    "#amzn_ma_mse_loss = mean_squared_error(df_amzn_valid.iloc[n-1:]['Adj Close'], df_amzn_valid.iloc[n-1:][ma_str])"
   ]
  },
  {
   "cell_type": "code",
   "execution_count": 194,
   "id": "regional-vitamin",
   "metadata": {},
   "outputs": [],
   "source": [
    "#print(amzn_ma_mse_loss)"
   ]
  },
  {
   "cell_type": "code",
   "execution_count": 195,
   "id": "inclusive-august",
   "metadata": {},
   "outputs": [],
   "source": [
    "n = 20\n",
    "ma_str = str(n)+'_ac_ma'"
   ]
  },
  {
   "cell_type": "markdown",
   "id": "iraqi-genetics",
   "metadata": {},
   "source": [
    "Mean Absolute Error"
   ]
  },
  {
   "cell_type": "code",
   "execution_count": 196,
   "id": "damaged-serial",
   "metadata": {},
   "outputs": [],
   "source": [
    "amzn_ma_mae_loss = mean_absolute_error(df_amzn_valid.iloc[:]['Adj Close'], df_amzn_valid[:][ma_str])"
   ]
  },
  {
   "cell_type": "code",
   "execution_count": 197,
   "id": "pleased-witch",
   "metadata": {},
   "outputs": [
    {
     "name": "stdout",
     "output_type": "stream",
     "text": [
      "112.0814318847656\n"
     ]
    }
   ],
   "source": [
    "print(amzn_ma_mae_loss)"
   ]
  },
  {
   "cell_type": "markdown",
   "id": "improving-genesis",
   "metadata": {},
   "source": [
    "Root Mean Squared Error"
   ]
  },
  {
   "cell_type": "code",
   "execution_count": 198,
   "id": "greater-broadway",
   "metadata": {},
   "outputs": [],
   "source": [
    "amzn_ma_rmse_loss = mean_squared_error(df_amzn_valid.iloc[:]['Adj Close'], df_amzn_valid[:][ma_str], squared=False)"
   ]
  },
  {
   "cell_type": "code",
   "execution_count": 199,
   "id": "stone-working",
   "metadata": {},
   "outputs": [
    {
     "name": "stdout",
     "output_type": "stream",
     "text": [
      "133.9031253934699\n"
     ]
    }
   ],
   "source": [
    "print(amzn_ma_rmse_loss)"
   ]
  },
  {
   "cell_type": "markdown",
   "id": "exempt-hometown",
   "metadata": {},
   "source": [
    "##### Mean Absolute Percentage Error"
   ]
  },
  {
   "cell_type": "code",
   "execution_count": 200,
   "id": "silver-plaza",
   "metadata": {},
   "outputs": [],
   "source": [
    "amzn_ma_map_loss = mean_absolute_percentage_error(df_amzn_valid.iloc[:]['Adj Close'], df_amzn_valid[:][ma_str])"
   ]
  },
  {
   "cell_type": "code",
   "execution_count": 201,
   "id": "confidential-pearl",
   "metadata": {},
   "outputs": [
    {
     "name": "stdout",
     "output_type": "stream",
     "text": [
      "0.0366753970702243\n"
     ]
    }
   ],
   "source": [
    "print(amzn_ma_map_loss)"
   ]
  },
  {
   "cell_type": "markdown",
   "id": "average-physiology",
   "metadata": {},
   "source": [
    "R<sup>2</sup> score"
   ]
  },
  {
   "cell_type": "code",
   "execution_count": 202,
   "id": "genuine-flood",
   "metadata": {},
   "outputs": [],
   "source": [
    "amzn_ma_r2_score = r2_score(df_amzn_valid.iloc[:]['Adj Close'], df_amzn_valid[:][ma_str])"
   ]
  },
  {
   "cell_type": "code",
   "execution_count": 203,
   "id": "above-seeking",
   "metadata": {},
   "outputs": [
    {
     "name": "stdout",
     "output_type": "stream",
     "text": [
      "-3.389770931060588\n"
     ]
    }
   ],
   "source": [
    "print(amzn_ma_r2_score)"
   ]
  },
  {
   "cell_type": "code",
   "execution_count": 204,
   "id": "compliant-tuner",
   "metadata": {},
   "outputs": [],
   "source": [
    "#n = 50\n",
    "#ma_str = str(n)+'_ac_ma'"
   ]
  },
  {
   "cell_type": "code",
   "execution_count": 205,
   "id": "upset-advantage",
   "metadata": {},
   "outputs": [],
   "source": [
    "#amzn_ma_mse_loss = mean_squared_error(df_amzn_valid.iloc[n-1:]['Adj Close'], df_amzn_valid[n-1:][ma_str])"
   ]
  },
  {
   "cell_type": "code",
   "execution_count": 206,
   "id": "swiss-overview",
   "metadata": {},
   "outputs": [],
   "source": [
    "#print(amzn_ma_mse_loss)"
   ]
  },
  {
   "cell_type": "markdown",
   "id": "configured-harrison",
   "metadata": {},
   "source": [
    "#### Alphabet Inc. stock"
   ]
  },
  {
   "cell_type": "code",
   "execution_count": 207,
   "id": "chicken-psychiatry",
   "metadata": {},
   "outputs": [],
   "source": [
    "#n = 10\n",
    "#ma_str = str(n)+'_ac_ma'"
   ]
  },
  {
   "cell_type": "code",
   "execution_count": 208,
   "id": "colonial-citizen",
   "metadata": {},
   "outputs": [],
   "source": [
    "#googl_ma_mse_loss = mean_squared_error(df_googl_valid.iloc[n-1:]['Adj Close'], df_googl_valid.iloc[n-1:][ma_str])"
   ]
  },
  {
   "cell_type": "code",
   "execution_count": 209,
   "id": "corresponding-costs",
   "metadata": {},
   "outputs": [],
   "source": [
    "#print(googl_ma_mse_loss)"
   ]
  },
  {
   "cell_type": "code",
   "execution_count": 210,
   "id": "informed-canvas",
   "metadata": {},
   "outputs": [],
   "source": [
    "n = 20\n",
    "ma_str = str(n)+'_ac_ma'"
   ]
  },
  {
   "cell_type": "markdown",
   "id": "honey-niagara",
   "metadata": {},
   "source": [
    "Mean Absolute Error"
   ]
  },
  {
   "cell_type": "code",
   "execution_count": 211,
   "id": "positive-penalty",
   "metadata": {},
   "outputs": [],
   "source": [
    "googl_ma_mae_loss = mean_absolute_error(df_googl_valid.iloc[:]['Adj Close'], df_googl_valid[:][ma_str])"
   ]
  },
  {
   "cell_type": "code",
   "execution_count": 212,
   "id": "martial-sense",
   "metadata": {},
   "outputs": [
    {
     "name": "stdout",
     "output_type": "stream",
     "text": [
      "29.841813964843766\n"
     ]
    }
   ],
   "source": [
    "print(googl_ma_mae_loss)"
   ]
  },
  {
   "cell_type": "markdown",
   "id": "north-married",
   "metadata": {},
   "source": [
    "Root Mean Squared Error"
   ]
  },
  {
   "cell_type": "code",
   "execution_count": 213,
   "id": "british-dominican",
   "metadata": {},
   "outputs": [],
   "source": [
    "googl_ma_rmse_loss = mean_squared_error(df_googl_valid.iloc[:]['Adj Close'], df_googl_valid[:][ma_str], squared=False)"
   ]
  },
  {
   "cell_type": "code",
   "execution_count": 214,
   "id": "unavailable-legislature",
   "metadata": {},
   "outputs": [
    {
     "name": "stdout",
     "output_type": "stream",
     "text": [
      "33.8341527880325\n"
     ]
    }
   ],
   "source": [
    "print(googl_ma_rmse_loss)"
   ]
  },
  {
   "cell_type": "markdown",
   "id": "racial-legislation",
   "metadata": {},
   "source": [
    "##### Mean Absolute Percentage Error"
   ]
  },
  {
   "cell_type": "code",
   "execution_count": 215,
   "id": "attractive-disney",
   "metadata": {},
   "outputs": [],
   "source": [
    "googl_ma_map_loss = mean_absolute_percentage_error(df_googl_valid.iloc[:]['Adj Close'], df_googl_valid[:][ma_str])"
   ]
  },
  {
   "cell_type": "code",
   "execution_count": 216,
   "id": "sweet-function",
   "metadata": {},
   "outputs": [
    {
     "name": "stdout",
     "output_type": "stream",
     "text": [
      "0.014581975406481384\n"
     ]
    }
   ],
   "source": [
    "print(googl_ma_map_loss)"
   ]
  },
  {
   "cell_type": "markdown",
   "id": "frank-clerk",
   "metadata": {},
   "source": [
    "R<sup>2</sup> score"
   ]
  },
  {
   "cell_type": "code",
   "execution_count": 217,
   "id": "fatal-cabinet",
   "metadata": {},
   "outputs": [],
   "source": [
    "googl_ma_r2_score = r2_score(df_googl_valid.iloc[:]['Adj Close'], df_googl_valid[:][ma_str])"
   ]
  },
  {
   "cell_type": "code",
   "execution_count": 218,
   "id": "maritime-winter",
   "metadata": {},
   "outputs": [
    {
     "name": "stdout",
     "output_type": "stream",
     "text": [
      "-0.4344092626188014\n"
     ]
    }
   ],
   "source": [
    "print(googl_ma_r2_score)"
   ]
  },
  {
   "cell_type": "code",
   "execution_count": 219,
   "id": "normal-crown",
   "metadata": {},
   "outputs": [],
   "source": [
    "#n = 50\n",
    "#ma_str = str(n)+'_ac_ma'"
   ]
  },
  {
   "cell_type": "code",
   "execution_count": 220,
   "id": "overhead-providence",
   "metadata": {},
   "outputs": [],
   "source": [
    "#googl_ma_mse_loss = mean_squared_error(df_googl_valid.iloc[n-1:]['Adj Close'], df_googl_valid[n-1:][ma_str])"
   ]
  },
  {
   "cell_type": "code",
   "execution_count": 221,
   "id": "accessible-instrument",
   "metadata": {},
   "outputs": [],
   "source": [
    "#print(googl_ma_mse_loss)"
   ]
  },
  {
   "cell_type": "markdown",
   "id": "stuck-genius",
   "metadata": {},
   "source": [
    "Volatility"
   ]
  },
  {
   "cell_type": "code",
   "execution_count": 222,
   "id": "civic-washington",
   "metadata": {},
   "outputs": [
    {
     "name": "stdout",
     "output_type": "stream",
     "text": [
      "0.6635874205871215\n"
     ]
    }
   ],
   "source": [
    "print(volatility(df_ibm_valid['Adj Close'], n))"
   ]
  },
  {
   "cell_type": "code",
   "execution_count": 223,
   "id": "initial-poster",
   "metadata": {},
   "outputs": [
    {
     "name": "stdout",
     "output_type": "stream",
     "text": [
      "0.40171728528815365\n"
     ]
    }
   ],
   "source": [
    "print(volatility(df_aapl_valid['Adj Close'], n))"
   ]
  },
  {
   "cell_type": "code",
   "execution_count": 224,
   "id": "spiritual-finance",
   "metadata": {},
   "outputs": [
    {
     "name": "stdout",
     "output_type": "stream",
     "text": [
      "214.97401538980654\n"
     ]
    }
   ],
   "source": [
    "print(volatility(df_amzn_valid['Adj Close'], n))"
   ]
  },
  {
   "cell_type": "code",
   "execution_count": 225,
   "id": "expensive-jewelry",
   "metadata": {},
   "outputs": [
    {
     "name": "stdout",
     "output_type": "stream",
     "text": [
      "42.00335011611448\n"
     ]
    }
   ],
   "source": [
    "print(volatility(df_googl_valid['Adj Close'], n))"
   ]
  },
  {
   "cell_type": "markdown",
   "id": "basic-wagon",
   "metadata": {},
   "source": [
    "As expected, loss augments as we observe moving average on larger windows.\n",
    "Also, we can observe that Amazon.com and Alphabet Inc. have greater losses, that also corresponds to higher volatility."
   ]
  }
 ],
 "metadata": {
  "kernelspec": {
   "display_name": "conda_pytorch_p36",
   "language": "python",
   "name": "conda_pytorch_p36"
  },
  "language_info": {
   "codemirror_mode": {
    "name": "ipython",
    "version": 3
   },
   "file_extension": ".py",
   "mimetype": "text/x-python",
   "name": "python",
   "nbconvert_exporter": "python",
   "pygments_lexer": "ipython3",
   "version": "3.6.13"
  }
 },
 "nbformat": 4,
 "nbformat_minor": 5
}
