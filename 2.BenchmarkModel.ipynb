{
 "cells": [
  {
   "cell_type": "markdown",
   "id": "returning-technique",
   "metadata": {},
   "source": [
    "## Benchmark model"
   ]
  },
  {
   "cell_type": "markdown",
   "id": "signal-inflation",
   "metadata": {},
   "source": [
    "In this notebook a Simple Moving Average model will be created in order to have a benchmark for my DeepAR based model (to be tuned in the next notebook)."
   ]
  },
  {
   "cell_type": "markdown",
   "id": "skilled-truth",
   "metadata": {},
   "source": [
    "### Hyperparameters"
   ]
  },
  {
   "cell_type": "markdown",
   "id": "expanded-ceramic",
   "metadata": {},
   "source": [
    "DeepAR is the model of choice of this project.\n",
    "This model expects input data to be already test-train splitted.\n",
    "A big part of the model design has to be done looking close at data.\n",
    "More specifically, defining these two hyperparameters about the data:\n",
    "* Context length\n",
    "* Prediction length"
   ]
  },
  {
   "cell_type": "markdown",
   "id": "bacterial-mills",
   "metadata": {},
   "source": [
    "### Prediction length"
   ]
  },
  {
   "cell_type": "markdown",
   "id": "median-allowance",
   "metadata": {},
   "source": [
    "This is the length of the time series future predictions in days. It will be conveniently set to 5 days (exactly a week of trading hours) because a shorter interval would be of little significance.\n",
    "A longer interval could be interesting from an application point of view, but it can be challenging in terms of model performances."
   ]
  },
  {
   "cell_type": "markdown",
   "id": "irish-account",
   "metadata": {},
   "source": [
    "### Context length"
   ]
  },
  {
   "cell_type": "markdown",
   "id": "optional-example",
   "metadata": {},
   "source": [
    "Context length can be either:\n",
    "* designed on patterns or seasonality observed in the data, if any is present;\n",
    "* chosen as a fixed value. This will be my choice, and it will be the same as the moving average window, in order to have a good reference metrics, applicable to both this model and the benchmark model."
   ]
  },
  {
   "cell_type": "markdown",
   "id": "domestic-organizer",
   "metadata": {},
   "source": [
    "To explore this second option, we will refer to what we've found during the EDA stage."
   ]
  },
  {
   "cell_type": "code",
   "execution_count": 134,
   "id": "unique-standing",
   "metadata": {},
   "outputs": [],
   "source": [
    "prediction_length = [10, 20, 50]\n",
    "context_length = [10, 20, 50]"
   ]
  },
  {
   "cell_type": "markdown",
   "id": "czech-success",
   "metadata": {},
   "source": [
    "### Train, test and validation split"
   ]
  },
  {
   "cell_type": "markdown",
   "id": "enclosed-approach",
   "metadata": {},
   "source": [
    "Time series will be all trimmed from `data_start` in `1.ExploratoryDataAnalysis.ipy`, according to DeepAR documentation, train time series should be set as the size of the entire time series less the prediction length.\n",
    "Validation length will exactly equal to prediction length."
   ]
  },
  {
   "cell_type": "code",
   "execution_count": 135,
   "id": "constant-pursuit",
   "metadata": {},
   "outputs": [],
   "source": [
    "from data.data_utils import train_test_valid_split"
   ]
  },
  {
   "cell_type": "markdown",
   "id": "legitimate-rehabilitation",
   "metadata": {},
   "source": [
    "#### IBM Stock train, test and validation split"
   ]
  },
  {
   "cell_type": "code",
   "execution_count": 136,
   "id": "noble-ivory",
   "metadata": {},
   "outputs": [],
   "source": [
    "df_ibm = df_ibm.loc[data_start:].copy()"
   ]
  },
  {
   "cell_type": "code",
   "execution_count": 137,
   "id": "brutal-muslim",
   "metadata": {},
   "outputs": [
    {
     "name": "stdout",
     "output_type": "stream",
     "text": [
      "4172 4132 4152 20\n"
     ]
    }
   ],
   "source": [
    "df_ibm_train, df_ibm_test, df_ibm_valid = train_test_valid_split(df_ibm, prediction_length=prediction_length[1])\n",
    "print(len(df_ibm), len(df_ibm_train), len(df_ibm_test), len(df_ibm_valid))"
   ]
  },
  {
   "cell_type": "code",
   "execution_count": 138,
   "id": "verified-assault",
   "metadata": {},
   "outputs": [
    {
     "data": {
      "text/html": [
       "<div>\n",
       "<style scoped>\n",
       "    .dataframe tbody tr th:only-of-type {\n",
       "        vertical-align: middle;\n",
       "    }\n",
       "\n",
       "    .dataframe tbody tr th {\n",
       "        vertical-align: top;\n",
       "    }\n",
       "\n",
       "    .dataframe thead th {\n",
       "        text-align: right;\n",
       "    }\n",
       "</style>\n",
       "<table border=\"1\" class=\"dataframe\">\n",
       "  <thead>\n",
       "    <tr style=\"text-align: right;\">\n",
       "      <th></th>\n",
       "      <th>Adj Close</th>\n",
       "      <th>Close</th>\n",
       "      <th>High</th>\n",
       "      <th>Low</th>\n",
       "      <th>Open</th>\n",
       "      <th>Volume</th>\n",
       "      <th>Dividends</th>\n",
       "      <th>Stock Splits</th>\n",
       "      <th>10_ac_ma</th>\n",
       "      <th>20_ac_ma</th>\n",
       "      <th>50_ac_ma</th>\n",
       "      <th>10_ac_bb_u</th>\n",
       "      <th>10_ac_bb_l</th>\n",
       "      <th>20_ac_bb_u</th>\n",
       "      <th>20_ac_bb_l</th>\n",
       "      <th>50_ac_bb_u</th>\n",
       "      <th>50_ac_bb_l</th>\n",
       "    </tr>\n",
       "    <tr>\n",
       "      <th>Date</th>\n",
       "      <th></th>\n",
       "      <th></th>\n",
       "      <th></th>\n",
       "      <th></th>\n",
       "      <th></th>\n",
       "      <th></th>\n",
       "      <th></th>\n",
       "      <th></th>\n",
       "      <th></th>\n",
       "      <th></th>\n",
       "      <th></th>\n",
       "      <th></th>\n",
       "      <th></th>\n",
       "      <th></th>\n",
       "      <th></th>\n",
       "      <th></th>\n",
       "      <th></th>\n",
       "    </tr>\n",
       "  </thead>\n",
       "  <tbody>\n",
       "    <tr>\n",
       "      <th>2004-08-19</th>\n",
       "      <td>54.979382</td>\n",
       "      <td>84.889999</td>\n",
       "      <td>85.349998</td>\n",
       "      <td>84.449997</td>\n",
       "      <td>84.750000</td>\n",
       "      <td>4704500</td>\n",
       "      <td>0.18</td>\n",
       "      <td>0.0</td>\n",
       "      <td>54.397126</td>\n",
       "      <td>54.958798</td>\n",
       "      <td>55.913001</td>\n",
       "      <td>55.525647</td>\n",
       "      <td>53.268605</td>\n",
       "      <td>56.500281</td>\n",
       "      <td>53.417314</td>\n",
       "      <td>59.046566</td>\n",
       "      <td>52.779437</td>\n",
       "    </tr>\n",
       "    <tr>\n",
       "      <th>2004-08-20</th>\n",
       "      <td>55.212502</td>\n",
       "      <td>85.250000</td>\n",
       "      <td>85.250000</td>\n",
       "      <td>84.519997</td>\n",
       "      <td>84.519997</td>\n",
       "      <td>4501400</td>\n",
       "      <td>0.18</td>\n",
       "      <td>0.0</td>\n",
       "      <td>54.511759</td>\n",
       "      <td>54.977556</td>\n",
       "      <td>55.852774</td>\n",
       "      <td>55.720874</td>\n",
       "      <td>53.302644</td>\n",
       "      <td>56.521944</td>\n",
       "      <td>53.433168</td>\n",
       "      <td>58.920109</td>\n",
       "      <td>52.785438</td>\n",
       "    </tr>\n",
       "    <tr>\n",
       "      <th>2004-08-23</th>\n",
       "      <td>54.823910</td>\n",
       "      <td>84.650002</td>\n",
       "      <td>85.449997</td>\n",
       "      <td>84.650002</td>\n",
       "      <td>85.230003</td>\n",
       "      <td>4260600</td>\n",
       "      <td>0.18</td>\n",
       "      <td>0.0</td>\n",
       "      <td>54.582999</td>\n",
       "      <td>54.969128</td>\n",
       "      <td>55.779992</td>\n",
       "      <td>55.771068</td>\n",
       "      <td>53.394930</td>\n",
       "      <td>56.515013</td>\n",
       "      <td>53.423244</td>\n",
       "      <td>58.766151</td>\n",
       "      <td>52.793832</td>\n",
       "    </tr>\n",
       "    <tr>\n",
       "      <th>2004-08-24</th>\n",
       "      <td>54.862782</td>\n",
       "      <td>84.709999</td>\n",
       "      <td>85.150002</td>\n",
       "      <td>84.349998</td>\n",
       "      <td>85.000000</td>\n",
       "      <td>2710400</td>\n",
       "      <td>0.18</td>\n",
       "      <td>0.0</td>\n",
       "      <td>54.564866</td>\n",
       "      <td>54.937116</td>\n",
       "      <td>55.713028</td>\n",
       "      <td>55.726906</td>\n",
       "      <td>53.402826</td>\n",
       "      <td>56.462835</td>\n",
       "      <td>53.411398</td>\n",
       "      <td>58.625949</td>\n",
       "      <td>52.800108</td>\n",
       "    </tr>\n",
       "    <tr>\n",
       "      <th>2004-08-25</th>\n",
       "      <td>55.095955</td>\n",
       "      <td>85.070000</td>\n",
       "      <td>85.269997</td>\n",
       "      <td>84.550003</td>\n",
       "      <td>85.000000</td>\n",
       "      <td>4405600</td>\n",
       "      <td>0.18</td>\n",
       "      <td>0.0</td>\n",
       "      <td>54.654243</td>\n",
       "      <td>54.917732</td>\n",
       "      <td>55.644653</td>\n",
       "      <td>55.829713</td>\n",
       "      <td>53.478772</td>\n",
       "      <td>56.423940</td>\n",
       "      <td>53.411524</td>\n",
       "      <td>58.447571</td>\n",
       "      <td>52.841736</td>\n",
       "    </tr>\n",
       "  </tbody>\n",
       "</table>\n",
       "</div>"
      ],
      "text/plain": [
       "            Adj Close      Close       High        Low       Open   Volume  \\\n",
       "Date                                                                         \n",
       "2004-08-19  54.979382  84.889999  85.349998  84.449997  84.750000  4704500   \n",
       "2004-08-20  55.212502  85.250000  85.250000  84.519997  84.519997  4501400   \n",
       "2004-08-23  54.823910  84.650002  85.449997  84.650002  85.230003  4260600   \n",
       "2004-08-24  54.862782  84.709999  85.150002  84.349998  85.000000  2710400   \n",
       "2004-08-25  55.095955  85.070000  85.269997  84.550003  85.000000  4405600   \n",
       "\n",
       "            Dividends  Stock Splits   10_ac_ma   20_ac_ma   50_ac_ma  \\\n",
       "Date                                                                   \n",
       "2004-08-19       0.18           0.0  54.397126  54.958798  55.913001   \n",
       "2004-08-20       0.18           0.0  54.511759  54.977556  55.852774   \n",
       "2004-08-23       0.18           0.0  54.582999  54.969128  55.779992   \n",
       "2004-08-24       0.18           0.0  54.564866  54.937116  55.713028   \n",
       "2004-08-25       0.18           0.0  54.654243  54.917732  55.644653   \n",
       "\n",
       "            10_ac_bb_u  10_ac_bb_l  20_ac_bb_u  20_ac_bb_l  50_ac_bb_u  \\\n",
       "Date                                                                     \n",
       "2004-08-19   55.525647   53.268605   56.500281   53.417314   59.046566   \n",
       "2004-08-20   55.720874   53.302644   56.521944   53.433168   58.920109   \n",
       "2004-08-23   55.771068   53.394930   56.515013   53.423244   58.766151   \n",
       "2004-08-24   55.726906   53.402826   56.462835   53.411398   58.625949   \n",
       "2004-08-25   55.829713   53.478772   56.423940   53.411524   58.447571   \n",
       "\n",
       "            50_ac_bb_l  \n",
       "Date                    \n",
       "2004-08-19   52.779437  \n",
       "2004-08-20   52.785438  \n",
       "2004-08-23   52.793832  \n",
       "2004-08-24   52.800108  \n",
       "2004-08-25   52.841736  "
      ]
     },
     "execution_count": 138,
     "metadata": {},
     "output_type": "execute_result"
    }
   ],
   "source": [
    "df_ibm_train.head()"
   ]
  },
  {
   "cell_type": "code",
   "execution_count": 139,
   "id": "alone-squad",
   "metadata": {},
   "outputs": [
    {
     "data": {
      "text/html": [
       "<div>\n",
       "<style scoped>\n",
       "    .dataframe tbody tr th:only-of-type {\n",
       "        vertical-align: middle;\n",
       "    }\n",
       "\n",
       "    .dataframe tbody tr th {\n",
       "        vertical-align: top;\n",
       "    }\n",
       "\n",
       "    .dataframe thead th {\n",
       "        text-align: right;\n",
       "    }\n",
       "</style>\n",
       "<table border=\"1\" class=\"dataframe\">\n",
       "  <thead>\n",
       "    <tr style=\"text-align: right;\">\n",
       "      <th></th>\n",
       "      <th>Adj Close</th>\n",
       "      <th>Close</th>\n",
       "      <th>High</th>\n",
       "      <th>Low</th>\n",
       "      <th>Open</th>\n",
       "      <th>Volume</th>\n",
       "      <th>Dividends</th>\n",
       "      <th>Stock Splits</th>\n",
       "      <th>10_ac_ma</th>\n",
       "      <th>20_ac_ma</th>\n",
       "      <th>50_ac_ma</th>\n",
       "      <th>10_ac_bb_u</th>\n",
       "      <th>10_ac_bb_l</th>\n",
       "      <th>20_ac_bb_u</th>\n",
       "      <th>20_ac_bb_l</th>\n",
       "      <th>50_ac_bb_u</th>\n",
       "      <th>50_ac_bb_l</th>\n",
       "    </tr>\n",
       "    <tr>\n",
       "      <th>Date</th>\n",
       "      <th></th>\n",
       "      <th></th>\n",
       "      <th></th>\n",
       "      <th></th>\n",
       "      <th></th>\n",
       "      <th></th>\n",
       "      <th></th>\n",
       "      <th></th>\n",
       "      <th></th>\n",
       "      <th></th>\n",
       "      <th></th>\n",
       "      <th></th>\n",
       "      <th></th>\n",
       "      <th></th>\n",
       "      <th></th>\n",
       "      <th></th>\n",
       "      <th></th>\n",
       "    </tr>\n",
       "  </thead>\n",
       "  <tbody>\n",
       "    <tr>\n",
       "      <th>2004-08-19</th>\n",
       "      <td>54.979382</td>\n",
       "      <td>84.889999</td>\n",
       "      <td>85.349998</td>\n",
       "      <td>84.449997</td>\n",
       "      <td>84.750000</td>\n",
       "      <td>4704500</td>\n",
       "      <td>0.18</td>\n",
       "      <td>0.0</td>\n",
       "      <td>54.397126</td>\n",
       "      <td>54.958798</td>\n",
       "      <td>55.913001</td>\n",
       "      <td>55.525647</td>\n",
       "      <td>53.268605</td>\n",
       "      <td>56.500281</td>\n",
       "      <td>53.417314</td>\n",
       "      <td>59.046566</td>\n",
       "      <td>52.779437</td>\n",
       "    </tr>\n",
       "    <tr>\n",
       "      <th>2004-08-20</th>\n",
       "      <td>55.212502</td>\n",
       "      <td>85.250000</td>\n",
       "      <td>85.250000</td>\n",
       "      <td>84.519997</td>\n",
       "      <td>84.519997</td>\n",
       "      <td>4501400</td>\n",
       "      <td>0.18</td>\n",
       "      <td>0.0</td>\n",
       "      <td>54.511759</td>\n",
       "      <td>54.977556</td>\n",
       "      <td>55.852774</td>\n",
       "      <td>55.720874</td>\n",
       "      <td>53.302644</td>\n",
       "      <td>56.521944</td>\n",
       "      <td>53.433168</td>\n",
       "      <td>58.920109</td>\n",
       "      <td>52.785438</td>\n",
       "    </tr>\n",
       "    <tr>\n",
       "      <th>2004-08-23</th>\n",
       "      <td>54.823910</td>\n",
       "      <td>84.650002</td>\n",
       "      <td>85.449997</td>\n",
       "      <td>84.650002</td>\n",
       "      <td>85.230003</td>\n",
       "      <td>4260600</td>\n",
       "      <td>0.18</td>\n",
       "      <td>0.0</td>\n",
       "      <td>54.582999</td>\n",
       "      <td>54.969128</td>\n",
       "      <td>55.779992</td>\n",
       "      <td>55.771068</td>\n",
       "      <td>53.394930</td>\n",
       "      <td>56.515013</td>\n",
       "      <td>53.423244</td>\n",
       "      <td>58.766151</td>\n",
       "      <td>52.793832</td>\n",
       "    </tr>\n",
       "    <tr>\n",
       "      <th>2004-08-24</th>\n",
       "      <td>54.862782</td>\n",
       "      <td>84.709999</td>\n",
       "      <td>85.150002</td>\n",
       "      <td>84.349998</td>\n",
       "      <td>85.000000</td>\n",
       "      <td>2710400</td>\n",
       "      <td>0.18</td>\n",
       "      <td>0.0</td>\n",
       "      <td>54.564866</td>\n",
       "      <td>54.937116</td>\n",
       "      <td>55.713028</td>\n",
       "      <td>55.726906</td>\n",
       "      <td>53.402826</td>\n",
       "      <td>56.462835</td>\n",
       "      <td>53.411398</td>\n",
       "      <td>58.625949</td>\n",
       "      <td>52.800108</td>\n",
       "    </tr>\n",
       "    <tr>\n",
       "      <th>2004-08-25</th>\n",
       "      <td>55.095955</td>\n",
       "      <td>85.070000</td>\n",
       "      <td>85.269997</td>\n",
       "      <td>84.550003</td>\n",
       "      <td>85.000000</td>\n",
       "      <td>4405600</td>\n",
       "      <td>0.18</td>\n",
       "      <td>0.0</td>\n",
       "      <td>54.654243</td>\n",
       "      <td>54.917732</td>\n",
       "      <td>55.644653</td>\n",
       "      <td>55.829713</td>\n",
       "      <td>53.478772</td>\n",
       "      <td>56.423940</td>\n",
       "      <td>53.411524</td>\n",
       "      <td>58.447571</td>\n",
       "      <td>52.841736</td>\n",
       "    </tr>\n",
       "  </tbody>\n",
       "</table>\n",
       "</div>"
      ],
      "text/plain": [
       "            Adj Close      Close       High        Low       Open   Volume  \\\n",
       "Date                                                                         \n",
       "2004-08-19  54.979382  84.889999  85.349998  84.449997  84.750000  4704500   \n",
       "2004-08-20  55.212502  85.250000  85.250000  84.519997  84.519997  4501400   \n",
       "2004-08-23  54.823910  84.650002  85.449997  84.650002  85.230003  4260600   \n",
       "2004-08-24  54.862782  84.709999  85.150002  84.349998  85.000000  2710400   \n",
       "2004-08-25  55.095955  85.070000  85.269997  84.550003  85.000000  4405600   \n",
       "\n",
       "            Dividends  Stock Splits   10_ac_ma   20_ac_ma   50_ac_ma  \\\n",
       "Date                                                                   \n",
       "2004-08-19       0.18           0.0  54.397126  54.958798  55.913001   \n",
       "2004-08-20       0.18           0.0  54.511759  54.977556  55.852774   \n",
       "2004-08-23       0.18           0.0  54.582999  54.969128  55.779992   \n",
       "2004-08-24       0.18           0.0  54.564866  54.937116  55.713028   \n",
       "2004-08-25       0.18           0.0  54.654243  54.917732  55.644653   \n",
       "\n",
       "            10_ac_bb_u  10_ac_bb_l  20_ac_bb_u  20_ac_bb_l  50_ac_bb_u  \\\n",
       "Date                                                                     \n",
       "2004-08-19   55.525647   53.268605   56.500281   53.417314   59.046566   \n",
       "2004-08-20   55.720874   53.302644   56.521944   53.433168   58.920109   \n",
       "2004-08-23   55.771068   53.394930   56.515013   53.423244   58.766151   \n",
       "2004-08-24   55.726906   53.402826   56.462835   53.411398   58.625949   \n",
       "2004-08-25   55.829713   53.478772   56.423940   53.411524   58.447571   \n",
       "\n",
       "            50_ac_bb_l  \n",
       "Date                    \n",
       "2004-08-19   52.779437  \n",
       "2004-08-20   52.785438  \n",
       "2004-08-23   52.793832  \n",
       "2004-08-24   52.800108  \n",
       "2004-08-25   52.841736  "
      ]
     },
     "execution_count": 139,
     "metadata": {},
     "output_type": "execute_result"
    }
   ],
   "source": [
    "df_ibm_test.head()"
   ]
  },
  {
   "cell_type": "code",
   "execution_count": 140,
   "id": "permanent-madonna",
   "metadata": {},
   "outputs": [
    {
     "data": {
      "text/html": [
       "<div>\n",
       "<style scoped>\n",
       "    .dataframe tbody tr th:only-of-type {\n",
       "        vertical-align: middle;\n",
       "    }\n",
       "\n",
       "    .dataframe tbody tr th {\n",
       "        vertical-align: top;\n",
       "    }\n",
       "\n",
       "    .dataframe thead th {\n",
       "        text-align: right;\n",
       "    }\n",
       "</style>\n",
       "<table border=\"1\" class=\"dataframe\">\n",
       "  <thead>\n",
       "    <tr style=\"text-align: right;\">\n",
       "      <th></th>\n",
       "      <th>Adj Close</th>\n",
       "      <th>Close</th>\n",
       "      <th>High</th>\n",
       "      <th>Low</th>\n",
       "      <th>Open</th>\n",
       "      <th>Volume</th>\n",
       "      <th>Dividends</th>\n",
       "      <th>Stock Splits</th>\n",
       "      <th>10_ac_ma</th>\n",
       "      <th>20_ac_ma</th>\n",
       "      <th>50_ac_ma</th>\n",
       "      <th>10_ac_bb_u</th>\n",
       "      <th>10_ac_bb_l</th>\n",
       "      <th>20_ac_bb_u</th>\n",
       "      <th>20_ac_bb_l</th>\n",
       "      <th>50_ac_bb_u</th>\n",
       "      <th>50_ac_bb_l</th>\n",
       "    </tr>\n",
       "    <tr>\n",
       "      <th>Date</th>\n",
       "      <th></th>\n",
       "      <th></th>\n",
       "      <th></th>\n",
       "      <th></th>\n",
       "      <th></th>\n",
       "      <th></th>\n",
       "      <th></th>\n",
       "      <th></th>\n",
       "      <th></th>\n",
       "      <th></th>\n",
       "      <th></th>\n",
       "      <th></th>\n",
       "      <th></th>\n",
       "      <th></th>\n",
       "      <th></th>\n",
       "      <th></th>\n",
       "      <th></th>\n",
       "    </tr>\n",
       "  </thead>\n",
       "  <tbody>\n",
       "    <tr>\n",
       "      <th>2021-02-17</th>\n",
       "      <td>119.970001</td>\n",
       "      <td>119.970001</td>\n",
       "      <td>120.559998</td>\n",
       "      <td>119.019997</td>\n",
       "      <td>119.269997</td>\n",
       "      <td>3959100</td>\n",
       "      <td>NaN</td>\n",
       "      <td>NaN</td>\n",
       "      <td>120.522736</td>\n",
       "      <td>120.607473</td>\n",
       "      <td>122.894434</td>\n",
       "      <td>123.387170</td>\n",
       "      <td>117.658302</td>\n",
       "      <td>127.337892</td>\n",
       "      <td>113.877054</td>\n",
       "      <td>129.285204</td>\n",
       "      <td>116.503663</td>\n",
       "    </tr>\n",
       "    <tr>\n",
       "      <th>2021-02-18</th>\n",
       "      <td>120.730003</td>\n",
       "      <td>120.730003</td>\n",
       "      <td>120.940002</td>\n",
       "      <td>119.699997</td>\n",
       "      <td>120.500000</td>\n",
       "      <td>5398100</td>\n",
       "      <td>NaN</td>\n",
       "      <td>NaN</td>\n",
       "      <td>120.840816</td>\n",
       "      <td>120.225739</td>\n",
       "      <td>122.798580</td>\n",
       "      <td>122.801605</td>\n",
       "      <td>118.880026</td>\n",
       "      <td>125.884348</td>\n",
       "      <td>114.567129</td>\n",
       "      <td>129.172198</td>\n",
       "      <td>116.424963</td>\n",
       "    </tr>\n",
       "    <tr>\n",
       "      <th>2021-02-19</th>\n",
       "      <td>118.989998</td>\n",
       "      <td>118.989998</td>\n",
       "      <td>120.760002</td>\n",
       "      <td>118.379997</td>\n",
       "      <td>120.750000</td>\n",
       "      <td>6578700</td>\n",
       "      <td>NaN</td>\n",
       "      <td>NaN</td>\n",
       "      <td>120.797401</td>\n",
       "      <td>119.679540</td>\n",
       "      <td>122.717268</td>\n",
       "      <td>122.910881</td>\n",
       "      <td>118.683921</td>\n",
       "      <td>123.044776</td>\n",
       "      <td>116.314304</td>\n",
       "      <td>129.180605</td>\n",
       "      <td>116.253931</td>\n",
       "    </tr>\n",
       "    <tr>\n",
       "      <th>2021-02-22</th>\n",
       "      <td>120.860001</td>\n",
       "      <td>120.860001</td>\n",
       "      <td>121.129997</td>\n",
       "      <td>118.440002</td>\n",
       "      <td>118.500000</td>\n",
       "      <td>5879200</td>\n",
       "      <td>NaN</td>\n",
       "      <td>NaN</td>\n",
       "      <td>120.865001</td>\n",
       "      <td>119.870243</td>\n",
       "      <td>122.653422</td>\n",
       "      <td>122.934059</td>\n",
       "      <td>118.795943</td>\n",
       "      <td>123.033291</td>\n",
       "      <td>116.707195</td>\n",
       "      <td>129.125993</td>\n",
       "      <td>116.180851</td>\n",
       "    </tr>\n",
       "    <tr>\n",
       "      <th>2021-02-23</th>\n",
       "      <td>120.709999</td>\n",
       "      <td>120.709999</td>\n",
       "      <td>121.349998</td>\n",
       "      <td>119.800003</td>\n",
       "      <td>120.919998</td>\n",
       "      <td>4531300</td>\n",
       "      <td>NaN</td>\n",
       "      <td>NaN</td>\n",
       "      <td>120.738000</td>\n",
       "      <td>120.054926</td>\n",
       "      <td>122.565260</td>\n",
       "      <td>122.653059</td>\n",
       "      <td>118.822942</td>\n",
       "      <td>122.935035</td>\n",
       "      <td>117.174818</td>\n",
       "      <td>129.020870</td>\n",
       "      <td>116.109651</td>\n",
       "    </tr>\n",
       "  </tbody>\n",
       "</table>\n",
       "</div>"
      ],
      "text/plain": [
       "             Adj Close       Close        High         Low        Open  \\\n",
       "Date                                                                     \n",
       "2021-02-17  119.970001  119.970001  120.559998  119.019997  119.269997   \n",
       "2021-02-18  120.730003  120.730003  120.940002  119.699997  120.500000   \n",
       "2021-02-19  118.989998  118.989998  120.760002  118.379997  120.750000   \n",
       "2021-02-22  120.860001  120.860001  121.129997  118.440002  118.500000   \n",
       "2021-02-23  120.709999  120.709999  121.349998  119.800003  120.919998   \n",
       "\n",
       "             Volume  Dividends  Stock Splits    10_ac_ma    20_ac_ma  \\\n",
       "Date                                                                   \n",
       "2021-02-17  3959100        NaN           NaN  120.522736  120.607473   \n",
       "2021-02-18  5398100        NaN           NaN  120.840816  120.225739   \n",
       "2021-02-19  6578700        NaN           NaN  120.797401  119.679540   \n",
       "2021-02-22  5879200        NaN           NaN  120.865001  119.870243   \n",
       "2021-02-23  4531300        NaN           NaN  120.738000  120.054926   \n",
       "\n",
       "              50_ac_ma  10_ac_bb_u  10_ac_bb_l  20_ac_bb_u  20_ac_bb_l  \\\n",
       "Date                                                                     \n",
       "2021-02-17  122.894434  123.387170  117.658302  127.337892  113.877054   \n",
       "2021-02-18  122.798580  122.801605  118.880026  125.884348  114.567129   \n",
       "2021-02-19  122.717268  122.910881  118.683921  123.044776  116.314304   \n",
       "2021-02-22  122.653422  122.934059  118.795943  123.033291  116.707195   \n",
       "2021-02-23  122.565260  122.653059  118.822942  122.935035  117.174818   \n",
       "\n",
       "            50_ac_bb_u  50_ac_bb_l  \n",
       "Date                                \n",
       "2021-02-17  129.285204  116.503663  \n",
       "2021-02-18  129.172198  116.424963  \n",
       "2021-02-19  129.180605  116.253931  \n",
       "2021-02-22  129.125993  116.180851  \n",
       "2021-02-23  129.020870  116.109651  "
      ]
     },
     "execution_count": 140,
     "metadata": {},
     "output_type": "execute_result"
    }
   ],
   "source": [
    "df_ibm_valid.head()"
   ]
  },
  {
   "cell_type": "markdown",
   "id": "proved-fault",
   "metadata": {},
   "source": [
    "#### Apple Inc. Stock train test split"
   ]
  },
  {
   "cell_type": "code",
   "execution_count": 141,
   "id": "static-glucose",
   "metadata": {},
   "outputs": [],
   "source": [
    "df_aapl = df_aapl.loc[data_start:].copy()"
   ]
  },
  {
   "cell_type": "code",
   "execution_count": 142,
   "id": "knowing-developer",
   "metadata": {},
   "outputs": [
    {
     "name": "stdout",
     "output_type": "stream",
     "text": [
      "4172 4132 4152 20\n"
     ]
    }
   ],
   "source": [
    "df_aapl_train, df_aapl_test, df_aapl_valid = train_test_valid_split(df_aapl, prediction_length=prediction_length[1])\n",
    "print(len(df_aapl), len(df_aapl_train), len(df_aapl_test), len(df_aapl_valid))"
   ]
  },
  {
   "cell_type": "code",
   "execution_count": 143,
   "id": "variable-matter",
   "metadata": {},
   "outputs": [
    {
     "data": {
      "text/html": [
       "<div>\n",
       "<style scoped>\n",
       "    .dataframe tbody tr th:only-of-type {\n",
       "        vertical-align: middle;\n",
       "    }\n",
       "\n",
       "    .dataframe tbody tr th {\n",
       "        vertical-align: top;\n",
       "    }\n",
       "\n",
       "    .dataframe thead th {\n",
       "        text-align: right;\n",
       "    }\n",
       "</style>\n",
       "<table border=\"1\" class=\"dataframe\">\n",
       "  <thead>\n",
       "    <tr style=\"text-align: right;\">\n",
       "      <th></th>\n",
       "      <th>Adj Close</th>\n",
       "      <th>Close</th>\n",
       "      <th>High</th>\n",
       "      <th>Low</th>\n",
       "      <th>Open</th>\n",
       "      <th>Volume</th>\n",
       "      <th>Dividends</th>\n",
       "      <th>Stock Splits</th>\n",
       "      <th>10_ac_ma</th>\n",
       "      <th>20_ac_ma</th>\n",
       "      <th>50_ac_ma</th>\n",
       "      <th>10_ac_bb_u</th>\n",
       "      <th>10_ac_bb_l</th>\n",
       "      <th>20_ac_bb_u</th>\n",
       "      <th>20_ac_bb_l</th>\n",
       "      <th>50_ac_bb_u</th>\n",
       "      <th>50_ac_bb_l</th>\n",
       "    </tr>\n",
       "    <tr>\n",
       "      <th>Date</th>\n",
       "      <th></th>\n",
       "      <th></th>\n",
       "      <th></th>\n",
       "      <th></th>\n",
       "      <th></th>\n",
       "      <th></th>\n",
       "      <th></th>\n",
       "      <th></th>\n",
       "      <th></th>\n",
       "      <th></th>\n",
       "      <th></th>\n",
       "      <th></th>\n",
       "      <th></th>\n",
       "      <th></th>\n",
       "      <th></th>\n",
       "      <th></th>\n",
       "      <th></th>\n",
       "    </tr>\n",
       "  </thead>\n",
       "  <tbody>\n",
       "    <tr>\n",
       "      <th>2004-08-19</th>\n",
       "      <td>0.472366</td>\n",
       "      <td>0.548393</td>\n",
       "      <td>0.568929</td>\n",
       "      <td>0.542143</td>\n",
       "      <td>0.562679</td>\n",
       "      <td>388920000.0</td>\n",
       "      <td>0.0</td>\n",
       "      <td>2.0</td>\n",
       "      <td>0.473627</td>\n",
       "      <td>0.481141</td>\n",
       "      <td>0.484422</td>\n",
       "      <td>0.491197</td>\n",
       "      <td>0.456057</td>\n",
       "      <td>0.504857</td>\n",
       "      <td>0.457425</td>\n",
       "      <td>0.519835</td>\n",
       "      <td>0.449008</td>\n",
       "    </tr>\n",
       "    <tr>\n",
       "      <th>2004-08-20</th>\n",
       "      <td>0.473750</td>\n",
       "      <td>0.550000</td>\n",
       "      <td>0.553393</td>\n",
       "      <td>0.544464</td>\n",
       "      <td>0.548393</td>\n",
       "      <td>316780800.0</td>\n",
       "      <td>0.0</td>\n",
       "      <td>2.0</td>\n",
       "      <td>0.475196</td>\n",
       "      <td>0.481218</td>\n",
       "      <td>0.484606</td>\n",
       "      <td>0.488983</td>\n",
       "      <td>0.461409</td>\n",
       "      <td>0.504821</td>\n",
       "      <td>0.457614</td>\n",
       "      <td>0.519691</td>\n",
       "      <td>0.449521</td>\n",
       "    </tr>\n",
       "    <tr>\n",
       "      <th>2004-08-23</th>\n",
       "      <td>0.478057</td>\n",
       "      <td>0.555000</td>\n",
       "      <td>0.558393</td>\n",
       "      <td>0.546429</td>\n",
       "      <td>0.551071</td>\n",
       "      <td>254660000.0</td>\n",
       "      <td>0.0</td>\n",
       "      <td>2.0</td>\n",
       "      <td>0.476395</td>\n",
       "      <td>0.481079</td>\n",
       "      <td>0.484711</td>\n",
       "      <td>0.488652</td>\n",
       "      <td>0.464139</td>\n",
       "      <td>0.504725</td>\n",
       "      <td>0.457433</td>\n",
       "      <td>0.519683</td>\n",
       "      <td>0.449738</td>\n",
       "    </tr>\n",
       "    <tr>\n",
       "      <th>2004-08-24</th>\n",
       "      <td>0.491439</td>\n",
       "      <td>0.570536</td>\n",
       "      <td>0.570536</td>\n",
       "      <td>0.556964</td>\n",
       "      <td>0.558214</td>\n",
       "      <td>374136000.0</td>\n",
       "      <td>0.0</td>\n",
       "      <td>2.0</td>\n",
       "      <td>0.477057</td>\n",
       "      <td>0.480710</td>\n",
       "      <td>0.485274</td>\n",
       "      <td>0.491797</td>\n",
       "      <td>0.462317</td>\n",
       "      <td>0.503401</td>\n",
       "      <td>0.458019</td>\n",
       "      <td>0.519742</td>\n",
       "      <td>0.450806</td>\n",
       "    </tr>\n",
       "    <tr>\n",
       "      <th>2004-08-25</th>\n",
       "      <td>0.508359</td>\n",
       "      <td>0.590179</td>\n",
       "      <td>0.591964</td>\n",
       "      <td>0.566607</td>\n",
       "      <td>0.569107</td>\n",
       "      <td>505618400.0</td>\n",
       "      <td>0.0</td>\n",
       "      <td>2.0</td>\n",
       "      <td>0.480195</td>\n",
       "      <td>0.481310</td>\n",
       "      <td>0.486000</td>\n",
       "      <td>0.504872</td>\n",
       "      <td>0.455517</td>\n",
       "      <td>0.506265</td>\n",
       "      <td>0.456355</td>\n",
       "      <td>0.520858</td>\n",
       "      <td>0.451141</td>\n",
       "    </tr>\n",
       "  </tbody>\n",
       "</table>\n",
       "</div>"
      ],
      "text/plain": [
       "            Adj Close     Close      High       Low      Open       Volume  \\\n",
       "Date                                                                         \n",
       "2004-08-19   0.472366  0.548393  0.568929  0.542143  0.562679  388920000.0   \n",
       "2004-08-20   0.473750  0.550000  0.553393  0.544464  0.548393  316780800.0   \n",
       "2004-08-23   0.478057  0.555000  0.558393  0.546429  0.551071  254660000.0   \n",
       "2004-08-24   0.491439  0.570536  0.570536  0.556964  0.558214  374136000.0   \n",
       "2004-08-25   0.508359  0.590179  0.591964  0.566607  0.569107  505618400.0   \n",
       "\n",
       "            Dividends  Stock Splits  10_ac_ma  20_ac_ma  50_ac_ma  10_ac_bb_u  \\\n",
       "Date                                                                            \n",
       "2004-08-19        0.0           2.0  0.473627  0.481141  0.484422    0.491197   \n",
       "2004-08-20        0.0           2.0  0.475196  0.481218  0.484606    0.488983   \n",
       "2004-08-23        0.0           2.0  0.476395  0.481079  0.484711    0.488652   \n",
       "2004-08-24        0.0           2.0  0.477057  0.480710  0.485274    0.491797   \n",
       "2004-08-25        0.0           2.0  0.480195  0.481310  0.486000    0.504872   \n",
       "\n",
       "            10_ac_bb_l  20_ac_bb_u  20_ac_bb_l  50_ac_bb_u  50_ac_bb_l  \n",
       "Date                                                                    \n",
       "2004-08-19    0.456057    0.504857    0.457425    0.519835    0.449008  \n",
       "2004-08-20    0.461409    0.504821    0.457614    0.519691    0.449521  \n",
       "2004-08-23    0.464139    0.504725    0.457433    0.519683    0.449738  \n",
       "2004-08-24    0.462317    0.503401    0.458019    0.519742    0.450806  \n",
       "2004-08-25    0.455517    0.506265    0.456355    0.520858    0.451141  "
      ]
     },
     "execution_count": 143,
     "metadata": {},
     "output_type": "execute_result"
    }
   ],
   "source": [
    "df_aapl_train.head()"
   ]
  },
  {
   "cell_type": "code",
   "execution_count": 144,
   "id": "north-avenue",
   "metadata": {},
   "outputs": [
    {
     "data": {
      "text/html": [
       "<div>\n",
       "<style scoped>\n",
       "    .dataframe tbody tr th:only-of-type {\n",
       "        vertical-align: middle;\n",
       "    }\n",
       "\n",
       "    .dataframe tbody tr th {\n",
       "        vertical-align: top;\n",
       "    }\n",
       "\n",
       "    .dataframe thead th {\n",
       "        text-align: right;\n",
       "    }\n",
       "</style>\n",
       "<table border=\"1\" class=\"dataframe\">\n",
       "  <thead>\n",
       "    <tr style=\"text-align: right;\">\n",
       "      <th></th>\n",
       "      <th>Adj Close</th>\n",
       "      <th>Close</th>\n",
       "      <th>High</th>\n",
       "      <th>Low</th>\n",
       "      <th>Open</th>\n",
       "      <th>Volume</th>\n",
       "      <th>Dividends</th>\n",
       "      <th>Stock Splits</th>\n",
       "      <th>10_ac_ma</th>\n",
       "      <th>20_ac_ma</th>\n",
       "      <th>50_ac_ma</th>\n",
       "      <th>10_ac_bb_u</th>\n",
       "      <th>10_ac_bb_l</th>\n",
       "      <th>20_ac_bb_u</th>\n",
       "      <th>20_ac_bb_l</th>\n",
       "      <th>50_ac_bb_u</th>\n",
       "      <th>50_ac_bb_l</th>\n",
       "    </tr>\n",
       "    <tr>\n",
       "      <th>Date</th>\n",
       "      <th></th>\n",
       "      <th></th>\n",
       "      <th></th>\n",
       "      <th></th>\n",
       "      <th></th>\n",
       "      <th></th>\n",
       "      <th></th>\n",
       "      <th></th>\n",
       "      <th></th>\n",
       "      <th></th>\n",
       "      <th></th>\n",
       "      <th></th>\n",
       "      <th></th>\n",
       "      <th></th>\n",
       "      <th></th>\n",
       "      <th></th>\n",
       "      <th></th>\n",
       "    </tr>\n",
       "  </thead>\n",
       "  <tbody>\n",
       "    <tr>\n",
       "      <th>2004-08-19</th>\n",
       "      <td>0.472366</td>\n",
       "      <td>0.548393</td>\n",
       "      <td>0.568929</td>\n",
       "      <td>0.542143</td>\n",
       "      <td>0.562679</td>\n",
       "      <td>388920000.0</td>\n",
       "      <td>0.0</td>\n",
       "      <td>2.0</td>\n",
       "      <td>0.473627</td>\n",
       "      <td>0.481141</td>\n",
       "      <td>0.484422</td>\n",
       "      <td>0.491197</td>\n",
       "      <td>0.456057</td>\n",
       "      <td>0.504857</td>\n",
       "      <td>0.457425</td>\n",
       "      <td>0.519835</td>\n",
       "      <td>0.449008</td>\n",
       "    </tr>\n",
       "    <tr>\n",
       "      <th>2004-08-20</th>\n",
       "      <td>0.473750</td>\n",
       "      <td>0.550000</td>\n",
       "      <td>0.553393</td>\n",
       "      <td>0.544464</td>\n",
       "      <td>0.548393</td>\n",
       "      <td>316780800.0</td>\n",
       "      <td>0.0</td>\n",
       "      <td>2.0</td>\n",
       "      <td>0.475196</td>\n",
       "      <td>0.481218</td>\n",
       "      <td>0.484606</td>\n",
       "      <td>0.488983</td>\n",
       "      <td>0.461409</td>\n",
       "      <td>0.504821</td>\n",
       "      <td>0.457614</td>\n",
       "      <td>0.519691</td>\n",
       "      <td>0.449521</td>\n",
       "    </tr>\n",
       "    <tr>\n",
       "      <th>2004-08-23</th>\n",
       "      <td>0.478057</td>\n",
       "      <td>0.555000</td>\n",
       "      <td>0.558393</td>\n",
       "      <td>0.546429</td>\n",
       "      <td>0.551071</td>\n",
       "      <td>254660000.0</td>\n",
       "      <td>0.0</td>\n",
       "      <td>2.0</td>\n",
       "      <td>0.476395</td>\n",
       "      <td>0.481079</td>\n",
       "      <td>0.484711</td>\n",
       "      <td>0.488652</td>\n",
       "      <td>0.464139</td>\n",
       "      <td>0.504725</td>\n",
       "      <td>0.457433</td>\n",
       "      <td>0.519683</td>\n",
       "      <td>0.449738</td>\n",
       "    </tr>\n",
       "    <tr>\n",
       "      <th>2004-08-24</th>\n",
       "      <td>0.491439</td>\n",
       "      <td>0.570536</td>\n",
       "      <td>0.570536</td>\n",
       "      <td>0.556964</td>\n",
       "      <td>0.558214</td>\n",
       "      <td>374136000.0</td>\n",
       "      <td>0.0</td>\n",
       "      <td>2.0</td>\n",
       "      <td>0.477057</td>\n",
       "      <td>0.480710</td>\n",
       "      <td>0.485274</td>\n",
       "      <td>0.491797</td>\n",
       "      <td>0.462317</td>\n",
       "      <td>0.503401</td>\n",
       "      <td>0.458019</td>\n",
       "      <td>0.519742</td>\n",
       "      <td>0.450806</td>\n",
       "    </tr>\n",
       "    <tr>\n",
       "      <th>2004-08-25</th>\n",
       "      <td>0.508359</td>\n",
       "      <td>0.590179</td>\n",
       "      <td>0.591964</td>\n",
       "      <td>0.566607</td>\n",
       "      <td>0.569107</td>\n",
       "      <td>505618400.0</td>\n",
       "      <td>0.0</td>\n",
       "      <td>2.0</td>\n",
       "      <td>0.480195</td>\n",
       "      <td>0.481310</td>\n",
       "      <td>0.486000</td>\n",
       "      <td>0.504872</td>\n",
       "      <td>0.455517</td>\n",
       "      <td>0.506265</td>\n",
       "      <td>0.456355</td>\n",
       "      <td>0.520858</td>\n",
       "      <td>0.451141</td>\n",
       "    </tr>\n",
       "  </tbody>\n",
       "</table>\n",
       "</div>"
      ],
      "text/plain": [
       "            Adj Close     Close      High       Low      Open       Volume  \\\n",
       "Date                                                                         \n",
       "2004-08-19   0.472366  0.548393  0.568929  0.542143  0.562679  388920000.0   \n",
       "2004-08-20   0.473750  0.550000  0.553393  0.544464  0.548393  316780800.0   \n",
       "2004-08-23   0.478057  0.555000  0.558393  0.546429  0.551071  254660000.0   \n",
       "2004-08-24   0.491439  0.570536  0.570536  0.556964  0.558214  374136000.0   \n",
       "2004-08-25   0.508359  0.590179  0.591964  0.566607  0.569107  505618400.0   \n",
       "\n",
       "            Dividends  Stock Splits  10_ac_ma  20_ac_ma  50_ac_ma  10_ac_bb_u  \\\n",
       "Date                                                                            \n",
       "2004-08-19        0.0           2.0  0.473627  0.481141  0.484422    0.491197   \n",
       "2004-08-20        0.0           2.0  0.475196  0.481218  0.484606    0.488983   \n",
       "2004-08-23        0.0           2.0  0.476395  0.481079  0.484711    0.488652   \n",
       "2004-08-24        0.0           2.0  0.477057  0.480710  0.485274    0.491797   \n",
       "2004-08-25        0.0           2.0  0.480195  0.481310  0.486000    0.504872   \n",
       "\n",
       "            10_ac_bb_l  20_ac_bb_u  20_ac_bb_l  50_ac_bb_u  50_ac_bb_l  \n",
       "Date                                                                    \n",
       "2004-08-19    0.456057    0.504857    0.457425    0.519835    0.449008  \n",
       "2004-08-20    0.461409    0.504821    0.457614    0.519691    0.449521  \n",
       "2004-08-23    0.464139    0.504725    0.457433    0.519683    0.449738  \n",
       "2004-08-24    0.462317    0.503401    0.458019    0.519742    0.450806  \n",
       "2004-08-25    0.455517    0.506265    0.456355    0.520858    0.451141  "
      ]
     },
     "execution_count": 144,
     "metadata": {},
     "output_type": "execute_result"
    }
   ],
   "source": [
    "df_aapl_test.head()"
   ]
  },
  {
   "cell_type": "code",
   "execution_count": 145,
   "id": "previous-auction",
   "metadata": {},
   "outputs": [
    {
     "data": {
      "text/html": [
       "<div>\n",
       "<style scoped>\n",
       "    .dataframe tbody tr th:only-of-type {\n",
       "        vertical-align: middle;\n",
       "    }\n",
       "\n",
       "    .dataframe tbody tr th {\n",
       "        vertical-align: top;\n",
       "    }\n",
       "\n",
       "    .dataframe thead th {\n",
       "        text-align: right;\n",
       "    }\n",
       "</style>\n",
       "<table border=\"1\" class=\"dataframe\">\n",
       "  <thead>\n",
       "    <tr style=\"text-align: right;\">\n",
       "      <th></th>\n",
       "      <th>Adj Close</th>\n",
       "      <th>Close</th>\n",
       "      <th>High</th>\n",
       "      <th>Low</th>\n",
       "      <th>Open</th>\n",
       "      <th>Volume</th>\n",
       "      <th>Dividends</th>\n",
       "      <th>Stock Splits</th>\n",
       "      <th>10_ac_ma</th>\n",
       "      <th>20_ac_ma</th>\n",
       "      <th>50_ac_ma</th>\n",
       "      <th>10_ac_bb_u</th>\n",
       "      <th>10_ac_bb_l</th>\n",
       "      <th>20_ac_bb_u</th>\n",
       "      <th>20_ac_bb_l</th>\n",
       "      <th>50_ac_bb_u</th>\n",
       "      <th>50_ac_bb_l</th>\n",
       "    </tr>\n",
       "    <tr>\n",
       "      <th>Date</th>\n",
       "      <th></th>\n",
       "      <th></th>\n",
       "      <th></th>\n",
       "      <th></th>\n",
       "      <th></th>\n",
       "      <th></th>\n",
       "      <th></th>\n",
       "      <th></th>\n",
       "      <th></th>\n",
       "      <th></th>\n",
       "      <th></th>\n",
       "      <th></th>\n",
       "      <th></th>\n",
       "      <th></th>\n",
       "      <th></th>\n",
       "      <th></th>\n",
       "      <th></th>\n",
       "    </tr>\n",
       "  </thead>\n",
       "  <tbody>\n",
       "    <tr>\n",
       "      <th>2021-02-17</th>\n",
       "      <td>130.839996</td>\n",
       "      <td>130.839996</td>\n",
       "      <td>132.220001</td>\n",
       "      <td>129.470001</td>\n",
       "      <td>131.250000</td>\n",
       "      <td>97918500.0</td>\n",
       "      <td>NaN</td>\n",
       "      <td>NaN</td>\n",
       "      <td>135.052515</td>\n",
       "      <td>136.138230</td>\n",
       "      <td>131.424077</td>\n",
       "      <td>138.995849</td>\n",
       "      <td>131.109180</td>\n",
       "      <td>142.966393</td>\n",
       "      <td>129.310068</td>\n",
       "      <td>142.185129</td>\n",
       "      <td>120.663025</td>\n",
       "    </tr>\n",
       "    <tr>\n",
       "      <th>2021-02-18</th>\n",
       "      <td>129.710007</td>\n",
       "      <td>129.710007</td>\n",
       "      <td>130.000000</td>\n",
       "      <td>127.410004</td>\n",
       "      <td>129.199997</td>\n",
       "      <td>96856700.0</td>\n",
       "      <td>NaN</td>\n",
       "      <td>NaN</td>\n",
       "      <td>134.649500</td>\n",
       "      <td>136.032081</td>\n",
       "      <td>131.576925</td>\n",
       "      <td>139.821352</td>\n",
       "      <td>129.477647</td>\n",
       "      <td>143.199620</td>\n",
       "      <td>128.864541</td>\n",
       "      <td>142.007567</td>\n",
       "      <td>121.146283</td>\n",
       "    </tr>\n",
       "    <tr>\n",
       "      <th>2021-02-19</th>\n",
       "      <td>129.869995</td>\n",
       "      <td>129.869995</td>\n",
       "      <td>130.710007</td>\n",
       "      <td>128.800003</td>\n",
       "      <td>130.240005</td>\n",
       "      <td>87668800.0</td>\n",
       "      <td>NaN</td>\n",
       "      <td>NaN</td>\n",
       "      <td>133.917999</td>\n",
       "      <td>135.692292</td>\n",
       "      <td>131.703018</td>\n",
       "      <td>139.545200</td>\n",
       "      <td>128.290798</td>\n",
       "      <td>143.360206</td>\n",
       "      <td>128.024378</td>\n",
       "      <td>141.887890</td>\n",
       "      <td>121.518145</td>\n",
       "    </tr>\n",
       "    <tr>\n",
       "      <th>2021-02-22</th>\n",
       "      <td>126.000000</td>\n",
       "      <td>126.000000</td>\n",
       "      <td>129.720001</td>\n",
       "      <td>125.599998</td>\n",
       "      <td>128.009995</td>\n",
       "      <td>103916400.0</td>\n",
       "      <td>NaN</td>\n",
       "      <td>NaN</td>\n",
       "      <td>132.842000</td>\n",
       "      <td>135.049167</td>\n",
       "      <td>131.739129</td>\n",
       "      <td>139.969011</td>\n",
       "      <td>125.714989</td>\n",
       "      <td>143.693038</td>\n",
       "      <td>126.405296</td>\n",
       "      <td>141.827686</td>\n",
       "      <td>121.650572</td>\n",
       "    </tr>\n",
       "    <tr>\n",
       "      <th>2021-02-23</th>\n",
       "      <td>125.860001</td>\n",
       "      <td>125.860001</td>\n",
       "      <td>126.709999</td>\n",
       "      <td>118.389999</td>\n",
       "      <td>123.760002</td>\n",
       "      <td>158273000.0</td>\n",
       "      <td>NaN</td>\n",
       "      <td>NaN</td>\n",
       "      <td>131.737000</td>\n",
       "      <td>134.206829</td>\n",
       "      <td>131.824364</td>\n",
       "      <td>139.462184</td>\n",
       "      <td>124.011815</td>\n",
       "      <td>142.990963</td>\n",
       "      <td>125.422695</td>\n",
       "      <td>141.631303</td>\n",
       "      <td>122.017424</td>\n",
       "    </tr>\n",
       "  </tbody>\n",
       "</table>\n",
       "</div>"
      ],
      "text/plain": [
       "             Adj Close       Close        High         Low        Open  \\\n",
       "Date                                                                     \n",
       "2021-02-17  130.839996  130.839996  132.220001  129.470001  131.250000   \n",
       "2021-02-18  129.710007  129.710007  130.000000  127.410004  129.199997   \n",
       "2021-02-19  129.869995  129.869995  130.710007  128.800003  130.240005   \n",
       "2021-02-22  126.000000  126.000000  129.720001  125.599998  128.009995   \n",
       "2021-02-23  125.860001  125.860001  126.709999  118.389999  123.760002   \n",
       "\n",
       "                 Volume  Dividends  Stock Splits    10_ac_ma    20_ac_ma  \\\n",
       "Date                                                                       \n",
       "2021-02-17   97918500.0        NaN           NaN  135.052515  136.138230   \n",
       "2021-02-18   96856700.0        NaN           NaN  134.649500  136.032081   \n",
       "2021-02-19   87668800.0        NaN           NaN  133.917999  135.692292   \n",
       "2021-02-22  103916400.0        NaN           NaN  132.842000  135.049167   \n",
       "2021-02-23  158273000.0        NaN           NaN  131.737000  134.206829   \n",
       "\n",
       "              50_ac_ma  10_ac_bb_u  10_ac_bb_l  20_ac_bb_u  20_ac_bb_l  \\\n",
       "Date                                                                     \n",
       "2021-02-17  131.424077  138.995849  131.109180  142.966393  129.310068   \n",
       "2021-02-18  131.576925  139.821352  129.477647  143.199620  128.864541   \n",
       "2021-02-19  131.703018  139.545200  128.290798  143.360206  128.024378   \n",
       "2021-02-22  131.739129  139.969011  125.714989  143.693038  126.405296   \n",
       "2021-02-23  131.824364  139.462184  124.011815  142.990963  125.422695   \n",
       "\n",
       "            50_ac_bb_u  50_ac_bb_l  \n",
       "Date                                \n",
       "2021-02-17  142.185129  120.663025  \n",
       "2021-02-18  142.007567  121.146283  \n",
       "2021-02-19  141.887890  121.518145  \n",
       "2021-02-22  141.827686  121.650572  \n",
       "2021-02-23  141.631303  122.017424  "
      ]
     },
     "execution_count": 145,
     "metadata": {},
     "output_type": "execute_result"
    }
   ],
   "source": [
    "df_aapl_valid.head()"
   ]
  },
  {
   "cell_type": "markdown",
   "id": "statutory-habitat",
   "metadata": {},
   "source": [
    "#### Amazon Stock train test split"
   ]
  },
  {
   "cell_type": "code",
   "execution_count": 146,
   "id": "becoming-island",
   "metadata": {},
   "outputs": [],
   "source": [
    "df_amzn = df_amzn.loc[data_start:].copy()"
   ]
  },
  {
   "cell_type": "code",
   "execution_count": 147,
   "id": "loving-compact",
   "metadata": {},
   "outputs": [
    {
     "name": "stdout",
     "output_type": "stream",
     "text": [
      "4172 4132 4152 20\n"
     ]
    }
   ],
   "source": [
    "df_amzn_train, df_amzn_test, df_amzn_valid = train_test_valid_split(df_amzn, prediction_length=prediction_length[1])\n",
    "print(len(df_amzn), len(df_amzn_train), len(df_amzn_test), len(df_amzn_valid))"
   ]
  },
  {
   "cell_type": "code",
   "execution_count": 148,
   "id": "several-insulin",
   "metadata": {},
   "outputs": [
    {
     "data": {
      "text/html": [
       "<div>\n",
       "<style scoped>\n",
       "    .dataframe tbody tr th:only-of-type {\n",
       "        vertical-align: middle;\n",
       "    }\n",
       "\n",
       "    .dataframe tbody tr th {\n",
       "        vertical-align: top;\n",
       "    }\n",
       "\n",
       "    .dataframe thead th {\n",
       "        text-align: right;\n",
       "    }\n",
       "</style>\n",
       "<table border=\"1\" class=\"dataframe\">\n",
       "  <thead>\n",
       "    <tr style=\"text-align: right;\">\n",
       "      <th></th>\n",
       "      <th>Adj Close</th>\n",
       "      <th>Close</th>\n",
       "      <th>High</th>\n",
       "      <th>Low</th>\n",
       "      <th>Open</th>\n",
       "      <th>Volume</th>\n",
       "      <th>Dividends</th>\n",
       "      <th>Stock Splits</th>\n",
       "      <th>10_ac_ma</th>\n",
       "      <th>20_ac_ma</th>\n",
       "      <th>50_ac_ma</th>\n",
       "      <th>10_ac_bb_u</th>\n",
       "      <th>10_ac_bb_l</th>\n",
       "      <th>20_ac_bb_u</th>\n",
       "      <th>20_ac_bb_l</th>\n",
       "      <th>50_ac_bb_u</th>\n",
       "      <th>50_ac_bb_l</th>\n",
       "    </tr>\n",
       "    <tr>\n",
       "      <th>Date</th>\n",
       "      <th></th>\n",
       "      <th></th>\n",
       "      <th></th>\n",
       "      <th></th>\n",
       "      <th></th>\n",
       "      <th></th>\n",
       "      <th></th>\n",
       "      <th></th>\n",
       "      <th></th>\n",
       "      <th></th>\n",
       "      <th></th>\n",
       "      <th></th>\n",
       "      <th></th>\n",
       "      <th></th>\n",
       "      <th></th>\n",
       "      <th></th>\n",
       "      <th></th>\n",
       "    </tr>\n",
       "  </thead>\n",
       "  <tbody>\n",
       "    <tr>\n",
       "      <th>2004-08-19</th>\n",
       "      <td>38.630001</td>\n",
       "      <td>38.630001</td>\n",
       "      <td>40.480000</td>\n",
       "      <td>36.349998</td>\n",
       "      <td>40.259998</td>\n",
       "      <td>12696100.0</td>\n",
       "      <td>NaN</td>\n",
       "      <td>NaN</td>\n",
       "      <td>37.106001</td>\n",
       "      <td>37.6520</td>\n",
       "      <td>44.9828</td>\n",
       "      <td>39.862539</td>\n",
       "      <td>34.349462</td>\n",
       "      <td>40.417963</td>\n",
       "      <td>34.886038</td>\n",
       "      <td>57.693587</td>\n",
       "      <td>32.272014</td>\n",
       "    </tr>\n",
       "    <tr>\n",
       "      <th>2004-08-20</th>\n",
       "      <td>39.509998</td>\n",
       "      <td>39.509998</td>\n",
       "      <td>39.910000</td>\n",
       "      <td>38.110001</td>\n",
       "      <td>38.459999</td>\n",
       "      <td>6790800.0</td>\n",
       "      <td>NaN</td>\n",
       "      <td>NaN</td>\n",
       "      <td>37.508000</td>\n",
       "      <td>37.6285</td>\n",
       "      <td>44.7682</td>\n",
       "      <td>40.386916</td>\n",
       "      <td>34.629084</td>\n",
       "      <td>40.318115</td>\n",
       "      <td>34.938885</td>\n",
       "      <td>57.479021</td>\n",
       "      <td>32.057379</td>\n",
       "    </tr>\n",
       "    <tr>\n",
       "      <th>2004-08-23</th>\n",
       "      <td>39.450001</td>\n",
       "      <td>39.450001</td>\n",
       "      <td>40.000000</td>\n",
       "      <td>39.110001</td>\n",
       "      <td>39.889999</td>\n",
       "      <td>5532600.0</td>\n",
       "      <td>NaN</td>\n",
       "      <td>NaN</td>\n",
       "      <td>37.921000</td>\n",
       "      <td>37.6620</td>\n",
       "      <td>44.5584</td>\n",
       "      <td>40.581550</td>\n",
       "      <td>35.260450</td>\n",
       "      <td>40.427620</td>\n",
       "      <td>34.896380</td>\n",
       "      <td>57.267085</td>\n",
       "      <td>31.849715</td>\n",
       "    </tr>\n",
       "    <tr>\n",
       "      <th>2004-08-24</th>\n",
       "      <td>39.049999</td>\n",
       "      <td>39.049999</td>\n",
       "      <td>39.930000</td>\n",
       "      <td>38.320000</td>\n",
       "      <td>39.720001</td>\n",
       "      <td>7640400.0</td>\n",
       "      <td>NaN</td>\n",
       "      <td>NaN</td>\n",
       "      <td>38.116000</td>\n",
       "      <td>37.6590</td>\n",
       "      <td>44.3544</td>\n",
       "      <td>40.794891</td>\n",
       "      <td>35.437110</td>\n",
       "      <td>40.418129</td>\n",
       "      <td>34.899871</td>\n",
       "      <td>57.083144</td>\n",
       "      <td>31.625656</td>\n",
       "    </tr>\n",
       "    <tr>\n",
       "      <th>2004-08-25</th>\n",
       "      <td>40.299999</td>\n",
       "      <td>40.299999</td>\n",
       "      <td>40.490002</td>\n",
       "      <td>38.160000</td>\n",
       "      <td>39.060001</td>\n",
       "      <td>7254800.0</td>\n",
       "      <td>NaN</td>\n",
       "      <td>NaN</td>\n",
       "      <td>38.490000</td>\n",
       "      <td>37.7755</td>\n",
       "      <td>44.1582</td>\n",
       "      <td>41.246567</td>\n",
       "      <td>35.733433</td>\n",
       "      <td>40.776113</td>\n",
       "      <td>34.774887</td>\n",
       "      <td>56.827117</td>\n",
       "      <td>31.489283</td>\n",
       "    </tr>\n",
       "  </tbody>\n",
       "</table>\n",
       "</div>"
      ],
      "text/plain": [
       "            Adj Close      Close       High        Low       Open      Volume  \\\n",
       "Date                                                                            \n",
       "2004-08-19  38.630001  38.630001  40.480000  36.349998  40.259998  12696100.0   \n",
       "2004-08-20  39.509998  39.509998  39.910000  38.110001  38.459999   6790800.0   \n",
       "2004-08-23  39.450001  39.450001  40.000000  39.110001  39.889999   5532600.0   \n",
       "2004-08-24  39.049999  39.049999  39.930000  38.320000  39.720001   7640400.0   \n",
       "2004-08-25  40.299999  40.299999  40.490002  38.160000  39.060001   7254800.0   \n",
       "\n",
       "            Dividends  Stock Splits   10_ac_ma  20_ac_ma  50_ac_ma  \\\n",
       "Date                                                                 \n",
       "2004-08-19        NaN           NaN  37.106001   37.6520   44.9828   \n",
       "2004-08-20        NaN           NaN  37.508000   37.6285   44.7682   \n",
       "2004-08-23        NaN           NaN  37.921000   37.6620   44.5584   \n",
       "2004-08-24        NaN           NaN  38.116000   37.6590   44.3544   \n",
       "2004-08-25        NaN           NaN  38.490000   37.7755   44.1582   \n",
       "\n",
       "            10_ac_bb_u  10_ac_bb_l  20_ac_bb_u  20_ac_bb_l  50_ac_bb_u  \\\n",
       "Date                                                                     \n",
       "2004-08-19   39.862539   34.349462   40.417963   34.886038   57.693587   \n",
       "2004-08-20   40.386916   34.629084   40.318115   34.938885   57.479021   \n",
       "2004-08-23   40.581550   35.260450   40.427620   34.896380   57.267085   \n",
       "2004-08-24   40.794891   35.437110   40.418129   34.899871   57.083144   \n",
       "2004-08-25   41.246567   35.733433   40.776113   34.774887   56.827117   \n",
       "\n",
       "            50_ac_bb_l  \n",
       "Date                    \n",
       "2004-08-19   32.272014  \n",
       "2004-08-20   32.057379  \n",
       "2004-08-23   31.849715  \n",
       "2004-08-24   31.625656  \n",
       "2004-08-25   31.489283  "
      ]
     },
     "execution_count": 148,
     "metadata": {},
     "output_type": "execute_result"
    }
   ],
   "source": [
    "df_amzn_train.head()"
   ]
  },
  {
   "cell_type": "code",
   "execution_count": 149,
   "id": "sexual-microwave",
   "metadata": {},
   "outputs": [
    {
     "data": {
      "text/html": [
       "<div>\n",
       "<style scoped>\n",
       "    .dataframe tbody tr th:only-of-type {\n",
       "        vertical-align: middle;\n",
       "    }\n",
       "\n",
       "    .dataframe tbody tr th {\n",
       "        vertical-align: top;\n",
       "    }\n",
       "\n",
       "    .dataframe thead th {\n",
       "        text-align: right;\n",
       "    }\n",
       "</style>\n",
       "<table border=\"1\" class=\"dataframe\">\n",
       "  <thead>\n",
       "    <tr style=\"text-align: right;\">\n",
       "      <th></th>\n",
       "      <th>Adj Close</th>\n",
       "      <th>Close</th>\n",
       "      <th>High</th>\n",
       "      <th>Low</th>\n",
       "      <th>Open</th>\n",
       "      <th>Volume</th>\n",
       "      <th>Dividends</th>\n",
       "      <th>Stock Splits</th>\n",
       "      <th>10_ac_ma</th>\n",
       "      <th>20_ac_ma</th>\n",
       "      <th>50_ac_ma</th>\n",
       "      <th>10_ac_bb_u</th>\n",
       "      <th>10_ac_bb_l</th>\n",
       "      <th>20_ac_bb_u</th>\n",
       "      <th>20_ac_bb_l</th>\n",
       "      <th>50_ac_bb_u</th>\n",
       "      <th>50_ac_bb_l</th>\n",
       "    </tr>\n",
       "    <tr>\n",
       "      <th>Date</th>\n",
       "      <th></th>\n",
       "      <th></th>\n",
       "      <th></th>\n",
       "      <th></th>\n",
       "      <th></th>\n",
       "      <th></th>\n",
       "      <th></th>\n",
       "      <th></th>\n",
       "      <th></th>\n",
       "      <th></th>\n",
       "      <th></th>\n",
       "      <th></th>\n",
       "      <th></th>\n",
       "      <th></th>\n",
       "      <th></th>\n",
       "      <th></th>\n",
       "      <th></th>\n",
       "    </tr>\n",
       "  </thead>\n",
       "  <tbody>\n",
       "    <tr>\n",
       "      <th>2004-08-19</th>\n",
       "      <td>38.630001</td>\n",
       "      <td>38.630001</td>\n",
       "      <td>40.480000</td>\n",
       "      <td>36.349998</td>\n",
       "      <td>40.259998</td>\n",
       "      <td>12696100.0</td>\n",
       "      <td>NaN</td>\n",
       "      <td>NaN</td>\n",
       "      <td>37.106001</td>\n",
       "      <td>37.6520</td>\n",
       "      <td>44.9828</td>\n",
       "      <td>39.862539</td>\n",
       "      <td>34.349462</td>\n",
       "      <td>40.417963</td>\n",
       "      <td>34.886038</td>\n",
       "      <td>57.693587</td>\n",
       "      <td>32.272014</td>\n",
       "    </tr>\n",
       "    <tr>\n",
       "      <th>2004-08-20</th>\n",
       "      <td>39.509998</td>\n",
       "      <td>39.509998</td>\n",
       "      <td>39.910000</td>\n",
       "      <td>38.110001</td>\n",
       "      <td>38.459999</td>\n",
       "      <td>6790800.0</td>\n",
       "      <td>NaN</td>\n",
       "      <td>NaN</td>\n",
       "      <td>37.508000</td>\n",
       "      <td>37.6285</td>\n",
       "      <td>44.7682</td>\n",
       "      <td>40.386916</td>\n",
       "      <td>34.629084</td>\n",
       "      <td>40.318115</td>\n",
       "      <td>34.938885</td>\n",
       "      <td>57.479021</td>\n",
       "      <td>32.057379</td>\n",
       "    </tr>\n",
       "    <tr>\n",
       "      <th>2004-08-23</th>\n",
       "      <td>39.450001</td>\n",
       "      <td>39.450001</td>\n",
       "      <td>40.000000</td>\n",
       "      <td>39.110001</td>\n",
       "      <td>39.889999</td>\n",
       "      <td>5532600.0</td>\n",
       "      <td>NaN</td>\n",
       "      <td>NaN</td>\n",
       "      <td>37.921000</td>\n",
       "      <td>37.6620</td>\n",
       "      <td>44.5584</td>\n",
       "      <td>40.581550</td>\n",
       "      <td>35.260450</td>\n",
       "      <td>40.427620</td>\n",
       "      <td>34.896380</td>\n",
       "      <td>57.267085</td>\n",
       "      <td>31.849715</td>\n",
       "    </tr>\n",
       "    <tr>\n",
       "      <th>2004-08-24</th>\n",
       "      <td>39.049999</td>\n",
       "      <td>39.049999</td>\n",
       "      <td>39.930000</td>\n",
       "      <td>38.320000</td>\n",
       "      <td>39.720001</td>\n",
       "      <td>7640400.0</td>\n",
       "      <td>NaN</td>\n",
       "      <td>NaN</td>\n",
       "      <td>38.116000</td>\n",
       "      <td>37.6590</td>\n",
       "      <td>44.3544</td>\n",
       "      <td>40.794891</td>\n",
       "      <td>35.437110</td>\n",
       "      <td>40.418129</td>\n",
       "      <td>34.899871</td>\n",
       "      <td>57.083144</td>\n",
       "      <td>31.625656</td>\n",
       "    </tr>\n",
       "    <tr>\n",
       "      <th>2004-08-25</th>\n",
       "      <td>40.299999</td>\n",
       "      <td>40.299999</td>\n",
       "      <td>40.490002</td>\n",
       "      <td>38.160000</td>\n",
       "      <td>39.060001</td>\n",
       "      <td>7254800.0</td>\n",
       "      <td>NaN</td>\n",
       "      <td>NaN</td>\n",
       "      <td>38.490000</td>\n",
       "      <td>37.7755</td>\n",
       "      <td>44.1582</td>\n",
       "      <td>41.246567</td>\n",
       "      <td>35.733433</td>\n",
       "      <td>40.776113</td>\n",
       "      <td>34.774887</td>\n",
       "      <td>56.827117</td>\n",
       "      <td>31.489283</td>\n",
       "    </tr>\n",
       "  </tbody>\n",
       "</table>\n",
       "</div>"
      ],
      "text/plain": [
       "            Adj Close      Close       High        Low       Open      Volume  \\\n",
       "Date                                                                            \n",
       "2004-08-19  38.630001  38.630001  40.480000  36.349998  40.259998  12696100.0   \n",
       "2004-08-20  39.509998  39.509998  39.910000  38.110001  38.459999   6790800.0   \n",
       "2004-08-23  39.450001  39.450001  40.000000  39.110001  39.889999   5532600.0   \n",
       "2004-08-24  39.049999  39.049999  39.930000  38.320000  39.720001   7640400.0   \n",
       "2004-08-25  40.299999  40.299999  40.490002  38.160000  39.060001   7254800.0   \n",
       "\n",
       "            Dividends  Stock Splits   10_ac_ma  20_ac_ma  50_ac_ma  \\\n",
       "Date                                                                 \n",
       "2004-08-19        NaN           NaN  37.106001   37.6520   44.9828   \n",
       "2004-08-20        NaN           NaN  37.508000   37.6285   44.7682   \n",
       "2004-08-23        NaN           NaN  37.921000   37.6620   44.5584   \n",
       "2004-08-24        NaN           NaN  38.116000   37.6590   44.3544   \n",
       "2004-08-25        NaN           NaN  38.490000   37.7755   44.1582   \n",
       "\n",
       "            10_ac_bb_u  10_ac_bb_l  20_ac_bb_u  20_ac_bb_l  50_ac_bb_u  \\\n",
       "Date                                                                     \n",
       "2004-08-19   39.862539   34.349462   40.417963   34.886038   57.693587   \n",
       "2004-08-20   40.386916   34.629084   40.318115   34.938885   57.479021   \n",
       "2004-08-23   40.581550   35.260450   40.427620   34.896380   57.267085   \n",
       "2004-08-24   40.794891   35.437110   40.418129   34.899871   57.083144   \n",
       "2004-08-25   41.246567   35.733433   40.776113   34.774887   56.827117   \n",
       "\n",
       "            50_ac_bb_l  \n",
       "Date                    \n",
       "2004-08-19   32.272014  \n",
       "2004-08-20   32.057379  \n",
       "2004-08-23   31.849715  \n",
       "2004-08-24   31.625656  \n",
       "2004-08-25   31.489283  "
      ]
     },
     "execution_count": 149,
     "metadata": {},
     "output_type": "execute_result"
    }
   ],
   "source": [
    "df_amzn_test.head()"
   ]
  },
  {
   "cell_type": "code",
   "execution_count": 150,
   "id": "urban-utility",
   "metadata": {},
   "outputs": [
    {
     "data": {
      "text/html": [
       "<div>\n",
       "<style scoped>\n",
       "    .dataframe tbody tr th:only-of-type {\n",
       "        vertical-align: middle;\n",
       "    }\n",
       "\n",
       "    .dataframe tbody tr th {\n",
       "        vertical-align: top;\n",
       "    }\n",
       "\n",
       "    .dataframe thead th {\n",
       "        text-align: right;\n",
       "    }\n",
       "</style>\n",
       "<table border=\"1\" class=\"dataframe\">\n",
       "  <thead>\n",
       "    <tr style=\"text-align: right;\">\n",
       "      <th></th>\n",
       "      <th>Adj Close</th>\n",
       "      <th>Close</th>\n",
       "      <th>High</th>\n",
       "      <th>Low</th>\n",
       "      <th>Open</th>\n",
       "      <th>Volume</th>\n",
       "      <th>Dividends</th>\n",
       "      <th>Stock Splits</th>\n",
       "      <th>10_ac_ma</th>\n",
       "      <th>20_ac_ma</th>\n",
       "      <th>50_ac_ma</th>\n",
       "      <th>10_ac_bb_u</th>\n",
       "      <th>10_ac_bb_l</th>\n",
       "      <th>20_ac_bb_u</th>\n",
       "      <th>20_ac_bb_l</th>\n",
       "      <th>50_ac_bb_u</th>\n",
       "      <th>50_ac_bb_l</th>\n",
       "    </tr>\n",
       "    <tr>\n",
       "      <th>Date</th>\n",
       "      <th></th>\n",
       "      <th></th>\n",
       "      <th></th>\n",
       "      <th></th>\n",
       "      <th></th>\n",
       "      <th></th>\n",
       "      <th></th>\n",
       "      <th></th>\n",
       "      <th></th>\n",
       "      <th></th>\n",
       "      <th></th>\n",
       "      <th></th>\n",
       "      <th></th>\n",
       "      <th></th>\n",
       "      <th></th>\n",
       "      <th></th>\n",
       "      <th></th>\n",
       "    </tr>\n",
       "  </thead>\n",
       "  <tbody>\n",
       "    <tr>\n",
       "      <th>2021-02-17</th>\n",
       "      <td>3308.639893</td>\n",
       "      <td>3308.639893</td>\n",
       "      <td>3320.909912</td>\n",
       "      <td>3259.500000</td>\n",
       "      <td>3263.600098</td>\n",
       "      <td>3297500.0</td>\n",
       "      <td>NaN</td>\n",
       "      <td>NaN</td>\n",
       "      <td>3302.762964</td>\n",
       "      <td>3295.481970</td>\n",
       "      <td>3225.831777</td>\n",
       "      <td>3360.352910</td>\n",
       "      <td>3245.173017</td>\n",
       "      <td>3381.043039</td>\n",
       "      <td>3209.920902</td>\n",
       "      <td>3380.877493</td>\n",
       "      <td>3070.786062</td>\n",
       "    </tr>\n",
       "    <tr>\n",
       "      <th>2021-02-18</th>\n",
       "      <td>3328.229980</td>\n",
       "      <td>3328.229980</td>\n",
       "      <td>3338.000000</td>\n",
       "      <td>3273.939941</td>\n",
       "      <td>3282.419922</td>\n",
       "      <td>3027400.0</td>\n",
       "      <td>NaN</td>\n",
       "      <td>NaN</td>\n",
       "      <td>3304.332959</td>\n",
       "      <td>3298.724475</td>\n",
       "      <td>3229.144775</td>\n",
       "      <td>3363.927436</td>\n",
       "      <td>3244.738482</td>\n",
       "      <td>3384.078129</td>\n",
       "      <td>3213.370821</td>\n",
       "      <td>3385.745319</td>\n",
       "      <td>3072.544232</td>\n",
       "    </tr>\n",
       "    <tr>\n",
       "      <th>2021-02-19</th>\n",
       "      <td>3249.899902</td>\n",
       "      <td>3249.899902</td>\n",
       "      <td>3333.500000</td>\n",
       "      <td>3245.750000</td>\n",
       "      <td>3328.229980</td>\n",
       "      <td>4305200.0</td>\n",
       "      <td>NaN</td>\n",
       "      <td>NaN</td>\n",
       "      <td>3296.222949</td>\n",
       "      <td>3295.869971</td>\n",
       "      <td>3230.982773</td>\n",
       "      <td>3361.491566</td>\n",
       "      <td>3230.954332</td>\n",
       "      <td>3383.838238</td>\n",
       "      <td>3207.901704</td>\n",
       "      <td>3386.327284</td>\n",
       "      <td>3075.638263</td>\n",
       "    </tr>\n",
       "    <tr>\n",
       "      <th>2021-02-22</th>\n",
       "      <td>3180.739990</td>\n",
       "      <td>3180.739990</td>\n",
       "      <td>3232.320068</td>\n",
       "      <td>3172.260010</td>\n",
       "      <td>3208.129883</td>\n",
       "      <td>3515700.0</td>\n",
       "      <td>NaN</td>\n",
       "      <td>NaN</td>\n",
       "      <td>3279.081958</td>\n",
       "      <td>3290.295471</td>\n",
       "      <td>3231.051772</td>\n",
       "      <td>3365.634028</td>\n",
       "      <td>3192.529888</td>\n",
       "      <td>3392.252777</td>\n",
       "      <td>3188.338165</td>\n",
       "      <td>3386.301978</td>\n",
       "      <td>3075.801567</td>\n",
       "    </tr>\n",
       "    <tr>\n",
       "      <th>2021-02-23</th>\n",
       "      <td>3194.500000</td>\n",
       "      <td>3194.500000</td>\n",
       "      <td>3204.729980</td>\n",
       "      <td>3093.600098</td>\n",
       "      <td>3127.030029</td>\n",
       "      <td>4677200.0</td>\n",
       "      <td>NaN</td>\n",
       "      <td>NaN</td>\n",
       "      <td>3266.237964</td>\n",
       "      <td>3285.320471</td>\n",
       "      <td>3232.857773</td>\n",
       "      <td>3361.541549</td>\n",
       "      <td>3170.934379</td>\n",
       "      <td>3395.865222</td>\n",
       "      <td>3174.775720</td>\n",
       "      <td>3384.134985</td>\n",
       "      <td>3081.580562</td>\n",
       "    </tr>\n",
       "  </tbody>\n",
       "</table>\n",
       "</div>"
      ],
      "text/plain": [
       "              Adj Close        Close         High          Low         Open  \\\n",
       "Date                                                                          \n",
       "2021-02-17  3308.639893  3308.639893  3320.909912  3259.500000  3263.600098   \n",
       "2021-02-18  3328.229980  3328.229980  3338.000000  3273.939941  3282.419922   \n",
       "2021-02-19  3249.899902  3249.899902  3333.500000  3245.750000  3328.229980   \n",
       "2021-02-22  3180.739990  3180.739990  3232.320068  3172.260010  3208.129883   \n",
       "2021-02-23  3194.500000  3194.500000  3204.729980  3093.600098  3127.030029   \n",
       "\n",
       "               Volume  Dividends  Stock Splits     10_ac_ma     20_ac_ma  \\\n",
       "Date                                                                       \n",
       "2021-02-17  3297500.0        NaN           NaN  3302.762964  3295.481970   \n",
       "2021-02-18  3027400.0        NaN           NaN  3304.332959  3298.724475   \n",
       "2021-02-19  4305200.0        NaN           NaN  3296.222949  3295.869971   \n",
       "2021-02-22  3515700.0        NaN           NaN  3279.081958  3290.295471   \n",
       "2021-02-23  4677200.0        NaN           NaN  3266.237964  3285.320471   \n",
       "\n",
       "               50_ac_ma   10_ac_bb_u   10_ac_bb_l   20_ac_bb_u   20_ac_bb_l  \\\n",
       "Date                                                                          \n",
       "2021-02-17  3225.831777  3360.352910  3245.173017  3381.043039  3209.920902   \n",
       "2021-02-18  3229.144775  3363.927436  3244.738482  3384.078129  3213.370821   \n",
       "2021-02-19  3230.982773  3361.491566  3230.954332  3383.838238  3207.901704   \n",
       "2021-02-22  3231.051772  3365.634028  3192.529888  3392.252777  3188.338165   \n",
       "2021-02-23  3232.857773  3361.541549  3170.934379  3395.865222  3174.775720   \n",
       "\n",
       "             50_ac_bb_u   50_ac_bb_l  \n",
       "Date                                  \n",
       "2021-02-17  3380.877493  3070.786062  \n",
       "2021-02-18  3385.745319  3072.544232  \n",
       "2021-02-19  3386.327284  3075.638263  \n",
       "2021-02-22  3386.301978  3075.801567  \n",
       "2021-02-23  3384.134985  3081.580562  "
      ]
     },
     "execution_count": 150,
     "metadata": {},
     "output_type": "execute_result"
    }
   ],
   "source": [
    "df_amzn_valid.head()"
   ]
  },
  {
   "cell_type": "markdown",
   "id": "western-syria",
   "metadata": {},
   "source": [
    "#### Alphabet Inc. Stock train test split"
   ]
  },
  {
   "cell_type": "code",
   "execution_count": 151,
   "id": "straight-biography",
   "metadata": {},
   "outputs": [],
   "source": [
    "df_googl = df_googl.loc[data_start:].copy()"
   ]
  },
  {
   "cell_type": "code",
   "execution_count": 152,
   "id": "silver-appearance",
   "metadata": {},
   "outputs": [
    {
     "name": "stdout",
     "output_type": "stream",
     "text": [
      "4172 4132 4152 20\n"
     ]
    }
   ],
   "source": [
    "df_googl_train, df_googl_test, df_googl_valid = train_test_valid_split(df_googl, prediction_length=prediction_length[1])\n",
    "print(len(df_googl), len(df_googl_train), len(df_googl_test), len(df_googl_valid))"
   ]
  },
  {
   "cell_type": "code",
   "execution_count": 153,
   "id": "turned-producer",
   "metadata": {},
   "outputs": [
    {
     "data": {
      "text/html": [
       "<div>\n",
       "<style scoped>\n",
       "    .dataframe tbody tr th:only-of-type {\n",
       "        vertical-align: middle;\n",
       "    }\n",
       "\n",
       "    .dataframe tbody tr th {\n",
       "        vertical-align: top;\n",
       "    }\n",
       "\n",
       "    .dataframe thead th {\n",
       "        text-align: right;\n",
       "    }\n",
       "</style>\n",
       "<table border=\"1\" class=\"dataframe\">\n",
       "  <thead>\n",
       "    <tr style=\"text-align: right;\">\n",
       "      <th></th>\n",
       "      <th>Adj Close</th>\n",
       "      <th>Close</th>\n",
       "      <th>High</th>\n",
       "      <th>Low</th>\n",
       "      <th>Open</th>\n",
       "      <th>Volume</th>\n",
       "      <th>Dividends</th>\n",
       "      <th>Stock Splits</th>\n",
       "      <th>10_ac_ma</th>\n",
       "      <th>20_ac_ma</th>\n",
       "      <th>50_ac_ma</th>\n",
       "      <th>10_ac_bb_u</th>\n",
       "      <th>10_ac_bb_l</th>\n",
       "      <th>20_ac_bb_u</th>\n",
       "      <th>20_ac_bb_l</th>\n",
       "      <th>50_ac_bb_u</th>\n",
       "      <th>50_ac_bb_l</th>\n",
       "    </tr>\n",
       "    <tr>\n",
       "      <th>Date</th>\n",
       "      <th></th>\n",
       "      <th></th>\n",
       "      <th></th>\n",
       "      <th></th>\n",
       "      <th></th>\n",
       "      <th></th>\n",
       "      <th></th>\n",
       "      <th></th>\n",
       "      <th></th>\n",
       "      <th></th>\n",
       "      <th></th>\n",
       "      <th></th>\n",
       "      <th></th>\n",
       "      <th></th>\n",
       "      <th></th>\n",
       "      <th></th>\n",
       "      <th></th>\n",
       "    </tr>\n",
       "  </thead>\n",
       "  <tbody>\n",
       "    <tr>\n",
       "      <th>2004-08-19</th>\n",
       "      <td>50.220219</td>\n",
       "      <td>50.220219</td>\n",
       "      <td>52.082081</td>\n",
       "      <td>48.028027</td>\n",
       "      <td>50.050049</td>\n",
       "      <td>44659096.0</td>\n",
       "      <td>0.0</td>\n",
       "      <td>1.998</td>\n",
       "      <td>52.432933</td>\n",
       "      <td>52.692943</td>\n",
       "      <td>63.586987</td>\n",
       "      <td>55.781053</td>\n",
       "      <td>49.084813</td>\n",
       "      <td>56.933168</td>\n",
       "      <td>48.452718</td>\n",
       "      <td>88.331593</td>\n",
       "      <td>38.842381</td>\n",
       "    </tr>\n",
       "    <tr>\n",
       "      <th>2004-08-20</th>\n",
       "      <td>54.209209</td>\n",
       "      <td>54.209209</td>\n",
       "      <td>54.594597</td>\n",
       "      <td>50.300301</td>\n",
       "      <td>50.555557</td>\n",
       "      <td>22834343.0</td>\n",
       "      <td>0.0</td>\n",
       "      <td>1.998</td>\n",
       "      <td>52.432933</td>\n",
       "      <td>52.692943</td>\n",
       "      <td>63.586987</td>\n",
       "      <td>55.781053</td>\n",
       "      <td>49.084813</td>\n",
       "      <td>56.933168</td>\n",
       "      <td>48.452718</td>\n",
       "      <td>88.331593</td>\n",
       "      <td>38.842381</td>\n",
       "    </tr>\n",
       "    <tr>\n",
       "      <th>2004-08-23</th>\n",
       "      <td>54.754753</td>\n",
       "      <td>54.754753</td>\n",
       "      <td>56.796799</td>\n",
       "      <td>54.579578</td>\n",
       "      <td>55.430431</td>\n",
       "      <td>18256126.0</td>\n",
       "      <td>0.0</td>\n",
       "      <td>1.998</td>\n",
       "      <td>52.432933</td>\n",
       "      <td>52.692943</td>\n",
       "      <td>63.586987</td>\n",
       "      <td>55.781053</td>\n",
       "      <td>49.084813</td>\n",
       "      <td>56.933168</td>\n",
       "      <td>48.452718</td>\n",
       "      <td>88.331593</td>\n",
       "      <td>38.842381</td>\n",
       "    </tr>\n",
       "    <tr>\n",
       "      <th>2004-08-24</th>\n",
       "      <td>52.487488</td>\n",
       "      <td>52.487488</td>\n",
       "      <td>55.855858</td>\n",
       "      <td>51.836838</td>\n",
       "      <td>55.675674</td>\n",
       "      <td>15247337.0</td>\n",
       "      <td>0.0</td>\n",
       "      <td>1.998</td>\n",
       "      <td>52.432933</td>\n",
       "      <td>52.692943</td>\n",
       "      <td>63.586987</td>\n",
       "      <td>55.781053</td>\n",
       "      <td>49.084813</td>\n",
       "      <td>56.933168</td>\n",
       "      <td>48.452718</td>\n",
       "      <td>88.331593</td>\n",
       "      <td>38.842381</td>\n",
       "    </tr>\n",
       "    <tr>\n",
       "      <th>2004-08-25</th>\n",
       "      <td>53.053055</td>\n",
       "      <td>53.053055</td>\n",
       "      <td>54.054054</td>\n",
       "      <td>51.991993</td>\n",
       "      <td>52.532532</td>\n",
       "      <td>9188602.0</td>\n",
       "      <td>0.0</td>\n",
       "      <td>1.998</td>\n",
       "      <td>52.432933</td>\n",
       "      <td>52.692943</td>\n",
       "      <td>63.586987</td>\n",
       "      <td>55.781053</td>\n",
       "      <td>49.084813</td>\n",
       "      <td>56.933168</td>\n",
       "      <td>48.452718</td>\n",
       "      <td>88.331593</td>\n",
       "      <td>38.842381</td>\n",
       "    </tr>\n",
       "  </tbody>\n",
       "</table>\n",
       "</div>"
      ],
      "text/plain": [
       "            Adj Close      Close       High        Low       Open      Volume  \\\n",
       "Date                                                                            \n",
       "2004-08-19  50.220219  50.220219  52.082081  48.028027  50.050049  44659096.0   \n",
       "2004-08-20  54.209209  54.209209  54.594597  50.300301  50.555557  22834343.0   \n",
       "2004-08-23  54.754753  54.754753  56.796799  54.579578  55.430431  18256126.0   \n",
       "2004-08-24  52.487488  52.487488  55.855858  51.836838  55.675674  15247337.0   \n",
       "2004-08-25  53.053055  53.053055  54.054054  51.991993  52.532532   9188602.0   \n",
       "\n",
       "            Dividends  Stock Splits   10_ac_ma   20_ac_ma   50_ac_ma  \\\n",
       "Date                                                                   \n",
       "2004-08-19        0.0         1.998  52.432933  52.692943  63.586987   \n",
       "2004-08-20        0.0         1.998  52.432933  52.692943  63.586987   \n",
       "2004-08-23        0.0         1.998  52.432933  52.692943  63.586987   \n",
       "2004-08-24        0.0         1.998  52.432933  52.692943  63.586987   \n",
       "2004-08-25        0.0         1.998  52.432933  52.692943  63.586987   \n",
       "\n",
       "            10_ac_bb_u  10_ac_bb_l  20_ac_bb_u  20_ac_bb_l  50_ac_bb_u  \\\n",
       "Date                                                                     \n",
       "2004-08-19   55.781053   49.084813   56.933168   48.452718   88.331593   \n",
       "2004-08-20   55.781053   49.084813   56.933168   48.452718   88.331593   \n",
       "2004-08-23   55.781053   49.084813   56.933168   48.452718   88.331593   \n",
       "2004-08-24   55.781053   49.084813   56.933168   48.452718   88.331593   \n",
       "2004-08-25   55.781053   49.084813   56.933168   48.452718   88.331593   \n",
       "\n",
       "            50_ac_bb_l  \n",
       "Date                    \n",
       "2004-08-19   38.842381  \n",
       "2004-08-20   38.842381  \n",
       "2004-08-23   38.842381  \n",
       "2004-08-24   38.842381  \n",
       "2004-08-25   38.842381  "
      ]
     },
     "execution_count": 153,
     "metadata": {},
     "output_type": "execute_result"
    }
   ],
   "source": [
    "df_googl_train.head()"
   ]
  },
  {
   "cell_type": "code",
   "execution_count": 154,
   "id": "seasonal-posting",
   "metadata": {},
   "outputs": [
    {
     "data": {
      "text/html": [
       "<div>\n",
       "<style scoped>\n",
       "    .dataframe tbody tr th:only-of-type {\n",
       "        vertical-align: middle;\n",
       "    }\n",
       "\n",
       "    .dataframe tbody tr th {\n",
       "        vertical-align: top;\n",
       "    }\n",
       "\n",
       "    .dataframe thead th {\n",
       "        text-align: right;\n",
       "    }\n",
       "</style>\n",
       "<table border=\"1\" class=\"dataframe\">\n",
       "  <thead>\n",
       "    <tr style=\"text-align: right;\">\n",
       "      <th></th>\n",
       "      <th>Adj Close</th>\n",
       "      <th>Close</th>\n",
       "      <th>High</th>\n",
       "      <th>Low</th>\n",
       "      <th>Open</th>\n",
       "      <th>Volume</th>\n",
       "      <th>Dividends</th>\n",
       "      <th>Stock Splits</th>\n",
       "      <th>10_ac_ma</th>\n",
       "      <th>20_ac_ma</th>\n",
       "      <th>50_ac_ma</th>\n",
       "      <th>10_ac_bb_u</th>\n",
       "      <th>10_ac_bb_l</th>\n",
       "      <th>20_ac_bb_u</th>\n",
       "      <th>20_ac_bb_l</th>\n",
       "      <th>50_ac_bb_u</th>\n",
       "      <th>50_ac_bb_l</th>\n",
       "    </tr>\n",
       "    <tr>\n",
       "      <th>Date</th>\n",
       "      <th></th>\n",
       "      <th></th>\n",
       "      <th></th>\n",
       "      <th></th>\n",
       "      <th></th>\n",
       "      <th></th>\n",
       "      <th></th>\n",
       "      <th></th>\n",
       "      <th></th>\n",
       "      <th></th>\n",
       "      <th></th>\n",
       "      <th></th>\n",
       "      <th></th>\n",
       "      <th></th>\n",
       "      <th></th>\n",
       "      <th></th>\n",
       "      <th></th>\n",
       "    </tr>\n",
       "  </thead>\n",
       "  <tbody>\n",
       "    <tr>\n",
       "      <th>2004-08-19</th>\n",
       "      <td>50.220219</td>\n",
       "      <td>50.220219</td>\n",
       "      <td>52.082081</td>\n",
       "      <td>48.028027</td>\n",
       "      <td>50.050049</td>\n",
       "      <td>44659096.0</td>\n",
       "      <td>0.0</td>\n",
       "      <td>1.998</td>\n",
       "      <td>52.432933</td>\n",
       "      <td>52.692943</td>\n",
       "      <td>63.586987</td>\n",
       "      <td>55.781053</td>\n",
       "      <td>49.084813</td>\n",
       "      <td>56.933168</td>\n",
       "      <td>48.452718</td>\n",
       "      <td>88.331593</td>\n",
       "      <td>38.842381</td>\n",
       "    </tr>\n",
       "    <tr>\n",
       "      <th>2004-08-20</th>\n",
       "      <td>54.209209</td>\n",
       "      <td>54.209209</td>\n",
       "      <td>54.594597</td>\n",
       "      <td>50.300301</td>\n",
       "      <td>50.555557</td>\n",
       "      <td>22834343.0</td>\n",
       "      <td>0.0</td>\n",
       "      <td>1.998</td>\n",
       "      <td>52.432933</td>\n",
       "      <td>52.692943</td>\n",
       "      <td>63.586987</td>\n",
       "      <td>55.781053</td>\n",
       "      <td>49.084813</td>\n",
       "      <td>56.933168</td>\n",
       "      <td>48.452718</td>\n",
       "      <td>88.331593</td>\n",
       "      <td>38.842381</td>\n",
       "    </tr>\n",
       "    <tr>\n",
       "      <th>2004-08-23</th>\n",
       "      <td>54.754753</td>\n",
       "      <td>54.754753</td>\n",
       "      <td>56.796799</td>\n",
       "      <td>54.579578</td>\n",
       "      <td>55.430431</td>\n",
       "      <td>18256126.0</td>\n",
       "      <td>0.0</td>\n",
       "      <td>1.998</td>\n",
       "      <td>52.432933</td>\n",
       "      <td>52.692943</td>\n",
       "      <td>63.586987</td>\n",
       "      <td>55.781053</td>\n",
       "      <td>49.084813</td>\n",
       "      <td>56.933168</td>\n",
       "      <td>48.452718</td>\n",
       "      <td>88.331593</td>\n",
       "      <td>38.842381</td>\n",
       "    </tr>\n",
       "    <tr>\n",
       "      <th>2004-08-24</th>\n",
       "      <td>52.487488</td>\n",
       "      <td>52.487488</td>\n",
       "      <td>55.855858</td>\n",
       "      <td>51.836838</td>\n",
       "      <td>55.675674</td>\n",
       "      <td>15247337.0</td>\n",
       "      <td>0.0</td>\n",
       "      <td>1.998</td>\n",
       "      <td>52.432933</td>\n",
       "      <td>52.692943</td>\n",
       "      <td>63.586987</td>\n",
       "      <td>55.781053</td>\n",
       "      <td>49.084813</td>\n",
       "      <td>56.933168</td>\n",
       "      <td>48.452718</td>\n",
       "      <td>88.331593</td>\n",
       "      <td>38.842381</td>\n",
       "    </tr>\n",
       "    <tr>\n",
       "      <th>2004-08-25</th>\n",
       "      <td>53.053055</td>\n",
       "      <td>53.053055</td>\n",
       "      <td>54.054054</td>\n",
       "      <td>51.991993</td>\n",
       "      <td>52.532532</td>\n",
       "      <td>9188602.0</td>\n",
       "      <td>0.0</td>\n",
       "      <td>1.998</td>\n",
       "      <td>52.432933</td>\n",
       "      <td>52.692943</td>\n",
       "      <td>63.586987</td>\n",
       "      <td>55.781053</td>\n",
       "      <td>49.084813</td>\n",
       "      <td>56.933168</td>\n",
       "      <td>48.452718</td>\n",
       "      <td>88.331593</td>\n",
       "      <td>38.842381</td>\n",
       "    </tr>\n",
       "  </tbody>\n",
       "</table>\n",
       "</div>"
      ],
      "text/plain": [
       "            Adj Close      Close       High        Low       Open      Volume  \\\n",
       "Date                                                                            \n",
       "2004-08-19  50.220219  50.220219  52.082081  48.028027  50.050049  44659096.0   \n",
       "2004-08-20  54.209209  54.209209  54.594597  50.300301  50.555557  22834343.0   \n",
       "2004-08-23  54.754753  54.754753  56.796799  54.579578  55.430431  18256126.0   \n",
       "2004-08-24  52.487488  52.487488  55.855858  51.836838  55.675674  15247337.0   \n",
       "2004-08-25  53.053055  53.053055  54.054054  51.991993  52.532532   9188602.0   \n",
       "\n",
       "            Dividends  Stock Splits   10_ac_ma   20_ac_ma   50_ac_ma  \\\n",
       "Date                                                                   \n",
       "2004-08-19        0.0         1.998  52.432933  52.692943  63.586987   \n",
       "2004-08-20        0.0         1.998  52.432933  52.692943  63.586987   \n",
       "2004-08-23        0.0         1.998  52.432933  52.692943  63.586987   \n",
       "2004-08-24        0.0         1.998  52.432933  52.692943  63.586987   \n",
       "2004-08-25        0.0         1.998  52.432933  52.692943  63.586987   \n",
       "\n",
       "            10_ac_bb_u  10_ac_bb_l  20_ac_bb_u  20_ac_bb_l  50_ac_bb_u  \\\n",
       "Date                                                                     \n",
       "2004-08-19   55.781053   49.084813   56.933168   48.452718   88.331593   \n",
       "2004-08-20   55.781053   49.084813   56.933168   48.452718   88.331593   \n",
       "2004-08-23   55.781053   49.084813   56.933168   48.452718   88.331593   \n",
       "2004-08-24   55.781053   49.084813   56.933168   48.452718   88.331593   \n",
       "2004-08-25   55.781053   49.084813   56.933168   48.452718   88.331593   \n",
       "\n",
       "            50_ac_bb_l  \n",
       "Date                    \n",
       "2004-08-19   38.842381  \n",
       "2004-08-20   38.842381  \n",
       "2004-08-23   38.842381  \n",
       "2004-08-24   38.842381  \n",
       "2004-08-25   38.842381  "
      ]
     },
     "execution_count": 154,
     "metadata": {},
     "output_type": "execute_result"
    }
   ],
   "source": [
    "df_googl_test.head()"
   ]
  },
  {
   "cell_type": "code",
   "execution_count": 155,
   "id": "binding-transparency",
   "metadata": {},
   "outputs": [
    {
     "data": {
      "text/html": [
       "<div>\n",
       "<style scoped>\n",
       "    .dataframe tbody tr th:only-of-type {\n",
       "        vertical-align: middle;\n",
       "    }\n",
       "\n",
       "    .dataframe tbody tr th {\n",
       "        vertical-align: top;\n",
       "    }\n",
       "\n",
       "    .dataframe thead th {\n",
       "        text-align: right;\n",
       "    }\n",
       "</style>\n",
       "<table border=\"1\" class=\"dataframe\">\n",
       "  <thead>\n",
       "    <tr style=\"text-align: right;\">\n",
       "      <th></th>\n",
       "      <th>Adj Close</th>\n",
       "      <th>Close</th>\n",
       "      <th>High</th>\n",
       "      <th>Low</th>\n",
       "      <th>Open</th>\n",
       "      <th>Volume</th>\n",
       "      <th>Dividends</th>\n",
       "      <th>Stock Splits</th>\n",
       "      <th>10_ac_ma</th>\n",
       "      <th>20_ac_ma</th>\n",
       "      <th>50_ac_ma</th>\n",
       "      <th>10_ac_bb_u</th>\n",
       "      <th>10_ac_bb_l</th>\n",
       "      <th>20_ac_bb_u</th>\n",
       "      <th>20_ac_bb_l</th>\n",
       "      <th>50_ac_bb_u</th>\n",
       "      <th>50_ac_bb_l</th>\n",
       "    </tr>\n",
       "    <tr>\n",
       "      <th>Date</th>\n",
       "      <th></th>\n",
       "      <th></th>\n",
       "      <th></th>\n",
       "      <th></th>\n",
       "      <th></th>\n",
       "      <th></th>\n",
       "      <th></th>\n",
       "      <th></th>\n",
       "      <th></th>\n",
       "      <th></th>\n",
       "      <th></th>\n",
       "      <th></th>\n",
       "      <th></th>\n",
       "      <th></th>\n",
       "      <th></th>\n",
       "      <th></th>\n",
       "      <th></th>\n",
       "    </tr>\n",
       "  </thead>\n",
       "  <tbody>\n",
       "    <tr>\n",
       "      <th>2021-02-17</th>\n",
       "      <td>2118.620117</td>\n",
       "      <td>2118.620117</td>\n",
       "      <td>2122.439941</td>\n",
       "      <td>2088.350098</td>\n",
       "      <td>2093.979980</td>\n",
       "      <td>1014700.0</td>\n",
       "      <td>NaN</td>\n",
       "      <td>NaN</td>\n",
       "      <td>2086.082983</td>\n",
       "      <td>1981.576483</td>\n",
       "      <td>1846.484194</td>\n",
       "      <td>2126.467383</td>\n",
       "      <td>2045.698584</td>\n",
       "      <td>2202.624080</td>\n",
       "      <td>1760.528886</td>\n",
       "      <td>2112.159135</td>\n",
       "      <td>1580.809254</td>\n",
       "    </tr>\n",
       "    <tr>\n",
       "      <th>2021-02-18</th>\n",
       "      <td>2105.810059</td>\n",
       "      <td>2105.810059</td>\n",
       "      <td>2121.989990</td>\n",
       "      <td>2093.330078</td>\n",
       "      <td>2105.000000</td>\n",
       "      <td>1127300.0</td>\n",
       "      <td>NaN</td>\n",
       "      <td>NaN</td>\n",
       "      <td>2090.776001</td>\n",
       "      <td>1992.863489</td>\n",
       "      <td>1852.125195</td>\n",
       "      <td>2127.885024</td>\n",
       "      <td>2053.666978</td>\n",
       "      <td>2215.137461</td>\n",
       "      <td>1770.589516</td>\n",
       "      <td>2127.626424</td>\n",
       "      <td>1576.623967</td>\n",
       "    </tr>\n",
       "    <tr>\n",
       "      <th>2021-02-19</th>\n",
       "      <td>2088.810059</td>\n",
       "      <td>2088.810059</td>\n",
       "      <td>2118.580078</td>\n",
       "      <td>2083.429932</td>\n",
       "      <td>2107.790039</td>\n",
       "      <td>1896900.0</td>\n",
       "      <td>NaN</td>\n",
       "      <td>NaN</td>\n",
       "      <td>2094.294019</td>\n",
       "      <td>2003.096490</td>\n",
       "      <td>1857.560796</td>\n",
       "      <td>2120.949812</td>\n",
       "      <td>2067.638226</td>\n",
       "      <td>2223.129983</td>\n",
       "      <td>1783.062998</td>\n",
       "      <td>2140.850093</td>\n",
       "      <td>1574.271498</td>\n",
       "    </tr>\n",
       "    <tr>\n",
       "      <th>2021-02-22</th>\n",
       "      <td>2054.260010</td>\n",
       "      <td>2054.260010</td>\n",
       "      <td>2080.330078</td>\n",
       "      <td>2048.000000</td>\n",
       "      <td>2053.600098</td>\n",
       "      <td>1473300.0</td>\n",
       "      <td>NaN</td>\n",
       "      <td>NaN</td>\n",
       "      <td>2090.837012</td>\n",
       "      <td>2011.181488</td>\n",
       "      <td>1862.419397</td>\n",
       "      <td>2127.667275</td>\n",
       "      <td>2054.006748</td>\n",
       "      <td>2225.933273</td>\n",
       "      <td>1796.429703</td>\n",
       "      <td>2150.760197</td>\n",
       "      <td>1574.078597</td>\n",
       "    </tr>\n",
       "    <tr>\n",
       "      <th>2021-02-23</th>\n",
       "      <td>2060.120117</td>\n",
       "      <td>2060.120117</td>\n",
       "      <td>2072.500000</td>\n",
       "      <td>1990.229980</td>\n",
       "      <td>2013.989990</td>\n",
       "      <td>1732900.0</td>\n",
       "      <td>NaN</td>\n",
       "      <td>NaN</td>\n",
       "      <td>2088.397021</td>\n",
       "      <td>2019.473492</td>\n",
       "      <td>1868.064600</td>\n",
       "      <td>2130.009741</td>\n",
       "      <td>2046.784302</td>\n",
       "      <td>2227.934498</td>\n",
       "      <td>1811.012487</td>\n",
       "      <td>2160.668947</td>\n",
       "      <td>1575.460252</td>\n",
       "    </tr>\n",
       "  </tbody>\n",
       "</table>\n",
       "</div>"
      ],
      "text/plain": [
       "              Adj Close        Close         High          Low         Open  \\\n",
       "Date                                                                          \n",
       "2021-02-17  2118.620117  2118.620117  2122.439941  2088.350098  2093.979980   \n",
       "2021-02-18  2105.810059  2105.810059  2121.989990  2093.330078  2105.000000   \n",
       "2021-02-19  2088.810059  2088.810059  2118.580078  2083.429932  2107.790039   \n",
       "2021-02-22  2054.260010  2054.260010  2080.330078  2048.000000  2053.600098   \n",
       "2021-02-23  2060.120117  2060.120117  2072.500000  1990.229980  2013.989990   \n",
       "\n",
       "               Volume  Dividends  Stock Splits     10_ac_ma     20_ac_ma  \\\n",
       "Date                                                                       \n",
       "2021-02-17  1014700.0        NaN           NaN  2086.082983  1981.576483   \n",
       "2021-02-18  1127300.0        NaN           NaN  2090.776001  1992.863489   \n",
       "2021-02-19  1896900.0        NaN           NaN  2094.294019  2003.096490   \n",
       "2021-02-22  1473300.0        NaN           NaN  2090.837012  2011.181488   \n",
       "2021-02-23  1732900.0        NaN           NaN  2088.397021  2019.473492   \n",
       "\n",
       "               50_ac_ma   10_ac_bb_u   10_ac_bb_l   20_ac_bb_u   20_ac_bb_l  \\\n",
       "Date                                                                          \n",
       "2021-02-17  1846.484194  2126.467383  2045.698584  2202.624080  1760.528886   \n",
       "2021-02-18  1852.125195  2127.885024  2053.666978  2215.137461  1770.589516   \n",
       "2021-02-19  1857.560796  2120.949812  2067.638226  2223.129983  1783.062998   \n",
       "2021-02-22  1862.419397  2127.667275  2054.006748  2225.933273  1796.429703   \n",
       "2021-02-23  1868.064600  2130.009741  2046.784302  2227.934498  1811.012487   \n",
       "\n",
       "             50_ac_bb_u   50_ac_bb_l  \n",
       "Date                                  \n",
       "2021-02-17  2112.159135  1580.809254  \n",
       "2021-02-18  2127.626424  1576.623967  \n",
       "2021-02-19  2140.850093  1574.271498  \n",
       "2021-02-22  2150.760197  1574.078597  \n",
       "2021-02-23  2160.668947  1575.460252  "
      ]
     },
     "execution_count": 155,
     "metadata": {},
     "output_type": "execute_result"
    }
   ],
   "source": [
    "df_googl_valid.head()"
   ]
  },
  {
   "cell_type": "markdown",
   "id": "lonely-picnic",
   "metadata": {},
   "source": [
    "### Metrics computation"
   ]
  },
  {
   "cell_type": "markdown",
   "id": "united-claim",
   "metadata": {},
   "source": [
    "Computing metrics on the benchmark model will give me a good reference to evaluate the deep learning model after training."
   ]
  },
  {
   "cell_type": "markdown",
   "id": "adverse-configuration",
   "metadata": {},
   "source": [
    "As can be presumed and seen from data prints, first `n` values of validation data are `NaN` so, it will be better just to exclude the first `n-1` values from the validation set to avoid misleading values to be catch in metrics evaluation. "
   ]
  },
  {
   "cell_type": "code",
   "execution_count": 156,
   "id": "descending-moisture",
   "metadata": {},
   "outputs": [],
   "source": [
    "from sklearn.metrics import mean_absolute_error, mean_squared_error, mean_absolute_percentage_error, r2_score"
   ]
  },
  {
   "cell_type": "markdown",
   "id": "caroline-circuit",
   "metadata": {},
   "source": [
    "#### IBM stock"
   ]
  },
  {
   "cell_type": "code",
   "execution_count": 157,
   "id": "visible-mechanism",
   "metadata": {},
   "outputs": [],
   "source": [
    "#n = 10\n",
    "#ma_str = str(n)+'_ac_ma'"
   ]
  },
  {
   "cell_type": "code",
   "execution_count": 158,
   "id": "finished-manor",
   "metadata": {},
   "outputs": [],
   "source": [
    "#ibm_ma_mse_loss = mean_squared_error(df_ibm_valid.iloc[n-1:]['Adj Close'], df_ibm_valid.iloc[n-1:][ma_str])"
   ]
  },
  {
   "cell_type": "code",
   "execution_count": 159,
   "id": "graduate-corpus",
   "metadata": {},
   "outputs": [],
   "source": [
    "#print(ibm_ma_mse_loss)"
   ]
  },
  {
   "cell_type": "code",
   "execution_count": 160,
   "id": "australian-price",
   "metadata": {},
   "outputs": [],
   "source": [
    "n = 20\n",
    "ma_str = str(n)+'_ac_ma'"
   ]
  },
  {
   "cell_type": "markdown",
   "id": "exotic-snowboard",
   "metadata": {},
   "source": [
    "Mean Absolute Error"
   ]
  },
  {
   "cell_type": "code",
   "execution_count": 161,
   "id": "arranged-adapter",
   "metadata": {},
   "outputs": [],
   "source": [
    "ibm_ma_mae_loss = mean_absolute_error(df_ibm_valid.iloc[:]['Adj Close'], df_ibm_valid[:][ma_str])"
   ]
  },
  {
   "cell_type": "code",
   "execution_count": 162,
   "id": "forty-warning",
   "metadata": {},
   "outputs": [
    {
     "name": "stdout",
     "output_type": "stream",
     "text": [
      "2.454520511627197\n"
     ]
    }
   ],
   "source": [
    "print(ibm_ma_mae_loss)"
   ]
  },
  {
   "cell_type": "markdown",
   "id": "horizontal-stadium",
   "metadata": {},
   "source": [
    "Root Mean Squared Error"
   ]
  },
  {
   "cell_type": "code",
   "execution_count": 163,
   "id": "loving-harvey",
   "metadata": {},
   "outputs": [],
   "source": [
    "ibm_ma_mse_loss = mean_squared_error(df_ibm_valid.iloc[:]['Adj Close'], df_ibm_valid[:][ma_str], squared=False)"
   ]
  },
  {
   "cell_type": "code",
   "execution_count": 164,
   "id": "maritime-butter",
   "metadata": {},
   "outputs": [
    {
     "name": "stdout",
     "output_type": "stream",
     "text": [
      "3.1869954720383604\n"
     ]
    }
   ],
   "source": [
    "print(ibm_ma_mse_loss)"
   ]
  },
  {
   "cell_type": "markdown",
   "id": "handled-still",
   "metadata": {},
   "source": [
    "Mean Absolute Percentage Error"
   ]
  },
  {
   "cell_type": "code",
   "execution_count": 165,
   "id": "adaptive-diagnosis",
   "metadata": {},
   "outputs": [],
   "source": [
    "ibm_ma_map_loss = mean_absolute_percentage_error(df_ibm_valid.iloc[:]['Adj Close'], df_ibm_valid[:][ma_str])"
   ]
  },
  {
   "cell_type": "code",
   "execution_count": 166,
   "id": "affecting-dryer",
   "metadata": {},
   "outputs": [
    {
     "name": "stdout",
     "output_type": "stream",
     "text": [
      "0.01955582537392973\n"
     ]
    }
   ],
   "source": [
    "print(ibm_ma_map_loss)"
   ]
  },
  {
   "cell_type": "markdown",
   "id": "brave-albany",
   "metadata": {},
   "source": [
    "R<sup>2</sup> score"
   ]
  },
  {
   "cell_type": "code",
   "execution_count": 167,
   "id": "through-iraqi",
   "metadata": {},
   "outputs": [],
   "source": [
    "ibm_ma_r2_score = r2_score(df_ibm_valid.iloc[:]['Adj Close'], df_ibm_valid[:][ma_str])"
   ]
  },
  {
   "cell_type": "code",
   "execution_count": 168,
   "id": "first-sixth",
   "metadata": {},
   "outputs": [
    {
     "name": "stdout",
     "output_type": "stream",
     "text": [
      "0.0017912993352110496\n"
     ]
    }
   ],
   "source": [
    "print(ibm_ma_r2_score)"
   ]
  },
  {
   "cell_type": "code",
   "execution_count": 169,
   "id": "impressed-technology",
   "metadata": {},
   "outputs": [],
   "source": [
    "#n = 50\n",
    "#ma_str = str(n)+'_ac_ma'"
   ]
  },
  {
   "cell_type": "code",
   "execution_count": 170,
   "id": "intermediate-summit",
   "metadata": {},
   "outputs": [],
   "source": [
    "#ibm_ma_mse_loss = mean_squared_error(df_ibm_valid.iloc[n-1:]['Adj Close'], df_ibm_valid[n-1:][ma_str])"
   ]
  },
  {
   "cell_type": "code",
   "execution_count": 171,
   "id": "hazardous-employer",
   "metadata": {},
   "outputs": [],
   "source": [
    "#print(ibm_ma_mse_loss)"
   ]
  },
  {
   "cell_type": "markdown",
   "id": "chemical-policy",
   "metadata": {},
   "source": [
    "#### Apple Inc. stock"
   ]
  },
  {
   "cell_type": "code",
   "execution_count": 172,
   "id": "spatial-translator",
   "metadata": {},
   "outputs": [],
   "source": [
    "#n = 10\n",
    "#ma_str = str(n)+'_ac_ma'"
   ]
  },
  {
   "cell_type": "code",
   "execution_count": 173,
   "id": "veterinary-seven",
   "metadata": {},
   "outputs": [],
   "source": [
    "#aapl_ma_mse_loss = mean_squared_error(df_aapl_valid.iloc[n-1:]['Adj Close'], df_aapl_valid.iloc[n-1:][ma_str])"
   ]
  },
  {
   "cell_type": "code",
   "execution_count": 174,
   "id": "attended-table",
   "metadata": {},
   "outputs": [],
   "source": [
    "#print(aapl_ma_mse_loss)"
   ]
  },
  {
   "cell_type": "code",
   "execution_count": 175,
   "id": "apart-juice",
   "metadata": {},
   "outputs": [],
   "source": [
    "n = 20\n",
    "ma_str = str(n)+'_ac_ma'"
   ]
  },
  {
   "cell_type": "markdown",
   "id": "stylish-calendar",
   "metadata": {},
   "source": [
    "Mean Absolute Error"
   ]
  },
  {
   "cell_type": "code",
   "execution_count": 176,
   "id": "republican-burner",
   "metadata": {},
   "outputs": [],
   "source": [
    "aapl_ma_mae_loss = mean_absolute_error(df_aapl_valid.iloc[:]['Adj Close'], df_aapl_valid[:][ma_str])"
   ]
  },
  {
   "cell_type": "code",
   "execution_count": 177,
   "id": "above-boring",
   "metadata": {},
   "outputs": [
    {
     "name": "stdout",
     "output_type": "stream",
     "text": [
      "6.557271537780761\n"
     ]
    }
   ],
   "source": [
    "print(aapl_ma_mae_loss)"
   ]
  },
  {
   "cell_type": "markdown",
   "id": "patent-attack",
   "metadata": {},
   "source": [
    "##### Root Mean Squared Error"
   ]
  },
  {
   "cell_type": "code",
   "execution_count": 178,
   "id": "invalid-canadian",
   "metadata": {},
   "outputs": [],
   "source": [
    "aapl_ma_rmse_loss = mean_squared_error(df_aapl_valid.iloc[:]['Adj Close'], df_aapl_valid[:][ma_str], squared=False)"
   ]
  },
  {
   "cell_type": "code",
   "execution_count": 179,
   "id": "bored-alcohol",
   "metadata": {},
   "outputs": [
    {
     "name": "stdout",
     "output_type": "stream",
     "text": [
      "7.194991344769908\n"
     ]
    }
   ],
   "source": [
    "print(aapl_ma_rmse_loss)"
   ]
  },
  {
   "cell_type": "markdown",
   "id": "exempt-canvas",
   "metadata": {},
   "source": [
    "##### Mean Absolute Percentage Error"
   ]
  },
  {
   "cell_type": "code",
   "execution_count": 180,
   "id": "derived-blanket",
   "metadata": {},
   "outputs": [],
   "source": [
    "aapl_ma_map_loss = mean_absolute_percentage_error(df_aapl_valid.iloc[:]['Adj Close'], df_aapl_valid[:][ma_str])"
   ]
  },
  {
   "cell_type": "code",
   "execution_count": 181,
   "id": "inappropriate-priority",
   "metadata": {},
   "outputs": [
    {
     "name": "stdout",
     "output_type": "stream",
     "text": [
      "0.053283463604940996\n"
     ]
    }
   ],
   "source": [
    "print(aapl_ma_map_loss)"
   ]
  },
  {
   "cell_type": "markdown",
   "id": "collaborative-cookbook",
   "metadata": {},
   "source": [
    "R<sup>2</sup> score"
   ]
  },
  {
   "cell_type": "code",
   "execution_count": 182,
   "id": "photographic-debut",
   "metadata": {},
   "outputs": [],
   "source": [
    "aapl_ma_r2_score = r2_score(df_aapl_valid.iloc[:]['Adj Close'], df_aapl_valid[:][ma_str])"
   ]
  },
  {
   "cell_type": "code",
   "execution_count": 183,
   "id": "assigned-funeral",
   "metadata": {},
   "outputs": [
    {
     "name": "stdout",
     "output_type": "stream",
     "text": [
      "-2.7175937372640955\n"
     ]
    }
   ],
   "source": [
    "print(aapl_ma_r2_score)"
   ]
  },
  {
   "cell_type": "code",
   "execution_count": 184,
   "id": "forced-modeling",
   "metadata": {},
   "outputs": [],
   "source": [
    "#n = 50\n",
    "#ma_str = str(n)+'_ac_ma'"
   ]
  },
  {
   "cell_type": "code",
   "execution_count": 185,
   "id": "behind-touch",
   "metadata": {},
   "outputs": [],
   "source": [
    "#aapl_ma_mse_loss = mean_squared_error(df_aapl_valid.iloc[n-1:]['Adj Close'], df_aapl_valid[n-1:][ma_str])"
   ]
  },
  {
   "cell_type": "code",
   "execution_count": 186,
   "id": "sunrise-jonathan",
   "metadata": {},
   "outputs": [],
   "source": [
    "#print(aapl_ma_mse_loss)"
   ]
  },
  {
   "cell_type": "markdown",
   "id": "corrected-german",
   "metadata": {},
   "source": [
    "#### Amazon.com stock"
   ]
  },
  {
   "cell_type": "code",
   "execution_count": 187,
   "id": "median-chapter",
   "metadata": {},
   "outputs": [],
   "source": [
    "#n = 10\n",
    "#ma_str = str(n)+'_ac_ma'"
   ]
  },
  {
   "cell_type": "code",
   "execution_count": 188,
   "id": "italic-product",
   "metadata": {},
   "outputs": [],
   "source": [
    "#amzn_ma_mse_loss = mean_squared_error(df_amzn_valid.iloc[n-1:]['Adj Close'], df_amzn_valid.iloc[n-1:][ma_str])"
   ]
  },
  {
   "cell_type": "code",
   "execution_count": 189,
   "id": "incorporated-weekend",
   "metadata": {},
   "outputs": [],
   "source": [
    "#print(amzn_ma_mse_loss)"
   ]
  },
  {
   "cell_type": "code",
   "execution_count": 190,
   "id": "tough-worcester",
   "metadata": {},
   "outputs": [],
   "source": [
    "n = 20\n",
    "ma_str = str(n)+'_ac_ma'"
   ]
  },
  {
   "cell_type": "markdown",
   "id": "confidential-density",
   "metadata": {},
   "source": [
    "Mean Absolute Error"
   ]
  },
  {
   "cell_type": "code",
   "execution_count": 191,
   "id": "purple-minimum",
   "metadata": {},
   "outputs": [],
   "source": [
    "amzn_ma_mae_loss = mean_absolute_error(df_amzn_valid.iloc[:]['Adj Close'], df_amzn_valid[:][ma_str])"
   ]
  },
  {
   "cell_type": "code",
   "execution_count": 192,
   "id": "different-requirement",
   "metadata": {},
   "outputs": [
    {
     "name": "stdout",
     "output_type": "stream",
     "text": [
      "111.63395568847656\n"
     ]
    }
   ],
   "source": [
    "print(amzn_ma_mae_loss)"
   ]
  },
  {
   "cell_type": "markdown",
   "id": "moved-still",
   "metadata": {},
   "source": [
    "Root Mean Squared Error"
   ]
  },
  {
   "cell_type": "code",
   "execution_count": 193,
   "id": "liked-proof",
   "metadata": {},
   "outputs": [],
   "source": [
    "amzn_ma_rmse_loss = mean_squared_error(df_amzn_valid.iloc[:]['Adj Close'], df_amzn_valid[:][ma_str], squared=False)"
   ]
  },
  {
   "cell_type": "code",
   "execution_count": 194,
   "id": "flying-bangkok",
   "metadata": {},
   "outputs": [
    {
     "name": "stdout",
     "output_type": "stream",
     "text": [
      "133.609757631983\n"
     ]
    }
   ],
   "source": [
    "print(amzn_ma_rmse_loss)"
   ]
  },
  {
   "cell_type": "markdown",
   "id": "danish-dubai",
   "metadata": {},
   "source": [
    "##### Mean Absolute Percentage Error"
   ]
  },
  {
   "cell_type": "code",
   "execution_count": 195,
   "id": "polyphonic-wrestling",
   "metadata": {},
   "outputs": [],
   "source": [
    "amzn_ma_map_loss = mean_absolute_percentage_error(df_amzn_valid.iloc[:]['Adj Close'], df_amzn_valid[:][ma_str])"
   ]
  },
  {
   "cell_type": "code",
   "execution_count": 196,
   "id": "prostate-brief",
   "metadata": {},
   "outputs": [
    {
     "name": "stdout",
     "output_type": "stream",
     "text": [
      "0.0364328723766882\n"
     ]
    }
   ],
   "source": [
    "print(amzn_ma_map_loss)"
   ]
  },
  {
   "cell_type": "markdown",
   "id": "civilian-union",
   "metadata": {},
   "source": [
    "R<sup>2</sup> score"
   ]
  },
  {
   "cell_type": "code",
   "execution_count": 197,
   "id": "decent-pencil",
   "metadata": {},
   "outputs": [],
   "source": [
    "amzn_ma_r2_score = r2_score(df_amzn_valid.iloc[:]['Adj Close'], df_amzn_valid[:][ma_str])"
   ]
  },
  {
   "cell_type": "code",
   "execution_count": 198,
   "id": "alien-indie",
   "metadata": {},
   "outputs": [
    {
     "name": "stdout",
     "output_type": "stream",
     "text": [
      "-0.8045289277163996\n"
     ]
    }
   ],
   "source": [
    "print(amzn_ma_r2_score)"
   ]
  },
  {
   "cell_type": "code",
   "execution_count": 199,
   "id": "painted-soviet",
   "metadata": {},
   "outputs": [],
   "source": [
    "#n = 50\n",
    "#ma_str = str(n)+'_ac_ma'"
   ]
  },
  {
   "cell_type": "code",
   "execution_count": 200,
   "id": "qualified-peace",
   "metadata": {},
   "outputs": [],
   "source": [
    "#amzn_ma_mse_loss = mean_squared_error(df_amzn_valid.iloc[n-1:]['Adj Close'], df_amzn_valid[n-1:][ma_str])"
   ]
  },
  {
   "cell_type": "code",
   "execution_count": 201,
   "id": "unlike-warrant",
   "metadata": {},
   "outputs": [],
   "source": [
    "#print(amzn_ma_mse_loss)"
   ]
  },
  {
   "cell_type": "markdown",
   "id": "remarkable-driving",
   "metadata": {},
   "source": [
    "#### Alphabet Inc. stock"
   ]
  },
  {
   "cell_type": "code",
   "execution_count": 202,
   "id": "unknown-march",
   "metadata": {},
   "outputs": [],
   "source": [
    "#n = 10\n",
    "#ma_str = str(n)+'_ac_ma'"
   ]
  },
  {
   "cell_type": "code",
   "execution_count": 203,
   "id": "narrative-duplicate",
   "metadata": {},
   "outputs": [],
   "source": [
    "#googl_ma_mse_loss = mean_squared_error(df_googl_valid.iloc[n-1:]['Adj Close'], df_googl_valid.iloc[n-1:][ma_str])"
   ]
  },
  {
   "cell_type": "code",
   "execution_count": 204,
   "id": "finnish-webmaster",
   "metadata": {},
   "outputs": [],
   "source": [
    "#print(googl_ma_mse_loss)"
   ]
  },
  {
   "cell_type": "code",
   "execution_count": 205,
   "id": "beneficial-presence",
   "metadata": {},
   "outputs": [],
   "source": [
    "n = 20\n",
    "ma_str = str(n)+'_ac_ma'"
   ]
  },
  {
   "cell_type": "markdown",
   "id": "competitive-disposition",
   "metadata": {},
   "source": [
    "Mean Absolute Error"
   ]
  },
  {
   "cell_type": "code",
   "execution_count": 206,
   "id": "regular-contrary",
   "metadata": {},
   "outputs": [],
   "source": [
    "googl_ma_mae_loss = mean_absolute_error(df_googl_valid.iloc[n-1:]['Adj Close'], df_googl_valid[n-1:][ma_str])"
   ]
  },
  {
   "cell_type": "code",
   "execution_count": 207,
   "id": "clear-royal",
   "metadata": {},
   "outputs": [
    {
     "name": "stdout",
     "output_type": "stream",
     "text": [
      "23.95187988281259\n"
     ]
    }
   ],
   "source": [
    "print(googl_ma_mae_loss)"
   ]
  },
  {
   "cell_type": "markdown",
   "id": "theoretical-strain",
   "metadata": {},
   "source": [
    "Root Mean Squared Error"
   ]
  },
  {
   "cell_type": "code",
   "execution_count": 208,
   "id": "sonic-sailing",
   "metadata": {},
   "outputs": [],
   "source": [
    "googl_ma_rmse_loss = mean_squared_error(df_googl_valid.iloc[n-1:]['Adj Close'], df_googl_valid[n-1:][ma_str], squared=False)"
   ]
  },
  {
   "cell_type": "code",
   "execution_count": 209,
   "id": "sapphire-diameter",
   "metadata": {},
   "outputs": [
    {
     "name": "stdout",
     "output_type": "stream",
     "text": [
      "23.95187988281259\n"
     ]
    }
   ],
   "source": [
    "print(googl_ma_rmse_loss)"
   ]
  },
  {
   "cell_type": "markdown",
   "id": "sweet-olympus",
   "metadata": {},
   "source": [
    "##### Mean Absolute Percentage Error"
   ]
  },
  {
   "cell_type": "code",
   "execution_count": 210,
   "id": "chief-catalog",
   "metadata": {},
   "outputs": [],
   "source": [
    "googl_ma_map_loss = mean_absolute_percentage_error(df_googl_valid.iloc[:]['Adj Close'], df_googl_valid[:][ma_str])"
   ]
  },
  {
   "cell_type": "code",
   "execution_count": 211,
   "id": "advisory-bikini",
   "metadata": {},
   "outputs": [
    {
     "name": "stdout",
     "output_type": "stream",
     "text": [
      "0.020577607487795004\n"
     ]
    }
   ],
   "source": [
    "print(googl_ma_map_loss)"
   ]
  },
  {
   "cell_type": "markdown",
   "id": "extreme-thing",
   "metadata": {},
   "source": [
    "R<sup>2</sup> score"
   ]
  },
  {
   "cell_type": "code",
   "execution_count": 212,
   "id": "front-theology",
   "metadata": {},
   "outputs": [],
   "source": [
    "googl_ma_r2_score = r2_score(df_googl_valid.iloc[:]['Adj Close'], df_googl_valid[:][ma_str])"
   ]
  },
  {
   "cell_type": "code",
   "execution_count": 213,
   "id": "seventh-treasure",
   "metadata": {},
   "outputs": [
    {
     "name": "stdout",
     "output_type": "stream",
     "text": [
      "-1.8450668340829974\n"
     ]
    }
   ],
   "source": [
    "print(googl_ma_r2_score)"
   ]
  },
  {
   "cell_type": "code",
   "execution_count": 214,
   "id": "social-screening",
   "metadata": {},
   "outputs": [],
   "source": [
    "#n = 50\n",
    "#ma_str = str(n)+'_ac_ma'"
   ]
  },
  {
   "cell_type": "code",
   "execution_count": 215,
   "id": "subsequent-intensity",
   "metadata": {},
   "outputs": [],
   "source": [
    "#googl_ma_mse_loss = mean_squared_error(df_googl_valid.iloc[n-1:]['Adj Close'], df_googl_valid[n-1:][ma_str])"
   ]
  },
  {
   "cell_type": "code",
   "execution_count": 216,
   "id": "incredible-excess",
   "metadata": {},
   "outputs": [],
   "source": [
    "#print(googl_ma_mse_loss)"
   ]
  },
  {
   "cell_type": "markdown",
   "id": "growing-munich",
   "metadata": {},
   "source": [
    "Volatility"
   ]
  },
  {
   "cell_type": "code",
   "execution_count": 217,
   "id": "played-tiger",
   "metadata": {},
   "outputs": [
    {
     "name": "stdout",
     "output_type": "stream",
     "text": [
      "0.5355351004479918\n"
     ]
    }
   ],
   "source": [
    "print(volatility(df_ibm_valid['Adj Close'], n))"
   ]
  },
  {
   "cell_type": "code",
   "execution_count": 218,
   "id": "fourth-adrian",
   "metadata": {},
   "outputs": [
    {
     "name": "stdout",
     "output_type": "stream",
     "text": [
      "0.7329005082594083\n"
     ]
    }
   ],
   "source": [
    "print(volatility(df_aapl_valid['Adj Close'], n))"
   ]
  },
  {
   "cell_type": "code",
   "execution_count": 219,
   "id": "lesbian-protein",
   "metadata": {},
   "outputs": [
    {
     "name": "stdout",
     "output_type": "stream",
     "text": [
      "520.6656214083532\n"
     ]
    }
   ],
   "source": [
    "print(volatility(df_amzn_valid['Adj Close'], n))"
   ]
  },
  {
   "cell_type": "code",
   "execution_count": 220,
   "id": "duplicate-parameter",
   "metadata": {},
   "outputs": [
    {
     "name": "stdout",
     "output_type": "stream",
     "text": [
      "55.100503589887225\n"
     ]
    }
   ],
   "source": [
    "print(volatility(df_googl_valid['Adj Close'], n))"
   ]
  },
  {
   "cell_type": "markdown",
   "id": "developmental-mailman",
   "metadata": {},
   "source": [
    "As expected, loss augments as we observe moving average on larger windows.\n",
    "Also, we can observe that Amazon.com and Alphabet Inc. have greater losses, that also corresponds to higher volatility."
   ]
  },
  {
   "cell_type": "code",
   "execution_count": null,
   "id": "immediate-authorization",
   "metadata": {},
   "outputs": [],
   "source": []
  }
 ],
 "metadata": {
  "kernelspec": {
   "display_name": "conda_pytorch_p36",
   "language": "python",
   "name": "conda_pytorch_p36"
  },
  "language_info": {
   "codemirror_mode": {
    "name": "ipython",
    "version": 3
   },
   "file_extension": ".py",
   "mimetype": "text/x-python",
   "name": "python",
   "nbconvert_exporter": "python",
   "pygments_lexer": "ipython3",
   "version": "3.6.13"
  }
 },
 "nbformat": 4,
 "nbformat_minor": 5
}
