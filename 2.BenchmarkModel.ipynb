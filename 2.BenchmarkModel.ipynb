{
 "cells": [
  {
   "cell_type": "markdown",
   "id": "marine-automation",
   "metadata": {},
   "source": [
    "## Benchmark model"
   ]
  },
  {
   "cell_type": "markdown",
   "id": "motivated-requirement",
   "metadata": {},
   "source": [
    "### Train, test and validation split"
   ]
  },
  {
   "cell_type": "markdown",
   "id": "streaming-version",
   "metadata": {},
   "source": [
    "IBM Stock train, test and validation split"
   ]
  },
  {
   "cell_type": "code",
   "execution_count": 59,
   "id": "conscious-faculty",
   "metadata": {},
   "outputs": [
    {
     "name": "stdout",
     "output_type": "stream",
     "text": [
      "14891 13401 1191 299\n"
     ]
    }
   ],
   "source": [
    "train_size = int(len(df_ibm) * 0.90)\n",
    "test_size = int(len(df_ibm) * 0.08)\n",
    "valid_size = len(df_ibm) - (train_size + test_size)\n",
    "df_ibm_train, df_ibm_test, df_ibm_valid = df_ibm[0:train_size].copy(),\\\n",
    "                                            df_ibm[train_size:train_size+test_size].copy(),\\\n",
    "                                            df_ibm[train_size+test_size:len(df_ibm)].copy()\n",
    "print(len(df_ibm), len(df_ibm_train), len(df_ibm_test), len(df_ibm_valid))"
   ]
  },
  {
   "cell_type": "code",
   "execution_count": 60,
   "id": "voluntary-corrections",
   "metadata": {},
   "outputs": [],
   "source": [
    "assert(len(df_ibm) == (len(df_ibm_train) + len(df_ibm_test) + len(df_ibm_valid)))"
   ]
  },
  {
   "cell_type": "markdown",
   "id": "suffering-adoption",
   "metadata": {},
   "source": [
    "Amazon Stock train test split"
   ]
  },
  {
   "cell_type": "code",
   "execution_count": 61,
   "id": "alternate-amateur",
   "metadata": {},
   "outputs": [
    {
     "name": "stdout",
     "output_type": "stream",
     "text": [
      "5986 5387 478 121\n"
     ]
    }
   ],
   "source": [
    "train_size = int(len(df_amzn) * 0.90)\n",
    "test_size = int(len(df_amzn) * 0.08)\n",
    "valid_size = len(df_amzn) - (train_size + test_size)\n",
    "df_amzn_train, df_amzn_test, df_amzn_valid = df_amzn[0:train_size].copy(),\\\n",
    "                                            df_amzn[train_size:train_size+test_size].copy(),\\\n",
    "                                            df_amzn[train_size+test_size:len(df_amzn)].copy()\n",
    "print(len(df_amzn), len(df_amzn_train), len(df_amzn_test), len(df_amzn_valid))"
   ]
  },
  {
   "cell_type": "code",
   "execution_count": 62,
   "id": "capital-trash",
   "metadata": {},
   "outputs": [],
   "source": [
    "assert(len(df_amzn) == (len(df_amzn_train) + len(df_amzn_test) + len(df_amzn_valid)))"
   ]
  },
  {
   "cell_type": "markdown",
   "id": "tough-buddy",
   "metadata": {},
   "source": [
    "Apple Inc. Stock train test split"
   ]
  },
  {
   "cell_type": "code",
   "execution_count": 63,
   "id": "native-market",
   "metadata": {},
   "outputs": [
    {
     "name": "stdout",
     "output_type": "stream",
     "text": [
      "10137 9123 810 204\n"
     ]
    }
   ],
   "source": [
    "train_size = int(len(df_aapl) * 0.90)\n",
    "test_size = int(len(df_aapl) * 0.08)\n",
    "valid_size = len(df_aapl) - (train_size + test_size)\n",
    "df_aapl_train, df_aapl_test, df_aapl_valid = df_aapl[0:train_size].copy(),\\\n",
    "                                            df_aapl[train_size:train_size+test_size].copy(),\\\n",
    "                                            df_aapl[train_size+test_size:len(df_aapl)].copy()\n",
    "print(len(df_aapl), len(df_aapl_train), len(df_aapl_test), len(df_aapl_valid))"
   ]
  },
  {
   "cell_type": "markdown",
   "id": "religious-tracy",
   "metadata": {},
   "source": [
    "Alphabet Inc. Stock train test split"
   ]
  },
  {
   "cell_type": "code",
   "execution_count": 64,
   "id": "checked-junior",
   "metadata": {},
   "outputs": [
    {
     "name": "stdout",
     "output_type": "stream",
     "text": [
      "4160 3744 332 84\n"
     ]
    }
   ],
   "source": [
    "train_size = int(len(df_googl) * 0.90)\n",
    "test_size = int(len(df_googl) * 0.08)\n",
    "valid_size = len(df_googl) - (train_size + test_size)\n",
    "df_googl_train, df_googl_test, df_googl_valid = df_googl[0:train_size].copy(),\\\n",
    "                                            df_googl[train_size:train_size+test_size].copy(),\\\n",
    "                                            df_googl[train_size+test_size:len(df_googl)].copy()\n",
    "print(len(df_googl), len(df_googl_train), len(df_googl_test), len(df_googl_valid))"
   ]
  },
  {
   "cell_type": "markdown",
   "id": "advance-offer",
   "metadata": {},
   "source": [
    "#### Simple Moving Average (SMA)"
   ]
  },
  {
   "cell_type": "markdown",
   "id": "norwegian-handle",
   "metadata": {},
   "source": [
    "Moving average is a techical indicator that smooths real data oscillations over time.\n",
    "It can aid in determining if an asset price will continue or if it will reverse a bull or bear trend.\n",
    "\n",
    "In this notebook, I'll use Simple Moving Average indicator as a benchmark model.\n",
    "In order to do this, I will compute it separately on training data and test data, to avoid leakage.\n",
    "\n",
    "SMA will be used in the project for three purposes:\n",
    "* Detect if some seasonal pattern is present in data\n",
    "* A benchmark for deep learning model performance\n",
    "* An additional feature to be used to train deep learning model"
   ]
  },
  {
   "cell_type": "markdown",
   "id": "alpha-breakdown",
   "metadata": {},
   "source": [
    "Before moving to feature engineering, reference date index to be used to build the model will be defined:"
   ]
  },
  {
   "cell_type": "code",
   "execution_count": 65,
   "id": "boxed-worthy",
   "metadata": {},
   "outputs": [],
   "source": [
    "analysis_start_date = '2010-01-1'"
   ]
  },
  {
   "cell_type": "markdown",
   "id": "postal-separate",
   "metadata": {},
   "source": [
    "Anyway, new feature will be computed on the whole dataframe. Plotting will be limited to `analysis_start_date`"
   ]
  },
  {
   "cell_type": "code",
   "execution_count": 66,
   "id": "greenhouse-webmaster",
   "metadata": {},
   "outputs": [],
   "source": [
    "from ta_utils.technical_indicators import moving_average, volatility"
   ]
  },
  {
   "cell_type": "markdown",
   "id": "commercial-relevance",
   "metadata": {},
   "source": [
    "#### IBM stock moving averages"
   ]
  },
  {
   "cell_type": "code",
   "execution_count": 67,
   "id": "decent-shade",
   "metadata": {},
   "outputs": [],
   "source": [
    "# moving average sizes in days\n",
    "ma_d_sz = [10,20,50]\n",
    "\n",
    "# adding moving average columns to dataframe\n",
    "for mds in ma_d_sz:\n",
    "    column_name = \"%s_ac_ma\" %(str(mds))\n",
    "    df_ibm[column_name] = moving_average(df_ibm['Adj Close'], window_size=mds)\n",
    "    df_ibm_train[column_name] = moving_average(df_ibm_train['Adj Close'], window_size=mds)\n",
    "    df_ibm_test[column_name] = moving_average(df_ibm_test['Adj Close'], window_size=mds)\n",
    "    df_ibm_valid[column_name] = moving_average(df_ibm_valid['Adj Close'], window_size=mds)"
   ]
  },
  {
   "cell_type": "code",
   "execution_count": 68,
   "id": "cubic-demographic",
   "metadata": {},
   "outputs": [
    {
     "data": {
      "text/html": [
       "<div>\n",
       "<style scoped>\n",
       "    .dataframe tbody tr th:only-of-type {\n",
       "        vertical-align: middle;\n",
       "    }\n",
       "\n",
       "    .dataframe tbody tr th {\n",
       "        vertical-align: top;\n",
       "    }\n",
       "\n",
       "    .dataframe thead th {\n",
       "        text-align: right;\n",
       "    }\n",
       "</style>\n",
       "<table border=\"1\" class=\"dataframe\">\n",
       "  <thead>\n",
       "    <tr style=\"text-align: right;\">\n",
       "      <th></th>\n",
       "      <th>Open</th>\n",
       "      <th>High</th>\n",
       "      <th>Low</th>\n",
       "      <th>Close</th>\n",
       "      <th>Adj Close</th>\n",
       "      <th>Volume</th>\n",
       "      <th>10_ac_ma</th>\n",
       "      <th>20_ac_ma</th>\n",
       "      <th>50_ac_ma</th>\n",
       "    </tr>\n",
       "    <tr>\n",
       "      <th>Date</th>\n",
       "      <th></th>\n",
       "      <th></th>\n",
       "      <th></th>\n",
       "      <th></th>\n",
       "      <th></th>\n",
       "      <th></th>\n",
       "      <th></th>\n",
       "      <th></th>\n",
       "      <th></th>\n",
       "    </tr>\n",
       "  </thead>\n",
       "  <tbody>\n",
       "    <tr>\n",
       "      <th>1962-01-02</th>\n",
       "      <td>7.713333</td>\n",
       "      <td>7.713333</td>\n",
       "      <td>7.626667</td>\n",
       "      <td>7.626667</td>\n",
       "      <td>1.858243</td>\n",
       "      <td>390000</td>\n",
       "      <td>NaN</td>\n",
       "      <td>NaN</td>\n",
       "      <td>NaN</td>\n",
       "    </tr>\n",
       "    <tr>\n",
       "      <th>1962-01-03</th>\n",
       "      <td>7.626667</td>\n",
       "      <td>7.693333</td>\n",
       "      <td>7.626667</td>\n",
       "      <td>7.693333</td>\n",
       "      <td>1.874485</td>\n",
       "      <td>292500</td>\n",
       "      <td>NaN</td>\n",
       "      <td>NaN</td>\n",
       "      <td>NaN</td>\n",
       "    </tr>\n",
       "    <tr>\n",
       "      <th>1962-01-04</th>\n",
       "      <td>7.693333</td>\n",
       "      <td>7.693333</td>\n",
       "      <td>7.613333</td>\n",
       "      <td>7.616667</td>\n",
       "      <td>1.855805</td>\n",
       "      <td>262500</td>\n",
       "      <td>NaN</td>\n",
       "      <td>NaN</td>\n",
       "      <td>NaN</td>\n",
       "    </tr>\n",
       "    <tr>\n",
       "      <th>1962-01-05</th>\n",
       "      <td>7.606667</td>\n",
       "      <td>7.606667</td>\n",
       "      <td>7.453333</td>\n",
       "      <td>7.466667</td>\n",
       "      <td>1.819257</td>\n",
       "      <td>367500</td>\n",
       "      <td>NaN</td>\n",
       "      <td>NaN</td>\n",
       "      <td>NaN</td>\n",
       "    </tr>\n",
       "    <tr>\n",
       "      <th>1962-01-08</th>\n",
       "      <td>7.460000</td>\n",
       "      <td>7.460000</td>\n",
       "      <td>7.266667</td>\n",
       "      <td>7.326667</td>\n",
       "      <td>1.785148</td>\n",
       "      <td>547500</td>\n",
       "      <td>NaN</td>\n",
       "      <td>NaN</td>\n",
       "      <td>NaN</td>\n",
       "    </tr>\n",
       "  </tbody>\n",
       "</table>\n",
       "</div>"
      ],
      "text/plain": [
       "                Open      High       Low     Close  Adj Close  Volume  \\\n",
       "Date                                                                    \n",
       "1962-01-02  7.713333  7.713333  7.626667  7.626667   1.858243  390000   \n",
       "1962-01-03  7.626667  7.693333  7.626667  7.693333   1.874485  292500   \n",
       "1962-01-04  7.693333  7.693333  7.613333  7.616667   1.855805  262500   \n",
       "1962-01-05  7.606667  7.606667  7.453333  7.466667   1.819257  367500   \n",
       "1962-01-08  7.460000  7.460000  7.266667  7.326667   1.785148  547500   \n",
       "\n",
       "            10_ac_ma  20_ac_ma  50_ac_ma  \n",
       "Date                                      \n",
       "1962-01-02       NaN       NaN       NaN  \n",
       "1962-01-03       NaN       NaN       NaN  \n",
       "1962-01-04       NaN       NaN       NaN  \n",
       "1962-01-05       NaN       NaN       NaN  \n",
       "1962-01-08       NaN       NaN       NaN  "
      ]
     },
     "execution_count": 68,
     "metadata": {},
     "output_type": "execute_result"
    }
   ],
   "source": [
    "df_ibm.head()"
   ]
  },
  {
   "cell_type": "markdown",
   "id": "identical-component",
   "metadata": {},
   "source": [
    "Moving average feature is empty for the first *n* days, where *n* is the window size, so I'll use some backfill to fill NaN values"
   ]
  },
  {
   "cell_type": "code",
   "execution_count": 69,
   "id": "improved-framework",
   "metadata": {},
   "outputs": [],
   "source": [
    "df_ibm.fillna(method='backfill', inplace=True)"
   ]
  },
  {
   "cell_type": "code",
   "execution_count": 70,
   "id": "mediterranean-software",
   "metadata": {},
   "outputs": [
    {
     "data": {
      "text/html": [
       "<div>\n",
       "<style scoped>\n",
       "    .dataframe tbody tr th:only-of-type {\n",
       "        vertical-align: middle;\n",
       "    }\n",
       "\n",
       "    .dataframe tbody tr th {\n",
       "        vertical-align: top;\n",
       "    }\n",
       "\n",
       "    .dataframe thead th {\n",
       "        text-align: right;\n",
       "    }\n",
       "</style>\n",
       "<table border=\"1\" class=\"dataframe\">\n",
       "  <thead>\n",
       "    <tr style=\"text-align: right;\">\n",
       "      <th></th>\n",
       "      <th>Open</th>\n",
       "      <th>High</th>\n",
       "      <th>Low</th>\n",
       "      <th>Close</th>\n",
       "      <th>Adj Close</th>\n",
       "      <th>Volume</th>\n",
       "      <th>10_ac_ma</th>\n",
       "      <th>20_ac_ma</th>\n",
       "      <th>50_ac_ma</th>\n",
       "    </tr>\n",
       "    <tr>\n",
       "      <th>Date</th>\n",
       "      <th></th>\n",
       "      <th></th>\n",
       "      <th></th>\n",
       "      <th></th>\n",
       "      <th></th>\n",
       "      <th></th>\n",
       "      <th></th>\n",
       "      <th></th>\n",
       "      <th></th>\n",
       "    </tr>\n",
       "  </thead>\n",
       "  <tbody>\n",
       "    <tr>\n",
       "      <th>1962-01-02</th>\n",
       "      <td>7.713333</td>\n",
       "      <td>7.713333</td>\n",
       "      <td>7.626667</td>\n",
       "      <td>7.626667</td>\n",
       "      <td>1.858243</td>\n",
       "      <td>390000</td>\n",
       "      <td>1.831034</td>\n",
       "      <td>1.806507</td>\n",
       "      <td>1.787152</td>\n",
       "    </tr>\n",
       "    <tr>\n",
       "      <th>1962-01-03</th>\n",
       "      <td>7.626667</td>\n",
       "      <td>7.693333</td>\n",
       "      <td>7.626667</td>\n",
       "      <td>7.693333</td>\n",
       "      <td>1.874485</td>\n",
       "      <td>292500</td>\n",
       "      <td>1.831034</td>\n",
       "      <td>1.806507</td>\n",
       "      <td>1.787152</td>\n",
       "    </tr>\n",
       "    <tr>\n",
       "      <th>1962-01-04</th>\n",
       "      <td>7.693333</td>\n",
       "      <td>7.693333</td>\n",
       "      <td>7.613333</td>\n",
       "      <td>7.616667</td>\n",
       "      <td>1.855805</td>\n",
       "      <td>262500</td>\n",
       "      <td>1.831034</td>\n",
       "      <td>1.806507</td>\n",
       "      <td>1.787152</td>\n",
       "    </tr>\n",
       "    <tr>\n",
       "      <th>1962-01-05</th>\n",
       "      <td>7.606667</td>\n",
       "      <td>7.606667</td>\n",
       "      <td>7.453333</td>\n",
       "      <td>7.466667</td>\n",
       "      <td>1.819257</td>\n",
       "      <td>367500</td>\n",
       "      <td>1.831034</td>\n",
       "      <td>1.806507</td>\n",
       "      <td>1.787152</td>\n",
       "    </tr>\n",
       "    <tr>\n",
       "      <th>1962-01-08</th>\n",
       "      <td>7.460000</td>\n",
       "      <td>7.460000</td>\n",
       "      <td>7.266667</td>\n",
       "      <td>7.326667</td>\n",
       "      <td>1.785148</td>\n",
       "      <td>547500</td>\n",
       "      <td>1.831034</td>\n",
       "      <td>1.806507</td>\n",
       "      <td>1.787152</td>\n",
       "    </tr>\n",
       "  </tbody>\n",
       "</table>\n",
       "</div>"
      ],
      "text/plain": [
       "                Open      High       Low     Close  Adj Close  Volume  \\\n",
       "Date                                                                    \n",
       "1962-01-02  7.713333  7.713333  7.626667  7.626667   1.858243  390000   \n",
       "1962-01-03  7.626667  7.693333  7.626667  7.693333   1.874485  292500   \n",
       "1962-01-04  7.693333  7.693333  7.613333  7.616667   1.855805  262500   \n",
       "1962-01-05  7.606667  7.606667  7.453333  7.466667   1.819257  367500   \n",
       "1962-01-08  7.460000  7.460000  7.266667  7.326667   1.785148  547500   \n",
       "\n",
       "            10_ac_ma  20_ac_ma  50_ac_ma  \n",
       "Date                                      \n",
       "1962-01-02  1.831034  1.806507  1.787152  \n",
       "1962-01-03  1.831034  1.806507  1.787152  \n",
       "1962-01-04  1.831034  1.806507  1.787152  \n",
       "1962-01-05  1.831034  1.806507  1.787152  \n",
       "1962-01-08  1.831034  1.806507  1.787152  "
      ]
     },
     "execution_count": 70,
     "metadata": {},
     "output_type": "execute_result"
    }
   ],
   "source": [
    "df_ibm.head()"
   ]
  },
  {
   "cell_type": "code",
   "execution_count": 71,
   "id": "clinical-yorkshire",
   "metadata": {},
   "outputs": [
    {
     "data": {
      "text/html": [
       "<div>\n",
       "<style scoped>\n",
       "    .dataframe tbody tr th:only-of-type {\n",
       "        vertical-align: middle;\n",
       "    }\n",
       "\n",
       "    .dataframe tbody tr th {\n",
       "        vertical-align: top;\n",
       "    }\n",
       "\n",
       "    .dataframe thead th {\n",
       "        text-align: right;\n",
       "    }\n",
       "</style>\n",
       "<table border=\"1\" class=\"dataframe\">\n",
       "  <thead>\n",
       "    <tr style=\"text-align: right;\">\n",
       "      <th></th>\n",
       "      <th>Open</th>\n",
       "      <th>High</th>\n",
       "      <th>Low</th>\n",
       "      <th>Close</th>\n",
       "      <th>Adj Close</th>\n",
       "      <th>Volume</th>\n",
       "      <th>10_ac_ma</th>\n",
       "      <th>20_ac_ma</th>\n",
       "      <th>50_ac_ma</th>\n",
       "    </tr>\n",
       "    <tr>\n",
       "      <th>Date</th>\n",
       "      <th></th>\n",
       "      <th></th>\n",
       "      <th></th>\n",
       "      <th></th>\n",
       "      <th></th>\n",
       "      <th></th>\n",
       "      <th></th>\n",
       "      <th></th>\n",
       "      <th></th>\n",
       "    </tr>\n",
       "  </thead>\n",
       "  <tbody>\n",
       "    <tr>\n",
       "      <th>1962-01-02</th>\n",
       "      <td>7.713333</td>\n",
       "      <td>7.713333</td>\n",
       "      <td>7.626667</td>\n",
       "      <td>7.626667</td>\n",
       "      <td>1.858243</td>\n",
       "      <td>390000</td>\n",
       "      <td>NaN</td>\n",
       "      <td>NaN</td>\n",
       "      <td>NaN</td>\n",
       "    </tr>\n",
       "    <tr>\n",
       "      <th>1962-01-03</th>\n",
       "      <td>7.626667</td>\n",
       "      <td>7.693333</td>\n",
       "      <td>7.626667</td>\n",
       "      <td>7.693333</td>\n",
       "      <td>1.874485</td>\n",
       "      <td>292500</td>\n",
       "      <td>NaN</td>\n",
       "      <td>NaN</td>\n",
       "      <td>NaN</td>\n",
       "    </tr>\n",
       "    <tr>\n",
       "      <th>1962-01-04</th>\n",
       "      <td>7.693333</td>\n",
       "      <td>7.693333</td>\n",
       "      <td>7.613333</td>\n",
       "      <td>7.616667</td>\n",
       "      <td>1.855805</td>\n",
       "      <td>262500</td>\n",
       "      <td>NaN</td>\n",
       "      <td>NaN</td>\n",
       "      <td>NaN</td>\n",
       "    </tr>\n",
       "    <tr>\n",
       "      <th>1962-01-05</th>\n",
       "      <td>7.606667</td>\n",
       "      <td>7.606667</td>\n",
       "      <td>7.453333</td>\n",
       "      <td>7.466667</td>\n",
       "      <td>1.819257</td>\n",
       "      <td>367500</td>\n",
       "      <td>NaN</td>\n",
       "      <td>NaN</td>\n",
       "      <td>NaN</td>\n",
       "    </tr>\n",
       "    <tr>\n",
       "      <th>1962-01-08</th>\n",
       "      <td>7.460000</td>\n",
       "      <td>7.460000</td>\n",
       "      <td>7.266667</td>\n",
       "      <td>7.326667</td>\n",
       "      <td>1.785148</td>\n",
       "      <td>547500</td>\n",
       "      <td>NaN</td>\n",
       "      <td>NaN</td>\n",
       "      <td>NaN</td>\n",
       "    </tr>\n",
       "  </tbody>\n",
       "</table>\n",
       "</div>"
      ],
      "text/plain": [
       "                Open      High       Low     Close  Adj Close  Volume  \\\n",
       "Date                                                                    \n",
       "1962-01-02  7.713333  7.713333  7.626667  7.626667   1.858243  390000   \n",
       "1962-01-03  7.626667  7.693333  7.626667  7.693333   1.874485  292500   \n",
       "1962-01-04  7.693333  7.693333  7.613333  7.616667   1.855805  262500   \n",
       "1962-01-05  7.606667  7.606667  7.453333  7.466667   1.819257  367500   \n",
       "1962-01-08  7.460000  7.460000  7.266667  7.326667   1.785148  547500   \n",
       "\n",
       "            10_ac_ma  20_ac_ma  50_ac_ma  \n",
       "Date                                      \n",
       "1962-01-02       NaN       NaN       NaN  \n",
       "1962-01-03       NaN       NaN       NaN  \n",
       "1962-01-04       NaN       NaN       NaN  \n",
       "1962-01-05       NaN       NaN       NaN  \n",
       "1962-01-08       NaN       NaN       NaN  "
      ]
     },
     "execution_count": 71,
     "metadata": {},
     "output_type": "execute_result"
    }
   ],
   "source": [
    "df_ibm_train.head()"
   ]
  },
  {
   "cell_type": "code",
   "execution_count": 72,
   "id": "statutory-funeral",
   "metadata": {},
   "outputs": [
    {
     "data": {
      "text/html": [
       "<div>\n",
       "<style scoped>\n",
       "    .dataframe tbody tr th:only-of-type {\n",
       "        vertical-align: middle;\n",
       "    }\n",
       "\n",
       "    .dataframe tbody tr th {\n",
       "        vertical-align: top;\n",
       "    }\n",
       "\n",
       "    .dataframe thead th {\n",
       "        text-align: right;\n",
       "    }\n",
       "</style>\n",
       "<table border=\"1\" class=\"dataframe\">\n",
       "  <thead>\n",
       "    <tr style=\"text-align: right;\">\n",
       "      <th></th>\n",
       "      <th>Open</th>\n",
       "      <th>High</th>\n",
       "      <th>Low</th>\n",
       "      <th>Close</th>\n",
       "      <th>Adj Close</th>\n",
       "      <th>Volume</th>\n",
       "      <th>10_ac_ma</th>\n",
       "      <th>20_ac_ma</th>\n",
       "      <th>50_ac_ma</th>\n",
       "    </tr>\n",
       "    <tr>\n",
       "      <th>Date</th>\n",
       "      <th></th>\n",
       "      <th></th>\n",
       "      <th></th>\n",
       "      <th></th>\n",
       "      <th></th>\n",
       "      <th></th>\n",
       "      <th></th>\n",
       "      <th></th>\n",
       "      <th></th>\n",
       "    </tr>\n",
       "  </thead>\n",
       "  <tbody>\n",
       "    <tr>\n",
       "      <th>2015-03-30</th>\n",
       "      <td>161.309998</td>\n",
       "      <td>163.600006</td>\n",
       "      <td>161.250000</td>\n",
       "      <td>162.669998</td>\n",
       "      <td>125.920868</td>\n",
       "      <td>4138000</td>\n",
       "      <td>NaN</td>\n",
       "      <td>NaN</td>\n",
       "      <td>NaN</td>\n",
       "    </tr>\n",
       "    <tr>\n",
       "      <th>2015-03-31</th>\n",
       "      <td>161.080002</td>\n",
       "      <td>162.330002</td>\n",
       "      <td>160.399994</td>\n",
       "      <td>160.500000</td>\n",
       "      <td>124.241081</td>\n",
       "      <td>4255400</td>\n",
       "      <td>NaN</td>\n",
       "      <td>NaN</td>\n",
       "      <td>NaN</td>\n",
       "    </tr>\n",
       "    <tr>\n",
       "      <th>2015-04-01</th>\n",
       "      <td>160.229996</td>\n",
       "      <td>160.619995</td>\n",
       "      <td>158.389999</td>\n",
       "      <td>159.179993</td>\n",
       "      <td>123.219307</td>\n",
       "      <td>3700800</td>\n",
       "      <td>NaN</td>\n",
       "      <td>NaN</td>\n",
       "      <td>NaN</td>\n",
       "    </tr>\n",
       "    <tr>\n",
       "      <th>2015-04-02</th>\n",
       "      <td>159.520004</td>\n",
       "      <td>162.539993</td>\n",
       "      <td>158.889999</td>\n",
       "      <td>160.449997</td>\n",
       "      <td>124.202393</td>\n",
       "      <td>4671600</td>\n",
       "      <td>NaN</td>\n",
       "      <td>NaN</td>\n",
       "      <td>NaN</td>\n",
       "    </tr>\n",
       "    <tr>\n",
       "      <th>2015-04-06</th>\n",
       "      <td>159.690002</td>\n",
       "      <td>162.800003</td>\n",
       "      <td>158.699997</td>\n",
       "      <td>162.039993</td>\n",
       "      <td>125.433212</td>\n",
       "      <td>3465700</td>\n",
       "      <td>NaN</td>\n",
       "      <td>NaN</td>\n",
       "      <td>NaN</td>\n",
       "    </tr>\n",
       "  </tbody>\n",
       "</table>\n",
       "</div>"
      ],
      "text/plain": [
       "                  Open        High         Low       Close   Adj Close  \\\n",
       "Date                                                                     \n",
       "2015-03-30  161.309998  163.600006  161.250000  162.669998  125.920868   \n",
       "2015-03-31  161.080002  162.330002  160.399994  160.500000  124.241081   \n",
       "2015-04-01  160.229996  160.619995  158.389999  159.179993  123.219307   \n",
       "2015-04-02  159.520004  162.539993  158.889999  160.449997  124.202393   \n",
       "2015-04-06  159.690002  162.800003  158.699997  162.039993  125.433212   \n",
       "\n",
       "             Volume  10_ac_ma  20_ac_ma  50_ac_ma  \n",
       "Date                                               \n",
       "2015-03-30  4138000       NaN       NaN       NaN  \n",
       "2015-03-31  4255400       NaN       NaN       NaN  \n",
       "2015-04-01  3700800       NaN       NaN       NaN  \n",
       "2015-04-02  4671600       NaN       NaN       NaN  \n",
       "2015-04-06  3465700       NaN       NaN       NaN  "
      ]
     },
     "execution_count": 72,
     "metadata": {},
     "output_type": "execute_result"
    }
   ],
   "source": [
    "df_ibm_test.head()"
   ]
  },
  {
   "cell_type": "code",
   "execution_count": 73,
   "id": "pacific-italic",
   "metadata": {},
   "outputs": [
    {
     "data": {
      "text/html": [
       "<div>\n",
       "<style scoped>\n",
       "    .dataframe tbody tr th:only-of-type {\n",
       "        vertical-align: middle;\n",
       "    }\n",
       "\n",
       "    .dataframe tbody tr th {\n",
       "        vertical-align: top;\n",
       "    }\n",
       "\n",
       "    .dataframe thead th {\n",
       "        text-align: right;\n",
       "    }\n",
       "</style>\n",
       "<table border=\"1\" class=\"dataframe\">\n",
       "  <thead>\n",
       "    <tr style=\"text-align: right;\">\n",
       "      <th></th>\n",
       "      <th>Open</th>\n",
       "      <th>High</th>\n",
       "      <th>Low</th>\n",
       "      <th>Close</th>\n",
       "      <th>Adj Close</th>\n",
       "      <th>Volume</th>\n",
       "      <th>10_ac_ma</th>\n",
       "      <th>20_ac_ma</th>\n",
       "      <th>50_ac_ma</th>\n",
       "    </tr>\n",
       "    <tr>\n",
       "      <th>Date</th>\n",
       "      <th></th>\n",
       "      <th></th>\n",
       "      <th></th>\n",
       "      <th></th>\n",
       "      <th></th>\n",
       "      <th></th>\n",
       "      <th></th>\n",
       "      <th></th>\n",
       "      <th></th>\n",
       "    </tr>\n",
       "  </thead>\n",
       "  <tbody>\n",
       "    <tr>\n",
       "      <th>2019-12-19</th>\n",
       "      <td>134.460007</td>\n",
       "      <td>134.729996</td>\n",
       "      <td>134.190002</td>\n",
       "      <td>134.559998</td>\n",
       "      <td>126.168839</td>\n",
       "      <td>3866500</td>\n",
       "      <td>NaN</td>\n",
       "      <td>NaN</td>\n",
       "      <td>NaN</td>\n",
       "    </tr>\n",
       "    <tr>\n",
       "      <th>2019-12-20</th>\n",
       "      <td>135.740005</td>\n",
       "      <td>136.419998</td>\n",
       "      <td>134.949997</td>\n",
       "      <td>135.589996</td>\n",
       "      <td>127.134598</td>\n",
       "      <td>7111800</td>\n",
       "      <td>NaN</td>\n",
       "      <td>NaN</td>\n",
       "      <td>NaN</td>\n",
       "    </tr>\n",
       "    <tr>\n",
       "      <th>2019-12-23</th>\n",
       "      <td>135.779999</td>\n",
       "      <td>136.149994</td>\n",
       "      <td>135.000000</td>\n",
       "      <td>135.550003</td>\n",
       "      <td>127.097092</td>\n",
       "      <td>2803200</td>\n",
       "      <td>NaN</td>\n",
       "      <td>NaN</td>\n",
       "      <td>NaN</td>\n",
       "    </tr>\n",
       "    <tr>\n",
       "      <th>2019-12-24</th>\n",
       "      <td>135.610001</td>\n",
       "      <td>135.619995</td>\n",
       "      <td>134.610001</td>\n",
       "      <td>134.979996</td>\n",
       "      <td>126.562637</td>\n",
       "      <td>1202100</td>\n",
       "      <td>NaN</td>\n",
       "      <td>NaN</td>\n",
       "      <td>NaN</td>\n",
       "    </tr>\n",
       "    <tr>\n",
       "      <th>2019-12-26</th>\n",
       "      <td>134.979996</td>\n",
       "      <td>135.309998</td>\n",
       "      <td>134.649994</td>\n",
       "      <td>134.910004</td>\n",
       "      <td>126.497017</td>\n",
       "      <td>2129700</td>\n",
       "      <td>NaN</td>\n",
       "      <td>NaN</td>\n",
       "      <td>NaN</td>\n",
       "    </tr>\n",
       "  </tbody>\n",
       "</table>\n",
       "</div>"
      ],
      "text/plain": [
       "                  Open        High         Low       Close   Adj Close  \\\n",
       "Date                                                                     \n",
       "2019-12-19  134.460007  134.729996  134.190002  134.559998  126.168839   \n",
       "2019-12-20  135.740005  136.419998  134.949997  135.589996  127.134598   \n",
       "2019-12-23  135.779999  136.149994  135.000000  135.550003  127.097092   \n",
       "2019-12-24  135.610001  135.619995  134.610001  134.979996  126.562637   \n",
       "2019-12-26  134.979996  135.309998  134.649994  134.910004  126.497017   \n",
       "\n",
       "             Volume  10_ac_ma  20_ac_ma  50_ac_ma  \n",
       "Date                                               \n",
       "2019-12-19  3866500       NaN       NaN       NaN  \n",
       "2019-12-20  7111800       NaN       NaN       NaN  \n",
       "2019-12-23  2803200       NaN       NaN       NaN  \n",
       "2019-12-24  1202100       NaN       NaN       NaN  \n",
       "2019-12-26  2129700       NaN       NaN       NaN  "
      ]
     },
     "execution_count": 73,
     "metadata": {},
     "output_type": "execute_result"
    }
   ],
   "source": [
    "df_ibm_valid.head()"
   ]
  },
  {
   "cell_type": "code",
   "execution_count": 74,
   "id": "exciting-butterfly",
   "metadata": {},
   "outputs": [
    {
     "data": {
      "text/plain": [
       "<matplotlib.axes._subplots.AxesSubplot at 0x7ff8e44d08d0>"
      ]
     },
     "execution_count": 74,
     "metadata": {},
     "output_type": "execute_result"
    },
    {
     "data": {
      "image/png": "[encoded data removed]",
      "text/plain": [
       "<Figure size 1080x360 with 1 Axes>"
      ]
     },
     "metadata": {
      "needs_background": "light"
     },
     "output_type": "display_data"
    }
   ],
   "source": [
    "df_ibm[analysis_start_date:end][['Adj Close', '20_ac_ma']].plot(legend=True,figsize=(15,5))"
   ]
  },
  {
   "cell_type": "markdown",
   "id": "prescribed-brick",
   "metadata": {},
   "source": [
    "#### Apple stock moving averages"
   ]
  },
  {
   "cell_type": "markdown",
   "id": "organizational-uniform",
   "metadata": {},
   "source": [
    "#### Apple stock moving averages"
   ]
  },
  {
   "cell_type": "code",
   "execution_count": 75,
   "id": "accompanied-phase",
   "metadata": {},
   "outputs": [],
   "source": [
    "# moving average sizes in days\n",
    "ma_d_sz = [10,20,50]\n",
    "\n",
    "# adding moving average columns to dataframe\n",
    "for mds in ma_d_sz:\n",
    "    column_name = \"%s_ac_ma\" %(str(mds))    \n",
    "    df_aapl[column_name] = moving_average(df_aapl['Adj Close'], window_size=mds)\n",
    "    df_aapl_train[column_name] = moving_average(df_aapl_train['Adj Close'], window_size=mds)\n",
    "    df_aapl_test[column_name] = moving_average(df_aapl_test['Adj Close'], window_size=mds)\n",
    "    df_aapl_valid[column_name] = moving_average(df_aapl_valid['Adj Close'], window_size=mds)"
   ]
  },
  {
   "cell_type": "code",
   "execution_count": 76,
   "id": "executive-pierce",
   "metadata": {},
   "outputs": [
    {
     "data": {
      "text/html": [
       "<div>\n",
       "<style scoped>\n",
       "    .dataframe tbody tr th:only-of-type {\n",
       "        vertical-align: middle;\n",
       "    }\n",
       "\n",
       "    .dataframe tbody tr th {\n",
       "        vertical-align: top;\n",
       "    }\n",
       "\n",
       "    .dataframe thead th {\n",
       "        text-align: right;\n",
       "    }\n",
       "</style>\n",
       "<table border=\"1\" class=\"dataframe\">\n",
       "  <thead>\n",
       "    <tr style=\"text-align: right;\">\n",
       "      <th></th>\n",
       "      <th>Open</th>\n",
       "      <th>High</th>\n",
       "      <th>Low</th>\n",
       "      <th>Close</th>\n",
       "      <th>Adj Close</th>\n",
       "      <th>Volume</th>\n",
       "      <th>10_ac_ma</th>\n",
       "      <th>20_ac_ma</th>\n",
       "      <th>50_ac_ma</th>\n",
       "    </tr>\n",
       "    <tr>\n",
       "      <th>Date</th>\n",
       "      <th></th>\n",
       "      <th></th>\n",
       "      <th></th>\n",
       "      <th></th>\n",
       "      <th></th>\n",
       "      <th></th>\n",
       "      <th></th>\n",
       "      <th></th>\n",
       "      <th></th>\n",
       "    </tr>\n",
       "  </thead>\n",
       "  <tbody>\n",
       "    <tr>\n",
       "      <th>1980-12-12</th>\n",
       "      <td>0.128348</td>\n",
       "      <td>0.128906</td>\n",
       "      <td>0.128348</td>\n",
       "      <td>0.128348</td>\n",
       "      <td>0.100922</td>\n",
       "      <td>469033600</td>\n",
       "      <td>NaN</td>\n",
       "      <td>NaN</td>\n",
       "      <td>NaN</td>\n",
       "    </tr>\n",
       "    <tr>\n",
       "      <th>1980-12-15</th>\n",
       "      <td>0.122210</td>\n",
       "      <td>0.122210</td>\n",
       "      <td>0.121652</td>\n",
       "      <td>0.121652</td>\n",
       "      <td>0.095657</td>\n",
       "      <td>175884800</td>\n",
       "      <td>NaN</td>\n",
       "      <td>NaN</td>\n",
       "      <td>NaN</td>\n",
       "    </tr>\n",
       "    <tr>\n",
       "      <th>1980-12-16</th>\n",
       "      <td>0.113281</td>\n",
       "      <td>0.113281</td>\n",
       "      <td>0.112723</td>\n",
       "      <td>0.112723</td>\n",
       "      <td>0.088636</td>\n",
       "      <td>105728000</td>\n",
       "      <td>NaN</td>\n",
       "      <td>NaN</td>\n",
       "      <td>NaN</td>\n",
       "    </tr>\n",
       "    <tr>\n",
       "      <th>1980-12-17</th>\n",
       "      <td>0.115513</td>\n",
       "      <td>0.116071</td>\n",
       "      <td>0.115513</td>\n",
       "      <td>0.115513</td>\n",
       "      <td>0.090830</td>\n",
       "      <td>86441600</td>\n",
       "      <td>NaN</td>\n",
       "      <td>NaN</td>\n",
       "      <td>NaN</td>\n",
       "    </tr>\n",
       "    <tr>\n",
       "      <th>1980-12-18</th>\n",
       "      <td>0.118862</td>\n",
       "      <td>0.119420</td>\n",
       "      <td>0.118862</td>\n",
       "      <td>0.118862</td>\n",
       "      <td>0.093463</td>\n",
       "      <td>73449600</td>\n",
       "      <td>NaN</td>\n",
       "      <td>NaN</td>\n",
       "      <td>NaN</td>\n",
       "    </tr>\n",
       "  </tbody>\n",
       "</table>\n",
       "</div>"
      ],
      "text/plain": [
       "                Open      High       Low     Close  Adj Close     Volume  \\\n",
       "Date                                                                       \n",
       "1980-12-12  0.128348  0.128906  0.128348  0.128348   0.100922  469033600   \n",
       "1980-12-15  0.122210  0.122210  0.121652  0.121652   0.095657  175884800   \n",
       "1980-12-16  0.113281  0.113281  0.112723  0.112723   0.088636  105728000   \n",
       "1980-12-17  0.115513  0.116071  0.115513  0.115513   0.090830   86441600   \n",
       "1980-12-18  0.118862  0.119420  0.118862  0.118862   0.093463   73449600   \n",
       "\n",
       "            10_ac_ma  20_ac_ma  50_ac_ma  \n",
       "Date                                      \n",
       "1980-12-12       NaN       NaN       NaN  \n",
       "1980-12-15       NaN       NaN       NaN  \n",
       "1980-12-16       NaN       NaN       NaN  \n",
       "1980-12-17       NaN       NaN       NaN  \n",
       "1980-12-18       NaN       NaN       NaN  "
      ]
     },
     "execution_count": 76,
     "metadata": {},
     "output_type": "execute_result"
    }
   ],
   "source": [
    "df_aapl.head()"
   ]
  },
  {
   "cell_type": "markdown",
   "id": "cooked-consciousness",
   "metadata": {},
   "source": [
    "Moving average feature is empty for the first *n* days, where *n* is the window size, so I'll use some backfill to fill NaN values"
   ]
  },
  {
   "cell_type": "code",
   "execution_count": 77,
   "id": "incoming-philosophy",
   "metadata": {},
   "outputs": [],
   "source": [
    "df_aapl.fillna(method='backfill', inplace=True)"
   ]
  },
  {
   "cell_type": "code",
   "execution_count": 78,
   "id": "intermediate-country",
   "metadata": {},
   "outputs": [
    {
     "data": {
      "text/html": [
       "<div>\n",
       "<style scoped>\n",
       "    .dataframe tbody tr th:only-of-type {\n",
       "        vertical-align: middle;\n",
       "    }\n",
       "\n",
       "    .dataframe tbody tr th {\n",
       "        vertical-align: top;\n",
       "    }\n",
       "\n",
       "    .dataframe thead th {\n",
       "        text-align: right;\n",
       "    }\n",
       "</style>\n",
       "<table border=\"1\" class=\"dataframe\">\n",
       "  <thead>\n",
       "    <tr style=\"text-align: right;\">\n",
       "      <th></th>\n",
       "      <th>Open</th>\n",
       "      <th>High</th>\n",
       "      <th>Low</th>\n",
       "      <th>Close</th>\n",
       "      <th>Adj Close</th>\n",
       "      <th>Volume</th>\n",
       "      <th>10_ac_ma</th>\n",
       "      <th>20_ac_ma</th>\n",
       "      <th>50_ac_ma</th>\n",
       "    </tr>\n",
       "    <tr>\n",
       "      <th>Date</th>\n",
       "      <th></th>\n",
       "      <th></th>\n",
       "      <th></th>\n",
       "      <th></th>\n",
       "      <th></th>\n",
       "      <th></th>\n",
       "      <th></th>\n",
       "      <th></th>\n",
       "      <th></th>\n",
       "    </tr>\n",
       "  </thead>\n",
       "  <tbody>\n",
       "    <tr>\n",
       "      <th>1980-12-12</th>\n",
       "      <td>0.128348</td>\n",
       "      <td>0.128906</td>\n",
       "      <td>0.128348</td>\n",
       "      <td>0.128348</td>\n",
       "      <td>0.100922</td>\n",
       "      <td>469033600</td>\n",
       "      <td>0.101975</td>\n",
       "      <td>0.108974</td>\n",
       "      <td>0.104248</td>\n",
       "    </tr>\n",
       "    <tr>\n",
       "      <th>1980-12-15</th>\n",
       "      <td>0.122210</td>\n",
       "      <td>0.122210</td>\n",
       "      <td>0.121652</td>\n",
       "      <td>0.121652</td>\n",
       "      <td>0.095657</td>\n",
       "      <td>175884800</td>\n",
       "      <td>0.101975</td>\n",
       "      <td>0.108974</td>\n",
       "      <td>0.104248</td>\n",
       "    </tr>\n",
       "    <tr>\n",
       "      <th>1980-12-16</th>\n",
       "      <td>0.113281</td>\n",
       "      <td>0.113281</td>\n",
       "      <td>0.112723</td>\n",
       "      <td>0.112723</td>\n",
       "      <td>0.088636</td>\n",
       "      <td>105728000</td>\n",
       "      <td>0.101975</td>\n",
       "      <td>0.108974</td>\n",
       "      <td>0.104248</td>\n",
       "    </tr>\n",
       "    <tr>\n",
       "      <th>1980-12-17</th>\n",
       "      <td>0.115513</td>\n",
       "      <td>0.116071</td>\n",
       "      <td>0.115513</td>\n",
       "      <td>0.115513</td>\n",
       "      <td>0.090830</td>\n",
       "      <td>86441600</td>\n",
       "      <td>0.101975</td>\n",
       "      <td>0.108974</td>\n",
       "      <td>0.104248</td>\n",
       "    </tr>\n",
       "    <tr>\n",
       "      <th>1980-12-18</th>\n",
       "      <td>0.118862</td>\n",
       "      <td>0.119420</td>\n",
       "      <td>0.118862</td>\n",
       "      <td>0.118862</td>\n",
       "      <td>0.093463</td>\n",
       "      <td>73449600</td>\n",
       "      <td>0.101975</td>\n",
       "      <td>0.108974</td>\n",
       "      <td>0.104248</td>\n",
       "    </tr>\n",
       "  </tbody>\n",
       "</table>\n",
       "</div>"
      ],
      "text/plain": [
       "                Open      High       Low     Close  Adj Close     Volume  \\\n",
       "Date                                                                       \n",
       "1980-12-12  0.128348  0.128906  0.128348  0.128348   0.100922  469033600   \n",
       "1980-12-15  0.122210  0.122210  0.121652  0.121652   0.095657  175884800   \n",
       "1980-12-16  0.113281  0.113281  0.112723  0.112723   0.088636  105728000   \n",
       "1980-12-17  0.115513  0.116071  0.115513  0.115513   0.090830   86441600   \n",
       "1980-12-18  0.118862  0.119420  0.118862  0.118862   0.093463   73449600   \n",
       "\n",
       "            10_ac_ma  20_ac_ma  50_ac_ma  \n",
       "Date                                      \n",
       "1980-12-12  0.101975  0.108974  0.104248  \n",
       "1980-12-15  0.101975  0.108974  0.104248  \n",
       "1980-12-16  0.101975  0.108974  0.104248  \n",
       "1980-12-17  0.101975  0.108974  0.104248  \n",
       "1980-12-18  0.101975  0.108974  0.104248  "
      ]
     },
     "execution_count": 78,
     "metadata": {},
     "output_type": "execute_result"
    }
   ],
   "source": [
    "df_aapl.head()"
   ]
  },
  {
   "cell_type": "code",
   "execution_count": 79,
   "id": "following-pitch",
   "metadata": {},
   "outputs": [
    {
     "data": {
      "text/html": [
       "<div>\n",
       "<style scoped>\n",
       "    .dataframe tbody tr th:only-of-type {\n",
       "        vertical-align: middle;\n",
       "    }\n",
       "\n",
       "    .dataframe tbody tr th {\n",
       "        vertical-align: top;\n",
       "    }\n",
       "\n",
       "    .dataframe thead th {\n",
       "        text-align: right;\n",
       "    }\n",
       "</style>\n",
       "<table border=\"1\" class=\"dataframe\">\n",
       "  <thead>\n",
       "    <tr style=\"text-align: right;\">\n",
       "      <th></th>\n",
       "      <th>Open</th>\n",
       "      <th>High</th>\n",
       "      <th>Low</th>\n",
       "      <th>Close</th>\n",
       "      <th>Adj Close</th>\n",
       "      <th>Volume</th>\n",
       "      <th>10_ac_ma</th>\n",
       "      <th>20_ac_ma</th>\n",
       "      <th>50_ac_ma</th>\n",
       "    </tr>\n",
       "    <tr>\n",
       "      <th>Date</th>\n",
       "      <th></th>\n",
       "      <th></th>\n",
       "      <th></th>\n",
       "      <th></th>\n",
       "      <th></th>\n",
       "      <th></th>\n",
       "      <th></th>\n",
       "      <th></th>\n",
       "      <th></th>\n",
       "    </tr>\n",
       "  </thead>\n",
       "  <tbody>\n",
       "    <tr>\n",
       "      <th>1980-12-12</th>\n",
       "      <td>0.128348</td>\n",
       "      <td>0.128906</td>\n",
       "      <td>0.128348</td>\n",
       "      <td>0.128348</td>\n",
       "      <td>0.100922</td>\n",
       "      <td>469033600</td>\n",
       "      <td>NaN</td>\n",
       "      <td>NaN</td>\n",
       "      <td>NaN</td>\n",
       "    </tr>\n",
       "    <tr>\n",
       "      <th>1980-12-15</th>\n",
       "      <td>0.122210</td>\n",
       "      <td>0.122210</td>\n",
       "      <td>0.121652</td>\n",
       "      <td>0.121652</td>\n",
       "      <td>0.095657</td>\n",
       "      <td>175884800</td>\n",
       "      <td>NaN</td>\n",
       "      <td>NaN</td>\n",
       "      <td>NaN</td>\n",
       "    </tr>\n",
       "    <tr>\n",
       "      <th>1980-12-16</th>\n",
       "      <td>0.113281</td>\n",
       "      <td>0.113281</td>\n",
       "      <td>0.112723</td>\n",
       "      <td>0.112723</td>\n",
       "      <td>0.088636</td>\n",
       "      <td>105728000</td>\n",
       "      <td>NaN</td>\n",
       "      <td>NaN</td>\n",
       "      <td>NaN</td>\n",
       "    </tr>\n",
       "    <tr>\n",
       "      <th>1980-12-17</th>\n",
       "      <td>0.115513</td>\n",
       "      <td>0.116071</td>\n",
       "      <td>0.115513</td>\n",
       "      <td>0.115513</td>\n",
       "      <td>0.090830</td>\n",
       "      <td>86441600</td>\n",
       "      <td>NaN</td>\n",
       "      <td>NaN</td>\n",
       "      <td>NaN</td>\n",
       "    </tr>\n",
       "    <tr>\n",
       "      <th>1980-12-18</th>\n",
       "      <td>0.118862</td>\n",
       "      <td>0.119420</td>\n",
       "      <td>0.118862</td>\n",
       "      <td>0.118862</td>\n",
       "      <td>0.093463</td>\n",
       "      <td>73449600</td>\n",
       "      <td>NaN</td>\n",
       "      <td>NaN</td>\n",
       "      <td>NaN</td>\n",
       "    </tr>\n",
       "  </tbody>\n",
       "</table>\n",
       "</div>"
      ],
      "text/plain": [
       "                Open      High       Low     Close  Adj Close     Volume  \\\n",
       "Date                                                                       \n",
       "1980-12-12  0.128348  0.128906  0.128348  0.128348   0.100922  469033600   \n",
       "1980-12-15  0.122210  0.122210  0.121652  0.121652   0.095657  175884800   \n",
       "1980-12-16  0.113281  0.113281  0.112723  0.112723   0.088636  105728000   \n",
       "1980-12-17  0.115513  0.116071  0.115513  0.115513   0.090830   86441600   \n",
       "1980-12-18  0.118862  0.119420  0.118862  0.118862   0.093463   73449600   \n",
       "\n",
       "            10_ac_ma  20_ac_ma  50_ac_ma  \n",
       "Date                                      \n",
       "1980-12-12       NaN       NaN       NaN  \n",
       "1980-12-15       NaN       NaN       NaN  \n",
       "1980-12-16       NaN       NaN       NaN  \n",
       "1980-12-17       NaN       NaN       NaN  \n",
       "1980-12-18       NaN       NaN       NaN  "
      ]
     },
     "execution_count": 79,
     "metadata": {},
     "output_type": "execute_result"
    }
   ],
   "source": [
    "df_aapl_train.head()"
   ]
  },
  {
   "cell_type": "code",
   "execution_count": 80,
   "id": "native-likelihood",
   "metadata": {},
   "outputs": [
    {
     "data": {
      "text/html": [
       "<div>\n",
       "<style scoped>\n",
       "    .dataframe tbody tr th:only-of-type {\n",
       "        vertical-align: middle;\n",
       "    }\n",
       "\n",
       "    .dataframe tbody tr th {\n",
       "        vertical-align: top;\n",
       "    }\n",
       "\n",
       "    .dataframe thead th {\n",
       "        text-align: right;\n",
       "    }\n",
       "</style>\n",
       "<table border=\"1\" class=\"dataframe\">\n",
       "  <thead>\n",
       "    <tr style=\"text-align: right;\">\n",
       "      <th></th>\n",
       "      <th>Open</th>\n",
       "      <th>High</th>\n",
       "      <th>Low</th>\n",
       "      <th>Close</th>\n",
       "      <th>Adj Close</th>\n",
       "      <th>Volume</th>\n",
       "      <th>10_ac_ma</th>\n",
       "      <th>20_ac_ma</th>\n",
       "      <th>50_ac_ma</th>\n",
       "    </tr>\n",
       "    <tr>\n",
       "      <th>Date</th>\n",
       "      <th></th>\n",
       "      <th></th>\n",
       "      <th></th>\n",
       "      <th></th>\n",
       "      <th></th>\n",
       "      <th></th>\n",
       "      <th></th>\n",
       "      <th></th>\n",
       "      <th></th>\n",
       "    </tr>\n",
       "  </thead>\n",
       "  <tbody>\n",
       "    <tr>\n",
       "      <th>2017-02-16</th>\n",
       "      <td>33.917500</td>\n",
       "      <td>33.974998</td>\n",
       "      <td>33.709999</td>\n",
       "      <td>33.837502</td>\n",
       "      <td>32.137894</td>\n",
       "      <td>90338400</td>\n",
       "      <td>NaN</td>\n",
       "      <td>NaN</td>\n",
       "      <td>NaN</td>\n",
       "    </tr>\n",
       "    <tr>\n",
       "      <th>2017-02-17</th>\n",
       "      <td>33.775002</td>\n",
       "      <td>33.957500</td>\n",
       "      <td>33.775002</td>\n",
       "      <td>33.930000</td>\n",
       "      <td>32.225754</td>\n",
       "      <td>88792800</td>\n",
       "      <td>NaN</td>\n",
       "      <td>NaN</td>\n",
       "      <td>NaN</td>\n",
       "    </tr>\n",
       "    <tr>\n",
       "      <th>2017-02-21</th>\n",
       "      <td>34.057499</td>\n",
       "      <td>34.187500</td>\n",
       "      <td>33.994999</td>\n",
       "      <td>34.174999</td>\n",
       "      <td>32.458447</td>\n",
       "      <td>98028800</td>\n",
       "      <td>NaN</td>\n",
       "      <td>NaN</td>\n",
       "      <td>NaN</td>\n",
       "    </tr>\n",
       "    <tr>\n",
       "      <th>2017-02-22</th>\n",
       "      <td>34.107498</td>\n",
       "      <td>34.279999</td>\n",
       "      <td>34.027500</td>\n",
       "      <td>34.277500</td>\n",
       "      <td>32.555794</td>\n",
       "      <td>83347600</td>\n",
       "      <td>NaN</td>\n",
       "      <td>NaN</td>\n",
       "      <td>NaN</td>\n",
       "    </tr>\n",
       "    <tr>\n",
       "      <th>2017-02-23</th>\n",
       "      <td>34.345001</td>\n",
       "      <td>34.369999</td>\n",
       "      <td>34.075001</td>\n",
       "      <td>34.132500</td>\n",
       "      <td>32.418076</td>\n",
       "      <td>83152800</td>\n",
       "      <td>NaN</td>\n",
       "      <td>NaN</td>\n",
       "      <td>NaN</td>\n",
       "    </tr>\n",
       "  </tbody>\n",
       "</table>\n",
       "</div>"
      ],
      "text/plain": [
       "                 Open       High        Low      Close  Adj Close    Volume  \\\n",
       "Date                                                                          \n",
       "2017-02-16  33.917500  33.974998  33.709999  33.837502  32.137894  90338400   \n",
       "2017-02-17  33.775002  33.957500  33.775002  33.930000  32.225754  88792800   \n",
       "2017-02-21  34.057499  34.187500  33.994999  34.174999  32.458447  98028800   \n",
       "2017-02-22  34.107498  34.279999  34.027500  34.277500  32.555794  83347600   \n",
       "2017-02-23  34.345001  34.369999  34.075001  34.132500  32.418076  83152800   \n",
       "\n",
       "            10_ac_ma  20_ac_ma  50_ac_ma  \n",
       "Date                                      \n",
       "2017-02-16       NaN       NaN       NaN  \n",
       "2017-02-17       NaN       NaN       NaN  \n",
       "2017-02-21       NaN       NaN       NaN  \n",
       "2017-02-22       NaN       NaN       NaN  \n",
       "2017-02-23       NaN       NaN       NaN  "
      ]
     },
     "execution_count": 80,
     "metadata": {},
     "output_type": "execute_result"
    }
   ],
   "source": [
    "df_aapl_test.head()"
   ]
  },
  {
   "cell_type": "code",
   "execution_count": 81,
   "id": "aware-magazine",
   "metadata": {},
   "outputs": [
    {
     "data": {
      "text/html": [
       "<div>\n",
       "<style scoped>\n",
       "    .dataframe tbody tr th:only-of-type {\n",
       "        vertical-align: middle;\n",
       "    }\n",
       "\n",
       "    .dataframe tbody tr th {\n",
       "        vertical-align: top;\n",
       "    }\n",
       "\n",
       "    .dataframe thead th {\n",
       "        text-align: right;\n",
       "    }\n",
       "</style>\n",
       "<table border=\"1\" class=\"dataframe\">\n",
       "  <thead>\n",
       "    <tr style=\"text-align: right;\">\n",
       "      <th></th>\n",
       "      <th>Open</th>\n",
       "      <th>High</th>\n",
       "      <th>Low</th>\n",
       "      <th>Close</th>\n",
       "      <th>Adj Close</th>\n",
       "      <th>Volume</th>\n",
       "      <th>10_ac_ma</th>\n",
       "      <th>20_ac_ma</th>\n",
       "      <th>50_ac_ma</th>\n",
       "    </tr>\n",
       "    <tr>\n",
       "      <th>Date</th>\n",
       "      <th></th>\n",
       "      <th></th>\n",
       "      <th></th>\n",
       "      <th></th>\n",
       "      <th></th>\n",
       "      <th></th>\n",
       "      <th></th>\n",
       "      <th></th>\n",
       "      <th></th>\n",
       "    </tr>\n",
       "  </thead>\n",
       "  <tbody>\n",
       "    <tr>\n",
       "      <th>2020-05-07</th>\n",
       "      <td>75.805000</td>\n",
       "      <td>76.292503</td>\n",
       "      <td>75.492500</td>\n",
       "      <td>75.934998</td>\n",
       "      <td>75.350914</td>\n",
       "      <td>115215200</td>\n",
       "      <td>NaN</td>\n",
       "      <td>NaN</td>\n",
       "      <td>NaN</td>\n",
       "    </tr>\n",
       "    <tr>\n",
       "      <th>2020-05-08</th>\n",
       "      <td>76.410004</td>\n",
       "      <td>77.587502</td>\n",
       "      <td>76.072502</td>\n",
       "      <td>77.532501</td>\n",
       "      <td>77.144394</td>\n",
       "      <td>134048000</td>\n",
       "      <td>NaN</td>\n",
       "      <td>NaN</td>\n",
       "      <td>NaN</td>\n",
       "    </tr>\n",
       "    <tr>\n",
       "      <th>2020-05-11</th>\n",
       "      <td>77.025002</td>\n",
       "      <td>79.262497</td>\n",
       "      <td>76.809998</td>\n",
       "      <td>78.752502</td>\n",
       "      <td>78.358284</td>\n",
       "      <td>145946400</td>\n",
       "      <td>NaN</td>\n",
       "      <td>NaN</td>\n",
       "      <td>NaN</td>\n",
       "    </tr>\n",
       "    <tr>\n",
       "      <th>2020-05-12</th>\n",
       "      <td>79.457497</td>\n",
       "      <td>79.922501</td>\n",
       "      <td>77.727501</td>\n",
       "      <td>77.852501</td>\n",
       "      <td>77.462791</td>\n",
       "      <td>162301200</td>\n",
       "      <td>NaN</td>\n",
       "      <td>NaN</td>\n",
       "      <td>NaN</td>\n",
       "    </tr>\n",
       "    <tr>\n",
       "      <th>2020-05-13</th>\n",
       "      <td>78.037498</td>\n",
       "      <td>78.987503</td>\n",
       "      <td>75.802498</td>\n",
       "      <td>76.912498</td>\n",
       "      <td>76.527496</td>\n",
       "      <td>200622400</td>\n",
       "      <td>NaN</td>\n",
       "      <td>NaN</td>\n",
       "      <td>NaN</td>\n",
       "    </tr>\n",
       "  </tbody>\n",
       "</table>\n",
       "</div>"
      ],
      "text/plain": [
       "                 Open       High        Low      Close  Adj Close     Volume  \\\n",
       "Date                                                                           \n",
       "2020-05-07  75.805000  76.292503  75.492500  75.934998  75.350914  115215200   \n",
       "2020-05-08  76.410004  77.587502  76.072502  77.532501  77.144394  134048000   \n",
       "2020-05-11  77.025002  79.262497  76.809998  78.752502  78.358284  145946400   \n",
       "2020-05-12  79.457497  79.922501  77.727501  77.852501  77.462791  162301200   \n",
       "2020-05-13  78.037498  78.987503  75.802498  76.912498  76.527496  200622400   \n",
       "\n",
       "            10_ac_ma  20_ac_ma  50_ac_ma  \n",
       "Date                                      \n",
       "2020-05-07       NaN       NaN       NaN  \n",
       "2020-05-08       NaN       NaN       NaN  \n",
       "2020-05-11       NaN       NaN       NaN  \n",
       "2020-05-12       NaN       NaN       NaN  \n",
       "2020-05-13       NaN       NaN       NaN  "
      ]
     },
     "execution_count": 81,
     "metadata": {},
     "output_type": "execute_result"
    }
   ],
   "source": [
    "df_aapl_valid.head()"
   ]
  },
  {
   "cell_type": "code",
   "execution_count": 82,
   "id": "deluxe-japanese",
   "metadata": {},
   "outputs": [
    {
     "data": {
      "text/plain": [
       "<matplotlib.axes._subplots.AxesSubplot at 0x7ff8e4461160>"
      ]
     },
     "execution_count": 82,
     "metadata": {},
     "output_type": "execute_result"
    },
    {
     "data": {
      "image/png": "[encoded data removed]",
      "text/plain": [
       "<Figure size 1080x360 with 1 Axes>"
      ]
     },
     "metadata": {
      "needs_background": "light"
     },
     "output_type": "display_data"
    }
   ],
   "source": [
    "df_aapl[start_date:end_date][['Adj Close', '50_ac_ma']].plot(legend=True,figsize=(15,5))"
   ]
  },
  {
   "cell_type": "markdown",
   "id": "quality-client",
   "metadata": {},
   "source": [
    "#### Amazon.com stock moving averages"
   ]
  },
  {
   "cell_type": "code",
   "execution_count": 83,
   "id": "caring-spank",
   "metadata": {},
   "outputs": [],
   "source": [
    "# moving average sizes in days\n",
    "ma_d_sz = [10,20,50]\n",
    "\n",
    "# adding moving average columns to dataframe\n",
    "for mds in ma_d_sz:\n",
    "    column_name = \"%s_ac_ma\" %(str(mds))    \n",
    "    df_amzn[column_name] = moving_average(df_amzn['Adj Close'], window_size=mds)\n",
    "    df_amzn_train[column_name] = moving_average(df_amzn_train['Adj Close'], window_size=mds)\n",
    "    df_amzn_test[column_name] = moving_average(df_amzn_test['Adj Close'], window_size=mds)\n",
    "    df_amzn_valid[column_name] = moving_average(df_amzn_valid['Adj Close'], window_size=mds)"
   ]
  },
  {
   "cell_type": "code",
   "execution_count": 84,
   "id": "numerous-deadline",
   "metadata": {},
   "outputs": [
    {
     "data": {
      "text/html": [
       "<div>\n",
       "<style scoped>\n",
       "    .dataframe tbody tr th:only-of-type {\n",
       "        vertical-align: middle;\n",
       "    }\n",
       "\n",
       "    .dataframe tbody tr th {\n",
       "        vertical-align: top;\n",
       "    }\n",
       "\n",
       "    .dataframe thead th {\n",
       "        text-align: right;\n",
       "    }\n",
       "</style>\n",
       "<table border=\"1\" class=\"dataframe\">\n",
       "  <thead>\n",
       "    <tr style=\"text-align: right;\">\n",
       "      <th></th>\n",
       "      <th>Open</th>\n",
       "      <th>High</th>\n",
       "      <th>Low</th>\n",
       "      <th>Close</th>\n",
       "      <th>Adj Close</th>\n",
       "      <th>Volume</th>\n",
       "      <th>10_ac_ma</th>\n",
       "      <th>20_ac_ma</th>\n",
       "      <th>50_ac_ma</th>\n",
       "    </tr>\n",
       "    <tr>\n",
       "      <th>Date</th>\n",
       "      <th></th>\n",
       "      <th></th>\n",
       "      <th></th>\n",
       "      <th></th>\n",
       "      <th></th>\n",
       "      <th></th>\n",
       "      <th></th>\n",
       "      <th></th>\n",
       "      <th></th>\n",
       "    </tr>\n",
       "  </thead>\n",
       "  <tbody>\n",
       "    <tr>\n",
       "      <th>1997-05-15</th>\n",
       "      <td>2.437500</td>\n",
       "      <td>2.500000</td>\n",
       "      <td>1.927083</td>\n",
       "      <td>1.958333</td>\n",
       "      <td>1.958333</td>\n",
       "      <td>72156000</td>\n",
       "      <td>NaN</td>\n",
       "      <td>NaN</td>\n",
       "      <td>NaN</td>\n",
       "    </tr>\n",
       "    <tr>\n",
       "      <th>1997-05-16</th>\n",
       "      <td>1.968750</td>\n",
       "      <td>1.979167</td>\n",
       "      <td>1.708333</td>\n",
       "      <td>1.729167</td>\n",
       "      <td>1.729167</td>\n",
       "      <td>14700000</td>\n",
       "      <td>NaN</td>\n",
       "      <td>NaN</td>\n",
       "      <td>NaN</td>\n",
       "    </tr>\n",
       "    <tr>\n",
       "      <th>1997-05-19</th>\n",
       "      <td>1.760417</td>\n",
       "      <td>1.770833</td>\n",
       "      <td>1.625000</td>\n",
       "      <td>1.708333</td>\n",
       "      <td>1.708333</td>\n",
       "      <td>6106800</td>\n",
       "      <td>NaN</td>\n",
       "      <td>NaN</td>\n",
       "      <td>NaN</td>\n",
       "    </tr>\n",
       "    <tr>\n",
       "      <th>1997-05-20</th>\n",
       "      <td>1.729167</td>\n",
       "      <td>1.750000</td>\n",
       "      <td>1.635417</td>\n",
       "      <td>1.635417</td>\n",
       "      <td>1.635417</td>\n",
       "      <td>5467200</td>\n",
       "      <td>NaN</td>\n",
       "      <td>NaN</td>\n",
       "      <td>NaN</td>\n",
       "    </tr>\n",
       "    <tr>\n",
       "      <th>1997-05-21</th>\n",
       "      <td>1.635417</td>\n",
       "      <td>1.645833</td>\n",
       "      <td>1.375000</td>\n",
       "      <td>1.427083</td>\n",
       "      <td>1.427083</td>\n",
       "      <td>18853200</td>\n",
       "      <td>NaN</td>\n",
       "      <td>NaN</td>\n",
       "      <td>NaN</td>\n",
       "    </tr>\n",
       "  </tbody>\n",
       "</table>\n",
       "</div>"
      ],
      "text/plain": [
       "                Open      High       Low     Close  Adj Close    Volume  \\\n",
       "Date                                                                      \n",
       "1997-05-15  2.437500  2.500000  1.927083  1.958333   1.958333  72156000   \n",
       "1997-05-16  1.968750  1.979167  1.708333  1.729167   1.729167  14700000   \n",
       "1997-05-19  1.760417  1.770833  1.625000  1.708333   1.708333   6106800   \n",
       "1997-05-20  1.729167  1.750000  1.635417  1.635417   1.635417   5467200   \n",
       "1997-05-21  1.635417  1.645833  1.375000  1.427083   1.427083  18853200   \n",
       "\n",
       "            10_ac_ma  20_ac_ma  50_ac_ma  \n",
       "Date                                      \n",
       "1997-05-15       NaN       NaN       NaN  \n",
       "1997-05-16       NaN       NaN       NaN  \n",
       "1997-05-19       NaN       NaN       NaN  \n",
       "1997-05-20       NaN       NaN       NaN  \n",
       "1997-05-21       NaN       NaN       NaN  "
      ]
     },
     "execution_count": 84,
     "metadata": {},
     "output_type": "execute_result"
    }
   ],
   "source": [
    "df_amzn.head()"
   ]
  },
  {
   "cell_type": "markdown",
   "id": "above-artist",
   "metadata": {},
   "source": [
    "Moving average feature is empty for the first *n* days, where *n* is the window size, so I'll use some backfill to fill NaN values"
   ]
  },
  {
   "cell_type": "code",
   "execution_count": 85,
   "id": "authentic-funeral",
   "metadata": {},
   "outputs": [],
   "source": [
    "df_amzn.fillna(method='backfill', inplace=True)"
   ]
  },
  {
   "cell_type": "code",
   "execution_count": 86,
   "id": "decreased-deployment",
   "metadata": {},
   "outputs": [
    {
     "data": {
      "text/html": [
       "<div>\n",
       "<style scoped>\n",
       "    .dataframe tbody tr th:only-of-type {\n",
       "        vertical-align: middle;\n",
       "    }\n",
       "\n",
       "    .dataframe tbody tr th {\n",
       "        vertical-align: top;\n",
       "    }\n",
       "\n",
       "    .dataframe thead th {\n",
       "        text-align: right;\n",
       "    }\n",
       "</style>\n",
       "<table border=\"1\" class=\"dataframe\">\n",
       "  <thead>\n",
       "    <tr style=\"text-align: right;\">\n",
       "      <th></th>\n",
       "      <th>Open</th>\n",
       "      <th>High</th>\n",
       "      <th>Low</th>\n",
       "      <th>Close</th>\n",
       "      <th>Adj Close</th>\n",
       "      <th>Volume</th>\n",
       "      <th>10_ac_ma</th>\n",
       "      <th>20_ac_ma</th>\n",
       "      <th>50_ac_ma</th>\n",
       "    </tr>\n",
       "    <tr>\n",
       "      <th>Date</th>\n",
       "      <th></th>\n",
       "      <th></th>\n",
       "      <th></th>\n",
       "      <th></th>\n",
       "      <th></th>\n",
       "      <th></th>\n",
       "      <th></th>\n",
       "      <th></th>\n",
       "      <th></th>\n",
       "    </tr>\n",
       "  </thead>\n",
       "  <tbody>\n",
       "    <tr>\n",
       "      <th>1997-05-15</th>\n",
       "      <td>2.437500</td>\n",
       "      <td>2.500000</td>\n",
       "      <td>1.927083</td>\n",
       "      <td>1.958333</td>\n",
       "      <td>1.958333</td>\n",
       "      <td>72156000</td>\n",
       "      <td>1.597396</td>\n",
       "      <td>1.57474</td>\n",
       "      <td>1.772813</td>\n",
       "    </tr>\n",
       "    <tr>\n",
       "      <th>1997-05-16</th>\n",
       "      <td>1.968750</td>\n",
       "      <td>1.979167</td>\n",
       "      <td>1.708333</td>\n",
       "      <td>1.729167</td>\n",
       "      <td>1.729167</td>\n",
       "      <td>14700000</td>\n",
       "      <td>1.597396</td>\n",
       "      <td>1.57474</td>\n",
       "      <td>1.772813</td>\n",
       "    </tr>\n",
       "    <tr>\n",
       "      <th>1997-05-19</th>\n",
       "      <td>1.760417</td>\n",
       "      <td>1.770833</td>\n",
       "      <td>1.625000</td>\n",
       "      <td>1.708333</td>\n",
       "      <td>1.708333</td>\n",
       "      <td>6106800</td>\n",
       "      <td>1.597396</td>\n",
       "      <td>1.57474</td>\n",
       "      <td>1.772813</td>\n",
       "    </tr>\n",
       "    <tr>\n",
       "      <th>1997-05-20</th>\n",
       "      <td>1.729167</td>\n",
       "      <td>1.750000</td>\n",
       "      <td>1.635417</td>\n",
       "      <td>1.635417</td>\n",
       "      <td>1.635417</td>\n",
       "      <td>5467200</td>\n",
       "      <td>1.597396</td>\n",
       "      <td>1.57474</td>\n",
       "      <td>1.772813</td>\n",
       "    </tr>\n",
       "    <tr>\n",
       "      <th>1997-05-21</th>\n",
       "      <td>1.635417</td>\n",
       "      <td>1.645833</td>\n",
       "      <td>1.375000</td>\n",
       "      <td>1.427083</td>\n",
       "      <td>1.427083</td>\n",
       "      <td>18853200</td>\n",
       "      <td>1.597396</td>\n",
       "      <td>1.57474</td>\n",
       "      <td>1.772813</td>\n",
       "    </tr>\n",
       "  </tbody>\n",
       "</table>\n",
       "</div>"
      ],
      "text/plain": [
       "                Open      High       Low     Close  Adj Close    Volume  \\\n",
       "Date                                                                      \n",
       "1997-05-15  2.437500  2.500000  1.927083  1.958333   1.958333  72156000   \n",
       "1997-05-16  1.968750  1.979167  1.708333  1.729167   1.729167  14700000   \n",
       "1997-05-19  1.760417  1.770833  1.625000  1.708333   1.708333   6106800   \n",
       "1997-05-20  1.729167  1.750000  1.635417  1.635417   1.635417   5467200   \n",
       "1997-05-21  1.635417  1.645833  1.375000  1.427083   1.427083  18853200   \n",
       "\n",
       "            10_ac_ma  20_ac_ma  50_ac_ma  \n",
       "Date                                      \n",
       "1997-05-15  1.597396   1.57474  1.772813  \n",
       "1997-05-16  1.597396   1.57474  1.772813  \n",
       "1997-05-19  1.597396   1.57474  1.772813  \n",
       "1997-05-20  1.597396   1.57474  1.772813  \n",
       "1997-05-21  1.597396   1.57474  1.772813  "
      ]
     },
     "execution_count": 86,
     "metadata": {},
     "output_type": "execute_result"
    }
   ],
   "source": [
    "df_amzn.head()"
   ]
  },
  {
   "cell_type": "code",
   "execution_count": 87,
   "id": "fluid-coaching",
   "metadata": {},
   "outputs": [
    {
     "data": {
      "text/html": [
       "<div>\n",
       "<style scoped>\n",
       "    .dataframe tbody tr th:only-of-type {\n",
       "        vertical-align: middle;\n",
       "    }\n",
       "\n",
       "    .dataframe tbody tr th {\n",
       "        vertical-align: top;\n",
       "    }\n",
       "\n",
       "    .dataframe thead th {\n",
       "        text-align: right;\n",
       "    }\n",
       "</style>\n",
       "<table border=\"1\" class=\"dataframe\">\n",
       "  <thead>\n",
       "    <tr style=\"text-align: right;\">\n",
       "      <th></th>\n",
       "      <th>Open</th>\n",
       "      <th>High</th>\n",
       "      <th>Low</th>\n",
       "      <th>Close</th>\n",
       "      <th>Adj Close</th>\n",
       "      <th>Volume</th>\n",
       "      <th>10_ac_ma</th>\n",
       "      <th>20_ac_ma</th>\n",
       "      <th>50_ac_ma</th>\n",
       "    </tr>\n",
       "    <tr>\n",
       "      <th>Date</th>\n",
       "      <th></th>\n",
       "      <th></th>\n",
       "      <th></th>\n",
       "      <th></th>\n",
       "      <th></th>\n",
       "      <th></th>\n",
       "      <th></th>\n",
       "      <th></th>\n",
       "      <th></th>\n",
       "    </tr>\n",
       "  </thead>\n",
       "  <tbody>\n",
       "    <tr>\n",
       "      <th>1997-05-15</th>\n",
       "      <td>2.437500</td>\n",
       "      <td>2.500000</td>\n",
       "      <td>1.927083</td>\n",
       "      <td>1.958333</td>\n",
       "      <td>1.958333</td>\n",
       "      <td>72156000</td>\n",
       "      <td>NaN</td>\n",
       "      <td>NaN</td>\n",
       "      <td>NaN</td>\n",
       "    </tr>\n",
       "    <tr>\n",
       "      <th>1997-05-16</th>\n",
       "      <td>1.968750</td>\n",
       "      <td>1.979167</td>\n",
       "      <td>1.708333</td>\n",
       "      <td>1.729167</td>\n",
       "      <td>1.729167</td>\n",
       "      <td>14700000</td>\n",
       "      <td>NaN</td>\n",
       "      <td>NaN</td>\n",
       "      <td>NaN</td>\n",
       "    </tr>\n",
       "    <tr>\n",
       "      <th>1997-05-19</th>\n",
       "      <td>1.760417</td>\n",
       "      <td>1.770833</td>\n",
       "      <td>1.625000</td>\n",
       "      <td>1.708333</td>\n",
       "      <td>1.708333</td>\n",
       "      <td>6106800</td>\n",
       "      <td>NaN</td>\n",
       "      <td>NaN</td>\n",
       "      <td>NaN</td>\n",
       "    </tr>\n",
       "    <tr>\n",
       "      <th>1997-05-20</th>\n",
       "      <td>1.729167</td>\n",
       "      <td>1.750000</td>\n",
       "      <td>1.635417</td>\n",
       "      <td>1.635417</td>\n",
       "      <td>1.635417</td>\n",
       "      <td>5467200</td>\n",
       "      <td>NaN</td>\n",
       "      <td>NaN</td>\n",
       "      <td>NaN</td>\n",
       "    </tr>\n",
       "    <tr>\n",
       "      <th>1997-05-21</th>\n",
       "      <td>1.635417</td>\n",
       "      <td>1.645833</td>\n",
       "      <td>1.375000</td>\n",
       "      <td>1.427083</td>\n",
       "      <td>1.427083</td>\n",
       "      <td>18853200</td>\n",
       "      <td>NaN</td>\n",
       "      <td>NaN</td>\n",
       "      <td>NaN</td>\n",
       "    </tr>\n",
       "  </tbody>\n",
       "</table>\n",
       "</div>"
      ],
      "text/plain": [
       "                Open      High       Low     Close  Adj Close    Volume  \\\n",
       "Date                                                                      \n",
       "1997-05-15  2.437500  2.500000  1.927083  1.958333   1.958333  72156000   \n",
       "1997-05-16  1.968750  1.979167  1.708333  1.729167   1.729167  14700000   \n",
       "1997-05-19  1.760417  1.770833  1.625000  1.708333   1.708333   6106800   \n",
       "1997-05-20  1.729167  1.750000  1.635417  1.635417   1.635417   5467200   \n",
       "1997-05-21  1.635417  1.645833  1.375000  1.427083   1.427083  18853200   \n",
       "\n",
       "            10_ac_ma  20_ac_ma  50_ac_ma  \n",
       "Date                                      \n",
       "1997-05-15       NaN       NaN       NaN  \n",
       "1997-05-16       NaN       NaN       NaN  \n",
       "1997-05-19       NaN       NaN       NaN  \n",
       "1997-05-20       NaN       NaN       NaN  \n",
       "1997-05-21       NaN       NaN       NaN  "
      ]
     },
     "execution_count": 87,
     "metadata": {},
     "output_type": "execute_result"
    }
   ],
   "source": [
    "df_amzn_train.head()"
   ]
  },
  {
   "cell_type": "code",
   "execution_count": 88,
   "id": "polish-calculator",
   "metadata": {},
   "outputs": [
    {
     "data": {
      "text/html": [
       "<div>\n",
       "<style scoped>\n",
       "    .dataframe tbody tr th:only-of-type {\n",
       "        vertical-align: middle;\n",
       "    }\n",
       "\n",
       "    .dataframe tbody tr th {\n",
       "        vertical-align: top;\n",
       "    }\n",
       "\n",
       "    .dataframe thead th {\n",
       "        text-align: right;\n",
       "    }\n",
       "</style>\n",
       "<table border=\"1\" class=\"dataframe\">\n",
       "  <thead>\n",
       "    <tr style=\"text-align: right;\">\n",
       "      <th></th>\n",
       "      <th>Open</th>\n",
       "      <th>High</th>\n",
       "      <th>Low</th>\n",
       "      <th>Close</th>\n",
       "      <th>Adj Close</th>\n",
       "      <th>Volume</th>\n",
       "      <th>10_ac_ma</th>\n",
       "      <th>20_ac_ma</th>\n",
       "      <th>50_ac_ma</th>\n",
       "    </tr>\n",
       "    <tr>\n",
       "      <th>Date</th>\n",
       "      <th></th>\n",
       "      <th></th>\n",
       "      <th></th>\n",
       "      <th></th>\n",
       "      <th></th>\n",
       "      <th></th>\n",
       "      <th></th>\n",
       "      <th></th>\n",
       "      <th></th>\n",
       "    </tr>\n",
       "  </thead>\n",
       "  <tbody>\n",
       "    <tr>\n",
       "      <th>2018-10-10</th>\n",
       "      <td>1857.890015</td>\n",
       "      <td>1858.560059</td>\n",
       "      <td>1754.410034</td>\n",
       "      <td>1755.250000</td>\n",
       "      <td>1755.250000</td>\n",
       "      <td>10988900</td>\n",
       "      <td>NaN</td>\n",
       "      <td>NaN</td>\n",
       "      <td>NaN</td>\n",
       "    </tr>\n",
       "    <tr>\n",
       "      <th>2018-10-11</th>\n",
       "      <td>1724.000000</td>\n",
       "      <td>1755.400024</td>\n",
       "      <td>1685.099976</td>\n",
       "      <td>1719.359985</td>\n",
       "      <td>1719.359985</td>\n",
       "      <td>13935900</td>\n",
       "      <td>NaN</td>\n",
       "      <td>NaN</td>\n",
       "      <td>NaN</td>\n",
       "    </tr>\n",
       "    <tr>\n",
       "      <th>2018-10-12</th>\n",
       "      <td>1808.000000</td>\n",
       "      <td>1808.949951</td>\n",
       "      <td>1742.530029</td>\n",
       "      <td>1788.609985</td>\n",
       "      <td>1788.609985</td>\n",
       "      <td>9444600</td>\n",
       "      <td>NaN</td>\n",
       "      <td>NaN</td>\n",
       "      <td>NaN</td>\n",
       "    </tr>\n",
       "    <tr>\n",
       "      <th>2018-10-15</th>\n",
       "      <td>1795.000000</td>\n",
       "      <td>1795.050049</td>\n",
       "      <td>1734.229980</td>\n",
       "      <td>1760.949951</td>\n",
       "      <td>1760.949951</td>\n",
       "      <td>6437200</td>\n",
       "      <td>NaN</td>\n",
       "      <td>NaN</td>\n",
       "      <td>NaN</td>\n",
       "    </tr>\n",
       "    <tr>\n",
       "      <th>2018-10-16</th>\n",
       "      <td>1783.500000</td>\n",
       "      <td>1823.880005</td>\n",
       "      <td>1761.550049</td>\n",
       "      <td>1819.959961</td>\n",
       "      <td>1819.959961</td>\n",
       "      <td>5859900</td>\n",
       "      <td>NaN</td>\n",
       "      <td>NaN</td>\n",
       "      <td>NaN</td>\n",
       "    </tr>\n",
       "  </tbody>\n",
       "</table>\n",
       "</div>"
      ],
      "text/plain": [
       "                   Open         High          Low        Close    Adj Close  \\\n",
       "Date                                                                          \n",
       "2018-10-10  1857.890015  1858.560059  1754.410034  1755.250000  1755.250000   \n",
       "2018-10-11  1724.000000  1755.400024  1685.099976  1719.359985  1719.359985   \n",
       "2018-10-12  1808.000000  1808.949951  1742.530029  1788.609985  1788.609985   \n",
       "2018-10-15  1795.000000  1795.050049  1734.229980  1760.949951  1760.949951   \n",
       "2018-10-16  1783.500000  1823.880005  1761.550049  1819.959961  1819.959961   \n",
       "\n",
       "              Volume  10_ac_ma  20_ac_ma  50_ac_ma  \n",
       "Date                                                \n",
       "2018-10-10  10988900       NaN       NaN       NaN  \n",
       "2018-10-11  13935900       NaN       NaN       NaN  \n",
       "2018-10-12   9444600       NaN       NaN       NaN  \n",
       "2018-10-15   6437200       NaN       NaN       NaN  \n",
       "2018-10-16   5859900       NaN       NaN       NaN  "
      ]
     },
     "execution_count": 88,
     "metadata": {},
     "output_type": "execute_result"
    }
   ],
   "source": [
    "df_amzn_test.head()"
   ]
  },
  {
   "cell_type": "code",
   "execution_count": 89,
   "id": "regulated-spencer",
   "metadata": {},
   "outputs": [
    {
     "data": {
      "text/html": [
       "<div>\n",
       "<style scoped>\n",
       "    .dataframe tbody tr th:only-of-type {\n",
       "        vertical-align: middle;\n",
       "    }\n",
       "\n",
       "    .dataframe tbody tr th {\n",
       "        vertical-align: top;\n",
       "    }\n",
       "\n",
       "    .dataframe thead th {\n",
       "        text-align: right;\n",
       "    }\n",
       "</style>\n",
       "<table border=\"1\" class=\"dataframe\">\n",
       "  <thead>\n",
       "    <tr style=\"text-align: right;\">\n",
       "      <th></th>\n",
       "      <th>Open</th>\n",
       "      <th>High</th>\n",
       "      <th>Low</th>\n",
       "      <th>Close</th>\n",
       "      <th>Adj Close</th>\n",
       "      <th>Volume</th>\n",
       "      <th>10_ac_ma</th>\n",
       "      <th>20_ac_ma</th>\n",
       "      <th>50_ac_ma</th>\n",
       "    </tr>\n",
       "    <tr>\n",
       "      <th>Date</th>\n",
       "      <th></th>\n",
       "      <th></th>\n",
       "      <th></th>\n",
       "      <th></th>\n",
       "      <th></th>\n",
       "      <th></th>\n",
       "      <th></th>\n",
       "      <th></th>\n",
       "      <th></th>\n",
       "    </tr>\n",
       "  </thead>\n",
       "  <tbody>\n",
       "    <tr>\n",
       "      <th>2020-09-03</th>\n",
       "      <td>3485.000000</td>\n",
       "      <td>3488.409912</td>\n",
       "      <td>3303.000000</td>\n",
       "      <td>3368.000000</td>\n",
       "      <td>3368.000000</td>\n",
       "      <td>8161100</td>\n",
       "      <td>NaN</td>\n",
       "      <td>NaN</td>\n",
       "      <td>NaN</td>\n",
       "    </tr>\n",
       "    <tr>\n",
       "      <th>2020-09-04</th>\n",
       "      <td>3318.000000</td>\n",
       "      <td>3381.500000</td>\n",
       "      <td>3111.129883</td>\n",
       "      <td>3294.620117</td>\n",
       "      <td>3294.620117</td>\n",
       "      <td>8781800</td>\n",
       "      <td>NaN</td>\n",
       "      <td>NaN</td>\n",
       "      <td>NaN</td>\n",
       "    </tr>\n",
       "    <tr>\n",
       "      <th>2020-09-08</th>\n",
       "      <td>3144.000000</td>\n",
       "      <td>3250.850098</td>\n",
       "      <td>3130.000000</td>\n",
       "      <td>3149.840088</td>\n",
       "      <td>3149.840088</td>\n",
       "      <td>6094200</td>\n",
       "      <td>NaN</td>\n",
       "      <td>NaN</td>\n",
       "      <td>NaN</td>\n",
       "    </tr>\n",
       "    <tr>\n",
       "      <th>2020-09-09</th>\n",
       "      <td>3202.989990</td>\n",
       "      <td>3303.179932</td>\n",
       "      <td>3185.000000</td>\n",
       "      <td>3268.610107</td>\n",
       "      <td>3268.610107</td>\n",
       "      <td>5188700</td>\n",
       "      <td>NaN</td>\n",
       "      <td>NaN</td>\n",
       "      <td>NaN</td>\n",
       "    </tr>\n",
       "    <tr>\n",
       "      <th>2020-09-10</th>\n",
       "      <td>3307.219971</td>\n",
       "      <td>3349.889893</td>\n",
       "      <td>3170.550049</td>\n",
       "      <td>3175.110107</td>\n",
       "      <td>3175.110107</td>\n",
       "      <td>5330700</td>\n",
       "      <td>NaN</td>\n",
       "      <td>NaN</td>\n",
       "      <td>NaN</td>\n",
       "    </tr>\n",
       "  </tbody>\n",
       "</table>\n",
       "</div>"
      ],
      "text/plain": [
       "                   Open         High          Low        Close    Adj Close  \\\n",
       "Date                                                                          \n",
       "2020-09-03  3485.000000  3488.409912  3303.000000  3368.000000  3368.000000   \n",
       "2020-09-04  3318.000000  3381.500000  3111.129883  3294.620117  3294.620117   \n",
       "2020-09-08  3144.000000  3250.850098  3130.000000  3149.840088  3149.840088   \n",
       "2020-09-09  3202.989990  3303.179932  3185.000000  3268.610107  3268.610107   \n",
       "2020-09-10  3307.219971  3349.889893  3170.550049  3175.110107  3175.110107   \n",
       "\n",
       "             Volume  10_ac_ma  20_ac_ma  50_ac_ma  \n",
       "Date                                               \n",
       "2020-09-03  8161100       NaN       NaN       NaN  \n",
       "2020-09-04  8781800       NaN       NaN       NaN  \n",
       "2020-09-08  6094200       NaN       NaN       NaN  \n",
       "2020-09-09  5188700       NaN       NaN       NaN  \n",
       "2020-09-10  5330700       NaN       NaN       NaN  "
      ]
     },
     "execution_count": 89,
     "metadata": {},
     "output_type": "execute_result"
    }
   ],
   "source": [
    "df_amzn_valid.head()"
   ]
  },
  {
   "cell_type": "code",
   "execution_count": 90,
   "id": "severe-objective",
   "metadata": {},
   "outputs": [
    {
     "data": {
      "text/plain": [
       "<matplotlib.axes._subplots.AxesSubplot at 0x7ff8e43cf2b0>"
      ]
     },
     "execution_count": 90,
     "metadata": {},
     "output_type": "execute_result"
    },
    {
     "data": {
      "image/png": "[encoded data removed]",
      "text/plain": [
       "<Figure size 1080x360 with 1 Axes>"
      ]
     },
     "metadata": {
      "needs_background": "light"
     },
     "output_type": "display_data"
    }
   ],
   "source": [
    "df_amzn[start_date:end_date][['Adj Close', '10_ac_ma']].plot(legend=True,figsize=(15,5))"
   ]
  },
  {
   "cell_type": "markdown",
   "id": "dying-japanese",
   "metadata": {},
   "source": [
    "#### Alphabet Inc. stock moving averages"
   ]
  },
  {
   "cell_type": "code",
   "execution_count": 91,
   "id": "integrated-girlfriend",
   "metadata": {},
   "outputs": [],
   "source": [
    "# moving average sizes in days\n",
    "ma_d_sz = [10,20,50]\n",
    "\n",
    "# adding moving average columns to dataframe\n",
    "for mds in ma_d_sz:\n",
    "    column_name = \"%s_ac_ma\" %(str(mds))    \n",
    "    df_googl[column_name] = moving_average(df_googl['Adj Close'], window_size=mds)\n",
    "    df_googl_train[column_name] = moving_average(df_googl_train['Adj Close'], window_size=mds)\n",
    "    df_googl_test[column_name] = moving_average(df_googl_test['Adj Close'], window_size=mds)\n",
    "    df_googl_valid[column_name] = moving_average(df_googl_valid['Adj Close'], window_size=mds)"
   ]
  },
  {
   "cell_type": "code",
   "execution_count": 92,
   "id": "innovative-blend",
   "metadata": {},
   "outputs": [
    {
     "data": {
      "text/html": [
       "<div>\n",
       "<style scoped>\n",
       "    .dataframe tbody tr th:only-of-type {\n",
       "        vertical-align: middle;\n",
       "    }\n",
       "\n",
       "    .dataframe tbody tr th {\n",
       "        vertical-align: top;\n",
       "    }\n",
       "\n",
       "    .dataframe thead th {\n",
       "        text-align: right;\n",
       "    }\n",
       "</style>\n",
       "<table border=\"1\" class=\"dataframe\">\n",
       "  <thead>\n",
       "    <tr style=\"text-align: right;\">\n",
       "      <th></th>\n",
       "      <th>Open</th>\n",
       "      <th>High</th>\n",
       "      <th>Low</th>\n",
       "      <th>Close</th>\n",
       "      <th>Adj Close</th>\n",
       "      <th>Volume</th>\n",
       "      <th>10_ac_ma</th>\n",
       "      <th>20_ac_ma</th>\n",
       "      <th>50_ac_ma</th>\n",
       "    </tr>\n",
       "    <tr>\n",
       "      <th>Date</th>\n",
       "      <th></th>\n",
       "      <th></th>\n",
       "      <th></th>\n",
       "      <th></th>\n",
       "      <th></th>\n",
       "      <th></th>\n",
       "      <th></th>\n",
       "      <th></th>\n",
       "      <th></th>\n",
       "    </tr>\n",
       "  </thead>\n",
       "  <tbody>\n",
       "    <tr>\n",
       "      <th>2004-08-19</th>\n",
       "      <td>50.050049</td>\n",
       "      <td>52.082081</td>\n",
       "      <td>48.028027</td>\n",
       "      <td>50.220219</td>\n",
       "      <td>50.220219</td>\n",
       "      <td>44659096</td>\n",
       "      <td>NaN</td>\n",
       "      <td>NaN</td>\n",
       "      <td>NaN</td>\n",
       "    </tr>\n",
       "    <tr>\n",
       "      <th>2004-08-20</th>\n",
       "      <td>50.555557</td>\n",
       "      <td>54.594597</td>\n",
       "      <td>50.300301</td>\n",
       "      <td>54.209209</td>\n",
       "      <td>54.209209</td>\n",
       "      <td>22834343</td>\n",
       "      <td>NaN</td>\n",
       "      <td>NaN</td>\n",
       "      <td>NaN</td>\n",
       "    </tr>\n",
       "    <tr>\n",
       "      <th>2004-08-23</th>\n",
       "      <td>55.430431</td>\n",
       "      <td>56.796799</td>\n",
       "      <td>54.579578</td>\n",
       "      <td>54.754753</td>\n",
       "      <td>54.754753</td>\n",
       "      <td>18256126</td>\n",
       "      <td>NaN</td>\n",
       "      <td>NaN</td>\n",
       "      <td>NaN</td>\n",
       "    </tr>\n",
       "    <tr>\n",
       "      <th>2004-08-24</th>\n",
       "      <td>55.675674</td>\n",
       "      <td>55.855858</td>\n",
       "      <td>51.836838</td>\n",
       "      <td>52.487488</td>\n",
       "      <td>52.487488</td>\n",
       "      <td>15247337</td>\n",
       "      <td>NaN</td>\n",
       "      <td>NaN</td>\n",
       "      <td>NaN</td>\n",
       "    </tr>\n",
       "    <tr>\n",
       "      <th>2004-08-25</th>\n",
       "      <td>52.532532</td>\n",
       "      <td>54.054054</td>\n",
       "      <td>51.991993</td>\n",
       "      <td>53.053055</td>\n",
       "      <td>53.053055</td>\n",
       "      <td>9188602</td>\n",
       "      <td>NaN</td>\n",
       "      <td>NaN</td>\n",
       "      <td>NaN</td>\n",
       "    </tr>\n",
       "  </tbody>\n",
       "</table>\n",
       "</div>"
      ],
      "text/plain": [
       "                 Open       High        Low      Close  Adj Close    Volume  \\\n",
       "Date                                                                          \n",
       "2004-08-19  50.050049  52.082081  48.028027  50.220219  50.220219  44659096   \n",
       "2004-08-20  50.555557  54.594597  50.300301  54.209209  54.209209  22834343   \n",
       "2004-08-23  55.430431  56.796799  54.579578  54.754753  54.754753  18256126   \n",
       "2004-08-24  55.675674  55.855858  51.836838  52.487488  52.487488  15247337   \n",
       "2004-08-25  52.532532  54.054054  51.991993  53.053055  53.053055   9188602   \n",
       "\n",
       "            10_ac_ma  20_ac_ma  50_ac_ma  \n",
       "Date                                      \n",
       "2004-08-19       NaN       NaN       NaN  \n",
       "2004-08-20       NaN       NaN       NaN  \n",
       "2004-08-23       NaN       NaN       NaN  \n",
       "2004-08-24       NaN       NaN       NaN  \n",
       "2004-08-25       NaN       NaN       NaN  "
      ]
     },
     "execution_count": 92,
     "metadata": {},
     "output_type": "execute_result"
    }
   ],
   "source": [
    "df_googl.head()"
   ]
  },
  {
   "cell_type": "markdown",
   "id": "canadian-stuff",
   "metadata": {},
   "source": [
    "Moving average feature is empty for the first *n* days, where *n* is the window size, so I'll use some backfill to fill NaN values"
   ]
  },
  {
   "cell_type": "code",
   "execution_count": 93,
   "id": "liberal-singles",
   "metadata": {},
   "outputs": [],
   "source": [
    "df_googl.fillna(method='backfill', inplace=True)"
   ]
  },
  {
   "cell_type": "code",
   "execution_count": 94,
   "id": "connected-victory",
   "metadata": {},
   "outputs": [
    {
     "data": {
      "text/html": [
       "<div>\n",
       "<style scoped>\n",
       "    .dataframe tbody tr th:only-of-type {\n",
       "        vertical-align: middle;\n",
       "    }\n",
       "\n",
       "    .dataframe tbody tr th {\n",
       "        vertical-align: top;\n",
       "    }\n",
       "\n",
       "    .dataframe thead th {\n",
       "        text-align: right;\n",
       "    }\n",
       "</style>\n",
       "<table border=\"1\" class=\"dataframe\">\n",
       "  <thead>\n",
       "    <tr style=\"text-align: right;\">\n",
       "      <th></th>\n",
       "      <th>Open</th>\n",
       "      <th>High</th>\n",
       "      <th>Low</th>\n",
       "      <th>Close</th>\n",
       "      <th>Adj Close</th>\n",
       "      <th>Volume</th>\n",
       "      <th>10_ac_ma</th>\n",
       "      <th>20_ac_ma</th>\n",
       "      <th>50_ac_ma</th>\n",
       "    </tr>\n",
       "    <tr>\n",
       "      <th>Date</th>\n",
       "      <th></th>\n",
       "      <th></th>\n",
       "      <th></th>\n",
       "      <th></th>\n",
       "      <th></th>\n",
       "      <th></th>\n",
       "      <th></th>\n",
       "      <th></th>\n",
       "      <th></th>\n",
       "    </tr>\n",
       "  </thead>\n",
       "  <tbody>\n",
       "    <tr>\n",
       "      <th>2004-08-19</th>\n",
       "      <td>50.050049</td>\n",
       "      <td>52.082081</td>\n",
       "      <td>48.028027</td>\n",
       "      <td>50.220219</td>\n",
       "      <td>50.220219</td>\n",
       "      <td>44659096</td>\n",
       "      <td>52.432933</td>\n",
       "      <td>52.692943</td>\n",
       "      <td>63.586987</td>\n",
       "    </tr>\n",
       "    <tr>\n",
       "      <th>2004-08-20</th>\n",
       "      <td>50.555557</td>\n",
       "      <td>54.594597</td>\n",
       "      <td>50.300301</td>\n",
       "      <td>54.209209</td>\n",
       "      <td>54.209209</td>\n",
       "      <td>22834343</td>\n",
       "      <td>52.432933</td>\n",
       "      <td>52.692943</td>\n",
       "      <td>63.586987</td>\n",
       "    </tr>\n",
       "    <tr>\n",
       "      <th>2004-08-23</th>\n",
       "      <td>55.430431</td>\n",
       "      <td>56.796799</td>\n",
       "      <td>54.579578</td>\n",
       "      <td>54.754753</td>\n",
       "      <td>54.754753</td>\n",
       "      <td>18256126</td>\n",
       "      <td>52.432933</td>\n",
       "      <td>52.692943</td>\n",
       "      <td>63.586987</td>\n",
       "    </tr>\n",
       "    <tr>\n",
       "      <th>2004-08-24</th>\n",
       "      <td>55.675674</td>\n",
       "      <td>55.855858</td>\n",
       "      <td>51.836838</td>\n",
       "      <td>52.487488</td>\n",
       "      <td>52.487488</td>\n",
       "      <td>15247337</td>\n",
       "      <td>52.432933</td>\n",
       "      <td>52.692943</td>\n",
       "      <td>63.586987</td>\n",
       "    </tr>\n",
       "    <tr>\n",
       "      <th>2004-08-25</th>\n",
       "      <td>52.532532</td>\n",
       "      <td>54.054054</td>\n",
       "      <td>51.991993</td>\n",
       "      <td>53.053055</td>\n",
       "      <td>53.053055</td>\n",
       "      <td>9188602</td>\n",
       "      <td>52.432933</td>\n",
       "      <td>52.692943</td>\n",
       "      <td>63.586987</td>\n",
       "    </tr>\n",
       "  </tbody>\n",
       "</table>\n",
       "</div>"
      ],
      "text/plain": [
       "                 Open       High        Low      Close  Adj Close    Volume  \\\n",
       "Date                                                                          \n",
       "2004-08-19  50.050049  52.082081  48.028027  50.220219  50.220219  44659096   \n",
       "2004-08-20  50.555557  54.594597  50.300301  54.209209  54.209209  22834343   \n",
       "2004-08-23  55.430431  56.796799  54.579578  54.754753  54.754753  18256126   \n",
       "2004-08-24  55.675674  55.855858  51.836838  52.487488  52.487488  15247337   \n",
       "2004-08-25  52.532532  54.054054  51.991993  53.053055  53.053055   9188602   \n",
       "\n",
       "             10_ac_ma   20_ac_ma   50_ac_ma  \n",
       "Date                                         \n",
       "2004-08-19  52.432933  52.692943  63.586987  \n",
       "2004-08-20  52.432933  52.692943  63.586987  \n",
       "2004-08-23  52.432933  52.692943  63.586987  \n",
       "2004-08-24  52.432933  52.692943  63.586987  \n",
       "2004-08-25  52.432933  52.692943  63.586987  "
      ]
     },
     "execution_count": 94,
     "metadata": {},
     "output_type": "execute_result"
    }
   ],
   "source": [
    "df_googl.head()"
   ]
  },
  {
   "cell_type": "code",
   "execution_count": 95,
   "id": "normal-brunei",
   "metadata": {},
   "outputs": [
    {
     "data": {
      "text/html": [
       "<div>\n",
       "<style scoped>\n",
       "    .dataframe tbody tr th:only-of-type {\n",
       "        vertical-align: middle;\n",
       "    }\n",
       "\n",
       "    .dataframe tbody tr th {\n",
       "        vertical-align: top;\n",
       "    }\n",
       "\n",
       "    .dataframe thead th {\n",
       "        text-align: right;\n",
       "    }\n",
       "</style>\n",
       "<table border=\"1\" class=\"dataframe\">\n",
       "  <thead>\n",
       "    <tr style=\"text-align: right;\">\n",
       "      <th></th>\n",
       "      <th>Open</th>\n",
       "      <th>High</th>\n",
       "      <th>Low</th>\n",
       "      <th>Close</th>\n",
       "      <th>Adj Close</th>\n",
       "      <th>Volume</th>\n",
       "      <th>10_ac_ma</th>\n",
       "      <th>20_ac_ma</th>\n",
       "      <th>50_ac_ma</th>\n",
       "    </tr>\n",
       "    <tr>\n",
       "      <th>Date</th>\n",
       "      <th></th>\n",
       "      <th></th>\n",
       "      <th></th>\n",
       "      <th></th>\n",
       "      <th></th>\n",
       "      <th></th>\n",
       "      <th></th>\n",
       "      <th></th>\n",
       "      <th></th>\n",
       "    </tr>\n",
       "  </thead>\n",
       "  <tbody>\n",
       "    <tr>\n",
       "      <th>2004-08-19</th>\n",
       "      <td>50.050049</td>\n",
       "      <td>52.082081</td>\n",
       "      <td>48.028027</td>\n",
       "      <td>50.220219</td>\n",
       "      <td>50.220219</td>\n",
       "      <td>44659096</td>\n",
       "      <td>NaN</td>\n",
       "      <td>NaN</td>\n",
       "      <td>NaN</td>\n",
       "    </tr>\n",
       "    <tr>\n",
       "      <th>2004-08-20</th>\n",
       "      <td>50.555557</td>\n",
       "      <td>54.594597</td>\n",
       "      <td>50.300301</td>\n",
       "      <td>54.209209</td>\n",
       "      <td>54.209209</td>\n",
       "      <td>22834343</td>\n",
       "      <td>NaN</td>\n",
       "      <td>NaN</td>\n",
       "      <td>NaN</td>\n",
       "    </tr>\n",
       "    <tr>\n",
       "      <th>2004-08-23</th>\n",
       "      <td>55.430431</td>\n",
       "      <td>56.796799</td>\n",
       "      <td>54.579578</td>\n",
       "      <td>54.754753</td>\n",
       "      <td>54.754753</td>\n",
       "      <td>18256126</td>\n",
       "      <td>NaN</td>\n",
       "      <td>NaN</td>\n",
       "      <td>NaN</td>\n",
       "    </tr>\n",
       "    <tr>\n",
       "      <th>2004-08-24</th>\n",
       "      <td>55.675674</td>\n",
       "      <td>55.855858</td>\n",
       "      <td>51.836838</td>\n",
       "      <td>52.487488</td>\n",
       "      <td>52.487488</td>\n",
       "      <td>15247337</td>\n",
       "      <td>NaN</td>\n",
       "      <td>NaN</td>\n",
       "      <td>NaN</td>\n",
       "    </tr>\n",
       "    <tr>\n",
       "      <th>2004-08-25</th>\n",
       "      <td>52.532532</td>\n",
       "      <td>54.054054</td>\n",
       "      <td>51.991993</td>\n",
       "      <td>53.053055</td>\n",
       "      <td>53.053055</td>\n",
       "      <td>9188602</td>\n",
       "      <td>NaN</td>\n",
       "      <td>NaN</td>\n",
       "      <td>NaN</td>\n",
       "    </tr>\n",
       "  </tbody>\n",
       "</table>\n",
       "</div>"
      ],
      "text/plain": [
       "                 Open       High        Low      Close  Adj Close    Volume  \\\n",
       "Date                                                                          \n",
       "2004-08-19  50.050049  52.082081  48.028027  50.220219  50.220219  44659096   \n",
       "2004-08-20  50.555557  54.594597  50.300301  54.209209  54.209209  22834343   \n",
       "2004-08-23  55.430431  56.796799  54.579578  54.754753  54.754753  18256126   \n",
       "2004-08-24  55.675674  55.855858  51.836838  52.487488  52.487488  15247337   \n",
       "2004-08-25  52.532532  54.054054  51.991993  53.053055  53.053055   9188602   \n",
       "\n",
       "            10_ac_ma  20_ac_ma  50_ac_ma  \n",
       "Date                                      \n",
       "2004-08-19       NaN       NaN       NaN  \n",
       "2004-08-20       NaN       NaN       NaN  \n",
       "2004-08-23       NaN       NaN       NaN  \n",
       "2004-08-24       NaN       NaN       NaN  \n",
       "2004-08-25       NaN       NaN       NaN  "
      ]
     },
     "execution_count": 95,
     "metadata": {},
     "output_type": "execute_result"
    }
   ],
   "source": [
    "df_googl_train.head()"
   ]
  },
  {
   "cell_type": "code",
   "execution_count": 96,
   "id": "supposed-killer",
   "metadata": {},
   "outputs": [
    {
     "data": {
      "text/html": [
       "<div>\n",
       "<style scoped>\n",
       "    .dataframe tbody tr th:only-of-type {\n",
       "        vertical-align: middle;\n",
       "    }\n",
       "\n",
       "    .dataframe tbody tr th {\n",
       "        vertical-align: top;\n",
       "    }\n",
       "\n",
       "    .dataframe thead th {\n",
       "        text-align: right;\n",
       "    }\n",
       "</style>\n",
       "<table border=\"1\" class=\"dataframe\">\n",
       "  <thead>\n",
       "    <tr style=\"text-align: right;\">\n",
       "      <th></th>\n",
       "      <th>Open</th>\n",
       "      <th>High</th>\n",
       "      <th>Low</th>\n",
       "      <th>Close</th>\n",
       "      <th>Adj Close</th>\n",
       "      <th>Volume</th>\n",
       "      <th>10_ac_ma</th>\n",
       "      <th>20_ac_ma</th>\n",
       "      <th>50_ac_ma</th>\n",
       "    </tr>\n",
       "    <tr>\n",
       "      <th>Date</th>\n",
       "      <th></th>\n",
       "      <th></th>\n",
       "      <th></th>\n",
       "      <th></th>\n",
       "      <th></th>\n",
       "      <th></th>\n",
       "      <th></th>\n",
       "      <th></th>\n",
       "      <th></th>\n",
       "    </tr>\n",
       "  </thead>\n",
       "  <tbody>\n",
       "    <tr>\n",
       "      <th>2019-07-05</th>\n",
       "      <td>1119.369995</td>\n",
       "      <td>1134.650024</td>\n",
       "      <td>1117.500000</td>\n",
       "      <td>1132.670044</td>\n",
       "      <td>1132.670044</td>\n",
       "      <td>1489700</td>\n",
       "      <td>NaN</td>\n",
       "      <td>NaN</td>\n",
       "      <td>NaN</td>\n",
       "    </tr>\n",
       "    <tr>\n",
       "      <th>2019-07-08</th>\n",
       "      <td>1125.869995</td>\n",
       "      <td>1127.209961</td>\n",
       "      <td>1111.760010</td>\n",
       "      <td>1116.790039</td>\n",
       "      <td>1116.790039</td>\n",
       "      <td>1494400</td>\n",
       "      <td>NaN</td>\n",
       "      <td>NaN</td>\n",
       "      <td>NaN</td>\n",
       "    </tr>\n",
       "    <tr>\n",
       "      <th>2019-07-09</th>\n",
       "      <td>1110.319946</td>\n",
       "      <td>1127.859985</td>\n",
       "      <td>1107.150024</td>\n",
       "      <td>1124.290039</td>\n",
       "      <td>1124.290039</td>\n",
       "      <td>1473600</td>\n",
       "      <td>NaN</td>\n",
       "      <td>NaN</td>\n",
       "      <td>NaN</td>\n",
       "    </tr>\n",
       "    <tr>\n",
       "      <th>2019-07-10</th>\n",
       "      <td>1132.319946</td>\n",
       "      <td>1142.339966</td>\n",
       "      <td>1130.660034</td>\n",
       "      <td>1140.910034</td>\n",
       "      <td>1140.910034</td>\n",
       "      <td>1535500</td>\n",
       "      <td>NaN</td>\n",
       "      <td>NaN</td>\n",
       "      <td>NaN</td>\n",
       "    </tr>\n",
       "    <tr>\n",
       "      <th>2019-07-11</th>\n",
       "      <td>1146.160034</td>\n",
       "      <td>1153.239990</td>\n",
       "      <td>1139.530029</td>\n",
       "      <td>1144.079956</td>\n",
       "      <td>1144.079956</td>\n",
       "      <td>1300200</td>\n",
       "      <td>NaN</td>\n",
       "      <td>NaN</td>\n",
       "      <td>NaN</td>\n",
       "    </tr>\n",
       "  </tbody>\n",
       "</table>\n",
       "</div>"
      ],
      "text/plain": [
       "                   Open         High          Low        Close    Adj Close  \\\n",
       "Date                                                                          \n",
       "2019-07-05  1119.369995  1134.650024  1117.500000  1132.670044  1132.670044   \n",
       "2019-07-08  1125.869995  1127.209961  1111.760010  1116.790039  1116.790039   \n",
       "2019-07-09  1110.319946  1127.859985  1107.150024  1124.290039  1124.290039   \n",
       "2019-07-10  1132.319946  1142.339966  1130.660034  1140.910034  1140.910034   \n",
       "2019-07-11  1146.160034  1153.239990  1139.530029  1144.079956  1144.079956   \n",
       "\n",
       "             Volume  10_ac_ma  20_ac_ma  50_ac_ma  \n",
       "Date                                               \n",
       "2019-07-05  1489700       NaN       NaN       NaN  \n",
       "2019-07-08  1494400       NaN       NaN       NaN  \n",
       "2019-07-09  1473600       NaN       NaN       NaN  \n",
       "2019-07-10  1535500       NaN       NaN       NaN  \n",
       "2019-07-11  1300200       NaN       NaN       NaN  "
      ]
     },
     "execution_count": 96,
     "metadata": {},
     "output_type": "execute_result"
    }
   ],
   "source": [
    "df_googl_test.head()"
   ]
  },
  {
   "cell_type": "code",
   "execution_count": 97,
   "id": "spoken-skiing",
   "metadata": {},
   "outputs": [
    {
     "data": {
      "text/html": [
       "<div>\n",
       "<style scoped>\n",
       "    .dataframe tbody tr th:only-of-type {\n",
       "        vertical-align: middle;\n",
       "    }\n",
       "\n",
       "    .dataframe tbody tr th {\n",
       "        vertical-align: top;\n",
       "    }\n",
       "\n",
       "    .dataframe thead th {\n",
       "        text-align: right;\n",
       "    }\n",
       "</style>\n",
       "<table border=\"1\" class=\"dataframe\">\n",
       "  <thead>\n",
       "    <tr style=\"text-align: right;\">\n",
       "      <th></th>\n",
       "      <th>Open</th>\n",
       "      <th>High</th>\n",
       "      <th>Low</th>\n",
       "      <th>Close</th>\n",
       "      <th>Adj Close</th>\n",
       "      <th>Volume</th>\n",
       "      <th>10_ac_ma</th>\n",
       "      <th>20_ac_ma</th>\n",
       "      <th>50_ac_ma</th>\n",
       "    </tr>\n",
       "    <tr>\n",
       "      <th>Date</th>\n",
       "      <th></th>\n",
       "      <th></th>\n",
       "      <th></th>\n",
       "      <th></th>\n",
       "      <th></th>\n",
       "      <th></th>\n",
       "      <th></th>\n",
       "      <th></th>\n",
       "      <th></th>\n",
       "    </tr>\n",
       "  </thead>\n",
       "  <tbody>\n",
       "    <tr>\n",
       "      <th>2020-10-27</th>\n",
       "      <td>1588.930054</td>\n",
       "      <td>1602.000000</td>\n",
       "      <td>1576.989990</td>\n",
       "      <td>1598.880005</td>\n",
       "      <td>1598.880005</td>\n",
       "      <td>1295100</td>\n",
       "      <td>NaN</td>\n",
       "      <td>NaN</td>\n",
       "      <td>NaN</td>\n",
       "    </tr>\n",
       "    <tr>\n",
       "      <th>2020-10-28</th>\n",
       "      <td>1550.010010</td>\n",
       "      <td>1553.810059</td>\n",
       "      <td>1508.479980</td>\n",
       "      <td>1510.800049</td>\n",
       "      <td>1510.800049</td>\n",
       "      <td>2258700</td>\n",
       "      <td>NaN</td>\n",
       "      <td>NaN</td>\n",
       "      <td>NaN</td>\n",
       "    </tr>\n",
       "    <tr>\n",
       "      <th>2020-10-29</th>\n",
       "      <td>1517.020020</td>\n",
       "      <td>1588.739990</td>\n",
       "      <td>1516.550049</td>\n",
       "      <td>1556.880005</td>\n",
       "      <td>1556.880005</td>\n",
       "      <td>2770300</td>\n",
       "      <td>NaN</td>\n",
       "      <td>NaN</td>\n",
       "      <td>NaN</td>\n",
       "    </tr>\n",
       "    <tr>\n",
       "      <th>2020-10-30</th>\n",
       "      <td>1667.439941</td>\n",
       "      <td>1681.319946</td>\n",
       "      <td>1601.569946</td>\n",
       "      <td>1616.109985</td>\n",
       "      <td>1616.109985</td>\n",
       "      <td>4993900</td>\n",
       "      <td>NaN</td>\n",
       "      <td>NaN</td>\n",
       "      <td>NaN</td>\n",
       "    </tr>\n",
       "    <tr>\n",
       "      <th>2020-11-02</th>\n",
       "      <td>1623.540039</td>\n",
       "      <td>1658.239990</td>\n",
       "      <td>1614.239990</td>\n",
       "      <td>1624.319946</td>\n",
       "      <td>1624.319946</td>\n",
       "      <td>2211400</td>\n",
       "      <td>NaN</td>\n",
       "      <td>NaN</td>\n",
       "      <td>NaN</td>\n",
       "    </tr>\n",
       "  </tbody>\n",
       "</table>\n",
       "</div>"
      ],
      "text/plain": [
       "                   Open         High          Low        Close    Adj Close  \\\n",
       "Date                                                                          \n",
       "2020-10-27  1588.930054  1602.000000  1576.989990  1598.880005  1598.880005   \n",
       "2020-10-28  1550.010010  1553.810059  1508.479980  1510.800049  1510.800049   \n",
       "2020-10-29  1517.020020  1588.739990  1516.550049  1556.880005  1556.880005   \n",
       "2020-10-30  1667.439941  1681.319946  1601.569946  1616.109985  1616.109985   \n",
       "2020-11-02  1623.540039  1658.239990  1614.239990  1624.319946  1624.319946   \n",
       "\n",
       "             Volume  10_ac_ma  20_ac_ma  50_ac_ma  \n",
       "Date                                               \n",
       "2020-10-27  1295100       NaN       NaN       NaN  \n",
       "2020-10-28  2258700       NaN       NaN       NaN  \n",
       "2020-10-29  2770300       NaN       NaN       NaN  \n",
       "2020-10-30  4993900       NaN       NaN       NaN  \n",
       "2020-11-02  2211400       NaN       NaN       NaN  "
      ]
     },
     "execution_count": 97,
     "metadata": {},
     "output_type": "execute_result"
    }
   ],
   "source": [
    "df_googl_valid.head()"
   ]
  },
  {
   "cell_type": "code",
   "execution_count": 98,
   "id": "dying-orientation",
   "metadata": {},
   "outputs": [
    {
     "data": {
      "text/plain": [
       "<matplotlib.axes._subplots.AxesSubplot at 0x7ff8e43dac18>"
      ]
     },
     "execution_count": 98,
     "metadata": {},
     "output_type": "execute_result"
    },
    {
     "data": {
      "image/png": "[encoded data removed]",
      "text/plain": [
       "<Figure size 1080x360 with 1 Axes>"
      ]
     },
     "metadata": {
      "needs_background": "light"
     },
     "output_type": "display_data"
    }
   ],
   "source": [
    "df_googl[analysis_start_date:end][['Adj Close', '20_ac_ma']].plot(legend=True,figsize=(15,5))"
   ]
  },
  {
   "cell_type": "markdown",
   "id": "nominated-tampa",
   "metadata": {},
   "source": [
    "### Metrics computation"
   ]
  },
  {
   "cell_type": "markdown",
   "id": "excellent-favor",
   "metadata": {},
   "source": [
    "Computing metrics on the benchmark model will give me a good reference to evaluate the deep learning model after training."
   ]
  },
  {
   "cell_type": "markdown",
   "id": "recorded-sullivan",
   "metadata": {},
   "source": [
    "As can be presumed and seen from data prints, first `n` values of validation data are `NaN` so, it will be better just to exclude the first `n-1` values from the validation set to avoid misleading values to be catch in metrics evaluation. "
   ]
  },
  {
   "cell_type": "code",
   "execution_count": 99,
   "id": "intense-muslim",
   "metadata": {},
   "outputs": [],
   "source": [
    "from sklearn.metrics import mean_squared_error"
   ]
  },
  {
   "cell_type": "markdown",
   "id": "biological-oregon",
   "metadata": {},
   "source": [
    "#### IBM stock"
   ]
  },
  {
   "cell_type": "code",
   "execution_count": 100,
   "id": "advised-index",
   "metadata": {},
   "outputs": [],
   "source": [
    "n = 10\n",
    "ma_str = str(n)+'_ac_ma'"
   ]
  },
  {
   "cell_type": "code",
   "execution_count": 101,
   "id": "geological-wallet",
   "metadata": {},
   "outputs": [],
   "source": [
    "ibm_ma_mse_loss = mean_squared_error(df_ibm_valid.iloc[n-1:]['Adj Close'], df_ibm_valid.iloc[n-1:][ma_str])"
   ]
  },
  {
   "cell_type": "code",
   "execution_count": 102,
   "id": "banner-interest",
   "metadata": {},
   "outputs": [
    {
     "name": "stdout",
     "output_type": "stream",
     "text": [
      "20.912794899011942\n"
     ]
    }
   ],
   "source": [
    "print(ibm_ma_mse_loss)"
   ]
  },
  {
   "cell_type": "code",
   "execution_count": 103,
   "id": "fiscal-gossip",
   "metadata": {},
   "outputs": [],
   "source": [
    "n = 20\n",
    "ma_str = str(n)+'_ac_ma'"
   ]
  },
  {
   "cell_type": "code",
   "execution_count": 104,
   "id": "hundred-pendant",
   "metadata": {},
   "outputs": [],
   "source": [
    "ibm_ma_mse_loss = mean_squared_error(df_ibm_valid.iloc[n-1:]['Adj Close'], df_ibm_valid[n-1:][ma_str])"
   ]
  },
  {
   "cell_type": "code",
   "execution_count": 105,
   "id": "conceptual-method",
   "metadata": {},
   "outputs": [
    {
     "name": "stdout",
     "output_type": "stream",
     "text": [
      "50.55442234983256\n"
     ]
    }
   ],
   "source": [
    "print(ibm_ma_mse_loss)"
   ]
  },
  {
   "cell_type": "code",
   "execution_count": 106,
   "id": "statistical-james",
   "metadata": {},
   "outputs": [],
   "source": [
    "n = 50\n",
    "ma_str = str(n)+'_ac_ma'"
   ]
  },
  {
   "cell_type": "code",
   "execution_count": 107,
   "id": "frank-diabetes",
   "metadata": {},
   "outputs": [],
   "source": [
    "ibm_ma_mse_loss = mean_squared_error(df_ibm_valid.iloc[n-1:]['Adj Close'], df_ibm_valid[n-1:][ma_str])"
   ]
  },
  {
   "cell_type": "code",
   "execution_count": 108,
   "id": "based-swaziland",
   "metadata": {},
   "outputs": [
    {
     "name": "stdout",
     "output_type": "stream",
     "text": [
      "83.54193197669778\n"
     ]
    }
   ],
   "source": [
    "print(ibm_ma_mse_loss)"
   ]
  },
  {
   "cell_type": "markdown",
   "id": "virtual-financing",
   "metadata": {},
   "source": [
    "#### Apple Inc. stock"
   ]
  },
  {
   "cell_type": "code",
   "execution_count": 109,
   "id": "going-eclipse",
   "metadata": {},
   "outputs": [],
   "source": [
    "n = 10\n",
    "ma_str = str(n)+'_ac_ma'"
   ]
  },
  {
   "cell_type": "code",
   "execution_count": 110,
   "id": "associate-burst",
   "metadata": {},
   "outputs": [],
   "source": [
    "aapl_ma_mse_loss = mean_squared_error(df_aapl_valid.iloc[n-1:]['Adj Close'], df_aapl_valid.iloc[n-1:][ma_str])"
   ]
  },
  {
   "cell_type": "code",
   "execution_count": 111,
   "id": "coordinated-spanking",
   "metadata": {},
   "outputs": [
    {
     "name": "stdout",
     "output_type": "stream",
     "text": [
      "18.847144966178533\n"
     ]
    }
   ],
   "source": [
    "print(aapl_ma_mse_loss)"
   ]
  },
  {
   "cell_type": "code",
   "execution_count": 112,
   "id": "metric-sigma",
   "metadata": {},
   "outputs": [],
   "source": [
    "n = 20\n",
    "ma_str = str(n)+'_ac_ma'"
   ]
  },
  {
   "cell_type": "code",
   "execution_count": 113,
   "id": "undefined-membership",
   "metadata": {},
   "outputs": [],
   "source": [
    "aapl_ma_mse_loss = mean_squared_error(df_aapl_valid.iloc[n-1:]['Adj Close'], df_aapl_valid[n-1:][ma_str])"
   ]
  },
  {
   "cell_type": "code",
   "execution_count": 114,
   "id": "mounted-might",
   "metadata": {},
   "outputs": [
    {
     "name": "stdout",
     "output_type": "stream",
     "text": [
      "40.14202023128945\n"
     ]
    }
   ],
   "source": [
    "print(aapl_ma_mse_loss)"
   ]
  },
  {
   "cell_type": "code",
   "execution_count": 115,
   "id": "brilliant-ballet",
   "metadata": {},
   "outputs": [],
   "source": [
    "n = 50\n",
    "ma_str = str(n)+'_ac_ma'"
   ]
  },
  {
   "cell_type": "code",
   "execution_count": 116,
   "id": "handmade-nutrition",
   "metadata": {},
   "outputs": [],
   "source": [
    "aapl_ma_mse_loss = mean_squared_error(df_aapl_valid.iloc[n-1:]['Adj Close'], df_aapl_valid[n-1:][ma_str])"
   ]
  },
  {
   "cell_type": "code",
   "execution_count": 117,
   "id": "angry-belief",
   "metadata": {},
   "outputs": [
    {
     "name": "stdout",
     "output_type": "stream",
     "text": [
      "111.65555223011599\n"
     ]
    }
   ],
   "source": [
    "print(aapl_ma_mse_loss)"
   ]
  },
  {
   "cell_type": "markdown",
   "id": "threatened-visiting",
   "metadata": {},
   "source": [
    "#### Amazon.com stock"
   ]
  },
  {
   "cell_type": "code",
   "execution_count": 118,
   "id": "certain-reputation",
   "metadata": {},
   "outputs": [],
   "source": [
    "n = 10\n",
    "ma_str = str(n)+'_ac_ma'"
   ]
  },
  {
   "cell_type": "code",
   "execution_count": 119,
   "id": "neither-distinction",
   "metadata": {},
   "outputs": [],
   "source": [
    "amzn_ma_mse_loss = mean_squared_error(df_amzn_valid.iloc[n-1:]['Adj Close'], df_amzn_valid.iloc[n-1:][ma_str])"
   ]
  },
  {
   "cell_type": "code",
   "execution_count": 120,
   "id": "raising-electricity",
   "metadata": {},
   "outputs": [
    {
     "name": "stdout",
     "output_type": "stream",
     "text": [
      "6413.665968130607\n"
     ]
    }
   ],
   "source": [
    "print(amzn_ma_mse_loss)"
   ]
  },
  {
   "cell_type": "code",
   "execution_count": 121,
   "id": "rapid-henry",
   "metadata": {},
   "outputs": [],
   "source": [
    "n = 20\n",
    "ma_str = str(n)+'_ac_ma'"
   ]
  },
  {
   "cell_type": "code",
   "execution_count": 122,
   "id": "painted-sewing",
   "metadata": {},
   "outputs": [],
   "source": [
    "amzn_ma_mse_loss = mean_squared_error(df_amzn_valid.iloc[n-1:]['Adj Close'], df_amzn_valid[n-1:][ma_str])"
   ]
  },
  {
   "cell_type": "code",
   "execution_count": 123,
   "id": "proved-mattress",
   "metadata": {},
   "outputs": [
    {
     "name": "stdout",
     "output_type": "stream",
     "text": [
      "8625.56511848932\n"
     ]
    }
   ],
   "source": [
    "print(amzn_ma_mse_loss)"
   ]
  },
  {
   "cell_type": "code",
   "execution_count": 124,
   "id": "documentary-analysis",
   "metadata": {},
   "outputs": [],
   "source": [
    "n = 50\n",
    "ma_str = str(n)+'_ac_ma'"
   ]
  },
  {
   "cell_type": "code",
   "execution_count": 125,
   "id": "declared-moderator",
   "metadata": {},
   "outputs": [],
   "source": [
    "amzn_ma_mse_loss = mean_squared_error(df_amzn_valid.iloc[n-1:]['Adj Close'], df_amzn_valid[n-1:][ma_str])"
   ]
  },
  {
   "cell_type": "code",
   "execution_count": 126,
   "id": "extraordinary-davis",
   "metadata": {},
   "outputs": [
    {
     "name": "stdout",
     "output_type": "stream",
     "text": [
      "5868.989629754809\n"
     ]
    }
   ],
   "source": [
    "print(amzn_ma_mse_loss)"
   ]
  },
  {
   "cell_type": "markdown",
   "id": "about-reception",
   "metadata": {},
   "source": [
    "#### Alphabet Inc. stock"
   ]
  },
  {
   "cell_type": "code",
   "execution_count": 127,
   "id": "patent-destiny",
   "metadata": {},
   "outputs": [],
   "source": [
    "n = 10\n",
    "ma_str = str(n)+'_ac_ma'"
   ]
  },
  {
   "cell_type": "code",
   "execution_count": 128,
   "id": "excessive-shaft",
   "metadata": {},
   "outputs": [],
   "source": [
    "googl_ma_mse_loss = mean_squared_error(df_googl_valid.iloc[n-1:]['Adj Close'], df_googl_valid.iloc[n-1:][ma_str])"
   ]
  },
  {
   "cell_type": "code",
   "execution_count": 129,
   "id": "dominican-liechtenstein",
   "metadata": {},
   "outputs": [
    {
     "name": "stdout",
     "output_type": "stream",
     "text": [
      "3119.6827475672335\n"
     ]
    }
   ],
   "source": [
    "print(googl_ma_mse_loss)"
   ]
  },
  {
   "cell_type": "code",
   "execution_count": 130,
   "id": "compound-intranet",
   "metadata": {},
   "outputs": [],
   "source": [
    "n = 20\n",
    "ma_str = str(n)+'_ac_ma'"
   ]
  },
  {
   "cell_type": "code",
   "execution_count": 131,
   "id": "lyric-stick",
   "metadata": {},
   "outputs": [],
   "source": [
    "googl_ma_mse_loss = mean_squared_error(df_googl_valid.iloc[n-1:]['Adj Close'], df_googl_valid[n-1:][ma_str])"
   ]
  },
  {
   "cell_type": "code",
   "execution_count": 132,
   "id": "fuzzy-barbados",
   "metadata": {},
   "outputs": [
    {
     "name": "stdout",
     "output_type": "stream",
     "text": [
      "7891.855176159258\n"
     ]
    }
   ],
   "source": [
    "print(googl_ma_mse_loss)"
   ]
  },
  {
   "cell_type": "code",
   "execution_count": 133,
   "id": "literary-local",
   "metadata": {},
   "outputs": [],
   "source": [
    "n = 50\n",
    "ma_str = str(n)+'_ac_ma'"
   ]
  },
  {
   "cell_type": "code",
   "execution_count": 134,
   "id": "italian-litigation",
   "metadata": {},
   "outputs": [],
   "source": [
    "googl_ma_mse_loss = mean_squared_error(df_googl_valid.iloc[n-1:]['Adj Close'], df_googl_valid[n-1:][ma_str])"
   ]
  },
  {
   "cell_type": "code",
   "execution_count": 135,
   "id": "extraordinary-pledge",
   "metadata": {},
   "outputs": [
    {
     "name": "stdout",
     "output_type": "stream",
     "text": [
      "31797.015578027454\n"
     ]
    }
   ],
   "source": [
    "print(googl_ma_mse_loss)"
   ]
  },
  {
   "cell_type": "markdown",
   "id": "hearing-mouth",
   "metadata": {},
   "source": [
    "Volatility"
   ]
  },
  {
   "cell_type": "code",
   "execution_count": 136,
   "id": "moving-craft",
   "metadata": {},
   "outputs": [
    {
     "name": "stdout",
     "output_type": "stream",
     "text": [
      "50.90486055095446\n"
     ]
    }
   ],
   "source": [
    "print(volatility(df_ibm_valid['Adj Close'], n))"
   ]
  },
  {
   "cell_type": "code",
   "execution_count": 137,
   "id": "running-invitation",
   "metadata": {},
   "outputs": [
    {
     "name": "stdout",
     "output_type": "stream",
     "text": [
      "44.01712730351492\n"
     ]
    }
   ],
   "source": [
    "print(volatility(df_aapl_valid['Adj Close'], n))"
   ]
  },
  {
   "cell_type": "code",
   "execution_count": 138,
   "id": "neutral-river",
   "metadata": {},
   "outputs": [
    {
     "name": "stdout",
     "output_type": "stream",
     "text": [
      "4250.4994916219475\n"
     ]
    }
   ],
   "source": [
    "print(volatility(df_amzn_valid['Adj Close'], n))"
   ]
  },
  {
   "cell_type": "code",
   "execution_count": 139,
   "id": "informative-rally",
   "metadata": {},
   "outputs": [
    {
     "name": "stdout",
     "output_type": "stream",
     "text": [
      "3532.9021948511268\n"
     ]
    }
   ],
   "source": [
    "print(volatility(df_googl_valid['Adj Close'], n))"
   ]
  },
  {
   "cell_type": "markdown",
   "id": "structural-understanding",
   "metadata": {},
   "source": [
    "As expected, loss augments as we observe moving average on larger windows.\n",
    "Also, we can observe that Amazon.com and Alphabet Inc. have greater losses, that also corresponds to higher volatility."
   ]
  }
 ],
 "metadata": {
  "kernelspec": {
   "display_name": "conda_pytorch_p36",
   "language": "python",
   "name": "conda_pytorch_p36"
  },
  "language_info": {
   "codemirror_mode": {
    "name": "ipython",
    "version": 3
   },
   "file_extension": ".py",
   "mimetype": "text/x-python",
   "name": "python",
   "nbconvert_exporter": "python",
   "pygments_lexer": "ipython3",
   "version": "3.6.10"
  }
 },
 "nbformat": 4,
 "nbformat_minor": 5
}
