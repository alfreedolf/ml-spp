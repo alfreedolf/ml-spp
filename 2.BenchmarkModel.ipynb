{
 "cells": [
  {
   "cell_type": "markdown",
   "id": "distinct-imaging",
   "metadata": {},
   "source": [
    "## Benchmark model"
   ]
  },
  {
   "cell_type": "markdown",
   "id": "korean-grant",
   "metadata": {},
   "source": [
    "### Train, test and validation split"
   ]
  },
  {
   "cell_type": "markdown",
   "id": "relevant-share",
   "metadata": {},
   "source": [
    "IBM Stock train, test and validation split"
   ]
  },
  {
   "cell_type": "code",
   "execution_count": 59,
   "id": "ahead-puzzle",
   "metadata": {},
   "outputs": [
    {
     "name": "stdout",
     "output_type": "stream",
     "text": [
      "14894 13404 1191 299\n"
     ]
    }
   ],
   "source": [
    "train_size = int(len(df_ibm) * 0.90)\n",
    "test_size = int(len(df_ibm) * 0.08)\n",
    "valid_size = len(df_ibm) - (train_size + test_size)\n",
    "df_ibm_train, df_ibm_test, df_ibm_valid = df_ibm[0:train_size].copy(),\\\n",
    "                                            df_ibm[train_size:train_size+test_size].copy(),\\\n",
    "                                            df_ibm[train_size+test_size:len(df_ibm)].copy()\n",
    "print(len(df_ibm), len(df_ibm_train), len(df_ibm_test), len(df_ibm_valid))"
   ]
  },
  {
   "cell_type": "code",
   "execution_count": 60,
   "id": "congressional-functionality",
   "metadata": {},
   "outputs": [],
   "source": [
    "assert(len(df_ibm) == (len(df_ibm_train) + len(df_ibm_test) + len(df_ibm_valid)))"
   ]
  },
  {
   "cell_type": "markdown",
   "id": "quarterly-bathroom",
   "metadata": {},
   "source": [
    "Amazon Stock train test split"
   ]
  },
  {
   "cell_type": "code",
   "execution_count": 61,
   "id": "animated-background",
   "metadata": {},
   "outputs": [
    {
     "name": "stdout",
     "output_type": "stream",
     "text": [
      "5989 5390 479 120\n"
     ]
    }
   ],
   "source": [
    "train_size = int(len(df_amzn) * 0.90)\n",
    "test_size = int(len(df_amzn) * 0.08)\n",
    "valid_size = len(df_amzn) - (train_size + test_size)\n",
    "df_amzn_train, df_amzn_test, df_amzn_valid = df_amzn[0:train_size].copy(),\\\n",
    "                                            df_amzn[train_size:train_size+test_size].copy(),\\\n",
    "                                            df_amzn[train_size+test_size:len(df_amzn)].copy()\n",
    "print(len(df_amzn), len(df_amzn_train), len(df_amzn_test), len(df_amzn_valid))"
   ]
  },
  {
   "cell_type": "code",
   "execution_count": 62,
   "id": "endless-champagne",
   "metadata": {},
   "outputs": [],
   "source": [
    "assert(len(df_amzn) == (len(df_amzn_train) + len(df_amzn_test) + len(df_amzn_valid)))"
   ]
  },
  {
   "cell_type": "markdown",
   "id": "geographic-cleaning",
   "metadata": {},
   "source": [
    "Apple Inc. Stock train test split"
   ]
  },
  {
   "cell_type": "code",
   "execution_count": 63,
   "id": "guilty-kazakhstan",
   "metadata": {},
   "outputs": [
    {
     "name": "stdout",
     "output_type": "stream",
     "text": [
      "10140 9126 811 203\n"
     ]
    }
   ],
   "source": [
    "train_size = int(len(df_aapl) * 0.90)\n",
    "test_size = int(len(df_aapl) * 0.08)\n",
    "valid_size = len(df_aapl) - (train_size + test_size)\n",
    "df_aapl_train, df_aapl_test, df_aapl_valid = df_aapl[0:train_size].copy(),\\\n",
    "                                            df_aapl[train_size:train_size+test_size].copy(),\\\n",
    "                                            df_aapl[train_size+test_size:len(df_aapl)].copy()\n",
    "print(len(df_aapl), len(df_aapl_train), len(df_aapl_test), len(df_aapl_valid))"
   ]
  },
  {
   "cell_type": "markdown",
   "id": "public-wholesale",
   "metadata": {},
   "source": [
    "Alphabet Inc. Stock train test split"
   ]
  },
  {
   "cell_type": "code",
   "execution_count": 64,
   "id": "comparative-basics",
   "metadata": {},
   "outputs": [
    {
     "name": "stdout",
     "output_type": "stream",
     "text": [
      "4163 3746 333 84\n"
     ]
    }
   ],
   "source": [
    "train_size = int(len(df_googl) * 0.90)\n",
    "test_size = int(len(df_googl) * 0.08)\n",
    "valid_size = len(df_googl) - (train_size + test_size)\n",
    "df_googl_train, df_googl_test, df_googl_valid = df_googl[0:train_size].copy(),\\\n",
    "                                            df_googl[train_size:train_size+test_size].copy(),\\\n",
    "                                            df_googl[train_size+test_size:len(df_googl)].copy()\n",
    "print(len(df_googl), len(df_googl_train), len(df_googl_test), len(df_googl_valid))"
   ]
  },
  {
   "cell_type": "markdown",
   "id": "pressed-steal",
   "metadata": {},
   "source": [
    "#### Simple Moving Average (SMA)"
   ]
  },
  {
   "cell_type": "markdown",
   "id": "cooked-jones",
   "metadata": {},
   "source": [
    "Moving average is a techical indicator that smooths real data oscillations over time.\n",
    "It can aid in determining if an asset price will continue or if it will reverse a bull or bear trend.\n",
    "\n",
    "In this notebook, I'll use Simple Moving Average indicator as a benchmark model.\n",
    "In order to do this, I will compute it separately on training data and test data, to avoid leakage.\n",
    "\n",
    "SMA will be used in the project for three purposes:\n",
    "* Detect if some seasonal pattern is present in data\n",
    "* A benchmark for deep learning model performance\n",
    "* An additional feature to be used to train deep learning model"
   ]
  },
  {
   "cell_type": "markdown",
   "id": "south-celebration",
   "metadata": {},
   "source": [
    "Before moving to feature engineering, reference date index to be used to build the model will be defined:"
   ]
  },
  {
   "cell_type": "code",
   "execution_count": 65,
   "id": "parallel-tragedy",
   "metadata": {},
   "outputs": [],
   "source": [
    "analysis_start_date = '2010-01-1'"
   ]
  },
  {
   "cell_type": "markdown",
   "id": "quantitative-maximum",
   "metadata": {},
   "source": [
    "Anyway, new feature will be computed on the whole dataframe. Plotting will be limited to `analysis_start_date`"
   ]
  },
  {
   "cell_type": "code",
   "execution_count": 66,
   "id": "isolated-duncan",
   "metadata": {},
   "outputs": [],
   "source": [
    "from ta_utils.technical_indicators import moving_average, volatility"
   ]
  },
  {
   "cell_type": "markdown",
   "id": "above-twist",
   "metadata": {},
   "source": [
    "#### IBM stock moving averages"
   ]
  },
  {
   "cell_type": "code",
   "execution_count": 67,
   "id": "changed-shape",
   "metadata": {},
   "outputs": [],
   "source": [
    "# moving average sizes in days\n",
    "ma_d_sz = [10,20,50]\n",
    "\n",
    "# adding moving average columns to dataframe\n",
    "for mds in ma_d_sz:\n",
    "    column_name = \"%s_ac_ma\" %(str(mds))\n",
    "    df_ibm[column_name] = moving_average(df_ibm['Adj Close'], window_size=mds)\n",
    "    df_ibm_train[column_name] = moving_average(df_ibm_train['Adj Close'], window_size=mds)\n",
    "    df_ibm_test[column_name] = moving_average(df_ibm_test['Adj Close'], window_size=mds)\n",
    "    df_ibm_valid[column_name] = moving_average(df_ibm_valid['Adj Close'], window_size=mds)"
   ]
  },
  {
   "cell_type": "code",
   "execution_count": 68,
   "id": "numerous-price",
   "metadata": {},
   "outputs": [
    {
     "data": {
      "text/html": [
       "<div>\n",
       "<style scoped>\n",
       "    .dataframe tbody tr th:only-of-type {\n",
       "        vertical-align: middle;\n",
       "    }\n",
       "\n",
       "    .dataframe tbody tr th {\n",
       "        vertical-align: top;\n",
       "    }\n",
       "\n",
       "    .dataframe thead th {\n",
       "        text-align: right;\n",
       "    }\n",
       "</style>\n",
       "<table border=\"1\" class=\"dataframe\">\n",
       "  <thead>\n",
       "    <tr style=\"text-align: right;\">\n",
       "      <th></th>\n",
       "      <th>Open</th>\n",
       "      <th>High</th>\n",
       "      <th>Low</th>\n",
       "      <th>Close</th>\n",
       "      <th>Adj Close</th>\n",
       "      <th>Volume</th>\n",
       "      <th>10_ac_ma</th>\n",
       "      <th>20_ac_ma</th>\n",
       "      <th>50_ac_ma</th>\n",
       "    </tr>\n",
       "    <tr>\n",
       "      <th>Date</th>\n",
       "      <th></th>\n",
       "      <th></th>\n",
       "      <th></th>\n",
       "      <th></th>\n",
       "      <th></th>\n",
       "      <th></th>\n",
       "      <th></th>\n",
       "      <th></th>\n",
       "      <th></th>\n",
       "    </tr>\n",
       "  </thead>\n",
       "  <tbody>\n",
       "    <tr>\n",
       "      <th>1962-01-02</th>\n",
       "      <td>7.713333</td>\n",
       "      <td>7.713333</td>\n",
       "      <td>7.626667</td>\n",
       "      <td>7.626667</td>\n",
       "      <td>1.858243</td>\n",
       "      <td>390000</td>\n",
       "      <td>NaN</td>\n",
       "      <td>NaN</td>\n",
       "      <td>NaN</td>\n",
       "    </tr>\n",
       "    <tr>\n",
       "      <th>1962-01-03</th>\n",
       "      <td>7.626667</td>\n",
       "      <td>7.693333</td>\n",
       "      <td>7.626667</td>\n",
       "      <td>7.693333</td>\n",
       "      <td>1.874485</td>\n",
       "      <td>292500</td>\n",
       "      <td>NaN</td>\n",
       "      <td>NaN</td>\n",
       "      <td>NaN</td>\n",
       "    </tr>\n",
       "    <tr>\n",
       "      <th>1962-01-04</th>\n",
       "      <td>7.693333</td>\n",
       "      <td>7.693333</td>\n",
       "      <td>7.613333</td>\n",
       "      <td>7.616667</td>\n",
       "      <td>1.855805</td>\n",
       "      <td>262500</td>\n",
       "      <td>NaN</td>\n",
       "      <td>NaN</td>\n",
       "      <td>NaN</td>\n",
       "    </tr>\n",
       "    <tr>\n",
       "      <th>1962-01-05</th>\n",
       "      <td>7.606667</td>\n",
       "      <td>7.606667</td>\n",
       "      <td>7.453333</td>\n",
       "      <td>7.466667</td>\n",
       "      <td>1.819257</td>\n",
       "      <td>367500</td>\n",
       "      <td>NaN</td>\n",
       "      <td>NaN</td>\n",
       "      <td>NaN</td>\n",
       "    </tr>\n",
       "    <tr>\n",
       "      <th>1962-01-08</th>\n",
       "      <td>7.460000</td>\n",
       "      <td>7.460000</td>\n",
       "      <td>7.266667</td>\n",
       "      <td>7.326667</td>\n",
       "      <td>1.785148</td>\n",
       "      <td>547500</td>\n",
       "      <td>NaN</td>\n",
       "      <td>NaN</td>\n",
       "      <td>NaN</td>\n",
       "    </tr>\n",
       "  </tbody>\n",
       "</table>\n",
       "</div>"
      ],
      "text/plain": [
       "                Open      High       Low     Close  Adj Close  Volume  \\\n",
       "Date                                                                    \n",
       "1962-01-02  7.713333  7.713333  7.626667  7.626667   1.858243  390000   \n",
       "1962-01-03  7.626667  7.693333  7.626667  7.693333   1.874485  292500   \n",
       "1962-01-04  7.693333  7.693333  7.613333  7.616667   1.855805  262500   \n",
       "1962-01-05  7.606667  7.606667  7.453333  7.466667   1.819257  367500   \n",
       "1962-01-08  7.460000  7.460000  7.266667  7.326667   1.785148  547500   \n",
       "\n",
       "            10_ac_ma  20_ac_ma  50_ac_ma  \n",
       "Date                                      \n",
       "1962-01-02       NaN       NaN       NaN  \n",
       "1962-01-03       NaN       NaN       NaN  \n",
       "1962-01-04       NaN       NaN       NaN  \n",
       "1962-01-05       NaN       NaN       NaN  \n",
       "1962-01-08       NaN       NaN       NaN  "
      ]
     },
     "execution_count": 68,
     "metadata": {},
     "output_type": "execute_result"
    }
   ],
   "source": [
    "df_ibm.head()"
   ]
  },
  {
   "cell_type": "markdown",
   "id": "defined-adjustment",
   "metadata": {},
   "source": [
    "Moving average feature is empty for the first *n* days, where *n* is the window size, so I'll use some backfill to fill NaN values"
   ]
  },
  {
   "cell_type": "code",
   "execution_count": 69,
   "id": "elect-things",
   "metadata": {},
   "outputs": [],
   "source": [
    "df_ibm.fillna(method='backfill', inplace=True)"
   ]
  },
  {
   "cell_type": "code",
   "execution_count": 70,
   "id": "responsible-porcelain",
   "metadata": {},
   "outputs": [
    {
     "data": {
      "text/html": [
       "<div>\n",
       "<style scoped>\n",
       "    .dataframe tbody tr th:only-of-type {\n",
       "        vertical-align: middle;\n",
       "    }\n",
       "\n",
       "    .dataframe tbody tr th {\n",
       "        vertical-align: top;\n",
       "    }\n",
       "\n",
       "    .dataframe thead th {\n",
       "        text-align: right;\n",
       "    }\n",
       "</style>\n",
       "<table border=\"1\" class=\"dataframe\">\n",
       "  <thead>\n",
       "    <tr style=\"text-align: right;\">\n",
       "      <th></th>\n",
       "      <th>Open</th>\n",
       "      <th>High</th>\n",
       "      <th>Low</th>\n",
       "      <th>Close</th>\n",
       "      <th>Adj Close</th>\n",
       "      <th>Volume</th>\n",
       "      <th>10_ac_ma</th>\n",
       "      <th>20_ac_ma</th>\n",
       "      <th>50_ac_ma</th>\n",
       "    </tr>\n",
       "    <tr>\n",
       "      <th>Date</th>\n",
       "      <th></th>\n",
       "      <th></th>\n",
       "      <th></th>\n",
       "      <th></th>\n",
       "      <th></th>\n",
       "      <th></th>\n",
       "      <th></th>\n",
       "      <th></th>\n",
       "      <th></th>\n",
       "    </tr>\n",
       "  </thead>\n",
       "  <tbody>\n",
       "    <tr>\n",
       "      <th>1962-01-02</th>\n",
       "      <td>7.713333</td>\n",
       "      <td>7.713333</td>\n",
       "      <td>7.626667</td>\n",
       "      <td>7.626667</td>\n",
       "      <td>1.858243</td>\n",
       "      <td>390000</td>\n",
       "      <td>1.831034</td>\n",
       "      <td>1.806507</td>\n",
       "      <td>1.787152</td>\n",
       "    </tr>\n",
       "    <tr>\n",
       "      <th>1962-01-03</th>\n",
       "      <td>7.626667</td>\n",
       "      <td>7.693333</td>\n",
       "      <td>7.626667</td>\n",
       "      <td>7.693333</td>\n",
       "      <td>1.874485</td>\n",
       "      <td>292500</td>\n",
       "      <td>1.831034</td>\n",
       "      <td>1.806507</td>\n",
       "      <td>1.787152</td>\n",
       "    </tr>\n",
       "    <tr>\n",
       "      <th>1962-01-04</th>\n",
       "      <td>7.693333</td>\n",
       "      <td>7.693333</td>\n",
       "      <td>7.613333</td>\n",
       "      <td>7.616667</td>\n",
       "      <td>1.855805</td>\n",
       "      <td>262500</td>\n",
       "      <td>1.831034</td>\n",
       "      <td>1.806507</td>\n",
       "      <td>1.787152</td>\n",
       "    </tr>\n",
       "    <tr>\n",
       "      <th>1962-01-05</th>\n",
       "      <td>7.606667</td>\n",
       "      <td>7.606667</td>\n",
       "      <td>7.453333</td>\n",
       "      <td>7.466667</td>\n",
       "      <td>1.819257</td>\n",
       "      <td>367500</td>\n",
       "      <td>1.831034</td>\n",
       "      <td>1.806507</td>\n",
       "      <td>1.787152</td>\n",
       "    </tr>\n",
       "    <tr>\n",
       "      <th>1962-01-08</th>\n",
       "      <td>7.460000</td>\n",
       "      <td>7.460000</td>\n",
       "      <td>7.266667</td>\n",
       "      <td>7.326667</td>\n",
       "      <td>1.785148</td>\n",
       "      <td>547500</td>\n",
       "      <td>1.831034</td>\n",
       "      <td>1.806507</td>\n",
       "      <td>1.787152</td>\n",
       "    </tr>\n",
       "  </tbody>\n",
       "</table>\n",
       "</div>"
      ],
      "text/plain": [
       "                Open      High       Low     Close  Adj Close  Volume  \\\n",
       "Date                                                                    \n",
       "1962-01-02  7.713333  7.713333  7.626667  7.626667   1.858243  390000   \n",
       "1962-01-03  7.626667  7.693333  7.626667  7.693333   1.874485  292500   \n",
       "1962-01-04  7.693333  7.693333  7.613333  7.616667   1.855805  262500   \n",
       "1962-01-05  7.606667  7.606667  7.453333  7.466667   1.819257  367500   \n",
       "1962-01-08  7.460000  7.460000  7.266667  7.326667   1.785148  547500   \n",
       "\n",
       "            10_ac_ma  20_ac_ma  50_ac_ma  \n",
       "Date                                      \n",
       "1962-01-02  1.831034  1.806507  1.787152  \n",
       "1962-01-03  1.831034  1.806507  1.787152  \n",
       "1962-01-04  1.831034  1.806507  1.787152  \n",
       "1962-01-05  1.831034  1.806507  1.787152  \n",
       "1962-01-08  1.831034  1.806507  1.787152  "
      ]
     },
     "execution_count": 70,
     "metadata": {},
     "output_type": "execute_result"
    }
   ],
   "source": [
    "df_ibm.head()"
   ]
  },
  {
   "cell_type": "code",
   "execution_count": 71,
   "id": "rising-measure",
   "metadata": {},
   "outputs": [
    {
     "data": {
      "text/html": [
       "<div>\n",
       "<style scoped>\n",
       "    .dataframe tbody tr th:only-of-type {\n",
       "        vertical-align: middle;\n",
       "    }\n",
       "\n",
       "    .dataframe tbody tr th {\n",
       "        vertical-align: top;\n",
       "    }\n",
       "\n",
       "    .dataframe thead th {\n",
       "        text-align: right;\n",
       "    }\n",
       "</style>\n",
       "<table border=\"1\" class=\"dataframe\">\n",
       "  <thead>\n",
       "    <tr style=\"text-align: right;\">\n",
       "      <th></th>\n",
       "      <th>Open</th>\n",
       "      <th>High</th>\n",
       "      <th>Low</th>\n",
       "      <th>Close</th>\n",
       "      <th>Adj Close</th>\n",
       "      <th>Volume</th>\n",
       "      <th>10_ac_ma</th>\n",
       "      <th>20_ac_ma</th>\n",
       "      <th>50_ac_ma</th>\n",
       "    </tr>\n",
       "    <tr>\n",
       "      <th>Date</th>\n",
       "      <th></th>\n",
       "      <th></th>\n",
       "      <th></th>\n",
       "      <th></th>\n",
       "      <th></th>\n",
       "      <th></th>\n",
       "      <th></th>\n",
       "      <th></th>\n",
       "      <th></th>\n",
       "    </tr>\n",
       "  </thead>\n",
       "  <tbody>\n",
       "    <tr>\n",
       "      <th>1962-01-02</th>\n",
       "      <td>7.713333</td>\n",
       "      <td>7.713333</td>\n",
       "      <td>7.626667</td>\n",
       "      <td>7.626667</td>\n",
       "      <td>1.858243</td>\n",
       "      <td>390000</td>\n",
       "      <td>NaN</td>\n",
       "      <td>NaN</td>\n",
       "      <td>NaN</td>\n",
       "    </tr>\n",
       "    <tr>\n",
       "      <th>1962-01-03</th>\n",
       "      <td>7.626667</td>\n",
       "      <td>7.693333</td>\n",
       "      <td>7.626667</td>\n",
       "      <td>7.693333</td>\n",
       "      <td>1.874485</td>\n",
       "      <td>292500</td>\n",
       "      <td>NaN</td>\n",
       "      <td>NaN</td>\n",
       "      <td>NaN</td>\n",
       "    </tr>\n",
       "    <tr>\n",
       "      <th>1962-01-04</th>\n",
       "      <td>7.693333</td>\n",
       "      <td>7.693333</td>\n",
       "      <td>7.613333</td>\n",
       "      <td>7.616667</td>\n",
       "      <td>1.855805</td>\n",
       "      <td>262500</td>\n",
       "      <td>NaN</td>\n",
       "      <td>NaN</td>\n",
       "      <td>NaN</td>\n",
       "    </tr>\n",
       "    <tr>\n",
       "      <th>1962-01-05</th>\n",
       "      <td>7.606667</td>\n",
       "      <td>7.606667</td>\n",
       "      <td>7.453333</td>\n",
       "      <td>7.466667</td>\n",
       "      <td>1.819257</td>\n",
       "      <td>367500</td>\n",
       "      <td>NaN</td>\n",
       "      <td>NaN</td>\n",
       "      <td>NaN</td>\n",
       "    </tr>\n",
       "    <tr>\n",
       "      <th>1962-01-08</th>\n",
       "      <td>7.460000</td>\n",
       "      <td>7.460000</td>\n",
       "      <td>7.266667</td>\n",
       "      <td>7.326667</td>\n",
       "      <td>1.785148</td>\n",
       "      <td>547500</td>\n",
       "      <td>NaN</td>\n",
       "      <td>NaN</td>\n",
       "      <td>NaN</td>\n",
       "    </tr>\n",
       "  </tbody>\n",
       "</table>\n",
       "</div>"
      ],
      "text/plain": [
       "                Open      High       Low     Close  Adj Close  Volume  \\\n",
       "Date                                                                    \n",
       "1962-01-02  7.713333  7.713333  7.626667  7.626667   1.858243  390000   \n",
       "1962-01-03  7.626667  7.693333  7.626667  7.693333   1.874485  292500   \n",
       "1962-01-04  7.693333  7.693333  7.613333  7.616667   1.855805  262500   \n",
       "1962-01-05  7.606667  7.606667  7.453333  7.466667   1.819257  367500   \n",
       "1962-01-08  7.460000  7.460000  7.266667  7.326667   1.785148  547500   \n",
       "\n",
       "            10_ac_ma  20_ac_ma  50_ac_ma  \n",
       "Date                                      \n",
       "1962-01-02       NaN       NaN       NaN  \n",
       "1962-01-03       NaN       NaN       NaN  \n",
       "1962-01-04       NaN       NaN       NaN  \n",
       "1962-01-05       NaN       NaN       NaN  \n",
       "1962-01-08       NaN       NaN       NaN  "
      ]
     },
     "execution_count": 71,
     "metadata": {},
     "output_type": "execute_result"
    }
   ],
   "source": [
    "df_ibm_train.head()"
   ]
  },
  {
   "cell_type": "code",
   "execution_count": 72,
   "id": "realistic-agenda",
   "metadata": {},
   "outputs": [
    {
     "data": {
      "text/html": [
       "<div>\n",
       "<style scoped>\n",
       "    .dataframe tbody tr th:only-of-type {\n",
       "        vertical-align: middle;\n",
       "    }\n",
       "\n",
       "    .dataframe tbody tr th {\n",
       "        vertical-align: top;\n",
       "    }\n",
       "\n",
       "    .dataframe thead th {\n",
       "        text-align: right;\n",
       "    }\n",
       "</style>\n",
       "<table border=\"1\" class=\"dataframe\">\n",
       "  <thead>\n",
       "    <tr style=\"text-align: right;\">\n",
       "      <th></th>\n",
       "      <th>Open</th>\n",
       "      <th>High</th>\n",
       "      <th>Low</th>\n",
       "      <th>Close</th>\n",
       "      <th>Adj Close</th>\n",
       "      <th>Volume</th>\n",
       "      <th>10_ac_ma</th>\n",
       "      <th>20_ac_ma</th>\n",
       "      <th>50_ac_ma</th>\n",
       "    </tr>\n",
       "    <tr>\n",
       "      <th>Date</th>\n",
       "      <th></th>\n",
       "      <th></th>\n",
       "      <th></th>\n",
       "      <th></th>\n",
       "      <th></th>\n",
       "      <th></th>\n",
       "      <th></th>\n",
       "      <th></th>\n",
       "      <th></th>\n",
       "    </tr>\n",
       "  </thead>\n",
       "  <tbody>\n",
       "    <tr>\n",
       "      <th>2015-04-02</th>\n",
       "      <td>159.520004</td>\n",
       "      <td>162.539993</td>\n",
       "      <td>158.889999</td>\n",
       "      <td>160.449997</td>\n",
       "      <td>124.202393</td>\n",
       "      <td>4671600</td>\n",
       "      <td>NaN</td>\n",
       "      <td>NaN</td>\n",
       "      <td>NaN</td>\n",
       "    </tr>\n",
       "    <tr>\n",
       "      <th>2015-04-06</th>\n",
       "      <td>159.690002</td>\n",
       "      <td>162.800003</td>\n",
       "      <td>158.699997</td>\n",
       "      <td>162.039993</td>\n",
       "      <td>125.433212</td>\n",
       "      <td>3465700</td>\n",
       "      <td>NaN</td>\n",
       "      <td>NaN</td>\n",
       "      <td>NaN</td>\n",
       "    </tr>\n",
       "    <tr>\n",
       "      <th>2015-04-07</th>\n",
       "      <td>161.669998</td>\n",
       "      <td>163.839996</td>\n",
       "      <td>161.619995</td>\n",
       "      <td>162.070007</td>\n",
       "      <td>125.456367</td>\n",
       "      <td>3148000</td>\n",
       "      <td>NaN</td>\n",
       "      <td>NaN</td>\n",
       "      <td>NaN</td>\n",
       "    </tr>\n",
       "    <tr>\n",
       "      <th>2015-04-08</th>\n",
       "      <td>161.720001</td>\n",
       "      <td>163.550003</td>\n",
       "      <td>161.009995</td>\n",
       "      <td>161.850006</td>\n",
       "      <td>125.286148</td>\n",
       "      <td>2524300</td>\n",
       "      <td>NaN</td>\n",
       "      <td>NaN</td>\n",
       "      <td>NaN</td>\n",
       "    </tr>\n",
       "    <tr>\n",
       "      <th>2015-04-09</th>\n",
       "      <td>161.699997</td>\n",
       "      <td>162.470001</td>\n",
       "      <td>160.720001</td>\n",
       "      <td>162.339996</td>\n",
       "      <td>125.665375</td>\n",
       "      <td>2263500</td>\n",
       "      <td>NaN</td>\n",
       "      <td>NaN</td>\n",
       "      <td>NaN</td>\n",
       "    </tr>\n",
       "  </tbody>\n",
       "</table>\n",
       "</div>"
      ],
      "text/plain": [
       "                  Open        High         Low       Close   Adj Close  \\\n",
       "Date                                                                     \n",
       "2015-04-02  159.520004  162.539993  158.889999  160.449997  124.202393   \n",
       "2015-04-06  159.690002  162.800003  158.699997  162.039993  125.433212   \n",
       "2015-04-07  161.669998  163.839996  161.619995  162.070007  125.456367   \n",
       "2015-04-08  161.720001  163.550003  161.009995  161.850006  125.286148   \n",
       "2015-04-09  161.699997  162.470001  160.720001  162.339996  125.665375   \n",
       "\n",
       "             Volume  10_ac_ma  20_ac_ma  50_ac_ma  \n",
       "Date                                               \n",
       "2015-04-02  4671600       NaN       NaN       NaN  \n",
       "2015-04-06  3465700       NaN       NaN       NaN  \n",
       "2015-04-07  3148000       NaN       NaN       NaN  \n",
       "2015-04-08  2524300       NaN       NaN       NaN  \n",
       "2015-04-09  2263500       NaN       NaN       NaN  "
      ]
     },
     "execution_count": 72,
     "metadata": {},
     "output_type": "execute_result"
    }
   ],
   "source": [
    "df_ibm_test.head()"
   ]
  },
  {
   "cell_type": "code",
   "execution_count": 73,
   "id": "presidential-craps",
   "metadata": {},
   "outputs": [
    {
     "data": {
      "text/html": [
       "<div>\n",
       "<style scoped>\n",
       "    .dataframe tbody tr th:only-of-type {\n",
       "        vertical-align: middle;\n",
       "    }\n",
       "\n",
       "    .dataframe tbody tr th {\n",
       "        vertical-align: top;\n",
       "    }\n",
       "\n",
       "    .dataframe thead th {\n",
       "        text-align: right;\n",
       "    }\n",
       "</style>\n",
       "<table border=\"1\" class=\"dataframe\">\n",
       "  <thead>\n",
       "    <tr style=\"text-align: right;\">\n",
       "      <th></th>\n",
       "      <th>Open</th>\n",
       "      <th>High</th>\n",
       "      <th>Low</th>\n",
       "      <th>Close</th>\n",
       "      <th>Adj Close</th>\n",
       "      <th>Volume</th>\n",
       "      <th>10_ac_ma</th>\n",
       "      <th>20_ac_ma</th>\n",
       "      <th>50_ac_ma</th>\n",
       "    </tr>\n",
       "    <tr>\n",
       "      <th>Date</th>\n",
       "      <th></th>\n",
       "      <th></th>\n",
       "      <th></th>\n",
       "      <th></th>\n",
       "      <th></th>\n",
       "      <th></th>\n",
       "      <th></th>\n",
       "      <th></th>\n",
       "      <th></th>\n",
       "    </tr>\n",
       "  </thead>\n",
       "  <tbody>\n",
       "    <tr>\n",
       "      <th>2019-12-24</th>\n",
       "      <td>135.610001</td>\n",
       "      <td>135.619995</td>\n",
       "      <td>134.610001</td>\n",
       "      <td>134.979996</td>\n",
       "      <td>126.562637</td>\n",
       "      <td>1202100</td>\n",
       "      <td>NaN</td>\n",
       "      <td>NaN</td>\n",
       "      <td>NaN</td>\n",
       "    </tr>\n",
       "    <tr>\n",
       "      <th>2019-12-26</th>\n",
       "      <td>134.979996</td>\n",
       "      <td>135.309998</td>\n",
       "      <td>134.649994</td>\n",
       "      <td>134.910004</td>\n",
       "      <td>126.497017</td>\n",
       "      <td>2129700</td>\n",
       "      <td>NaN</td>\n",
       "      <td>NaN</td>\n",
       "      <td>NaN</td>\n",
       "    </tr>\n",
       "    <tr>\n",
       "      <th>2019-12-27</th>\n",
       "      <td>135.000000</td>\n",
       "      <td>135.750000</td>\n",
       "      <td>134.869995</td>\n",
       "      <td>135.270004</td>\n",
       "      <td>126.834549</td>\n",
       "      <td>2752200</td>\n",
       "      <td>NaN</td>\n",
       "      <td>NaN</td>\n",
       "      <td>NaN</td>\n",
       "    </tr>\n",
       "    <tr>\n",
       "      <th>2019-12-30</th>\n",
       "      <td>135.199997</td>\n",
       "      <td>135.300003</td>\n",
       "      <td>132.500000</td>\n",
       "      <td>132.809998</td>\n",
       "      <td>124.527962</td>\n",
       "      <td>4118900</td>\n",
       "      <td>NaN</td>\n",
       "      <td>NaN</td>\n",
       "      <td>NaN</td>\n",
       "    </tr>\n",
       "    <tr>\n",
       "      <th>2019-12-31</th>\n",
       "      <td>132.529999</td>\n",
       "      <td>134.119995</td>\n",
       "      <td>132.399994</td>\n",
       "      <td>134.039993</td>\n",
       "      <td>125.681244</td>\n",
       "      <td>3777500</td>\n",
       "      <td>NaN</td>\n",
       "      <td>NaN</td>\n",
       "      <td>NaN</td>\n",
       "    </tr>\n",
       "  </tbody>\n",
       "</table>\n",
       "</div>"
      ],
      "text/plain": [
       "                  Open        High         Low       Close   Adj Close  \\\n",
       "Date                                                                     \n",
       "2019-12-24  135.610001  135.619995  134.610001  134.979996  126.562637   \n",
       "2019-12-26  134.979996  135.309998  134.649994  134.910004  126.497017   \n",
       "2019-12-27  135.000000  135.750000  134.869995  135.270004  126.834549   \n",
       "2019-12-30  135.199997  135.300003  132.500000  132.809998  124.527962   \n",
       "2019-12-31  132.529999  134.119995  132.399994  134.039993  125.681244   \n",
       "\n",
       "             Volume  10_ac_ma  20_ac_ma  50_ac_ma  \n",
       "Date                                               \n",
       "2019-12-24  1202100       NaN       NaN       NaN  \n",
       "2019-12-26  2129700       NaN       NaN       NaN  \n",
       "2019-12-27  2752200       NaN       NaN       NaN  \n",
       "2019-12-30  4118900       NaN       NaN       NaN  \n",
       "2019-12-31  3777500       NaN       NaN       NaN  "
      ]
     },
     "execution_count": 73,
     "metadata": {},
     "output_type": "execute_result"
    }
   ],
   "source": [
    "df_ibm_valid.head()"
   ]
  },
  {
   "cell_type": "code",
   "execution_count": 74,
   "id": "actual-supplement",
   "metadata": {},
   "outputs": [
    {
     "data": {
      "text/plain": [
       "<matplotlib.axes._subplots.AxesSubplot at 0x7fdd02012518>"
      ]
     },
     "execution_count": 74,
     "metadata": {},
     "output_type": "execute_result"
    },
    {
     "data": {
      "image/png": "[encoded data removed]",
      "text/plain": [
       "<Figure size 1080x360 with 1 Axes>"
      ]
     },
     "metadata": {
      "needs_background": "light"
     },
     "output_type": "display_data"
    }
   ],
   "source": [
    "df_ibm[analysis_start_date:end][['Adj Close', '20_ac_ma']].plot(legend=True,figsize=(15,5))"
   ]
  },
  {
   "cell_type": "markdown",
   "id": "bronze-disclaimer",
   "metadata": {},
   "source": [
    "#### Apple stock moving averages"
   ]
  },
  {
   "cell_type": "markdown",
   "id": "suspended-liverpool",
   "metadata": {},
   "source": [
    "#### Apple stock moving averages"
   ]
  },
  {
   "cell_type": "code",
   "execution_count": 75,
   "id": "right-grocery",
   "metadata": {},
   "outputs": [],
   "source": [
    "# moving average sizes in days\n",
    "ma_d_sz = [10,20,50]\n",
    "\n",
    "# adding moving average columns to dataframe\n",
    "for mds in ma_d_sz:\n",
    "    column_name = \"%s_ac_ma\" %(str(mds))    \n",
    "    df_aapl[column_name] = moving_average(df_aapl['Adj Close'], window_size=mds)\n",
    "    df_aapl_train[column_name] = moving_average(df_aapl_train['Adj Close'], window_size=mds)\n",
    "    df_aapl_test[column_name] = moving_average(df_aapl_test['Adj Close'], window_size=mds)\n",
    "    df_aapl_valid[column_name] = moving_average(df_aapl_valid['Adj Close'], window_size=mds)"
   ]
  },
  {
   "cell_type": "code",
   "execution_count": 76,
   "id": "informed-raleigh",
   "metadata": {},
   "outputs": [
    {
     "data": {
      "text/html": [
       "<div>\n",
       "<style scoped>\n",
       "    .dataframe tbody tr th:only-of-type {\n",
       "        vertical-align: middle;\n",
       "    }\n",
       "\n",
       "    .dataframe tbody tr th {\n",
       "        vertical-align: top;\n",
       "    }\n",
       "\n",
       "    .dataframe thead th {\n",
       "        text-align: right;\n",
       "    }\n",
       "</style>\n",
       "<table border=\"1\" class=\"dataframe\">\n",
       "  <thead>\n",
       "    <tr style=\"text-align: right;\">\n",
       "      <th></th>\n",
       "      <th>Open</th>\n",
       "      <th>High</th>\n",
       "      <th>Low</th>\n",
       "      <th>Close</th>\n",
       "      <th>Adj Close</th>\n",
       "      <th>Volume</th>\n",
       "      <th>10_ac_ma</th>\n",
       "      <th>20_ac_ma</th>\n",
       "      <th>50_ac_ma</th>\n",
       "    </tr>\n",
       "    <tr>\n",
       "      <th>Date</th>\n",
       "      <th></th>\n",
       "      <th></th>\n",
       "      <th></th>\n",
       "      <th></th>\n",
       "      <th></th>\n",
       "      <th></th>\n",
       "      <th></th>\n",
       "      <th></th>\n",
       "      <th></th>\n",
       "    </tr>\n",
       "  </thead>\n",
       "  <tbody>\n",
       "    <tr>\n",
       "      <th>1980-12-12</th>\n",
       "      <td>0.128348</td>\n",
       "      <td>0.128906</td>\n",
       "      <td>0.128348</td>\n",
       "      <td>0.128348</td>\n",
       "      <td>0.100922</td>\n",
       "      <td>469033600</td>\n",
       "      <td>NaN</td>\n",
       "      <td>NaN</td>\n",
       "      <td>NaN</td>\n",
       "    </tr>\n",
       "    <tr>\n",
       "      <th>1980-12-15</th>\n",
       "      <td>0.122210</td>\n",
       "      <td>0.122210</td>\n",
       "      <td>0.121652</td>\n",
       "      <td>0.121652</td>\n",
       "      <td>0.095657</td>\n",
       "      <td>175884800</td>\n",
       "      <td>NaN</td>\n",
       "      <td>NaN</td>\n",
       "      <td>NaN</td>\n",
       "    </tr>\n",
       "    <tr>\n",
       "      <th>1980-12-16</th>\n",
       "      <td>0.113281</td>\n",
       "      <td>0.113281</td>\n",
       "      <td>0.112723</td>\n",
       "      <td>0.112723</td>\n",
       "      <td>0.088636</td>\n",
       "      <td>105728000</td>\n",
       "      <td>NaN</td>\n",
       "      <td>NaN</td>\n",
       "      <td>NaN</td>\n",
       "    </tr>\n",
       "    <tr>\n",
       "      <th>1980-12-17</th>\n",
       "      <td>0.115513</td>\n",
       "      <td>0.116071</td>\n",
       "      <td>0.115513</td>\n",
       "      <td>0.115513</td>\n",
       "      <td>0.090830</td>\n",
       "      <td>86441600</td>\n",
       "      <td>NaN</td>\n",
       "      <td>NaN</td>\n",
       "      <td>NaN</td>\n",
       "    </tr>\n",
       "    <tr>\n",
       "      <th>1980-12-18</th>\n",
       "      <td>0.118862</td>\n",
       "      <td>0.119420</td>\n",
       "      <td>0.118862</td>\n",
       "      <td>0.118862</td>\n",
       "      <td>0.093463</td>\n",
       "      <td>73449600</td>\n",
       "      <td>NaN</td>\n",
       "      <td>NaN</td>\n",
       "      <td>NaN</td>\n",
       "    </tr>\n",
       "  </tbody>\n",
       "</table>\n",
       "</div>"
      ],
      "text/plain": [
       "                Open      High       Low     Close  Adj Close     Volume  \\\n",
       "Date                                                                       \n",
       "1980-12-12  0.128348  0.128906  0.128348  0.128348   0.100922  469033600   \n",
       "1980-12-15  0.122210  0.122210  0.121652  0.121652   0.095657  175884800   \n",
       "1980-12-16  0.113281  0.113281  0.112723  0.112723   0.088636  105728000   \n",
       "1980-12-17  0.115513  0.116071  0.115513  0.115513   0.090830   86441600   \n",
       "1980-12-18  0.118862  0.119420  0.118862  0.118862   0.093463   73449600   \n",
       "\n",
       "            10_ac_ma  20_ac_ma  50_ac_ma  \n",
       "Date                                      \n",
       "1980-12-12       NaN       NaN       NaN  \n",
       "1980-12-15       NaN       NaN       NaN  \n",
       "1980-12-16       NaN       NaN       NaN  \n",
       "1980-12-17       NaN       NaN       NaN  \n",
       "1980-12-18       NaN       NaN       NaN  "
      ]
     },
     "execution_count": 76,
     "metadata": {},
     "output_type": "execute_result"
    }
   ],
   "source": [
    "df_aapl.head()"
   ]
  },
  {
   "cell_type": "markdown",
   "id": "blessed-third",
   "metadata": {},
   "source": [
    "Moving average feature is empty for the first *n* days, where *n* is the window size, so I'll use some backfill to fill NaN values"
   ]
  },
  {
   "cell_type": "code",
   "execution_count": 77,
   "id": "built-pacific",
   "metadata": {},
   "outputs": [],
   "source": [
    "df_aapl.fillna(method='backfill', inplace=True)"
   ]
  },
  {
   "cell_type": "code",
   "execution_count": 78,
   "id": "verified-killer",
   "metadata": {},
   "outputs": [
    {
     "data": {
      "text/html": [
       "<div>\n",
       "<style scoped>\n",
       "    .dataframe tbody tr th:only-of-type {\n",
       "        vertical-align: middle;\n",
       "    }\n",
       "\n",
       "    .dataframe tbody tr th {\n",
       "        vertical-align: top;\n",
       "    }\n",
       "\n",
       "    .dataframe thead th {\n",
       "        text-align: right;\n",
       "    }\n",
       "</style>\n",
       "<table border=\"1\" class=\"dataframe\">\n",
       "  <thead>\n",
       "    <tr style=\"text-align: right;\">\n",
       "      <th></th>\n",
       "      <th>Open</th>\n",
       "      <th>High</th>\n",
       "      <th>Low</th>\n",
       "      <th>Close</th>\n",
       "      <th>Adj Close</th>\n",
       "      <th>Volume</th>\n",
       "      <th>10_ac_ma</th>\n",
       "      <th>20_ac_ma</th>\n",
       "      <th>50_ac_ma</th>\n",
       "    </tr>\n",
       "    <tr>\n",
       "      <th>Date</th>\n",
       "      <th></th>\n",
       "      <th></th>\n",
       "      <th></th>\n",
       "      <th></th>\n",
       "      <th></th>\n",
       "      <th></th>\n",
       "      <th></th>\n",
       "      <th></th>\n",
       "      <th></th>\n",
       "    </tr>\n",
       "  </thead>\n",
       "  <tbody>\n",
       "    <tr>\n",
       "      <th>1980-12-12</th>\n",
       "      <td>0.128348</td>\n",
       "      <td>0.128906</td>\n",
       "      <td>0.128348</td>\n",
       "      <td>0.128348</td>\n",
       "      <td>0.100922</td>\n",
       "      <td>469033600</td>\n",
       "      <td>0.101975</td>\n",
       "      <td>0.108974</td>\n",
       "      <td>0.104248</td>\n",
       "    </tr>\n",
       "    <tr>\n",
       "      <th>1980-12-15</th>\n",
       "      <td>0.122210</td>\n",
       "      <td>0.122210</td>\n",
       "      <td>0.121652</td>\n",
       "      <td>0.121652</td>\n",
       "      <td>0.095657</td>\n",
       "      <td>175884800</td>\n",
       "      <td>0.101975</td>\n",
       "      <td>0.108974</td>\n",
       "      <td>0.104248</td>\n",
       "    </tr>\n",
       "    <tr>\n",
       "      <th>1980-12-16</th>\n",
       "      <td>0.113281</td>\n",
       "      <td>0.113281</td>\n",
       "      <td>0.112723</td>\n",
       "      <td>0.112723</td>\n",
       "      <td>0.088636</td>\n",
       "      <td>105728000</td>\n",
       "      <td>0.101975</td>\n",
       "      <td>0.108974</td>\n",
       "      <td>0.104248</td>\n",
       "    </tr>\n",
       "    <tr>\n",
       "      <th>1980-12-17</th>\n",
       "      <td>0.115513</td>\n",
       "      <td>0.116071</td>\n",
       "      <td>0.115513</td>\n",
       "      <td>0.115513</td>\n",
       "      <td>0.090830</td>\n",
       "      <td>86441600</td>\n",
       "      <td>0.101975</td>\n",
       "      <td>0.108974</td>\n",
       "      <td>0.104248</td>\n",
       "    </tr>\n",
       "    <tr>\n",
       "      <th>1980-12-18</th>\n",
       "      <td>0.118862</td>\n",
       "      <td>0.119420</td>\n",
       "      <td>0.118862</td>\n",
       "      <td>0.118862</td>\n",
       "      <td>0.093463</td>\n",
       "      <td>73449600</td>\n",
       "      <td>0.101975</td>\n",
       "      <td>0.108974</td>\n",
       "      <td>0.104248</td>\n",
       "    </tr>\n",
       "  </tbody>\n",
       "</table>\n",
       "</div>"
      ],
      "text/plain": [
       "                Open      High       Low     Close  Adj Close     Volume  \\\n",
       "Date                                                                       \n",
       "1980-12-12  0.128348  0.128906  0.128348  0.128348   0.100922  469033600   \n",
       "1980-12-15  0.122210  0.122210  0.121652  0.121652   0.095657  175884800   \n",
       "1980-12-16  0.113281  0.113281  0.112723  0.112723   0.088636  105728000   \n",
       "1980-12-17  0.115513  0.116071  0.115513  0.115513   0.090830   86441600   \n",
       "1980-12-18  0.118862  0.119420  0.118862  0.118862   0.093463   73449600   \n",
       "\n",
       "            10_ac_ma  20_ac_ma  50_ac_ma  \n",
       "Date                                      \n",
       "1980-12-12  0.101975  0.108974  0.104248  \n",
       "1980-12-15  0.101975  0.108974  0.104248  \n",
       "1980-12-16  0.101975  0.108974  0.104248  \n",
       "1980-12-17  0.101975  0.108974  0.104248  \n",
       "1980-12-18  0.101975  0.108974  0.104248  "
      ]
     },
     "execution_count": 78,
     "metadata": {},
     "output_type": "execute_result"
    }
   ],
   "source": [
    "df_aapl.head()"
   ]
  },
  {
   "cell_type": "code",
   "execution_count": 79,
   "id": "ambient-algorithm",
   "metadata": {},
   "outputs": [
    {
     "data": {
      "text/html": [
       "<div>\n",
       "<style scoped>\n",
       "    .dataframe tbody tr th:only-of-type {\n",
       "        vertical-align: middle;\n",
       "    }\n",
       "\n",
       "    .dataframe tbody tr th {\n",
       "        vertical-align: top;\n",
       "    }\n",
       "\n",
       "    .dataframe thead th {\n",
       "        text-align: right;\n",
       "    }\n",
       "</style>\n",
       "<table border=\"1\" class=\"dataframe\">\n",
       "  <thead>\n",
       "    <tr style=\"text-align: right;\">\n",
       "      <th></th>\n",
       "      <th>Open</th>\n",
       "      <th>High</th>\n",
       "      <th>Low</th>\n",
       "      <th>Close</th>\n",
       "      <th>Adj Close</th>\n",
       "      <th>Volume</th>\n",
       "      <th>10_ac_ma</th>\n",
       "      <th>20_ac_ma</th>\n",
       "      <th>50_ac_ma</th>\n",
       "    </tr>\n",
       "    <tr>\n",
       "      <th>Date</th>\n",
       "      <th></th>\n",
       "      <th></th>\n",
       "      <th></th>\n",
       "      <th></th>\n",
       "      <th></th>\n",
       "      <th></th>\n",
       "      <th></th>\n",
       "      <th></th>\n",
       "      <th></th>\n",
       "    </tr>\n",
       "  </thead>\n",
       "  <tbody>\n",
       "    <tr>\n",
       "      <th>1980-12-12</th>\n",
       "      <td>0.128348</td>\n",
       "      <td>0.128906</td>\n",
       "      <td>0.128348</td>\n",
       "      <td>0.128348</td>\n",
       "      <td>0.100922</td>\n",
       "      <td>469033600</td>\n",
       "      <td>NaN</td>\n",
       "      <td>NaN</td>\n",
       "      <td>NaN</td>\n",
       "    </tr>\n",
       "    <tr>\n",
       "      <th>1980-12-15</th>\n",
       "      <td>0.122210</td>\n",
       "      <td>0.122210</td>\n",
       "      <td>0.121652</td>\n",
       "      <td>0.121652</td>\n",
       "      <td>0.095657</td>\n",
       "      <td>175884800</td>\n",
       "      <td>NaN</td>\n",
       "      <td>NaN</td>\n",
       "      <td>NaN</td>\n",
       "    </tr>\n",
       "    <tr>\n",
       "      <th>1980-12-16</th>\n",
       "      <td>0.113281</td>\n",
       "      <td>0.113281</td>\n",
       "      <td>0.112723</td>\n",
       "      <td>0.112723</td>\n",
       "      <td>0.088636</td>\n",
       "      <td>105728000</td>\n",
       "      <td>NaN</td>\n",
       "      <td>NaN</td>\n",
       "      <td>NaN</td>\n",
       "    </tr>\n",
       "    <tr>\n",
       "      <th>1980-12-17</th>\n",
       "      <td>0.115513</td>\n",
       "      <td>0.116071</td>\n",
       "      <td>0.115513</td>\n",
       "      <td>0.115513</td>\n",
       "      <td>0.090830</td>\n",
       "      <td>86441600</td>\n",
       "      <td>NaN</td>\n",
       "      <td>NaN</td>\n",
       "      <td>NaN</td>\n",
       "    </tr>\n",
       "    <tr>\n",
       "      <th>1980-12-18</th>\n",
       "      <td>0.118862</td>\n",
       "      <td>0.119420</td>\n",
       "      <td>0.118862</td>\n",
       "      <td>0.118862</td>\n",
       "      <td>0.093463</td>\n",
       "      <td>73449600</td>\n",
       "      <td>NaN</td>\n",
       "      <td>NaN</td>\n",
       "      <td>NaN</td>\n",
       "    </tr>\n",
       "  </tbody>\n",
       "</table>\n",
       "</div>"
      ],
      "text/plain": [
       "                Open      High       Low     Close  Adj Close     Volume  \\\n",
       "Date                                                                       \n",
       "1980-12-12  0.128348  0.128906  0.128348  0.128348   0.100922  469033600   \n",
       "1980-12-15  0.122210  0.122210  0.121652  0.121652   0.095657  175884800   \n",
       "1980-12-16  0.113281  0.113281  0.112723  0.112723   0.088636  105728000   \n",
       "1980-12-17  0.115513  0.116071  0.115513  0.115513   0.090830   86441600   \n",
       "1980-12-18  0.118862  0.119420  0.118862  0.118862   0.093463   73449600   \n",
       "\n",
       "            10_ac_ma  20_ac_ma  50_ac_ma  \n",
       "Date                                      \n",
       "1980-12-12       NaN       NaN       NaN  \n",
       "1980-12-15       NaN       NaN       NaN  \n",
       "1980-12-16       NaN       NaN       NaN  \n",
       "1980-12-17       NaN       NaN       NaN  \n",
       "1980-12-18       NaN       NaN       NaN  "
      ]
     },
     "execution_count": 79,
     "metadata": {},
     "output_type": "execute_result"
    }
   ],
   "source": [
    "df_aapl_train.head()"
   ]
  },
  {
   "cell_type": "code",
   "execution_count": 80,
   "id": "worthy-prediction",
   "metadata": {},
   "outputs": [
    {
     "data": {
      "text/html": [
       "<div>\n",
       "<style scoped>\n",
       "    .dataframe tbody tr th:only-of-type {\n",
       "        vertical-align: middle;\n",
       "    }\n",
       "\n",
       "    .dataframe tbody tr th {\n",
       "        vertical-align: top;\n",
       "    }\n",
       "\n",
       "    .dataframe thead th {\n",
       "        text-align: right;\n",
       "    }\n",
       "</style>\n",
       "<table border=\"1\" class=\"dataframe\">\n",
       "  <thead>\n",
       "    <tr style=\"text-align: right;\">\n",
       "      <th></th>\n",
       "      <th>Open</th>\n",
       "      <th>High</th>\n",
       "      <th>Low</th>\n",
       "      <th>Close</th>\n",
       "      <th>Adj Close</th>\n",
       "      <th>Volume</th>\n",
       "      <th>10_ac_ma</th>\n",
       "      <th>20_ac_ma</th>\n",
       "      <th>50_ac_ma</th>\n",
       "    </tr>\n",
       "    <tr>\n",
       "      <th>Date</th>\n",
       "      <th></th>\n",
       "      <th></th>\n",
       "      <th></th>\n",
       "      <th></th>\n",
       "      <th></th>\n",
       "      <th></th>\n",
       "      <th></th>\n",
       "      <th></th>\n",
       "      <th></th>\n",
       "    </tr>\n",
       "  </thead>\n",
       "  <tbody>\n",
       "    <tr>\n",
       "      <th>2017-02-22</th>\n",
       "      <td>34.107498</td>\n",
       "      <td>34.279999</td>\n",
       "      <td>34.027500</td>\n",
       "      <td>34.277500</td>\n",
       "      <td>32.555794</td>\n",
       "      <td>83347600</td>\n",
       "      <td>NaN</td>\n",
       "      <td>NaN</td>\n",
       "      <td>NaN</td>\n",
       "    </tr>\n",
       "    <tr>\n",
       "      <th>2017-02-23</th>\n",
       "      <td>34.345001</td>\n",
       "      <td>34.369999</td>\n",
       "      <td>34.075001</td>\n",
       "      <td>34.132500</td>\n",
       "      <td>32.418076</td>\n",
       "      <td>83152800</td>\n",
       "      <td>NaN</td>\n",
       "      <td>NaN</td>\n",
       "      <td>NaN</td>\n",
       "    </tr>\n",
       "    <tr>\n",
       "      <th>2017-02-24</th>\n",
       "      <td>33.977501</td>\n",
       "      <td>34.165001</td>\n",
       "      <td>33.820000</td>\n",
       "      <td>34.165001</td>\n",
       "      <td>32.448948</td>\n",
       "      <td>87106400</td>\n",
       "      <td>NaN</td>\n",
       "      <td>NaN</td>\n",
       "      <td>NaN</td>\n",
       "    </tr>\n",
       "    <tr>\n",
       "      <th>2017-02-27</th>\n",
       "      <td>34.285000</td>\n",
       "      <td>34.360001</td>\n",
       "      <td>34.070000</td>\n",
       "      <td>34.232498</td>\n",
       "      <td>32.513054</td>\n",
       "      <td>81029600</td>\n",
       "      <td>NaN</td>\n",
       "      <td>NaN</td>\n",
       "      <td>NaN</td>\n",
       "    </tr>\n",
       "    <tr>\n",
       "      <th>2017-02-28</th>\n",
       "      <td>34.270000</td>\n",
       "      <td>34.360001</td>\n",
       "      <td>34.174999</td>\n",
       "      <td>34.247501</td>\n",
       "      <td>32.527302</td>\n",
       "      <td>93931600</td>\n",
       "      <td>NaN</td>\n",
       "      <td>NaN</td>\n",
       "      <td>NaN</td>\n",
       "    </tr>\n",
       "  </tbody>\n",
       "</table>\n",
       "</div>"
      ],
      "text/plain": [
       "                 Open       High        Low      Close  Adj Close    Volume  \\\n",
       "Date                                                                          \n",
       "2017-02-22  34.107498  34.279999  34.027500  34.277500  32.555794  83347600   \n",
       "2017-02-23  34.345001  34.369999  34.075001  34.132500  32.418076  83152800   \n",
       "2017-02-24  33.977501  34.165001  33.820000  34.165001  32.448948  87106400   \n",
       "2017-02-27  34.285000  34.360001  34.070000  34.232498  32.513054  81029600   \n",
       "2017-02-28  34.270000  34.360001  34.174999  34.247501  32.527302  93931600   \n",
       "\n",
       "            10_ac_ma  20_ac_ma  50_ac_ma  \n",
       "Date                                      \n",
       "2017-02-22       NaN       NaN       NaN  \n",
       "2017-02-23       NaN       NaN       NaN  \n",
       "2017-02-24       NaN       NaN       NaN  \n",
       "2017-02-27       NaN       NaN       NaN  \n",
       "2017-02-28       NaN       NaN       NaN  "
      ]
     },
     "execution_count": 80,
     "metadata": {},
     "output_type": "execute_result"
    }
   ],
   "source": [
    "df_aapl_test.head()"
   ]
  },
  {
   "cell_type": "code",
   "execution_count": 81,
   "id": "hungry-prague",
   "metadata": {},
   "outputs": [
    {
     "data": {
      "text/html": [
       "<div>\n",
       "<style scoped>\n",
       "    .dataframe tbody tr th:only-of-type {\n",
       "        vertical-align: middle;\n",
       "    }\n",
       "\n",
       "    .dataframe tbody tr th {\n",
       "        vertical-align: top;\n",
       "    }\n",
       "\n",
       "    .dataframe thead th {\n",
       "        text-align: right;\n",
       "    }\n",
       "</style>\n",
       "<table border=\"1\" class=\"dataframe\">\n",
       "  <thead>\n",
       "    <tr style=\"text-align: right;\">\n",
       "      <th></th>\n",
       "      <th>Open</th>\n",
       "      <th>High</th>\n",
       "      <th>Low</th>\n",
       "      <th>Close</th>\n",
       "      <th>Adj Close</th>\n",
       "      <th>Volume</th>\n",
       "      <th>10_ac_ma</th>\n",
       "      <th>20_ac_ma</th>\n",
       "      <th>50_ac_ma</th>\n",
       "    </tr>\n",
       "    <tr>\n",
       "      <th>Date</th>\n",
       "      <th></th>\n",
       "      <th></th>\n",
       "      <th></th>\n",
       "      <th></th>\n",
       "      <th></th>\n",
       "      <th></th>\n",
       "      <th></th>\n",
       "      <th></th>\n",
       "      <th></th>\n",
       "    </tr>\n",
       "  </thead>\n",
       "  <tbody>\n",
       "    <tr>\n",
       "      <th>2020-05-13</th>\n",
       "      <td>78.037498</td>\n",
       "      <td>78.987503</td>\n",
       "      <td>75.802498</td>\n",
       "      <td>76.912498</td>\n",
       "      <td>76.527496</td>\n",
       "      <td>200622400</td>\n",
       "      <td>NaN</td>\n",
       "      <td>NaN</td>\n",
       "      <td>NaN</td>\n",
       "    </tr>\n",
       "    <tr>\n",
       "      <th>2020-05-14</th>\n",
       "      <td>76.127502</td>\n",
       "      <td>77.447502</td>\n",
       "      <td>75.382500</td>\n",
       "      <td>77.385002</td>\n",
       "      <td>76.997635</td>\n",
       "      <td>158929200</td>\n",
       "      <td>NaN</td>\n",
       "      <td>NaN</td>\n",
       "      <td>NaN</td>\n",
       "    </tr>\n",
       "    <tr>\n",
       "      <th>2020-05-15</th>\n",
       "      <td>75.087502</td>\n",
       "      <td>76.974998</td>\n",
       "      <td>75.052498</td>\n",
       "      <td>76.927498</td>\n",
       "      <td>76.542412</td>\n",
       "      <td>166348400</td>\n",
       "      <td>NaN</td>\n",
       "      <td>NaN</td>\n",
       "      <td>NaN</td>\n",
       "    </tr>\n",
       "    <tr>\n",
       "      <th>2020-05-18</th>\n",
       "      <td>78.292503</td>\n",
       "      <td>79.125000</td>\n",
       "      <td>77.580002</td>\n",
       "      <td>78.739998</td>\n",
       "      <td>78.345848</td>\n",
       "      <td>135372400</td>\n",
       "      <td>NaN</td>\n",
       "      <td>NaN</td>\n",
       "      <td>NaN</td>\n",
       "    </tr>\n",
       "    <tr>\n",
       "      <th>2020-05-19</th>\n",
       "      <td>78.757500</td>\n",
       "      <td>79.629997</td>\n",
       "      <td>78.252502</td>\n",
       "      <td>78.285004</td>\n",
       "      <td>77.893127</td>\n",
       "      <td>101729600</td>\n",
       "      <td>NaN</td>\n",
       "      <td>NaN</td>\n",
       "      <td>NaN</td>\n",
       "    </tr>\n",
       "  </tbody>\n",
       "</table>\n",
       "</div>"
      ],
      "text/plain": [
       "                 Open       High        Low      Close  Adj Close     Volume  \\\n",
       "Date                                                                           \n",
       "2020-05-13  78.037498  78.987503  75.802498  76.912498  76.527496  200622400   \n",
       "2020-05-14  76.127502  77.447502  75.382500  77.385002  76.997635  158929200   \n",
       "2020-05-15  75.087502  76.974998  75.052498  76.927498  76.542412  166348400   \n",
       "2020-05-18  78.292503  79.125000  77.580002  78.739998  78.345848  135372400   \n",
       "2020-05-19  78.757500  79.629997  78.252502  78.285004  77.893127  101729600   \n",
       "\n",
       "            10_ac_ma  20_ac_ma  50_ac_ma  \n",
       "Date                                      \n",
       "2020-05-13       NaN       NaN       NaN  \n",
       "2020-05-14       NaN       NaN       NaN  \n",
       "2020-05-15       NaN       NaN       NaN  \n",
       "2020-05-18       NaN       NaN       NaN  \n",
       "2020-05-19       NaN       NaN       NaN  "
      ]
     },
     "execution_count": 81,
     "metadata": {},
     "output_type": "execute_result"
    }
   ],
   "source": [
    "df_aapl_valid.head()"
   ]
  },
  {
   "cell_type": "code",
   "execution_count": 82,
   "id": "alpine-generation",
   "metadata": {},
   "outputs": [
    {
     "data": {
      "text/plain": [
       "<matplotlib.axes._subplots.AxesSubplot at 0x7fdd01f377b8>"
      ]
     },
     "execution_count": 82,
     "metadata": {},
     "output_type": "execute_result"
    },
    {
     "data": {
      "image/png": "[encoded data removed]",
      "text/plain": [
       "<Figure size 1080x360 with 1 Axes>"
      ]
     },
     "metadata": {
      "needs_background": "light"
     },
     "output_type": "display_data"
    }
   ],
   "source": [
    "df_aapl[start_date:end_date][['Adj Close', '50_ac_ma']].plot(legend=True,figsize=(15,5))"
   ]
  },
  {
   "cell_type": "markdown",
   "id": "cubic-therapist",
   "metadata": {},
   "source": [
    "#### Amazon.com stock moving averages"
   ]
  },
  {
   "cell_type": "code",
   "execution_count": 83,
   "id": "private-bumper",
   "metadata": {},
   "outputs": [],
   "source": [
    "# moving average sizes in days\n",
    "ma_d_sz = [10,20,50]\n",
    "\n",
    "# adding moving average columns to dataframe\n",
    "for mds in ma_d_sz:\n",
    "    column_name = \"%s_ac_ma\" %(str(mds))    \n",
    "    df_amzn[column_name] = moving_average(df_amzn['Adj Close'], window_size=mds)\n",
    "    df_amzn_train[column_name] = moving_average(df_amzn_train['Adj Close'], window_size=mds)\n",
    "    df_amzn_test[column_name] = moving_average(df_amzn_test['Adj Close'], window_size=mds)\n",
    "    df_amzn_valid[column_name] = moving_average(df_amzn_valid['Adj Close'], window_size=mds)"
   ]
  },
  {
   "cell_type": "code",
   "execution_count": 84,
   "id": "female-scale",
   "metadata": {},
   "outputs": [
    {
     "data": {
      "text/html": [
       "<div>\n",
       "<style scoped>\n",
       "    .dataframe tbody tr th:only-of-type {\n",
       "        vertical-align: middle;\n",
       "    }\n",
       "\n",
       "    .dataframe tbody tr th {\n",
       "        vertical-align: top;\n",
       "    }\n",
       "\n",
       "    .dataframe thead th {\n",
       "        text-align: right;\n",
       "    }\n",
       "</style>\n",
       "<table border=\"1\" class=\"dataframe\">\n",
       "  <thead>\n",
       "    <tr style=\"text-align: right;\">\n",
       "      <th></th>\n",
       "      <th>Open</th>\n",
       "      <th>High</th>\n",
       "      <th>Low</th>\n",
       "      <th>Close</th>\n",
       "      <th>Adj Close</th>\n",
       "      <th>Volume</th>\n",
       "      <th>10_ac_ma</th>\n",
       "      <th>20_ac_ma</th>\n",
       "      <th>50_ac_ma</th>\n",
       "    </tr>\n",
       "    <tr>\n",
       "      <th>Date</th>\n",
       "      <th></th>\n",
       "      <th></th>\n",
       "      <th></th>\n",
       "      <th></th>\n",
       "      <th></th>\n",
       "      <th></th>\n",
       "      <th></th>\n",
       "      <th></th>\n",
       "      <th></th>\n",
       "    </tr>\n",
       "  </thead>\n",
       "  <tbody>\n",
       "    <tr>\n",
       "      <th>1997-05-15</th>\n",
       "      <td>2.437500</td>\n",
       "      <td>2.500000</td>\n",
       "      <td>1.927083</td>\n",
       "      <td>1.958333</td>\n",
       "      <td>1.958333</td>\n",
       "      <td>72156000</td>\n",
       "      <td>NaN</td>\n",
       "      <td>NaN</td>\n",
       "      <td>NaN</td>\n",
       "    </tr>\n",
       "    <tr>\n",
       "      <th>1997-05-16</th>\n",
       "      <td>1.968750</td>\n",
       "      <td>1.979167</td>\n",
       "      <td>1.708333</td>\n",
       "      <td>1.729167</td>\n",
       "      <td>1.729167</td>\n",
       "      <td>14700000</td>\n",
       "      <td>NaN</td>\n",
       "      <td>NaN</td>\n",
       "      <td>NaN</td>\n",
       "    </tr>\n",
       "    <tr>\n",
       "      <th>1997-05-19</th>\n",
       "      <td>1.760417</td>\n",
       "      <td>1.770833</td>\n",
       "      <td>1.625000</td>\n",
       "      <td>1.708333</td>\n",
       "      <td>1.708333</td>\n",
       "      <td>6106800</td>\n",
       "      <td>NaN</td>\n",
       "      <td>NaN</td>\n",
       "      <td>NaN</td>\n",
       "    </tr>\n",
       "    <tr>\n",
       "      <th>1997-05-20</th>\n",
       "      <td>1.729167</td>\n",
       "      <td>1.750000</td>\n",
       "      <td>1.635417</td>\n",
       "      <td>1.635417</td>\n",
       "      <td>1.635417</td>\n",
       "      <td>5467200</td>\n",
       "      <td>NaN</td>\n",
       "      <td>NaN</td>\n",
       "      <td>NaN</td>\n",
       "    </tr>\n",
       "    <tr>\n",
       "      <th>1997-05-21</th>\n",
       "      <td>1.635417</td>\n",
       "      <td>1.645833</td>\n",
       "      <td>1.375000</td>\n",
       "      <td>1.427083</td>\n",
       "      <td>1.427083</td>\n",
       "      <td>18853200</td>\n",
       "      <td>NaN</td>\n",
       "      <td>NaN</td>\n",
       "      <td>NaN</td>\n",
       "    </tr>\n",
       "  </tbody>\n",
       "</table>\n",
       "</div>"
      ],
      "text/plain": [
       "                Open      High       Low     Close  Adj Close    Volume  \\\n",
       "Date                                                                      \n",
       "1997-05-15  2.437500  2.500000  1.927083  1.958333   1.958333  72156000   \n",
       "1997-05-16  1.968750  1.979167  1.708333  1.729167   1.729167  14700000   \n",
       "1997-05-19  1.760417  1.770833  1.625000  1.708333   1.708333   6106800   \n",
       "1997-05-20  1.729167  1.750000  1.635417  1.635417   1.635417   5467200   \n",
       "1997-05-21  1.635417  1.645833  1.375000  1.427083   1.427083  18853200   \n",
       "\n",
       "            10_ac_ma  20_ac_ma  50_ac_ma  \n",
       "Date                                      \n",
       "1997-05-15       NaN       NaN       NaN  \n",
       "1997-05-16       NaN       NaN       NaN  \n",
       "1997-05-19       NaN       NaN       NaN  \n",
       "1997-05-20       NaN       NaN       NaN  \n",
       "1997-05-21       NaN       NaN       NaN  "
      ]
     },
     "execution_count": 84,
     "metadata": {},
     "output_type": "execute_result"
    }
   ],
   "source": [
    "df_amzn.head()"
   ]
  },
  {
   "cell_type": "markdown",
   "id": "relevant-collect",
   "metadata": {},
   "source": [
    "Moving average feature is empty for the first *n* days, where *n* is the window size, so I'll use some backfill to fill NaN values"
   ]
  },
  {
   "cell_type": "code",
   "execution_count": 85,
   "id": "advisory-heaven",
   "metadata": {},
   "outputs": [],
   "source": [
    "df_amzn.fillna(method='backfill', inplace=True)"
   ]
  },
  {
   "cell_type": "code",
   "execution_count": 86,
   "id": "favorite-place",
   "metadata": {},
   "outputs": [
    {
     "data": {
      "text/html": [
       "<div>\n",
       "<style scoped>\n",
       "    .dataframe tbody tr th:only-of-type {\n",
       "        vertical-align: middle;\n",
       "    }\n",
       "\n",
       "    .dataframe tbody tr th {\n",
       "        vertical-align: top;\n",
       "    }\n",
       "\n",
       "    .dataframe thead th {\n",
       "        text-align: right;\n",
       "    }\n",
       "</style>\n",
       "<table border=\"1\" class=\"dataframe\">\n",
       "  <thead>\n",
       "    <tr style=\"text-align: right;\">\n",
       "      <th></th>\n",
       "      <th>Open</th>\n",
       "      <th>High</th>\n",
       "      <th>Low</th>\n",
       "      <th>Close</th>\n",
       "      <th>Adj Close</th>\n",
       "      <th>Volume</th>\n",
       "      <th>10_ac_ma</th>\n",
       "      <th>20_ac_ma</th>\n",
       "      <th>50_ac_ma</th>\n",
       "    </tr>\n",
       "    <tr>\n",
       "      <th>Date</th>\n",
       "      <th></th>\n",
       "      <th></th>\n",
       "      <th></th>\n",
       "      <th></th>\n",
       "      <th></th>\n",
       "      <th></th>\n",
       "      <th></th>\n",
       "      <th></th>\n",
       "      <th></th>\n",
       "    </tr>\n",
       "  </thead>\n",
       "  <tbody>\n",
       "    <tr>\n",
       "      <th>1997-05-15</th>\n",
       "      <td>2.437500</td>\n",
       "      <td>2.500000</td>\n",
       "      <td>1.927083</td>\n",
       "      <td>1.958333</td>\n",
       "      <td>1.958333</td>\n",
       "      <td>72156000</td>\n",
       "      <td>1.597396</td>\n",
       "      <td>1.57474</td>\n",
       "      <td>1.772813</td>\n",
       "    </tr>\n",
       "    <tr>\n",
       "      <th>1997-05-16</th>\n",
       "      <td>1.968750</td>\n",
       "      <td>1.979167</td>\n",
       "      <td>1.708333</td>\n",
       "      <td>1.729167</td>\n",
       "      <td>1.729167</td>\n",
       "      <td>14700000</td>\n",
       "      <td>1.597396</td>\n",
       "      <td>1.57474</td>\n",
       "      <td>1.772813</td>\n",
       "    </tr>\n",
       "    <tr>\n",
       "      <th>1997-05-19</th>\n",
       "      <td>1.760417</td>\n",
       "      <td>1.770833</td>\n",
       "      <td>1.625000</td>\n",
       "      <td>1.708333</td>\n",
       "      <td>1.708333</td>\n",
       "      <td>6106800</td>\n",
       "      <td>1.597396</td>\n",
       "      <td>1.57474</td>\n",
       "      <td>1.772813</td>\n",
       "    </tr>\n",
       "    <tr>\n",
       "      <th>1997-05-20</th>\n",
       "      <td>1.729167</td>\n",
       "      <td>1.750000</td>\n",
       "      <td>1.635417</td>\n",
       "      <td>1.635417</td>\n",
       "      <td>1.635417</td>\n",
       "      <td>5467200</td>\n",
       "      <td>1.597396</td>\n",
       "      <td>1.57474</td>\n",
       "      <td>1.772813</td>\n",
       "    </tr>\n",
       "    <tr>\n",
       "      <th>1997-05-21</th>\n",
       "      <td>1.635417</td>\n",
       "      <td>1.645833</td>\n",
       "      <td>1.375000</td>\n",
       "      <td>1.427083</td>\n",
       "      <td>1.427083</td>\n",
       "      <td>18853200</td>\n",
       "      <td>1.597396</td>\n",
       "      <td>1.57474</td>\n",
       "      <td>1.772813</td>\n",
       "    </tr>\n",
       "  </tbody>\n",
       "</table>\n",
       "</div>"
      ],
      "text/plain": [
       "                Open      High       Low     Close  Adj Close    Volume  \\\n",
       "Date                                                                      \n",
       "1997-05-15  2.437500  2.500000  1.927083  1.958333   1.958333  72156000   \n",
       "1997-05-16  1.968750  1.979167  1.708333  1.729167   1.729167  14700000   \n",
       "1997-05-19  1.760417  1.770833  1.625000  1.708333   1.708333   6106800   \n",
       "1997-05-20  1.729167  1.750000  1.635417  1.635417   1.635417   5467200   \n",
       "1997-05-21  1.635417  1.645833  1.375000  1.427083   1.427083  18853200   \n",
       "\n",
       "            10_ac_ma  20_ac_ma  50_ac_ma  \n",
       "Date                                      \n",
       "1997-05-15  1.597396   1.57474  1.772813  \n",
       "1997-05-16  1.597396   1.57474  1.772813  \n",
       "1997-05-19  1.597396   1.57474  1.772813  \n",
       "1997-05-20  1.597396   1.57474  1.772813  \n",
       "1997-05-21  1.597396   1.57474  1.772813  "
      ]
     },
     "execution_count": 86,
     "metadata": {},
     "output_type": "execute_result"
    }
   ],
   "source": [
    "df_amzn.head()"
   ]
  },
  {
   "cell_type": "code",
   "execution_count": 87,
   "id": "recent-seattle",
   "metadata": {},
   "outputs": [
    {
     "data": {
      "text/html": [
       "<div>\n",
       "<style scoped>\n",
       "    .dataframe tbody tr th:only-of-type {\n",
       "        vertical-align: middle;\n",
       "    }\n",
       "\n",
       "    .dataframe tbody tr th {\n",
       "        vertical-align: top;\n",
       "    }\n",
       "\n",
       "    .dataframe thead th {\n",
       "        text-align: right;\n",
       "    }\n",
       "</style>\n",
       "<table border=\"1\" class=\"dataframe\">\n",
       "  <thead>\n",
       "    <tr style=\"text-align: right;\">\n",
       "      <th></th>\n",
       "      <th>Open</th>\n",
       "      <th>High</th>\n",
       "      <th>Low</th>\n",
       "      <th>Close</th>\n",
       "      <th>Adj Close</th>\n",
       "      <th>Volume</th>\n",
       "      <th>10_ac_ma</th>\n",
       "      <th>20_ac_ma</th>\n",
       "      <th>50_ac_ma</th>\n",
       "    </tr>\n",
       "    <tr>\n",
       "      <th>Date</th>\n",
       "      <th></th>\n",
       "      <th></th>\n",
       "      <th></th>\n",
       "      <th></th>\n",
       "      <th></th>\n",
       "      <th></th>\n",
       "      <th></th>\n",
       "      <th></th>\n",
       "      <th></th>\n",
       "    </tr>\n",
       "  </thead>\n",
       "  <tbody>\n",
       "    <tr>\n",
       "      <th>1997-05-15</th>\n",
       "      <td>2.437500</td>\n",
       "      <td>2.500000</td>\n",
       "      <td>1.927083</td>\n",
       "      <td>1.958333</td>\n",
       "      <td>1.958333</td>\n",
       "      <td>72156000</td>\n",
       "      <td>NaN</td>\n",
       "      <td>NaN</td>\n",
       "      <td>NaN</td>\n",
       "    </tr>\n",
       "    <tr>\n",
       "      <th>1997-05-16</th>\n",
       "      <td>1.968750</td>\n",
       "      <td>1.979167</td>\n",
       "      <td>1.708333</td>\n",
       "      <td>1.729167</td>\n",
       "      <td>1.729167</td>\n",
       "      <td>14700000</td>\n",
       "      <td>NaN</td>\n",
       "      <td>NaN</td>\n",
       "      <td>NaN</td>\n",
       "    </tr>\n",
       "    <tr>\n",
       "      <th>1997-05-19</th>\n",
       "      <td>1.760417</td>\n",
       "      <td>1.770833</td>\n",
       "      <td>1.625000</td>\n",
       "      <td>1.708333</td>\n",
       "      <td>1.708333</td>\n",
       "      <td>6106800</td>\n",
       "      <td>NaN</td>\n",
       "      <td>NaN</td>\n",
       "      <td>NaN</td>\n",
       "    </tr>\n",
       "    <tr>\n",
       "      <th>1997-05-20</th>\n",
       "      <td>1.729167</td>\n",
       "      <td>1.750000</td>\n",
       "      <td>1.635417</td>\n",
       "      <td>1.635417</td>\n",
       "      <td>1.635417</td>\n",
       "      <td>5467200</td>\n",
       "      <td>NaN</td>\n",
       "      <td>NaN</td>\n",
       "      <td>NaN</td>\n",
       "    </tr>\n",
       "    <tr>\n",
       "      <th>1997-05-21</th>\n",
       "      <td>1.635417</td>\n",
       "      <td>1.645833</td>\n",
       "      <td>1.375000</td>\n",
       "      <td>1.427083</td>\n",
       "      <td>1.427083</td>\n",
       "      <td>18853200</td>\n",
       "      <td>NaN</td>\n",
       "      <td>NaN</td>\n",
       "      <td>NaN</td>\n",
       "    </tr>\n",
       "  </tbody>\n",
       "</table>\n",
       "</div>"
      ],
      "text/plain": [
       "                Open      High       Low     Close  Adj Close    Volume  \\\n",
       "Date                                                                      \n",
       "1997-05-15  2.437500  2.500000  1.927083  1.958333   1.958333  72156000   \n",
       "1997-05-16  1.968750  1.979167  1.708333  1.729167   1.729167  14700000   \n",
       "1997-05-19  1.760417  1.770833  1.625000  1.708333   1.708333   6106800   \n",
       "1997-05-20  1.729167  1.750000  1.635417  1.635417   1.635417   5467200   \n",
       "1997-05-21  1.635417  1.645833  1.375000  1.427083   1.427083  18853200   \n",
       "\n",
       "            10_ac_ma  20_ac_ma  50_ac_ma  \n",
       "Date                                      \n",
       "1997-05-15       NaN       NaN       NaN  \n",
       "1997-05-16       NaN       NaN       NaN  \n",
       "1997-05-19       NaN       NaN       NaN  \n",
       "1997-05-20       NaN       NaN       NaN  \n",
       "1997-05-21       NaN       NaN       NaN  "
      ]
     },
     "execution_count": 87,
     "metadata": {},
     "output_type": "execute_result"
    }
   ],
   "source": [
    "df_amzn_train.head()"
   ]
  },
  {
   "cell_type": "code",
   "execution_count": 88,
   "id": "promotional-express",
   "metadata": {},
   "outputs": [
    {
     "data": {
      "text/html": [
       "<div>\n",
       "<style scoped>\n",
       "    .dataframe tbody tr th:only-of-type {\n",
       "        vertical-align: middle;\n",
       "    }\n",
       "\n",
       "    .dataframe tbody tr th {\n",
       "        vertical-align: top;\n",
       "    }\n",
       "\n",
       "    .dataframe thead th {\n",
       "        text-align: right;\n",
       "    }\n",
       "</style>\n",
       "<table border=\"1\" class=\"dataframe\">\n",
       "  <thead>\n",
       "    <tr style=\"text-align: right;\">\n",
       "      <th></th>\n",
       "      <th>Open</th>\n",
       "      <th>High</th>\n",
       "      <th>Low</th>\n",
       "      <th>Close</th>\n",
       "      <th>Adj Close</th>\n",
       "      <th>Volume</th>\n",
       "      <th>10_ac_ma</th>\n",
       "      <th>20_ac_ma</th>\n",
       "      <th>50_ac_ma</th>\n",
       "    </tr>\n",
       "    <tr>\n",
       "      <th>Date</th>\n",
       "      <th></th>\n",
       "      <th></th>\n",
       "      <th></th>\n",
       "      <th></th>\n",
       "      <th></th>\n",
       "      <th></th>\n",
       "      <th></th>\n",
       "      <th></th>\n",
       "      <th></th>\n",
       "    </tr>\n",
       "  </thead>\n",
       "  <tbody>\n",
       "    <tr>\n",
       "      <th>2018-10-15</th>\n",
       "      <td>1795.000000</td>\n",
       "      <td>1795.050049</td>\n",
       "      <td>1734.229980</td>\n",
       "      <td>1760.949951</td>\n",
       "      <td>1760.949951</td>\n",
       "      <td>6437200</td>\n",
       "      <td>NaN</td>\n",
       "      <td>NaN</td>\n",
       "      <td>NaN</td>\n",
       "    </tr>\n",
       "    <tr>\n",
       "      <th>2018-10-16</th>\n",
       "      <td>1783.500000</td>\n",
       "      <td>1823.880005</td>\n",
       "      <td>1761.550049</td>\n",
       "      <td>1819.959961</td>\n",
       "      <td>1819.959961</td>\n",
       "      <td>5859900</td>\n",
       "      <td>NaN</td>\n",
       "      <td>NaN</td>\n",
       "      <td>NaN</td>\n",
       "    </tr>\n",
       "    <tr>\n",
       "      <th>2018-10-17</th>\n",
       "      <td>1842.790039</td>\n",
       "      <td>1845.000000</td>\n",
       "      <td>1807.000000</td>\n",
       "      <td>1831.729980</td>\n",
       "      <td>1831.729980</td>\n",
       "      <td>5295200</td>\n",
       "      <td>NaN</td>\n",
       "      <td>NaN</td>\n",
       "      <td>NaN</td>\n",
       "    </tr>\n",
       "    <tr>\n",
       "      <th>2018-10-18</th>\n",
       "      <td>1821.489990</td>\n",
       "      <td>1830.150024</td>\n",
       "      <td>1767.869995</td>\n",
       "      <td>1770.719971</td>\n",
       "      <td>1770.719971</td>\n",
       "      <td>5874000</td>\n",
       "      <td>NaN</td>\n",
       "      <td>NaN</td>\n",
       "      <td>NaN</td>\n",
       "    </tr>\n",
       "    <tr>\n",
       "      <th>2018-10-19</th>\n",
       "      <td>1785.160034</td>\n",
       "      <td>1809.099976</td>\n",
       "      <td>1753.000000</td>\n",
       "      <td>1764.030029</td>\n",
       "      <td>1764.030029</td>\n",
       "      <td>5907200</td>\n",
       "      <td>NaN</td>\n",
       "      <td>NaN</td>\n",
       "      <td>NaN</td>\n",
       "    </tr>\n",
       "  </tbody>\n",
       "</table>\n",
       "</div>"
      ],
      "text/plain": [
       "                   Open         High          Low        Close    Adj Close  \\\n",
       "Date                                                                          \n",
       "2018-10-15  1795.000000  1795.050049  1734.229980  1760.949951  1760.949951   \n",
       "2018-10-16  1783.500000  1823.880005  1761.550049  1819.959961  1819.959961   \n",
       "2018-10-17  1842.790039  1845.000000  1807.000000  1831.729980  1831.729980   \n",
       "2018-10-18  1821.489990  1830.150024  1767.869995  1770.719971  1770.719971   \n",
       "2018-10-19  1785.160034  1809.099976  1753.000000  1764.030029  1764.030029   \n",
       "\n",
       "             Volume  10_ac_ma  20_ac_ma  50_ac_ma  \n",
       "Date                                               \n",
       "2018-10-15  6437200       NaN       NaN       NaN  \n",
       "2018-10-16  5859900       NaN       NaN       NaN  \n",
       "2018-10-17  5295200       NaN       NaN       NaN  \n",
       "2018-10-18  5874000       NaN       NaN       NaN  \n",
       "2018-10-19  5907200       NaN       NaN       NaN  "
      ]
     },
     "execution_count": 88,
     "metadata": {},
     "output_type": "execute_result"
    }
   ],
   "source": [
    "df_amzn_test.head()"
   ]
  },
  {
   "cell_type": "code",
   "execution_count": 89,
   "id": "lightweight-omaha",
   "metadata": {},
   "outputs": [
    {
     "data": {
      "text/html": [
       "<div>\n",
       "<style scoped>\n",
       "    .dataframe tbody tr th:only-of-type {\n",
       "        vertical-align: middle;\n",
       "    }\n",
       "\n",
       "    .dataframe tbody tr th {\n",
       "        vertical-align: top;\n",
       "    }\n",
       "\n",
       "    .dataframe thead th {\n",
       "        text-align: right;\n",
       "    }\n",
       "</style>\n",
       "<table border=\"1\" class=\"dataframe\">\n",
       "  <thead>\n",
       "    <tr style=\"text-align: right;\">\n",
       "      <th></th>\n",
       "      <th>Open</th>\n",
       "      <th>High</th>\n",
       "      <th>Low</th>\n",
       "      <th>Close</th>\n",
       "      <th>Adj Close</th>\n",
       "      <th>Volume</th>\n",
       "      <th>10_ac_ma</th>\n",
       "      <th>20_ac_ma</th>\n",
       "      <th>50_ac_ma</th>\n",
       "    </tr>\n",
       "    <tr>\n",
       "      <th>Date</th>\n",
       "      <th></th>\n",
       "      <th></th>\n",
       "      <th></th>\n",
       "      <th></th>\n",
       "      <th></th>\n",
       "      <th></th>\n",
       "      <th></th>\n",
       "      <th></th>\n",
       "      <th></th>\n",
       "    </tr>\n",
       "  </thead>\n",
       "  <tbody>\n",
       "    <tr>\n",
       "      <th>2020-09-10</th>\n",
       "      <td>3307.219971</td>\n",
       "      <td>3349.889893</td>\n",
       "      <td>3170.550049</td>\n",
       "      <td>3175.110107</td>\n",
       "      <td>3175.110107</td>\n",
       "      <td>5330700</td>\n",
       "      <td>NaN</td>\n",
       "      <td>NaN</td>\n",
       "      <td>NaN</td>\n",
       "    </tr>\n",
       "    <tr>\n",
       "      <th>2020-09-11</th>\n",
       "      <td>3208.689941</td>\n",
       "      <td>3217.340088</td>\n",
       "      <td>3083.979980</td>\n",
       "      <td>3116.219971</td>\n",
       "      <td>3116.219971</td>\n",
       "      <td>5094000</td>\n",
       "      <td>NaN</td>\n",
       "      <td>NaN</td>\n",
       "      <td>NaN</td>\n",
       "    </tr>\n",
       "    <tr>\n",
       "      <th>2020-09-14</th>\n",
       "      <td>3172.939941</td>\n",
       "      <td>3187.389893</td>\n",
       "      <td>3096.000000</td>\n",
       "      <td>3102.969971</td>\n",
       "      <td>3102.969971</td>\n",
       "      <td>4529600</td>\n",
       "      <td>NaN</td>\n",
       "      <td>NaN</td>\n",
       "      <td>NaN</td>\n",
       "    </tr>\n",
       "    <tr>\n",
       "      <th>2020-09-15</th>\n",
       "      <td>3136.159912</td>\n",
       "      <td>3175.020020</td>\n",
       "      <td>3108.919922</td>\n",
       "      <td>3156.129883</td>\n",
       "      <td>3156.129883</td>\n",
       "      <td>4021500</td>\n",
       "      <td>NaN</td>\n",
       "      <td>NaN</td>\n",
       "      <td>NaN</td>\n",
       "    </tr>\n",
       "    <tr>\n",
       "      <th>2020-09-16</th>\n",
       "      <td>3179.989990</td>\n",
       "      <td>3187.239990</td>\n",
       "      <td>3074.149902</td>\n",
       "      <td>3078.100098</td>\n",
       "      <td>3078.100098</td>\n",
       "      <td>4512200</td>\n",
       "      <td>NaN</td>\n",
       "      <td>NaN</td>\n",
       "      <td>NaN</td>\n",
       "    </tr>\n",
       "  </tbody>\n",
       "</table>\n",
       "</div>"
      ],
      "text/plain": [
       "                   Open         High          Low        Close    Adj Close  \\\n",
       "Date                                                                          \n",
       "2020-09-10  3307.219971  3349.889893  3170.550049  3175.110107  3175.110107   \n",
       "2020-09-11  3208.689941  3217.340088  3083.979980  3116.219971  3116.219971   \n",
       "2020-09-14  3172.939941  3187.389893  3096.000000  3102.969971  3102.969971   \n",
       "2020-09-15  3136.159912  3175.020020  3108.919922  3156.129883  3156.129883   \n",
       "2020-09-16  3179.989990  3187.239990  3074.149902  3078.100098  3078.100098   \n",
       "\n",
       "             Volume  10_ac_ma  20_ac_ma  50_ac_ma  \n",
       "Date                                               \n",
       "2020-09-10  5330700       NaN       NaN       NaN  \n",
       "2020-09-11  5094000       NaN       NaN       NaN  \n",
       "2020-09-14  4529600       NaN       NaN       NaN  \n",
       "2020-09-15  4021500       NaN       NaN       NaN  \n",
       "2020-09-16  4512200       NaN       NaN       NaN  "
      ]
     },
     "execution_count": 89,
     "metadata": {},
     "output_type": "execute_result"
    }
   ],
   "source": [
    "df_amzn_valid.head()"
   ]
  },
  {
   "cell_type": "code",
   "execution_count": 90,
   "id": "inappropriate-bandwidth",
   "metadata": {},
   "outputs": [
    {
     "data": {
      "text/plain": [
       "<matplotlib.axes._subplots.AxesSubplot at 0x7fdd02442080>"
      ]
     },
     "execution_count": 90,
     "metadata": {},
     "output_type": "execute_result"
    },
    {
     "data": {
      "image/png": "[encoded data removed]",
      "text/plain": [
       "<Figure size 1080x360 with 1 Axes>"
      ]
     },
     "metadata": {
      "needs_background": "light"
     },
     "output_type": "display_data"
    }
   ],
   "source": [
    "df_amzn[start_date:end_date][['Adj Close', '10_ac_ma']].plot(legend=True,figsize=(15,5))"
   ]
  },
  {
   "cell_type": "markdown",
   "id": "optimum-strategy",
   "metadata": {},
   "source": [
    "#### Alphabet Inc. stock moving averages"
   ]
  },
  {
   "cell_type": "code",
   "execution_count": 91,
   "id": "tired-folks",
   "metadata": {},
   "outputs": [],
   "source": [
    "# moving average sizes in days\n",
    "ma_d_sz = [10,20,50]\n",
    "\n",
    "# adding moving average columns to dataframe\n",
    "for mds in ma_d_sz:\n",
    "    column_name = \"%s_ac_ma\" %(str(mds))    \n",
    "    df_googl[column_name] = moving_average(df_googl['Adj Close'], window_size=mds)\n",
    "    df_googl_train[column_name] = moving_average(df_googl_train['Adj Close'], window_size=mds)\n",
    "    df_googl_test[column_name] = moving_average(df_googl_test['Adj Close'], window_size=mds)\n",
    "    df_googl_valid[column_name] = moving_average(df_googl_valid['Adj Close'], window_size=mds)"
   ]
  },
  {
   "cell_type": "code",
   "execution_count": 92,
   "id": "tropical-newsletter",
   "metadata": {},
   "outputs": [
    {
     "data": {
      "text/html": [
       "<div>\n",
       "<style scoped>\n",
       "    .dataframe tbody tr th:only-of-type {\n",
       "        vertical-align: middle;\n",
       "    }\n",
       "\n",
       "    .dataframe tbody tr th {\n",
       "        vertical-align: top;\n",
       "    }\n",
       "\n",
       "    .dataframe thead th {\n",
       "        text-align: right;\n",
       "    }\n",
       "</style>\n",
       "<table border=\"1\" class=\"dataframe\">\n",
       "  <thead>\n",
       "    <tr style=\"text-align: right;\">\n",
       "      <th></th>\n",
       "      <th>Open</th>\n",
       "      <th>High</th>\n",
       "      <th>Low</th>\n",
       "      <th>Close</th>\n",
       "      <th>Adj Close</th>\n",
       "      <th>Volume</th>\n",
       "      <th>10_ac_ma</th>\n",
       "      <th>20_ac_ma</th>\n",
       "      <th>50_ac_ma</th>\n",
       "    </tr>\n",
       "    <tr>\n",
       "      <th>Date</th>\n",
       "      <th></th>\n",
       "      <th></th>\n",
       "      <th></th>\n",
       "      <th></th>\n",
       "      <th></th>\n",
       "      <th></th>\n",
       "      <th></th>\n",
       "      <th></th>\n",
       "      <th></th>\n",
       "    </tr>\n",
       "  </thead>\n",
       "  <tbody>\n",
       "    <tr>\n",
       "      <th>2004-08-19</th>\n",
       "      <td>50.050049</td>\n",
       "      <td>52.082081</td>\n",
       "      <td>48.028027</td>\n",
       "      <td>50.220219</td>\n",
       "      <td>50.220219</td>\n",
       "      <td>44659096</td>\n",
       "      <td>NaN</td>\n",
       "      <td>NaN</td>\n",
       "      <td>NaN</td>\n",
       "    </tr>\n",
       "    <tr>\n",
       "      <th>2004-08-20</th>\n",
       "      <td>50.555557</td>\n",
       "      <td>54.594597</td>\n",
       "      <td>50.300301</td>\n",
       "      <td>54.209209</td>\n",
       "      <td>54.209209</td>\n",
       "      <td>22834343</td>\n",
       "      <td>NaN</td>\n",
       "      <td>NaN</td>\n",
       "      <td>NaN</td>\n",
       "    </tr>\n",
       "    <tr>\n",
       "      <th>2004-08-23</th>\n",
       "      <td>55.430431</td>\n",
       "      <td>56.796799</td>\n",
       "      <td>54.579578</td>\n",
       "      <td>54.754753</td>\n",
       "      <td>54.754753</td>\n",
       "      <td>18256126</td>\n",
       "      <td>NaN</td>\n",
       "      <td>NaN</td>\n",
       "      <td>NaN</td>\n",
       "    </tr>\n",
       "    <tr>\n",
       "      <th>2004-08-24</th>\n",
       "      <td>55.675674</td>\n",
       "      <td>55.855858</td>\n",
       "      <td>51.836838</td>\n",
       "      <td>52.487488</td>\n",
       "      <td>52.487488</td>\n",
       "      <td>15247337</td>\n",
       "      <td>NaN</td>\n",
       "      <td>NaN</td>\n",
       "      <td>NaN</td>\n",
       "    </tr>\n",
       "    <tr>\n",
       "      <th>2004-08-25</th>\n",
       "      <td>52.532532</td>\n",
       "      <td>54.054054</td>\n",
       "      <td>51.991993</td>\n",
       "      <td>53.053055</td>\n",
       "      <td>53.053055</td>\n",
       "      <td>9188602</td>\n",
       "      <td>NaN</td>\n",
       "      <td>NaN</td>\n",
       "      <td>NaN</td>\n",
       "    </tr>\n",
       "  </tbody>\n",
       "</table>\n",
       "</div>"
      ],
      "text/plain": [
       "                 Open       High        Low      Close  Adj Close    Volume  \\\n",
       "Date                                                                          \n",
       "2004-08-19  50.050049  52.082081  48.028027  50.220219  50.220219  44659096   \n",
       "2004-08-20  50.555557  54.594597  50.300301  54.209209  54.209209  22834343   \n",
       "2004-08-23  55.430431  56.796799  54.579578  54.754753  54.754753  18256126   \n",
       "2004-08-24  55.675674  55.855858  51.836838  52.487488  52.487488  15247337   \n",
       "2004-08-25  52.532532  54.054054  51.991993  53.053055  53.053055   9188602   \n",
       "\n",
       "            10_ac_ma  20_ac_ma  50_ac_ma  \n",
       "Date                                      \n",
       "2004-08-19       NaN       NaN       NaN  \n",
       "2004-08-20       NaN       NaN       NaN  \n",
       "2004-08-23       NaN       NaN       NaN  \n",
       "2004-08-24       NaN       NaN       NaN  \n",
       "2004-08-25       NaN       NaN       NaN  "
      ]
     },
     "execution_count": 92,
     "metadata": {},
     "output_type": "execute_result"
    }
   ],
   "source": [
    "df_googl.head()"
   ]
  },
  {
   "cell_type": "markdown",
   "id": "brown-birthday",
   "metadata": {},
   "source": [
    "Moving average feature is empty for the first *n* days, where *n* is the window size, so I'll use some backfill to fill NaN values"
   ]
  },
  {
   "cell_type": "code",
   "execution_count": 93,
   "id": "specified-curve",
   "metadata": {},
   "outputs": [],
   "source": [
    "df_googl.fillna(method='backfill', inplace=True)"
   ]
  },
  {
   "cell_type": "code",
   "execution_count": 94,
   "id": "homeless-brain",
   "metadata": {},
   "outputs": [
    {
     "data": {
      "text/html": [
       "<div>\n",
       "<style scoped>\n",
       "    .dataframe tbody tr th:only-of-type {\n",
       "        vertical-align: middle;\n",
       "    }\n",
       "\n",
       "    .dataframe tbody tr th {\n",
       "        vertical-align: top;\n",
       "    }\n",
       "\n",
       "    .dataframe thead th {\n",
       "        text-align: right;\n",
       "    }\n",
       "</style>\n",
       "<table border=\"1\" class=\"dataframe\">\n",
       "  <thead>\n",
       "    <tr style=\"text-align: right;\">\n",
       "      <th></th>\n",
       "      <th>Open</th>\n",
       "      <th>High</th>\n",
       "      <th>Low</th>\n",
       "      <th>Close</th>\n",
       "      <th>Adj Close</th>\n",
       "      <th>Volume</th>\n",
       "      <th>10_ac_ma</th>\n",
       "      <th>20_ac_ma</th>\n",
       "      <th>50_ac_ma</th>\n",
       "    </tr>\n",
       "    <tr>\n",
       "      <th>Date</th>\n",
       "      <th></th>\n",
       "      <th></th>\n",
       "      <th></th>\n",
       "      <th></th>\n",
       "      <th></th>\n",
       "      <th></th>\n",
       "      <th></th>\n",
       "      <th></th>\n",
       "      <th></th>\n",
       "    </tr>\n",
       "  </thead>\n",
       "  <tbody>\n",
       "    <tr>\n",
       "      <th>2004-08-19</th>\n",
       "      <td>50.050049</td>\n",
       "      <td>52.082081</td>\n",
       "      <td>48.028027</td>\n",
       "      <td>50.220219</td>\n",
       "      <td>50.220219</td>\n",
       "      <td>44659096</td>\n",
       "      <td>52.432933</td>\n",
       "      <td>52.692943</td>\n",
       "      <td>63.586987</td>\n",
       "    </tr>\n",
       "    <tr>\n",
       "      <th>2004-08-20</th>\n",
       "      <td>50.555557</td>\n",
       "      <td>54.594597</td>\n",
       "      <td>50.300301</td>\n",
       "      <td>54.209209</td>\n",
       "      <td>54.209209</td>\n",
       "      <td>22834343</td>\n",
       "      <td>52.432933</td>\n",
       "      <td>52.692943</td>\n",
       "      <td>63.586987</td>\n",
       "    </tr>\n",
       "    <tr>\n",
       "      <th>2004-08-23</th>\n",
       "      <td>55.430431</td>\n",
       "      <td>56.796799</td>\n",
       "      <td>54.579578</td>\n",
       "      <td>54.754753</td>\n",
       "      <td>54.754753</td>\n",
       "      <td>18256126</td>\n",
       "      <td>52.432933</td>\n",
       "      <td>52.692943</td>\n",
       "      <td>63.586987</td>\n",
       "    </tr>\n",
       "    <tr>\n",
       "      <th>2004-08-24</th>\n",
       "      <td>55.675674</td>\n",
       "      <td>55.855858</td>\n",
       "      <td>51.836838</td>\n",
       "      <td>52.487488</td>\n",
       "      <td>52.487488</td>\n",
       "      <td>15247337</td>\n",
       "      <td>52.432933</td>\n",
       "      <td>52.692943</td>\n",
       "      <td>63.586987</td>\n",
       "    </tr>\n",
       "    <tr>\n",
       "      <th>2004-08-25</th>\n",
       "      <td>52.532532</td>\n",
       "      <td>54.054054</td>\n",
       "      <td>51.991993</td>\n",
       "      <td>53.053055</td>\n",
       "      <td>53.053055</td>\n",
       "      <td>9188602</td>\n",
       "      <td>52.432933</td>\n",
       "      <td>52.692943</td>\n",
       "      <td>63.586987</td>\n",
       "    </tr>\n",
       "  </tbody>\n",
       "</table>\n",
       "</div>"
      ],
      "text/plain": [
       "                 Open       High        Low      Close  Adj Close    Volume  \\\n",
       "Date                                                                          \n",
       "2004-08-19  50.050049  52.082081  48.028027  50.220219  50.220219  44659096   \n",
       "2004-08-20  50.555557  54.594597  50.300301  54.209209  54.209209  22834343   \n",
       "2004-08-23  55.430431  56.796799  54.579578  54.754753  54.754753  18256126   \n",
       "2004-08-24  55.675674  55.855858  51.836838  52.487488  52.487488  15247337   \n",
       "2004-08-25  52.532532  54.054054  51.991993  53.053055  53.053055   9188602   \n",
       "\n",
       "             10_ac_ma   20_ac_ma   50_ac_ma  \n",
       "Date                                         \n",
       "2004-08-19  52.432933  52.692943  63.586987  \n",
       "2004-08-20  52.432933  52.692943  63.586987  \n",
       "2004-08-23  52.432933  52.692943  63.586987  \n",
       "2004-08-24  52.432933  52.692943  63.586987  \n",
       "2004-08-25  52.432933  52.692943  63.586987  "
      ]
     },
     "execution_count": 94,
     "metadata": {},
     "output_type": "execute_result"
    }
   ],
   "source": [
    "df_googl.head()"
   ]
  },
  {
   "cell_type": "code",
   "execution_count": 95,
   "id": "rough-harrison",
   "metadata": {},
   "outputs": [
    {
     "data": {
      "text/html": [
       "<div>\n",
       "<style scoped>\n",
       "    .dataframe tbody tr th:only-of-type {\n",
       "        vertical-align: middle;\n",
       "    }\n",
       "\n",
       "    .dataframe tbody tr th {\n",
       "        vertical-align: top;\n",
       "    }\n",
       "\n",
       "    .dataframe thead th {\n",
       "        text-align: right;\n",
       "    }\n",
       "</style>\n",
       "<table border=\"1\" class=\"dataframe\">\n",
       "  <thead>\n",
       "    <tr style=\"text-align: right;\">\n",
       "      <th></th>\n",
       "      <th>Open</th>\n",
       "      <th>High</th>\n",
       "      <th>Low</th>\n",
       "      <th>Close</th>\n",
       "      <th>Adj Close</th>\n",
       "      <th>Volume</th>\n",
       "      <th>10_ac_ma</th>\n",
       "      <th>20_ac_ma</th>\n",
       "      <th>50_ac_ma</th>\n",
       "    </tr>\n",
       "    <tr>\n",
       "      <th>Date</th>\n",
       "      <th></th>\n",
       "      <th></th>\n",
       "      <th></th>\n",
       "      <th></th>\n",
       "      <th></th>\n",
       "      <th></th>\n",
       "      <th></th>\n",
       "      <th></th>\n",
       "      <th></th>\n",
       "    </tr>\n",
       "  </thead>\n",
       "  <tbody>\n",
       "    <tr>\n",
       "      <th>2004-08-19</th>\n",
       "      <td>50.050049</td>\n",
       "      <td>52.082081</td>\n",
       "      <td>48.028027</td>\n",
       "      <td>50.220219</td>\n",
       "      <td>50.220219</td>\n",
       "      <td>44659096</td>\n",
       "      <td>NaN</td>\n",
       "      <td>NaN</td>\n",
       "      <td>NaN</td>\n",
       "    </tr>\n",
       "    <tr>\n",
       "      <th>2004-08-20</th>\n",
       "      <td>50.555557</td>\n",
       "      <td>54.594597</td>\n",
       "      <td>50.300301</td>\n",
       "      <td>54.209209</td>\n",
       "      <td>54.209209</td>\n",
       "      <td>22834343</td>\n",
       "      <td>NaN</td>\n",
       "      <td>NaN</td>\n",
       "      <td>NaN</td>\n",
       "    </tr>\n",
       "    <tr>\n",
       "      <th>2004-08-23</th>\n",
       "      <td>55.430431</td>\n",
       "      <td>56.796799</td>\n",
       "      <td>54.579578</td>\n",
       "      <td>54.754753</td>\n",
       "      <td>54.754753</td>\n",
       "      <td>18256126</td>\n",
       "      <td>NaN</td>\n",
       "      <td>NaN</td>\n",
       "      <td>NaN</td>\n",
       "    </tr>\n",
       "    <tr>\n",
       "      <th>2004-08-24</th>\n",
       "      <td>55.675674</td>\n",
       "      <td>55.855858</td>\n",
       "      <td>51.836838</td>\n",
       "      <td>52.487488</td>\n",
       "      <td>52.487488</td>\n",
       "      <td>15247337</td>\n",
       "      <td>NaN</td>\n",
       "      <td>NaN</td>\n",
       "      <td>NaN</td>\n",
       "    </tr>\n",
       "    <tr>\n",
       "      <th>2004-08-25</th>\n",
       "      <td>52.532532</td>\n",
       "      <td>54.054054</td>\n",
       "      <td>51.991993</td>\n",
       "      <td>53.053055</td>\n",
       "      <td>53.053055</td>\n",
       "      <td>9188602</td>\n",
       "      <td>NaN</td>\n",
       "      <td>NaN</td>\n",
       "      <td>NaN</td>\n",
       "    </tr>\n",
       "  </tbody>\n",
       "</table>\n",
       "</div>"
      ],
      "text/plain": [
       "                 Open       High        Low      Close  Adj Close    Volume  \\\n",
       "Date                                                                          \n",
       "2004-08-19  50.050049  52.082081  48.028027  50.220219  50.220219  44659096   \n",
       "2004-08-20  50.555557  54.594597  50.300301  54.209209  54.209209  22834343   \n",
       "2004-08-23  55.430431  56.796799  54.579578  54.754753  54.754753  18256126   \n",
       "2004-08-24  55.675674  55.855858  51.836838  52.487488  52.487488  15247337   \n",
       "2004-08-25  52.532532  54.054054  51.991993  53.053055  53.053055   9188602   \n",
       "\n",
       "            10_ac_ma  20_ac_ma  50_ac_ma  \n",
       "Date                                      \n",
       "2004-08-19       NaN       NaN       NaN  \n",
       "2004-08-20       NaN       NaN       NaN  \n",
       "2004-08-23       NaN       NaN       NaN  \n",
       "2004-08-24       NaN       NaN       NaN  \n",
       "2004-08-25       NaN       NaN       NaN  "
      ]
     },
     "execution_count": 95,
     "metadata": {},
     "output_type": "execute_result"
    }
   ],
   "source": [
    "df_googl_train.head()"
   ]
  },
  {
   "cell_type": "code",
   "execution_count": 96,
   "id": "international-sensitivity",
   "metadata": {},
   "outputs": [
    {
     "data": {
      "text/html": [
       "<div>\n",
       "<style scoped>\n",
       "    .dataframe tbody tr th:only-of-type {\n",
       "        vertical-align: middle;\n",
       "    }\n",
       "\n",
       "    .dataframe tbody tr th {\n",
       "        vertical-align: top;\n",
       "    }\n",
       "\n",
       "    .dataframe thead th {\n",
       "        text-align: right;\n",
       "    }\n",
       "</style>\n",
       "<table border=\"1\" class=\"dataframe\">\n",
       "  <thead>\n",
       "    <tr style=\"text-align: right;\">\n",
       "      <th></th>\n",
       "      <th>Open</th>\n",
       "      <th>High</th>\n",
       "      <th>Low</th>\n",
       "      <th>Close</th>\n",
       "      <th>Adj Close</th>\n",
       "      <th>Volume</th>\n",
       "      <th>10_ac_ma</th>\n",
       "      <th>20_ac_ma</th>\n",
       "      <th>50_ac_ma</th>\n",
       "    </tr>\n",
       "    <tr>\n",
       "      <th>Date</th>\n",
       "      <th></th>\n",
       "      <th></th>\n",
       "      <th></th>\n",
       "      <th></th>\n",
       "      <th></th>\n",
       "      <th></th>\n",
       "      <th></th>\n",
       "      <th></th>\n",
       "      <th></th>\n",
       "    </tr>\n",
       "  </thead>\n",
       "  <tbody>\n",
       "    <tr>\n",
       "      <th>2019-07-09</th>\n",
       "      <td>1110.319946</td>\n",
       "      <td>1127.859985</td>\n",
       "      <td>1107.150024</td>\n",
       "      <td>1124.290039</td>\n",
       "      <td>1124.290039</td>\n",
       "      <td>1473600</td>\n",
       "      <td>NaN</td>\n",
       "      <td>NaN</td>\n",
       "      <td>NaN</td>\n",
       "    </tr>\n",
       "    <tr>\n",
       "      <th>2019-07-10</th>\n",
       "      <td>1132.319946</td>\n",
       "      <td>1142.339966</td>\n",
       "      <td>1130.660034</td>\n",
       "      <td>1140.910034</td>\n",
       "      <td>1140.910034</td>\n",
       "      <td>1535500</td>\n",
       "      <td>NaN</td>\n",
       "      <td>NaN</td>\n",
       "      <td>NaN</td>\n",
       "    </tr>\n",
       "    <tr>\n",
       "      <th>2019-07-11</th>\n",
       "      <td>1146.160034</td>\n",
       "      <td>1153.239990</td>\n",
       "      <td>1139.530029</td>\n",
       "      <td>1144.079956</td>\n",
       "      <td>1144.079956</td>\n",
       "      <td>1300200</td>\n",
       "      <td>NaN</td>\n",
       "      <td>NaN</td>\n",
       "      <td>NaN</td>\n",
       "    </tr>\n",
       "    <tr>\n",
       "      <th>2019-07-12</th>\n",
       "      <td>1142.930054</td>\n",
       "      <td>1147.500000</td>\n",
       "      <td>1138.560059</td>\n",
       "      <td>1145.339966</td>\n",
       "      <td>1145.339966</td>\n",
       "      <td>1093900</td>\n",
       "      <td>NaN</td>\n",
       "      <td>NaN</td>\n",
       "      <td>NaN</td>\n",
       "    </tr>\n",
       "    <tr>\n",
       "      <th>2019-07-15</th>\n",
       "      <td>1145.339966</td>\n",
       "      <td>1150.680054</td>\n",
       "      <td>1140.000000</td>\n",
       "      <td>1150.510010</td>\n",
       "      <td>1150.510010</td>\n",
       "      <td>1058200</td>\n",
       "      <td>NaN</td>\n",
       "      <td>NaN</td>\n",
       "      <td>NaN</td>\n",
       "    </tr>\n",
       "  </tbody>\n",
       "</table>\n",
       "</div>"
      ],
      "text/plain": [
       "                   Open         High          Low        Close    Adj Close  \\\n",
       "Date                                                                          \n",
       "2019-07-09  1110.319946  1127.859985  1107.150024  1124.290039  1124.290039   \n",
       "2019-07-10  1132.319946  1142.339966  1130.660034  1140.910034  1140.910034   \n",
       "2019-07-11  1146.160034  1153.239990  1139.530029  1144.079956  1144.079956   \n",
       "2019-07-12  1142.930054  1147.500000  1138.560059  1145.339966  1145.339966   \n",
       "2019-07-15  1145.339966  1150.680054  1140.000000  1150.510010  1150.510010   \n",
       "\n",
       "             Volume  10_ac_ma  20_ac_ma  50_ac_ma  \n",
       "Date                                               \n",
       "2019-07-09  1473600       NaN       NaN       NaN  \n",
       "2019-07-10  1535500       NaN       NaN       NaN  \n",
       "2019-07-11  1300200       NaN       NaN       NaN  \n",
       "2019-07-12  1093900       NaN       NaN       NaN  \n",
       "2019-07-15  1058200       NaN       NaN       NaN  "
      ]
     },
     "execution_count": 96,
     "metadata": {},
     "output_type": "execute_result"
    }
   ],
   "source": [
    "df_googl_test.head()"
   ]
  },
  {
   "cell_type": "code",
   "execution_count": 97,
   "id": "proved-convergence",
   "metadata": {},
   "outputs": [
    {
     "data": {
      "text/html": [
       "<div>\n",
       "<style scoped>\n",
       "    .dataframe tbody tr th:only-of-type {\n",
       "        vertical-align: middle;\n",
       "    }\n",
       "\n",
       "    .dataframe tbody tr th {\n",
       "        vertical-align: top;\n",
       "    }\n",
       "\n",
       "    .dataframe thead th {\n",
       "        text-align: right;\n",
       "    }\n",
       "</style>\n",
       "<table border=\"1\" class=\"dataframe\">\n",
       "  <thead>\n",
       "    <tr style=\"text-align: right;\">\n",
       "      <th></th>\n",
       "      <th>Open</th>\n",
       "      <th>High</th>\n",
       "      <th>Low</th>\n",
       "      <th>Close</th>\n",
       "      <th>Adj Close</th>\n",
       "      <th>Volume</th>\n",
       "      <th>10_ac_ma</th>\n",
       "      <th>20_ac_ma</th>\n",
       "      <th>50_ac_ma</th>\n",
       "    </tr>\n",
       "    <tr>\n",
       "      <th>Date</th>\n",
       "      <th></th>\n",
       "      <th></th>\n",
       "      <th></th>\n",
       "      <th></th>\n",
       "      <th></th>\n",
       "      <th></th>\n",
       "      <th></th>\n",
       "      <th></th>\n",
       "      <th></th>\n",
       "    </tr>\n",
       "  </thead>\n",
       "  <tbody>\n",
       "    <tr>\n",
       "      <th>2020-10-30</th>\n",
       "      <td>1667.439941</td>\n",
       "      <td>1681.319946</td>\n",
       "      <td>1601.569946</td>\n",
       "      <td>1616.109985</td>\n",
       "      <td>1616.109985</td>\n",
       "      <td>4993900</td>\n",
       "      <td>NaN</td>\n",
       "      <td>NaN</td>\n",
       "      <td>NaN</td>\n",
       "    </tr>\n",
       "    <tr>\n",
       "      <th>2020-11-02</th>\n",
       "      <td>1623.540039</td>\n",
       "      <td>1658.239990</td>\n",
       "      <td>1614.239990</td>\n",
       "      <td>1624.319946</td>\n",
       "      <td>1624.319946</td>\n",
       "      <td>2211400</td>\n",
       "      <td>NaN</td>\n",
       "      <td>NaN</td>\n",
       "      <td>NaN</td>\n",
       "    </tr>\n",
       "    <tr>\n",
       "      <th>2020-11-03</th>\n",
       "      <td>1630.760010</td>\n",
       "      <td>1659.000000</td>\n",
       "      <td>1612.109985</td>\n",
       "      <td>1645.660034</td>\n",
       "      <td>1645.660034</td>\n",
       "      <td>1571600</td>\n",
       "      <td>NaN</td>\n",
       "      <td>NaN</td>\n",
       "      <td>NaN</td>\n",
       "    </tr>\n",
       "    <tr>\n",
       "      <th>2020-11-04</th>\n",
       "      <td>1705.579956</td>\n",
       "      <td>1770.030029</td>\n",
       "      <td>1703.000000</td>\n",
       "      <td>1745.849976</td>\n",
       "      <td>1745.849976</td>\n",
       "      <td>3567100</td>\n",
       "      <td>NaN</td>\n",
       "      <td>NaN</td>\n",
       "      <td>NaN</td>\n",
       "    </tr>\n",
       "    <tr>\n",
       "      <th>2020-11-05</th>\n",
       "      <td>1770.449951</td>\n",
       "      <td>1791.819946</td>\n",
       "      <td>1741.030029</td>\n",
       "      <td>1762.500000</td>\n",
       "      <td>1762.500000</td>\n",
       "      <td>1987900</td>\n",
       "      <td>NaN</td>\n",
       "      <td>NaN</td>\n",
       "      <td>NaN</td>\n",
       "    </tr>\n",
       "  </tbody>\n",
       "</table>\n",
       "</div>"
      ],
      "text/plain": [
       "                   Open         High          Low        Close    Adj Close  \\\n",
       "Date                                                                          \n",
       "2020-10-30  1667.439941  1681.319946  1601.569946  1616.109985  1616.109985   \n",
       "2020-11-02  1623.540039  1658.239990  1614.239990  1624.319946  1624.319946   \n",
       "2020-11-03  1630.760010  1659.000000  1612.109985  1645.660034  1645.660034   \n",
       "2020-11-04  1705.579956  1770.030029  1703.000000  1745.849976  1745.849976   \n",
       "2020-11-05  1770.449951  1791.819946  1741.030029  1762.500000  1762.500000   \n",
       "\n",
       "             Volume  10_ac_ma  20_ac_ma  50_ac_ma  \n",
       "Date                                               \n",
       "2020-10-30  4993900       NaN       NaN       NaN  \n",
       "2020-11-02  2211400       NaN       NaN       NaN  \n",
       "2020-11-03  1571600       NaN       NaN       NaN  \n",
       "2020-11-04  3567100       NaN       NaN       NaN  \n",
       "2020-11-05  1987900       NaN       NaN       NaN  "
      ]
     },
     "execution_count": 97,
     "metadata": {},
     "output_type": "execute_result"
    }
   ],
   "source": [
    "df_googl_valid.head()"
   ]
  },
  {
   "cell_type": "code",
   "execution_count": 98,
   "id": "needed-asset",
   "metadata": {},
   "outputs": [
    {
     "data": {
      "text/plain": [
       "<matplotlib.axes._subplots.AxesSubplot at 0x7fdd01e187b8>"
      ]
     },
     "execution_count": 98,
     "metadata": {},
     "output_type": "execute_result"
    },
    {
     "data": {
      "image/png": "[encoded data removed]",
      "text/plain": [
       "<Figure size 1080x360 with 1 Axes>"
      ]
     },
     "metadata": {
      "needs_background": "light"
     },
     "output_type": "display_data"
    }
   ],
   "source": [
    "df_googl[analysis_start_date:end][['Adj Close', '20_ac_ma']].plot(legend=True,figsize=(15,5))"
   ]
  },
  {
   "cell_type": "markdown",
   "id": "undefined-alberta",
   "metadata": {},
   "source": [
    "### Metrics computation"
   ]
  },
  {
   "cell_type": "markdown",
   "id": "contained-paragraph",
   "metadata": {},
   "source": [
    "Computing metrics on the benchmark model will give me a good reference to evaluate the deep learning model after training."
   ]
  },
  {
   "cell_type": "markdown",
   "id": "express-ceramic",
   "metadata": {},
   "source": [
    "As can be presumed and seen from data prints, first `n` values of validation data are `NaN` so, it will be better just to exclude the first `n-1` values from the validation set to avoid misleading values to be catch in metrics evaluation. "
   ]
  },
  {
   "cell_type": "code",
   "execution_count": 99,
   "id": "unlimited-trademark",
   "metadata": {},
   "outputs": [],
   "source": [
    "from sklearn.metrics import mean_squared_error"
   ]
  },
  {
   "cell_type": "markdown",
   "id": "forbidden-danish",
   "metadata": {},
   "source": [
    "#### IBM stock"
   ]
  },
  {
   "cell_type": "code",
   "execution_count": 100,
   "id": "charming-traffic",
   "metadata": {},
   "outputs": [],
   "source": [
    "n = 10\n",
    "ma_str = str(n)+'_ac_ma'"
   ]
  },
  {
   "cell_type": "code",
   "execution_count": 101,
   "id": "spatial-empty",
   "metadata": {},
   "outputs": [],
   "source": [
    "ibm_ma_mse_loss = mean_squared_error(df_ibm_valid.iloc[n-1:]['Adj Close'], df_ibm_valid.iloc[n-1:][ma_str])"
   ]
  },
  {
   "cell_type": "code",
   "execution_count": 102,
   "id": "outstanding-amber",
   "metadata": {},
   "outputs": [
    {
     "name": "stdout",
     "output_type": "stream",
     "text": [
      "20.918277026236694\n"
     ]
    }
   ],
   "source": [
    "print(ibm_ma_mse_loss)"
   ]
  },
  {
   "cell_type": "code",
   "execution_count": 103,
   "id": "extreme-handling",
   "metadata": {},
   "outputs": [],
   "source": [
    "n = 20\n",
    "ma_str = str(n)+'_ac_ma'"
   ]
  },
  {
   "cell_type": "code",
   "execution_count": 104,
   "id": "combined-track",
   "metadata": {},
   "outputs": [],
   "source": [
    "ibm_ma_mse_loss = mean_squared_error(df_ibm_valid.iloc[n-1:]['Adj Close'], df_ibm_valid[n-1:][ma_str])"
   ]
  },
  {
   "cell_type": "code",
   "execution_count": 105,
   "id": "complex-facing",
   "metadata": {},
   "outputs": [
    {
     "name": "stdout",
     "output_type": "stream",
     "text": [
      "50.31336934017377\n"
     ]
    }
   ],
   "source": [
    "print(ibm_ma_mse_loss)"
   ]
  },
  {
   "cell_type": "code",
   "execution_count": 106,
   "id": "victorian-thriller",
   "metadata": {},
   "outputs": [],
   "source": [
    "n = 50\n",
    "ma_str = str(n)+'_ac_ma'"
   ]
  },
  {
   "cell_type": "code",
   "execution_count": 107,
   "id": "united-index",
   "metadata": {},
   "outputs": [],
   "source": [
    "ibm_ma_mse_loss = mean_squared_error(df_ibm_valid.iloc[n-1:]['Adj Close'], df_ibm_valid[n-1:][ma_str])"
   ]
  },
  {
   "cell_type": "code",
   "execution_count": 108,
   "id": "revised-excess",
   "metadata": {},
   "outputs": [
    {
     "name": "stdout",
     "output_type": "stream",
     "text": [
      "82.56896212876177\n"
     ]
    }
   ],
   "source": [
    "print(ibm_ma_mse_loss)"
   ]
  },
  {
   "cell_type": "markdown",
   "id": "charitable-explorer",
   "metadata": {},
   "source": [
    "#### Apple Inc. stock"
   ]
  },
  {
   "cell_type": "code",
   "execution_count": 109,
   "id": "understood-yeast",
   "metadata": {},
   "outputs": [],
   "source": [
    "n = 10\n",
    "ma_str = str(n)+'_ac_ma'"
   ]
  },
  {
   "cell_type": "code",
   "execution_count": 110,
   "id": "agricultural-heavy",
   "metadata": {},
   "outputs": [],
   "source": [
    "aapl_ma_mse_loss = mean_squared_error(df_aapl_valid.iloc[n-1:]['Adj Close'], df_aapl_valid.iloc[n-1:][ma_str])"
   ]
  },
  {
   "cell_type": "code",
   "execution_count": 111,
   "id": "supreme-reservation",
   "metadata": {},
   "outputs": [
    {
     "name": "stdout",
     "output_type": "stream",
     "text": [
      "18.972150097454808\n"
     ]
    }
   ],
   "source": [
    "print(aapl_ma_mse_loss)"
   ]
  },
  {
   "cell_type": "code",
   "execution_count": 112,
   "id": "great-coalition",
   "metadata": {},
   "outputs": [],
   "source": [
    "n = 20\n",
    "ma_str = str(n)+'_ac_ma'"
   ]
  },
  {
   "cell_type": "code",
   "execution_count": 113,
   "id": "residential-camping",
   "metadata": {},
   "outputs": [],
   "source": [
    "aapl_ma_mse_loss = mean_squared_error(df_aapl_valid.iloc[n-1:]['Adj Close'], df_aapl_valid[n-1:][ma_str])"
   ]
  },
  {
   "cell_type": "code",
   "execution_count": 114,
   "id": "indonesian-potato",
   "metadata": {},
   "outputs": [
    {
     "name": "stdout",
     "output_type": "stream",
     "text": [
      "40.603920381056696\n"
     ]
    }
   ],
   "source": [
    "print(aapl_ma_mse_loss)"
   ]
  },
  {
   "cell_type": "code",
   "execution_count": 115,
   "id": "static-fellow",
   "metadata": {},
   "outputs": [],
   "source": [
    "n = 50\n",
    "ma_str = str(n)+'_ac_ma'"
   ]
  },
  {
   "cell_type": "code",
   "execution_count": 116,
   "id": "persistent-profit",
   "metadata": {},
   "outputs": [],
   "source": [
    "aapl_ma_mse_loss = mean_squared_error(df_aapl_valid.iloc[n-1:]['Adj Close'], df_aapl_valid[n-1:][ma_str])"
   ]
  },
  {
   "cell_type": "code",
   "execution_count": 117,
   "id": "stainless-signature",
   "metadata": {},
   "outputs": [
    {
     "name": "stdout",
     "output_type": "stream",
     "text": [
      "110.41320400978593\n"
     ]
    }
   ],
   "source": [
    "print(aapl_ma_mse_loss)"
   ]
  },
  {
   "cell_type": "markdown",
   "id": "executive-roman",
   "metadata": {},
   "source": [
    "#### Amazon.com stock"
   ]
  },
  {
   "cell_type": "code",
   "execution_count": 118,
   "id": "universal-allowance",
   "metadata": {},
   "outputs": [],
   "source": [
    "n = 10\n",
    "ma_str = str(n)+'_ac_ma'"
   ]
  },
  {
   "cell_type": "code",
   "execution_count": 119,
   "id": "optimum-vulnerability",
   "metadata": {},
   "outputs": [],
   "source": [
    "amzn_ma_mse_loss = mean_squared_error(df_amzn_valid.iloc[n-1:]['Adj Close'], df_amzn_valid.iloc[n-1:][ma_str])"
   ]
  },
  {
   "cell_type": "code",
   "execution_count": 120,
   "id": "failing-george",
   "metadata": {},
   "outputs": [
    {
     "name": "stdout",
     "output_type": "stream",
     "text": [
      "6059.613747694114\n"
     ]
    }
   ],
   "source": [
    "print(amzn_ma_mse_loss)"
   ]
  },
  {
   "cell_type": "code",
   "execution_count": 121,
   "id": "blank-trader",
   "metadata": {},
   "outputs": [],
   "source": [
    "n = 20\n",
    "ma_str = str(n)+'_ac_ma'"
   ]
  },
  {
   "cell_type": "code",
   "execution_count": 122,
   "id": "popular-adolescent",
   "metadata": {},
   "outputs": [],
   "source": [
    "amzn_ma_mse_loss = mean_squared_error(df_amzn_valid.iloc[n-1:]['Adj Close'], df_amzn_valid[n-1:][ma_str])"
   ]
  },
  {
   "cell_type": "code",
   "execution_count": 123,
   "id": "sitting-trust",
   "metadata": {},
   "outputs": [
    {
     "name": "stdout",
     "output_type": "stream",
     "text": [
      "9384.401128406415\n"
     ]
    }
   ],
   "source": [
    "print(amzn_ma_mse_loss)"
   ]
  },
  {
   "cell_type": "code",
   "execution_count": 124,
   "id": "jewish-apartment",
   "metadata": {},
   "outputs": [],
   "source": [
    "n = 50\n",
    "ma_str = str(n)+'_ac_ma'"
   ]
  },
  {
   "cell_type": "code",
   "execution_count": 125,
   "id": "judicial-parks",
   "metadata": {},
   "outputs": [],
   "source": [
    "amzn_ma_mse_loss = mean_squared_error(df_amzn_valid.iloc[n-1:]['Adj Close'], df_amzn_valid[n-1:][ma_str])"
   ]
  },
  {
   "cell_type": "code",
   "execution_count": 126,
   "id": "alpine-married",
   "metadata": {},
   "outputs": [
    {
     "name": "stdout",
     "output_type": "stream",
     "text": [
      "6861.506123047632\n"
     ]
    }
   ],
   "source": [
    "print(amzn_ma_mse_loss)"
   ]
  },
  {
   "cell_type": "markdown",
   "id": "natural-lease",
   "metadata": {},
   "source": [
    "#### Alphabet Inc. stock"
   ]
  },
  {
   "cell_type": "code",
   "execution_count": 127,
   "id": "incorporated-replacement",
   "metadata": {},
   "outputs": [],
   "source": [
    "n = 10\n",
    "ma_str = str(n)+'_ac_ma'"
   ]
  },
  {
   "cell_type": "code",
   "execution_count": 128,
   "id": "false-monday",
   "metadata": {},
   "outputs": [],
   "source": [
    "googl_ma_mse_loss = mean_squared_error(df_googl_valid.iloc[n-1:]['Adj Close'], df_googl_valid.iloc[n-1:][ma_str])"
   ]
  },
  {
   "cell_type": "code",
   "execution_count": 129,
   "id": "southern-mexico",
   "metadata": {},
   "outputs": [
    {
     "name": "stdout",
     "output_type": "stream",
     "text": [
      "2913.722604245833\n"
     ]
    }
   ],
   "source": [
    "print(googl_ma_mse_loss)"
   ]
  },
  {
   "cell_type": "code",
   "execution_count": 130,
   "id": "moderate-promise",
   "metadata": {},
   "outputs": [],
   "source": [
    "n = 20\n",
    "ma_str = str(n)+'_ac_ma'"
   ]
  },
  {
   "cell_type": "code",
   "execution_count": 131,
   "id": "ideal-uncertainty",
   "metadata": {},
   "outputs": [],
   "source": [
    "googl_ma_mse_loss = mean_squared_error(df_googl_valid.iloc[n-1:]['Adj Close'], df_googl_valid[n-1:][ma_str])"
   ]
  },
  {
   "cell_type": "code",
   "execution_count": 132,
   "id": "dressed-tsunami",
   "metadata": {},
   "outputs": [
    {
     "name": "stdout",
     "output_type": "stream",
     "text": [
      "7876.979431529724\n"
     ]
    }
   ],
   "source": [
    "print(googl_ma_mse_loss)"
   ]
  },
  {
   "cell_type": "code",
   "execution_count": 133,
   "id": "discrete-operation",
   "metadata": {},
   "outputs": [],
   "source": [
    "n = 50\n",
    "ma_str = str(n)+'_ac_ma'"
   ]
  },
  {
   "cell_type": "code",
   "execution_count": 134,
   "id": "material-upgrade",
   "metadata": {},
   "outputs": [],
   "source": [
    "googl_ma_mse_loss = mean_squared_error(df_googl_valid.iloc[n-1:]['Adj Close'], df_googl_valid[n-1:][ma_str])"
   ]
  },
  {
   "cell_type": "code",
   "execution_count": 135,
   "id": "recorded-insert",
   "metadata": {},
   "outputs": [
    {
     "name": "stdout",
     "output_type": "stream",
     "text": [
      "33735.63074925932\n"
     ]
    }
   ],
   "source": [
    "print(googl_ma_mse_loss)"
   ]
  },
  {
   "cell_type": "markdown",
   "id": "blank-onion",
   "metadata": {},
   "source": [
    "Volatility"
   ]
  },
  {
   "cell_type": "code",
   "execution_count": 136,
   "id": "sustained-detection",
   "metadata": {},
   "outputs": [
    {
     "name": "stdout",
     "output_type": "stream",
     "text": [
      "50.41103336518167\n"
     ]
    }
   ],
   "source": [
    "print(volatility(df_ibm_valid['Adj Close'], n))"
   ]
  },
  {
   "cell_type": "code",
   "execution_count": 137,
   "id": "weekly-worcester",
   "metadata": {},
   "outputs": [
    {
     "name": "stdout",
     "output_type": "stream",
     "text": [
      "43.688573139817336\n"
     ]
    }
   ],
   "source": [
    "print(volatility(df_aapl_valid['Adj Close'], n))"
   ]
  },
  {
   "cell_type": "code",
   "execution_count": 138,
   "id": "russian-territory",
   "metadata": {},
   "outputs": [
    {
     "name": "stdout",
     "output_type": "stream",
     "text": [
      "4028.852233722834\n"
     ]
    }
   ],
   "source": [
    "print(volatility(df_amzn_valid['Adj Close'], n))"
   ]
  },
  {
   "cell_type": "code",
   "execution_count": 139,
   "id": "focused-lexington",
   "metadata": {},
   "outputs": [
    {
     "name": "stdout",
     "output_type": "stream",
     "text": [
      "4225.065785217152\n"
     ]
    }
   ],
   "source": [
    "print(volatility(df_googl_valid['Adj Close'], n))"
   ]
  },
  {
   "cell_type": "markdown",
   "id": "amended-syndrome",
   "metadata": {},
   "source": [
    "As expected, loss augments as we observe moving average on larger windows.\n",
    "Also, we can observe that Amazon.com and Alphabet Inc. have greater losses, that also corresponds to higher volatility."
   ]
  }
 ],
 "metadata": {
  "kernelspec": {
   "display_name": "conda_pytorch_p36",
   "language": "python",
   "name": "conda_pytorch_p36"
  },
  "language_info": {
   "codemirror_mode": {
    "name": "ipython",
    "version": 3
   },
   "file_extension": ".py",
   "mimetype": "text/x-python",
   "name": "python",
   "nbconvert_exporter": "python",
   "pygments_lexer": "ipython3",
   "version": "3.6.10"
  }
 },
 "nbformat": 4,
 "nbformat_minor": 5
}
