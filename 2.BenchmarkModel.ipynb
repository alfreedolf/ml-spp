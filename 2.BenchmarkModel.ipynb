{
 "cells": [
  {
   "cell_type": "markdown",
   "id": "silent-magazine",
   "metadata": {},
   "source": [
    "## Benchmark model"
   ]
  },
  {
   "cell_type": "markdown",
   "id": "pressed-peripheral",
   "metadata": {},
   "source": [
    "In this notebook a Simple Moving Average model will be created in order to have a benchmark for my DeepAR based model (to be tuned in the next notebook)."
   ]
  },
  {
   "cell_type": "markdown",
   "id": "transsexual-airfare",
   "metadata": {},
   "source": [
    "### Hyperparameters"
   ]
  },
  {
   "cell_type": "markdown",
   "id": "indian-correction",
   "metadata": {},
   "source": [
    "DeepAR is the model of choice of this project.\n",
    "This model expects input data to be already test-train splitted.\n",
    "A big part of the model design has to be done looking close at data.\n",
    "More specifically, defining these two hyperparameters about the data:\n",
    "* Context length\n",
    "* Prediction length"
   ]
  },
  {
   "cell_type": "markdown",
   "id": "worldwide-speech",
   "metadata": {},
   "source": [
    "### Prediction length"
   ]
  },
  {
   "cell_type": "markdown",
   "id": "swedish-state",
   "metadata": {},
   "source": [
    "This is the length of the time series future predictions in days. It will be conveniently set to 5 days (exactly a week of trading hours) because a shorter interval would be of little significance.\n",
    "A longer interval could be interesting from an application point of view, but it can be challenging in terms of model performances."
   ]
  },
  {
   "cell_type": "markdown",
   "id": "foster-athens",
   "metadata": {},
   "source": [
    "### Context length"
   ]
  },
  {
   "cell_type": "markdown",
   "id": "regular-world",
   "metadata": {},
   "source": [
    "Context length can be either:\n",
    "* designed on patterns or seasonality observed in the data, if any is present;\n",
    "* chosen as a fixed value. This will be my choice, and it will be the same as the moving average window, in order to have a good reference metrics, applicable to both this model and the benchmark model."
   ]
  },
  {
   "cell_type": "markdown",
   "id": "departmental-housing",
   "metadata": {},
   "source": [
    "To explore this second option, we will refer to what we've found during the EDA stage."
   ]
  },
  {
   "cell_type": "code",
   "execution_count": 97,
   "id": "supreme-better",
   "metadata": {},
   "outputs": [],
   "source": [
    "prediction_length = [10, 20, 50]\n",
    "context_length = [10, 20, 50]"
   ]
  },
  {
   "cell_type": "markdown",
   "id": "strange-quebec",
   "metadata": {},
   "source": [
    "### Train, test and validation split"
   ]
  },
  {
   "cell_type": "markdown",
   "id": "statewide-draft",
   "metadata": {},
   "source": [
    "Time series will be all trimmed from `data_start` in `1.ExploratoryDataAnalysis.ipy`, according to DeepAR documentation, train time series should be set as the size of the entire time series less the prediction length.\n",
    "Validation length will exactly equal to prediction length."
   ]
  },
  {
   "cell_type": "code",
   "execution_count": 98,
   "id": "strategic-mobility",
   "metadata": {},
   "outputs": [],
   "source": [
    "from data.data_utils import train_test_valid_split"
   ]
  },
  {
   "cell_type": "markdown",
   "id": "driving-southeast",
   "metadata": {},
   "source": [
    "#### IBM Stock train, test and validation split"
   ]
  },
  {
   "cell_type": "code",
   "execution_count": 99,
   "id": "cooperative-valentine",
   "metadata": {},
   "outputs": [],
   "source": [
    "df_ibm = df_ibm.loc[data_start:].copy()"
   ]
  },
  {
   "cell_type": "code",
   "execution_count": 100,
   "id": "internal-giving",
   "metadata": {},
   "outputs": [
    {
     "name": "stdout",
     "output_type": "stream",
     "text": [
      "4170 4130 4150 20\n"
     ]
    }
   ],
   "source": [
    "df_ibm_train, df_ibm_test, df_ibm_valid = train_test_valid_split(df_ibm, prediction_length=prediction_length[1])\n",
    "print(len(df_ibm), len(df_ibm_train), len(df_ibm_test), len(df_ibm_valid))"
   ]
  },
  {
   "cell_type": "code",
   "execution_count": 101,
   "id": "modified-conflict",
   "metadata": {},
   "outputs": [
    {
     "data": {
      "text/html": [
       "<div>\n",
       "<style scoped>\n",
       "    .dataframe tbody tr th:only-of-type {\n",
       "        vertical-align: middle;\n",
       "    }\n",
       "\n",
       "    .dataframe tbody tr th {\n",
       "        vertical-align: top;\n",
       "    }\n",
       "\n",
       "    .dataframe thead th {\n",
       "        text-align: right;\n",
       "    }\n",
       "</style>\n",
       "<table border=\"1\" class=\"dataframe\">\n",
       "  <thead>\n",
       "    <tr style=\"text-align: right;\">\n",
       "      <th></th>\n",
       "      <th>Open</th>\n",
       "      <th>High</th>\n",
       "      <th>Low</th>\n",
       "      <th>Close</th>\n",
       "      <th>Adj Close</th>\n",
       "      <th>Volume</th>\n",
       "      <th>10_ac_ma</th>\n",
       "      <th>20_ac_ma</th>\n",
       "      <th>50_ac_ma</th>\n",
       "      <th>10_ac_bb_u</th>\n",
       "      <th>10_ac_bb_l</th>\n",
       "      <th>20_ac_bb_u</th>\n",
       "      <th>20_ac_bb_l</th>\n",
       "      <th>50_ac_bb_u</th>\n",
       "      <th>50_ac_bb_l</th>\n",
       "    </tr>\n",
       "    <tr>\n",
       "      <th>Date</th>\n",
       "      <th></th>\n",
       "      <th></th>\n",
       "      <th></th>\n",
       "      <th></th>\n",
       "      <th></th>\n",
       "      <th></th>\n",
       "      <th></th>\n",
       "      <th></th>\n",
       "      <th></th>\n",
       "      <th></th>\n",
       "      <th></th>\n",
       "      <th></th>\n",
       "      <th></th>\n",
       "      <th></th>\n",
       "      <th></th>\n",
       "    </tr>\n",
       "  </thead>\n",
       "  <tbody>\n",
       "    <tr>\n",
       "      <th>2004-08-19</th>\n",
       "      <td>84.750000</td>\n",
       "      <td>85.349998</td>\n",
       "      <td>84.449997</td>\n",
       "      <td>84.889999</td>\n",
       "      <td>54.979382</td>\n",
       "      <td>4704500</td>\n",
       "      <td>54.397126</td>\n",
       "      <td>54.958798</td>\n",
       "      <td>55.913001</td>\n",
       "      <td>55.525647</td>\n",
       "      <td>53.268605</td>\n",
       "      <td>56.500281</td>\n",
       "      <td>53.417314</td>\n",
       "      <td>59.046566</td>\n",
       "      <td>52.779437</td>\n",
       "    </tr>\n",
       "    <tr>\n",
       "      <th>2004-08-20</th>\n",
       "      <td>84.519997</td>\n",
       "      <td>85.250000</td>\n",
       "      <td>84.519997</td>\n",
       "      <td>85.250000</td>\n",
       "      <td>55.212502</td>\n",
       "      <td>4501400</td>\n",
       "      <td>54.511759</td>\n",
       "      <td>54.977556</td>\n",
       "      <td>55.852774</td>\n",
       "      <td>55.720874</td>\n",
       "      <td>53.302644</td>\n",
       "      <td>56.521944</td>\n",
       "      <td>53.433168</td>\n",
       "      <td>58.920109</td>\n",
       "      <td>52.785438</td>\n",
       "    </tr>\n",
       "    <tr>\n",
       "      <th>2004-08-23</th>\n",
       "      <td>85.230003</td>\n",
       "      <td>85.449997</td>\n",
       "      <td>84.650002</td>\n",
       "      <td>84.650002</td>\n",
       "      <td>54.823910</td>\n",
       "      <td>4260600</td>\n",
       "      <td>54.582999</td>\n",
       "      <td>54.969128</td>\n",
       "      <td>55.779992</td>\n",
       "      <td>55.771068</td>\n",
       "      <td>53.394930</td>\n",
       "      <td>56.515013</td>\n",
       "      <td>53.423244</td>\n",
       "      <td>58.766151</td>\n",
       "      <td>52.793832</td>\n",
       "    </tr>\n",
       "    <tr>\n",
       "      <th>2004-08-24</th>\n",
       "      <td>85.000000</td>\n",
       "      <td>85.150002</td>\n",
       "      <td>84.349998</td>\n",
       "      <td>84.709999</td>\n",
       "      <td>54.862782</td>\n",
       "      <td>2710400</td>\n",
       "      <td>54.564866</td>\n",
       "      <td>54.937116</td>\n",
       "      <td>55.713028</td>\n",
       "      <td>55.726906</td>\n",
       "      <td>53.402826</td>\n",
       "      <td>56.462835</td>\n",
       "      <td>53.411398</td>\n",
       "      <td>58.625949</td>\n",
       "      <td>52.800108</td>\n",
       "    </tr>\n",
       "    <tr>\n",
       "      <th>2004-08-25</th>\n",
       "      <td>85.000000</td>\n",
       "      <td>85.269997</td>\n",
       "      <td>84.550003</td>\n",
       "      <td>85.070000</td>\n",
       "      <td>55.095955</td>\n",
       "      <td>4405600</td>\n",
       "      <td>54.654243</td>\n",
       "      <td>54.917732</td>\n",
       "      <td>55.644653</td>\n",
       "      <td>55.829713</td>\n",
       "      <td>53.478772</td>\n",
       "      <td>56.423940</td>\n",
       "      <td>53.411524</td>\n",
       "      <td>58.447571</td>\n",
       "      <td>52.841736</td>\n",
       "    </tr>\n",
       "  </tbody>\n",
       "</table>\n",
       "</div>"
      ],
      "text/plain": [
       "                 Open       High        Low      Close  Adj Close   Volume  \\\n",
       "Date                                                                         \n",
       "2004-08-19  84.750000  85.349998  84.449997  84.889999  54.979382  4704500   \n",
       "2004-08-20  84.519997  85.250000  84.519997  85.250000  55.212502  4501400   \n",
       "2004-08-23  85.230003  85.449997  84.650002  84.650002  54.823910  4260600   \n",
       "2004-08-24  85.000000  85.150002  84.349998  84.709999  54.862782  2710400   \n",
       "2004-08-25  85.000000  85.269997  84.550003  85.070000  55.095955  4405600   \n",
       "\n",
       "             10_ac_ma   20_ac_ma   50_ac_ma  10_ac_bb_u  10_ac_bb_l  \\\n",
       "Date                                                                  \n",
       "2004-08-19  54.397126  54.958798  55.913001   55.525647   53.268605   \n",
       "2004-08-20  54.511759  54.977556  55.852774   55.720874   53.302644   \n",
       "2004-08-23  54.582999  54.969128  55.779992   55.771068   53.394930   \n",
       "2004-08-24  54.564866  54.937116  55.713028   55.726906   53.402826   \n",
       "2004-08-25  54.654243  54.917732  55.644653   55.829713   53.478772   \n",
       "\n",
       "            20_ac_bb_u  20_ac_bb_l  50_ac_bb_u  50_ac_bb_l  \n",
       "Date                                                        \n",
       "2004-08-19   56.500281   53.417314   59.046566   52.779437  \n",
       "2004-08-20   56.521944   53.433168   58.920109   52.785438  \n",
       "2004-08-23   56.515013   53.423244   58.766151   52.793832  \n",
       "2004-08-24   56.462835   53.411398   58.625949   52.800108  \n",
       "2004-08-25   56.423940   53.411524   58.447571   52.841736  "
      ]
     },
     "execution_count": 101,
     "metadata": {},
     "output_type": "execute_result"
    }
   ],
   "source": [
    "df_ibm_train.head()"
   ]
  },
  {
   "cell_type": "code",
   "execution_count": 102,
   "id": "recreational-textbook",
   "metadata": {},
   "outputs": [
    {
     "data": {
      "text/html": [
       "<div>\n",
       "<style scoped>\n",
       "    .dataframe tbody tr th:only-of-type {\n",
       "        vertical-align: middle;\n",
       "    }\n",
       "\n",
       "    .dataframe tbody tr th {\n",
       "        vertical-align: top;\n",
       "    }\n",
       "\n",
       "    .dataframe thead th {\n",
       "        text-align: right;\n",
       "    }\n",
       "</style>\n",
       "<table border=\"1\" class=\"dataframe\">\n",
       "  <thead>\n",
       "    <tr style=\"text-align: right;\">\n",
       "      <th></th>\n",
       "      <th>Open</th>\n",
       "      <th>High</th>\n",
       "      <th>Low</th>\n",
       "      <th>Close</th>\n",
       "      <th>Adj Close</th>\n",
       "      <th>Volume</th>\n",
       "      <th>10_ac_ma</th>\n",
       "      <th>20_ac_ma</th>\n",
       "      <th>50_ac_ma</th>\n",
       "      <th>10_ac_bb_u</th>\n",
       "      <th>10_ac_bb_l</th>\n",
       "      <th>20_ac_bb_u</th>\n",
       "      <th>20_ac_bb_l</th>\n",
       "      <th>50_ac_bb_u</th>\n",
       "      <th>50_ac_bb_l</th>\n",
       "    </tr>\n",
       "    <tr>\n",
       "      <th>Date</th>\n",
       "      <th></th>\n",
       "      <th></th>\n",
       "      <th></th>\n",
       "      <th></th>\n",
       "      <th></th>\n",
       "      <th></th>\n",
       "      <th></th>\n",
       "      <th></th>\n",
       "      <th></th>\n",
       "      <th></th>\n",
       "      <th></th>\n",
       "      <th></th>\n",
       "      <th></th>\n",
       "      <th></th>\n",
       "      <th></th>\n",
       "    </tr>\n",
       "  </thead>\n",
       "  <tbody>\n",
       "    <tr>\n",
       "      <th>2004-08-19</th>\n",
       "      <td>84.750000</td>\n",
       "      <td>85.349998</td>\n",
       "      <td>84.449997</td>\n",
       "      <td>84.889999</td>\n",
       "      <td>54.979382</td>\n",
       "      <td>4704500</td>\n",
       "      <td>54.397126</td>\n",
       "      <td>54.958798</td>\n",
       "      <td>55.913001</td>\n",
       "      <td>55.525647</td>\n",
       "      <td>53.268605</td>\n",
       "      <td>56.500281</td>\n",
       "      <td>53.417314</td>\n",
       "      <td>59.046566</td>\n",
       "      <td>52.779437</td>\n",
       "    </tr>\n",
       "    <tr>\n",
       "      <th>2004-08-20</th>\n",
       "      <td>84.519997</td>\n",
       "      <td>85.250000</td>\n",
       "      <td>84.519997</td>\n",
       "      <td>85.250000</td>\n",
       "      <td>55.212502</td>\n",
       "      <td>4501400</td>\n",
       "      <td>54.511759</td>\n",
       "      <td>54.977556</td>\n",
       "      <td>55.852774</td>\n",
       "      <td>55.720874</td>\n",
       "      <td>53.302644</td>\n",
       "      <td>56.521944</td>\n",
       "      <td>53.433168</td>\n",
       "      <td>58.920109</td>\n",
       "      <td>52.785438</td>\n",
       "    </tr>\n",
       "    <tr>\n",
       "      <th>2004-08-23</th>\n",
       "      <td>85.230003</td>\n",
       "      <td>85.449997</td>\n",
       "      <td>84.650002</td>\n",
       "      <td>84.650002</td>\n",
       "      <td>54.823910</td>\n",
       "      <td>4260600</td>\n",
       "      <td>54.582999</td>\n",
       "      <td>54.969128</td>\n",
       "      <td>55.779992</td>\n",
       "      <td>55.771068</td>\n",
       "      <td>53.394930</td>\n",
       "      <td>56.515013</td>\n",
       "      <td>53.423244</td>\n",
       "      <td>58.766151</td>\n",
       "      <td>52.793832</td>\n",
       "    </tr>\n",
       "    <tr>\n",
       "      <th>2004-08-24</th>\n",
       "      <td>85.000000</td>\n",
       "      <td>85.150002</td>\n",
       "      <td>84.349998</td>\n",
       "      <td>84.709999</td>\n",
       "      <td>54.862782</td>\n",
       "      <td>2710400</td>\n",
       "      <td>54.564866</td>\n",
       "      <td>54.937116</td>\n",
       "      <td>55.713028</td>\n",
       "      <td>55.726906</td>\n",
       "      <td>53.402826</td>\n",
       "      <td>56.462835</td>\n",
       "      <td>53.411398</td>\n",
       "      <td>58.625949</td>\n",
       "      <td>52.800108</td>\n",
       "    </tr>\n",
       "    <tr>\n",
       "      <th>2004-08-25</th>\n",
       "      <td>85.000000</td>\n",
       "      <td>85.269997</td>\n",
       "      <td>84.550003</td>\n",
       "      <td>85.070000</td>\n",
       "      <td>55.095955</td>\n",
       "      <td>4405600</td>\n",
       "      <td>54.654243</td>\n",
       "      <td>54.917732</td>\n",
       "      <td>55.644653</td>\n",
       "      <td>55.829713</td>\n",
       "      <td>53.478772</td>\n",
       "      <td>56.423940</td>\n",
       "      <td>53.411524</td>\n",
       "      <td>58.447571</td>\n",
       "      <td>52.841736</td>\n",
       "    </tr>\n",
       "  </tbody>\n",
       "</table>\n",
       "</div>"
      ],
      "text/plain": [
       "                 Open       High        Low      Close  Adj Close   Volume  \\\n",
       "Date                                                                         \n",
       "2004-08-19  84.750000  85.349998  84.449997  84.889999  54.979382  4704500   \n",
       "2004-08-20  84.519997  85.250000  84.519997  85.250000  55.212502  4501400   \n",
       "2004-08-23  85.230003  85.449997  84.650002  84.650002  54.823910  4260600   \n",
       "2004-08-24  85.000000  85.150002  84.349998  84.709999  54.862782  2710400   \n",
       "2004-08-25  85.000000  85.269997  84.550003  85.070000  55.095955  4405600   \n",
       "\n",
       "             10_ac_ma   20_ac_ma   50_ac_ma  10_ac_bb_u  10_ac_bb_l  \\\n",
       "Date                                                                  \n",
       "2004-08-19  54.397126  54.958798  55.913001   55.525647   53.268605   \n",
       "2004-08-20  54.511759  54.977556  55.852774   55.720874   53.302644   \n",
       "2004-08-23  54.582999  54.969128  55.779992   55.771068   53.394930   \n",
       "2004-08-24  54.564866  54.937116  55.713028   55.726906   53.402826   \n",
       "2004-08-25  54.654243  54.917732  55.644653   55.829713   53.478772   \n",
       "\n",
       "            20_ac_bb_u  20_ac_bb_l  50_ac_bb_u  50_ac_bb_l  \n",
       "Date                                                        \n",
       "2004-08-19   56.500281   53.417314   59.046566   52.779437  \n",
       "2004-08-20   56.521944   53.433168   58.920109   52.785438  \n",
       "2004-08-23   56.515013   53.423244   58.766151   52.793832  \n",
       "2004-08-24   56.462835   53.411398   58.625949   52.800108  \n",
       "2004-08-25   56.423940   53.411524   58.447571   52.841736  "
      ]
     },
     "execution_count": 102,
     "metadata": {},
     "output_type": "execute_result"
    }
   ],
   "source": [
    "df_ibm_test.head()"
   ]
  },
  {
   "cell_type": "code",
   "execution_count": 103,
   "id": "lonely-october",
   "metadata": {},
   "outputs": [
    {
     "data": {
      "text/html": [
       "<div>\n",
       "<style scoped>\n",
       "    .dataframe tbody tr th:only-of-type {\n",
       "        vertical-align: middle;\n",
       "    }\n",
       "\n",
       "    .dataframe tbody tr th {\n",
       "        vertical-align: top;\n",
       "    }\n",
       "\n",
       "    .dataframe thead th {\n",
       "        text-align: right;\n",
       "    }\n",
       "</style>\n",
       "<table border=\"1\" class=\"dataframe\">\n",
       "  <thead>\n",
       "    <tr style=\"text-align: right;\">\n",
       "      <th></th>\n",
       "      <th>Open</th>\n",
       "      <th>High</th>\n",
       "      <th>Low</th>\n",
       "      <th>Close</th>\n",
       "      <th>Adj Close</th>\n",
       "      <th>Volume</th>\n",
       "      <th>10_ac_ma</th>\n",
       "      <th>20_ac_ma</th>\n",
       "      <th>50_ac_ma</th>\n",
       "      <th>10_ac_bb_u</th>\n",
       "      <th>10_ac_bb_l</th>\n",
       "      <th>20_ac_bb_u</th>\n",
       "      <th>20_ac_bb_l</th>\n",
       "      <th>50_ac_bb_u</th>\n",
       "      <th>50_ac_bb_l</th>\n",
       "    </tr>\n",
       "    <tr>\n",
       "      <th>Date</th>\n",
       "      <th></th>\n",
       "      <th></th>\n",
       "      <th></th>\n",
       "      <th></th>\n",
       "      <th></th>\n",
       "      <th></th>\n",
       "      <th></th>\n",
       "      <th></th>\n",
       "      <th></th>\n",
       "      <th></th>\n",
       "      <th></th>\n",
       "      <th></th>\n",
       "      <th></th>\n",
       "      <th></th>\n",
       "      <th></th>\n",
       "    </tr>\n",
       "  </thead>\n",
       "  <tbody>\n",
       "    <tr>\n",
       "      <th>2021-02-12</th>\n",
       "      <td>121.000000</td>\n",
       "      <td>121.360001</td>\n",
       "      <td>120.089996</td>\n",
       "      <td>120.800003</td>\n",
       "      <td>120.800003</td>\n",
       "      <td>3868900</td>\n",
       "      <td>120.200284</td>\n",
       "      <td>121.306254</td>\n",
       "      <td>122.992767</td>\n",
       "      <td>123.628698</td>\n",
       "      <td>116.771870</td>\n",
       "      <td>129.077036</td>\n",
       "      <td>113.535473</td>\n",
       "      <td>129.279414</td>\n",
       "      <td>116.706120</td>\n",
       "    </tr>\n",
       "    <tr>\n",
       "      <th>2021-02-16</th>\n",
       "      <td>120.150002</td>\n",
       "      <td>120.599998</td>\n",
       "      <td>119.360001</td>\n",
       "      <td>120.070000</td>\n",
       "      <td>120.070000</td>\n",
       "      <td>6639800</td>\n",
       "      <td>120.312235</td>\n",
       "      <td>120.974906</td>\n",
       "      <td>122.934634</td>\n",
       "      <td>123.630615</td>\n",
       "      <td>116.993855</td>\n",
       "      <td>128.331988</td>\n",
       "      <td>113.617823</td>\n",
       "      <td>129.275412</td>\n",
       "      <td>116.593856</td>\n",
       "    </tr>\n",
       "    <tr>\n",
       "      <th>2021-02-17</th>\n",
       "      <td>119.269997</td>\n",
       "      <td>120.559998</td>\n",
       "      <td>119.019997</td>\n",
       "      <td>119.970001</td>\n",
       "      <td>119.970001</td>\n",
       "      <td>3959100</td>\n",
       "      <td>120.522736</td>\n",
       "      <td>120.607473</td>\n",
       "      <td>122.894434</td>\n",
       "      <td>123.387170</td>\n",
       "      <td>117.658302</td>\n",
       "      <td>127.337892</td>\n",
       "      <td>113.877054</td>\n",
       "      <td>129.285204</td>\n",
       "      <td>116.503663</td>\n",
       "    </tr>\n",
       "    <tr>\n",
       "      <th>2021-02-18</th>\n",
       "      <td>120.500000</td>\n",
       "      <td>120.940002</td>\n",
       "      <td>119.699997</td>\n",
       "      <td>120.730003</td>\n",
       "      <td>120.730003</td>\n",
       "      <td>5398100</td>\n",
       "      <td>120.840816</td>\n",
       "      <td>120.225739</td>\n",
       "      <td>122.798580</td>\n",
       "      <td>122.801605</td>\n",
       "      <td>118.880026</td>\n",
       "      <td>125.884348</td>\n",
       "      <td>114.567129</td>\n",
       "      <td>129.172198</td>\n",
       "      <td>116.424963</td>\n",
       "    </tr>\n",
       "    <tr>\n",
       "      <th>2021-02-19</th>\n",
       "      <td>120.750000</td>\n",
       "      <td>120.760002</td>\n",
       "      <td>118.379997</td>\n",
       "      <td>118.989998</td>\n",
       "      <td>118.989998</td>\n",
       "      <td>6578700</td>\n",
       "      <td>120.797401</td>\n",
       "      <td>119.679540</td>\n",
       "      <td>122.717268</td>\n",
       "      <td>122.910881</td>\n",
       "      <td>118.683921</td>\n",
       "      <td>123.044776</td>\n",
       "      <td>116.314304</td>\n",
       "      <td>129.180605</td>\n",
       "      <td>116.253931</td>\n",
       "    </tr>\n",
       "  </tbody>\n",
       "</table>\n",
       "</div>"
      ],
      "text/plain": [
       "                  Open        High         Low       Close   Adj Close  \\\n",
       "Date                                                                     \n",
       "2021-02-12  121.000000  121.360001  120.089996  120.800003  120.800003   \n",
       "2021-02-16  120.150002  120.599998  119.360001  120.070000  120.070000   \n",
       "2021-02-17  119.269997  120.559998  119.019997  119.970001  119.970001   \n",
       "2021-02-18  120.500000  120.940002  119.699997  120.730003  120.730003   \n",
       "2021-02-19  120.750000  120.760002  118.379997  118.989998  118.989998   \n",
       "\n",
       "             Volume    10_ac_ma    20_ac_ma    50_ac_ma  10_ac_bb_u  \\\n",
       "Date                                                                  \n",
       "2021-02-12  3868900  120.200284  121.306254  122.992767  123.628698   \n",
       "2021-02-16  6639800  120.312235  120.974906  122.934634  123.630615   \n",
       "2021-02-17  3959100  120.522736  120.607473  122.894434  123.387170   \n",
       "2021-02-18  5398100  120.840816  120.225739  122.798580  122.801605   \n",
       "2021-02-19  6578700  120.797401  119.679540  122.717268  122.910881   \n",
       "\n",
       "            10_ac_bb_l  20_ac_bb_u  20_ac_bb_l  50_ac_bb_u  50_ac_bb_l  \n",
       "Date                                                                    \n",
       "2021-02-12  116.771870  129.077036  113.535473  129.279414  116.706120  \n",
       "2021-02-16  116.993855  128.331988  113.617823  129.275412  116.593856  \n",
       "2021-02-17  117.658302  127.337892  113.877054  129.285204  116.503663  \n",
       "2021-02-18  118.880026  125.884348  114.567129  129.172198  116.424963  \n",
       "2021-02-19  118.683921  123.044776  116.314304  129.180605  116.253931  "
      ]
     },
     "execution_count": 103,
     "metadata": {},
     "output_type": "execute_result"
    }
   ],
   "source": [
    "df_ibm_valid.head()"
   ]
  },
  {
   "cell_type": "markdown",
   "id": "above-contribution",
   "metadata": {},
   "source": [
    "#### Apple Inc. Stock train test split"
   ]
  },
  {
   "cell_type": "code",
   "execution_count": 104,
   "id": "exterior-logan",
   "metadata": {},
   "outputs": [],
   "source": [
    "df_aapl = df_aapl.loc[data_start:].copy()"
   ]
  },
  {
   "cell_type": "code",
   "execution_count": 105,
   "id": "tracked-marble",
   "metadata": {},
   "outputs": [
    {
     "name": "stdout",
     "output_type": "stream",
     "text": [
      "4170 4130 4150 20\n"
     ]
    }
   ],
   "source": [
    "df_aapl_train, df_aapl_test, df_aapl_valid = train_test_valid_split(df_aapl, prediction_length=prediction_length[1])\n",
    "print(len(df_aapl), len(df_aapl_train), len(df_aapl_test), len(df_aapl_valid))"
   ]
  },
  {
   "cell_type": "code",
   "execution_count": 106,
   "id": "rental-argument",
   "metadata": {},
   "outputs": [
    {
     "data": {
      "text/html": [
       "<div>\n",
       "<style scoped>\n",
       "    .dataframe tbody tr th:only-of-type {\n",
       "        vertical-align: middle;\n",
       "    }\n",
       "\n",
       "    .dataframe tbody tr th {\n",
       "        vertical-align: top;\n",
       "    }\n",
       "\n",
       "    .dataframe thead th {\n",
       "        text-align: right;\n",
       "    }\n",
       "</style>\n",
       "<table border=\"1\" class=\"dataframe\">\n",
       "  <thead>\n",
       "    <tr style=\"text-align: right;\">\n",
       "      <th></th>\n",
       "      <th>Open</th>\n",
       "      <th>High</th>\n",
       "      <th>Low</th>\n",
       "      <th>Close</th>\n",
       "      <th>Adj Close</th>\n",
       "      <th>Volume</th>\n",
       "      <th>10_ac_ma</th>\n",
       "      <th>20_ac_ma</th>\n",
       "      <th>50_ac_ma</th>\n",
       "      <th>10_ac_bb_u</th>\n",
       "      <th>10_ac_bb_l</th>\n",
       "      <th>20_ac_bb_u</th>\n",
       "      <th>20_ac_bb_l</th>\n",
       "      <th>50_ac_bb_u</th>\n",
       "      <th>50_ac_bb_l</th>\n",
       "    </tr>\n",
       "    <tr>\n",
       "      <th>Date</th>\n",
       "      <th></th>\n",
       "      <th></th>\n",
       "      <th></th>\n",
       "      <th></th>\n",
       "      <th></th>\n",
       "      <th></th>\n",
       "      <th></th>\n",
       "      <th></th>\n",
       "      <th></th>\n",
       "      <th></th>\n",
       "      <th></th>\n",
       "      <th></th>\n",
       "      <th></th>\n",
       "      <th></th>\n",
       "      <th></th>\n",
       "    </tr>\n",
       "  </thead>\n",
       "  <tbody>\n",
       "    <tr>\n",
       "      <th>2004-08-19</th>\n",
       "      <td>0.562679</td>\n",
       "      <td>0.568929</td>\n",
       "      <td>0.542143</td>\n",
       "      <td>0.548393</td>\n",
       "      <td>0.472366</td>\n",
       "      <td>388920000</td>\n",
       "      <td>0.473627</td>\n",
       "      <td>0.481141</td>\n",
       "      <td>0.484422</td>\n",
       "      <td>0.491197</td>\n",
       "      <td>0.456057</td>\n",
       "      <td>0.504857</td>\n",
       "      <td>0.457425</td>\n",
       "      <td>0.519835</td>\n",
       "      <td>0.449008</td>\n",
       "    </tr>\n",
       "    <tr>\n",
       "      <th>2004-08-20</th>\n",
       "      <td>0.548393</td>\n",
       "      <td>0.553393</td>\n",
       "      <td>0.544464</td>\n",
       "      <td>0.550000</td>\n",
       "      <td>0.473750</td>\n",
       "      <td>316780800</td>\n",
       "      <td>0.475196</td>\n",
       "      <td>0.481218</td>\n",
       "      <td>0.484606</td>\n",
       "      <td>0.488983</td>\n",
       "      <td>0.461409</td>\n",
       "      <td>0.504821</td>\n",
       "      <td>0.457614</td>\n",
       "      <td>0.519691</td>\n",
       "      <td>0.449521</td>\n",
       "    </tr>\n",
       "    <tr>\n",
       "      <th>2004-08-23</th>\n",
       "      <td>0.551071</td>\n",
       "      <td>0.558393</td>\n",
       "      <td>0.546429</td>\n",
       "      <td>0.555000</td>\n",
       "      <td>0.478057</td>\n",
       "      <td>254660000</td>\n",
       "      <td>0.476395</td>\n",
       "      <td>0.481079</td>\n",
       "      <td>0.484711</td>\n",
       "      <td>0.488652</td>\n",
       "      <td>0.464139</td>\n",
       "      <td>0.504725</td>\n",
       "      <td>0.457433</td>\n",
       "      <td>0.519683</td>\n",
       "      <td>0.449738</td>\n",
       "    </tr>\n",
       "    <tr>\n",
       "      <th>2004-08-24</th>\n",
       "      <td>0.558214</td>\n",
       "      <td>0.570536</td>\n",
       "      <td>0.556964</td>\n",
       "      <td>0.570536</td>\n",
       "      <td>0.491439</td>\n",
       "      <td>374136000</td>\n",
       "      <td>0.477057</td>\n",
       "      <td>0.480710</td>\n",
       "      <td>0.485274</td>\n",
       "      <td>0.491797</td>\n",
       "      <td>0.462317</td>\n",
       "      <td>0.503401</td>\n",
       "      <td>0.458019</td>\n",
       "      <td>0.519742</td>\n",
       "      <td>0.450806</td>\n",
       "    </tr>\n",
       "    <tr>\n",
       "      <th>2004-08-25</th>\n",
       "      <td>0.569107</td>\n",
       "      <td>0.591964</td>\n",
       "      <td>0.566607</td>\n",
       "      <td>0.590179</td>\n",
       "      <td>0.508359</td>\n",
       "      <td>505618400</td>\n",
       "      <td>0.480195</td>\n",
       "      <td>0.481310</td>\n",
       "      <td>0.486000</td>\n",
       "      <td>0.504872</td>\n",
       "      <td>0.455517</td>\n",
       "      <td>0.506265</td>\n",
       "      <td>0.456355</td>\n",
       "      <td>0.520858</td>\n",
       "      <td>0.451141</td>\n",
       "    </tr>\n",
       "  </tbody>\n",
       "</table>\n",
       "</div>"
      ],
      "text/plain": [
       "                Open      High       Low     Close  Adj Close     Volume  \\\n",
       "Date                                                                       \n",
       "2004-08-19  0.562679  0.568929  0.542143  0.548393   0.472366  388920000   \n",
       "2004-08-20  0.548393  0.553393  0.544464  0.550000   0.473750  316780800   \n",
       "2004-08-23  0.551071  0.558393  0.546429  0.555000   0.478057  254660000   \n",
       "2004-08-24  0.558214  0.570536  0.556964  0.570536   0.491439  374136000   \n",
       "2004-08-25  0.569107  0.591964  0.566607  0.590179   0.508359  505618400   \n",
       "\n",
       "            10_ac_ma  20_ac_ma  50_ac_ma  10_ac_bb_u  10_ac_bb_l  20_ac_bb_u  \\\n",
       "Date                                                                           \n",
       "2004-08-19  0.473627  0.481141  0.484422    0.491197    0.456057    0.504857   \n",
       "2004-08-20  0.475196  0.481218  0.484606    0.488983    0.461409    0.504821   \n",
       "2004-08-23  0.476395  0.481079  0.484711    0.488652    0.464139    0.504725   \n",
       "2004-08-24  0.477057  0.480710  0.485274    0.491797    0.462317    0.503401   \n",
       "2004-08-25  0.480195  0.481310  0.486000    0.504872    0.455517    0.506265   \n",
       "\n",
       "            20_ac_bb_l  50_ac_bb_u  50_ac_bb_l  \n",
       "Date                                            \n",
       "2004-08-19    0.457425    0.519835    0.449008  \n",
       "2004-08-20    0.457614    0.519691    0.449521  \n",
       "2004-08-23    0.457433    0.519683    0.449738  \n",
       "2004-08-24    0.458019    0.519742    0.450806  \n",
       "2004-08-25    0.456355    0.520858    0.451141  "
      ]
     },
     "execution_count": 106,
     "metadata": {},
     "output_type": "execute_result"
    }
   ],
   "source": [
    "df_aapl_train.head()"
   ]
  },
  {
   "cell_type": "code",
   "execution_count": 107,
   "id": "middle-officer",
   "metadata": {},
   "outputs": [
    {
     "data": {
      "text/html": [
       "<div>\n",
       "<style scoped>\n",
       "    .dataframe tbody tr th:only-of-type {\n",
       "        vertical-align: middle;\n",
       "    }\n",
       "\n",
       "    .dataframe tbody tr th {\n",
       "        vertical-align: top;\n",
       "    }\n",
       "\n",
       "    .dataframe thead th {\n",
       "        text-align: right;\n",
       "    }\n",
       "</style>\n",
       "<table border=\"1\" class=\"dataframe\">\n",
       "  <thead>\n",
       "    <tr style=\"text-align: right;\">\n",
       "      <th></th>\n",
       "      <th>Open</th>\n",
       "      <th>High</th>\n",
       "      <th>Low</th>\n",
       "      <th>Close</th>\n",
       "      <th>Adj Close</th>\n",
       "      <th>Volume</th>\n",
       "      <th>10_ac_ma</th>\n",
       "      <th>20_ac_ma</th>\n",
       "      <th>50_ac_ma</th>\n",
       "      <th>10_ac_bb_u</th>\n",
       "      <th>10_ac_bb_l</th>\n",
       "      <th>20_ac_bb_u</th>\n",
       "      <th>20_ac_bb_l</th>\n",
       "      <th>50_ac_bb_u</th>\n",
       "      <th>50_ac_bb_l</th>\n",
       "    </tr>\n",
       "    <tr>\n",
       "      <th>Date</th>\n",
       "      <th></th>\n",
       "      <th></th>\n",
       "      <th></th>\n",
       "      <th></th>\n",
       "      <th></th>\n",
       "      <th></th>\n",
       "      <th></th>\n",
       "      <th></th>\n",
       "      <th></th>\n",
       "      <th></th>\n",
       "      <th></th>\n",
       "      <th></th>\n",
       "      <th></th>\n",
       "      <th></th>\n",
       "      <th></th>\n",
       "    </tr>\n",
       "  </thead>\n",
       "  <tbody>\n",
       "    <tr>\n",
       "      <th>2004-08-19</th>\n",
       "      <td>0.562679</td>\n",
       "      <td>0.568929</td>\n",
       "      <td>0.542143</td>\n",
       "      <td>0.548393</td>\n",
       "      <td>0.472366</td>\n",
       "      <td>388920000</td>\n",
       "      <td>0.473627</td>\n",
       "      <td>0.481141</td>\n",
       "      <td>0.484422</td>\n",
       "      <td>0.491197</td>\n",
       "      <td>0.456057</td>\n",
       "      <td>0.504857</td>\n",
       "      <td>0.457425</td>\n",
       "      <td>0.519835</td>\n",
       "      <td>0.449008</td>\n",
       "    </tr>\n",
       "    <tr>\n",
       "      <th>2004-08-20</th>\n",
       "      <td>0.548393</td>\n",
       "      <td>0.553393</td>\n",
       "      <td>0.544464</td>\n",
       "      <td>0.550000</td>\n",
       "      <td>0.473750</td>\n",
       "      <td>316780800</td>\n",
       "      <td>0.475196</td>\n",
       "      <td>0.481218</td>\n",
       "      <td>0.484606</td>\n",
       "      <td>0.488983</td>\n",
       "      <td>0.461409</td>\n",
       "      <td>0.504821</td>\n",
       "      <td>0.457614</td>\n",
       "      <td>0.519691</td>\n",
       "      <td>0.449521</td>\n",
       "    </tr>\n",
       "    <tr>\n",
       "      <th>2004-08-23</th>\n",
       "      <td>0.551071</td>\n",
       "      <td>0.558393</td>\n",
       "      <td>0.546429</td>\n",
       "      <td>0.555000</td>\n",
       "      <td>0.478057</td>\n",
       "      <td>254660000</td>\n",
       "      <td>0.476395</td>\n",
       "      <td>0.481079</td>\n",
       "      <td>0.484711</td>\n",
       "      <td>0.488652</td>\n",
       "      <td>0.464139</td>\n",
       "      <td>0.504725</td>\n",
       "      <td>0.457433</td>\n",
       "      <td>0.519683</td>\n",
       "      <td>0.449738</td>\n",
       "    </tr>\n",
       "    <tr>\n",
       "      <th>2004-08-24</th>\n",
       "      <td>0.558214</td>\n",
       "      <td>0.570536</td>\n",
       "      <td>0.556964</td>\n",
       "      <td>0.570536</td>\n",
       "      <td>0.491439</td>\n",
       "      <td>374136000</td>\n",
       "      <td>0.477057</td>\n",
       "      <td>0.480710</td>\n",
       "      <td>0.485274</td>\n",
       "      <td>0.491797</td>\n",
       "      <td>0.462317</td>\n",
       "      <td>0.503401</td>\n",
       "      <td>0.458019</td>\n",
       "      <td>0.519742</td>\n",
       "      <td>0.450806</td>\n",
       "    </tr>\n",
       "    <tr>\n",
       "      <th>2004-08-25</th>\n",
       "      <td>0.569107</td>\n",
       "      <td>0.591964</td>\n",
       "      <td>0.566607</td>\n",
       "      <td>0.590179</td>\n",
       "      <td>0.508359</td>\n",
       "      <td>505618400</td>\n",
       "      <td>0.480195</td>\n",
       "      <td>0.481310</td>\n",
       "      <td>0.486000</td>\n",
       "      <td>0.504872</td>\n",
       "      <td>0.455517</td>\n",
       "      <td>0.506265</td>\n",
       "      <td>0.456355</td>\n",
       "      <td>0.520858</td>\n",
       "      <td>0.451141</td>\n",
       "    </tr>\n",
       "  </tbody>\n",
       "</table>\n",
       "</div>"
      ],
      "text/plain": [
       "                Open      High       Low     Close  Adj Close     Volume  \\\n",
       "Date                                                                       \n",
       "2004-08-19  0.562679  0.568929  0.542143  0.548393   0.472366  388920000   \n",
       "2004-08-20  0.548393  0.553393  0.544464  0.550000   0.473750  316780800   \n",
       "2004-08-23  0.551071  0.558393  0.546429  0.555000   0.478057  254660000   \n",
       "2004-08-24  0.558214  0.570536  0.556964  0.570536   0.491439  374136000   \n",
       "2004-08-25  0.569107  0.591964  0.566607  0.590179   0.508359  505618400   \n",
       "\n",
       "            10_ac_ma  20_ac_ma  50_ac_ma  10_ac_bb_u  10_ac_bb_l  20_ac_bb_u  \\\n",
       "Date                                                                           \n",
       "2004-08-19  0.473627  0.481141  0.484422    0.491197    0.456057    0.504857   \n",
       "2004-08-20  0.475196  0.481218  0.484606    0.488983    0.461409    0.504821   \n",
       "2004-08-23  0.476395  0.481079  0.484711    0.488652    0.464139    0.504725   \n",
       "2004-08-24  0.477057  0.480710  0.485274    0.491797    0.462317    0.503401   \n",
       "2004-08-25  0.480195  0.481310  0.486000    0.504872    0.455517    0.506265   \n",
       "\n",
       "            20_ac_bb_l  50_ac_bb_u  50_ac_bb_l  \n",
       "Date                                            \n",
       "2004-08-19    0.457425    0.519835    0.449008  \n",
       "2004-08-20    0.457614    0.519691    0.449521  \n",
       "2004-08-23    0.457433    0.519683    0.449738  \n",
       "2004-08-24    0.458019    0.519742    0.450806  \n",
       "2004-08-25    0.456355    0.520858    0.451141  "
      ]
     },
     "execution_count": 107,
     "metadata": {},
     "output_type": "execute_result"
    }
   ],
   "source": [
    "df_aapl_test.head()"
   ]
  },
  {
   "cell_type": "code",
   "execution_count": 108,
   "id": "statistical-member",
   "metadata": {},
   "outputs": [
    {
     "data": {
      "text/html": [
       "<div>\n",
       "<style scoped>\n",
       "    .dataframe tbody tr th:only-of-type {\n",
       "        vertical-align: middle;\n",
       "    }\n",
       "\n",
       "    .dataframe tbody tr th {\n",
       "        vertical-align: top;\n",
       "    }\n",
       "\n",
       "    .dataframe thead th {\n",
       "        text-align: right;\n",
       "    }\n",
       "</style>\n",
       "<table border=\"1\" class=\"dataframe\">\n",
       "  <thead>\n",
       "    <tr style=\"text-align: right;\">\n",
       "      <th></th>\n",
       "      <th>Open</th>\n",
       "      <th>High</th>\n",
       "      <th>Low</th>\n",
       "      <th>Close</th>\n",
       "      <th>Adj Close</th>\n",
       "      <th>Volume</th>\n",
       "      <th>10_ac_ma</th>\n",
       "      <th>20_ac_ma</th>\n",
       "      <th>50_ac_ma</th>\n",
       "      <th>10_ac_bb_u</th>\n",
       "      <th>10_ac_bb_l</th>\n",
       "      <th>20_ac_bb_u</th>\n",
       "      <th>20_ac_bb_l</th>\n",
       "      <th>50_ac_bb_u</th>\n",
       "      <th>50_ac_bb_l</th>\n",
       "    </tr>\n",
       "    <tr>\n",
       "      <th>Date</th>\n",
       "      <th></th>\n",
       "      <th></th>\n",
       "      <th></th>\n",
       "      <th></th>\n",
       "      <th></th>\n",
       "      <th></th>\n",
       "      <th></th>\n",
       "      <th></th>\n",
       "      <th></th>\n",
       "      <th></th>\n",
       "      <th></th>\n",
       "      <th></th>\n",
       "      <th></th>\n",
       "      <th></th>\n",
       "      <th></th>\n",
       "    </tr>\n",
       "  </thead>\n",
       "  <tbody>\n",
       "    <tr>\n",
       "      <th>2021-02-12</th>\n",
       "      <td>134.350006</td>\n",
       "      <td>135.529999</td>\n",
       "      <td>133.690002</td>\n",
       "      <td>135.369995</td>\n",
       "      <td>135.369995</td>\n",
       "      <td>60029300</td>\n",
       "      <td>135.522359</td>\n",
       "      <td>135.666208</td>\n",
       "      <td>131.056535</td>\n",
       "      <td>137.914301</td>\n",
       "      <td>133.130416</td>\n",
       "      <td>144.087912</td>\n",
       "      <td>127.244505</td>\n",
       "      <td>142.327544</td>\n",
       "      <td>119.785526</td>\n",
       "    </tr>\n",
       "    <tr>\n",
       "      <th>2021-02-16</th>\n",
       "      <td>135.490005</td>\n",
       "      <td>136.009995</td>\n",
       "      <td>132.789993</td>\n",
       "      <td>133.190002</td>\n",
       "      <td>133.190002</td>\n",
       "      <td>80576300</td>\n",
       "      <td>135.447374</td>\n",
       "      <td>135.978194</td>\n",
       "      <td>131.262408</td>\n",
       "      <td>138.093331</td>\n",
       "      <td>132.801417</td>\n",
       "      <td>143.449006</td>\n",
       "      <td>128.507381</td>\n",
       "      <td>142.298640</td>\n",
       "      <td>120.226176</td>\n",
       "    </tr>\n",
       "    <tr>\n",
       "      <th>2021-02-17</th>\n",
       "      <td>131.250000</td>\n",
       "      <td>132.220001</td>\n",
       "      <td>129.470001</td>\n",
       "      <td>130.839996</td>\n",
       "      <td>130.839996</td>\n",
       "      <td>97918500</td>\n",
       "      <td>135.052515</td>\n",
       "      <td>136.138230</td>\n",
       "      <td>131.424077</td>\n",
       "      <td>138.995849</td>\n",
       "      <td>131.109180</td>\n",
       "      <td>142.966393</td>\n",
       "      <td>129.310068</td>\n",
       "      <td>142.185129</td>\n",
       "      <td>120.663025</td>\n",
       "    </tr>\n",
       "    <tr>\n",
       "      <th>2021-02-18</th>\n",
       "      <td>129.199997</td>\n",
       "      <td>130.000000</td>\n",
       "      <td>127.410004</td>\n",
       "      <td>129.710007</td>\n",
       "      <td>129.710007</td>\n",
       "      <td>96856700</td>\n",
       "      <td>134.649500</td>\n",
       "      <td>136.032081</td>\n",
       "      <td>131.576925</td>\n",
       "      <td>139.821352</td>\n",
       "      <td>129.477647</td>\n",
       "      <td>143.199620</td>\n",
       "      <td>128.864541</td>\n",
       "      <td>142.007567</td>\n",
       "      <td>121.146283</td>\n",
       "    </tr>\n",
       "    <tr>\n",
       "      <th>2021-02-19</th>\n",
       "      <td>130.240005</td>\n",
       "      <td>130.710007</td>\n",
       "      <td>128.800003</td>\n",
       "      <td>129.869995</td>\n",
       "      <td>129.869995</td>\n",
       "      <td>87668800</td>\n",
       "      <td>133.917999</td>\n",
       "      <td>135.692292</td>\n",
       "      <td>131.703018</td>\n",
       "      <td>139.545200</td>\n",
       "      <td>128.290798</td>\n",
       "      <td>143.360206</td>\n",
       "      <td>128.024378</td>\n",
       "      <td>141.887890</td>\n",
       "      <td>121.518145</td>\n",
       "    </tr>\n",
       "  </tbody>\n",
       "</table>\n",
       "</div>"
      ],
      "text/plain": [
       "                  Open        High         Low       Close   Adj Close  \\\n",
       "Date                                                                     \n",
       "2021-02-12  134.350006  135.529999  133.690002  135.369995  135.369995   \n",
       "2021-02-16  135.490005  136.009995  132.789993  133.190002  133.190002   \n",
       "2021-02-17  131.250000  132.220001  129.470001  130.839996  130.839996   \n",
       "2021-02-18  129.199997  130.000000  127.410004  129.710007  129.710007   \n",
       "2021-02-19  130.240005  130.710007  128.800003  129.869995  129.869995   \n",
       "\n",
       "              Volume    10_ac_ma    20_ac_ma    50_ac_ma  10_ac_bb_u  \\\n",
       "Date                                                                   \n",
       "2021-02-12  60029300  135.522359  135.666208  131.056535  137.914301   \n",
       "2021-02-16  80576300  135.447374  135.978194  131.262408  138.093331   \n",
       "2021-02-17  97918500  135.052515  136.138230  131.424077  138.995849   \n",
       "2021-02-18  96856700  134.649500  136.032081  131.576925  139.821352   \n",
       "2021-02-19  87668800  133.917999  135.692292  131.703018  139.545200   \n",
       "\n",
       "            10_ac_bb_l  20_ac_bb_u  20_ac_bb_l  50_ac_bb_u  50_ac_bb_l  \n",
       "Date                                                                    \n",
       "2021-02-12  133.130416  144.087912  127.244505  142.327544  119.785526  \n",
       "2021-02-16  132.801417  143.449006  128.507381  142.298640  120.226176  \n",
       "2021-02-17  131.109180  142.966393  129.310068  142.185129  120.663025  \n",
       "2021-02-18  129.477647  143.199620  128.864541  142.007567  121.146283  \n",
       "2021-02-19  128.290798  143.360206  128.024378  141.887890  121.518145  "
      ]
     },
     "execution_count": 108,
     "metadata": {},
     "output_type": "execute_result"
    }
   ],
   "source": [
    "df_aapl_valid.head()"
   ]
  },
  {
   "cell_type": "markdown",
   "id": "stainless-bottom",
   "metadata": {},
   "source": [
    "#### Amazon Stock train test split"
   ]
  },
  {
   "cell_type": "code",
   "execution_count": 109,
   "id": "banned-norwegian",
   "metadata": {},
   "outputs": [],
   "source": [
    "df_amzn = df_amzn.loc[data_start:].copy()"
   ]
  },
  {
   "cell_type": "code",
   "execution_count": 110,
   "id": "sized-search",
   "metadata": {},
   "outputs": [
    {
     "name": "stdout",
     "output_type": "stream",
     "text": [
      "4170 4130 4150 20\n"
     ]
    }
   ],
   "source": [
    "df_amzn_train, df_amzn_test, df_amzn_valid = train_test_valid_split(df_amzn, prediction_length=prediction_length[1])\n",
    "print(len(df_amzn), len(df_amzn_train), len(df_amzn_test), len(df_amzn_valid))"
   ]
  },
  {
   "cell_type": "code",
   "execution_count": 111,
   "id": "stopped-impossible",
   "metadata": {},
   "outputs": [
    {
     "data": {
      "text/html": [
       "<div>\n",
       "<style scoped>\n",
       "    .dataframe tbody tr th:only-of-type {\n",
       "        vertical-align: middle;\n",
       "    }\n",
       "\n",
       "    .dataframe tbody tr th {\n",
       "        vertical-align: top;\n",
       "    }\n",
       "\n",
       "    .dataframe thead th {\n",
       "        text-align: right;\n",
       "    }\n",
       "</style>\n",
       "<table border=\"1\" class=\"dataframe\">\n",
       "  <thead>\n",
       "    <tr style=\"text-align: right;\">\n",
       "      <th></th>\n",
       "      <th>Open</th>\n",
       "      <th>High</th>\n",
       "      <th>Low</th>\n",
       "      <th>Close</th>\n",
       "      <th>Adj Close</th>\n",
       "      <th>Volume</th>\n",
       "      <th>10_ac_ma</th>\n",
       "      <th>20_ac_ma</th>\n",
       "      <th>50_ac_ma</th>\n",
       "      <th>10_ac_bb_u</th>\n",
       "      <th>10_ac_bb_l</th>\n",
       "      <th>20_ac_bb_u</th>\n",
       "      <th>20_ac_bb_l</th>\n",
       "      <th>50_ac_bb_u</th>\n",
       "      <th>50_ac_bb_l</th>\n",
       "    </tr>\n",
       "    <tr>\n",
       "      <th>Date</th>\n",
       "      <th></th>\n",
       "      <th></th>\n",
       "      <th></th>\n",
       "      <th></th>\n",
       "      <th></th>\n",
       "      <th></th>\n",
       "      <th></th>\n",
       "      <th></th>\n",
       "      <th></th>\n",
       "      <th></th>\n",
       "      <th></th>\n",
       "      <th></th>\n",
       "      <th></th>\n",
       "      <th></th>\n",
       "      <th></th>\n",
       "    </tr>\n",
       "  </thead>\n",
       "  <tbody>\n",
       "    <tr>\n",
       "      <th>2004-08-19</th>\n",
       "      <td>40.259998</td>\n",
       "      <td>40.480000</td>\n",
       "      <td>36.349998</td>\n",
       "      <td>38.630001</td>\n",
       "      <td>38.630001</td>\n",
       "      <td>12696100</td>\n",
       "      <td>37.106001</td>\n",
       "      <td>37.6520</td>\n",
       "      <td>44.9828</td>\n",
       "      <td>39.862539</td>\n",
       "      <td>34.349462</td>\n",
       "      <td>40.417963</td>\n",
       "      <td>34.886038</td>\n",
       "      <td>57.693587</td>\n",
       "      <td>32.272014</td>\n",
       "    </tr>\n",
       "    <tr>\n",
       "      <th>2004-08-20</th>\n",
       "      <td>38.459999</td>\n",
       "      <td>39.910000</td>\n",
       "      <td>38.110001</td>\n",
       "      <td>39.509998</td>\n",
       "      <td>39.509998</td>\n",
       "      <td>6790800</td>\n",
       "      <td>37.508000</td>\n",
       "      <td>37.6285</td>\n",
       "      <td>44.7682</td>\n",
       "      <td>40.386916</td>\n",
       "      <td>34.629084</td>\n",
       "      <td>40.318115</td>\n",
       "      <td>34.938885</td>\n",
       "      <td>57.479021</td>\n",
       "      <td>32.057379</td>\n",
       "    </tr>\n",
       "    <tr>\n",
       "      <th>2004-08-23</th>\n",
       "      <td>39.889999</td>\n",
       "      <td>40.000000</td>\n",
       "      <td>39.110001</td>\n",
       "      <td>39.450001</td>\n",
       "      <td>39.450001</td>\n",
       "      <td>5532600</td>\n",
       "      <td>37.921000</td>\n",
       "      <td>37.6620</td>\n",
       "      <td>44.5584</td>\n",
       "      <td>40.581550</td>\n",
       "      <td>35.260450</td>\n",
       "      <td>40.427620</td>\n",
       "      <td>34.896380</td>\n",
       "      <td>57.267085</td>\n",
       "      <td>31.849715</td>\n",
       "    </tr>\n",
       "    <tr>\n",
       "      <th>2004-08-24</th>\n",
       "      <td>39.720001</td>\n",
       "      <td>39.930000</td>\n",
       "      <td>38.320000</td>\n",
       "      <td>39.049999</td>\n",
       "      <td>39.049999</td>\n",
       "      <td>7640400</td>\n",
       "      <td>38.116000</td>\n",
       "      <td>37.6590</td>\n",
       "      <td>44.3544</td>\n",
       "      <td>40.794891</td>\n",
       "      <td>35.437110</td>\n",
       "      <td>40.418129</td>\n",
       "      <td>34.899871</td>\n",
       "      <td>57.083144</td>\n",
       "      <td>31.625656</td>\n",
       "    </tr>\n",
       "    <tr>\n",
       "      <th>2004-08-25</th>\n",
       "      <td>39.060001</td>\n",
       "      <td>40.490002</td>\n",
       "      <td>38.160000</td>\n",
       "      <td>40.299999</td>\n",
       "      <td>40.299999</td>\n",
       "      <td>7254800</td>\n",
       "      <td>38.490000</td>\n",
       "      <td>37.7755</td>\n",
       "      <td>44.1582</td>\n",
       "      <td>41.246567</td>\n",
       "      <td>35.733433</td>\n",
       "      <td>40.776113</td>\n",
       "      <td>34.774887</td>\n",
       "      <td>56.827117</td>\n",
       "      <td>31.489283</td>\n",
       "    </tr>\n",
       "  </tbody>\n",
       "</table>\n",
       "</div>"
      ],
      "text/plain": [
       "                 Open       High        Low      Close  Adj Close    Volume  \\\n",
       "Date                                                                          \n",
       "2004-08-19  40.259998  40.480000  36.349998  38.630001  38.630001  12696100   \n",
       "2004-08-20  38.459999  39.910000  38.110001  39.509998  39.509998   6790800   \n",
       "2004-08-23  39.889999  40.000000  39.110001  39.450001  39.450001   5532600   \n",
       "2004-08-24  39.720001  39.930000  38.320000  39.049999  39.049999   7640400   \n",
       "2004-08-25  39.060001  40.490002  38.160000  40.299999  40.299999   7254800   \n",
       "\n",
       "             10_ac_ma  20_ac_ma  50_ac_ma  10_ac_bb_u  10_ac_bb_l  20_ac_bb_u  \\\n",
       "Date                                                                            \n",
       "2004-08-19  37.106001   37.6520   44.9828   39.862539   34.349462   40.417963   \n",
       "2004-08-20  37.508000   37.6285   44.7682   40.386916   34.629084   40.318115   \n",
       "2004-08-23  37.921000   37.6620   44.5584   40.581550   35.260450   40.427620   \n",
       "2004-08-24  38.116000   37.6590   44.3544   40.794891   35.437110   40.418129   \n",
       "2004-08-25  38.490000   37.7755   44.1582   41.246567   35.733433   40.776113   \n",
       "\n",
       "            20_ac_bb_l  50_ac_bb_u  50_ac_bb_l  \n",
       "Date                                            \n",
       "2004-08-19   34.886038   57.693587   32.272014  \n",
       "2004-08-20   34.938885   57.479021   32.057379  \n",
       "2004-08-23   34.896380   57.267085   31.849715  \n",
       "2004-08-24   34.899871   57.083144   31.625656  \n",
       "2004-08-25   34.774887   56.827117   31.489283  "
      ]
     },
     "execution_count": 111,
     "metadata": {},
     "output_type": "execute_result"
    }
   ],
   "source": [
    "df_amzn_train.head()"
   ]
  },
  {
   "cell_type": "code",
   "execution_count": 112,
   "id": "pacific-swift",
   "metadata": {},
   "outputs": [
    {
     "data": {
      "text/html": [
       "<div>\n",
       "<style scoped>\n",
       "    .dataframe tbody tr th:only-of-type {\n",
       "        vertical-align: middle;\n",
       "    }\n",
       "\n",
       "    .dataframe tbody tr th {\n",
       "        vertical-align: top;\n",
       "    }\n",
       "\n",
       "    .dataframe thead th {\n",
       "        text-align: right;\n",
       "    }\n",
       "</style>\n",
       "<table border=\"1\" class=\"dataframe\">\n",
       "  <thead>\n",
       "    <tr style=\"text-align: right;\">\n",
       "      <th></th>\n",
       "      <th>Open</th>\n",
       "      <th>High</th>\n",
       "      <th>Low</th>\n",
       "      <th>Close</th>\n",
       "      <th>Adj Close</th>\n",
       "      <th>Volume</th>\n",
       "      <th>10_ac_ma</th>\n",
       "      <th>20_ac_ma</th>\n",
       "      <th>50_ac_ma</th>\n",
       "      <th>10_ac_bb_u</th>\n",
       "      <th>10_ac_bb_l</th>\n",
       "      <th>20_ac_bb_u</th>\n",
       "      <th>20_ac_bb_l</th>\n",
       "      <th>50_ac_bb_u</th>\n",
       "      <th>50_ac_bb_l</th>\n",
       "    </tr>\n",
       "    <tr>\n",
       "      <th>Date</th>\n",
       "      <th></th>\n",
       "      <th></th>\n",
       "      <th></th>\n",
       "      <th></th>\n",
       "      <th></th>\n",
       "      <th></th>\n",
       "      <th></th>\n",
       "      <th></th>\n",
       "      <th></th>\n",
       "      <th></th>\n",
       "      <th></th>\n",
       "      <th></th>\n",
       "      <th></th>\n",
       "      <th></th>\n",
       "      <th></th>\n",
       "    </tr>\n",
       "  </thead>\n",
       "  <tbody>\n",
       "    <tr>\n",
       "      <th>2004-08-19</th>\n",
       "      <td>40.259998</td>\n",
       "      <td>40.480000</td>\n",
       "      <td>36.349998</td>\n",
       "      <td>38.630001</td>\n",
       "      <td>38.630001</td>\n",
       "      <td>12696100</td>\n",
       "      <td>37.106001</td>\n",
       "      <td>37.6520</td>\n",
       "      <td>44.9828</td>\n",
       "      <td>39.862539</td>\n",
       "      <td>34.349462</td>\n",
       "      <td>40.417963</td>\n",
       "      <td>34.886038</td>\n",
       "      <td>57.693587</td>\n",
       "      <td>32.272014</td>\n",
       "    </tr>\n",
       "    <tr>\n",
       "      <th>2004-08-20</th>\n",
       "      <td>38.459999</td>\n",
       "      <td>39.910000</td>\n",
       "      <td>38.110001</td>\n",
       "      <td>39.509998</td>\n",
       "      <td>39.509998</td>\n",
       "      <td>6790800</td>\n",
       "      <td>37.508000</td>\n",
       "      <td>37.6285</td>\n",
       "      <td>44.7682</td>\n",
       "      <td>40.386916</td>\n",
       "      <td>34.629084</td>\n",
       "      <td>40.318115</td>\n",
       "      <td>34.938885</td>\n",
       "      <td>57.479021</td>\n",
       "      <td>32.057379</td>\n",
       "    </tr>\n",
       "    <tr>\n",
       "      <th>2004-08-23</th>\n",
       "      <td>39.889999</td>\n",
       "      <td>40.000000</td>\n",
       "      <td>39.110001</td>\n",
       "      <td>39.450001</td>\n",
       "      <td>39.450001</td>\n",
       "      <td>5532600</td>\n",
       "      <td>37.921000</td>\n",
       "      <td>37.6620</td>\n",
       "      <td>44.5584</td>\n",
       "      <td>40.581550</td>\n",
       "      <td>35.260450</td>\n",
       "      <td>40.427620</td>\n",
       "      <td>34.896380</td>\n",
       "      <td>57.267085</td>\n",
       "      <td>31.849715</td>\n",
       "    </tr>\n",
       "    <tr>\n",
       "      <th>2004-08-24</th>\n",
       "      <td>39.720001</td>\n",
       "      <td>39.930000</td>\n",
       "      <td>38.320000</td>\n",
       "      <td>39.049999</td>\n",
       "      <td>39.049999</td>\n",
       "      <td>7640400</td>\n",
       "      <td>38.116000</td>\n",
       "      <td>37.6590</td>\n",
       "      <td>44.3544</td>\n",
       "      <td>40.794891</td>\n",
       "      <td>35.437110</td>\n",
       "      <td>40.418129</td>\n",
       "      <td>34.899871</td>\n",
       "      <td>57.083144</td>\n",
       "      <td>31.625656</td>\n",
       "    </tr>\n",
       "    <tr>\n",
       "      <th>2004-08-25</th>\n",
       "      <td>39.060001</td>\n",
       "      <td>40.490002</td>\n",
       "      <td>38.160000</td>\n",
       "      <td>40.299999</td>\n",
       "      <td>40.299999</td>\n",
       "      <td>7254800</td>\n",
       "      <td>38.490000</td>\n",
       "      <td>37.7755</td>\n",
       "      <td>44.1582</td>\n",
       "      <td>41.246567</td>\n",
       "      <td>35.733433</td>\n",
       "      <td>40.776113</td>\n",
       "      <td>34.774887</td>\n",
       "      <td>56.827117</td>\n",
       "      <td>31.489283</td>\n",
       "    </tr>\n",
       "  </tbody>\n",
       "</table>\n",
       "</div>"
      ],
      "text/plain": [
       "                 Open       High        Low      Close  Adj Close    Volume  \\\n",
       "Date                                                                          \n",
       "2004-08-19  40.259998  40.480000  36.349998  38.630001  38.630001  12696100   \n",
       "2004-08-20  38.459999  39.910000  38.110001  39.509998  39.509998   6790800   \n",
       "2004-08-23  39.889999  40.000000  39.110001  39.450001  39.450001   5532600   \n",
       "2004-08-24  39.720001  39.930000  38.320000  39.049999  39.049999   7640400   \n",
       "2004-08-25  39.060001  40.490002  38.160000  40.299999  40.299999   7254800   \n",
       "\n",
       "             10_ac_ma  20_ac_ma  50_ac_ma  10_ac_bb_u  10_ac_bb_l  20_ac_bb_u  \\\n",
       "Date                                                                            \n",
       "2004-08-19  37.106001   37.6520   44.9828   39.862539   34.349462   40.417963   \n",
       "2004-08-20  37.508000   37.6285   44.7682   40.386916   34.629084   40.318115   \n",
       "2004-08-23  37.921000   37.6620   44.5584   40.581550   35.260450   40.427620   \n",
       "2004-08-24  38.116000   37.6590   44.3544   40.794891   35.437110   40.418129   \n",
       "2004-08-25  38.490000   37.7755   44.1582   41.246567   35.733433   40.776113   \n",
       "\n",
       "            20_ac_bb_l  50_ac_bb_u  50_ac_bb_l  \n",
       "Date                                            \n",
       "2004-08-19   34.886038   57.693587   32.272014  \n",
       "2004-08-20   34.938885   57.479021   32.057379  \n",
       "2004-08-23   34.896380   57.267085   31.849715  \n",
       "2004-08-24   34.899871   57.083144   31.625656  \n",
       "2004-08-25   34.774887   56.827117   31.489283  "
      ]
     },
     "execution_count": 112,
     "metadata": {},
     "output_type": "execute_result"
    }
   ],
   "source": [
    "df_amzn_test.head()"
   ]
  },
  {
   "cell_type": "code",
   "execution_count": 113,
   "id": "hidden-socket",
   "metadata": {},
   "outputs": [
    {
     "data": {
      "text/html": [
       "<div>\n",
       "<style scoped>\n",
       "    .dataframe tbody tr th:only-of-type {\n",
       "        vertical-align: middle;\n",
       "    }\n",
       "\n",
       "    .dataframe tbody tr th {\n",
       "        vertical-align: top;\n",
       "    }\n",
       "\n",
       "    .dataframe thead th {\n",
       "        text-align: right;\n",
       "    }\n",
       "</style>\n",
       "<table border=\"1\" class=\"dataframe\">\n",
       "  <thead>\n",
       "    <tr style=\"text-align: right;\">\n",
       "      <th></th>\n",
       "      <th>Open</th>\n",
       "      <th>High</th>\n",
       "      <th>Low</th>\n",
       "      <th>Close</th>\n",
       "      <th>Adj Close</th>\n",
       "      <th>Volume</th>\n",
       "      <th>10_ac_ma</th>\n",
       "      <th>20_ac_ma</th>\n",
       "      <th>50_ac_ma</th>\n",
       "      <th>10_ac_bb_u</th>\n",
       "      <th>10_ac_bb_l</th>\n",
       "      <th>20_ac_bb_u</th>\n",
       "      <th>20_ac_bb_l</th>\n",
       "      <th>50_ac_bb_u</th>\n",
       "      <th>50_ac_bb_l</th>\n",
       "    </tr>\n",
       "    <tr>\n",
       "      <th>Date</th>\n",
       "      <th></th>\n",
       "      <th></th>\n",
       "      <th></th>\n",
       "      <th></th>\n",
       "      <th></th>\n",
       "      <th></th>\n",
       "      <th></th>\n",
       "      <th></th>\n",
       "      <th></th>\n",
       "      <th></th>\n",
       "      <th></th>\n",
       "      <th></th>\n",
       "      <th></th>\n",
       "      <th></th>\n",
       "      <th></th>\n",
       "    </tr>\n",
       "  </thead>\n",
       "  <tbody>\n",
       "    <tr>\n",
       "      <th>2021-02-12</th>\n",
       "      <td>3250.000000</td>\n",
       "      <td>3280.250000</td>\n",
       "      <td>3233.310059</td>\n",
       "      <td>3277.709961</td>\n",
       "      <td>3277.709961</td>\n",
       "      <td>2329300</td>\n",
       "      <td>3317.291968</td>\n",
       "      <td>3277.852979</td>\n",
       "      <td>3222.085181</td>\n",
       "      <td>3389.552311</td>\n",
       "      <td>3245.031625</td>\n",
       "      <td>3419.109022</td>\n",
       "      <td>3136.596935</td>\n",
       "      <td>3375.172588</td>\n",
       "      <td>3068.997774</td>\n",
       "    </tr>\n",
       "    <tr>\n",
       "      <th>2021-02-16</th>\n",
       "      <td>3254.050049</td>\n",
       "      <td>3308.300049</td>\n",
       "      <td>3253.590088</td>\n",
       "      <td>3268.949951</td>\n",
       "      <td>3268.949951</td>\n",
       "      <td>2574700</td>\n",
       "      <td>3309.898975</td>\n",
       "      <td>3286.087976</td>\n",
       "      <td>3223.393579</td>\n",
       "      <td>3385.571219</td>\n",
       "      <td>3234.226730</td>\n",
       "      <td>3401.585069</td>\n",
       "      <td>3170.590883</td>\n",
       "      <td>3376.951228</td>\n",
       "      <td>3069.835930</td>\n",
       "    </tr>\n",
       "    <tr>\n",
       "      <th>2021-02-17</th>\n",
       "      <td>3263.600098</td>\n",
       "      <td>3320.909912</td>\n",
       "      <td>3259.500000</td>\n",
       "      <td>3308.639893</td>\n",
       "      <td>3308.639893</td>\n",
       "      <td>3297500</td>\n",
       "      <td>3302.762964</td>\n",
       "      <td>3295.481970</td>\n",
       "      <td>3225.831777</td>\n",
       "      <td>3360.352910</td>\n",
       "      <td>3245.173017</td>\n",
       "      <td>3381.043039</td>\n",
       "      <td>3209.920902</td>\n",
       "      <td>3380.877493</td>\n",
       "      <td>3070.786062</td>\n",
       "    </tr>\n",
       "    <tr>\n",
       "      <th>2021-02-18</th>\n",
       "      <td>3282.419922</td>\n",
       "      <td>3338.000000</td>\n",
       "      <td>3273.939941</td>\n",
       "      <td>3328.229980</td>\n",
       "      <td>3328.229980</td>\n",
       "      <td>3027400</td>\n",
       "      <td>3304.332959</td>\n",
       "      <td>3298.724475</td>\n",
       "      <td>3229.144775</td>\n",
       "      <td>3363.927436</td>\n",
       "      <td>3244.738482</td>\n",
       "      <td>3384.078129</td>\n",
       "      <td>3213.370821</td>\n",
       "      <td>3385.745319</td>\n",
       "      <td>3072.544232</td>\n",
       "    </tr>\n",
       "    <tr>\n",
       "      <th>2021-02-19</th>\n",
       "      <td>3328.229980</td>\n",
       "      <td>3333.500000</td>\n",
       "      <td>3245.750000</td>\n",
       "      <td>3249.899902</td>\n",
       "      <td>3249.899902</td>\n",
       "      <td>4305200</td>\n",
       "      <td>3296.222949</td>\n",
       "      <td>3295.869971</td>\n",
       "      <td>3230.982773</td>\n",
       "      <td>3361.491566</td>\n",
       "      <td>3230.954332</td>\n",
       "      <td>3383.838238</td>\n",
       "      <td>3207.901704</td>\n",
       "      <td>3386.327284</td>\n",
       "      <td>3075.638263</td>\n",
       "    </tr>\n",
       "  </tbody>\n",
       "</table>\n",
       "</div>"
      ],
      "text/plain": [
       "                   Open         High          Low        Close    Adj Close  \\\n",
       "Date                                                                          \n",
       "2021-02-12  3250.000000  3280.250000  3233.310059  3277.709961  3277.709961   \n",
       "2021-02-16  3254.050049  3308.300049  3253.590088  3268.949951  3268.949951   \n",
       "2021-02-17  3263.600098  3320.909912  3259.500000  3308.639893  3308.639893   \n",
       "2021-02-18  3282.419922  3338.000000  3273.939941  3328.229980  3328.229980   \n",
       "2021-02-19  3328.229980  3333.500000  3245.750000  3249.899902  3249.899902   \n",
       "\n",
       "             Volume     10_ac_ma     20_ac_ma     50_ac_ma   10_ac_bb_u  \\\n",
       "Date                                                                      \n",
       "2021-02-12  2329300  3317.291968  3277.852979  3222.085181  3389.552311   \n",
       "2021-02-16  2574700  3309.898975  3286.087976  3223.393579  3385.571219   \n",
       "2021-02-17  3297500  3302.762964  3295.481970  3225.831777  3360.352910   \n",
       "2021-02-18  3027400  3304.332959  3298.724475  3229.144775  3363.927436   \n",
       "2021-02-19  4305200  3296.222949  3295.869971  3230.982773  3361.491566   \n",
       "\n",
       "             10_ac_bb_l   20_ac_bb_u   20_ac_bb_l   50_ac_bb_u   50_ac_bb_l  \n",
       "Date                                                                         \n",
       "2021-02-12  3245.031625  3419.109022  3136.596935  3375.172588  3068.997774  \n",
       "2021-02-16  3234.226730  3401.585069  3170.590883  3376.951228  3069.835930  \n",
       "2021-02-17  3245.173017  3381.043039  3209.920902  3380.877493  3070.786062  \n",
       "2021-02-18  3244.738482  3384.078129  3213.370821  3385.745319  3072.544232  \n",
       "2021-02-19  3230.954332  3383.838238  3207.901704  3386.327284  3075.638263  "
      ]
     },
     "execution_count": 113,
     "metadata": {},
     "output_type": "execute_result"
    }
   ],
   "source": [
    "df_amzn_valid.head()"
   ]
  },
  {
   "cell_type": "markdown",
   "id": "industrial-intro",
   "metadata": {},
   "source": [
    "#### Alphabet Inc. Stock train test split"
   ]
  },
  {
   "cell_type": "code",
   "execution_count": 114,
   "id": "oriented-integrity",
   "metadata": {},
   "outputs": [],
   "source": [
    "df_googl = df_googl.loc[data_start:].copy()"
   ]
  },
  {
   "cell_type": "code",
   "execution_count": 115,
   "id": "nasty-growing",
   "metadata": {},
   "outputs": [
    {
     "name": "stdout",
     "output_type": "stream",
     "text": [
      "4170 4130 4150 20\n"
     ]
    }
   ],
   "source": [
    "df_googl_train, df_googl_test, df_googl_valid = train_test_valid_split(df_googl, prediction_length=prediction_length[1])\n",
    "print(len(df_googl), len(df_googl_train), len(df_googl_test), len(df_googl_valid))"
   ]
  },
  {
   "cell_type": "code",
   "execution_count": 116,
   "id": "advanced-syntax",
   "metadata": {},
   "outputs": [
    {
     "data": {
      "text/html": [
       "<div>\n",
       "<style scoped>\n",
       "    .dataframe tbody tr th:only-of-type {\n",
       "        vertical-align: middle;\n",
       "    }\n",
       "\n",
       "    .dataframe tbody tr th {\n",
       "        vertical-align: top;\n",
       "    }\n",
       "\n",
       "    .dataframe thead th {\n",
       "        text-align: right;\n",
       "    }\n",
       "</style>\n",
       "<table border=\"1\" class=\"dataframe\">\n",
       "  <thead>\n",
       "    <tr style=\"text-align: right;\">\n",
       "      <th></th>\n",
       "      <th>Open</th>\n",
       "      <th>High</th>\n",
       "      <th>Low</th>\n",
       "      <th>Close</th>\n",
       "      <th>Adj Close</th>\n",
       "      <th>Volume</th>\n",
       "      <th>10_ac_ma</th>\n",
       "      <th>20_ac_ma</th>\n",
       "      <th>50_ac_ma</th>\n",
       "      <th>10_ac_bb_u</th>\n",
       "      <th>10_ac_bb_l</th>\n",
       "      <th>20_ac_bb_u</th>\n",
       "      <th>20_ac_bb_l</th>\n",
       "      <th>50_ac_bb_u</th>\n",
       "      <th>50_ac_bb_l</th>\n",
       "    </tr>\n",
       "    <tr>\n",
       "      <th>Date</th>\n",
       "      <th></th>\n",
       "      <th></th>\n",
       "      <th></th>\n",
       "      <th></th>\n",
       "      <th></th>\n",
       "      <th></th>\n",
       "      <th></th>\n",
       "      <th></th>\n",
       "      <th></th>\n",
       "      <th></th>\n",
       "      <th></th>\n",
       "      <th></th>\n",
       "      <th></th>\n",
       "      <th></th>\n",
       "      <th></th>\n",
       "    </tr>\n",
       "  </thead>\n",
       "  <tbody>\n",
       "    <tr>\n",
       "      <th>2004-08-19</th>\n",
       "      <td>50.050049</td>\n",
       "      <td>52.082081</td>\n",
       "      <td>48.028027</td>\n",
       "      <td>50.220219</td>\n",
       "      <td>50.220219</td>\n",
       "      <td>44659096</td>\n",
       "      <td>52.432933</td>\n",
       "      <td>52.692943</td>\n",
       "      <td>63.586987</td>\n",
       "      <td>55.781053</td>\n",
       "      <td>49.084813</td>\n",
       "      <td>56.933168</td>\n",
       "      <td>48.452718</td>\n",
       "      <td>88.331593</td>\n",
       "      <td>38.842381</td>\n",
       "    </tr>\n",
       "    <tr>\n",
       "      <th>2004-08-20</th>\n",
       "      <td>50.555557</td>\n",
       "      <td>54.594597</td>\n",
       "      <td>50.300301</td>\n",
       "      <td>54.209209</td>\n",
       "      <td>54.209209</td>\n",
       "      <td>22834343</td>\n",
       "      <td>52.432933</td>\n",
       "      <td>52.692943</td>\n",
       "      <td>63.586987</td>\n",
       "      <td>55.781053</td>\n",
       "      <td>49.084813</td>\n",
       "      <td>56.933168</td>\n",
       "      <td>48.452718</td>\n",
       "      <td>88.331593</td>\n",
       "      <td>38.842381</td>\n",
       "    </tr>\n",
       "    <tr>\n",
       "      <th>2004-08-23</th>\n",
       "      <td>55.430431</td>\n",
       "      <td>56.796799</td>\n",
       "      <td>54.579578</td>\n",
       "      <td>54.754753</td>\n",
       "      <td>54.754753</td>\n",
       "      <td>18256126</td>\n",
       "      <td>52.432933</td>\n",
       "      <td>52.692943</td>\n",
       "      <td>63.586987</td>\n",
       "      <td>55.781053</td>\n",
       "      <td>49.084813</td>\n",
       "      <td>56.933168</td>\n",
       "      <td>48.452718</td>\n",
       "      <td>88.331593</td>\n",
       "      <td>38.842381</td>\n",
       "    </tr>\n",
       "    <tr>\n",
       "      <th>2004-08-24</th>\n",
       "      <td>55.675674</td>\n",
       "      <td>55.855858</td>\n",
       "      <td>51.836838</td>\n",
       "      <td>52.487488</td>\n",
       "      <td>52.487488</td>\n",
       "      <td>15247337</td>\n",
       "      <td>52.432933</td>\n",
       "      <td>52.692943</td>\n",
       "      <td>63.586987</td>\n",
       "      <td>55.781053</td>\n",
       "      <td>49.084813</td>\n",
       "      <td>56.933168</td>\n",
       "      <td>48.452718</td>\n",
       "      <td>88.331593</td>\n",
       "      <td>38.842381</td>\n",
       "    </tr>\n",
       "    <tr>\n",
       "      <th>2004-08-25</th>\n",
       "      <td>52.532532</td>\n",
       "      <td>54.054054</td>\n",
       "      <td>51.991993</td>\n",
       "      <td>53.053055</td>\n",
       "      <td>53.053055</td>\n",
       "      <td>9188602</td>\n",
       "      <td>52.432933</td>\n",
       "      <td>52.692943</td>\n",
       "      <td>63.586987</td>\n",
       "      <td>55.781053</td>\n",
       "      <td>49.084813</td>\n",
       "      <td>56.933168</td>\n",
       "      <td>48.452718</td>\n",
       "      <td>88.331593</td>\n",
       "      <td>38.842381</td>\n",
       "    </tr>\n",
       "  </tbody>\n",
       "</table>\n",
       "</div>"
      ],
      "text/plain": [
       "                 Open       High        Low      Close  Adj Close    Volume  \\\n",
       "Date                                                                          \n",
       "2004-08-19  50.050049  52.082081  48.028027  50.220219  50.220219  44659096   \n",
       "2004-08-20  50.555557  54.594597  50.300301  54.209209  54.209209  22834343   \n",
       "2004-08-23  55.430431  56.796799  54.579578  54.754753  54.754753  18256126   \n",
       "2004-08-24  55.675674  55.855858  51.836838  52.487488  52.487488  15247337   \n",
       "2004-08-25  52.532532  54.054054  51.991993  53.053055  53.053055   9188602   \n",
       "\n",
       "             10_ac_ma   20_ac_ma   50_ac_ma  10_ac_bb_u  10_ac_bb_l  \\\n",
       "Date                                                                  \n",
       "2004-08-19  52.432933  52.692943  63.586987   55.781053   49.084813   \n",
       "2004-08-20  52.432933  52.692943  63.586987   55.781053   49.084813   \n",
       "2004-08-23  52.432933  52.692943  63.586987   55.781053   49.084813   \n",
       "2004-08-24  52.432933  52.692943  63.586987   55.781053   49.084813   \n",
       "2004-08-25  52.432933  52.692943  63.586987   55.781053   49.084813   \n",
       "\n",
       "            20_ac_bb_u  20_ac_bb_l  50_ac_bb_u  50_ac_bb_l  \n",
       "Date                                                        \n",
       "2004-08-19   56.933168   48.452718   88.331593   38.842381  \n",
       "2004-08-20   56.933168   48.452718   88.331593   38.842381  \n",
       "2004-08-23   56.933168   48.452718   88.331593   38.842381  \n",
       "2004-08-24   56.933168   48.452718   88.331593   38.842381  \n",
       "2004-08-25   56.933168   48.452718   88.331593   38.842381  "
      ]
     },
     "execution_count": 116,
     "metadata": {},
     "output_type": "execute_result"
    }
   ],
   "source": [
    "df_googl_train.head()"
   ]
  },
  {
   "cell_type": "code",
   "execution_count": 117,
   "id": "colored-duration",
   "metadata": {},
   "outputs": [
    {
     "data": {
      "text/html": [
       "<div>\n",
       "<style scoped>\n",
       "    .dataframe tbody tr th:only-of-type {\n",
       "        vertical-align: middle;\n",
       "    }\n",
       "\n",
       "    .dataframe tbody tr th {\n",
       "        vertical-align: top;\n",
       "    }\n",
       "\n",
       "    .dataframe thead th {\n",
       "        text-align: right;\n",
       "    }\n",
       "</style>\n",
       "<table border=\"1\" class=\"dataframe\">\n",
       "  <thead>\n",
       "    <tr style=\"text-align: right;\">\n",
       "      <th></th>\n",
       "      <th>Open</th>\n",
       "      <th>High</th>\n",
       "      <th>Low</th>\n",
       "      <th>Close</th>\n",
       "      <th>Adj Close</th>\n",
       "      <th>Volume</th>\n",
       "      <th>10_ac_ma</th>\n",
       "      <th>20_ac_ma</th>\n",
       "      <th>50_ac_ma</th>\n",
       "      <th>10_ac_bb_u</th>\n",
       "      <th>10_ac_bb_l</th>\n",
       "      <th>20_ac_bb_u</th>\n",
       "      <th>20_ac_bb_l</th>\n",
       "      <th>50_ac_bb_u</th>\n",
       "      <th>50_ac_bb_l</th>\n",
       "    </tr>\n",
       "    <tr>\n",
       "      <th>Date</th>\n",
       "      <th></th>\n",
       "      <th></th>\n",
       "      <th></th>\n",
       "      <th></th>\n",
       "      <th></th>\n",
       "      <th></th>\n",
       "      <th></th>\n",
       "      <th></th>\n",
       "      <th></th>\n",
       "      <th></th>\n",
       "      <th></th>\n",
       "      <th></th>\n",
       "      <th></th>\n",
       "      <th></th>\n",
       "      <th></th>\n",
       "    </tr>\n",
       "  </thead>\n",
       "  <tbody>\n",
       "    <tr>\n",
       "      <th>2004-08-19</th>\n",
       "      <td>50.050049</td>\n",
       "      <td>52.082081</td>\n",
       "      <td>48.028027</td>\n",
       "      <td>50.220219</td>\n",
       "      <td>50.220219</td>\n",
       "      <td>44659096</td>\n",
       "      <td>52.432933</td>\n",
       "      <td>52.692943</td>\n",
       "      <td>63.586987</td>\n",
       "      <td>55.781053</td>\n",
       "      <td>49.084813</td>\n",
       "      <td>56.933168</td>\n",
       "      <td>48.452718</td>\n",
       "      <td>88.331593</td>\n",
       "      <td>38.842381</td>\n",
       "    </tr>\n",
       "    <tr>\n",
       "      <th>2004-08-20</th>\n",
       "      <td>50.555557</td>\n",
       "      <td>54.594597</td>\n",
       "      <td>50.300301</td>\n",
       "      <td>54.209209</td>\n",
       "      <td>54.209209</td>\n",
       "      <td>22834343</td>\n",
       "      <td>52.432933</td>\n",
       "      <td>52.692943</td>\n",
       "      <td>63.586987</td>\n",
       "      <td>55.781053</td>\n",
       "      <td>49.084813</td>\n",
       "      <td>56.933168</td>\n",
       "      <td>48.452718</td>\n",
       "      <td>88.331593</td>\n",
       "      <td>38.842381</td>\n",
       "    </tr>\n",
       "    <tr>\n",
       "      <th>2004-08-23</th>\n",
       "      <td>55.430431</td>\n",
       "      <td>56.796799</td>\n",
       "      <td>54.579578</td>\n",
       "      <td>54.754753</td>\n",
       "      <td>54.754753</td>\n",
       "      <td>18256126</td>\n",
       "      <td>52.432933</td>\n",
       "      <td>52.692943</td>\n",
       "      <td>63.586987</td>\n",
       "      <td>55.781053</td>\n",
       "      <td>49.084813</td>\n",
       "      <td>56.933168</td>\n",
       "      <td>48.452718</td>\n",
       "      <td>88.331593</td>\n",
       "      <td>38.842381</td>\n",
       "    </tr>\n",
       "    <tr>\n",
       "      <th>2004-08-24</th>\n",
       "      <td>55.675674</td>\n",
       "      <td>55.855858</td>\n",
       "      <td>51.836838</td>\n",
       "      <td>52.487488</td>\n",
       "      <td>52.487488</td>\n",
       "      <td>15247337</td>\n",
       "      <td>52.432933</td>\n",
       "      <td>52.692943</td>\n",
       "      <td>63.586987</td>\n",
       "      <td>55.781053</td>\n",
       "      <td>49.084813</td>\n",
       "      <td>56.933168</td>\n",
       "      <td>48.452718</td>\n",
       "      <td>88.331593</td>\n",
       "      <td>38.842381</td>\n",
       "    </tr>\n",
       "    <tr>\n",
       "      <th>2004-08-25</th>\n",
       "      <td>52.532532</td>\n",
       "      <td>54.054054</td>\n",
       "      <td>51.991993</td>\n",
       "      <td>53.053055</td>\n",
       "      <td>53.053055</td>\n",
       "      <td>9188602</td>\n",
       "      <td>52.432933</td>\n",
       "      <td>52.692943</td>\n",
       "      <td>63.586987</td>\n",
       "      <td>55.781053</td>\n",
       "      <td>49.084813</td>\n",
       "      <td>56.933168</td>\n",
       "      <td>48.452718</td>\n",
       "      <td>88.331593</td>\n",
       "      <td>38.842381</td>\n",
       "    </tr>\n",
       "  </tbody>\n",
       "</table>\n",
       "</div>"
      ],
      "text/plain": [
       "                 Open       High        Low      Close  Adj Close    Volume  \\\n",
       "Date                                                                          \n",
       "2004-08-19  50.050049  52.082081  48.028027  50.220219  50.220219  44659096   \n",
       "2004-08-20  50.555557  54.594597  50.300301  54.209209  54.209209  22834343   \n",
       "2004-08-23  55.430431  56.796799  54.579578  54.754753  54.754753  18256126   \n",
       "2004-08-24  55.675674  55.855858  51.836838  52.487488  52.487488  15247337   \n",
       "2004-08-25  52.532532  54.054054  51.991993  53.053055  53.053055   9188602   \n",
       "\n",
       "             10_ac_ma   20_ac_ma   50_ac_ma  10_ac_bb_u  10_ac_bb_l  \\\n",
       "Date                                                                  \n",
       "2004-08-19  52.432933  52.692943  63.586987   55.781053   49.084813   \n",
       "2004-08-20  52.432933  52.692943  63.586987   55.781053   49.084813   \n",
       "2004-08-23  52.432933  52.692943  63.586987   55.781053   49.084813   \n",
       "2004-08-24  52.432933  52.692943  63.586987   55.781053   49.084813   \n",
       "2004-08-25  52.432933  52.692943  63.586987   55.781053   49.084813   \n",
       "\n",
       "            20_ac_bb_u  20_ac_bb_l  50_ac_bb_u  50_ac_bb_l  \n",
       "Date                                                        \n",
       "2004-08-19   56.933168   48.452718   88.331593   38.842381  \n",
       "2004-08-20   56.933168   48.452718   88.331593   38.842381  \n",
       "2004-08-23   56.933168   48.452718   88.331593   38.842381  \n",
       "2004-08-24   56.933168   48.452718   88.331593   38.842381  \n",
       "2004-08-25   56.933168   48.452718   88.331593   38.842381  "
      ]
     },
     "execution_count": 117,
     "metadata": {},
     "output_type": "execute_result"
    }
   ],
   "source": [
    "df_googl_test.head()"
   ]
  },
  {
   "cell_type": "code",
   "execution_count": 118,
   "id": "impressed-astronomy",
   "metadata": {},
   "outputs": [
    {
     "data": {
      "text/html": [
       "<div>\n",
       "<style scoped>\n",
       "    .dataframe tbody tr th:only-of-type {\n",
       "        vertical-align: middle;\n",
       "    }\n",
       "\n",
       "    .dataframe tbody tr th {\n",
       "        vertical-align: top;\n",
       "    }\n",
       "\n",
       "    .dataframe thead th {\n",
       "        text-align: right;\n",
       "    }\n",
       "</style>\n",
       "<table border=\"1\" class=\"dataframe\">\n",
       "  <thead>\n",
       "    <tr style=\"text-align: right;\">\n",
       "      <th></th>\n",
       "      <th>Open</th>\n",
       "      <th>High</th>\n",
       "      <th>Low</th>\n",
       "      <th>Close</th>\n",
       "      <th>Adj Close</th>\n",
       "      <th>Volume</th>\n",
       "      <th>10_ac_ma</th>\n",
       "      <th>20_ac_ma</th>\n",
       "      <th>50_ac_ma</th>\n",
       "      <th>10_ac_bb_u</th>\n",
       "      <th>10_ac_bb_l</th>\n",
       "      <th>20_ac_bb_u</th>\n",
       "      <th>20_ac_bb_l</th>\n",
       "      <th>50_ac_bb_u</th>\n",
       "      <th>50_ac_bb_l</th>\n",
       "    </tr>\n",
       "    <tr>\n",
       "      <th>Date</th>\n",
       "      <th></th>\n",
       "      <th></th>\n",
       "      <th></th>\n",
       "      <th></th>\n",
       "      <th></th>\n",
       "      <th></th>\n",
       "      <th></th>\n",
       "      <th></th>\n",
       "      <th></th>\n",
       "      <th></th>\n",
       "      <th></th>\n",
       "      <th></th>\n",
       "      <th></th>\n",
       "      <th></th>\n",
       "      <th></th>\n",
       "    </tr>\n",
       "  </thead>\n",
       "  <tbody>\n",
       "    <tr>\n",
       "      <th>2021-02-12</th>\n",
       "      <td>2079.770020</td>\n",
       "      <td>2099.500000</td>\n",
       "      <td>2073.570068</td>\n",
       "      <td>2095.030029</td>\n",
       "      <td>2095.030029</td>\n",
       "      <td>948500</td>\n",
       "      <td>2044.369971</td>\n",
       "      <td>1945.714978</td>\n",
       "      <td>1834.833992</td>\n",
       "      <td>2193.046774</td>\n",
       "      <td>1895.693167</td>\n",
       "      <td>2186.006374</td>\n",
       "      <td>1705.423582</td>\n",
       "      <td>2076.437444</td>\n",
       "      <td>1593.230539</td>\n",
       "    </tr>\n",
       "    <tr>\n",
       "      <th>2021-02-16</th>\n",
       "      <td>2091.750000</td>\n",
       "      <td>2145.139893</td>\n",
       "      <td>2091.750000</td>\n",
       "      <td>2110.699951</td>\n",
       "      <td>2110.699951</td>\n",
       "      <td>1550200</td>\n",
       "      <td>2066.132971</td>\n",
       "      <td>1964.868976</td>\n",
       "      <td>1840.548591</td>\n",
       "      <td>2174.673734</td>\n",
       "      <td>1957.592208</td>\n",
       "      <td>2192.710977</td>\n",
       "      <td>1737.026974</td>\n",
       "      <td>2094.405644</td>\n",
       "      <td>1586.691538</td>\n",
       "    </tr>\n",
       "    <tr>\n",
       "      <th>2021-02-17</th>\n",
       "      <td>2093.979980</td>\n",
       "      <td>2122.439941</td>\n",
       "      <td>2088.350098</td>\n",
       "      <td>2118.620117</td>\n",
       "      <td>2118.620117</td>\n",
       "      <td>1014700</td>\n",
       "      <td>2086.082983</td>\n",
       "      <td>1981.576483</td>\n",
       "      <td>1846.484194</td>\n",
       "      <td>2126.467383</td>\n",
       "      <td>2045.698584</td>\n",
       "      <td>2202.624080</td>\n",
       "      <td>1760.528886</td>\n",
       "      <td>2112.159135</td>\n",
       "      <td>1580.809254</td>\n",
       "    </tr>\n",
       "    <tr>\n",
       "      <th>2021-02-18</th>\n",
       "      <td>2105.000000</td>\n",
       "      <td>2121.989990</td>\n",
       "      <td>2093.330078</td>\n",
       "      <td>2105.810059</td>\n",
       "      <td>2105.810059</td>\n",
       "      <td>1127300</td>\n",
       "      <td>2090.776001</td>\n",
       "      <td>1992.863489</td>\n",
       "      <td>1852.125195</td>\n",
       "      <td>2127.885024</td>\n",
       "      <td>2053.666978</td>\n",
       "      <td>2215.137461</td>\n",
       "      <td>1770.589516</td>\n",
       "      <td>2127.626424</td>\n",
       "      <td>1576.623967</td>\n",
       "    </tr>\n",
       "    <tr>\n",
       "      <th>2021-02-19</th>\n",
       "      <td>2107.790039</td>\n",
       "      <td>2118.580078</td>\n",
       "      <td>2083.429932</td>\n",
       "      <td>2088.810059</td>\n",
       "      <td>2088.810059</td>\n",
       "      <td>1896900</td>\n",
       "      <td>2094.294019</td>\n",
       "      <td>2003.096490</td>\n",
       "      <td>1857.560796</td>\n",
       "      <td>2120.949812</td>\n",
       "      <td>2067.638226</td>\n",
       "      <td>2223.129983</td>\n",
       "      <td>1783.062998</td>\n",
       "      <td>2140.850093</td>\n",
       "      <td>1574.271498</td>\n",
       "    </tr>\n",
       "  </tbody>\n",
       "</table>\n",
       "</div>"
      ],
      "text/plain": [
       "                   Open         High          Low        Close    Adj Close  \\\n",
       "Date                                                                          \n",
       "2021-02-12  2079.770020  2099.500000  2073.570068  2095.030029  2095.030029   \n",
       "2021-02-16  2091.750000  2145.139893  2091.750000  2110.699951  2110.699951   \n",
       "2021-02-17  2093.979980  2122.439941  2088.350098  2118.620117  2118.620117   \n",
       "2021-02-18  2105.000000  2121.989990  2093.330078  2105.810059  2105.810059   \n",
       "2021-02-19  2107.790039  2118.580078  2083.429932  2088.810059  2088.810059   \n",
       "\n",
       "             Volume     10_ac_ma     20_ac_ma     50_ac_ma   10_ac_bb_u  \\\n",
       "Date                                                                      \n",
       "2021-02-12   948500  2044.369971  1945.714978  1834.833992  2193.046774   \n",
       "2021-02-16  1550200  2066.132971  1964.868976  1840.548591  2174.673734   \n",
       "2021-02-17  1014700  2086.082983  1981.576483  1846.484194  2126.467383   \n",
       "2021-02-18  1127300  2090.776001  1992.863489  1852.125195  2127.885024   \n",
       "2021-02-19  1896900  2094.294019  2003.096490  1857.560796  2120.949812   \n",
       "\n",
       "             10_ac_bb_l   20_ac_bb_u   20_ac_bb_l   50_ac_bb_u   50_ac_bb_l  \n",
       "Date                                                                         \n",
       "2021-02-12  1895.693167  2186.006374  1705.423582  2076.437444  1593.230539  \n",
       "2021-02-16  1957.592208  2192.710977  1737.026974  2094.405644  1586.691538  \n",
       "2021-02-17  2045.698584  2202.624080  1760.528886  2112.159135  1580.809254  \n",
       "2021-02-18  2053.666978  2215.137461  1770.589516  2127.626424  1576.623967  \n",
       "2021-02-19  2067.638226  2223.129983  1783.062998  2140.850093  1574.271498  "
      ]
     },
     "execution_count": 118,
     "metadata": {},
     "output_type": "execute_result"
    }
   ],
   "source": [
    "df_googl_valid.head()"
   ]
  },
  {
   "cell_type": "markdown",
   "id": "amazing-dealer",
   "metadata": {},
   "source": [
    "### Metrics computation"
   ]
  },
  {
   "cell_type": "markdown",
   "id": "stopped-trinity",
   "metadata": {},
   "source": [
    "Computing metrics on the benchmark model will give me a good reference to evaluate the deep learning model after training."
   ]
  },
  {
   "cell_type": "markdown",
   "id": "mechanical-bandwidth",
   "metadata": {},
   "source": [
    "As can be presumed and seen from data prints, first `n` values of validation data are `NaN` so, it will be better just to exclude the first `n-1` values from the validation set to avoid misleading values to be catch in metrics evaluation. "
   ]
  },
  {
   "cell_type": "code",
   "execution_count": 119,
   "id": "precious-highland",
   "metadata": {},
   "outputs": [],
   "source": [
    "from sklearn.metrics import mean_absolute_error, mean_squared_error, mean_absolute_percentage_error, r2_score"
   ]
  },
  {
   "cell_type": "markdown",
   "id": "spare-eleven",
   "metadata": {},
   "source": [
    "#### IBM stock"
   ]
  },
  {
   "cell_type": "code",
   "execution_count": 120,
   "id": "instrumental-death",
   "metadata": {},
   "outputs": [],
   "source": [
    "#n = 10\n",
    "#ma_str = str(n)+'_ac_ma'"
   ]
  },
  {
   "cell_type": "code",
   "execution_count": 121,
   "id": "powered-excitement",
   "metadata": {},
   "outputs": [],
   "source": [
    "#ibm_ma_mse_loss = mean_squared_error(df_ibm_valid.iloc[n-1:]['Adj Close'], df_ibm_valid.iloc[n-1:][ma_str])"
   ]
  },
  {
   "cell_type": "code",
   "execution_count": 122,
   "id": "expanded-sport",
   "metadata": {},
   "outputs": [],
   "source": [
    "#print(ibm_ma_mse_loss)"
   ]
  },
  {
   "cell_type": "code",
   "execution_count": 123,
   "id": "loaded-flush",
   "metadata": {},
   "outputs": [],
   "source": [
    "n = 20\n",
    "ma_str = str(n)+'_ac_ma'"
   ]
  },
  {
   "cell_type": "markdown",
   "id": "planned-franchise",
   "metadata": {},
   "source": [
    "Mean Absolute Error"
   ]
  },
  {
   "cell_type": "code",
   "execution_count": 124,
   "id": "systematic-privilege",
   "metadata": {},
   "outputs": [],
   "source": [
    "ibm_ma_mae_loss = mean_absolute_error(df_ibm_valid.iloc[:]['Adj Close'], df_ibm_valid[:][ma_str])"
   ]
  },
  {
   "cell_type": "code",
   "execution_count": 125,
   "id": "atlantic-executive",
   "metadata": {},
   "outputs": [
    {
     "name": "stdout",
     "output_type": "stream",
     "text": [
      "1.967003059387207\n"
     ]
    }
   ],
   "source": [
    "print(ibm_ma_mae_loss)"
   ]
  },
  {
   "cell_type": "markdown",
   "id": "abroad-lemon",
   "metadata": {},
   "source": [
    "Root Mean Squared Error"
   ]
  },
  {
   "cell_type": "code",
   "execution_count": 126,
   "id": "assisted-merit",
   "metadata": {},
   "outputs": [],
   "source": [
    "ibm_ma_mse_loss = mean_squared_error(df_ibm_valid.iloc[:]['Adj Close'], df_ibm_valid[:][ma_str], squared=False)"
   ]
  },
  {
   "cell_type": "code",
   "execution_count": 127,
   "id": "terminal-laptop",
   "metadata": {},
   "outputs": [
    {
     "name": "stdout",
     "output_type": "stream",
     "text": [
      "2.6612423160137473\n"
     ]
    }
   ],
   "source": [
    "print(ibm_ma_mse_loss)"
   ]
  },
  {
   "cell_type": "markdown",
   "id": "plastic-titanium",
   "metadata": {},
   "source": [
    "Mean Absolute Percentage Error"
   ]
  },
  {
   "cell_type": "code",
   "execution_count": 128,
   "id": "least-scoop",
   "metadata": {},
   "outputs": [],
   "source": [
    "ibm_ma_map_loss = mean_absolute_percentage_error(df_ibm_valid.iloc[:]['Adj Close'], df_ibm_valid[:][ma_str])"
   ]
  },
  {
   "cell_type": "code",
   "execution_count": 129,
   "id": "proprietary-omaha",
   "metadata": {},
   "outputs": [
    {
     "name": "stdout",
     "output_type": "stream",
     "text": [
      "0.015796526669715504\n"
     ]
    }
   ],
   "source": [
    "print(ibm_ma_map_loss)"
   ]
  },
  {
   "cell_type": "markdown",
   "id": "periodic-acrylic",
   "metadata": {},
   "source": [
    "R<sup>2</sup> score"
   ]
  },
  {
   "cell_type": "code",
   "execution_count": 130,
   "id": "together-conditions",
   "metadata": {},
   "outputs": [],
   "source": [
    "ibm_ma_r2_score = r2_score(df_ibm_valid.iloc[:]['Adj Close'], df_ibm_valid[:][ma_str])"
   ]
  },
  {
   "cell_type": "code",
   "execution_count": 131,
   "id": "hidden-retailer",
   "metadata": {},
   "outputs": [
    {
     "name": "stdout",
     "output_type": "stream",
     "text": [
      "0.034349484114639006\n"
     ]
    }
   ],
   "source": [
    "print(ibm_ma_r2_score)"
   ]
  },
  {
   "cell_type": "code",
   "execution_count": 132,
   "id": "broadband-screen",
   "metadata": {},
   "outputs": [],
   "source": [
    "#n = 50\n",
    "#ma_str = str(n)+'_ac_ma'"
   ]
  },
  {
   "cell_type": "code",
   "execution_count": 133,
   "id": "tough-acrylic",
   "metadata": {},
   "outputs": [],
   "source": [
    "#ibm_ma_mse_loss = mean_squared_error(df_ibm_valid.iloc[n-1:]['Adj Close'], df_ibm_valid[n-1:][ma_str])"
   ]
  },
  {
   "cell_type": "code",
   "execution_count": 134,
   "id": "editorial-strengthening",
   "metadata": {},
   "outputs": [],
   "source": [
    "#print(ibm_ma_mse_loss)"
   ]
  },
  {
   "cell_type": "markdown",
   "id": "behavioral-jordan",
   "metadata": {},
   "source": [
    "#### Apple Inc. stock"
   ]
  },
  {
   "cell_type": "code",
   "execution_count": 135,
   "id": "searching-mission",
   "metadata": {},
   "outputs": [],
   "source": [
    "#n = 10\n",
    "#ma_str = str(n)+'_ac_ma'"
   ]
  },
  {
   "cell_type": "code",
   "execution_count": 136,
   "id": "excess-tuning",
   "metadata": {},
   "outputs": [],
   "source": [
    "#aapl_ma_mse_loss = mean_squared_error(df_aapl_valid.iloc[n-1:]['Adj Close'], df_aapl_valid.iloc[n-1:][ma_str])"
   ]
  },
  {
   "cell_type": "code",
   "execution_count": 137,
   "id": "noble-session",
   "metadata": {},
   "outputs": [],
   "source": [
    "#print(aapl_ma_mse_loss)"
   ]
  },
  {
   "cell_type": "code",
   "execution_count": 138,
   "id": "after-haiti",
   "metadata": {},
   "outputs": [],
   "source": [
    "n = 20\n",
    "ma_str = str(n)+'_ac_ma'"
   ]
  },
  {
   "cell_type": "markdown",
   "id": "verbal-cattle",
   "metadata": {},
   "source": [
    "Mean Absolute Error"
   ]
  },
  {
   "cell_type": "code",
   "execution_count": 139,
   "id": "liked-viewer",
   "metadata": {},
   "outputs": [],
   "source": [
    "aapl_ma_mae_loss = mean_absolute_error(df_aapl_valid.iloc[:]['Adj Close'], df_aapl_valid[:][ma_str])"
   ]
  },
  {
   "cell_type": "code",
   "execution_count": 140,
   "id": "certified-convertible",
   "metadata": {},
   "outputs": [
    {
     "name": "stdout",
     "output_type": "stream",
     "text": [
      "6.613441658020018\n"
     ]
    }
   ],
   "source": [
    "print(aapl_ma_mae_loss)"
   ]
  },
  {
   "cell_type": "markdown",
   "id": "future-adaptation",
   "metadata": {},
   "source": [
    "##### Root Mean Squared Error"
   ]
  },
  {
   "cell_type": "code",
   "execution_count": 141,
   "id": "departmental-insulin",
   "metadata": {},
   "outputs": [],
   "source": [
    "aapl_ma_rmse_loss = mean_squared_error(df_aapl_valid.iloc[:]['Adj Close'], df_aapl_valid[:][ma_str], squared=False)"
   ]
  },
  {
   "cell_type": "code",
   "execution_count": 142,
   "id": "forward-street",
   "metadata": {},
   "outputs": [
    {
     "name": "stdout",
     "output_type": "stream",
     "text": [
      "7.211482715323648\n"
     ]
    }
   ],
   "source": [
    "print(aapl_ma_rmse_loss)"
   ]
  },
  {
   "cell_type": "markdown",
   "id": "static-forwarding",
   "metadata": {},
   "source": [
    "##### Mean Absolute Percentage Error"
   ]
  },
  {
   "cell_type": "code",
   "execution_count": 143,
   "id": "rental-austria",
   "metadata": {},
   "outputs": [],
   "source": [
    "aapl_ma_map_loss = mean_absolute_percentage_error(df_aapl_valid.iloc[:]['Adj Close'], df_aapl_valid[:][ma_str])"
   ]
  },
  {
   "cell_type": "code",
   "execution_count": 144,
   "id": "vanilla-register",
   "metadata": {},
   "outputs": [
    {
     "name": "stdout",
     "output_type": "stream",
     "text": [
      "0.0536576634924276\n"
     ]
    }
   ],
   "source": [
    "print(aapl_ma_map_loss)"
   ]
  },
  {
   "cell_type": "markdown",
   "id": "fifty-magnitude",
   "metadata": {},
   "source": [
    "R<sup>2</sup> score"
   ]
  },
  {
   "cell_type": "code",
   "execution_count": 145,
   "id": "romantic-retrieval",
   "metadata": {},
   "outputs": [],
   "source": [
    "aapl_ma_r2_score = r2_score(df_aapl_valid.iloc[:]['Adj Close'], df_aapl_valid[:][ma_str])"
   ]
  },
  {
   "cell_type": "code",
   "execution_count": 146,
   "id": "harmful-lafayette",
   "metadata": {},
   "outputs": [
    {
     "name": "stdout",
     "output_type": "stream",
     "text": [
      "-1.1732421328209632\n"
     ]
    }
   ],
   "source": [
    "print(aapl_ma_r2_score)"
   ]
  },
  {
   "cell_type": "code",
   "execution_count": 147,
   "id": "intensive-triumph",
   "metadata": {},
   "outputs": [],
   "source": [
    "#n = 50\n",
    "#ma_str = str(n)+'_ac_ma'"
   ]
  },
  {
   "cell_type": "code",
   "execution_count": 148,
   "id": "massive-radius",
   "metadata": {},
   "outputs": [],
   "source": [
    "#aapl_ma_mse_loss = mean_squared_error(df_aapl_valid.iloc[n-1:]['Adj Close'], df_aapl_valid[n-1:][ma_str])"
   ]
  },
  {
   "cell_type": "code",
   "execution_count": 149,
   "id": "specified-foundation",
   "metadata": {},
   "outputs": [],
   "source": [
    "#print(aapl_ma_mse_loss)"
   ]
  },
  {
   "cell_type": "markdown",
   "id": "lined-panel",
   "metadata": {},
   "source": [
    "#### Amazon.com stock"
   ]
  },
  {
   "cell_type": "code",
   "execution_count": 150,
   "id": "descending-policy",
   "metadata": {},
   "outputs": [],
   "source": [
    "#n = 10\n",
    "#ma_str = str(n)+'_ac_ma'"
   ]
  },
  {
   "cell_type": "code",
   "execution_count": 151,
   "id": "sitting-chapter",
   "metadata": {},
   "outputs": [],
   "source": [
    "#amzn_ma_mse_loss = mean_squared_error(df_amzn_valid.iloc[n-1:]['Adj Close'], df_amzn_valid.iloc[n-1:][ma_str])"
   ]
  },
  {
   "cell_type": "code",
   "execution_count": 152,
   "id": "irish-parallel",
   "metadata": {},
   "outputs": [],
   "source": [
    "#print(amzn_ma_mse_loss)"
   ]
  },
  {
   "cell_type": "code",
   "execution_count": 153,
   "id": "stainless-monthly",
   "metadata": {},
   "outputs": [],
   "source": [
    "n = 20\n",
    "ma_str = str(n)+'_ac_ma'"
   ]
  },
  {
   "cell_type": "markdown",
   "id": "postal-captain",
   "metadata": {},
   "source": [
    "Mean Absolute Error"
   ]
  },
  {
   "cell_type": "code",
   "execution_count": 154,
   "id": "oriental-mystery",
   "metadata": {},
   "outputs": [],
   "source": [
    "amzn_ma_mae_loss = mean_absolute_error(df_amzn_valid.iloc[:]['Adj Close'], df_amzn_valid[:][ma_str])"
   ]
  },
  {
   "cell_type": "code",
   "execution_count": 155,
   "id": "hearing-region",
   "metadata": {},
   "outputs": [
    {
     "name": "stdout",
     "output_type": "stream",
     "text": [
      "109.5103369140625\n"
     ]
    }
   ],
   "source": [
    "print(amzn_ma_mae_loss)"
   ]
  },
  {
   "cell_type": "markdown",
   "id": "threaded-confusion",
   "metadata": {},
   "source": [
    "Root Mean Squared Error"
   ]
  },
  {
   "cell_type": "code",
   "execution_count": 156,
   "id": "permanent-waterproof",
   "metadata": {},
   "outputs": [],
   "source": [
    "amzn_ma_rmse_loss = mean_squared_error(df_amzn_valid.iloc[:]['Adj Close'], df_amzn_valid[:][ma_str], squared=False)"
   ]
  },
  {
   "cell_type": "code",
   "execution_count": 157,
   "id": "attended-frederick",
   "metadata": {},
   "outputs": [
    {
     "name": "stdout",
     "output_type": "stream",
     "text": [
      "133.2964148560102\n"
     ]
    }
   ],
   "source": [
    "print(amzn_ma_rmse_loss)"
   ]
  },
  {
   "cell_type": "markdown",
   "id": "presidential-amplifier",
   "metadata": {},
   "source": [
    "##### Mean Absolute Percentage Error"
   ]
  },
  {
   "cell_type": "code",
   "execution_count": 158,
   "id": "finished-donor",
   "metadata": {},
   "outputs": [],
   "source": [
    "amzn_ma_map_loss = mean_absolute_percentage_error(df_amzn_valid.iloc[:]['Adj Close'], df_amzn_valid[:][ma_str])"
   ]
  },
  {
   "cell_type": "code",
   "execution_count": 159,
   "id": "spare-chain",
   "metadata": {},
   "outputs": [
    {
     "name": "stdout",
     "output_type": "stream",
     "text": [
      "0.03572878093904378\n"
     ]
    }
   ],
   "source": [
    "print(amzn_ma_map_loss)"
   ]
  },
  {
   "cell_type": "markdown",
   "id": "broke-vessel",
   "metadata": {},
   "source": [
    "R<sup>2</sup> score"
   ]
  },
  {
   "cell_type": "code",
   "execution_count": 160,
   "id": "crazy-taylor",
   "metadata": {},
   "outputs": [],
   "source": [
    "amzn_ma_r2_score = r2_score(df_amzn_valid.iloc[:]['Adj Close'], df_amzn_valid[:][ma_str])"
   ]
  },
  {
   "cell_type": "code",
   "execution_count": 161,
   "id": "unlikely-reality",
   "metadata": {},
   "outputs": [
    {
     "name": "stdout",
     "output_type": "stream",
     "text": [
      "-0.47148656289280555\n"
     ]
    }
   ],
   "source": [
    "print(amzn_ma_r2_score)"
   ]
  },
  {
   "cell_type": "code",
   "execution_count": 162,
   "id": "separated-costume",
   "metadata": {},
   "outputs": [],
   "source": [
    "#n = 50\n",
    "#ma_str = str(n)+'_ac_ma'"
   ]
  },
  {
   "cell_type": "code",
   "execution_count": 163,
   "id": "regulation-habitat",
   "metadata": {},
   "outputs": [],
   "source": [
    "#amzn_ma_mse_loss = mean_squared_error(df_amzn_valid.iloc[n-1:]['Adj Close'], df_amzn_valid[n-1:][ma_str])"
   ]
  },
  {
   "cell_type": "code",
   "execution_count": 164,
   "id": "cardiac-elimination",
   "metadata": {},
   "outputs": [],
   "source": [
    "#print(amzn_ma_mse_loss)"
   ]
  },
  {
   "cell_type": "markdown",
   "id": "romance-motorcycle",
   "metadata": {},
   "source": [
    "#### Alphabet Inc. stock"
   ]
  },
  {
   "cell_type": "code",
   "execution_count": 165,
   "id": "focused-serbia",
   "metadata": {},
   "outputs": [],
   "source": [
    "#n = 10\n",
    "#ma_str = str(n)+'_ac_ma'"
   ]
  },
  {
   "cell_type": "code",
   "execution_count": 166,
   "id": "mathematical-replica",
   "metadata": {},
   "outputs": [],
   "source": [
    "#googl_ma_mse_loss = mean_squared_error(df_googl_valid.iloc[n-1:]['Adj Close'], df_googl_valid.iloc[n-1:][ma_str])"
   ]
  },
  {
   "cell_type": "code",
   "execution_count": 167,
   "id": "occupied-boards",
   "metadata": {},
   "outputs": [],
   "source": [
    "#print(googl_ma_mse_loss)"
   ]
  },
  {
   "cell_type": "code",
   "execution_count": 168,
   "id": "specified-queens",
   "metadata": {},
   "outputs": [],
   "source": [
    "n = 20\n",
    "ma_str = str(n)+'_ac_ma'"
   ]
  },
  {
   "cell_type": "markdown",
   "id": "constant-worcester",
   "metadata": {},
   "source": [
    "Mean Absolute Error"
   ]
  },
  {
   "cell_type": "code",
   "execution_count": 169,
   "id": "catholic-catch",
   "metadata": {},
   "outputs": [],
   "source": [
    "googl_ma_mae_loss = mean_absolute_error(df_googl_valid.iloc[n-1:]['Adj Close'], df_googl_valid[n-1:][ma_str])"
   ]
  },
  {
   "cell_type": "code",
   "execution_count": 170,
   "id": "convenient-split",
   "metadata": {},
   "outputs": [
    {
     "name": "stdout",
     "output_type": "stream",
     "text": [
      "13.308020019531341\n"
     ]
    }
   ],
   "source": [
    "print(googl_ma_mae_loss)"
   ]
  },
  {
   "cell_type": "markdown",
   "id": "standing-suggestion",
   "metadata": {},
   "source": [
    "Root Mean Squared Error"
   ]
  },
  {
   "cell_type": "code",
   "execution_count": 171,
   "id": "outstanding-gregory",
   "metadata": {},
   "outputs": [],
   "source": [
    "googl_ma_rmse_loss = mean_squared_error(df_googl_valid.iloc[n-1:]['Adj Close'], df_googl_valid[n-1:][ma_str], squared=False)"
   ]
  },
  {
   "cell_type": "code",
   "execution_count": 172,
   "id": "rotary-sculpture",
   "metadata": {},
   "outputs": [
    {
     "name": "stdout",
     "output_type": "stream",
     "text": [
      "13.308020019531341\n"
     ]
    }
   ],
   "source": [
    "print(googl_ma_rmse_loss)"
   ]
  },
  {
   "cell_type": "markdown",
   "id": "going-daughter",
   "metadata": {},
   "source": [
    "##### Mean Absolute Percentage Error"
   ]
  },
  {
   "cell_type": "code",
   "execution_count": 173,
   "id": "studied-donor",
   "metadata": {},
   "outputs": [],
   "source": [
    "googl_ma_map_loss = mean_absolute_percentage_error(df_googl_valid.iloc[:]['Adj Close'], df_googl_valid[:][ma_str])"
   ]
  },
  {
   "cell_type": "code",
   "execution_count": 174,
   "id": "voluntary-isolation",
   "metadata": {},
   "outputs": [
    {
     "name": "stdout",
     "output_type": "stream",
     "text": [
      "0.026854600167504194\n"
     ]
    }
   ],
   "source": [
    "print(googl_ma_map_loss)"
   ]
  },
  {
   "cell_type": "markdown",
   "id": "racial-brighton",
   "metadata": {},
   "source": [
    "R<sup>2</sup> score"
   ]
  },
  {
   "cell_type": "code",
   "execution_count": 175,
   "id": "quality-overhead",
   "metadata": {},
   "outputs": [],
   "source": [
    "googl_ma_r2_score = r2_score(df_googl_valid.iloc[:]['Adj Close'], df_googl_valid[:][ma_str])"
   ]
  },
  {
   "cell_type": "code",
   "execution_count": 176,
   "id": "nasty-railway",
   "metadata": {},
   "outputs": [
    {
     "name": "stdout",
     "output_type": "stream",
     "text": [
      "-3.286440773721985\n"
     ]
    }
   ],
   "source": [
    "print(googl_ma_r2_score)"
   ]
  },
  {
   "cell_type": "code",
   "execution_count": 177,
   "id": "characteristic-steps",
   "metadata": {},
   "outputs": [],
   "source": [
    "#n = 50\n",
    "#ma_str = str(n)+'_ac_ma'"
   ]
  },
  {
   "cell_type": "code",
   "execution_count": 178,
   "id": "suburban-guyana",
   "metadata": {},
   "outputs": [],
   "source": [
    "#googl_ma_mse_loss = mean_squared_error(df_googl_valid.iloc[n-1:]['Adj Close'], df_googl_valid[n-1:][ma_str])"
   ]
  },
  {
   "cell_type": "code",
   "execution_count": 179,
   "id": "bottom-paper",
   "metadata": {},
   "outputs": [],
   "source": [
    "#print(googl_ma_mse_loss)"
   ]
  },
  {
   "cell_type": "markdown",
   "id": "later-oxygen",
   "metadata": {},
   "source": [
    "Volatility"
   ]
  },
  {
   "cell_type": "code",
   "execution_count": 180,
   "id": "saving-michael",
   "metadata": {},
   "outputs": [
    {
     "name": "stdout",
     "output_type": "stream",
     "text": [
      "0.3860070735539271\n"
     ]
    }
   ],
   "source": [
    "print(volatility(df_ibm_valid['Adj Close'], n))"
   ]
  },
  {
   "cell_type": "code",
   "execution_count": 181,
   "id": "acquired-shooting",
   "metadata": {},
   "outputs": [
    {
     "name": "stdout",
     "output_type": "stream",
     "text": [
      "1.259468809490453\n"
     ]
    }
   ],
   "source": [
    "print(volatility(df_aapl_valid['Adj Close'], n))"
   ]
  },
  {
   "cell_type": "code",
   "execution_count": 182,
   "id": "exotic-mistake",
   "metadata": {},
   "outputs": [
    {
     "name": "stdout",
     "output_type": "stream",
     "text": [
      "635.5168004043696\n"
     ]
    }
   ],
   "source": [
    "print(volatility(df_amzn_valid['Adj Close'], n))"
   ]
  },
  {
   "cell_type": "code",
   "execution_count": 183,
   "id": "forbidden-daughter",
   "metadata": {},
   "outputs": [
    {
     "name": "stdout",
     "output_type": "stream",
     "text": [
      "62.93514491077347\n"
     ]
    }
   ],
   "source": [
    "print(volatility(df_googl_valid['Adj Close'], n))"
   ]
  },
  {
   "cell_type": "markdown",
   "id": "therapeutic-heading",
   "metadata": {},
   "source": [
    "As expected, loss augments as we observe moving average on larger windows.\n",
    "Also, we can observe that Amazon.com and Alphabet Inc. have greater losses, that also corresponds to higher volatility."
   ]
  },
  {
   "cell_type": "code",
   "execution_count": null,
   "id": "nonprofit-basic",
   "metadata": {},
   "outputs": [],
   "source": []
  }
 ],
 "metadata": {
  "kernelspec": {
   "display_name": "conda_pytorch_p36",
   "language": "python",
   "name": "conda_pytorch_p36"
  },
  "language_info": {
   "codemirror_mode": {
    "name": "ipython",
    "version": 3
   },
   "file_extension": ".py",
   "mimetype": "text/x-python",
   "name": "python",
   "nbconvert_exporter": "python",
   "pygments_lexer": "ipython3",
   "version": "3.6.13"
  }
 },
 "nbformat": 4,
 "nbformat_minor": 5
}
